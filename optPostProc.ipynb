{
 "cells": [
  {
   "cell_type": "markdown",
   "id": "504ca757",
   "metadata": {},
   "source": [
    "### Imports"
   ]
  },
  {
   "cell_type": "code",
   "execution_count": 1,
   "id": "dd4cf939",
   "metadata": {},
   "outputs": [],
   "source": [
    "import os\n",
    "import numpy as np\n",
    "import matplotlib.pyplot as plt\n",
    "from pprint import pprint"
   ]
  },
  {
   "cell_type": "code",
   "execution_count": 2,
   "id": "09fa1559",
   "metadata": {},
   "outputs": [],
   "source": [
    "%matplotlib inline \n",
    "plt.set_loglevel(\"info\") "
   ]
  },
  {
   "cell_type": "code",
   "execution_count": 3,
   "id": "807f1e85",
   "metadata": {},
   "outputs": [],
   "source": [
    "from pymoo.visualization.scatter import Scatter"
   ]
  },
  {
   "cell_type": "code",
   "execution_count": 4,
   "id": "80cb42ab",
   "metadata": {
    "scrolled": true
   },
   "outputs": [
    {
     "name": "stderr",
     "output_type": "stream",
     "text": [
      "2022-03-11 12:00:33,289 :: INFO     :: root :: ~~~~~~~~~~~~~~~~~~~~~~~~~~~~~~\n",
      "2022-03-11 12:00:33,290 :: INFO     :: root :: NEW RUN\n",
      "2022-03-11 12:00:33,291 :: INFO     :: root :: OPTIMIZATION STUDY - OscCylX2\n",
      "2022-03-11 12:00:33,292 :: INFO     :: root :: \tData Directory: optStudy-OscCylX2\n",
      "2022-03-11 12:00:33,293 :: INFO     :: root :: \tCheckpoint Path: optStudy-OscCylX2/OscCylX2-CP\n",
      "2022-03-11 12:00:33,301 :: INFO     :: root :: \tCHECKPOINT LOADED: optStudy-OscCylX2/OscCylX2-CP.npy\n",
      "2022-03-11 12:00:33,302 :: DEBUG    :: root :: \tRESTART DICTONARY\n",
      "2022-03-11 12:00:33,303 :: DEBUG    :: root :: \t\toptName: OscCylX2\n",
      "2022-03-11 12:00:33,303 :: DEBUG    :: root :: \t\tlogger: <RootLogger root (DEBUG)>\n",
      "2022-03-11 12:00:33,305 :: DEBUG    :: root :: \t\toptDatDir: optStudy-OscCylX2\n",
      "2022-03-11 12:00:33,306 :: DEBUG    :: root :: \t\tCP_path: optStudy-OscCylX2/OscCylX2-CP\n",
      "2022-03-11 12:00:33,307 :: DEBUG    :: root :: \tCHECKPOINT DICTONARY\n",
      "2022-03-11 12:00:33,308 :: DEBUG    :: root :: \t\toptName: OscCylX2\n",
      "2022-03-11 12:00:33,309 :: DEBUG    :: root :: \t\tlogger: <RootLogger root (DEBUG)>\n",
      "2022-03-11 12:00:33,310 :: DEBUG    :: root :: \t\toptDatDir: optStudy-OscCylX2\n",
      "2022-03-11 12:00:33,310 :: DEBUG    :: root :: \t\tCP_path: optStudy-OscCylX2/OscCylX2-CP\n",
      "2022-03-11 12:00:33,311 :: DEBUG    :: root :: \t\tproblem: # name: GA_CFD\n",
      "2022-03-11 12:00:33,311 :: DEBUG    :: root :: # n_var: 2\n",
      "2022-03-11 12:00:33,311 :: DEBUG    :: root :: # n_obj: 2\n",
      "2022-03-11 12:00:33,311 :: DEBUG    :: root :: # n_constr: 0\n",
      "2022-03-11 12:00:33,311 :: DEBUG    :: root :: \n",
      "2022-03-11 12:00:33,312 :: DEBUG    :: root :: \t\talgorithm: <pymoo.algorithms.moo.nsga2.NSGA2 object at 0x7ff7298fa3a0>\n",
      "2022-03-11 12:00:33,313 :: DEBUG    :: root :: \t\tBaseCase: <class 'pymooCFD.studies.oscillCyl_x2.OscillCylinder'>\n",
      "2022-03-11 12:00:33,314 :: DEBUG    :: root :: \t\tarchiveDir: optStudy-OscCylX2/archive\n",
      "2022-03-11 12:00:33,315 :: DEBUG    :: root :: \t\tn_CP: 10\n",
      "2022-03-11 12:00:33,315 :: DEBUG    :: root :: \t\trunDir: optStudy-OscCylX2/run\n",
      "2022-03-11 12:00:33,316 :: DEBUG    :: root :: \t\tn_opt: 20\n",
      "2022-03-11 12:00:33,317 :: DEBUG    :: root :: \t\tplotDir: optStudy-OscCylX2/run/plots\n",
      "2022-03-11 12:00:33,318 :: DEBUG    :: root :: \t\tmapDir: optStudy-OscCylX2/run/mapGen1\n",
      "2022-03-11 12:00:33,318 :: DEBUG    :: root :: \t\tgen1Pop: [<pymooCFD.studies.oscillCyl_x2.OscillCylinder object at 0x7ff7296834c0>, <pymooCFD.studies.oscillCyl_x2.OscillCylinder object at 0x7ff729683790>, <pymooCFD.studies.oscillCyl_x2.OscillCylinder object at 0x7ff729683940>, <pymooCFD.studies.oscillCyl_x2.OscillCylinder object at 0x7ff729683af0>, <pymooCFD.studies.oscillCyl_x2.OscillCylinder object at 0x7ff729683ca0>, <pymooCFD.studies.oscillCyl_x2.OscillCylinder object at 0x7ff729683e50>, <pymooCFD.studies.oscillCyl_x2.OscillCylinder object at 0x7ff72968c040>, <pymooCFD.studies.oscillCyl_x2.OscillCylinder object at 0x7ff72968c1f0>, <pymooCFD.studies.oscillCyl_x2.OscillCylinder object at 0x7ff72968c3a0>, <pymooCFD.studies.oscillCyl_x2.OscillCylinder object at 0x7ff72968c550>, <pymooCFD.studies.oscillCyl_x2.OscillCylinder object at 0x7ff72968c700>, <pymooCFD.studies.oscillCyl_x2.OscillCylinder object at 0x7ff72968c8b0>, <pymooCFD.studies.oscillCyl_x2.OscillCylinder object at 0x7ff72968ca60>, <pymooCFD.studies.oscillCyl_x2.OscillCylinder object at 0x7ff72968cc10>, <pymooCFD.studies.oscillCyl_x2.OscillCylinder object at 0x7ff72968cdc0>, <pymooCFD.studies.oscillCyl_x2.OscillCylinder object at 0x7ff72968cf70>, <pymooCFD.studies.oscillCyl_x2.OscillCylinder object at 0x7ff729691160>, <pymooCFD.studies.oscillCyl_x2.OscillCylinder object at 0x7ff729691310>, <pymooCFD.studies.oscillCyl_x2.OscillCylinder object at 0x7ff7296914c0>, <pymooCFD.studies.oscillCyl_x2.OscillCylinder object at 0x7ff729691670>, <pymooCFD.studies.oscillCyl_x2.OscillCylinder object at 0x7ff729691820>, <pymooCFD.studies.oscillCyl_x2.OscillCylinder object at 0x7ff7296919d0>, <pymooCFD.studies.oscillCyl_x2.OscillCylinder object at 0x7ff729691b80>, <pymooCFD.studies.oscillCyl_x2.OscillCylinder object at 0x7ff729691d30>, <pymooCFD.studies.oscillCyl_x2.OscillCylinder object at 0x7ff729691ee0>, <pymooCFD.studies.oscillCyl_x2.OscillCylinder object at 0x7ff7296970d0>, <pymooCFD.studies.oscillCyl_x2.OscillCylinder object at 0x7ff729697280>, <pymooCFD.studies.oscillCyl_x2.OscillCylinder object at 0x7ff729697430>, <pymooCFD.studies.oscillCyl_x2.OscillCylinder object at 0x7ff7296975e0>, <pymooCFD.studies.oscillCyl_x2.OscillCylinder object at 0x7ff729697790>, <pymooCFD.studies.oscillCyl_x2.OscillCylinder object at 0x7ff729697940>, <pymooCFD.studies.oscillCyl_x2.OscillCylinder object at 0x7ff729697af0>, <pymooCFD.studies.oscillCyl_x2.OscillCylinder object at 0x7ff729697ca0>, <pymooCFD.studies.oscillCyl_x2.OscillCylinder object at 0x7ff729697e50>, <pymooCFD.studies.oscillCyl_x2.OscillCylinder object at 0x7ff72969c040>, <pymooCFD.studies.oscillCyl_x2.OscillCylinder object at 0x7ff72969c1f0>, <pymooCFD.studies.oscillCyl_x2.OscillCylinder object at 0x7ff72969c3a0>, <pymooCFD.studies.oscillCyl_x2.OscillCylinder object at 0x7ff72969c550>, <pymooCFD.studies.oscillCyl_x2.OscillCylinder object at 0x7ff72969c700>, <pymooCFD.studies.oscillCyl_x2.OscillCylinder object at 0x7ff72969c8b0>, <pymooCFD.studies.oscillCyl_x2.OscillCylinder object at 0x7ff72969ca60>, <pymooCFD.studies.oscillCyl_x2.OscillCylinder object at 0x7ff72969cc10>, <pymooCFD.studies.oscillCyl_x2.OscillCylinder object at 0x7ff72969cdc0>, <pymooCFD.studies.oscillCyl_x2.OscillCylinder object at 0x7ff72969cf70>, <pymooCFD.studies.oscillCyl_x2.OscillCylinder object at 0x7ff7296a3160>, <pymooCFD.studies.oscillCyl_x2.OscillCylinder object at 0x7ff7296a3310>, <pymooCFD.studies.oscillCyl_x2.OscillCylinder object at 0x7ff7296a34c0>, <pymooCFD.studies.oscillCyl_x2.OscillCylinder object at 0x7ff7296a3670>, <pymooCFD.studies.oscillCyl_x2.OscillCylinder object at 0x7ff7296a3820>, <pymooCFD.studies.oscillCyl_x2.OscillCylinder object at 0x7ff7296a39d0>]\n",
      "2022-03-11 12:00:33,320 :: DEBUG    :: root :: \t\tcornerCases: None\n",
      "2022-03-11 12:00:33,321 :: DEBUG    :: root :: \t\tbndCases: [<pymooCFD.studies.oscillCyl_x2.OscillCylinder object at 0x7ff7296a3b80>, <pymooCFD.studies.oscillCyl_x2.OscillCylinder object at 0x7ff7296abbe0>, <pymooCFD.studies.oscillCyl_x2.OscillCylinder object at 0x7ff7296abd90>, <pymooCFD.studies.oscillCyl_x2.OscillCylinder object at 0x7ff7296abf40>, <pymooCFD.studies.oscillCyl_x2.OscillCylinder object at 0x7ff7296331f0>, <pymooCFD.studies.oscillCyl_x2.OscillCylinder object at 0x7ff7296333a0>, <pymooCFD.studies.oscillCyl_x2.OscillCylinder object at 0x7ff729633610>, <pymooCFD.studies.oscillCyl_x2.OscillCylinder object at 0x7ff7296337c0>]\n",
      "2022-03-11 12:00:33,322 :: DEBUG    :: root :: \t\ttestCase: Directory: optStudy-OscCylX2/run/test_case | Parameters: [1.8  0.55] | Objectives: [1.3655717708952229, 0.05681899678081813]\n",
      "2022-03-11 12:00:33,323 :: DEBUG    :: root :: \tOPTIMIZATION ALGORITHM DICTONARY:\n",
      "2022-03-11 12:00:33,324 :: DEBUG    :: root :: \t\ttermination: <pymoo.util.termination.max_gen.MaximumGenerationTermination object at 0x7ff7298fa6a0>\n",
      "2022-03-11 12:00:33,325 :: DEBUG    :: root :: \t\tdisplay: <pymooCFD.studies.oscillCyl_x2.MyDisplay object at 0x7ff7298fa640>\n",
      "2022-03-11 12:00:33,326 :: DEBUG    :: root :: \t\tcallback: <pymooCFD.studies.oscillCyl_x2.MyCallback object at 0x7ff7298fa550>\n",
      "2022-03-11 12:00:33,329 :: DEBUG    :: root :: \t\tproblem: # name: GA_CFD\n",
      "2022-03-11 12:00:33,329 :: DEBUG    :: root :: # n_var: 2\n",
      "2022-03-11 12:00:33,329 :: DEBUG    :: root :: # n_obj: 2\n",
      "2022-03-11 12:00:33,329 :: DEBUG    :: root :: # n_constr: 0\n",
      "2022-03-11 12:00:33,329 :: DEBUG    :: root :: \n",
      "2022-03-11 12:00:33,329 :: DEBUG    :: root :: \t\treturn_least_infeasible: True\n",
      "2022-03-11 12:00:33,330 :: DEBUG    :: root :: \t\tsave_history: True\n",
      "2022-03-11 12:00:33,330 :: DEBUG    :: root :: \t\tverbose: True\n",
      "2022-03-11 12:00:33,331 :: DEBUG    :: root :: \t\tseed: 1\n",
      "2022-03-11 12:00:33,332 :: DEBUG    :: root :: \t\tdefault_termination: <pymoo.util.termination.default.MultiObjectiveDefaultTermination object at 0x7ff7298fa460>\n",
      "2022-03-11 12:00:33,332 :: DEBUG    :: root :: \t\thas_terminated: False\n",
      "2022-03-11 12:00:33,333 :: DEBUG    :: root :: \t\tpf: True\n",
      "2022-03-11 12:00:33,334 :: DEBUG    :: root :: \t\tevaluator: <pymoo.core.evaluator.Evaluator object at 0x7ff7298fa2e0>\n"
     ]
    },
    {
     "name": "stderr",
     "output_type": "stream",
     "text": [
      "2022-03-11 12:00:33,335 :: DEBUG    :: root :: \t\tn_gen: 2\n",
      "2022-03-11 12:00:33,336 :: DEBUG    :: root :: \t\thistory: [<pymoo.algorithms.moo.nsga2.NSGA2 object at 0x7ff7298fac10>, <pymoo.algorithms.moo.nsga2.NSGA2 object at 0x7ff7296b5fa0>]\n",
      "2022-03-11 12:00:33,336 :: DEBUG    :: root :: \t\tpop: [<pymoo.core.individual.Individual object at 0x7ff7296e4a60>\n",
      "2022-03-11 12:00:33,336 :: DEBUG    :: root ::  <pymoo.core.individual.Individual object at 0x7ff7296e4ac0>\n",
      "2022-03-11 12:00:33,336 :: DEBUG    :: root ::  <pymoo.core.individual.Individual object at 0x7ff7296e4b20>\n",
      "2022-03-11 12:00:33,336 :: DEBUG    :: root ::  <pymoo.core.individual.Individual object at 0x7ff7296e4b80>\n",
      "2022-03-11 12:00:33,336 :: DEBUG    :: root ::  <pymoo.core.individual.Individual object at 0x7ff7296e4be0>\n",
      "2022-03-11 12:00:33,336 :: DEBUG    :: root ::  <pymoo.core.individual.Individual object at 0x7ff7296e4c40>\n",
      "2022-03-11 12:00:33,336 :: DEBUG    :: root ::  <pymoo.core.individual.Individual object at 0x7ff7296e4ca0>\n",
      "2022-03-11 12:00:33,336 :: DEBUG    :: root ::  <pymoo.core.individual.Individual object at 0x7ff7296e4d00>\n",
      "2022-03-11 12:00:33,336 :: DEBUG    :: root ::  <pymoo.core.individual.Individual object at 0x7ff7296e4d60>\n",
      "2022-03-11 12:00:33,336 :: DEBUG    :: root ::  <pymoo.core.individual.Individual object at 0x7ff7296e4dc0>\n",
      "2022-03-11 12:00:33,336 :: DEBUG    :: root ::  <pymoo.core.individual.Individual object at 0x7ff7296e4e20>\n",
      "2022-03-11 12:00:33,336 :: DEBUG    :: root ::  <pymoo.core.individual.Individual object at 0x7ff7296e4e80>\n",
      "2022-03-11 12:00:33,336 :: DEBUG    :: root ::  <pymoo.core.individual.Individual object at 0x7ff7296e4ee0>\n",
      "2022-03-11 12:00:33,336 :: DEBUG    :: root ::  <pymoo.core.individual.Individual object at 0x7ff7296e4f40>\n",
      "2022-03-11 12:00:33,336 :: DEBUG    :: root ::  <pymoo.core.individual.Individual object at 0x7ff7296e4fa0>\n",
      "2022-03-11 12:00:33,336 :: DEBUG    :: root ::  <pymoo.core.individual.Individual object at 0x7ff7296e9040>\n",
      "2022-03-11 12:00:33,336 :: DEBUG    :: root ::  <pymoo.core.individual.Individual object at 0x7ff7296e90a0>\n",
      "2022-03-11 12:00:33,336 :: DEBUG    :: root ::  <pymoo.core.individual.Individual object at 0x7ff7296e9100>\n",
      "2022-03-11 12:00:33,336 :: DEBUG    :: root ::  <pymoo.core.individual.Individual object at 0x7ff7296e9160>\n",
      "2022-03-11 12:00:33,336 :: DEBUG    :: root ::  <pymoo.core.individual.Individual object at 0x7ff7296e91c0>\n",
      "2022-03-11 12:00:33,336 :: DEBUG    :: root ::  <pymoo.core.individual.Individual object at 0x7ff7296e9220>\n",
      "2022-03-11 12:00:33,336 :: DEBUG    :: root ::  <pymoo.core.individual.Individual object at 0x7ff7296e9280>\n",
      "2022-03-11 12:00:33,336 :: DEBUG    :: root ::  <pymoo.core.individual.Individual object at 0x7ff7296e92e0>\n",
      "2022-03-11 12:00:33,336 :: DEBUG    :: root ::  <pymoo.core.individual.Individual object at 0x7ff7296e9340>\n",
      "2022-03-11 12:00:33,336 :: DEBUG    :: root ::  <pymoo.core.individual.Individual object at 0x7ff7296e93a0>\n",
      "2022-03-11 12:00:33,336 :: DEBUG    :: root ::  <pymoo.core.individual.Individual object at 0x7ff7296e9400>\n",
      "2022-03-11 12:00:33,336 :: DEBUG    :: root ::  <pymoo.core.individual.Individual object at 0x7ff7296e9460>\n",
      "2022-03-11 12:00:33,336 :: DEBUG    :: root ::  <pymoo.core.individual.Individual object at 0x7ff7296e94c0>\n",
      "2022-03-11 12:00:33,336 :: DEBUG    :: root ::  <pymoo.core.individual.Individual object at 0x7ff7296e9520>\n",
      "2022-03-11 12:00:33,336 :: DEBUG    :: root ::  <pymoo.core.individual.Individual object at 0x7ff7296e9580>\n",
      "2022-03-11 12:00:33,336 :: DEBUG    :: root ::  <pymoo.core.individual.Individual object at 0x7ff7296e95e0>\n",
      "2022-03-11 12:00:33,336 :: DEBUG    :: root ::  <pymoo.core.individual.Individual object at 0x7ff7296e9610>\n",
      "2022-03-11 12:00:33,336 :: DEBUG    :: root ::  <pymoo.core.individual.Individual object at 0x7ff7296e96a0>\n",
      "2022-03-11 12:00:33,336 :: DEBUG    :: root ::  <pymoo.core.individual.Individual object at 0x7ff7296e9700>\n",
      "2022-03-11 12:00:33,336 :: DEBUG    :: root ::  <pymoo.core.individual.Individual object at 0x7ff7296e9760>\n",
      "2022-03-11 12:00:33,336 :: DEBUG    :: root ::  <pymoo.core.individual.Individual object at 0x7ff7296e97c0>\n",
      "2022-03-11 12:00:33,336 :: DEBUG    :: root ::  <pymoo.core.individual.Individual object at 0x7ff7296e9820>\n",
      "2022-03-11 12:00:33,336 :: DEBUG    :: root ::  <pymoo.core.individual.Individual object at 0x7ff7296e9880>\n",
      "2022-03-11 12:00:33,336 :: DEBUG    :: root ::  <pymoo.core.individual.Individual object at 0x7ff7296e98e0>\n",
      "2022-03-11 12:00:33,336 :: DEBUG    :: root ::  <pymoo.core.individual.Individual object at 0x7ff7296e9940>\n",
      "2022-03-11 12:00:33,336 :: DEBUG    :: root ::  <pymoo.core.individual.Individual object at 0x7ff7296e99a0>\n",
      "2022-03-11 12:00:33,336 :: DEBUG    :: root ::  <pymoo.core.individual.Individual object at 0x7ff7296e9a00>\n",
      "2022-03-11 12:00:33,336 :: DEBUG    :: root ::  <pymoo.core.individual.Individual object at 0x7ff7296e9a60>\n",
      "2022-03-11 12:00:33,336 :: DEBUG    :: root ::  <pymoo.core.individual.Individual object at 0x7ff7296e9ac0>\n",
      "2022-03-11 12:00:33,336 :: DEBUG    :: root ::  <pymoo.core.individual.Individual object at 0x7ff7296e9b20>\n",
      "2022-03-11 12:00:33,336 :: DEBUG    :: root ::  <pymoo.core.individual.Individual object at 0x7ff7296e9b80>\n",
      "2022-03-11 12:00:33,336 :: DEBUG    :: root ::  <pymoo.core.individual.Individual object at 0x7ff7296e9be0>\n",
      "2022-03-11 12:00:33,336 :: DEBUG    :: root ::  <pymoo.core.individual.Individual object at 0x7ff7296e9c40>\n",
      "2022-03-11 12:00:33,336 :: DEBUG    :: root ::  <pymoo.core.individual.Individual object at 0x7ff7296e9ca0>\n",
      "2022-03-11 12:00:33,336 :: DEBUG    :: root ::  <pymoo.core.individual.Individual object at 0x7ff7296e9d00>]\n",
      "2022-03-11 12:00:33,337 :: DEBUG    :: root :: \t\toff: [<pymoo.core.individual.Individual object at 0x7ff7296e9dc0>\n",
      "2022-03-11 12:00:33,337 :: DEBUG    :: root ::  <pymoo.core.individual.Individual object at 0x7ff7296e9eb0>\n",
      "2022-03-11 12:00:33,337 :: DEBUG    :: root ::  <pymoo.core.individual.Individual object at 0x7ff7296e9fa0>\n",
      "2022-03-11 12:00:33,337 :: DEBUG    :: root ::  <pymoo.core.individual.Individual object at 0x7ff7296710d0>\n",
      "2022-03-11 12:00:33,337 :: DEBUG    :: root ::  <pymoo.core.individual.Individual object at 0x7ff7296711c0>\n",
      "2022-03-11 12:00:33,337 :: DEBUG    :: root ::  <pymoo.core.individual.Individual object at 0x7ff7296712b0>\n",
      "2022-03-11 12:00:33,337 :: DEBUG    :: root ::  <pymoo.core.individual.Individual object at 0x7ff7296713a0>\n",
      "2022-03-11 12:00:33,337 :: DEBUG    :: root ::  <pymoo.core.individual.Individual object at 0x7ff729671490>\n",
      "2022-03-11 12:00:33,337 :: DEBUG    :: root ::  <pymoo.core.individual.Individual object at 0x7ff729671580>\n",
      "2022-03-11 12:00:33,337 :: DEBUG    :: root ::  <pymoo.core.individual.Individual object at 0x7ff729671670>\n",
      "2022-03-11 12:00:33,337 :: DEBUG    :: root ::  <pymoo.core.individual.Individual object at 0x7ff729671760>\n",
      "2022-03-11 12:00:33,337 :: DEBUG    :: root ::  <pymoo.core.individual.Individual object at 0x7ff729671850>\n",
      "2022-03-11 12:00:33,337 :: DEBUG    :: root ::  <pymoo.core.individual.Individual object at 0x7ff729671940>\n",
      "2022-03-11 12:00:33,337 :: DEBUG    :: root ::  <pymoo.core.individual.Individual object at 0x7ff729671a30>\n",
      "2022-03-11 12:00:33,337 :: DEBUG    :: root ::  <pymoo.core.individual.Individual object at 0x7ff729671b20>\n",
      "2022-03-11 12:00:33,337 :: DEBUG    :: root ::  <pymoo.core.individual.Individual object at 0x7ff729671c10>\n",
      "2022-03-11 12:00:33,337 :: DEBUG    :: root ::  <pymoo.core.individual.Individual object at 0x7ff729671d00>\n",
      "2022-03-11 12:00:33,337 :: DEBUG    :: root ::  <pymoo.core.individual.Individual object at 0x7ff729671df0>\n",
      "2022-03-11 12:00:33,337 :: DEBUG    :: root ::  <pymoo.core.individual.Individual object at 0x7ff729671ee0>\n",
      "2022-03-11 12:00:33,337 :: DEBUG    :: root ::  <pymoo.core.individual.Individual object at 0x7ff729671fd0>\n",
      "2022-03-11 12:00:33,337 :: DEBUG    :: root ::  <pymoo.core.individual.Individual object at 0x7ff72967a100>\n",
      "2022-03-11 12:00:33,337 :: DEBUG    :: root ::  <pymoo.core.individual.Individual object at 0x7ff72967a1f0>\n",
      "2022-03-11 12:00:33,337 :: DEBUG    :: root ::  <pymoo.core.individual.Individual object at 0x7ff72967a2e0>\n",
      "2022-03-11 12:00:33,337 :: DEBUG    :: root ::  <pymoo.core.individual.Individual object at 0x7ff72967a3d0>\n",
      "2022-03-11 12:00:33,337 :: DEBUG    :: root ::  <pymoo.core.individual.Individual object at 0x7ff72967a4c0>\n",
      "2022-03-11 12:00:33,337 :: DEBUG    :: root ::  <pymoo.core.individual.Individual object at 0x7ff72967a5b0>\n",
      "2022-03-11 12:00:33,337 :: DEBUG    :: root ::  <pymoo.core.individual.Individual object at 0x7ff72967a6a0>\n",
      "2022-03-11 12:00:33,337 :: DEBUG    :: root ::  <pymoo.core.individual.Individual object at 0x7ff72967a790>\n",
      "2022-03-11 12:00:33,337 :: DEBUG    :: root ::  <pymoo.core.individual.Individual object at 0x7ff72967a880>\n",
      "2022-03-11 12:00:33,337 :: DEBUG    :: root ::  <pymoo.core.individual.Individual object at 0x7ff72967a970>\n",
      "2022-03-11 12:00:33,337 :: DEBUG    :: root ::  <pymoo.core.individual.Individual object at 0x7ff72967aa60>\n",
      "2022-03-11 12:00:33,337 :: DEBUG    :: root ::  <pymoo.core.individual.Individual object at 0x7ff72967ab50>\n",
      "2022-03-11 12:00:33,337 :: DEBUG    :: root ::  <pymoo.core.individual.Individual object at 0x7ff72967ac40>]\n"
     ]
    },
    {
     "name": "stderr",
     "output_type": "stream",
     "text": [
      "2022-03-11 12:00:33,338 :: DEBUG    :: root :: \t\topt: [<pymoo.core.individual.Individual object at 0x7ff7296e4a60>\n",
      "2022-03-11 12:00:33,338 :: DEBUG    :: root ::  <pymoo.core.individual.Individual object at 0x7ff7296e4ac0>\n",
      "2022-03-11 12:00:33,338 :: DEBUG    :: root ::  <pymoo.core.individual.Individual object at 0x7ff7296e4b20>\n",
      "2022-03-11 12:00:33,338 :: DEBUG    :: root ::  <pymoo.core.individual.Individual object at 0x7ff7296e4b80>\n",
      "2022-03-11 12:00:33,338 :: DEBUG    :: root ::  <pymoo.core.individual.Individual object at 0x7ff7296e4be0>\n",
      "2022-03-11 12:00:33,338 :: DEBUG    :: root ::  <pymoo.core.individual.Individual object at 0x7ff7296e4c40>\n",
      "2022-03-11 12:00:33,338 :: DEBUG    :: root ::  <pymoo.core.individual.Individual object at 0x7ff7296e4ca0>\n",
      "2022-03-11 12:00:33,338 :: DEBUG    :: root ::  <pymoo.core.individual.Individual object at 0x7ff7296e4d00>\n",
      "2022-03-11 12:00:33,338 :: DEBUG    :: root ::  <pymoo.core.individual.Individual object at 0x7ff7296e4d60>\n",
      "2022-03-11 12:00:33,338 :: DEBUG    :: root ::  <pymoo.core.individual.Individual object at 0x7ff7296e4dc0>\n",
      "2022-03-11 12:00:33,338 :: DEBUG    :: root ::  <pymoo.core.individual.Individual object at 0x7ff7296e4e20>\n",
      "2022-03-11 12:00:33,338 :: DEBUG    :: root ::  <pymoo.core.individual.Individual object at 0x7ff7296e4e80>\n",
      "2022-03-11 12:00:33,338 :: DEBUG    :: root ::  <pymoo.core.individual.Individual object at 0x7ff7296e4ee0>\n",
      "2022-03-11 12:00:33,338 :: DEBUG    :: root ::  <pymoo.core.individual.Individual object at 0x7ff7296e4f40>\n",
      "2022-03-11 12:00:33,338 :: DEBUG    :: root ::  <pymoo.core.individual.Individual object at 0x7ff7296e4fa0>\n",
      "2022-03-11 12:00:33,338 :: DEBUG    :: root ::  <pymoo.core.individual.Individual object at 0x7ff7296e9040>\n",
      "2022-03-11 12:00:33,338 :: DEBUG    :: root ::  <pymoo.core.individual.Individual object at 0x7ff7296e90a0>\n",
      "2022-03-11 12:00:33,338 :: DEBUG    :: root ::  <pymoo.core.individual.Individual object at 0x7ff7296e9100>]\n",
      "2022-03-11 12:00:33,339 :: DEBUG    :: root :: \t\tdata: {}\n",
      "2022-03-11 12:00:33,339 :: DEBUG    :: root :: \t\tis_initialized: True\n",
      "2022-03-11 12:00:33,340 :: DEBUG    :: root :: \t\tstart_time: 1646932417.8951347\n",
      "2022-03-11 12:00:33,340 :: DEBUG    :: root :: \t\tpop_size: 50\n",
      "2022-03-11 12:00:33,342 :: DEBUG    :: root :: \t\tadvance_after_initial_infill: True\n",
      "2022-03-11 12:00:33,343 :: DEBUG    :: root :: \t\tsurvival: <pymoo.algorithms.moo.nsga2.RankAndCrowdingSurvival object at 0x7ff72967adc0>\n",
      "2022-03-11 12:00:33,343 :: DEBUG    :: root :: \t\tn_offsprings: 33\n",
      "2022-03-11 12:00:33,344 :: DEBUG    :: root :: \t\teliminate_duplicates: <pymoo.core.duplicate.NoDuplicateElimination object at 0x7ff72967ae80>\n",
      "2022-03-11 12:00:33,344 :: DEBUG    :: root :: \t\trepair: <pymoo.core.repair.NoRepair object at 0x7ff72967aee0>\n",
      "2022-03-11 12:00:33,345 :: DEBUG    :: root :: \t\tinitialization: <pymoo.core.initialization.Initialization object at 0x7ff72967af10>\n",
      "2022-03-11 12:00:33,346 :: DEBUG    :: root :: \t\tmating: <pymoo.core.mating.Mating object at 0x7ff729683100>\n",
      "2022-03-11 12:00:33,347 :: DEBUG    :: root :: \t\ttournament_type: comp_by_dom_and_crowding\n",
      "2022-03-11 12:00:33,348 :: INFO     :: root :: RESTARTED FROM CHECKPOINT\n"
     ]
    },
    {
     "name": "stdout",
     "output_type": "stream",
     "text": [
      "[<FileHandler /run/media/dubief/M2CE-14TB-1/gitrepo/pymooCFD/OscCylX2.log (NOTSET)>, <StreamHandler stderr (DEBUG)>]\n"
     ]
    }
   ],
   "source": [
    "# from setupOpt import optStudy\n",
    "# from pymooCFD.studies.oscillCyl_soo import optStudy\n",
    "from pymooCFD.studies.oscillCyl_x2 import optStudy"
   ]
  },
  {
   "cell_type": "code",
   "execution_count": 5,
   "id": "8c1f2a1a",
   "metadata": {},
   "outputs": [],
   "source": [
    "# from pymooCFD.studies.oscillCyl_soo import BaseCase\n",
    "# noOscillCase = BaseCase('no_osc_case-v1', [0,0])"
   ]
  },
  {
   "cell_type": "code",
   "execution_count": 6,
   "id": "213c1e01",
   "metadata": {},
   "outputs": [],
   "source": [
    "# noOscillCase.plotMeshStudy()"
   ]
  },
  {
   "cell_type": "code",
   "execution_count": 7,
   "id": "b38b2b6f",
   "metadata": {},
   "outputs": [],
   "source": [
    "# optStudy.plotDir = os.path.join(optStudy.optDatDir, 'run', 'plots')\n",
    "# optStudy.saveCP()"
   ]
  },
  {
   "cell_type": "code",
   "execution_count": 8,
   "id": "7b12eb96",
   "metadata": {},
   "outputs": [],
   "source": [
    "# optStudy.testCase.cpPath = os.path.join(optStudy.testCase.caseDir, 'case.npy')\n",
    "# optStudy.saveCP()"
   ]
  },
  {
   "cell_type": "code",
   "execution_count": 9,
   "id": "55be6d23",
   "metadata": {},
   "outputs": [],
   "source": [
    "# for case in optStudy.bndCases:\n",
    "# #     _, tail = os.path.split(case.caseDir)\n",
    "# #     print(tail)\n",
    "# #     case.caseDir = os.path.join('optStudy-OscillCylinderOpt/run/boundary-cases', tail)\n",
    "#     print(case.caseDir)\n",
    "#     case.msCases = None\n",
    "# #     case.cpPath = os.path.join(case.caseDir, 'case.npy')\n",
    "# #     print(case.cpPath)\n",
    "# optStudy.saveCP()"
   ]
  },
  {
   "cell_type": "code",
   "execution_count": 10,
   "id": "9b995958",
   "metadata": {},
   "outputs": [],
   "source": [
    "# meshSFs = np.append(np.around(np.arange(0.3, 1.6, 0.1), decimals=2), [0.25, 0.35, 0.45])\n",
    "# print(meshSFs)\n",
    "# for case in optStudy.bndCases:\n",
    "#     case._meshSFs = meshSFs\n",
    "# for case in optStudy.gen1Pop:\n",
    "#     case._meshSFs = meshSFs\n",
    "# optStudy.testCase._meshSFs = meshSFs\n",
    "# optStudy.saveCP()"
   ]
  },
  {
   "cell_type": "markdown",
   "id": "3ee0c08f",
   "metadata": {},
   "source": [
    "### Check Out Data Generated"
   ]
  },
  {
   "cell_type": "code",
   "execution_count": 11,
   "id": "550256c7",
   "metadata": {
    "scrolled": true
   },
   "outputs": [
    {
     "name": "stdout",
     "output_type": "stream",
     "text": [
      "{'BaseCase': <class 'pymooCFD.studies.oscillCyl_x2.OscillCylinder'>,\n",
      " 'CP_path': 'optStudy-OscCylX2/OscCylX2-CP',\n",
      " 'algorithm': <pymoo.algorithms.moo.nsga2.NSGA2 object at 0x7ff7298fa3a0>,\n",
      " 'archiveDir': 'optStudy-OscCylX2/archive',\n",
      " 'bndCases': [<pymooCFD.studies.oscillCyl_x2.OscillCylinder object at 0x7ff7296a3b80>,\n",
      "              <pymooCFD.studies.oscillCyl_x2.OscillCylinder object at 0x7ff7296abbe0>,\n",
      "              <pymooCFD.studies.oscillCyl_x2.OscillCylinder object at 0x7ff7296abd90>,\n",
      "              <pymooCFD.studies.oscillCyl_x2.OscillCylinder object at 0x7ff7296abf40>,\n",
      "              <pymooCFD.studies.oscillCyl_x2.OscillCylinder object at 0x7ff7296331f0>,\n",
      "              <pymooCFD.studies.oscillCyl_x2.OscillCylinder object at 0x7ff7296333a0>,\n",
      "              <pymooCFD.studies.oscillCyl_x2.OscillCylinder object at 0x7ff729633610>,\n",
      "              <pymooCFD.studies.oscillCyl_x2.OscillCylinder object at 0x7ff7296337c0>],\n",
      " 'cornerCases': None,\n",
      " 'gen1Pop': [<pymooCFD.studies.oscillCyl_x2.OscillCylinder object at 0x7ff7296834c0>,\n",
      "             <pymooCFD.studies.oscillCyl_x2.OscillCylinder object at 0x7ff729683790>,\n",
      "             <pymooCFD.studies.oscillCyl_x2.OscillCylinder object at 0x7ff729683940>,\n",
      "             <pymooCFD.studies.oscillCyl_x2.OscillCylinder object at 0x7ff729683af0>,\n",
      "             <pymooCFD.studies.oscillCyl_x2.OscillCylinder object at 0x7ff729683ca0>,\n",
      "             <pymooCFD.studies.oscillCyl_x2.OscillCylinder object at 0x7ff729683e50>,\n",
      "             <pymooCFD.studies.oscillCyl_x2.OscillCylinder object at 0x7ff72968c040>,\n",
      "             <pymooCFD.studies.oscillCyl_x2.OscillCylinder object at 0x7ff72968c1f0>,\n",
      "             <pymooCFD.studies.oscillCyl_x2.OscillCylinder object at 0x7ff72968c3a0>,\n",
      "             <pymooCFD.studies.oscillCyl_x2.OscillCylinder object at 0x7ff72968c550>,\n",
      "             <pymooCFD.studies.oscillCyl_x2.OscillCylinder object at 0x7ff72968c700>,\n",
      "             <pymooCFD.studies.oscillCyl_x2.OscillCylinder object at 0x7ff72968c8b0>,\n",
      "             <pymooCFD.studies.oscillCyl_x2.OscillCylinder object at 0x7ff72968ca60>,\n",
      "             <pymooCFD.studies.oscillCyl_x2.OscillCylinder object at 0x7ff72968cc10>,\n",
      "             <pymooCFD.studies.oscillCyl_x2.OscillCylinder object at 0x7ff72968cdc0>,\n",
      "             <pymooCFD.studies.oscillCyl_x2.OscillCylinder object at 0x7ff72968cf70>,\n",
      "             <pymooCFD.studies.oscillCyl_x2.OscillCylinder object at 0x7ff729691160>,\n",
      "             <pymooCFD.studies.oscillCyl_x2.OscillCylinder object at 0x7ff729691310>,\n",
      "             <pymooCFD.studies.oscillCyl_x2.OscillCylinder object at 0x7ff7296914c0>,\n",
      "             <pymooCFD.studies.oscillCyl_x2.OscillCylinder object at 0x7ff729691670>,\n",
      "             <pymooCFD.studies.oscillCyl_x2.OscillCylinder object at 0x7ff729691820>,\n",
      "             <pymooCFD.studies.oscillCyl_x2.OscillCylinder object at 0x7ff7296919d0>,\n",
      "             <pymooCFD.studies.oscillCyl_x2.OscillCylinder object at 0x7ff729691b80>,\n",
      "             <pymooCFD.studies.oscillCyl_x2.OscillCylinder object at 0x7ff729691d30>,\n",
      "             <pymooCFD.studies.oscillCyl_x2.OscillCylinder object at 0x7ff729691ee0>,\n",
      "             <pymooCFD.studies.oscillCyl_x2.OscillCylinder object at 0x7ff7296970d0>,\n",
      "             <pymooCFD.studies.oscillCyl_x2.OscillCylinder object at 0x7ff729697280>,\n",
      "             <pymooCFD.studies.oscillCyl_x2.OscillCylinder object at 0x7ff729697430>,\n",
      "             <pymooCFD.studies.oscillCyl_x2.OscillCylinder object at 0x7ff7296975e0>,\n",
      "             <pymooCFD.studies.oscillCyl_x2.OscillCylinder object at 0x7ff729697790>,\n",
      "             <pymooCFD.studies.oscillCyl_x2.OscillCylinder object at 0x7ff729697940>,\n",
      "             <pymooCFD.studies.oscillCyl_x2.OscillCylinder object at 0x7ff729697af0>,\n",
      "             <pymooCFD.studies.oscillCyl_x2.OscillCylinder object at 0x7ff729697ca0>,\n",
      "             <pymooCFD.studies.oscillCyl_x2.OscillCylinder object at 0x7ff729697e50>,\n",
      "             <pymooCFD.studies.oscillCyl_x2.OscillCylinder object at 0x7ff72969c040>,\n",
      "             <pymooCFD.studies.oscillCyl_x2.OscillCylinder object at 0x7ff72969c1f0>,\n",
      "             <pymooCFD.studies.oscillCyl_x2.OscillCylinder object at 0x7ff72969c3a0>,\n",
      "             <pymooCFD.studies.oscillCyl_x2.OscillCylinder object at 0x7ff72969c550>,\n",
      "             <pymooCFD.studies.oscillCyl_x2.OscillCylinder object at 0x7ff72969c700>,\n",
      "             <pymooCFD.studies.oscillCyl_x2.OscillCylinder object at 0x7ff72969c8b0>,\n",
      "             <pymooCFD.studies.oscillCyl_x2.OscillCylinder object at 0x7ff72969ca60>,\n",
      "             <pymooCFD.studies.oscillCyl_x2.OscillCylinder object at 0x7ff72969cc10>,\n",
      "             <pymooCFD.studies.oscillCyl_x2.OscillCylinder object at 0x7ff72969cdc0>,\n",
      "             <pymooCFD.studies.oscillCyl_x2.OscillCylinder object at 0x7ff72969cf70>,\n",
      "             <pymooCFD.studies.oscillCyl_x2.OscillCylinder object at 0x7ff7296a3160>,\n",
      "             <pymooCFD.studies.oscillCyl_x2.OscillCylinder object at 0x7ff7296a3310>,\n",
      "             <pymooCFD.studies.oscillCyl_x2.OscillCylinder object at 0x7ff7296a34c0>,\n",
      "             <pymooCFD.studies.oscillCyl_x2.OscillCylinder object at 0x7ff7296a3670>,\n",
      "             <pymooCFD.studies.oscillCyl_x2.OscillCylinder object at 0x7ff7296a3820>,\n",
      "             <pymooCFD.studies.oscillCyl_x2.OscillCylinder object at 0x7ff7296a39d0>],\n",
      " 'logger': <RootLogger root (DEBUG)>,\n",
      " 'mapDir': 'optStudy-OscCylX2/run/mapGen1',\n",
      " 'n_CP': 10,\n",
      " 'n_opt': 20,\n",
      " 'optDatDir': 'optStudy-OscCylX2',\n",
      " 'optName': 'OscCylX2',\n",
      " 'plotDir': 'optStudy-OscCylX2/run/plots',\n",
      " 'problem': <pymooCFD.studies.oscillCyl_x2.GA_CFD object at 0x7ff7298fa760>,\n",
      " 'runDir': 'optStudy-OscCylX2/run',\n",
      " 'testCase': <pymooCFD.studies.oscillCyl_x2.OscillCylinder object at 0x7ff729633970>}\n"
     ]
    }
   ],
   "source": [
    "pprint(optStudy.__dict__)"
   ]
  },
  {
   "cell_type": "code",
   "execution_count": 12,
   "id": "03ab80b2",
   "metadata": {},
   "outputs": [
    {
     "name": "stdout",
     "output_type": "stream",
     "text": [
      "{'advance_after_initial_infill': True,\n",
      " 'callback': <pymooCFD.studies.oscillCyl_x2.MyCallback object at 0x7ff7298fa550>,\n",
      " 'data': {},\n",
      " 'default_termination': <pymoo.util.termination.default.MultiObjectiveDefaultTermination object at 0x7ff7298fa460>,\n",
      " 'display': <pymooCFD.studies.oscillCyl_x2.MyDisplay object at 0x7ff7298fa640>,\n",
      " 'eliminate_duplicates': <pymoo.core.duplicate.NoDuplicateElimination object at 0x7ff72967ae80>,\n",
      " 'evaluator': <pymoo.core.evaluator.Evaluator object at 0x7ff7298fa2e0>,\n",
      " 'has_terminated': False,\n",
      " 'history': [<pymoo.algorithms.moo.nsga2.NSGA2 object at 0x7ff7298fac10>,\n",
      "             <pymoo.algorithms.moo.nsga2.NSGA2 object at 0x7ff7296b5fa0>],\n",
      " 'initialization': <pymoo.core.initialization.Initialization object at 0x7ff72967af10>,\n",
      " 'is_initialized': True,\n",
      " 'mating': <pymoo.core.mating.Mating object at 0x7ff729683100>,\n",
      " 'n_gen': 2,\n",
      " 'n_offsprings': 33,\n",
      " 'off': Population([<pymoo.core.individual.Individual object at 0x7ff7296e9dc0>,\n",
      "            <pymoo.core.individual.Individual object at 0x7ff7296e9eb0>,\n",
      "            <pymoo.core.individual.Individual object at 0x7ff7296e9fa0>,\n",
      "            <pymoo.core.individual.Individual object at 0x7ff7296710d0>,\n",
      "            <pymoo.core.individual.Individual object at 0x7ff7296711c0>,\n",
      "            <pymoo.core.individual.Individual object at 0x7ff7296712b0>,\n",
      "            <pymoo.core.individual.Individual object at 0x7ff7296713a0>,\n",
      "            <pymoo.core.individual.Individual object at 0x7ff729671490>,\n",
      "            <pymoo.core.individual.Individual object at 0x7ff729671580>,\n",
      "            <pymoo.core.individual.Individual object at 0x7ff729671670>,\n",
      "            <pymoo.core.individual.Individual object at 0x7ff729671760>,\n",
      "            <pymoo.core.individual.Individual object at 0x7ff729671850>,\n",
      "            <pymoo.core.individual.Individual object at 0x7ff729671940>,\n",
      "            <pymoo.core.individual.Individual object at 0x7ff729671a30>,\n",
      "            <pymoo.core.individual.Individual object at 0x7ff729671b20>,\n",
      "            <pymoo.core.individual.Individual object at 0x7ff729671c10>,\n",
      "            <pymoo.core.individual.Individual object at 0x7ff729671d00>,\n",
      "            <pymoo.core.individual.Individual object at 0x7ff729671df0>,\n",
      "            <pymoo.core.individual.Individual object at 0x7ff729671ee0>,\n",
      "            <pymoo.core.individual.Individual object at 0x7ff729671fd0>,\n",
      "            <pymoo.core.individual.Individual object at 0x7ff72967a100>,\n",
      "            <pymoo.core.individual.Individual object at 0x7ff72967a1f0>,\n",
      "            <pymoo.core.individual.Individual object at 0x7ff72967a2e0>,\n",
      "            <pymoo.core.individual.Individual object at 0x7ff72967a3d0>,\n",
      "            <pymoo.core.individual.Individual object at 0x7ff72967a4c0>,\n",
      "            <pymoo.core.individual.Individual object at 0x7ff72967a5b0>,\n",
      "            <pymoo.core.individual.Individual object at 0x7ff72967a6a0>,\n",
      "            <pymoo.core.individual.Individual object at 0x7ff72967a790>,\n",
      "            <pymoo.core.individual.Individual object at 0x7ff72967a880>,\n",
      "            <pymoo.core.individual.Individual object at 0x7ff72967a970>,\n",
      "            <pymoo.core.individual.Individual object at 0x7ff72967aa60>,\n",
      "            <pymoo.core.individual.Individual object at 0x7ff72967ab50>,\n",
      "            <pymoo.core.individual.Individual object at 0x7ff72967ac40>],\n",
      "           dtype=object),\n",
      " 'opt': Population([<pymoo.core.individual.Individual object at 0x7ff7296e4a60>,\n",
      "            <pymoo.core.individual.Individual object at 0x7ff7296e4ac0>,\n",
      "            <pymoo.core.individual.Individual object at 0x7ff7296e4b20>,\n",
      "            <pymoo.core.individual.Individual object at 0x7ff7296e4b80>,\n",
      "            <pymoo.core.individual.Individual object at 0x7ff7296e4be0>,\n",
      "            <pymoo.core.individual.Individual object at 0x7ff7296e4c40>,\n",
      "            <pymoo.core.individual.Individual object at 0x7ff7296e4ca0>,\n",
      "            <pymoo.core.individual.Individual object at 0x7ff7296e4d00>,\n",
      "            <pymoo.core.individual.Individual object at 0x7ff7296e4d60>,\n",
      "            <pymoo.core.individual.Individual object at 0x7ff7296e4dc0>,\n",
      "            <pymoo.core.individual.Individual object at 0x7ff7296e4e20>,\n",
      "            <pymoo.core.individual.Individual object at 0x7ff7296e4e80>,\n",
      "            <pymoo.core.individual.Individual object at 0x7ff7296e4ee0>,\n",
      "            <pymoo.core.individual.Individual object at 0x7ff7296e4f40>,\n",
      "            <pymoo.core.individual.Individual object at 0x7ff7296e4fa0>,\n",
      "            <pymoo.core.individual.Individual object at 0x7ff7296e9040>,\n",
      "            <pymoo.core.individual.Individual object at 0x7ff7296e90a0>,\n",
      "            <pymoo.core.individual.Individual object at 0x7ff7296e9100>],\n",
      "           dtype=object),\n",
      " 'pf': True,\n",
      " 'pop': Population([<pymoo.core.individual.Individual object at 0x7ff7296e4a60>,\n",
      "            <pymoo.core.individual.Individual object at 0x7ff7296e4ac0>,\n",
      "            <pymoo.core.individual.Individual object at 0x7ff7296e4b20>,\n",
      "            <pymoo.core.individual.Individual object at 0x7ff7296e4b80>,\n",
      "            <pymoo.core.individual.Individual object at 0x7ff7296e4be0>,\n",
      "            <pymoo.core.individual.Individual object at 0x7ff7296e4c40>,\n",
      "            <pymoo.core.individual.Individual object at 0x7ff7296e4ca0>,\n",
      "            <pymoo.core.individual.Individual object at 0x7ff7296e4d00>,\n",
      "            <pymoo.core.individual.Individual object at 0x7ff7296e4d60>,\n",
      "            <pymoo.core.individual.Individual object at 0x7ff7296e4dc0>,\n",
      "            <pymoo.core.individual.Individual object at 0x7ff7296e4e20>,\n",
      "            <pymoo.core.individual.Individual object at 0x7ff7296e4e80>,\n",
      "            <pymoo.core.individual.Individual object at 0x7ff7296e4ee0>,\n",
      "            <pymoo.core.individual.Individual object at 0x7ff7296e4f40>,\n",
      "            <pymoo.core.individual.Individual object at 0x7ff7296e4fa0>,\n",
      "            <pymoo.core.individual.Individual object at 0x7ff7296e9040>,\n",
      "            <pymoo.core.individual.Individual object at 0x7ff7296e90a0>,\n",
      "            <pymoo.core.individual.Individual object at 0x7ff7296e9100>,\n",
      "            <pymoo.core.individual.Individual object at 0x7ff7296e9160>,\n",
      "            <pymoo.core.individual.Individual object at 0x7ff7296e91c0>,\n",
      "            <pymoo.core.individual.Individual object at 0x7ff7296e9220>,\n",
      "            <pymoo.core.individual.Individual object at 0x7ff7296e9280>,\n",
      "            <pymoo.core.individual.Individual object at 0x7ff7296e92e0>,\n",
      "            <pymoo.core.individual.Individual object at 0x7ff7296e9340>,\n",
      "            <pymoo.core.individual.Individual object at 0x7ff7296e93a0>,\n",
      "            <pymoo.core.individual.Individual object at 0x7ff7296e9400>,\n",
      "            <pymoo.core.individual.Individual object at 0x7ff7296e9460>,\n",
      "            <pymoo.core.individual.Individual object at 0x7ff7296e94c0>,\n",
      "            <pymoo.core.individual.Individual object at 0x7ff7296e9520>,\n",
      "            <pymoo.core.individual.Individual object at 0x7ff7296e9580>,\n",
      "            <pymoo.core.individual.Individual object at 0x7ff7296e95e0>,\n",
      "            <pymoo.core.individual.Individual object at 0x7ff7296e9610>,\n",
      "            <pymoo.core.individual.Individual object at 0x7ff7296e96a0>,\n",
      "            <pymoo.core.individual.Individual object at 0x7ff7296e9700>,\n",
      "            <pymoo.core.individual.Individual object at 0x7ff7296e9760>,\n",
      "            <pymoo.core.individual.Individual object at 0x7ff7296e97c0>,\n",
      "            <pymoo.core.individual.Individual object at 0x7ff7296e9820>,\n",
      "            <pymoo.core.individual.Individual object at 0x7ff7296e9880>,\n",
      "            <pymoo.core.individual.Individual object at 0x7ff7296e98e0>,\n",
      "            <pymoo.core.individual.Individual object at 0x7ff7296e9940>,\n",
      "            <pymoo.core.individual.Individual object at 0x7ff7296e99a0>,\n",
      "            <pymoo.core.individual.Individual object at 0x7ff7296e9a00>,\n",
      "            <pymoo.core.individual.Individual object at 0x7ff7296e9a60>,\n",
      "            <pymoo.core.individual.Individual object at 0x7ff7296e9ac0>,\n",
      "            <pymoo.core.individual.Individual object at 0x7ff7296e9b20>,\n",
      "            <pymoo.core.individual.Individual object at 0x7ff7296e9b80>,\n",
      "            <pymoo.core.individual.Individual object at 0x7ff7296e9be0>,\n",
      "            <pymoo.core.individual.Individual object at 0x7ff7296e9c40>,\n",
      "            <pymoo.core.individual.Individual object at 0x7ff7296e9ca0>,\n",
      "            <pymoo.core.individual.Individual object at 0x7ff7296e9d00>],\n",
      "           dtype=object),\n",
      " 'pop_size': 50,\n",
      " 'problem': <pymooCFD.studies.oscillCyl_x2.GA_CFD object at 0x7ff7298fa760>,\n",
      " 'repair': <pymoo.core.repair.NoRepair object at 0x7ff72967aee0>,\n",
      " 'return_least_infeasible': True,\n",
      " 'save_history': True,\n",
      " 'seed': 1,\n",
      " 'start_time': 1646932417.8951347,\n",
      " 'survival': <pymoo.algorithms.moo.nsga2.RankAndCrowdingSurvival object at 0x7ff72967adc0>,\n",
      " 'termination': <pymoo.util.termination.max_gen.MaximumGenerationTermination object at 0x7ff7298fa6a0>,\n",
      " 'tournament_type': 'comp_by_dom_and_crowding',\n",
      " 'verbose': True}\n"
     ]
    }
   ],
   "source": [
    "pprint(optStudy.algorithm.__dict__)"
   ]
  },
  {
   "cell_type": "code",
   "execution_count": 13,
   "id": "98775d52",
   "metadata": {},
   "outputs": [
    {
     "name": "stdout",
     "output_type": "stream",
     "text": [
      "{'_ideal_point': None,\n",
      " '_nadir_point': None,\n",
      " '_pareto_front': <pymoo.util.cache.Cache object at 0x7ff7298fa790>,\n",
      " '_pareto_set': <pymoo.util.cache.Cache object at 0x7ff7298fa7c0>,\n",
      " 'callback': None,\n",
      " 'check_inconsistencies': True,\n",
      " 'data': {},\n",
      " 'exclude_from_serialization': [],\n",
      " 'n_constr': 0,\n",
      " 'n_obj': 2,\n",
      " 'n_var': 2,\n",
      " 'replace_nan_values_by': inf,\n",
      " 'xl': array([0.1, 0.1]),\n",
      " 'xu': array([3.5, 1. ])}\n"
     ]
    }
   ],
   "source": [
    "pprint(optStudy.problem.__dict__)"
   ]
  },
  {
   "cell_type": "code",
   "execution_count": 14,
   "id": "1275828b",
   "metadata": {},
   "outputs": [],
   "source": [
    "# for key in optStudy.__dict__:\n",
    "#     pprint(\"{0:15} : {1}\".format(key, optStudy.__dict__[key])) #str(optStudy.__dict__[key]).replace('\\n', '\\n\\t\\t  ')))"
   ]
  },
  {
   "cell_type": "code",
   "execution_count": 15,
   "id": "06a251c0",
   "metadata": {},
   "outputs": [],
   "source": [
    "# for key in optStudy.__dict__:\n",
    "#     val = str(optStudy.__dict__[key]).replace('\\n', '\\n\\t\\t')\n",
    "#     pprint(\"{0:15} : {1}\".format(key, val))"
   ]
  },
  {
   "cell_type": "markdown",
   "id": "84128e77",
   "metadata": {},
   "source": [
    "# Pre-Process Optimization Study"
   ]
  },
  {
   "cell_type": "markdown",
   "id": "fb6c97f3",
   "metadata": {},
   "source": [
    "### Test Case"
   ]
  },
  {
   "cell_type": "code",
   "execution_count": 16,
   "id": "731f7c6c",
   "metadata": {},
   "outputs": [
    {
     "name": "stdout",
     "output_type": "stream",
     "text": [
      "Directory: optStudy-OscCylX2/run/test_case | Parameters: [1.8  0.55] | Objectives: [1.3655717708952229, 0.05681899678081813]\n"
     ]
    },
    {
     "data": {
      "text/plain": [
       "<pymooCFD.studies.oscillCyl_x2.OscillCylinder at 0x7ff729633970>"
      ]
     },
     "execution_count": 16,
     "metadata": {},
     "output_type": "execute_result"
    }
   ],
   "source": [
    "print(optStudy.testCase)\n",
    "optStudy.testCase"
   ]
  },
  {
   "cell_type": "code",
   "execution_count": 17,
   "id": "2f971fc3",
   "metadata": {},
   "outputs": [
    {
     "name": "stdout",
     "output_type": "stream",
     "text": [
      "{'_f': [1.3655717708952229, 0.05681899678081813],\n",
      " '_meshSF': None,\n",
      " '_meshSFs': array([0.25, 0.3 , 0.35, 0.4 , 0.45, 0.5 , 0.6 , 0.7 , 0.8 , 0.9 , 1.  ,\n",
      "       1.1 , 1.2 , 1.3 , 1.4 , 1.5 ]),\n",
      " '_x': array([1.8 , 0.55]),\n",
      " 'baseCaseDir': 'base_cases/osc-cyl_base',\n",
      " 'caseDir': 'optStudy-OscCylX2/run/test_case',\n",
      " 'datFile': 'FORCES_temporal.txt',\n",
      " 'datPath': 'optStudy-OscCylX2/run/test_case/FORCES_temporal.txt',\n",
      " 'inputFile': '2D_cylinder.in',\n",
      " 'inputPath': 'optStudy-OscCylX2/run/test_case/2D_cylinder.in',\n",
      " 'jobFile': 'jobslurm.sh',\n",
      " 'jobPath': 'optStudy-OscCylX2/run/test_case/jobslurm.sh',\n",
      " 'logger': <Logger pymooCFD.core.cfdCase.optStudy-OscCylX2/run/test_case (DEBUG)>,\n",
      " 'meshFile': '2D_cylinder.msh22',\n",
      " 'meshPath': 'optStudy-OscCylX2/run/test_case/2D_cylinder.msh22',\n",
      " 'meshSF': 0.4,\n",
      " 'msCases': [<pymooCFD.studies.oscillCyl_x2.OscillCylinder object at 0x7ff729633ac0>,\n",
      "             <pymooCFD.studies.oscillCyl_x2.OscillCylinder object at 0x7ff729633ca0>,\n",
      "             <pymooCFD.studies.oscillCyl_x2.OscillCylinder object at 0x7ff729633e20>,\n",
      "             <pymooCFD.studies.oscillCyl_x2.OscillCylinder object at 0x7ff729633fa0>,\n",
      "             <pymooCFD.studies.oscillCyl_x2.OscillCylinder object at 0x7ff72963a160>,\n",
      "             <pymooCFD.studies.oscillCyl_x2.OscillCylinder object at 0x7ff72963a2e0>,\n",
      "             <pymooCFD.studies.oscillCyl_x2.OscillCylinder object at 0x7ff72963a460>,\n",
      "             <pymooCFD.studies.oscillCyl_x2.OscillCylinder object at 0x7ff72963a5e0>,\n",
      "             <pymooCFD.studies.oscillCyl_x2.OscillCylinder object at 0x7ff72963a790>,\n",
      "             <pymooCFD.studies.oscillCyl_x2.OscillCylinder object at 0x7ff72963a8e0>,\n",
      "             <pymooCFD.studies.oscillCyl_x2.OscillCylinder object at 0x7ff72963aa60>,\n",
      "             <pymooCFD.studies.oscillCyl_x2.OscillCylinder object at 0x7ff72963ac40>,\n",
      "             <pymooCFD.studies.oscillCyl_x2.OscillCylinder object at 0x7ff72963adc0>,\n",
      "             <pymooCFD.studies.oscillCyl_x2.OscillCylinder object at 0x7ff72963af40>,\n",
      "             <pymooCFD.studies.oscillCyl_x2.OscillCylinder object at 0x7ff729640100>,\n",
      "             <pymooCFD.studies.oscillCyl_x2.OscillCylinder object at 0x7ff729640280>],\n",
      " 'numElem': 181951,\n",
      " 'restart': True,\n",
      " 'solnTime': 13709.164329767227,\n",
      " 'wallTime': 13700}\n"
     ]
    }
   ],
   "source": [
    "pprint(optStudy.testCase.__dict__)"
   ]
  },
  {
   "cell_type": "code",
   "execution_count": 18,
   "id": "00a5430c",
   "metadata": {},
   "outputs": [
    {
     "name": "stdout",
     "output_type": "stream",
     "text": [
      "[<pymooCFD.studies.oscillCyl_x2.OscillCylinder object at 0x7ff729633ac0>, <pymooCFD.studies.oscillCyl_x2.OscillCylinder object at 0x7ff729633ca0>, <pymooCFD.studies.oscillCyl_x2.OscillCylinder object at 0x7ff729633e20>, <pymooCFD.studies.oscillCyl_x2.OscillCylinder object at 0x7ff729633fa0>, <pymooCFD.studies.oscillCyl_x2.OscillCylinder object at 0x7ff72963a160>, <pymooCFD.studies.oscillCyl_x2.OscillCylinder object at 0x7ff72963a2e0>, <pymooCFD.studies.oscillCyl_x2.OscillCylinder object at 0x7ff72963a460>, <pymooCFD.studies.oscillCyl_x2.OscillCylinder object at 0x7ff72963a5e0>, <pymooCFD.studies.oscillCyl_x2.OscillCylinder object at 0x7ff72963a790>, <pymooCFD.studies.oscillCyl_x2.OscillCylinder object at 0x7ff72963a8e0>, <pymooCFD.studies.oscillCyl_x2.OscillCylinder object at 0x7ff72963aa60>, <pymooCFD.studies.oscillCyl_x2.OscillCylinder object at 0x7ff72963ac40>, <pymooCFD.studies.oscillCyl_x2.OscillCylinder object at 0x7ff72963adc0>, <pymooCFD.studies.oscillCyl_x2.OscillCylinder object at 0x7ff72963af40>, <pymooCFD.studies.oscillCyl_x2.OscillCylinder object at 0x7ff729640100>, <pymooCFD.studies.oscillCyl_x2.OscillCylinder object at 0x7ff729640280>]\n"
     ]
    }
   ],
   "source": [
    "print(optStudy.testCase.msCases)"
   ]
  },
  {
   "cell_type": "code",
   "execution_count": 19,
   "id": "7831c364",
   "metadata": {},
   "outputs": [
    {
     "name": "stdout",
     "output_type": "stream",
     "text": [
      "{'_f': [1.506845833142245, 0.059309613011188825],\n",
      " '_meshSF': None,\n",
      " '_meshSFs': None,\n",
      " '_x': array([1.8 , 0.55]),\n",
      " 'baseCaseDir': 'base_cases/osc-cyl_base',\n",
      " 'caseDir': 'optStudy-OscCylX2/run/test_case/meshStudy/meshSF-0.25',\n",
      " 'datFile': 'FORCES_temporal.txt',\n",
      " 'datPath': 'optStudy-OscCylX2/run/test_case/meshStudy/meshSF-0.25/FORCES_temporal.txt',\n",
      " 'inputFile': '2D_cylinder.in',\n",
      " 'inputPath': 'optStudy-OscCylX2/run/test_case/meshStudy/meshSF-0.25/2D_cylinder.in',\n",
      " 'jobFile': 'jobslurm.sh',\n",
      " 'jobPath': 'optStudy-OscCylX2/run/test_case/meshStudy/meshSF-0.25/jobslurm.sh',\n",
      " 'logger': <Logger pymooCFD.core.cfdCase.optStudy-OscCylX2/run/test_case/meshStudy/meshSF-0.25 (DEBUG)>,\n",
      " 'meshFile': '2D_cylinder.msh22',\n",
      " 'meshPath': 'optStudy-OscCylX2/run/test_case/meshStudy/meshSF-0.25/2D_cylinder.msh22',\n",
      " 'meshSF': 0.25,\n",
      " 'msCases': None,\n",
      " 'numElem': 228795,\n",
      " 'restart': True,\n",
      " 'solnTime': 69572.70854091644,\n",
      " 'wallTime': 69600}\n",
      "\n",
      "{'_f': [1.502514397622986, 0.05917568749498785],\n",
      " '_meshSF': None,\n",
      " '_meshSFs': None,\n",
      " '_x': array([1.8 , 0.55]),\n",
      " 'baseCaseDir': 'base_cases/osc-cyl_base',\n",
      " 'caseDir': 'optStudy-OscCylX2/run/test_case/meshStudy/meshSF-0.3',\n",
      " 'datFile': 'FORCES_temporal.txt',\n",
      " 'datPath': 'optStudy-OscCylX2/run/test_case/meshStudy/meshSF-0.3/FORCES_temporal.txt',\n",
      " 'inputFile': '2D_cylinder.in',\n",
      " 'inputPath': 'optStudy-OscCylX2/run/test_case/meshStudy/meshSF-0.3/2D_cylinder.in',\n",
      " 'jobFile': 'jobslurm.sh',\n",
      " 'jobPath': 'optStudy-OscCylX2/run/test_case/meshStudy/meshSF-0.3/jobslurm.sh',\n",
      " 'logger': <Logger pymooCFD.core.cfdCase.optStudy-OscCylX2/run/test_case/meshStudy/meshSF-0.3 (DEBUG)>,\n",
      " 'meshFile': '2D_cylinder.msh22',\n",
      " 'meshPath': 'optStudy-OscCylX2/run/test_case/meshStudy/meshSF-0.3/2D_cylinder.msh22',\n",
      " 'meshSF': 0.3,\n",
      " 'msCases': None,\n",
      " 'numElem': 208605,\n",
      " 'restart': True,\n",
      " 'solnTime': 42086.147825717926,\n",
      " 'wallTime': 42100}\n",
      "\n",
      "{'_f': [1.3664096366270155, 0.05767906480673091],\n",
      " '_meshSF': None,\n",
      " '_meshSFs': None,\n",
      " '_x': array([1.8 , 0.55]),\n",
      " 'baseCaseDir': 'base_cases/osc-cyl_base',\n",
      " 'caseDir': 'optStudy-OscCylX2/run/test_case/meshStudy/meshSF-0.35',\n",
      " 'datFile': 'FORCES_temporal.txt',\n",
      " 'datPath': 'optStudy-OscCylX2/run/test_case/meshStudy/meshSF-0.35/FORCES_temporal.txt',\n",
      " 'inputFile': '2D_cylinder.in',\n",
      " 'inputPath': 'optStudy-OscCylX2/run/test_case/meshStudy/meshSF-0.35/2D_cylinder.in',\n",
      " 'jobFile': 'jobslurm.sh',\n",
      " 'jobPath': 'optStudy-OscCylX2/run/test_case/meshStudy/meshSF-0.35/jobslurm.sh',\n",
      " 'logger': <Logger pymooCFD.core.cfdCase.optStudy-OscCylX2/run/test_case/meshStudy/meshSF-0.35 (DEBUG)>,\n",
      " 'meshFile': '2D_cylinder.msh22',\n",
      " 'meshPath': 'optStudy-OscCylX2/run/test_case/meshStudy/meshSF-0.35/2D_cylinder.msh22',\n",
      " 'meshSF': 0.35,\n",
      " 'msCases': None,\n",
      " 'numElem': 193718,\n",
      " 'restart': True,\n",
      " 'solnTime': 24688.534600019455,\n",
      " 'wallTime': 24700}\n",
      "\n",
      "{'_f': [1.3655717708952229, 0.05681899678081813],\n",
      " '_meshSF': None,\n",
      " '_meshSFs': None,\n",
      " '_x': array([1.8 , 0.55]),\n",
      " 'baseCaseDir': 'base_cases/osc-cyl_base',\n",
      " 'caseDir': 'optStudy-OscCylX2/run/test_case/meshStudy/meshSF-0.4',\n",
      " 'datFile': 'FORCES_temporal.txt',\n",
      " 'datPath': 'optStudy-OscCylX2/run/test_case/meshStudy/meshSF-0.4/FORCES_temporal.txt',\n",
      " 'inputFile': '2D_cylinder.in',\n",
      " 'inputPath': 'optStudy-OscCylX2/run/test_case/meshStudy/meshSF-0.4/2D_cylinder.in',\n",
      " 'jobFile': 'jobslurm.sh',\n",
      " 'jobPath': 'optStudy-OscCylX2/run/test_case/meshStudy/meshSF-0.4/jobslurm.sh',\n",
      " 'logger': <Logger pymooCFD.core.cfdCase.optStudy-OscCylX2/run/test_case/meshStudy/meshSF-0.4 (DEBUG)>,\n",
      " 'meshFile': '2D_cylinder.msh22',\n",
      " 'meshPath': 'optStudy-OscCylX2/run/test_case/meshStudy/meshSF-0.4/2D_cylinder.msh22',\n",
      " 'meshSF': 0.4,\n",
      " 'msCases': None,\n",
      " 'numElem': 181951,\n",
      " 'restart': True,\n",
      " 'solnTime': 19576.91217470169,\n",
      " 'wallTime': 19600}\n",
      "\n",
      "{'_f': [1.364000077023959, 0.056700566099995756],\n",
      " '_meshSF': None,\n",
      " '_meshSFs': None,\n",
      " '_x': array([1.8 , 0.55]),\n",
      " 'baseCaseDir': 'base_cases/osc-cyl_base',\n",
      " 'caseDir': 'optStudy-OscCylX2/run/test_case/meshStudy/meshSF-0.45',\n",
      " 'datFile': 'FORCES_temporal.txt',\n",
      " 'datPath': 'optStudy-OscCylX2/run/test_case/meshStudy/meshSF-0.45/FORCES_temporal.txt',\n",
      " 'inputFile': '2D_cylinder.in',\n",
      " 'inputPath': 'optStudy-OscCylX2/run/test_case/meshStudy/meshSF-0.45/2D_cylinder.in',\n",
      " 'jobFile': 'jobslurm.sh',\n",
      " 'jobPath': 'optStudy-OscCylX2/run/test_case/meshStudy/meshSF-0.45/jobslurm.sh',\n",
      " 'logger': <Logger pymooCFD.core.cfdCase.optStudy-OscCylX2/run/test_case/meshStudy/meshSF-0.45 (DEBUG)>,\n",
      " 'meshFile': '2D_cylinder.msh22',\n",
      " 'meshPath': 'optStudy-OscCylX2/run/test_case/meshStudy/meshSF-0.45/2D_cylinder.msh22',\n",
      " 'meshSF': 0.45,\n",
      " 'msCases': None,\n",
      " 'numElem': 173199,\n",
      " 'restart': True,\n",
      " 'solnTime': 12776.018161773682,\n",
      " 'wallTime': 12800}\n",
      "\n",
      "{'_f': [1.3642121436960404, 0.05722032874688555],\n",
      " '_meshSF': None,\n",
      " '_meshSFs': None,\n",
      " '_x': array([1.8 , 0.55]),\n",
      " 'baseCaseDir': 'base_cases/osc-cyl_base',\n",
      " 'caseDir': 'optStudy-OscCylX2/run/test_case/meshStudy/meshSF-0.5',\n",
      " 'datFile': 'FORCES_temporal.txt',\n",
      " 'datPath': 'optStudy-OscCylX2/run/test_case/meshStudy/meshSF-0.5/FORCES_temporal.txt',\n",
      " 'inputFile': '2D_cylinder.in',\n",
      " 'inputPath': 'optStudy-OscCylX2/run/test_case/meshStudy/meshSF-0.5/2D_cylinder.in',\n",
      " 'jobFile': 'jobslurm.sh',\n",
      " 'jobPath': 'optStudy-OscCylX2/run/test_case/meshStudy/meshSF-0.5/jobslurm.sh',\n",
      " 'logger': <Logger pymooCFD.core.cfdCase.optStudy-OscCylX2/run/test_case/meshStudy/meshSF-0.5 (DEBUG)>,\n",
      " 'meshFile': '2D_cylinder.msh22',\n",
      " 'meshPath': 'optStudy-OscCylX2/run/test_case/meshStudy/meshSF-0.5/2D_cylinder.msh22',\n",
      " 'meshSF': 0.5,\n",
      " 'msCases': None,\n",
      " 'numElem': 165700,\n",
      " 'restart': True,\n",
      " 'solnTime': 12135.266466379166,\n",
      " 'wallTime': 12100}\n",
      "\n",
      "{'_f': [1.3642478655483663, 0.0559127907294718],\n",
      " '_meshSF': None,\n",
      " '_meshSFs': None,\n",
      " '_x': array([1.8 , 0.55]),\n",
      " 'baseCaseDir': 'base_cases/osc-cyl_base',\n",
      " 'caseDir': 'optStudy-OscCylX2/run/test_case/meshStudy/meshSF-0.6',\n",
      " 'datFile': 'FORCES_temporal.txt',\n",
      " 'datPath': 'optStudy-OscCylX2/run/test_case/meshStudy/meshSF-0.6/FORCES_temporal.txt',\n",
      " 'inputFile': '2D_cylinder.in',\n",
      " 'inputPath': 'optStudy-OscCylX2/run/test_case/meshStudy/meshSF-0.6/2D_cylinder.in',\n",
      " 'jobFile': 'jobslurm.sh',\n",
      " 'jobPath': 'optStudy-OscCylX2/run/test_case/meshStudy/meshSF-0.6/jobslurm.sh',\n",
      " 'logger': <Logger pymooCFD.core.cfdCase.optStudy-OscCylX2/run/test_case/meshStudy/meshSF-0.6 (DEBUG)>,\n",
      " 'meshFile': '2D_cylinder.msh22',\n",
      " 'meshPath': 'optStudy-OscCylX2/run/test_case/meshStudy/meshSF-0.6/2D_cylinder.msh22',\n",
      " 'meshSF': 0.6,\n",
      " 'msCases': None,\n",
      " 'numElem': 153338,\n",
      " 'restart': True,\n",
      " 'solnTime': 12327.819872140884,\n",
      " 'wallTime': 12300}\n",
      "\n",
      "{'_f': [1.3626882452297933, 0.05653189957711231],\n",
      " '_meshSF': None,\n",
      " '_meshSFs': None,\n",
      " '_x': array([1.8 , 0.55]),\n",
      " 'baseCaseDir': 'base_cases/osc-cyl_base',\n",
      " 'caseDir': 'optStudy-OscCylX2/run/test_case/meshStudy/meshSF-0.7',\n",
      " 'datFile': 'FORCES_temporal.txt',\n",
      " 'datPath': 'optStudy-OscCylX2/run/test_case/meshStudy/meshSF-0.7/FORCES_temporal.txt',\n",
      " 'inputFile': '2D_cylinder.in',\n",
      " 'inputPath': 'optStudy-OscCylX2/run/test_case/meshStudy/meshSF-0.7/2D_cylinder.in',\n",
      " 'jobFile': 'jobslurm.sh',\n",
      " 'jobPath': 'optStudy-OscCylX2/run/test_case/meshStudy/meshSF-0.7/jobslurm.sh',\n",
      " 'logger': <Logger pymooCFD.core.cfdCase.optStudy-OscCylX2/run/test_case/meshStudy/meshSF-0.7 (DEBUG)>,\n",
      " 'meshFile': '2D_cylinder.msh22',\n",
      " 'meshPath': 'optStudy-OscCylX2/run/test_case/meshStudy/meshSF-0.7/2D_cylinder.msh22',\n",
      " 'meshSF': 0.7,\n",
      " 'msCases': None,\n",
      " 'numElem': 144076,\n",
      " 'restart': True,\n",
      " 'solnTime': 9606.130092382431,\n",
      " 'wallTime': 9610}\n",
      "\n",
      "{'_f': [1.3616165035286834, 0.05554798230025175],\n",
      " '_meshSF': None,\n",
      " '_meshSFs': None,\n",
      " '_x': array([1.8 , 0.55]),\n",
      " 'baseCaseDir': 'base_cases/osc-cyl_base',\n",
      " 'caseDir': 'optStudy-OscCylX2/run/test_case/meshStudy/meshSF-0.8',\n",
      " 'datFile': 'FORCES_temporal.txt',\n",
      " 'datPath': 'optStudy-OscCylX2/run/test_case/meshStudy/meshSF-0.8/FORCES_temporal.txt',\n",
      " 'inputFile': '2D_cylinder.in',\n",
      " 'inputPath': 'optStudy-OscCylX2/run/test_case/meshStudy/meshSF-0.8/2D_cylinder.in',\n",
      " 'jobFile': 'jobslurm.sh',\n",
      " 'jobPath': 'optStudy-OscCylX2/run/test_case/meshStudy/meshSF-0.8/jobslurm.sh',\n",
      " 'logger': <Logger pymooCFD.core.cfdCase.optStudy-OscCylX2/run/test_case/meshStudy/meshSF-0.8 (DEBUG)>,\n",
      " 'meshFile': '2D_cylinder.msh22',\n",
      " 'meshPath': 'optStudy-OscCylX2/run/test_case/meshStudy/meshSF-0.8/2D_cylinder.msh22',\n",
      " 'meshSF': 0.8,\n",
      " 'msCases': None,\n",
      " 'numElem': 136791,\n",
      " 'restart': True,\n",
      " 'solnTime': 7777.863008975983,\n",
      " 'wallTime': 7780}\n",
      "\n",
      "{'_f': [1.3600809055824967, 0.05529652044282098],\n",
      " '_meshSF': None,\n",
      " '_meshSFs': None,\n",
      " '_x': array([1.8 , 0.55]),\n",
      " 'baseCaseDir': 'base_cases/osc-cyl_base',\n",
      " 'caseDir': 'optStudy-OscCylX2/run/test_case/meshStudy/meshSF-0.9',\n",
      " 'datFile': 'FORCES_temporal.txt',\n",
      " 'datPath': 'optStudy-OscCylX2/run/test_case/meshStudy/meshSF-0.9/FORCES_temporal.txt',\n",
      " 'inputFile': '2D_cylinder.in',\n",
      " 'inputPath': 'optStudy-OscCylX2/run/test_case/meshStudy/meshSF-0.9/2D_cylinder.in',\n",
      " 'jobFile': 'jobslurm.sh',\n",
      " 'jobPath': 'optStudy-OscCylX2/run/test_case/meshStudy/meshSF-0.9/jobslurm.sh',\n",
      " 'logger': <Logger pymooCFD.core.cfdCase.optStudy-OscCylX2/run/test_case/meshStudy/meshSF-0.9 (DEBUG)>,\n",
      " 'meshFile': '2D_cylinder.msh22',\n",
      " 'meshPath': 'optStudy-OscCylX2/run/test_case/meshStudy/meshSF-0.9/2D_cylinder.msh22',\n",
      " 'meshSF': 0.9,\n",
      " 'msCases': None,\n",
      " 'numElem': 131030,\n",
      " 'restart': True,\n",
      " 'solnTime': 6694.829936027527,\n",
      " 'wallTime': 6690}\n",
      "\n",
      "{'_f': [1.3595654545072244, 0.05547855184121237],\n",
      " '_meshSF': None,\n",
      " '_meshSFs': None,\n",
      " '_x': array([1.8 , 0.55]),\n",
      " 'baseCaseDir': 'base_cases/osc-cyl_base',\n",
      " 'caseDir': 'optStudy-OscCylX2/run/test_case/meshStudy/meshSF-1.0',\n",
      " 'datFile': 'FORCES_temporal.txt',\n",
      " 'datPath': 'optStudy-OscCylX2/run/test_case/meshStudy/meshSF-1.0/FORCES_temporal.txt',\n",
      " 'inputFile': '2D_cylinder.in',\n",
      " 'inputPath': 'optStudy-OscCylX2/run/test_case/meshStudy/meshSF-1.0/2D_cylinder.in',\n",
      " 'jobFile': 'jobslurm.sh',\n",
      " 'jobPath': 'optStudy-OscCylX2/run/test_case/meshStudy/meshSF-1.0/jobslurm.sh',\n",
      " 'logger': <Logger pymooCFD.core.cfdCase.optStudy-OscCylX2/run/test_case/meshStudy/meshSF-1.0 (DEBUG)>,\n",
      " 'meshFile': '2D_cylinder.msh22',\n",
      " 'meshPath': 'optStudy-OscCylX2/run/test_case/meshStudy/meshSF-1.0/2D_cylinder.msh22',\n",
      " 'meshSF': 1.0,\n",
      " 'msCases': None,\n",
      " 'numElem': 122927,\n",
      " 'restart': True,\n",
      " 'solnTime': 5736.671182632446,\n",
      " 'wallTime': 5740}\n",
      "\n",
      "{'_f': [1.3602001735688405, 0.05483216702505575],\n",
      " '_meshSF': None,\n",
      " '_meshSFs': None,\n",
      " '_x': array([1.8 , 0.55]),\n"
     ]
    },
    {
     "name": "stdout",
     "output_type": "stream",
     "text": [
      " 'baseCaseDir': 'base_cases/osc-cyl_base',\n",
      " 'caseDir': 'optStudy-OscCylX2/run/test_case/meshStudy/meshSF-1.1',\n",
      " 'datFile': 'FORCES_temporal.txt',\n",
      " 'datPath': 'optStudy-OscCylX2/run/test_case/meshStudy/meshSF-1.1/FORCES_temporal.txt',\n",
      " 'inputFile': '2D_cylinder.in',\n",
      " 'inputPath': 'optStudy-OscCylX2/run/test_case/meshStudy/meshSF-1.1/2D_cylinder.in',\n",
      " 'jobFile': 'jobslurm.sh',\n",
      " 'jobPath': 'optStudy-OscCylX2/run/test_case/meshStudy/meshSF-1.1/jobslurm.sh',\n",
      " 'logger': <Logger pymooCFD.core.cfdCase.optStudy-OscCylX2/run/test_case/meshStudy/meshSF-1.1 (DEBUG)>,\n",
      " 'meshFile': '2D_cylinder.msh22',\n",
      " 'meshPath': 'optStudy-OscCylX2/run/test_case/meshStudy/meshSF-1.1/2D_cylinder.msh22',\n",
      " 'meshSF': 1.1,\n",
      " 'msCases': None,\n",
      " 'numElem': 118786,\n",
      " 'restart': True,\n",
      " 'solnTime': 4930.89293718338,\n",
      " 'wallTime': 4930}\n",
      "\n",
      "{'_f': [1.3590685317006765, 0.0545471268961615],\n",
      " '_meshSF': None,\n",
      " '_meshSFs': None,\n",
      " '_x': array([1.8 , 0.55]),\n",
      " 'baseCaseDir': 'base_cases/osc-cyl_base',\n",
      " 'caseDir': 'optStudy-OscCylX2/run/test_case/meshStudy/meshSF-1.2',\n",
      " 'datFile': 'FORCES_temporal.txt',\n",
      " 'datPath': 'optStudy-OscCylX2/run/test_case/meshStudy/meshSF-1.2/FORCES_temporal.txt',\n",
      " 'inputFile': '2D_cylinder.in',\n",
      " 'inputPath': 'optStudy-OscCylX2/run/test_case/meshStudy/meshSF-1.2/2D_cylinder.in',\n",
      " 'jobFile': 'jobslurm.sh',\n",
      " 'jobPath': 'optStudy-OscCylX2/run/test_case/meshStudy/meshSF-1.2/jobslurm.sh',\n",
      " 'logger': <Logger pymooCFD.core.cfdCase.optStudy-OscCylX2/run/test_case/meshStudy/meshSF-1.2 (DEBUG)>,\n",
      " 'meshFile': '2D_cylinder.msh22',\n",
      " 'meshPath': 'optStudy-OscCylX2/run/test_case/meshStudy/meshSF-1.2/2D_cylinder.msh22',\n",
      " 'meshSF': 1.2,\n",
      " 'msCases': None,\n",
      " 'numElem': 114976,\n",
      " 'restart': True,\n",
      " 'solnTime': 4325.014355182648,\n",
      " 'wallTime': 4320}\n",
      "\n",
      "{'_f': [1.3574943041215362, 0.05365557126963302],\n",
      " '_meshSF': None,\n",
      " '_meshSFs': None,\n",
      " '_x': array([1.8 , 0.55]),\n",
      " 'baseCaseDir': 'base_cases/osc-cyl_base',\n",
      " 'caseDir': 'optStudy-OscCylX2/run/test_case/meshStudy/meshSF-1.3',\n",
      " 'datFile': 'FORCES_temporal.txt',\n",
      " 'datPath': 'optStudy-OscCylX2/run/test_case/meshStudy/meshSF-1.3/FORCES_temporal.txt',\n",
      " 'inputFile': '2D_cylinder.in',\n",
      " 'inputPath': 'optStudy-OscCylX2/run/test_case/meshStudy/meshSF-1.3/2D_cylinder.in',\n",
      " 'jobFile': 'jobslurm.sh',\n",
      " 'jobPath': 'optStudy-OscCylX2/run/test_case/meshStudy/meshSF-1.3/jobslurm.sh',\n",
      " 'logger': <Logger pymooCFD.core.cfdCase.optStudy-OscCylX2/run/test_case/meshStudy/meshSF-1.3 (DEBUG)>,\n",
      " 'meshFile': '2D_cylinder.msh22',\n",
      " 'meshPath': 'optStudy-OscCylX2/run/test_case/meshStudy/meshSF-1.3/2D_cylinder.msh22',\n",
      " 'meshSF': 1.3,\n",
      " 'msCases': None,\n",
      " 'numElem': 113742,\n",
      " 'restart': True,\n",
      " 'solnTime': 4081.9506471157074,\n",
      " 'wallTime': 4080}\n",
      "\n",
      "{'_f': [1.355750418819802, 0.053398453293118396],\n",
      " '_meshSF': None,\n",
      " '_meshSFs': None,\n",
      " '_x': array([1.8 , 0.55]),\n",
      " 'baseCaseDir': 'base_cases/osc-cyl_base',\n",
      " 'caseDir': 'optStudy-OscCylX2/run/test_case/meshStudy/meshSF-1.4',\n",
      " 'datFile': 'FORCES_temporal.txt',\n",
      " 'datPath': 'optStudy-OscCylX2/run/test_case/meshStudy/meshSF-1.4/FORCES_temporal.txt',\n",
      " 'inputFile': '2D_cylinder.in',\n",
      " 'inputPath': 'optStudy-OscCylX2/run/test_case/meshStudy/meshSF-1.4/2D_cylinder.in',\n",
      " 'jobFile': 'jobslurm.sh',\n",
      " 'jobPath': 'optStudy-OscCylX2/run/test_case/meshStudy/meshSF-1.4/jobslurm.sh',\n",
      " 'logger': <Logger pymooCFD.core.cfdCase.optStudy-OscCylX2/run/test_case/meshStudy/meshSF-1.4 (DEBUG)>,\n",
      " 'meshFile': '2D_cylinder.msh22',\n",
      " 'meshPath': 'optStudy-OscCylX2/run/test_case/meshStudy/meshSF-1.4/2D_cylinder.msh22',\n",
      " 'meshSF': 1.4,\n",
      " 'msCases': None,\n",
      " 'numElem': 108913,\n",
      " 'restart': True,\n",
      " 'solnTime': 3281.988891839981,\n",
      " 'wallTime': 3280}\n",
      "\n",
      "{'_f': [1.3562520431937666, 0.053004355231164466],\n",
      " '_meshSF': None,\n",
      " '_meshSFs': None,\n",
      " '_x': array([1.8 , 0.55]),\n",
      " 'baseCaseDir': 'base_cases/osc-cyl_base',\n",
      " 'caseDir': 'optStudy-OscCylX2/run/test_case/meshStudy/meshSF-1.5',\n",
      " 'datFile': 'FORCES_temporal.txt',\n",
      " 'datPath': 'optStudy-OscCylX2/run/test_case/meshStudy/meshSF-1.5/FORCES_temporal.txt',\n",
      " 'inputFile': '2D_cylinder.in',\n",
      " 'inputPath': 'optStudy-OscCylX2/run/test_case/meshStudy/meshSF-1.5/2D_cylinder.in',\n",
      " 'jobFile': 'jobslurm.sh',\n",
      " 'jobPath': 'optStudy-OscCylX2/run/test_case/meshStudy/meshSF-1.5/jobslurm.sh',\n",
      " 'logger': <Logger pymooCFD.core.cfdCase.optStudy-OscCylX2/run/test_case/meshStudy/meshSF-1.5 (DEBUG)>,\n",
      " 'meshFile': '2D_cylinder.msh22',\n",
      " 'meshPath': 'optStudy-OscCylX2/run/test_case/meshStudy/meshSF-1.5/2D_cylinder.msh22',\n",
      " 'meshSF': 1.5,\n",
      " 'msCases': None,\n",
      " 'numElem': 105805,\n",
      " 'restart': True,\n",
      " 'solnTime': 2798.1251633167267,\n",
      " 'wallTime': 2800}\n",
      "\n"
     ]
    }
   ],
   "source": [
    "if optStudy.testCase.msCases is None:\n",
    "    print('No Mesh Study Cases for Test Case')\n",
    "else:\n",
    "    for case in optStudy.testCase.msCases:\n",
    "        pprint(case.__dict__)\n",
    "        print()"
   ]
  },
  {
   "cell_type": "code",
   "execution_count": 20,
   "id": "cfd11d4f",
   "metadata": {},
   "outputs": [
    {
     "name": "stdout",
     "output_type": "stream",
     "text": [
      "Mesh Size Factors: [0.25 0.3  0.35 0.4  0.45 0.5  0.6  0.7  0.8  0.9  1.   1.1  1.2  1.3\n",
      " 1.4  1.5 ]\n"
     ]
    }
   ],
   "source": [
    "print('Mesh Size Factors:', optStudy.testCase.meshSFs)"
   ]
  },
  {
   "cell_type": "code",
   "execution_count": 21,
   "id": "79efdf7e",
   "metadata": {},
   "outputs": [
    {
     "name": "stdout",
     "output_type": "stream",
     "text": [
      "Directory: optStudy-OscCylX2/run/test_case/meshStudy/meshSF-0.25 | Parameters: [1.8  0.55] | Objectives: [1.506845833142245, 0.059309613011188825]\n",
      "\t Objectives: [1.506845833142245, 0.059309613011188825]\n",
      "Directory: optStudy-OscCylX2/run/test_case/meshStudy/meshSF-0.3 | Parameters: [1.8  0.55] | Objectives: [1.502514397622986, 0.05917568749498785]\n",
      "\t Objectives: [1.502514397622986, 0.05917568749498785]\n",
      "Directory: optStudy-OscCylX2/run/test_case/meshStudy/meshSF-0.35 | Parameters: [1.8  0.55] | Objectives: [1.3664096366270155, 0.05767906480673091]\n",
      "\t Objectives: [1.3664096366270155, 0.05767906480673091]\n",
      "Directory: optStudy-OscCylX2/run/test_case/meshStudy/meshSF-0.4 | Parameters: [1.8  0.55] | Objectives: [1.3655717708952229, 0.05681899678081813]\n",
      "\t Objectives: [1.3655717708952229, 0.05681899678081813]\n",
      "Directory: optStudy-OscCylX2/run/test_case/meshStudy/meshSF-0.45 | Parameters: [1.8  0.55] | Objectives: [1.364000077023959, 0.056700566099995756]\n",
      "\t Objectives: [1.364000077023959, 0.056700566099995756]\n",
      "Directory: optStudy-OscCylX2/run/test_case/meshStudy/meshSF-0.5 | Parameters: [1.8  0.55] | Objectives: [1.3642121436960404, 0.05722032874688555]\n",
      "\t Objectives: [1.3642121436960404, 0.05722032874688555]\n",
      "Directory: optStudy-OscCylX2/run/test_case/meshStudy/meshSF-0.6 | Parameters: [1.8  0.55] | Objectives: [1.3642478655483663, 0.0559127907294718]\n",
      "\t Objectives: [1.3642478655483663, 0.0559127907294718]\n",
      "Directory: optStudy-OscCylX2/run/test_case/meshStudy/meshSF-0.7 | Parameters: [1.8  0.55] | Objectives: [1.3626882452297933, 0.05653189957711231]\n",
      "\t Objectives: [1.3626882452297933, 0.05653189957711231]\n",
      "Directory: optStudy-OscCylX2/run/test_case/meshStudy/meshSF-0.8 | Parameters: [1.8  0.55] | Objectives: [1.3616165035286834, 0.05554798230025175]\n",
      "\t Objectives: [1.3616165035286834, 0.05554798230025175]\n",
      "Directory: optStudy-OscCylX2/run/test_case/meshStudy/meshSF-0.9 | Parameters: [1.8  0.55] | Objectives: [1.3600809055824967, 0.05529652044282098]\n",
      "\t Objectives: [1.3600809055824967, 0.05529652044282098]\n",
      "Directory: optStudy-OscCylX2/run/test_case/meshStudy/meshSF-1.0 | Parameters: [1.8  0.55] | Objectives: [1.3595654545072244, 0.05547855184121237]\n",
      "\t Objectives: [1.3595654545072244, 0.05547855184121237]\n",
      "Directory: optStudy-OscCylX2/run/test_case/meshStudy/meshSF-1.1 | Parameters: [1.8  0.55] | Objectives: [1.3602001735688405, 0.05483216702505575]\n",
      "\t Objectives: [1.3602001735688405, 0.05483216702505575]\n",
      "Directory: optStudy-OscCylX2/run/test_case/meshStudy/meshSF-1.2 | Parameters: [1.8  0.55] | Objectives: [1.3590685317006765, 0.0545471268961615]\n",
      "\t Objectives: [1.3590685317006765, 0.0545471268961615]\n",
      "Directory: optStudy-OscCylX2/run/test_case/meshStudy/meshSF-1.3 | Parameters: [1.8  0.55] | Objectives: [1.3574943041215362, 0.05365557126963302]\n",
      "\t Objectives: [1.3574943041215362, 0.05365557126963302]\n",
      "Directory: optStudy-OscCylX2/run/test_case/meshStudy/meshSF-1.4 | Parameters: [1.8  0.55] | Objectives: [1.355750418819802, 0.053398453293118396]\n",
      "\t Objectives: [1.355750418819802, 0.053398453293118396]\n",
      "Directory: optStudy-OscCylX2/run/test_case/meshStudy/meshSF-1.5 | Parameters: [1.8  0.55] | Objectives: [1.3562520431937666, 0.053004355231164466]\n",
      "\t Objectives: [1.3562520431937666, 0.053004355231164466]\n"
     ]
    }
   ],
   "source": [
    "if optStudy.testCase.msCases is None:\n",
    "    print('No Mesh Study Cases for Test Case')\n",
    "else:\n",
    "    for case in optStudy.testCase.msCases:\n",
    "        print(case)\n",
    "        print('\\t Objectives:', case._f)\n",
    "#     print('\\tParameters:', case._x, '\\t Objectives:', case._f)"
   ]
  },
  {
   "cell_type": "markdown",
   "id": "004d94a2",
   "metadata": {},
   "source": [
    "##### Update Test Case"
   ]
  },
  {
   "cell_type": "code",
   "execution_count": 22,
   "id": "176f4847",
   "metadata": {},
   "outputs": [],
   "source": [
    "# optStudy.appendMeshSFs(optStudy.testCase, [1.2])"
   ]
  },
  {
   "cell_type": "code",
   "execution_count": 23,
   "id": "6e9a644d",
   "metadata": {},
   "outputs": [],
   "source": [
    "# newMeshSFs = np.round(np.arange(0.3, 1.5, 0.1))\n",
    "# optStudy.saveCP()\n",
    "# optStudy.testCase.meshSFs"
   ]
  },
  {
   "cell_type": "code",
   "execution_count": 24,
   "id": "ae72504a",
   "metadata": {},
   "outputs": [
    {
     "data": {
      "text/plain": [
       "array([0.25, 0.3 , 0.35, 0.4 , 0.45, 0.5 , 0.6 , 0.7 , 0.8 , 0.9 , 1.  ,\n",
       "       1.1 , 1.2 , 1.3 , 1.4 , 1.5 ])"
      ]
     },
     "execution_count": 24,
     "metadata": {},
     "output_type": "execute_result"
    }
   ],
   "source": [
    "optStudy.testCase.meshSFs"
   ]
  },
  {
   "cell_type": "markdown",
   "id": "a07a7540",
   "metadata": {},
   "source": [
    "### Corner Case"
   ]
  },
  {
   "cell_type": "code",
   "execution_count": 25,
   "id": "bbb10af5",
   "metadata": {},
   "outputs": [
    {
     "name": "stdout",
     "output_type": "stream",
     "text": [
      "None\n"
     ]
    }
   ],
   "source": [
    "print(optStudy.cornerCases)"
   ]
  },
  {
   "cell_type": "code",
   "execution_count": 26,
   "id": "8da143cf",
   "metadata": {},
   "outputs": [],
   "source": [
    "# runCCDir = os.path.join(procOptDir, 'runCC')\n",
    "# ents = os.listdir(runCCDir)\n",
    "# CCobjs = []\n",
    "# CCvars = []\n",
    "# for ent in ents:\n",
    "#     CCDir = os.path.join(runCCDir, ent)\n",
    "#     varPath = os.path.join(CCDir, 'var.txt')\n",
    "#     CCvars.append(np.loadtxt(varPath))\n",
    "#     objPath = os.path.join(CCDir, 'obj.txt')\n",
    "#     CCobjs.append(np.loadtxt(objPath))\n",
    "# CCobjs = np.array(CCobjs)\n",
    "# CCvars = np.array(CCvars)\n",
    "# labels = [f'cc-{i}' for i in range(len(CCvars))]"
   ]
  },
  {
   "cell_type": "code",
   "execution_count": 27,
   "id": "8b2632bc",
   "metadata": {},
   "outputs": [],
   "source": [
    "# CCvars = [case.x for case in optStudy.cornerCases]"
   ]
  },
  {
   "cell_type": "code",
   "execution_count": 28,
   "id": "80c7e55f",
   "metadata": {},
   "outputs": [],
   "source": [
    "# plot = Scatter(title= 'Design Space: Corner Cases', legend = True, labels = optStudy.BaseCase.var_labels, grid=True)\n",
    "# for i, CCvar in enumerate(CCvars):\n",
    "#     plot.add(CCvar, label=f'cc-{i}')\n",
    "# plot.show()"
   ]
  },
  {
   "cell_type": "code",
   "execution_count": 29,
   "id": "b3c51597",
   "metadata": {},
   "outputs": [],
   "source": [
    "# CCobjs = [case.f for case in optStudy.cornerCases]"
   ]
  },
  {
   "cell_type": "code",
   "execution_count": 30,
   "id": "55075bb4",
   "metadata": {},
   "outputs": [],
   "source": [
    "# plot = Scatter(title= 'Objective Space: Corner Cases', legend = True, labels = optStudy.BaseCase.obj_labels)\n",
    "# for i, CCobj in enumerate(CCobjs):\n",
    "#     plot.add(CCobj, label=f'cc-{i}')\n",
    "# plot.show()"
   ]
  },
  {
   "cell_type": "code",
   "execution_count": 31,
   "id": "41c99faa",
   "metadata": {},
   "outputs": [],
   "source": [
    "# # Non-dominated Sorting of Corner Cases\n",
    "# n_survive = 1\n",
    "# F = CCobjs\n",
    "# X = CCvars\n",
    "# from pymoo.util.nds.non_dominated_sorting import NonDominatedSorting\n",
    "# nds = NonDominatedSorting()\n",
    "# # do the non-dominated sorting until splitting front\n",
    "# fronts = nds.do(F, n_stop_if_ranked=n_survive)\n",
    "# front = fronts[0]\n",
    "# nonDom_CCobj = F[front, :][0]\n",
    "# nonDom_CCvar = X[front, :][0]\n",
    "# print('Non-dominated: Corner Cases')\n",
    "# print('Parameters-', nonDom_CCvar)\n",
    "# print('Objectives-', nonDom_CCobj)"
   ]
  },
  {
   "cell_type": "markdown",
   "id": "8a7b665c",
   "metadata": {},
   "source": [
    "### Boundary Cases"
   ]
  },
  {
   "cell_type": "code",
   "execution_count": 32,
   "id": "7bdfcf00",
   "metadata": {},
   "outputs": [
    {
     "name": "stdout",
     "output_type": "stream",
     "text": [
      "[<pymooCFD.studies.oscillCyl_x2.OscillCylinder object at 0x7ff7296a3b80>, <pymooCFD.studies.oscillCyl_x2.OscillCylinder object at 0x7ff7296abbe0>, <pymooCFD.studies.oscillCyl_x2.OscillCylinder object at 0x7ff7296abd90>, <pymooCFD.studies.oscillCyl_x2.OscillCylinder object at 0x7ff7296abf40>, <pymooCFD.studies.oscillCyl_x2.OscillCylinder object at 0x7ff7296331f0>, <pymooCFD.studies.oscillCyl_x2.OscillCylinder object at 0x7ff7296333a0>, <pymooCFD.studies.oscillCyl_x2.OscillCylinder object at 0x7ff729633610>, <pymooCFD.studies.oscillCyl_x2.OscillCylinder object at 0x7ff7296337c0>]\n"
     ]
    }
   ],
   "source": [
    "print(optStudy.bndCases)"
   ]
  },
  {
   "cell_type": "code",
   "execution_count": 33,
   "id": "eddd92e0",
   "metadata": {},
   "outputs": [
    {
     "name": "stdout",
     "output_type": "stream",
     "text": [
      "Directory: optStudy-OscCylX2/run/boundary-cases/0.1_0.1 | Parameters: [0.1 0.1] | Objectives: [1.3654028095821698, 0.0013083414295006939]\n",
      "Directory: optStudy-OscCylX2/run/boundary-cases/0.1_0.55 | Parameters: [0.1  0.55] | Objectives: [1.3654889204727119, 0.0032566679535627435]\n",
      "Directory: optStudy-OscCylX2/run/boundary-cases/0.1_1 | Parameters: [0.1 1. ] | Objectives: [1.365245210210118, 0.004180238394314149]\n",
      "Directory: optStudy-OscCylX2/run/boundary-cases/1.8_0.1 | Parameters: [1.8 0.1] | Objectives: [1.2668398966474164, 0.020159713753476544]\n",
      "Directory: optStudy-OscCylX2/run/boundary-cases/1.8_1 | Parameters: [1.8 1. ] | Objectives: [1.3294751650106784, 0.07427700101781592]\n",
      "Directory: optStudy-OscCylX2/run/boundary-cases/3.5_0.1 | Parameters: [3.5 0.1] | Objectives: [2.255485231592644, 0.03922379801061056]\n",
      "Directory: optStudy-OscCylX2/run/boundary-cases/3.5_0.55 | Parameters: [3.5  0.55] | Objectives: [0.99884756495189, 0.1097338822171833]\n",
      "Directory: optStudy-OscCylX2/run/boundary-cases/3.5_1 | Parameters: [3.5 1. ] | Objectives: [1.2205340281623953, 0.14334103051229227]\n"
     ]
    }
   ],
   "source": [
    "for case in optStudy.bndCases:\n",
    "    print(case)"
   ]
  },
  {
   "cell_type": "code",
   "execution_count": 34,
   "id": "078dd960",
   "metadata": {},
   "outputs": [
    {
     "name": "stdout",
     "output_type": "stream",
     "text": [
      "[[0.1  0.1 ]\n",
      " [0.1  0.55]\n",
      " [0.1  1.  ]\n",
      " [1.8  0.1 ]\n",
      " [1.8  1.  ]\n",
      " [3.5  0.1 ]\n",
      " [3.5  0.55]\n",
      " [3.5  1.  ]]\n"
     ]
    }
   ],
   "source": [
    "bndVars = np.array([case.x for case in optStudy.bndCases])\n",
    "print(bndVars)"
   ]
  },
  {
   "cell_type": "code",
   "execution_count": 35,
   "id": "3d909216",
   "metadata": {},
   "outputs": [
    {
     "data": {
      "text/plain": [
       "<pymoo.visualization.scatter.Scatter at 0x7ff729691910>"
      ]
     },
     "execution_count": 35,
     "metadata": {},
     "output_type": "execute_result"
    },
    {
     "data": {
      "image/png": "[encoded data removed]",
      "text/plain": [
       "<Figure size 720x576 with 1 Axes>"
      ]
     },
     "metadata": {
      "needs_background": "light"
     },
     "output_type": "display_data"
    }
   ],
   "source": [
    "plot = Scatter(title= 'Design Space: Boundary Cases', \n",
    "               legend=True,\n",
    "               labels=optStudy.BaseCase.var_labels, \n",
    "               figsize=(10,8)\n",
    "              )\n",
    "for var in bndVars:\n",
    "    plot.add(var, label='[%.2f, %.2f]'%(var[0],var[1]), s=80)\n",
    "path = os.path.join(optStudy.runDir, 'boundary-cases', 'bndPts_plot-varSpace.png')\n",
    "plot.save(path, dpi=100)\n",
    "plot.show()"
   ]
  },
  {
   "cell_type": "code",
   "execution_count": 36,
   "id": "46868297",
   "metadata": {},
   "outputs": [
    {
     "name": "stdout",
     "output_type": "stream",
     "text": [
      "[[1.36540281e+00 1.30834143e-03]\n",
      " [1.36548892e+00 3.25666795e-03]\n",
      " [1.36524521e+00 4.18023839e-03]\n",
      " [1.26683990e+00 2.01597138e-02]\n",
      " [1.32947517e+00 7.42770010e-02]\n",
      " [2.25548523e+00 3.92237980e-02]\n",
      " [9.98847565e-01 1.09733882e-01]\n",
      " [1.22053403e+00 1.43341031e-01]]\n"
     ]
    }
   ],
   "source": [
    "bndObjs = np.array([case.f for case in optStudy.bndCases])\n",
    "print(bndObjs)"
   ]
  },
  {
   "cell_type": "code",
   "execution_count": 37,
   "id": "abfa396f",
   "metadata": {},
   "outputs": [
    {
     "data": {
      "text/plain": [
       "<pymoo.visualization.scatter.Scatter at 0x7ff729253b50>"
      ]
     },
     "execution_count": 37,
     "metadata": {},
     "output_type": "execute_result"
    },
    {
     "data": {
      "image/png": "[encoded data removed]",
      "text/plain": [
       "<Figure size 720x576 with 1 Axes>"
      ]
     },
     "metadata": {
      "needs_background": "light"
     },
     "output_type": "display_data"
    }
   ],
   "source": [
    "plot = Scatter(title= 'Objective Space: Boundary Cases', \n",
    "               legend = True, \n",
    "               labels=optStudy.BaseCase.obj_labels, \n",
    "               figsize=(10,8)\n",
    "              )\n",
    "for obj in bndObjs:\n",
    "    plot.add(obj, label='[%.2f, %.2f]'%(obj[0],obj[1]), s=70, alpha=1)\n",
    "path = os.path.join(optStudy.runDir, 'boundary-cases', 'bndPts_plot-objSpace.png')\n",
    "plot.save(path, dpi=100)\n",
    "plot.show()"
   ]
  },
  {
   "cell_type": "code",
   "execution_count": 38,
   "id": "6548327e",
   "metadata": {},
   "outputs": [
    {
     "name": "stdout",
     "output_type": "stream",
     "text": [
      "Non-dominated: Boundary Cases\n",
      "Parameters- [0.1 0.1]\n",
      "Objectives- [1.36540281e+00 1.30834143e-03]\n"
     ]
    }
   ],
   "source": [
    "# Non-dominated Sorting of Boundary Cases\n",
    "n_survive = 1\n",
    "F = np.array([case.f for case in optStudy.bndCases])\n",
    "X = np.array([case.x for case in optStudy.bndCases])\n",
    "from pymoo.util.nds.non_dominated_sorting import NonDominatedSorting\n",
    "nds = NonDominatedSorting()\n",
    "# do the non-dominated sorting until splitting front\n",
    "fronts = nds.do(F, n_stop_if_ranked=n_survive)\n",
    "front = fronts[0]\n",
    "nonDom_CCobj = F[front, :][0]\n",
    "nonDom_CCvar = X[front, :][0]\n",
    "print('Non-dominated: Boundary Cases')\n",
    "print('Parameters-', nonDom_CCvar)\n",
    "print('Objectives-', nonDom_CCobj)"
   ]
  },
  {
   "cell_type": "code",
   "execution_count": 39,
   "id": "e09f18d9",
   "metadata": {},
   "outputs": [],
   "source": [
    "# def plotBndPts(pts, title, path):\n",
    "#     pts = np.array(pts)\n",
    "#     if pts.shape[1] == 2:\n",
    "#         fig, ax = plt.subplots(figsize=(7,5))\n",
    "#         scale = 50\n",
    "#         for pt in pts:\n",
    "#             ax.scatter(pt[0], pt[1],\n",
    "#                        s=scale, \n",
    "#                        label='[%.2f,%.2f]'%(pt[0],pt[1]),\n",
    "#                        )\n",
    "#         # Shrink current axis by 20%\n",
    "#         box = ax.get_position()\n",
    "#         ax.set_position([box.x0, box.y0, box.width * 0.8, box.height])\n",
    "#         # Put a legend to the right of the current axis\n",
    "#         ax.legend(loc='center left', bbox_to_anchor=(1, 0.5))\n",
    "#         ax.grid(True)\n",
    "#         plt.suptitle('Boundary Points')\n",
    "# #         plt.title('Objective Space')\n",
    "# #         plt.xlabel(optStudy.BaseCase.obj_labels[0])\n",
    "# #         plt.ylabel(optStudy.BaseCase.obj_labels[1])\n",
    "#         plt.savefig(path)\n",
    "#         print('Figure saved to '+path)\n",
    "#         plt.show()\n",
    "#         plt.clf()"
   ]
  },
  {
   "cell_type": "code",
   "execution_count": 40,
   "id": "94036574",
   "metadata": {
    "scrolled": false
   },
   "outputs": [],
   "source": [
    "# var = [case.x for case in optStudy.bndCases]\n",
    "# print(var)\n",
    "# path = os.path.join(optStudy.optDatDir, 'boundary-cases', 'bndPts_plot-varSpace.png')\n",
    "# plotBndPts(var, 'Design Space', path)"
   ]
  },
  {
   "cell_type": "code",
   "execution_count": 41,
   "id": "e70989b9",
   "metadata": {},
   "outputs": [],
   "source": [
    "# obj = [case.f for case in optStudy.bndCases]\n",
    "# print(obj)\n",
    "# path = os.path.join(optStudy.optDatDir, 'boundary-cases', 'bndPts_plot-objSpace.png')\n",
    "# plotBndPts(obj, 'Objective Space', path)"
   ]
  },
  {
   "cell_type": "markdown",
   "id": "6d87a6b8",
   "metadata": {},
   "source": [
    "### Mesh Studies"
   ]
  },
  {
   "cell_type": "code",
   "execution_count": 45,
   "id": "76aefc4b",
   "metadata": {},
   "outputs": [],
   "source": [
    "def plotMeshStudy(case):\n",
    "    if case.msCases is None:\n",
    "        print('NO MESH CASES -', case)\n",
    "        return []\n",
    "    print('PLOTTING MESH STUDY')\n",
    "    print('Mesh Size Factors:', case.meshSFs)\n",
    "    print('Mesh Size Factors:', [case.meshSF for case in case.msCases])\n",
    "    _, tail = os.path.split(case.caseDir)\n",
    "    a_numElem = np.array([c.numElem for c in case.msCases])\n",
    "    a_sf = [c.meshSF for c in case.msCases]\n",
    "    msObj = np.array([c.f for c in case.msCases])\n",
    "    msTimes = np.array([c.solnTime for c in case.msCases])\n",
    "    print(msTimes)\n",
    "    # Plot\n",
    "    plots = []\n",
    "    \n",
    "    ### number of elements vs time\n",
    "    plot = Scatter(title='Mesh Study: '+tail, legend=True, grid=True, \n",
    "                   labels = ['Number of Elements', 'Solution Time [s]'],\n",
    "                   tight_layout=True\n",
    "                  )\n",
    "    for i in range(len(a_numElem)):\n",
    "        pt = np.array([a_numElem[i], msTimes[i]])\n",
    "        plot.add(pt, label=a_sf[i], marker='o', linestyle=\"-\")\n",
    "    plot.do()\n",
    "    plot.ax.get_legend().set_title('Mesh Size Factors')\n",
    "    fName = f'ms_plot-{tail}-numElem_v_time.png'\n",
    "    fPath = os.path.join(case.meshStudyDir, fName)\n",
    "    plot.save(fPath, dpi=100)\n",
    "    print('Plot Saved To '+fPath)\n",
    "    plots.append(plot)\n",
    "    for obj_i, obj_label in enumerate(case.obj_labels):\n",
    "#         fig, ax = plt.subplots(figsize=(10,5))\n",
    "#         ax.plot(a_numElem, msObj[:,obj_i])\n",
    "#         for i in range(len(a_numElem)):\n",
    "#             x = a_numElem[i]\n",
    "#             y = msObj[i, obj_i]\n",
    "#             ax.plot(x, y, \n",
    "#                     marker='o',\n",
    "#                     label=a_sf[i],\n",
    "#                    )\n",
    "#         # Shrink current axis by 20%\n",
    "#         box = ax.get_position()\n",
    "#         ax.set_position([box.x0, box.y0, box.width * 0.8, box.height])\n",
    "#         # Put a legend to the right of the current axis\n",
    "#         ax.legend(loc='center left', bbox_to_anchor=(1, 0.5))\n",
    "#         ax.grid(True)\n",
    "#         plt.title('Mesh Study: '+tail)\n",
    "#         plt.xlabel('Number of Elements')\n",
    "#         plt.ylabel(obj_label)\n",
    "#         fName = f'ms_plot-{tail}-obj{obj_i}.png'\n",
    "#         fPath = os.path.join(case.meshStudyDir, fName)\n",
    "#         fig.savefig(fPath)\n",
    "#         plots.append(plt)\n",
    "        ### Number of elements vs Objective\n",
    "        plot = Scatter(title='Mesh Study: '+tail, legend=True, grid=True, \n",
    "                       labels = ['Number of Elements', obj_label],\n",
    "                       tight_layout=True\n",
    "                      )\n",
    "        for i in range(len(a_numElem)):\n",
    "            pt = np.array([a_numElem[i], msObj[i, obj_i]])\n",
    "            plot.add(pt, label=a_sf[i], marker='o', linestyle=\"-\")\n",
    "        plot.do()\n",
    "        plot.ax.get_legend().set_title('Mesh Size Factors')\n",
    "        fName = f'ms_plot-{tail}-numElem_v_obj{obj_i}.png'\n",
    "        fPath = os.path.join(case.meshStudyDir, fName)\n",
    "        plot.save(fPath, dpi=100)\n",
    "        print('Plot Saved To '+fPath)\n",
    "        plots.append(plot)\n",
    "        \n",
    "        ### Time vs Objective\n",
    "        plot = Scatter(title='Mesh Study: '+tail, legend=True, grid=True, \n",
    "                       labels = ['Solution Time [s]', obj_label],\n",
    "                       tight_layout=True\n",
    "                      )\n",
    "        for i in range(len(a_numElem)):\n",
    "            pt = np.array([msTimes[i], msObj[i, obj_i]])\n",
    "            plot.add(pt, label=a_sf[i], marker='o', linestyle=\"-\")\n",
    "        plot.do()\n",
    "        plot.ax.get_legend().set_title('Mesh Size Factors')\n",
    "        fName = f'ms_plot-{tail}-solnTime_v_obj{obj_i}.png'\n",
    "        fPath = os.path.join(case.meshStudyDir, fName)\n",
    "        plot.save(fPath, dpi=100)\n",
    "        print('Plot Saved To '+fPath)\n",
    "        plots.append(plot)\n",
    "        \n",
    "        ### Number of Elements vs Objective vs time\n",
    "        plot = Scatter(title='Mesh Study: '+tail, legend=True, grid=True, \n",
    "                       labels = ['Number of Elements', obj_label, 'Solution Time [s]'],\n",
    "                       tight_layout=True, bbox_to_anchor = (1.05, 1.0)\n",
    "                      )\n",
    "        for i in range(len(a_numElem)):\n",
    "            pt = np.array([a_numElem[i], msObj[i, obj_i], msTimes[i]])\n",
    "            plot.add(pt, label=a_sf[i], marker='o', linestyle=\"-\")\n",
    "        plot.do()\n",
    "        plot.ax.get_legend().set_title('Mesh Size Factors')\n",
    "        plot.ax.legend(title='Mesh Size Facotr', bbox_to_anchor=(1.01, 1.0))\n",
    "        fName = f'ms_plot-{tail}-numElem_v_obj{obj_i}_v_time.png'\n",
    "        fPath = os.path.join(case.meshStudyDir, fName)\n",
    "        plot.save(fPath, dpi=100)\n",
    "        print('Plot Saved To '+fPath)\n",
    "        plots.append(plot)\n",
    "    return plots"
   ]
  },
  {
   "cell_type": "code",
   "execution_count": 46,
   "id": "b04340f8",
   "metadata": {},
   "outputs": [
    {
     "name": "stderr",
     "output_type": "stream",
     "text": [
      "2022-03-11 12:01:07,925 :: INFO     :: pymooCFD.core.cfdCase.no_osc_x3_Re500_case :: ------------------------------\n",
      "2022-03-11 12:01:07,925 :: INFO     :: pymooCFD.core.cfdCase.no_osc_x3_Re500_case :: ------------------------------\n",
      "2022-03-11 12:01:07,928 :: INFO     :: pymooCFD.core.cfdCase.no_osc_x3_Re500_case :: LOGGER INITIALIZED\n",
      "2022-03-11 12:01:07,928 :: INFO     :: pymooCFD.core.cfdCase.no_osc_x3_Re500_case :: LOGGER INITIALIZED\n",
      "2022-03-11 12:01:07,932 :: DEBUG    :: pymooCFD.core.cfdCase.no_osc_x3_Re500_case :: \tRESTART DICTONARY:\n",
      "2022-03-11 12:01:07,932 :: DEBUG    :: pymooCFD.core.cfdCase.no_osc_x3_Re500_case :: \tRESTART DICTONARY:\n",
      "2022-03-11 12:01:07,933 :: DEBUG    :: pymooCFD.core.cfdCase.no_osc_x3_Re500_case :: \t\tcaseDir: no_osc_x3_Re500_case\n",
      "2022-03-11 12:01:07,933 :: DEBUG    :: pymooCFD.core.cfdCase.no_osc_x3_Re500_case :: \t\tcaseDir: no_osc_x3_Re500_case\n",
      "2022-03-11 12:01:07,935 :: DEBUG    :: pymooCFD.core.cfdCase.no_osc_x3_Re500_case :: \t\tmeshSF: 1.0\n",
      "2022-03-11 12:01:07,935 :: DEBUG    :: pymooCFD.core.cfdCase.no_osc_x3_Re500_case :: \t\tmeshSF: 1.0\n",
      "2022-03-11 12:01:07,938 :: DEBUG    :: pymooCFD.core.cfdCase.no_osc_x3_Re500_case :: \t\trestart: False\n",
      "2022-03-11 12:01:07,938 :: DEBUG    :: pymooCFD.core.cfdCase.no_osc_x3_Re500_case :: \t\trestart: False\n",
      "2022-03-11 12:01:07,940 :: DEBUG    :: pymooCFD.core.cfdCase.no_osc_x3_Re500_case :: \t\t_x: [  0   0 500]\n",
      "2022-03-11 12:01:07,940 :: DEBUG    :: pymooCFD.core.cfdCase.no_osc_x3_Re500_case :: \t\t_x: [  0   0 500]\n",
      "2022-03-11 12:01:07,942 :: DEBUG    :: pymooCFD.core.cfdCase.no_osc_x3_Re500_case :: \t\tlogger: <Logger pymooCFD.core.cfdCase.no_osc_x3_Re500_case (DEBUG)>\n",
      "2022-03-11 12:01:07,942 :: DEBUG    :: pymooCFD.core.cfdCase.no_osc_x3_Re500_case :: \t\tlogger: <Logger pymooCFD.core.cfdCase.no_osc_x3_Re500_case (DEBUG)>\n",
      "2022-03-11 12:01:07,944 :: DEBUG    :: pymooCFD.core.cfdCase.no_osc_x3_Re500_case :: \tCHECKPOINT DICTONARY:\n",
      "2022-03-11 12:01:07,944 :: DEBUG    :: pymooCFD.core.cfdCase.no_osc_x3_Re500_case :: \tCHECKPOINT DICTONARY:\n",
      "2022-03-11 12:01:07,946 :: DEBUG    :: pymooCFD.core.cfdCase.no_osc_x3_Re500_case :: \t\tcaseDir: no_osc_x3_Re500_case\n",
      "2022-03-11 12:01:07,946 :: DEBUG    :: pymooCFD.core.cfdCase.no_osc_x3_Re500_case :: \t\tcaseDir: no_osc_x3_Re500_case\n",
      "2022-03-11 12:01:07,949 :: DEBUG    :: pymooCFD.core.cfdCase.no_osc_x3_Re500_case :: \t\tmeshSF: 1\n",
      "2022-03-11 12:01:07,949 :: DEBUG    :: pymooCFD.core.cfdCase.no_osc_x3_Re500_case :: \t\tmeshSF: 1\n",
      "2022-03-11 12:01:07,950 :: DEBUG    :: pymooCFD.core.cfdCase.no_osc_x3_Re500_case :: \t\trestart: True\n",
      "2022-03-11 12:01:07,950 :: DEBUG    :: pymooCFD.core.cfdCase.no_osc_x3_Re500_case :: \t\trestart: True\n",
      "2022-03-11 12:01:07,952 :: DEBUG    :: pymooCFD.core.cfdCase.no_osc_x3_Re500_case :: \t\t_x: [  0   0 500]\n",
      "2022-03-11 12:01:07,952 :: DEBUG    :: pymooCFD.core.cfdCase.no_osc_x3_Re500_case :: \t\t_x: [  0   0 500]\n",
      "2022-03-11 12:01:07,954 :: DEBUG    :: pymooCFD.core.cfdCase.no_osc_x3_Re500_case :: \t\tlogger: <Logger pymooCFD.core.cfdCase.no_osc_x3_Re500_case (DEBUG)>\n",
      "2022-03-11 12:01:07,954 :: DEBUG    :: pymooCFD.core.cfdCase.no_osc_x3_Re500_case :: \t\tlogger: <Logger pymooCFD.core.cfdCase.no_osc_x3_Re500_case (DEBUG)>\n",
      "2022-03-11 12:01:07,956 :: DEBUG    :: pymooCFD.core.cfdCase.no_osc_x3_Re500_case :: \t\tmeshFile: 2D_cylinder.msh22\n",
      "2022-03-11 12:01:07,956 :: DEBUG    :: pymooCFD.core.cfdCase.no_osc_x3_Re500_case :: \t\tmeshFile: 2D_cylinder.msh22\n",
      "2022-03-11 12:01:07,958 :: DEBUG    :: pymooCFD.core.cfdCase.no_osc_x3_Re500_case :: \t\tjobFile: jobslurm.sh\n",
      "2022-03-11 12:01:07,958 :: DEBUG    :: pymooCFD.core.cfdCase.no_osc_x3_Re500_case :: \t\tjobFile: jobslurm.sh\n",
      "2022-03-11 12:01:07,960 :: DEBUG    :: pymooCFD.core.cfdCase.no_osc_x3_Re500_case :: \t\tdatFile: FORCES_temporal.txt\n",
      "2022-03-11 12:01:07,960 :: DEBUG    :: pymooCFD.core.cfdCase.no_osc_x3_Re500_case :: \t\tdatFile: FORCES_temporal.txt\n",
      "2022-03-11 12:01:07,961 :: DEBUG    :: pymooCFD.core.cfdCase.no_osc_x3_Re500_case :: \t\tinputFile: 2D_cylinder.in\n",
      "2022-03-11 12:01:07,961 :: DEBUG    :: pymooCFD.core.cfdCase.no_osc_x3_Re500_case :: \t\tinputFile: 2D_cylinder.in\n",
      "2022-03-11 12:01:07,963 :: DEBUG    :: pymooCFD.core.cfdCase.no_osc_x3_Re500_case :: \t\tinputPath: no_osc_x3_Re500_case/2D_cylinder.in\n",
      "2022-03-11 12:01:07,963 :: DEBUG    :: pymooCFD.core.cfdCase.no_osc_x3_Re500_case :: \t\tinputPath: no_osc_x3_Re500_case/2D_cylinder.in\n",
      "2022-03-11 12:01:07,965 :: DEBUG    :: pymooCFD.core.cfdCase.no_osc_x3_Re500_case :: \t\tdatPath: no_osc_x3_Re500_case/FORCES_temporal.txt\n",
      "2022-03-11 12:01:07,965 :: DEBUG    :: pymooCFD.core.cfdCase.no_osc_x3_Re500_case :: \t\tdatPath: no_osc_x3_Re500_case/FORCES_temporal.txt\n",
      "2022-03-11 12:01:07,967 :: DEBUG    :: pymooCFD.core.cfdCase.no_osc_x3_Re500_case :: \t\tmeshPath: no_osc_x3_Re500_case/2D_cylinder.msh22\n",
      "2022-03-11 12:01:07,967 :: DEBUG    :: pymooCFD.core.cfdCase.no_osc_x3_Re500_case :: \t\tmeshPath: no_osc_x3_Re500_case/2D_cylinder.msh22\n",
      "2022-03-11 12:01:07,968 :: DEBUG    :: pymooCFD.core.cfdCase.no_osc_x3_Re500_case :: \t\tjobPath: no_osc_x3_Re500_case/jobslurm.sh\n",
      "2022-03-11 12:01:07,968 :: DEBUG    :: pymooCFD.core.cfdCase.no_osc_x3_Re500_case :: \t\tjobPath: no_osc_x3_Re500_case/jobslurm.sh\n",
      "2022-03-11 12:01:07,970 :: DEBUG    :: pymooCFD.core.cfdCase.no_osc_x3_Re500_case :: \t\t_f: [1.4518936832729132, 0.00133167321961853]\n",
      "2022-03-11 12:01:07,970 :: DEBUG    :: pymooCFD.core.cfdCase.no_osc_x3_Re500_case :: \t\t_f: [1.4518936832729132, 0.00133167321961853]\n",
      "2022-03-11 12:01:07,972 :: DEBUG    :: pymooCFD.core.cfdCase.no_osc_x3_Re500_case :: \t\tmsCases: [<pymooCFD.studies.oscillCyl_x3.OscillCylinder object at 0x7ff7211ca8e0>, <pymooCFD.studies.oscillCyl_x3.OscillCylinder object at 0x7ff7211ca940>, <pymooCFD.studies.oscillCyl_x3.OscillCylinder object at 0x7ff7211cac70>, <pymooCFD.studies.oscillCyl_x3.OscillCylinder object at 0x7ff7211ca760>, <pymooCFD.studies.oscillCyl_x3.OscillCylinder object at 0x7ff7211caac0>, <pymooCFD.studies.oscillCyl_x3.OscillCylinder object at 0x7ff7211cab80>, <pymooCFD.studies.oscillCyl_x3.OscillCylinder object at 0x7ff7211cac10>]\n",
      "2022-03-11 12:01:07,972 :: DEBUG    :: pymooCFD.core.cfdCase.no_osc_x3_Re500_case :: \t\tmsCases: [<pymooCFD.studies.oscillCyl_x3.OscillCylinder object at 0x7ff7211ca8e0>, <pymooCFD.studies.oscillCyl_x3.OscillCylinder object at 0x7ff7211ca940>, <pymooCFD.studies.oscillCyl_x3.OscillCylinder object at 0x7ff7211cac70>, <pymooCFD.studies.oscillCyl_x3.OscillCylinder object at 0x7ff7211ca760>, <pymooCFD.studies.oscillCyl_x3.OscillCylinder object at 0x7ff7211caac0>, <pymooCFD.studies.oscillCyl_x3.OscillCylinder object at 0x7ff7211cab80>, <pymooCFD.studies.oscillCyl_x3.OscillCylinder object at 0x7ff7211cac10>]\n",
      "2022-03-11 12:01:07,973 :: DEBUG    :: pymooCFD.core.cfdCase.no_osc_x3_Re500_case :: \t\tnumElem: 122927\n",
      "2022-03-11 12:01:07,973 :: DEBUG    :: pymooCFD.core.cfdCase.no_osc_x3_Re500_case :: \t\tnumElem: 122927\n",
      "2022-03-11 12:01:07,975 :: DEBUG    :: pymooCFD.core.cfdCase.no_osc_x3_Re500_case :: \t\t_meshSF: None\n",
      "2022-03-11 12:01:07,975 :: DEBUG    :: pymooCFD.core.cfdCase.no_osc_x3_Re500_case :: \t\t_meshSF: None\n",
      "2022-03-11 12:01:07,977 :: DEBUG    :: pymooCFD.core.cfdCase.no_osc_x3_Re500_case :: \t\t_meshSFs: [0.5  0.75 1.5  2.   3.   4.   5.  ]\n",
      "2022-03-11 12:01:07,977 :: DEBUG    :: pymooCFD.core.cfdCase.no_osc_x3_Re500_case :: \t\t_meshSFs: [0.5  0.75 1.5  2.   3.   4.   5.  ]\n",
      "2022-03-11 12:01:07,979 :: DEBUG    :: pymooCFD.core.cfdCase.no_osc_x3_Re500_case :: \t\tsolnTime: 1784.6772463321686\n",
      "2022-03-11 12:01:07,979 :: DEBUG    :: pymooCFD.core.cfdCase.no_osc_x3_Re500_case :: \t\tsolnTime: 1784.6772463321686\n",
      "2022-03-11 12:01:07,980 :: DEBUG    :: pymooCFD.core.cfdCase.no_osc_x3_Re500_case :: \t\tbaseCaseDir: base_cases/osc-cyl_base\n",
      "2022-03-11 12:01:07,980 :: DEBUG    :: pymooCFD.core.cfdCase.no_osc_x3_Re500_case :: \t\tbaseCaseDir: base_cases/osc-cyl_base\n",
      "2022-03-11 12:01:07,982 :: INFO     :: pymooCFD.core.cfdCase.no_osc_x3_Re500_case :: CHECKPOINT LOADED - no_osc_x3_Re500_case/case.npy\n",
      "2022-03-11 12:01:07,982 :: INFO     :: pymooCFD.core.cfdCase.no_osc_x3_Re500_case :: CHECKPOINT LOADED - no_osc_x3_Re500_case/case.npy\n",
      "2022-03-11 12:01:07,983 :: INFO     :: pymooCFD.core.cfdCase.no_osc_x3_Re500_case :: RESTART CASE\n",
      "2022-03-11 12:01:07,983 :: INFO     :: pymooCFD.core.cfdCase.no_osc_x3_Re500_case :: RESTART CASE\n"
     ]
    }
   ],
   "source": [
    "# case = optStudy.testCase\n",
    "# case = optStudy.bndCases[1]\n",
    "# case = optStudy.BaseCase('no_osc_case', [0, 0])\n",
    "from pymooCFD.studies.oscillCyl_x3 import optStudy\n",
    "case = optStudy.BaseCase('no_osc_x3_Re500_case', [0, 0, 5])"
   ]
  },
  {
   "cell_type": "code",
   "execution_count": 47,
   "id": "d9e0b6ba",
   "metadata": {
    "scrolled": false
   },
   "outputs": [
    {
     "name": "stdout",
     "output_type": "stream",
     "text": [
      "CASE: Directory: no_osc_x3_Re500_case | Parameters: [  0   0 500] | Objectives: [1.4518936832729132, 0.00133167321961853]\n",
      "PLOTTING MESH STUDY\n",
      "Mesh Size Factors: [0.5  0.75 1.5  2.   3.   4.   5.  ]\n",
      "Mesh Size Factors: [0.5, 0.75, 1.5, 2.0, 3.0, 4.0, 5.0]\n",
      "[5376.79274559 3765.18776417 2017.56183529 1454.9929235   832.17063046\n",
      "  647.60059595  495.8168695 ]\n",
      "Plot Saved To no_osc_x3_Re500_case/meshStudy/ms_plot-no_osc_x3_Re500_case-numElem_v_time.png\n",
      "Plot Saved To no_osc_x3_Re500_case/meshStudy/ms_plot-no_osc_x3_Re500_case-numElem_v_obj0.png\n",
      "Plot Saved To no_osc_x3_Re500_case/meshStudy/ms_plot-no_osc_x3_Re500_case-solnTime_v_obj0.png\n",
      "Plot Saved To no_osc_x3_Re500_case/meshStudy/ms_plot-no_osc_x3_Re500_case-numElem_v_obj0_v_time.png\n",
      "Plot Saved To no_osc_x3_Re500_case/meshStudy/ms_plot-no_osc_x3_Re500_case-numElem_v_obj1.png\n",
      "Plot Saved To no_osc_x3_Re500_case/meshStudy/ms_plot-no_osc_x3_Re500_case-solnTime_v_obj1.png\n",
      "Plot Saved To no_osc_x3_Re500_case/meshStudy/ms_plot-no_osc_x3_Re500_case-numElem_v_obj1_v_time.png\n"
     ]
    },
    {
     "data": {
      "image/png": "[encoded data removed]",
      "text/plain": [
       "<Figure size 576x432 with 1 Axes>"
      ]
     },
     "metadata": {
      "needs_background": "light"
     },
     "output_type": "display_data"
    },
    {
     "data": {
      "image/png": "[encoded data removed]",
      "text/plain": [
       "<Figure size 576x432 with 1 Axes>"
      ]
     },
     "metadata": {
      "needs_background": "light"
     },
     "output_type": "display_data"
    },
    {
     "data": {
      "image/png": "[encoded data removed]",
      "text/plain": [
       "<Figure size 576x432 with 1 Axes>"
      ]
     },
     "metadata": {
      "needs_background": "light"
     },
     "output_type": "display_data"
    },
    {
     "data": {
      "image/png": "[encoded data removed]",
      "text/plain": [
       "<Figure size 576x432 with 1 Axes>"
      ]
     },
     "metadata": {
      "needs_background": "light"
     },
     "output_type": "display_data"
    },
    {
     "data": {
      "image/png": "[encoded data removed]",
      "text/plain": [
       "<Figure size 576x432 with 1 Axes>"
      ]
     },
     "metadata": {
      "needs_background": "light"
     },
     "output_type": "display_data"
    },
    {
     "data": {
      "image/png": "[encoded data removed]",
      "text/plain": [
       "<Figure size 576x432 with 1 Axes>"
      ]
     },
     "metadata": {
      "needs_background": "light"
     },
     "output_type": "display_data"
    },
    {
     "data": {
      "image/png": "[encoded data removed]",
      "text/plain": [
       "<Figure size 576x432 with 1 Axes>"
      ]
     },
     "metadata": {
      "needs_background": "light"
     },
     "output_type": "display_data"
    }
   ],
   "source": [
    "print('CASE:', case)\n",
    "plots = plotMeshStudy(case)\n",
    "# for plot in plots:\n",
    "#     plot.show()"
   ]
  },
  {
   "cell_type": "code",
   "execution_count": 50,
   "id": "e4c654e6",
   "metadata": {},
   "outputs": [
    {
     "name": "stdout",
     "output_type": "stream",
     "text": [
      "None\n"
     ]
    },
    {
     "ename": "TypeError",
     "evalue": "'NoneType' object is not iterable",
     "output_type": "error",
     "traceback": [
      "\u001b[0;31m---------------------------------------------------------------------------\u001b[0m",
      "\u001b[0;31mTypeError\u001b[0m                                 Traceback (most recent call last)",
      "\u001b[0;32m/tmp/ipykernel_82859/1958402523.py\u001b[0m in \u001b[0;36m<module>\u001b[0;34m\u001b[0m\n\u001b[1;32m      1\u001b[0m \u001b[0mprint\u001b[0m\u001b[0;34m(\u001b[0m\u001b[0moptStudy\u001b[0m\u001b[0;34m.\u001b[0m\u001b[0mbndCases\u001b[0m\u001b[0;34m)\u001b[0m\u001b[0;34m\u001b[0m\u001b[0;34m\u001b[0m\u001b[0m\n\u001b[0;32m----> 2\u001b[0;31m \u001b[0;32mfor\u001b[0m \u001b[0mcase\u001b[0m \u001b[0;32min\u001b[0m \u001b[0moptStudy\u001b[0m\u001b[0;34m.\u001b[0m\u001b[0mbndCases\u001b[0m\u001b[0;34m:\u001b[0m\u001b[0;34m\u001b[0m\u001b[0;34m\u001b[0m\u001b[0m\n\u001b[0m\u001b[1;32m      3\u001b[0m     \u001b[0mprint\u001b[0m\u001b[0;34m(\u001b[0m\u001b[0;34m'CASE:'\u001b[0m\u001b[0;34m,\u001b[0m \u001b[0mcase\u001b[0m\u001b[0;34m)\u001b[0m\u001b[0;34m\u001b[0m\u001b[0;34m\u001b[0m\u001b[0m\n\u001b[1;32m      4\u001b[0m     \u001b[0mplots\u001b[0m \u001b[0;34m=\u001b[0m \u001b[0mplotMeshStudy\u001b[0m\u001b[0;34m(\u001b[0m\u001b[0mcase\u001b[0m\u001b[0;34m)\u001b[0m\u001b[0;34m\u001b[0m\u001b[0;34m\u001b[0m\u001b[0m\n\u001b[1;32m      5\u001b[0m     \u001b[0;32mfor\u001b[0m \u001b[0mplot\u001b[0m \u001b[0;32min\u001b[0m \u001b[0mplots\u001b[0m\u001b[0;34m:\u001b[0m\u001b[0;34m\u001b[0m\u001b[0;34m\u001b[0m\u001b[0m\n",
      "\u001b[0;31mTypeError\u001b[0m: 'NoneType' object is not iterable"
     ]
    }
   ],
   "source": [
    "print(optStudy.bndCases)\n",
    "for case in optStudy.bndCases:\n",
    "    print('CASE:', case)\n",
    "    plots = plotMeshStudy(case)\n",
    "    for plot in plots:\n",
    "        plot.show()"
   ]
  },
  {
   "cell_type": "markdown",
   "id": "1d92c143",
   "metadata": {},
   "source": [
    "### Generation 1"
   ]
  },
  {
   "cell_type": "code",
   "execution_count": 51,
   "id": "2f76f29a",
   "metadata": {},
   "outputs": [
    {
     "name": "stdout",
     "output_type": "stream",
     "text": [
      "None\n"
     ]
    }
   ],
   "source": [
    "print(optStudy.algorithm.history)"
   ]
  },
  {
   "cell_type": "code",
   "execution_count": 52,
   "id": "63ed40b9",
   "metadata": {},
   "outputs": [
    {
     "ename": "TypeError",
     "evalue": "'NoneType' object is not subscriptable",
     "output_type": "error",
     "traceback": [
      "\u001b[0;31m---------------------------------------------------------------------------\u001b[0m",
      "\u001b[0;31mTypeError\u001b[0m                                 Traceback (most recent call last)",
      "\u001b[0;32m/tmp/ipykernel_82859/1317587409.py\u001b[0m in \u001b[0;36m<module>\u001b[0;34m\u001b[0m\n\u001b[0;32m----> 1\u001b[0;31m \u001b[0mprint\u001b[0m\u001b[0;34m(\u001b[0m\u001b[0moptStudy\u001b[0m\u001b[0;34m.\u001b[0m\u001b[0malgorithm\u001b[0m\u001b[0;34m.\u001b[0m\u001b[0mhistory\u001b[0m\u001b[0;34m[\u001b[0m\u001b[0;36m0\u001b[0m\u001b[0;34m]\u001b[0m\u001b[0;34m.\u001b[0m\u001b[0mpop\u001b[0m\u001b[0;34m)\u001b[0m\u001b[0;34m\u001b[0m\u001b[0;34m\u001b[0m\u001b[0m\n\u001b[0m",
      "\u001b[0;31mTypeError\u001b[0m: 'NoneType' object is not subscriptable"
     ]
    }
   ],
   "source": [
    "print(optStudy.algorithm.history[0].pop)"
   ]
  },
  {
   "cell_type": "markdown",
   "id": "625c1448",
   "metadata": {},
   "source": [
    "##### Generation 1: Parameter Space"
   ]
  },
  {
   "cell_type": "code",
   "execution_count": null,
   "id": "15b9e638",
   "metadata": {},
   "outputs": [],
   "source": []
  },
  {
   "cell_type": "code",
   "execution_count": 53,
   "id": "f6f71c60",
   "metadata": {},
   "outputs": [
    {
     "ename": "TypeError",
     "evalue": "'NoneType' object is not subscriptable",
     "output_type": "error",
     "traceback": [
      "\u001b[0;31m---------------------------------------------------------------------------\u001b[0m",
      "\u001b[0;31mTypeError\u001b[0m                                 Traceback (most recent call last)",
      "\u001b[0;32m/tmp/ipykernel_82859/3329619851.py\u001b[0m in \u001b[0;36m<module>\u001b[0;34m\u001b[0m\n\u001b[0;32m----> 1\u001b[0;31m \u001b[0mpopX\u001b[0m \u001b[0;34m=\u001b[0m \u001b[0moptStudy\u001b[0m\u001b[0;34m.\u001b[0m\u001b[0malgorithm\u001b[0m\u001b[0;34m.\u001b[0m\u001b[0mhistory\u001b[0m\u001b[0;34m[\u001b[0m\u001b[0;36m0\u001b[0m\u001b[0;34m]\u001b[0m\u001b[0;34m.\u001b[0m\u001b[0mpop\u001b[0m\u001b[0;34m.\u001b[0m\u001b[0mget\u001b[0m\u001b[0;34m(\u001b[0m\u001b[0;34m'X'\u001b[0m\u001b[0;34m)\u001b[0m\u001b[0;34m\u001b[0m\u001b[0;34m\u001b[0m\u001b[0m\n\u001b[0m\u001b[1;32m      2\u001b[0m \u001b[0mgen\u001b[0m \u001b[0;34m=\u001b[0m \u001b[0moptStudy\u001b[0m\u001b[0;34m.\u001b[0m\u001b[0malgorithm\u001b[0m\u001b[0;34m.\u001b[0m\u001b[0mhistory\u001b[0m\u001b[0;34m[\u001b[0m\u001b[0;36m0\u001b[0m\u001b[0;34m]\u001b[0m\u001b[0;34m.\u001b[0m\u001b[0mn_gen\u001b[0m\u001b[0;34m\u001b[0m\u001b[0;34m\u001b[0m\u001b[0m\n\u001b[1;32m      3\u001b[0m \u001b[0;32mif\u001b[0m \u001b[0mlen\u001b[0m\u001b[0;34m(\u001b[0m\u001b[0mpopX\u001b[0m\u001b[0;34m)\u001b[0m \u001b[0;34m<=\u001b[0m \u001b[0;36m10\u001b[0m\u001b[0;34m:\u001b[0m\u001b[0;34m\u001b[0m\u001b[0;34m\u001b[0m\u001b[0m\n\u001b[1;32m      4\u001b[0m     \u001b[0mleg\u001b[0m \u001b[0;34m=\u001b[0m \u001b[0;32mTrue\u001b[0m\u001b[0;34m\u001b[0m\u001b[0;34m\u001b[0m\u001b[0m\n\u001b[1;32m      5\u001b[0m \u001b[0;32melse\u001b[0m\u001b[0;34m:\u001b[0m\u001b[0;34m\u001b[0m\u001b[0;34m\u001b[0m\u001b[0m\n",
      "\u001b[0;31mTypeError\u001b[0m: 'NoneType' object is not subscriptable"
     ]
    }
   ],
   "source": [
    "popX = optStudy.algorithm.history[0].pop.get('X')\n",
    "gen = optStudy.algorithm.history[0].n_gen\n",
    "if len(popX) <= 10:\n",
    "    leg = True\n",
    "else:\n",
    "    leg = False\n",
    "plot = Scatter(title=f'Generation {gen} Design Space', \n",
    "               legend=leg, \n",
    "               labels=optStudy.BaseCase.var_labels,\n",
    "#                figsize=(10,8)\n",
    "              )\n",
    "for ind_i, ind in enumerate(popX):\n",
    "    plot.add(ind, label=f'IND {ind_i+1}')\n",
    "# save parameter space plot\n",
    "plot.save(optStudy.plotDir + '/gen1_var_space.png', dpi=100)\n",
    "plot.show()"
   ]
  },
  {
   "cell_type": "markdown",
   "id": "9cc76471",
   "metadata": {},
   "source": [
    "##### Generation 1: Objective Space"
   ]
  },
  {
   "cell_type": "code",
   "execution_count": 54,
   "id": "46279d15",
   "metadata": {},
   "outputs": [
    {
     "ename": "TypeError",
     "evalue": "'NoneType' object is not subscriptable",
     "output_type": "error",
     "traceback": [
      "\u001b[0;31m---------------------------------------------------------------------------\u001b[0m",
      "\u001b[0;31mTypeError\u001b[0m                                 Traceback (most recent call last)",
      "\u001b[0;32m/tmp/ipykernel_82859/2472797185.py\u001b[0m in \u001b[0;36m<module>\u001b[0;34m\u001b[0m\n\u001b[0;32m----> 1\u001b[0;31m \u001b[0mpopF\u001b[0m \u001b[0;34m=\u001b[0m \u001b[0moptStudy\u001b[0m\u001b[0;34m.\u001b[0m\u001b[0malgorithm\u001b[0m\u001b[0;34m.\u001b[0m\u001b[0mhistory\u001b[0m\u001b[0;34m[\u001b[0m\u001b[0;36m0\u001b[0m\u001b[0;34m]\u001b[0m\u001b[0;34m.\u001b[0m\u001b[0mpop\u001b[0m\u001b[0;34m.\u001b[0m\u001b[0mget\u001b[0m\u001b[0;34m(\u001b[0m\u001b[0;34m'F'\u001b[0m\u001b[0;34m)\u001b[0m\u001b[0;34m\u001b[0m\u001b[0;34m\u001b[0m\u001b[0m\n\u001b[0m\u001b[1;32m      2\u001b[0m \u001b[0mgen\u001b[0m \u001b[0;34m=\u001b[0m \u001b[0moptStudy\u001b[0m\u001b[0;34m.\u001b[0m\u001b[0malgorithm\u001b[0m\u001b[0;34m.\u001b[0m\u001b[0mhistory\u001b[0m\u001b[0;34m[\u001b[0m\u001b[0;36m0\u001b[0m\u001b[0;34m]\u001b[0m\u001b[0;34m.\u001b[0m\u001b[0mn_gen\u001b[0m\u001b[0;34m\u001b[0m\u001b[0;34m\u001b[0m\u001b[0m\n\u001b[1;32m      3\u001b[0m \u001b[0;32mif\u001b[0m \u001b[0mlen\u001b[0m\u001b[0;34m(\u001b[0m\u001b[0mpopF\u001b[0m\u001b[0;34m)\u001b[0m \u001b[0;34m<=\u001b[0m \u001b[0;36m10\u001b[0m\u001b[0;34m:\u001b[0m\u001b[0;34m\u001b[0m\u001b[0;34m\u001b[0m\u001b[0m\n\u001b[1;32m      4\u001b[0m     \u001b[0mleg\u001b[0m \u001b[0;34m=\u001b[0m \u001b[0;32mTrue\u001b[0m\u001b[0;34m\u001b[0m\u001b[0;34m\u001b[0m\u001b[0m\n\u001b[1;32m      5\u001b[0m \u001b[0;32melse\u001b[0m\u001b[0;34m:\u001b[0m\u001b[0;34m\u001b[0m\u001b[0;34m\u001b[0m\u001b[0m\n",
      "\u001b[0;31mTypeError\u001b[0m: 'NoneType' object is not subscriptable"
     ]
    }
   ],
   "source": [
    "popF = optStudy.algorithm.history[0].pop.get('F')\n",
    "gen = optStudy.algorithm.history[0].n_gen\n",
    "if len(popF) <= 10:\n",
    "    leg = True\n",
    "else:\n",
    "    leg = False\n",
    "plot = Scatter(title=f'Generation {gen} Objective Space', \n",
    "               legend=leg, \n",
    "               labels=optStudy.BaseCase.obj_labels\n",
    "              )\n",
    "for ind_i, ind in enumerate(popF):\n",
    "    plot.add(ind, label=f'IND {ind_i+1}')\n",
    "# save parameter space plot\n",
    "plot.save(os.path.join(optStudy.plotDir, 'gen1_var_space.png'), dpi=100)\n",
    "plot.show()"
   ]
  },
  {
   "cell_type": "markdown",
   "id": "0976265c",
   "metadata": {},
   "source": [
    "####"
   ]
  },
  {
   "cell_type": "code",
   "execution_count": null,
   "id": "45b53189",
   "metadata": {},
   "outputs": [],
   "source": []
  },
  {
   "cell_type": "markdown",
   "id": "6368a494",
   "metadata": {},
   "source": [
    "##### Generation 1: Examine Parameter to Objective Space Mapping\n",
    "Plot every parameter and objective against each other "
   ]
  },
  {
   "cell_type": "code",
   "execution_count": 55,
   "id": "b8b8e0f6",
   "metadata": {},
   "outputs": [],
   "source": [
    "optStudy.mapDir = 'optStudy-OscillCylinderOpt/run/mapGen1'\n",
    "# optStudy.saveCP()"
   ]
  },
  {
   "cell_type": "code",
   "execution_count": 56,
   "id": "b3c68933",
   "metadata": {},
   "outputs": [
    {
     "ename": "TypeError",
     "evalue": "'NoneType' object is not subscriptable",
     "output_type": "error",
     "traceback": [
      "\u001b[0;31m---------------------------------------------------------------------------\u001b[0m",
      "\u001b[0;31mTypeError\u001b[0m                                 Traceback (most recent call last)",
      "\u001b[0;32m/tmp/ipykernel_82859/3871485673.py\u001b[0m in \u001b[0;36m<module>\u001b[0;34m\u001b[0m\n\u001b[1;32m      5\u001b[0m \u001b[0mvar_labels\u001b[0m \u001b[0;34m=\u001b[0m \u001b[0moptStudy\u001b[0m\u001b[0;34m.\u001b[0m\u001b[0mBaseCase\u001b[0m\u001b[0;34m.\u001b[0m\u001b[0mvar_labels\u001b[0m\u001b[0;34m\u001b[0m\u001b[0;34m\u001b[0m\u001b[0m\n\u001b[1;32m      6\u001b[0m \u001b[0mobj_labels\u001b[0m \u001b[0;34m=\u001b[0m \u001b[0moptStudy\u001b[0m\u001b[0;34m.\u001b[0m\u001b[0mBaseCase\u001b[0m\u001b[0;34m.\u001b[0m\u001b[0mobj_labels\u001b[0m\u001b[0;34m\u001b[0m\u001b[0;34m\u001b[0m\u001b[0m\n\u001b[0;32m----> 7\u001b[0;31m \u001b[0mpopX\u001b[0m \u001b[0;34m=\u001b[0m \u001b[0moptStudy\u001b[0m\u001b[0;34m.\u001b[0m\u001b[0malgorithm\u001b[0m\u001b[0;34m.\u001b[0m\u001b[0mhistory\u001b[0m\u001b[0;34m[\u001b[0m\u001b[0;36m0\u001b[0m\u001b[0;34m]\u001b[0m\u001b[0;34m.\u001b[0m\u001b[0mpop\u001b[0m\u001b[0;34m.\u001b[0m\u001b[0mget\u001b[0m\u001b[0;34m(\u001b[0m\u001b[0;34m'X'\u001b[0m\u001b[0;34m)\u001b[0m\u001b[0;34m.\u001b[0m\u001b[0mastype\u001b[0m\u001b[0;34m(\u001b[0m\u001b[0mfloat\u001b[0m\u001b[0;34m)\u001b[0m\u001b[0;34m\u001b[0m\u001b[0;34m\u001b[0m\u001b[0m\n\u001b[0m\u001b[1;32m      8\u001b[0m \u001b[0mpopF\u001b[0m \u001b[0;34m=\u001b[0m \u001b[0moptStudy\u001b[0m\u001b[0;34m.\u001b[0m\u001b[0malgorithm\u001b[0m\u001b[0;34m.\u001b[0m\u001b[0mhistory\u001b[0m\u001b[0;34m[\u001b[0m\u001b[0;36m0\u001b[0m\u001b[0;34m]\u001b[0m\u001b[0;34m.\u001b[0m\u001b[0mpop\u001b[0m\u001b[0;34m.\u001b[0m\u001b[0mget\u001b[0m\u001b[0;34m(\u001b[0m\u001b[0;34m'F'\u001b[0m\u001b[0;34m)\u001b[0m\u001b[0;34m.\u001b[0m\u001b[0mastype\u001b[0m\u001b[0;34m(\u001b[0m\u001b[0mfloat\u001b[0m\u001b[0;34m)\u001b[0m\u001b[0;34m\u001b[0m\u001b[0;34m\u001b[0m\u001b[0m\n\u001b[1;32m      9\u001b[0m \u001b[0mmapPaths\u001b[0m \u001b[0;34m=\u001b[0m \u001b[0;34m[\u001b[0m\u001b[0;34m]\u001b[0m\u001b[0;34m\u001b[0m\u001b[0;34m\u001b[0m\u001b[0m\n",
      "\u001b[0;31mTypeError\u001b[0m: 'NoneType' object is not subscriptable"
     ]
    }
   ],
   "source": [
    "%%capture\n",
    "# ^ suppresses output\n",
    "from scipy.stats import linregress\n",
    "##### Variable vs. Objective Plots ######\n",
    "# extract objectives and variables columns and plot them against each other\n",
    "var_labels = optStudy.BaseCase.var_labels\n",
    "obj_labels = optStudy.BaseCase.obj_labels\n",
    "popX = optStudy.algorithm.history[0].pop.get('X').astype(float)\n",
    "popF = optStudy.algorithm.history[0].pop.get('F').astype(float)\n",
    "mapPaths = []\n",
    "# plots = []\n",
    "fig = plt.figure(figsize=(10,8))\n",
    "for x_i, x in enumerate(popX.transpose()):\n",
    "    for f_i, f in enumerate(popF.transpose()):\n",
    "        plot = Scatter(title=f'{var_labels[x_i]} vs. {obj_labels[f_i]}',\n",
    "                       labels=[var_labels[x_i], obj_labels[f_i]], \n",
    "#                        figsize=(10,8)\n",
    "#                        legend = True,\n",
    "                      )\n",
    "        xf = np.column_stack((x,f))\n",
    "        plot.add(xf)\n",
    "        \n",
    "        ### Linear best fit line \n",
    "#         m, b, r_value, p_value, std_err = linregress(x, f)\n",
    "#         r_squared = r_value**2\n",
    "#         xy = np.column_stack((x, m*x+b))\n",
    "#         plot.n_dim = 2\n",
    "#         plot._do()\n",
    "#         plot.plot(plot.ax, 'line', xy, label='Best Linear Fit', c='r')\n",
    "#         plot.ax.text(min(xf[:,0]), max(xf[:,1]), 'Best Linear Fit', \n",
    "#                      horizontalalignment='left',\n",
    "#                      c = 'r',\n",
    "#                      size = 16\n",
    "#                     )\n",
    "#         plot.ax.text(max(xf[:,0]), max(xf[:,1]), r'$r^2$={0:.4f}'.format(r_squared), \n",
    "#                      horizontalalignment='right',\n",
    "#                      c = 'r',\n",
    "#                      size = 16\n",
    "#                     )\n",
    "\n",
    "        ### Polynomial best fit lines\n",
    "        plot.do()\n",
    "        plot.legend = True\n",
    "        c = ['r', 'g', 'm']\n",
    "        for d in range(1, 3+1):\n",
    "            coefs = np.polyfit(x, f, d)\n",
    "            y = np.polyval(coefs, x)\n",
    "            xy = np.column_stack((x, y))\n",
    "            xy = np.sort(xy, axis=0)\n",
    "#             plot.add(xy, label=f'Order {d} Best Fit', marker='x')\n",
    "            plot.ax.plot(xy[:,0], xy[:,1], label=f'Order {d} Best Fit', c=c[d-1])\n",
    "        plot.do()\n",
    "        var_str = var_labels[x_i].replace(\" \", \"_\").replace(\"/\", \"|\")\n",
    "        obj_str = obj_labels[f_i].replace(\" \", \"_\").replace(\"/\", \"|\")\n",
    "        fName = f'{var_str}-vs-{obj_str}.png'\n",
    "        path = os.path.join(optStudy.mapDir, fName)\n",
    "        mapPaths.append(path)\n",
    "#         plots.append(plot)\n",
    "        plot.save(path, dpi=100)\n",
    "#         plot.show()\n",
    "#         ax = fig.add_subplot(111).add_axes(plot.ax)\n",
    "#         ax = plot.ax\n",
    "# fig.show()\n",
    "# fig, axes = plt.subplots(2,2)\n",
    "# print(fig)\n",
    "# for row in axes:\n",
    "#     for ax in row:\n",
    "#         print(ax)\n",
    "#         ax = plots[0].ax\n",
    "#         print(ax)\n",
    "# for row in axes:\n",
    "#     for ax in row:\n",
    "# #         ax = plots[0]\n",
    "#         print(ax)\n",
    "# print(plots[0].ax)\n",
    "# fig = plt.figure()\n",
    "# for i, plot in enumerate(plots):\n",
    "#     ax = fig.add_subplot(int(f'{i+1}11'))\n",
    "#     ax.text(1,1,i)\n",
    "    \n",
    "    \n",
    "\n",
    "# len_ax = round(len(plots)/2)\n",
    "# fig, ax = plt.subplots(len_ax,len_ax)\n",
    "# c = 0\n",
    "# for i in range(len_ax):\n",
    "#     for j in range(len_ax):\n",
    "#         if c <= len(plots):    \n",
    "#             print(plots[c])\n",
    "#             ax[i][j] = plots[c].ax\n",
    "#             c += 1"
   ]
  },
  {
   "cell_type": "markdown",
   "id": "f9bd9eb1",
   "metadata": {},
   "source": [
    "#### Generation 1: Display Mapping\n",
    "Remember that for each plot the parameters(s) not labeled are also varying. \n",
    "\n",
    "Therefore, if a strong relationship is seen in these plots then it is likely a relationship independent of the other variable.\n"
   ]
  },
  {
   "cell_type": "code",
   "execution_count": null,
   "id": "8871aa8b",
   "metadata": {
    "scrolled": false
   },
   "outputs": [],
   "source": [
    "from IPython.display import Image, display\n",
    "for mapPath in mapPaths:\n",
    "    display(Image(filename=mapPath))"
   ]
  },
  {
   "cell_type": "markdown",
   "id": "53eca44d",
   "metadata": {},
   "source": [
    "# Post-Process Optimization Study"
   ]
  },
  {
   "cell_type": "markdown",
   "id": "e5dcbb9d",
   "metadata": {},
   "source": [
    "### Optimization Algorithm Convergence"
   ]
  },
  {
   "cell_type": "code",
   "execution_count": null,
   "id": "b09de62c",
   "metadata": {},
   "outputs": [],
   "source": [
    "hist = optStudy.algorithm.history\n",
    "n_evals = np.array([e.evaluator.n_eval for e in hist])\n",
    "print('Number of Evaluations:', n_evals)"
   ]
  },
  {
   "cell_type": "code",
   "execution_count": null,
   "id": "530f14d8",
   "metadata": {},
   "outputs": [],
   "source": [
    "opt_avg = []\n",
    "for h in hist:\n",
    "    F_opt = np.array([o.F for o in h.opt])\n",
    "    F_avg = np.mean(F_opt, axis=0)\n",
    "    print(F_avg)\n",
    "    opt_avg.append(F_avg)\n",
    "opt_avg = np.array(opt_avg)"
   ]
  },
  {
   "cell_type": "code",
   "execution_count": null,
   "id": "2d3359af",
   "metadata": {},
   "outputs": [],
   "source": [
    "for obj_i in range(optStudy.BaseCase.n_obj):\n",
    "#     print(opt_sum)\n",
    "    opt_obj = opt_avg[:,obj_i]\n",
    "#     print(opt_obj)\n",
    "    plt.suptitle('Convergence of Objective Mean')\n",
    "    plt.title(f'Objective {obj_i+1}: {obj_labels[obj_i]}')\n",
    "    plt.plot(n_evals, opt_obj, \"--\")\n",
    "    plt.xlabel('Number of Evaluations')\n",
    "    plt.ylabel('Mean of Optimum Objectives')\n",
    "#     plt.yscale(\"log\")\n",
    "    plt.savefig(os.path.join(optStudy.plotDir, f'convergence-obj{obj_i}')) #_{obj_labels[obj_i]}'))\n",
    "    plt.show()"
   ]
  },
  {
   "cell_type": "code",
   "execution_count": null,
   "id": "969b6465",
   "metadata": {},
   "outputs": [],
   "source": [
    "opt_minL = 1000\n",
    "for h in hist:\n",
    "    l = len(h.opt)\n",
    "    if l < opt_minL:\n",
    "        opt_minL = l\n",
    "print('Optimum minimum length:', opt_minL)\n",
    "opt_sum = []\n",
    "for h in hist:\n",
    "    F_opt = np.array([o.F for o in h.opt[:opt_minL]])\n",
    "    F_sum = np.sum(F_opt, axis=0)\n",
    "#     print(F_sum)\n",
    "    opt_sum.append(F_sum)\n",
    "opt_sum = np.array(opt_sum)"
   ]
  },
  {
   "cell_type": "code",
   "execution_count": null,
   "id": "7b62ec36",
   "metadata": {},
   "outputs": [],
   "source": [
    "for obj_i in range(optStudy.BaseCase.n_obj):\n",
    "#     print(opt_sum)\n",
    "    opt_obj = opt_sum[:,obj_i]\n",
    "#     print(opt_obj)\n",
    "    plt.suptitle('Convergence of Objective Sum')\n",
    "    plt.title(f'Objective {obj_i+1}: {obj_labels[obj_i]}')\n",
    "    plt.plot(n_evals, opt_obj, \"--\")\n",
    "    plt.xlabel('Number of Evaluations')\n",
    "    plt.ylabel('Sum of Optimum Objectives')\n",
    "#     plt.yscale(\"log\")\n",
    "    plt.savefig(os.path.join(optStudy.plotDir, f'convergence-obj{obj_i}')) #_{obj_labels[obj_i]}'))\n",
    "    plt.show()"
   ]
  },
  {
   "cell_type": "code",
   "execution_count": null,
   "id": "a8399a51",
   "metadata": {},
   "outputs": [],
   "source": [
    "hist = optStudy.algorithm.history\n",
    "opt = np.array([e.opt[0].F for e in hist])"
   ]
  },
  {
   "cell_type": "code",
   "execution_count": null,
   "id": "fcea953b",
   "metadata": {},
   "outputs": [],
   "source": [
    "for obj_i in range(len(opt[0])):\n",
    "    opt_obj = opt[:,obj_i]\n",
    "#     print(opt_obj)\n",
    "    plt.suptitle('Convergence of ')\n",
    "    plt.title(f'Objective {obj_i+1}: {obj_labels[obj_i]}')\n",
    "    plt.plot(n_evals, opt_obj, \"--\")\n",
    "#     plt.yscale(\"log\")\n",
    "    plt.savefig(os.path.join(optStudy.plotDir, f'convergence-obj{obj_i}')) #_{obj_labels[obj_i]}'))\n",
    "    plt.show()"
   ]
  },
  {
   "cell_type": "markdown",
   "id": "8caa6dc1",
   "metadata": {},
   "source": [
    "### Performance Indicator - Hypervolume\n",
    "https://pymoo.org/misc/performance_indicator.html#Hypervolume\n",
    "\n",
    "Maximize hypervolume from reference point. "
   ]
  },
  {
   "cell_type": "code",
   "execution_count": null,
   "id": "7379c650",
   "metadata": {},
   "outputs": [],
   "source": [
    "all_obj = [alg.pop.get('F') for alg in hist]"
   ]
  },
  {
   "cell_type": "code",
   "execution_count": null,
   "id": "428660fe",
   "metadata": {},
   "outputs": [],
   "source": [
    "mean_all_obj = []\n",
    "for obj_i in range(optStudy.BaseCase.n_obj):\n",
    "    mean_all_obj.append(np.mean([np.mean(obj_g[:,obj_i]) for obj_g in all_obj]))\n",
    "print(mean_all_obj)"
   ]
  },
  {
   "cell_type": "code",
   "execution_count": null,
   "id": "0771025f",
   "metadata": {},
   "outputs": [],
   "source": [
    "mean_g1_obj = []\n",
    "popF = hist[-1].pop.get('F')\n",
    "for obj_i in range(optStudy.BaseCase.n_obj):\n",
    "    mean_g1_obj.append(np.mean(popF[:,obj_i]))\n",
    "print(mean_g1_obj)"
   ]
  },
  {
   "cell_type": "code",
   "execution_count": null,
   "id": "62018c4f",
   "metadata": {},
   "outputs": [],
   "source": [
    "ref_pt = [4, 4]\n",
    "ref_pt = mean_g1_obj\n",
    "ref_pt = mean_all_obj\n",
    "sf = 1000\n",
    "ref_pt = [mean_obj*sf for mean_obj in mean_g1_obj]"
   ]
  },
  {
   "cell_type": "code",
   "execution_count": null,
   "id": "ee9321d2",
   "metadata": {},
   "outputs": [],
   "source": [
    "from pymoo.factory import get_performance_indicator\n",
    "hv = get_performance_indicator(\"hv\", ref_point=np.array(ref_pt))"
   ]
  },
  {
   "cell_type": "code",
   "execution_count": null,
   "id": "bafcfac9",
   "metadata": {},
   "outputs": [],
   "source": [
    "for gen, alg in enumerate(hist):\n",
    "    print('Generation', gen+1, f\"hypervolume {hv.do(alg.pop.get('X'))}\")"
   ]
  },
  {
   "cell_type": "markdown",
   "id": "d65907bf",
   "metadata": {},
   "source": [
    "### Latest Generation "
   ]
  },
  {
   "cell_type": "code",
   "execution_count": null,
   "id": "0e86ba5d",
   "metadata": {},
   "outputs": [],
   "source": [
    "max_disp_len = 10"
   ]
  },
  {
   "cell_type": "code",
   "execution_count": null,
   "id": "ee23f096",
   "metadata": {},
   "outputs": [],
   "source": [
    "if len(optStudy.algorithm.pop.get('X')) < max_disp_len:\n",
    "    print('FINAL POPULATION')\n",
    "    print('Parameters')\n",
    "    print(optStudy.algorithm.pop.get('X'))\n",
    "    print('Objectives')\n",
    "    print(optStudy.algorithm.pop.get('F'))"
   ]
  },
  {
   "cell_type": "code",
   "execution_count": null,
   "id": "68deadec",
   "metadata": {},
   "outputs": [],
   "source": [
    "latest_pop = optStudy.algorithm.history[-1].pop\n",
    "latest_popX = latest_pop.get('X')\n",
    "latest_popF = latest_pop.get('F')"
   ]
  },
  {
   "cell_type": "code",
   "execution_count": null,
   "id": "5ede8ed8",
   "metadata": {},
   "outputs": [],
   "source": [
    "plot = Scatter(title='Latest Generations Design Space', legend=False, labels=optStudy.BaseCase.var_labels)\n",
    "for ind_i, ind in enumerate(latest_popX):\n",
    "    plot.add(ind, label=f'IND {ind_i+1}')\n",
    "# save parameter space plot\n",
    "plot.save(os.path.join(optStudy.plotDir, 'latest_var_space.png'))\n",
    "plot.show()"
   ]
  },
  {
   "cell_type": "code",
   "execution_count": null,
   "id": "d96557ec",
   "metadata": {},
   "outputs": [],
   "source": [
    "plot = Scatter(title='Latest Generations Objective Space', \n",
    "               legend=False, \n",
    "               labels=optStudy.BaseCase.obj_labels,\n",
    "               s=60,\n",
    "               alpha=0.9\n",
    "              )\n",
    "for ind_i, ind in enumerate(latest_popF):\n",
    "    plot.add(ind, label=f'IND {ind_i+1}')\n",
    "# save objective space plot\n",
    "plot.save(os.path.join(optStudy.plotDir, 'latest_pop_obj_space.png'))\n",
    "plot.show()"
   ]
  },
  {
   "cell_type": "markdown",
   "id": "f0ac6fe0",
   "metadata": {},
   "source": [
    "### Optimum"
   ]
  },
  {
   "cell_type": "code",
   "execution_count": null,
   "id": "572de1d5",
   "metadata": {},
   "outputs": [],
   "source": [
    "assert optStudy.algorithm.opt is not None\n",
    "print(len(optStudy.algorithm.opt))"
   ]
  },
  {
   "cell_type": "code",
   "execution_count": null,
   "id": "2e61358e",
   "metadata": {},
   "outputs": [],
   "source": [
    "n_opt_disp = 20"
   ]
  },
  {
   "cell_type": "code",
   "execution_count": null,
   "id": "1b4ab1f7",
   "metadata": {},
   "outputs": [],
   "source": [
    "opt_pop = optStudy.algorithm.opt[:n_opt_disp]\n",
    "gen = optStudy.algorithm.n_gen\n",
    "varPlot = Scatter(title=f'{optStudy.optName}: Optimum - Generation {gen} - Design Space', \n",
    "                  figsize=(10,8),\n",
    "                  labels=optStudy.BaseCase.var_labels,\n",
    "                  legend=True\n",
    "                 )\n",
    "for opt_i, opt in enumerate(opt_pop):\n",
    "    varPlot.add(opt.get('X'), label=f'opt{opt_i}', s=70)\n",
    "varPlot.save(os.path.join(optStudy.plotDir, f'optimum-gen{gen}-varSpace.png'))\n",
    "varPlot.show()"
   ]
  },
  {
   "cell_type": "code",
   "execution_count": null,
   "id": "2eef3f77",
   "metadata": {},
   "outputs": [],
   "source": [
    "opt_pop = optStudy.algorithm.opt[:n_opt_disp]\n",
    "gen = optStudy.algorithm.n_gen\n",
    "plot = Scatter(title=f'{optStudy.optName}: Optimum - Generation {gen} - Objective Space', \n",
    "                  figsize=(10,8),\n",
    "                  labels=optStudy.BaseCase.obj_labels,\n",
    "                  legend=True\n",
    "                 )\n",
    "for opt_i, opt in enumerate(opt_pop):\n",
    "    plot.add(opt.get('F'), label=f'opt{opt_i}', s=70)\n",
    "plot.save(os.path.join(optStudy.plotDir, f'optimum-gen{gen}-objSpace.png'))\n",
    "plot.show()"
   ]
  },
  {
   "cell_type": "markdown",
   "id": "718e469b",
   "metadata": {},
   "source": [
    "### Print Every Generation"
   ]
  },
  {
   "cell_type": "code",
   "execution_count": null,
   "id": "23fdab53",
   "metadata": {},
   "outputs": [],
   "source": [
    "if optStudy.algorithm.n_gen < 10 and len(algorithm.pop.get('X')) < 10:\n",
    "    print('EVERY GENERATION')\n",
    "    for gen in range(algorithm.n_gen):\n",
    "        print(f'generation {gen}')\n",
    "        var_g = algorithm.callback.data['var'][gen]\n",
    "        obj_g = algorithm.callback.data['obj'][gen]\n",
    "        for ind in range(len(var_g)):\n",
    "            var_i = var_g[ind]\n",
    "            obj_i = obj_g[ind]\n",
    "            print(f'ind{ind}: ', end='')\n",
    "            for n in range(len(var_i)):\n",
    "                print(f'{var_labels[n]}: {var_i[n]}', end=' ')\n",
    "            print(' // ', end='')\n",
    "            for n in range(len(obj_i)):\n",
    "                print(obj_labels[n] + ':' + '%.3f' % obj_i[n], end=' ')\n",
    "            print()"
   ]
  },
  {
   "cell_type": "markdown",
   "id": "c138bc40",
   "metadata": {},
   "source": [
    "### All Design Points"
   ]
  },
  {
   "cell_type": "code",
   "execution_count": null,
   "id": "2dbe7e9c",
   "metadata": {},
   "outputs": [],
   "source": [
    "if optStudy.BaseCase.n_var > 3: # plot without labels\n",
    "    print('CAN NOT REPRESENT DESIGN SPACE IN 3D. USING ')\n",
    "    plot = Scatter()\n",
    "    plot.add(algorithm.pop.get('X')[:10])\n",
    "\n",
    "# All design points\n",
    "else: \n",
    "    if optStudy.algorithm.n_gen < 15:\n",
    "        leg = True\n",
    "    else:\n",
    "        leg = False\n",
    "    plot = Scatter(title='Entire Design Space', legend=leg, labels=var_labels)\n",
    "    for g, alg in enumerate(hist):\n",
    "        plot.add(alg.pop.get('X'), label=f'GEN {g+1}')\n",
    "\n",
    "# save plot to png file\n",
    "plot.save(os.path.join(optStudy.plotDir, 'entire_design_space.png'))\n",
    "plot.show()"
   ]
  },
  {
   "cell_type": "markdown",
   "id": "d3c8a028",
   "metadata": {},
   "source": [
    "### All Objective Points"
   ]
  },
  {
   "cell_type": "code",
   "execution_count": null,
   "id": "8c5c7785",
   "metadata": {},
   "outputs": [],
   "source": [
    "if optStudy.algorithm.n_gen < 15:\n",
    "    leg = True\n",
    "else:\n",
    "    leg = False\n",
    "plot = Scatter(title='Entire Objective Space', legend=leg, labels=obj_labels)\n",
    "for g, alg in enumerate(hist):  # range(algorithm.n_gen)\n",
    "    plot.add(alg.pop.get('F'), label=f'GEN {g+1}')\n",
    "# if pf is not None:\n",
    "#     plot.add(pf, plot_type=\"line\", color=\"black\", alpha=0.7)\n",
    "plot.save(os.path.join(optStudy.plotDir, 'entire_obj_space.png'))\n",
    "plot.show()"
   ]
  },
  {
   "cell_type": "markdown",
   "id": "f4d77fe5",
   "metadata": {},
   "source": [
    "### Last 10 Generation of Parameter Space"
   ]
  },
  {
   "cell_type": "code",
   "execution_count": null,
   "id": "859f0009",
   "metadata": {},
   "outputs": [],
   "source": [
    "# Last 10 generations\n",
    "# last 10 gens. design points\n",
    "if optStudy.algorithm.n_gen > 10:\n",
    "    #### Design Space ####\n",
    "    if optStudy.BaseCase.n_var > 3: # plot without labels\n",
    "        print('CAN NOT REPRESENT OBJECTIVE SPACE IN 3D. Using Pairwise Scatter Plots')\n",
    "        plot = Scatter(figsize=(10, 8))\n",
    "        plot.add(algorithm.pop.get('X')[:10])\n",
    "    # Last 10 generations of objective points\n",
    "    else: \n",
    "        plot = Scatter(title='Last 10 Generations Design Space', legend=True, \n",
    "                       figsize=(10, 8),\n",
    "                       labels=optStudy.BaseCase.var_labels\n",
    "                      )\n",
    "        gen = len(hist)\n",
    "        for g in range(gen-10, gen):\n",
    "            plot.add(hist[g].pop.get('X'), label=f'GEN {g+1}',\n",
    "                     alpha=0.8\n",
    "                    )\n",
    "    # save design space plot\n",
    "    plot.save(os.path.join(optStudy.plotDir, 'final_10_design_space.png'))\n",
    "    plot.show()"
   ]
  },
  {
   "cell_type": "markdown",
   "id": "4d7c70a2",
   "metadata": {},
   "source": [
    "### Last 10 Generation of Objective Space"
   ]
  },
  {
   "cell_type": "code",
   "execution_count": null,
   "id": "e31687c6",
   "metadata": {},
   "outputs": [],
   "source": [
    "### Objective Space ####\n",
    "if optStudy.algorithm.n_gen > 10:\n",
    "    if optStudy.BaseCase.n_obj >3:\n",
    "        plot = Scatter()\n",
    "        plot.add(optStudy.algorithm.pop.get('F')[:10])\n",
    "    else:\n",
    "        # last 10 gens. objective points\n",
    "        plot = Scatter(title='Last 10 Generations Objective Space', \n",
    "                       legend=True, \n",
    "                       labels=optStudy.BaseCase.obj_labels,\n",
    "                       figsize=(10,8)\n",
    "                      )\n",
    "        gen = len(hist)\n",
    "        for g in range(gen-10, gen):\n",
    "            plot.add(hist[g].pop.get('F'), label=f'GEN {g+1}')\n",
    "\n",
    "    # save objective space plot\n",
    "    plot.save(os.path.join(optStudy.plotDir, 'final_10_obj_space.png'), dpi=100)\n",
    "    plot.show()"
   ]
  },
  {
   "cell_type": "markdown",
   "id": "53580589",
   "metadata": {},
   "source": [
    "### Extract Data "
   ]
  },
  {
   "cell_type": "code",
   "execution_count": null,
   "id": "fa10d2d1",
   "metadata": {},
   "outputs": [],
   "source": [
    "checkpoint = optStudy.algorithm"
   ]
  },
  {
   "cell_type": "code",
   "execution_count": null,
   "id": "01822b51",
   "metadata": {},
   "outputs": [],
   "source": [
    "# is the full history of the algorithm saved? \n",
    "print('Checkpoint Objective Population:\\n', checkpoint.pop.get('F')[:5])\n",
    "if np.all(checkpoint.pop.get('F')) is not None: \n",
    "    algorithm = checkpoint\n",
    "    print('Checkpoint @ end of generation')\n",
    "    print(f'     Generation - {algorithm.n_gen}, {algorithm.callback.gen}')\n",
    "else:\n",
    "    print('Checkpoint mid-generation')\n",
    "    print('     \"algorithm\" variable represents last completed generation')\n",
    "    print('     \"algorithm.callback\" unusable with history objects')\n",
    "    algorithm = checkpoint.history[-1]\n",
    "    print(f'     Generation - {algorithm.n_gen}, {algorithm.callback.gen}')"
   ]
  },
  {
   "cell_type": "code",
   "execution_count": null,
   "id": "9d75843b",
   "metadata": {},
   "outputs": [],
   "source": []
  },
  {
   "cell_type": "code",
   "execution_count": null,
   "id": "69e5bbd6",
   "metadata": {},
   "outputs": [],
   "source": []
  },
  {
   "cell_type": "code",
   "execution_count": null,
   "id": "2d47b27f",
   "metadata": {},
   "outputs": [],
   "source": []
  }
 ],
 "metadata": {
  "kernelspec": {
   "display_name": "Python 3 (ipykernel)",
   "language": "python",
   "name": "python3"
  },
  "language_info": {
   "codemirror_mode": {
    "name": "ipython",
    "version": 3
   },
   "file_extension": ".py",
   "mimetype": "text/x-python",
   "name": "python",
   "nbconvert_exporter": "python",
   "pygments_lexer": "ipython3",
   "version": "3.9.0"
  }
 },
 "nbformat": 4,
 "nbformat_minor": 5
}
