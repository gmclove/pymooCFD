{
 "cells": [
  {
   "cell_type": "markdown",
   "id": "504ca757",
   "metadata": {},
   "source": [
    "### Imports"
   ]
  },
  {
   "cell_type": "code",
   "execution_count": 1,
   "id": "dd4cf939",
   "metadata": {},
   "outputs": [],
   "source": [
    "import os\n",
    "import numpy as np\n",
    "import matplotlib.pyplot as plt\n",
    "from pprint import pprint"
   ]
  },
  {
   "cell_type": "code",
   "execution_count": 2,
   "id": "09fa1559",
   "metadata": {},
   "outputs": [],
   "source": [
    "%matplotlib inline \n",
    "plt.set_loglevel(\"info\")"
   ]
  },
  {
   "cell_type": "code",
   "execution_count": 3,
   "id": "807f1e85",
   "metadata": {},
   "outputs": [],
   "source": [
    "from pymoo.visualization.scatter import Scatter"
   ]
  },
  {
   "cell_type": "code",
   "execution_count": 7,
   "id": "4d45dce8",
   "metadata": {},
   "outputs": [],
   "source": [
    "from pymooCFD.core.minimizeCFD import MinimizeCFD\n",
    "# from pymooCFD.problems.rans_k_eps import RANS_k_eps as BaseCase\n",
    "# from pymooCFD.problems.rans_jet import RANSJet as BaseCase\n",
    "from pymooCFD.problems.oscill_cyl import OscillCylinder as BaseCase"
   ]
  },
  {
   "cell_type": "code",
   "execution_count": 8,
   "id": "80cb42ab",
   "metadata": {
    "scrolled": true
   },
   "outputs": [
    {
     "name": "stderr",
     "output_type": "stream",
     "text": [
      "04-27 17:05:31 :: INFO     :: optStudy-OscillCylinder :: ~~~~~~~~~~~~~~~~~~~~~~~~~~\n",
      "04-27 17:05:31 :: INFO     :: optStudy-OscillCylinder :: INITIALIZING - Pickle Path\n",
      "04-27 17:05:31 :: INFO     :: optStudy-OscillCylinder :: \tCHECKPOINT LOADED: optStudy-OscillCylinder/MinimizeCFD.checkpoint.npy\n",
      "04-27 17:05:31 :: DEBUG    :: optStudy-OscillCylinder :: \tRESTART DICTONARY\n",
      "04-27 17:05:31 :: DEBUG    :: optStudy-OscillCylinder :: \t\topt_runs: []\n",
      "04-27 17:05:31 :: DEBUG    :: optStudy-OscillCylinder :: \t\tcase_runs: []\n",
      "04-27 17:05:31 :: DEBUG    :: optStudy-OscillCylinder :: \t\tCFDCase: <class 'pymooCFD.problems.oscill_cyl.OscillCylinder'>\n",
      "04-27 17:05:31 :: DEBUG    :: optStudy-OscillCylinder :: \t\tCFDGeneticAlgorithm: <class 'pymooCFD.core.pymooBase.CFDGeneticAlgorithm'>\n",
      "04-27 17:05:31 :: DEBUG    :: optStudy-OscillCylinder :: \t\tCFDGeneticProblem: <class 'pymooCFD.core.pymooBase.CFDGeneticProblem'>\n",
      "04-27 17:05:31 :: DEBUG    :: optStudy-OscillCylinder :: \t\tabs_path: /media/ydubief/M2CE-14TB-1/gitrepo/pymooCFD/optStudy-OscillCylinder\n",
      "04-27 17:05:31 :: DEBUG    :: optStudy-OscillCylinder :: \t\tlog_level: 10\n",
      "04-27 17:05:31 :: DEBUG    :: optStudy-OscillCylinder :: \t\tlogger: <Logger optStudy-OscillCylinder (DEBUG)>\n",
      "04-27 17:05:31 :: DEBUG    :: optStudy-OscillCylinder :: \t\tcp_init: False\n",
      "04-27 17:05:31 :: DEBUG    :: optStudy-OscillCylinder :: \tCHECKPOINT DICTONARY\n",
      "04-27 17:05:31 :: DEBUG    :: optStudy-OscillCylinder :: \t\topt_runs: [<pymooCFD.core.optRun.OptRun object at 0x7fc6047208b0>, <pymooCFD.core.optRun.OptRun object at 0x7fc60374ad00>]\n",
      "04-27 17:05:31 :: DEBUG    :: optStudy-OscillCylinder :: \t\tcase_runs: []\n",
      "04-27 17:05:31 :: DEBUG    :: optStudy-OscillCylinder :: \t\tCFDCase: <class 'pymooCFD.problems.oscill_cyl.OscillCylinder'>\n",
      "04-27 17:05:31 :: DEBUG    :: optStudy-OscillCylinder :: \t\tCFDGeneticAlgorithm: <class 'pymooCFD.core.pymooBase.CFDGeneticAlgorithm'>\n",
      "04-27 17:05:31 :: DEBUG    :: optStudy-OscillCylinder :: \t\tCFDGeneticProblem: <class 'pymooCFD.core.pymooBase.CFDGeneticProblem'>\n",
      "04-27 17:05:31 :: DEBUG    :: optStudy-OscillCylinder :: \t\tabs_path: /media/ydubief/M2CE-14TB-1/gitrepo/pymooCFD/optStudy-OscillCylinder\n",
      "04-27 17:05:31 :: DEBUG    :: optStudy-OscillCylinder :: \t\tlog_level: 10\n",
      "04-27 17:05:31 :: DEBUG    :: optStudy-OscillCylinder :: \t\tlogger: <Logger optStudy-OscillCylinder (DEBUG)>\n",
      "04-27 17:05:31 :: DEBUG    :: optStudy-OscillCylinder :: \t\tcp_init: True\n",
      "04-27 17:05:31 :: WARNING  :: optStudy-OscillCylinder :: \u001b[93m\u001b[93m{   'iterable_item_added': {   'root.opt_runs[0]': <pymooCFD.core.optRun.OptRun object at 0x7fc6047208b0>,\n",
      "04-27 17:05:31 :: WARNING  :: optStudy-OscillCylinder ::                                'root.opt_runs[1]': <pymooCFD.core.optRun.OptRun object at 0x7fc60374ad00>},\n",
      "04-27 17:05:31 :: WARNING  :: optStudy-OscillCylinder ::     'values_changed': {   'root.cp_init': {   'new_value': True,\n",
      "04-27 17:05:31 :: WARNING  :: optStudy-OscillCylinder ::                                               'old_value': False}}}\u001b[0m\u001b[0m\n",
      "04-27 17:05:31 :: DEBUG    :: optStudy-OscillCylinder :: \tUPDATED DICTONARY\n",
      "04-27 17:05:31 :: DEBUG    :: optStudy-OscillCylinder :: \t\topt_runs: [<pymooCFD.core.optRun.OptRun object at 0x7fc6047208b0>, <pymooCFD.core.optRun.OptRun object at 0x7fc60374ad00>]\n",
      "04-27 17:05:31 :: DEBUG    :: optStudy-OscillCylinder :: \t\tcase_runs: []\n",
      "04-27 17:05:31 :: DEBUG    :: optStudy-OscillCylinder :: \t\tCFDCase: <class 'pymooCFD.problems.oscill_cyl.OscillCylinder'>\n",
      "04-27 17:05:31 :: DEBUG    :: optStudy-OscillCylinder :: \t\tCFDGeneticAlgorithm: <class 'pymooCFD.core.pymooBase.CFDGeneticAlgorithm'>\n",
      "04-27 17:05:31 :: DEBUG    :: optStudy-OscillCylinder :: \t\tCFDGeneticProblem: <class 'pymooCFD.core.pymooBase.CFDGeneticProblem'>\n",
      "04-27 17:05:31 :: DEBUG    :: optStudy-OscillCylinder :: \t\tabs_path: /media/ydubief/M2CE-14TB-1/gitrepo/pymooCFD/optStudy-OscillCylinder\n",
      "04-27 17:05:31 :: DEBUG    :: optStudy-OscillCylinder :: \t\tlog_level: 10\n",
      "04-27 17:05:31 :: DEBUG    :: optStudy-OscillCylinder :: \t\tlogger: <Logger optStudy-OscillCylinder (DEBUG)>\n",
      "04-27 17:05:31 :: DEBUG    :: optStudy-OscillCylinder :: \t\tcp_init: True\n",
      "04-27 17:05:31 :: INFO     :: optStudy-OscillCylinder :: LOADING: <pymooCFD.core.optRun.OptRun object at 0x7fc6047208b0> FROM /media/ydubief/M2CE-14TB-1/gitrepo/pymooCFD/optStudy-OscillCylinder/run00/OptRun.checkpoint.npy\n",
      "04-27 17:05:31 :: INFO     :: optStudy-OscillCylinder.run00 :: \tCHECKPOINT LOADED: optStudy-OscillCylinder/run00/OptRun.checkpoint.npy\n",
      "04-27 17:05:31 :: DEBUG    :: optStudy-OscillCylinder.run00 :: \tRESTART DICTONARY\n",
      "04-27 17:05:31 :: DEBUG    :: optStudy-OscillCylinder.run00 :: \t\tn_opt: 20\n",
      "04-27 17:05:31 :: DEBUG    :: optStudy-OscillCylinder.run00 :: \t\tabs_path: /media/ydubief/M2CE-14TB-1/gitrepo/pymooCFD/optStudy-OscillCylinder/run00\n",
      "04-27 17:05:31 :: DEBUG    :: optStudy-OscillCylinder.run00 :: \t\tlog_level: 10\n",
      "04-27 17:05:31 :: DEBUG    :: optStudy-OscillCylinder.run00 :: \t\tlogger: <Logger optStudy-OscillCylinder.run00 (DEBUG)>\n",
      "04-27 17:05:31 :: DEBUG    :: optStudy-OscillCylinder.run00 :: \t\tcp_init: False\n",
      "04-27 17:05:31 :: DEBUG    :: optStudy-OscillCylinder.run00 :: \t\trun_path: /media/ydubief/M2CE-14TB-1/gitrepo/pymooCFD/optStudy-OscillCylinder/run00\n",
      "04-27 17:05:31 :: DEBUG    :: optStudy-OscillCylinder.run00 :: \t\talgorithm: <pymooCFD.core.pymooBase.CFDGeneticAlgorithm object at 0x7fc898480f10>\n",
      "04-27 17:05:31 :: DEBUG    :: optStudy-OscillCylinder.run00 :: \t\tproblem: # name: CFDGeneticProblem\n",
      "04-27 17:05:31 :: DEBUG    :: optStudy-OscillCylinder.run00 :: # n_var: 2\n",
      "04-27 17:05:31 :: DEBUG    :: optStudy-OscillCylinder.run00 :: # n_obj: 2\n",
      "04-27 17:05:31 :: DEBUG    :: optStudy-OscillCylinder.run00 :: # n_constr: 0\n",
      "04-27 17:05:31 :: DEBUG    :: optStudy-OscillCylinder.run00 :: \n",
      "04-27 17:05:31 :: DEBUG    :: optStudy-OscillCylinder.run00 :: \t\tbnd_cases: [<pymooCFD.problems.oscill_cyl.OscillCylinder object at 0x7fc60374a4f0>, <pymooCFD.problems.oscill_cyl.OscillCylinder object at 0x7fc60374a9a0>, <pymooCFD.problems.oscill_cyl.OscillCylinder object at 0x7fc60374aac0>, <pymooCFD.problems.oscill_cyl.OscillCylinder object at 0x7fc60374acd0>]\n",
      "04-27 17:05:31 :: DEBUG    :: optStudy-OscillCylinder.run00 :: \t\ttest_case: Directory: optStudy-OscillCylinder/run00/test_case | Parameters: [4.1, 0.55]\n",
      "04-27 17:05:31 :: DEBUG    :: optStudy-OscillCylinder.run00 :: \t\tgen1_pop: None\n",
      "04-27 17:05:31 :: DEBUG    :: optStudy-OscillCylinder.run00 :: \tCHECKPOINT DICTONARY\n",
      "04-27 17:05:31 :: DEBUG    :: optStudy-OscillCylinder.run00 :: \t\tn_opt: 20\n",
      "04-27 17:05:31 :: DEBUG    :: optStudy-OscillCylinder.run00 :: \t\tabs_path: /media/ydubief/M2CE-14TB-1/gitrepo/pymooCFD/optStudy-OscillCylinder/run00\n",
      "04-27 17:05:31 :: DEBUG    :: optStudy-OscillCylinder.run00 :: \t\tlog_level: 10\n",
      "04-27 17:05:31 :: DEBUG    :: optStudy-OscillCylinder.run00 :: \t\tlogger: <Logger optStudy-OscillCylinder.run00 (DEBUG)>\n",
      "04-27 17:05:31 :: DEBUG    :: optStudy-OscillCylinder.run00 :: \t\tcp_init: False\n",
      "04-27 17:05:31 :: DEBUG    :: optStudy-OscillCylinder.run00 :: \t\trun_path: /media/ydubief/M2CE-14TB-1/gitrepo/pymooCFD/optStudy-OscillCylinder/run00\n",
      "04-27 17:05:31 :: DEBUG    :: optStudy-OscillCylinder.run00 :: \t\talgorithm: <pymooCFD.core.pymooBase.CFDGeneticAlgorithm object at 0x7fc603747fa0>\n",
      "04-27 17:05:31 :: DEBUG    :: optStudy-OscillCylinder.run00 :: \t\tproblem: # name: CFDGeneticProblem\n",
      "04-27 17:05:31 :: DEBUG    :: optStudy-OscillCylinder.run00 :: # n_var: 2\n",
      "04-27 17:05:31 :: DEBUG    :: optStudy-OscillCylinder.run00 :: # n_obj: 2\n",
      "04-27 17:05:31 :: DEBUG    :: optStudy-OscillCylinder.run00 :: # n_constr: 0\n",
      "04-27 17:05:31 :: DEBUG    :: optStudy-OscillCylinder.run00 :: \n",
      "04-27 17:05:31 :: DEBUG    :: optStudy-OscillCylinder.run00 :: \t\tbnd_cases: [<pymooCFD.problems.oscill_cyl.OscillCylinder object at 0x7fc603cd8700>, <pymooCFD.problems.oscill_cyl.OscillCylinder object at 0x7fc603cd89a0>, <pymooCFD.problems.oscill_cyl.OscillCylinder object at 0x7fc603cd8c40>, <pymooCFD.problems.oscill_cyl.OscillCylinder object at 0x7fc603cd8ee0>]\n",
      "04-27 17:05:31 :: DEBUG    :: optStudy-OscillCylinder.run00 :: \t\ttest_case: Directory: optStudy-OscillCylinder/run00/test_case | Parameters: [4.1, 0.55] | Objectives: [-9.906355982749865, 0.17897685198437988]\n",
      "04-27 17:05:31 :: DEBUG    :: optStudy-OscillCylinder.run00 :: \t\tgen1_pop: [<pymoo.core.individual.Individual object at 0x7fc603da34f0>\n",
      "04-27 17:05:31 :: DEBUG    :: optStudy-OscillCylinder.run00 ::  <pymoo.core.individual.Individual object at 0x7fc603da3550>\n",
      "04-27 17:05:31 :: DEBUG    :: optStudy-OscillCylinder.run00 ::  <pymoo.core.individual.Individual object at 0x7fc603da35b0>\n",
      "04-27 17:05:31 :: DEBUG    :: optStudy-OscillCylinder.run00 ::  <pymoo.core.individual.Individual object at 0x7fc603da3610>\n",
      "04-27 17:05:31 :: DEBUG    :: optStudy-OscillCylinder.run00 ::  <pymoo.core.individual.Individual object at 0x7fc603da3670>\n",
      "04-27 17:05:31 :: DEBUG    :: optStudy-OscillCylinder.run00 ::  <pymoo.core.individual.Individual object at 0x7fc603da36d0>\n",
      "04-27 17:05:31 :: DEBUG    :: optStudy-OscillCylinder.run00 ::  <pymoo.core.individual.Individual object at 0x7fc603da3730>\n",
      "04-27 17:05:31 :: DEBUG    :: optStudy-OscillCylinder.run00 ::  <pymoo.core.individual.Individual object at 0x7fc603da3790>\n",
      "04-27 17:05:31 :: DEBUG    :: optStudy-OscillCylinder.run00 ::  <pymoo.core.individual.Individual object at 0x7fc603da37f0>\n",
      "04-27 17:05:31 :: DEBUG    :: optStudy-OscillCylinder.run00 ::  <pymoo.core.individual.Individual object at 0x7fc603da3850>\n",
      "04-27 17:05:31 :: DEBUG    :: optStudy-OscillCylinder.run00 ::  <pymoo.core.individual.Individual object at 0x7fc603da38b0>\n",
      "04-27 17:05:31 :: DEBUG    :: optStudy-OscillCylinder.run00 ::  <pymoo.core.individual.Individual object at 0x7fc603da3910>\n",
      "04-27 17:05:31 :: DEBUG    :: optStudy-OscillCylinder.run00 ::  <pymoo.core.individual.Individual object at 0x7fc603da3970>\n",
      "04-27 17:05:31 :: DEBUG    :: optStudy-OscillCylinder.run00 ::  <pymoo.core.individual.Individual object at 0x7fc603da39d0>\n",
      "04-27 17:05:31 :: DEBUG    :: optStudy-OscillCylinder.run00 ::  <pymoo.core.individual.Individual object at 0x7fc603da3a60>\n",
      "04-27 17:05:31 :: DEBUG    :: optStudy-OscillCylinder.run00 ::  <pymoo.core.individual.Individual object at 0x7fc603da3ac0>\n",
      "04-27 17:05:31 :: DEBUG    :: optStudy-OscillCylinder.run00 ::  <pymoo.core.individual.Individual object at 0x7fc603da3b20>\n",
      "04-27 17:05:31 :: DEBUG    :: optStudy-OscillCylinder.run00 ::  <pymoo.core.individual.Individual object at 0x7fc603da3b80>\n",
      "04-27 17:05:31 :: DEBUG    :: optStudy-OscillCylinder.run00 ::  <pymoo.core.individual.Individual object at 0x7fc603da3be0>\n",
      "04-27 17:05:31 :: DEBUG    :: optStudy-OscillCylinder.run00 ::  <pymoo.core.individual.Individual object at 0x7fc603da3c40>\n",
      "04-27 17:05:31 :: DEBUG    :: optStudy-OscillCylinder.run00 ::  <pymoo.core.individual.Individual object at 0x7fc603da3ca0>\n",
      "04-27 17:05:31 :: DEBUG    :: optStudy-OscillCylinder.run00 ::  <pymoo.core.individual.Individual object at 0x7fc603da3d00>\n",
      "04-27 17:05:31 :: DEBUG    :: optStudy-OscillCylinder.run00 ::  <pymoo.core.individual.Individual object at 0x7fc603da3d60>\n",
      "04-27 17:05:31 :: DEBUG    :: optStudy-OscillCylinder.run00 ::  <pymoo.core.individual.Individual object at 0x7fc603da3dc0>\n",
      "04-27 17:05:31 :: DEBUG    :: optStudy-OscillCylinder.run00 ::  <pymoo.core.individual.Individual object at 0x7fc603da3e20>\n",
      "04-27 17:05:31 :: DEBUG    :: optStudy-OscillCylinder.run00 ::  <pymoo.core.individual.Individual object at 0x7fc603da3e80>\n",
      "04-27 17:05:31 :: DEBUG    :: optStudy-OscillCylinder.run00 ::  <pymoo.core.individual.Individual object at 0x7fc603da3ee0>\n",
      "04-27 17:05:31 :: DEBUG    :: optStudy-OscillCylinder.run00 ::  <pymoo.core.individual.Individual object at 0x7fc603da3f40>\n",
      "04-27 17:05:31 :: DEBUG    :: optStudy-OscillCylinder.run00 ::  <pymoo.core.individual.Individual object at 0x7fc603da3fa0>\n",
      "04-27 17:05:31 :: DEBUG    :: optStudy-OscillCylinder.run00 ::  <pymoo.core.individual.Individual object at 0x7fc6037d1040>\n",
      "04-27 17:05:31 :: DEBUG    :: optStudy-OscillCylinder.run00 ::  <pymoo.core.individual.Individual object at 0x7fc6037d10a0>\n",
      "04-27 17:05:31 :: DEBUG    :: optStudy-OscillCylinder.run00 ::  <pymoo.core.individual.Individual object at 0x7fc6037d1100>\n",
      "04-27 17:05:31 :: DEBUG    :: optStudy-OscillCylinder.run00 ::  <pymoo.core.individual.Individual object at 0x7fc6037d1160>\n",
      "04-27 17:05:31 :: DEBUG    :: optStudy-OscillCylinder.run00 ::  <pymoo.core.individual.Individual object at 0x7fc6037992b0>\n",
      "04-27 17:05:31 :: DEBUG    :: optStudy-OscillCylinder.run00 ::  <pymoo.core.individual.Individual object at 0x7fc6037d11c0>\n",
      "04-27 17:05:31 :: DEBUG    :: optStudy-OscillCylinder.run00 ::  <pymoo.core.individual.Individual object at 0x7fc6037d1220>\n",
      "04-27 17:05:31 :: DEBUG    :: optStudy-OscillCylinder.run00 ::  <pymoo.core.individual.Individual object at 0x7fc6037d1280>\n",
      "04-27 17:05:31 :: DEBUG    :: optStudy-OscillCylinder.run00 ::  <pymoo.core.individual.Individual object at 0x7fc6037d12e0>\n",
      "04-27 17:05:31 :: DEBUG    :: optStudy-OscillCylinder.run00 ::  <pymoo.core.individual.Individual object at 0x7fc6037d1340>\n",
      "04-27 17:05:31 :: DEBUG    :: optStudy-OscillCylinder.run00 ::  <pymoo.core.individual.Individual object at 0x7fc6037d13a0>\n",
      "04-27 17:05:31 :: DEBUG    :: optStudy-OscillCylinder.run00 ::  <pymoo.core.individual.Individual object at 0x7fc6037d1400>\n",
      "04-27 17:05:31 :: DEBUG    :: optStudy-OscillCylinder.run00 ::  <pymoo.core.individual.Individual object at 0x7fc6037d1460>\n",
      "04-27 17:05:31 :: DEBUG    :: optStudy-OscillCylinder.run00 ::  <pymoo.core.individual.Individual object at 0x7fc6037d14c0>\n",
      "04-27 17:05:31 :: DEBUG    :: optStudy-OscillCylinder.run00 ::  <pymoo.core.individual.Individual object at 0x7fc6037d1520>\n",
      "04-27 17:05:31 :: DEBUG    :: optStudy-OscillCylinder.run00 ::  <pymoo.core.individual.Individual object at 0x7fc603799310>\n",
      "04-27 17:05:31 :: DEBUG    :: optStudy-OscillCylinder.run00 ::  <pymoo.core.individual.Individual object at 0x7fc6037d1580>\n",
      "04-27 17:05:31 :: DEBUG    :: optStudy-OscillCylinder.run00 ::  <pymoo.core.individual.Individual object at 0x7fc6037d15e0>\n",
      "04-27 17:05:31 :: DEBUG    :: optStudy-OscillCylinder.run00 ::  <pymoo.core.individual.Individual object at 0x7fc6037d1640>\n",
      "04-27 17:05:31 :: DEBUG    :: optStudy-OscillCylinder.run00 ::  <pymoo.core.individual.Individual object at 0x7fc6037d16a0>\n",
      "04-27 17:05:31 :: DEBUG    :: optStudy-OscillCylinder.run00 ::  <pymoo.core.individual.Individual object at 0x7fc603799370>]\n"
     ]
    },
    {
     "name": "stderr",
     "output_type": "stream",
     "text": [
      "04-27 17:05:31 :: WARNING  :: optStudy-OscillCylinder.run00 :: \u001b[93m\u001b[93m{   'attribute_added': [root.bnd_cases[0].wallTime, root.bnd_cases[1].wallTime, root.bnd_cases[2].wallTime, root.bnd_cases[3].wallTime, root.test_case.base_case_path, root.test_case.wallTime],\n",
      "04-27 17:05:31 :: WARNING  :: optStudy-OscillCylinder.run00 ::     'iterable_item_added': {   \"root.algorithm.callback.data['best'][0]\": -12.915747425530084,\n",
      "04-27 17:05:31 :: WARNING  :: optStudy-OscillCylinder.run00 ::                                \"root.algorithm.callback.data['best'][10]\": -13.775638900577095,\n",
      "04-27 17:05:31 :: WARNING  :: optStudy-OscillCylinder.run00 ::                                \"root.algorithm.callback.data['best'][11]\": -13.775638900577095,\n",
      "04-27 17:05:31 :: WARNING  :: optStudy-OscillCylinder.run00 ::                                \"root.algorithm.callback.data['best'][12]\": -13.775638900577095,\n",
      "04-27 17:05:31 :: WARNING  :: optStudy-OscillCylinder.run00 ::                                \"root.algorithm.callback.data['best'][13]\": -13.775638900577095,\n",
      "04-27 17:05:31 :: WARNING  :: optStudy-OscillCylinder.run00 ::                                \"root.algorithm.callback.data['best'][14]\": -13.775638900577095,\n",
      "04-27 17:05:31 :: WARNING  :: optStudy-OscillCylinder.run00 ::                                \"root.algorithm.callback.data['best'][15]\": -13.775638900577095,\n",
      "04-27 17:05:31 :: WARNING  :: optStudy-OscillCylinder.run00 ::                                \"root.algorithm.callback.data['best'][16]\": -13.775638900577095,\n",
      "04-27 17:05:31 :: WARNING  :: optStudy-OscillCylinder.run00 ::                                \"root.algorithm.callback.data['best'][17]\": -13.775638900577095,\n",
      "04-27 17:05:31 :: WARNING  :: optStudy-OscillCylinder.run00 ::                                \"root.algorithm.callback.data['best'][18]\": -13.775638900577095,\n",
      "04-27 17:05:31 :: WARNING  :: optStudy-OscillCylinder.run00 ::                                \"root.algorithm.callback.data['best'][19]\": -13.775638900577095,\n",
      "04-27 17:05:31 :: WARNING  :: optStudy-OscillCylinder.run00 ::                                \"root.algorithm.callback.data['best'][1]\": -13.053964045114933,\n",
      "04-27 17:05:31 :: WARNING  :: optStudy-OscillCylinder.run00 ::                                \"root.algorithm.callback.data['best'][20]\": -13.775638900577095,\n",
      "04-27 17:05:31 :: WARNING  :: optStudy-OscillCylinder.run00 ::                                \"root.algorithm.callback.data['best'][21]\": -13.775638900577095,\n",
      "04-27 17:05:31 :: WARNING  :: optStudy-OscillCylinder.run00 ::                                \"root.algorithm.callback.data['best'][22]\": -13.775638900577095,\n",
      "04-27 17:05:31 :: WARNING  :: optStudy-OscillCylinder.run00 ::                                \"root.algorithm.callback.data['best'][23]\": -13.775638900577095,\n",
      "04-27 17:05:31 :: WARNING  :: optStudy-OscillCylinder.run00 ::                                \"root.algorithm.callback.data['best'][24]\": -13.775638900577095,\n",
      "04-27 17:05:31 :: WARNING  :: optStudy-OscillCylinder.run00 ::                                \"root.algorithm.callback.data['best'][2]\": -13.342222582592516,\n",
      "04-27 17:05:31 :: WARNING  :: optStudy-OscillCylinder.run00 ::                                \"root.algorithm.callback.data['best'][3]\": -13.775638900577095,\n",
      "04-27 17:05:31 :: WARNING  :: optStudy-OscillCylinder.run00 ::                                \"root.algorithm.callback.data['best'][4]\": -13.775638900577095,\n",
      "04-27 17:05:31 :: WARNING  :: optStudy-OscillCylinder.run00 ::                                \"root.algorithm.callback.data['best'][5]\": -13.775638900577095,\n",
      "04-27 17:05:31 :: WARNING  :: optStudy-OscillCylinder.run00 ::                                \"root.algorithm.callback.data['best'][6]\": -13.775638900577095,\n",
      "04-27 17:05:31 :: WARNING  :: optStudy-OscillCylinder.run00 ::                                \"root.algorithm.callback.data['best'][7]\": -13.775638900577095,\n",
      "04-27 17:05:31 :: WARNING  :: optStudy-OscillCylinder.run00 ::                                \"root.algorithm.callback.data['best'][8]\": -13.775638900577095,\n",
      "04-27 17:05:31 :: WARNING  :: optStudy-OscillCylinder.run00 ::                                \"root.algorithm.callback.data['best'][9]\": -13.775638900577095,\n",
      "04-27 17:05:31 :: WARNING  :: optStudy-OscillCylinder.run00 ::                                'root.algorithm.display.output.attrs[0]': [   'n_gen',\n",
      "04-27 17:05:31 :: WARNING  :: optStudy-OscillCylinder.run00 ::                                                                              25,\n",
      "04-27 17:05:31 :: WARNING  :: optStudy-OscillCylinder.run00 ::                                                                              5],\n",
      "04-27 17:05:31 :: WARNING  :: optStudy-OscillCylinder.run00 ::                                'root.algorithm.display.output.attrs[1]': [   'n_eval',\n",
      "04-27 17:05:31 :: WARNING  :: optStudy-OscillCylinder.run00 ::                                                                              410,\n",
      "04-27 17:05:31 :: WARNING  :: optStudy-OscillCylinder.run00 ::                                                                              7],\n",
      "04-27 17:05:31 :: WARNING  :: optStudy-OscillCylinder.run00 ::                                'root.algorithm.display.output.attrs[2]': [   'mean '\n",
      "04-27 17:05:31 :: WARNING  :: optStudy-OscillCylinder.run00 ::                                                                              'obj.1',\n",
      "04-27 17:05:31 :: WARNING  :: optStudy-OscillCylinder.run00 ::                                                                              '-8.17301E+00',\n",
      "04-27 17:05:31 :: WARNING  :: optStudy-OscillCylinder.run00 ::                                                                              12],\n",
      "04-27 17:05:31 :: WARNING  :: optStudy-OscillCylinder.run00 ::                                'root.algorithm.display.output.attrs[3]': [   'best '\n",
      "04-27 17:05:31 :: WARNING  :: optStudy-OscillCylinder.run00 ::                                                                              'obj.1',\n",
      "04-27 17:05:31 :: WARNING  :: optStudy-OscillCylinder.run00 ::                                                                              '-1.37756E+01',\n",
      "04-27 17:05:31 :: WARNING  :: optStudy-OscillCylinder.run00 ::                                                                              12],\n",
      "04-27 17:05:31 :: WARNING  :: optStudy-OscillCylinder.run00 ::                                'root.algorithm.display.output.attrs[4]': [   'mean '\n",
      "04-27 17:05:31 :: WARNING  :: optStudy-OscillCylinder.run00 ::                                                                              'obj.2',\n",
      "04-27 17:05:31 :: WARNING  :: optStudy-OscillCylinder.run00 ::                                                                              '0.173406223',\n",
      "04-27 17:05:31 :: WARNING  :: optStudy-OscillCylinder.run00 ::                                                                              12],\n",
      "04-27 17:05:31 :: WARNING  :: optStudy-OscillCylinder.run00 ::                                'root.algorithm.display.output.attrs[5]': [   'best '\n",
      "04-27 17:05:31 :: WARNING  :: optStudy-OscillCylinder.run00 ::                                                                              'obj.2',\n",
      "04-27 17:05:31 :: WARNING  :: optStudy-OscillCylinder.run00 ::                                                                              '0.004143717',\n",
      "04-27 17:05:31 :: WARNING  :: optStudy-OscillCylinder.run00 ::                                                                              12]},\n",
      "04-27 17:05:31 :: WARNING  :: optStudy-OscillCylinder.run00 ::     'type_changes': {   'root.algorithm.display.pareto_front_is_available': {   'new_type': <class 'bool'>,\n",
      "04-27 17:05:31 :: WARNING  :: optStudy-OscillCylinder.run00 ::                                                                                 'new_value': False,\n",
      "04-27 17:05:31 :: WARNING  :: optStudy-OscillCylinder.run00 ::                                                                                 'old_type': <class 'NoneType'>,\n",
      "04-27 17:05:31 :: WARNING  :: optStudy-OscillCylinder.run00 ::                                                                                 'old_value': None},\n",
      "04-27 17:05:31 :: WARNING  :: optStudy-OscillCylinder.run00 ::                         'root.algorithm.has_terminated': {   'new_type': <class 'bool'>,\n",
      "04-27 17:05:31 :: WARNING  :: optStudy-OscillCylinder.run00 ::                                                              'new_value': True,\n",
      "04-27 17:05:31 :: WARNING  :: optStudy-OscillCylinder.run00 ::                                                              'old_type': <class 'NoneType'>,\n",
      "04-27 17:05:31 :: WARNING  :: optStudy-OscillCylinder.run00 ::                                                              'old_value': None},\n",
      "04-27 17:05:31 :: WARNING  :: optStudy-OscillCylinder.run00 ::                         'root.algorithm.history': {   'new_type': <class 'list'>,\n",
      "04-27 17:05:31 :: WARNING  :: optStudy-OscillCylinder.run00 ::                                                       'new_value': [   <pymooCFD.core.pymooBase.CFDGeneticAlgorithm object at 0x7fc603759430>,\n",
      "04-27 17:05:31 :: WARNING  :: optStudy-OscillCylinder.run00 ::                                                                        <pymooCFD.core.pymooBase.CFDGeneticAlgorithm object at 0x7fc6036fd3d0>,\n",
      "04-27 17:05:31 :: WARNING  :: optStudy-OscillCylinder.run00 ::                                                                        <pymooCFD.core.pymooBase.CFDGeneticAlgorithm object at 0x7fc603711cd0>,\n",
      "04-27 17:05:31 :: WARNING  :: optStudy-OscillCylinder.run00 ::                                                                        <pymooCFD.core.pymooBase.CFDGeneticAlgorithm object at 0x7fc60372e5e0>,\n",
      "04-27 17:05:31 :: WARNING  :: optStudy-OscillCylinder.run00 ::                                                                        <pymooCFD.core.pymooBase.CFDGeneticAlgorithm object at 0x7fc6036c6f40>,\n",
      "04-27 17:05:31 :: WARNING  :: optStudy-OscillCylinder.run00 ::                                                                        <pymooCFD.core.pymooBase.CFDGeneticAlgorithm object at 0x7fc6036e38e0>,\n",
      "04-27 17:05:31 :: WARNING  :: optStudy-OscillCylinder.run00 ::                                                                        <pymooCFD.core.pymooBase.CFDGeneticAlgorithm object at 0x7fc60367f280>,\n",
      "04-27 17:05:31 :: WARNING  :: optStudy-OscillCylinder.run00 ::                                                                        <pymooCFD.core.pymooBase.CFDGeneticAlgorithm object at 0x7fc603698d30>,\n",
      "04-27 17:05:31 :: WARNING  :: optStudy-OscillCylinder.run00 ::                                                                        <pymooCFD.core.pymooBase.CFDGeneticAlgorithm object at 0x7fc6036342b0>,\n",
      "04-27 17:05:31 :: WARNING  :: optStudy-OscillCylinder.run00 ::                                                                        <pymooCFD.core.pymooBase.CFDGeneticAlgorithm object at 0x7fc60364ceb0>,\n",
      "04-27 17:05:31 :: WARNING  :: optStudy-OscillCylinder.run00 ::                                                                        <pymooCFD.core.pymooBase.CFDGeneticAlgorithm object at 0x7fc60366ba90>,\n",
      "04-27 17:05:31 :: WARNING  :: optStudy-OscillCylinder.run00 ::                                                                        <pymooCFD.core.pymooBase.CFDGeneticAlgorithm object at 0x7fc60360b6a0>,\n",
      "04-27 17:05:31 :: WARNING  :: optStudy-OscillCylinder.run00 ::                                                                        <pymooCFD.core.pymooBase.CFDGeneticAlgorithm object at 0x7fc60362a3d0>,\n",
      "04-27 17:05:31 :: WARNING  :: optStudy-OscillCylinder.run00 ::                                                                        <pymooCFD.core.pymooBase.CFDGeneticAlgorithm object at 0x7fc6035c7130>,\n",
      "04-27 17:05:31 :: WARNING  :: optStudy-OscillCylinder.run00 ::                                                                        <pymooCFD.core.pymooBase.CFDGeneticAlgorithm object at 0x7fc6035e1eb0>,\n",
      "04-27 17:05:31 :: WARNING  :: optStudy-OscillCylinder.run00 ::                                                                        <pymooCFD.core.pymooBase.CFDGeneticAlgorithm object at 0x7fc603580e50>,\n",
      "04-27 17:05:31 :: WARNING  :: optStudy-OscillCylinder.run00 ::                                                                        <pymooCFD.core.pymooBase.CFDGeneticAlgorithm object at 0x7fc60359ffd0>,\n",
      "04-27 17:05:31 :: WARNING  :: optStudy-OscillCylinder.run00 ::                                                                        <pymooCFD.core.pymooBase.CFDGeneticAlgorithm object at 0x7fc6035423d0>,\n",
      "04-27 17:05:31 :: WARNING  :: optStudy-OscillCylinder.run00 ::                                                                        <pymooCFD.core.pymooBase.CFDGeneticAlgorithm object at 0x7fc603562640>,\n",
      "04-27 17:05:31 :: WARNING  :: optStudy-OscillCylinder.run00 ::                                                                        <pymooCFD.core.pymooBase.CFDGeneticAlgorithm object at 0x7fc603500820>,\n",
      "04-27 17:05:31 :: WARNING  :: optStudy-OscillCylinder.run00 ::                                                                        <pymooCFD.core.pymooBase.CFDGeneticAlgorithm object at 0x7fc6035219d0>,\n",
      "04-27 17:05:31 :: WARNING  :: optStudy-OscillCylinder.run00 ::                                                                        <pymooCFD.core.pymooBase.CFDGeneticAlgorithm object at 0x7fc6034c2bb0>,\n",
      "04-27 17:05:31 :: WARNING  :: optStudy-OscillCylinder.run00 ::                                                                        <pymooCFD.core.pymooBase.CFDGeneticAlgorithm object at 0x7fc6034e3eb0>,\n",
      "04-27 17:05:31 :: WARNING  :: optStudy-OscillCylinder.run00 ::                                                                        <pymooCFD.core.pymooBase.CFDGeneticAlgorithm object at 0x7fc60348b1c0>,\n",
      "04-27 17:05:31 :: WARNING  :: optStudy-OscillCylinder.run00 ::                                                                        <pymooCFD.core.pymooBase.CFDGeneticAlgorithm object at 0x7fc6034ac4f0>],\n",
      "04-27 17:05:31 :: WARNING  :: optStudy-OscillCylinder.run00 ::                                                       'old_type': <class 'NoneType'>,\n",
      "04-27 17:05:31 :: WARNING  :: optStudy-OscillCylinder.run00 ::                                                       'old_value': None},\n",
      "04-27 17:05:31 :: WARNING  :: optStudy-OscillCylinder.run00 ::                         \"root.algorithm.mating.mutation.process[0]['operator'].prob\": {   'new_type': <class 'numpy.float64'>,\n",
      "04-27 17:05:31 :: WARNING  :: optStudy-OscillCylinder.run00 ::                                                                                           'new_value': 0.5,\n",
      "04-27 17:05:31 :: WARNING  :: optStudy-OscillCylinder.run00 ::                                                                                           'old_type': <class 'NoneType'>,\n",
      "04-27 17:05:31 :: WARNING  :: optStudy-OscillCylinder.run00 ::                                                                                           'old_value': None},\n",
      "04-27 17:05:31 :: WARNING  :: optStudy-OscillCylinder.run00 ::                         'root.algorithm.n_gen': {   'new_type': <class 'int'>,\n",
      "04-27 17:05:31 :: WARNING  :: optStudy-OscillCylinder.run00 ::                                                     'new_value': 25,\n",
      "04-27 17:05:31 :: WARNING  :: optStudy-OscillCylinder.run00 ::                                                     'old_type': <class 'NoneType'>,\n",
      "04-27 17:05:31 :: WARNING  :: optStudy-OscillCylinder.run00 ::                                                     'old_value': None},\n",
      "04-27 17:05:31 :: WARNING  :: optStudy-OscillCylinder.run00 ::                         'root.algorithm.opt': {   'new_type': <class 'numpy.object_'>,\n",
      "04-27 17:05:31 :: WARNING  :: optStudy-OscillCylinder.run00 ::                                                   'new_value': Population([<pymoo.core.individual.Individual object at 0x7fc6037992b0>,\n",
      "04-27 17:05:31 :: WARNING  :: optStudy-OscillCylinder.run00 ::             <pymoo.core.individual.Individual object at 0x7fc603799310>,\n",
      "04-27 17:05:31 :: WARNING  :: optStudy-OscillCylinder.run00 ::             <pymoo.core.individual.Individual object at 0x7fc603799370>,\n",
      "04-27 17:05:31 :: WARNING  :: optStudy-OscillCylinder.run00 ::             <pymoo.core.individual.Individual object at 0x7fc603c3db80>,\n",
      "04-27 17:05:31 :: WARNING  :: optStudy-OscillCylinder.run00 ::             <pymoo.core.individual.Individual object at 0x7fc603c3db50>,\n",
      "04-27 17:05:31 :: WARNING  :: optStudy-OscillCylinder.run00 ::             <pymoo.core.individual.Individual object at 0x7fc603782880>,\n",
      "04-27 17:05:31 :: WARNING  :: optStudy-OscillCylinder.run00 ::             <pymoo.core.individual.Individual object at 0x7fc603782850>,\n",
      "04-27 17:05:31 :: WARNING  :: optStudy-OscillCylinder.run00 ::             <pymoo.core.individual.Individual object at 0x7fc6037828b0>,\n",
      "04-27 17:05:31 :: WARNING  :: optStudy-OscillCylinder.run00 ::             <pymoo.core.individual.Individual object at 0x7fc603782610>,\n",
      "04-27 17:05:31 :: WARNING  :: optStudy-OscillCylinder.run00 ::             <pymoo.core.individual.Individual object at 0x7fc603782670>,\n",
      "04-27 17:05:31 :: WARNING  :: optStudy-OscillCylinder.run00 ::             <pymoo.core.individual.Individual object at 0x7fc603782700>,\n",
      "04-27 17:05:31 :: WARNING  :: optStudy-OscillCylinder.run00 ::             <pymoo.core.individual.Individual object at 0x7fc603782760>,\n",
      "04-27 17:05:31 :: WARNING  :: optStudy-OscillCylinder.run00 ::             <pymoo.core.individual.Individual object at 0x7fc6037827c0>,\n",
      "04-27 17:05:31 :: WARNING  :: optStudy-OscillCylinder.run00 ::             <pymoo.core.individual.Individual object at 0x7fc603782820>,\n",
      "04-27 17:05:31 :: WARNING  :: optStudy-OscillCylinder.run00 ::             <pymoo.core.individual.Individual object at 0x7fc603cb8790>,\n",
      "04-27 17:05:31 :: WARNING  :: optStudy-OscillCylinder.run00 ::             <pymoo.core.individual.Individual object at 0x7fc603cc31f0>,\n",
      "04-27 17:05:31 :: WARNING  :: optStudy-OscillCylinder.run00 ::             <pymoo.core.individual.Individual object at 0x7fc6037d9400>,\n",
      "04-27 17:05:31 :: WARNING  :: optStudy-OscillCylinder.run00 ::             <pymoo.core.individual.Individual object at 0x7fc6037d9f70>,\n",
      "04-27 17:05:31 :: WARNING  :: optStudy-OscillCylinder.run00 ::             <pymoo.core.individual.Individual object at 0x7fc6037d9490>,\n",
      "04-27 17:05:31 :: WARNING  :: optStudy-OscillCylinder.run00 ::             <pymoo.core.individual.Individual object at 0x7fc6037d9700>,\n",
      "04-27 17:05:31 :: WARNING  :: optStudy-OscillCylinder.run00 ::             <pymoo.core.individual.Individual object at 0x7fc6037d94c0>,\n",
      "04-27 17:05:31 :: WARNING  :: optStudy-OscillCylinder.run00 ::             <pymoo.core.individual.Individual object at 0x7fc603daf940>,\n",
      "04-27 17:05:31 :: WARNING  :: optStudy-OscillCylinder.run00 ::             <pymoo.core.individual.Individual object at 0x7fc603daf910>,\n",
      "04-27 17:05:31 :: WARNING  :: optStudy-OscillCylinder.run00 ::             <pymoo.core.individual.Individual object at 0x7fc603dafa60>,\n",
      "04-27 17:05:31 :: WARNING  :: optStudy-OscillCylinder.run00 ::             <pymoo.core.individual.Individual object at 0x7fc603daf850>,\n",
      "04-27 17:05:31 :: WARNING  :: optStudy-OscillCylinder.run00 ::             <pymoo.core.individual.Individual object at 0x7fc603daf8b0>,\n",
      "04-27 17:05:31 :: WARNING  :: optStudy-OscillCylinder.run00 ::             <pymoo.core.individual.Individual object at 0x7fc89842b040>,\n",
      "04-27 17:05:31 :: WARNING  :: optStudy-OscillCylinder.run00 ::             <pymoo.core.individual.Individual object at 0x7fc898480220>,\n",
      "04-27 17:05:31 :: WARNING  :: optStudy-OscillCylinder.run00 ::             <pymoo.core.individual.Individual object at 0x7fc6047051f0>,\n",
      "04-27 17:05:31 :: WARNING  :: optStudy-OscillCylinder.run00 ::             <pymoo.core.individual.Individual object at 0x7fc604705520>,\n",
      "04-27 17:05:31 :: WARNING  :: optStudy-OscillCylinder.run00 ::             <pymoo.core.individual.Individual object at 0x7fc60450ad90>,\n",
      "04-27 17:05:31 :: WARNING  :: optStudy-OscillCylinder.run00 ::             <pymoo.core.individual.Individual object at 0x7fc61b886a00>,\n",
      "04-27 17:05:31 :: WARNING  :: optStudy-OscillCylinder.run00 ::             <pymoo.core.individual.Individual object at 0x7fc61b8868b0>,\n",
      "04-27 17:05:31 :: WARNING  :: optStudy-OscillCylinder.run00 ::             <pymoo.core.individual.Individual object at 0x7fc61b886730>,\n",
      "04-27 17:05:31 :: WARNING  :: optStudy-OscillCylinder.run00 ::             <pymoo.core.individual.Individual object at 0x7fc7cee2bf40>,\n",
      "04-27 17:05:31 :: WARNING  :: optStudy-OscillCylinder.run00 ::             <pymoo.core.individual.Individual object at 0x7fc7cee2b730>,\n",
      "04-27 17:05:31 :: WARNING  :: optStudy-OscillCylinder.run00 ::             <pymoo.core.individual.Individual object at 0x7fc603446a30>,\n",
      "04-27 17:05:31 :: WARNING  :: optStudy-OscillCylinder.run00 ::             <pymoo.core.individual.Individual object at 0x7fc603446a90>,\n",
      "04-27 17:05:31 :: WARNING  :: optStudy-OscillCylinder.run00 ::             <pymoo.core.individual.Individual object at 0x7fc603446af0>,\n",
      "04-27 17:05:31 :: WARNING  :: optStudy-OscillCylinder.run00 ::             <pymoo.core.individual.Individual object at 0x7fc603446b50>,\n",
      "04-27 17:05:31 :: WARNING  :: optStudy-OscillCylinder.run00 ::             <pymoo.core.individual.Individual object at 0x7fc603446bb0>],\n",
      "04-27 17:05:31 :: WARNING  :: optStudy-OscillCylinder.run00 ::            dtype=object),\n",
      "04-27 17:05:31 :: WARNING  :: optStudy-OscillCylinder.run00 ::                                                   'old_type': <class 'NoneType'>,\n",
      "04-27 17:05:31 :: WARNING  :: optStudy-OscillCylinder.run00 ::                                                   'old_value': None},\n",
      "04-27 17:05:31 :: WARNING  :: optStudy-OscillCylinder.run00 ::                         'root.algorithm.pop': {   'new_type': <class 'numpy.object_'>,\n",
      "04-27 17:05:31 :: WARNING  :: optStudy-OscillCylinder.run00 ::                                                   'new_value': Population([<pymoo.core.individual.Individual object at 0x7fc6037992b0>,\n",
      "04-27 17:05:31 :: WARNING  :: optStudy-OscillCylinder.run00 ::             <pymoo.core.individual.Individual object at 0x7fc603799310>,\n",
      "04-27 17:05:31 :: WARNING  :: optStudy-OscillCylinder.run00 ::             <pymoo.core.individual.Individual object at 0x7fc603799370>,\n",
      "04-27 17:05:31 :: WARNING  :: optStudy-OscillCylinder.run00 ::             <pymoo.core.individual.Individual object at 0x7fc603c3db80>,\n",
      "04-27 17:05:31 :: WARNING  :: optStudy-OscillCylinder.run00 ::             <pymoo.core.individual.Individual object at 0x7fc603c3db50>,\n",
      "04-27 17:05:31 :: WARNING  :: optStudy-OscillCylinder.run00 ::             <pymoo.core.individual.Individual object at 0x7fc603782880>,\n",
      "04-27 17:05:31 :: WARNING  :: optStudy-OscillCylinder.run00 ::             <pymoo.core.individual.Individual object at 0x7fc603782850>,\n",
      "04-27 17:05:31 :: WARNING  :: optStudy-OscillCylinder.run00 ::             <pymoo.core.individual.Individual object at 0x7fc6037828b0>,\n",
      "04-27 17:05:31 :: WARNING  :: optStudy-OscillCylinder.run00 ::             <pymoo.core.individual.Individual object at 0x7fc603782610>,\n",
      "04-27 17:05:31 :: WARNING  :: optStudy-OscillCylinder.run00 ::             <pymoo.core.individual.Individual object at 0x7fc603782670>,\n",
      "04-27 17:05:31 :: WARNING  :: optStudy-OscillCylinder.run00 ::             <pymoo.core.individual.Individual object at 0x7fc603782700>,\n",
      "04-27 17:05:31 :: WARNING  :: optStudy-OscillCylinder.run00 ::             <pymoo.core.individual.Individual object at 0x7fc603782760>,\n",
      "04-27 17:05:31 :: WARNING  :: optStudy-OscillCylinder.run00 ::             <pymoo.core.individual.Individual object at 0x7fc6037827c0>,\n",
      "04-27 17:05:31 :: WARNING  :: optStudy-OscillCylinder.run00 ::             <pymoo.core.individual.Individual object at 0x7fc603782820>,\n",
      "04-27 17:05:31 :: WARNING  :: optStudy-OscillCylinder.run00 ::             <pymoo.core.individual.Individual object at 0x7fc603cb8790>,\n",
      "04-27 17:05:31 :: WARNING  :: optStudy-OscillCylinder.run00 ::             <pymoo.core.individual.Individual object at 0x7fc603cc31f0>,\n",
      "04-27 17:05:31 :: WARNING  :: optStudy-OscillCylinder.run00 ::             <pymoo.core.individual.Individual object at 0x7fc6037d9400>,\n",
      "04-27 17:05:31 :: WARNING  :: optStudy-OscillCylinder.run00 ::             <pymoo.core.individual.Individual object at 0x7fc6037d9f70>,\n",
      "04-27 17:05:31 :: WARNING  :: optStudy-OscillCylinder.run00 ::             <pymoo.core.individual.Individual object at 0x7fc6037d9490>,\n",
      "04-27 17:05:31 :: WARNING  :: optStudy-OscillCylinder.run00 ::             <pymoo.core.individual.Individual object at 0x7fc6037d9700>,\n",
      "04-27 17:05:31 :: WARNING  :: optStudy-OscillCylinder.run00 ::             <pymoo.core.individual.Individual object at 0x7fc6037d94c0>,\n",
      "04-27 17:05:31 :: WARNING  :: optStudy-OscillCylinder.run00 ::             <pymoo.core.individual.Individual object at 0x7fc603daf940>,\n",
      "04-27 17:05:31 :: WARNING  :: optStudy-OscillCylinder.run00 ::             <pymoo.core.individual.Individual object at 0x7fc603daf910>,\n",
      "04-27 17:05:31 :: WARNING  :: optStudy-OscillCylinder.run00 ::             <pymoo.core.individual.Individual object at 0x7fc603dafa60>,\n",
      "04-27 17:05:31 :: WARNING  :: optStudy-OscillCylinder.run00 ::             <pymoo.core.individual.Individual object at 0x7fc603daf850>,\n",
      "04-27 17:05:31 :: WARNING  :: optStudy-OscillCylinder.run00 ::             <pymoo.core.individual.Individual object at 0x7fc603daf8b0>,\n",
      "04-27 17:05:31 :: WARNING  :: optStudy-OscillCylinder.run00 ::             <pymoo.core.individual.Individual object at 0x7fc89842b040>,\n",
      "04-27 17:05:31 :: WARNING  :: optStudy-OscillCylinder.run00 ::             <pymoo.core.individual.Individual object at 0x7fc898480220>,\n",
      "04-27 17:05:31 :: WARNING  :: optStudy-OscillCylinder.run00 ::             <pymoo.core.individual.Individual object at 0x7fc6047051f0>,\n",
      "04-27 17:05:31 :: WARNING  :: optStudy-OscillCylinder.run00 ::             <pymoo.core.individual.Individual object at 0x7fc604705520>,\n",
      "04-27 17:05:31 :: WARNING  :: optStudy-OscillCylinder.run00 ::             <pymoo.core.individual.Individual object at 0x7fc60450ad90>,\n",
      "04-27 17:05:31 :: WARNING  :: optStudy-OscillCylinder.run00 ::             <pymoo.core.individual.Individual object at 0x7fc61b886a00>,\n",
      "04-27 17:05:31 :: WARNING  :: optStudy-OscillCylinder.run00 ::             <pymoo.core.individual.Individual object at 0x7fc61b8868b0>,\n",
      "04-27 17:05:31 :: WARNING  :: optStudy-OscillCylinder.run00 ::             <pymoo.core.individual.Individual object at 0x7fc61b886730>,\n",
      "04-27 17:05:31 :: WARNING  :: optStudy-OscillCylinder.run00 ::             <pymoo.core.individual.Individual object at 0x7fc7cee2bf40>,\n",
      "04-27 17:05:31 :: WARNING  :: optStudy-OscillCylinder.run00 ::             <pymoo.core.individual.Individual object at 0x7fc7cee2b730>,\n",
      "04-27 17:05:31 :: WARNING  :: optStudy-OscillCylinder.run00 ::             <pymoo.core.individual.Individual object at 0x7fc603446a30>,\n",
      "04-27 17:05:31 :: WARNING  :: optStudy-OscillCylinder.run00 ::             <pymoo.core.individual.Individual object at 0x7fc603446a90>,\n",
      "04-27 17:05:31 :: WARNING  :: optStudy-OscillCylinder.run00 ::             <pymoo.core.individual.Individual object at 0x7fc603446af0>,\n",
      "04-27 17:05:31 :: WARNING  :: optStudy-OscillCylinder.run00 ::             <pymoo.core.individual.Individual object at 0x7fc603446b50>,\n",
      "04-27 17:05:31 :: WARNING  :: optStudy-OscillCylinder.run00 ::             <pymoo.core.individual.Individual object at 0x7fc603446bb0>,\n",
      "04-27 17:05:31 :: WARNING  :: optStudy-OscillCylinder.run00 ::             <pymoo.core.individual.Individual object at 0x7fc603446c10>,\n",
      "04-27 17:05:31 :: WARNING  :: optStudy-OscillCylinder.run00 ::             <pymoo.core.individual.Individual object at 0x7fc603446c70>,\n",
      "04-27 17:05:31 :: WARNING  :: optStudy-OscillCylinder.run00 ::             <pymoo.core.individual.Individual object at 0x7fc603446cd0>,\n",
      "04-27 17:05:31 :: WARNING  :: optStudy-OscillCylinder.run00 ::             <pymoo.core.individual.Individual object at 0x7fc603446d30>,\n",
      "04-27 17:05:31 :: WARNING  :: optStudy-OscillCylinder.run00 ::             <pymoo.core.individual.Individual object at 0x7fc603446d90>,\n",
      "04-27 17:05:31 :: WARNING  :: optStudy-OscillCylinder.run00 ::             <pymoo.core.individual.Individual object at 0x7fc603446df0>,\n",
      "04-27 17:05:31 :: WARNING  :: optStudy-OscillCylinder.run00 ::             <pymoo.core.individual.Individual object at 0x7fc603446e50>,\n",
      "04-27 17:05:31 :: WARNING  :: optStudy-OscillCylinder.run00 ::             <pymoo.core.individual.Individual object at 0x7fc603446eb0>,\n",
      "04-27 17:05:31 :: WARNING  :: optStudy-OscillCylinder.run00 ::             <pymoo.core.individual.Individual object at 0x7fc603446f10>],\n",
      "04-27 17:05:31 :: WARNING  :: optStudy-OscillCylinder.run00 ::            dtype=object),\n",
      "04-27 17:05:31 :: WARNING  :: optStudy-OscillCylinder.run00 ::                                                   'old_type': <class 'NoneType'>,\n",
      "04-27 17:05:31 :: WARNING  :: optStudy-OscillCylinder.run00 ::                                                   'old_value': None},\n",
      "04-27 17:05:31 :: WARNING  :: optStudy-OscillCylinder.run00 ::                         'root.algorithm.start_time': {   'new_type': <class 'float'>,\n",
      "04-27 17:05:31 :: WARNING  :: optStudy-OscillCylinder.run00 ::                                                          'new_value': 1650659130.4291477,\n",
      "04-27 17:05:31 :: WARNING  :: optStudy-OscillCylinder.run00 ::                                                          'old_type': <class 'NoneType'>,\n",
      "04-27 17:05:31 :: WARNING  :: optStudy-OscillCylinder.run00 ::                                                          'old_value': None},\n",
      "04-27 17:05:31 :: WARNING  :: optStudy-OscillCylinder.run00 ::                         'root.bnd_cases[0]._f': {   'new_type': <class 'list'>,\n",
      "04-27 17:05:31 :: WARNING  :: optStudy-OscillCylinder.run00 ::                                                     'new_value': [   -0.08979265549899708,\n",
      "04-27 17:05:31 :: WARNING  :: optStudy-OscillCylinder.run00 ::                                                                      0.0035286254738335133],\n",
      "04-27 17:05:31 :: WARNING  :: optStudy-OscillCylinder.run00 ::                                                     'old_type': <class 'NoneType'>,\n",
      "04-27 17:05:31 :: WARNING  :: optStudy-OscillCylinder.run00 ::                                                     'old_value': None},\n",
      "04-27 17:05:31 :: WARNING  :: optStudy-OscillCylinder.run00 ::                         'root.bnd_cases[0].numElem': {   'new_type': <class 'int'>,\n",
      "04-27 17:05:31 :: WARNING  :: optStudy-OscillCylinder.run00 ::                                                          'new_value': 122927,\n",
      "04-27 17:05:31 :: WARNING  :: optStudy-OscillCylinder.run00 ::                                                          'old_type': <class 'NoneType'>,\n",
      "04-27 17:05:31 :: WARNING  :: optStudy-OscillCylinder.run00 ::                                                          'old_value': None},\n",
      "04-27 17:05:31 :: WARNING  :: optStudy-OscillCylinder.run00 ::                         'root.bnd_cases[0].solnTime': {   'new_type': <class 'float'>,\n",
      "04-27 17:05:31 :: WARNING  :: optStudy-OscillCylinder.run00 ::                                                           'new_value': 2009.8838543891907,\n",
      "04-27 17:05:31 :: WARNING  :: optStudy-OscillCylinder.run00 ::                                                           'old_type': <class 'NoneType'>,\n",
      "04-27 17:05:31 :: WARNING  :: optStudy-OscillCylinder.run00 ::                                                           'old_value': None},\n",
      "04-27 17:05:31 :: WARNING  :: optStudy-OscillCylinder.run00 ::                         'root.bnd_cases[1]._f': {   'new_type': <class 'list'>,\n",
      "04-27 17:05:31 :: WARNING  :: optStudy-OscillCylinder.run00 ::                                                     'new_value': [   0.11282897352248838,\n",
      "04-27 17:05:31 :: WARNING  :: optStudy-OscillCylinder.run00 ::                                                                      0.011251232002220689],\n",
      "04-27 17:05:31 :: WARNING  :: optStudy-OscillCylinder.run00 ::                                                     'old_type': <class 'NoneType'>,\n",
      "04-27 17:05:31 :: WARNING  :: optStudy-OscillCylinder.run00 ::                                                     'old_value': None},\n",
      "04-27 17:05:31 :: WARNING  :: optStudy-OscillCylinder.run00 ::                         'root.bnd_cases[1].numElem': {   'new_type': <class 'int'>,\n",
      "04-27 17:05:31 :: WARNING  :: optStudy-OscillCylinder.run00 ::                                                          'new_value': 122927,\n",
      "04-27 17:05:31 :: WARNING  :: optStudy-OscillCylinder.run00 ::                                                          'old_type': <class 'NoneType'>,\n",
      "04-27 17:05:31 :: WARNING  :: optStudy-OscillCylinder.run00 ::                                                          'old_value': None},\n",
      "04-27 17:05:31 :: WARNING  :: optStudy-OscillCylinder.run00 ::                         'root.bnd_cases[1].solnTime': {   'new_type': <class 'float'>,\n",
      "04-27 17:05:31 :: WARNING  :: optStudy-OscillCylinder.run00 ::                                                           'new_value': 2079.050367116928,\n",
      "04-27 17:05:31 :: WARNING  :: optStudy-OscillCylinder.run00 ::                                                           'old_type': <class 'NoneType'>,\n",
      "04-27 17:05:31 :: WARNING  :: optStudy-OscillCylinder.run00 ::                                                           'old_value': None},\n",
      "04-27 17:05:31 :: WARNING  :: optStudy-OscillCylinder.run00 ::                         'root.bnd_cases[2]._f': {   'new_type': <class 'list'>,\n",
      "04-27 17:05:31 :: WARNING  :: optStudy-OscillCylinder.run00 ::                                                     'new_value': [   384.25152354807034,\n",
      "04-27 17:05:31 :: WARNING  :: optStudy-OscillCylinder.run00 ::                                                                      0.14430938504636573],\n",
      "04-27 17:05:31 :: WARNING  :: optStudy-OscillCylinder.run00 ::                                                     'old_type': <class 'NoneType'>,\n",
      "04-27 17:05:31 :: WARNING  :: optStudy-OscillCylinder.run00 ::                                                     'old_value': None},\n",
      "04-27 17:05:31 :: WARNING  :: optStudy-OscillCylinder.run00 ::                         'root.bnd_cases[2].numElem': {   'new_type': <class 'int'>,\n",
      "04-27 17:05:31 :: WARNING  :: optStudy-OscillCylinder.run00 ::                                                          'new_value': 122927,\n",
      "04-27 17:05:31 :: WARNING  :: optStudy-OscillCylinder.run00 ::                                                          'old_type': <class 'NoneType'>,\n",
      "04-27 17:05:31 :: WARNING  :: optStudy-OscillCylinder.run00 ::                                                          'old_value': None},\n",
      "04-27 17:05:31 :: WARNING  :: optStudy-OscillCylinder.run00 ::                         'root.bnd_cases[2].solnTime': {   'new_type': <class 'float'>,\n",
      "04-27 17:05:31 :: WARNING  :: optStudy-OscillCylinder.run00 ::                                                           'new_value': 4799.976838827133,\n",
      "04-27 17:05:31 :: WARNING  :: optStudy-OscillCylinder.run00 ::                                                           'old_type': <class 'NoneType'>,\n",
      "04-27 17:05:31 :: WARNING  :: optStudy-OscillCylinder.run00 ::                                                           'old_value': None},\n",
      "04-27 17:05:31 :: WARNING  :: optStudy-OscillCylinder.run00 ::                         'root.bnd_cases[3]._f': {   'new_type': <class 'list'>,\n",
      "04-27 17:05:31 :: WARNING  :: optStudy-OscillCylinder.run00 ::                                                     'new_value': [   -10.675385962969651,\n",
      "04-27 17:05:31 :: WARNING  :: optStudy-OscillCylinder.run00 ::                                                                      0.4543994008894243],\n",
      "04-27 17:05:31 :: WARNING  :: optStudy-OscillCylinder.run00 ::                                                     'old_type': <class 'NoneType'>,\n",
      "04-27 17:05:31 :: WARNING  :: optStudy-OscillCylinder.run00 ::                                                     'old_value': None},\n",
      "04-27 17:05:31 :: WARNING  :: optStudy-OscillCylinder.run00 ::                         'root.bnd_cases[3].numElem': {   'new_type': <class 'int'>,\n",
      "04-27 17:05:31 :: WARNING  :: optStudy-OscillCylinder.run00 ::                                                          'new_value': 122927,\n",
      "04-27 17:05:31 :: WARNING  :: optStudy-OscillCylinder.run00 ::                                                          'old_type': <class 'NoneType'>,\n",
      "04-27 17:05:31 :: WARNING  :: optStudy-OscillCylinder.run00 ::                                                          'old_value': None},\n",
      "04-27 17:05:31 :: WARNING  :: optStudy-OscillCylinder.run00 ::                         'root.bnd_cases[3].solnTime': {   'new_type': <class 'float'>,\n",
      "04-27 17:05:31 :: WARNING  :: optStudy-OscillCylinder.run00 ::                                                           'new_value': 3774.450874567032,\n",
      "04-27 17:05:31 :: WARNING  :: optStudy-OscillCylinder.run00 ::                                                           'old_type': <class 'NoneType'>,\n",
      "04-27 17:05:31 :: WARNING  :: optStudy-OscillCylinder.run00 ::                                                           'old_value': None},\n",
      "04-27 17:05:31 :: WARNING  :: optStudy-OscillCylinder.run00 ::                         'root.gen1_pop': {   'new_type': <class 'numpy.object_'>,\n",
      "04-27 17:05:31 :: WARNING  :: optStudy-OscillCylinder.run00 ::                                              'new_value': Population([<pymoo.core.individual.Individual object at 0x7fc603da34f0>,\n",
      "04-27 17:05:31 :: WARNING  :: optStudy-OscillCylinder.run00 ::             <pymoo.core.individual.Individual object at 0x7fc603da3550>,\n",
      "04-27 17:05:31 :: WARNING  :: optStudy-OscillCylinder.run00 ::             <pymoo.core.individual.Individual object at 0x7fc603da35b0>,\n",
      "04-27 17:05:31 :: WARNING  :: optStudy-OscillCylinder.run00 ::             <pymoo.core.individual.Individual object at 0x7fc603da3610>,\n",
      "04-27 17:05:31 :: WARNING  :: optStudy-OscillCylinder.run00 ::             <pymoo.core.individual.Individual object at 0x7fc603da3670>,\n",
      "04-27 17:05:31 :: WARNING  :: optStudy-OscillCylinder.run00 ::             <pymoo.core.individual.Individual object at 0x7fc603da36d0>,\n",
      "04-27 17:05:31 :: WARNING  :: optStudy-OscillCylinder.run00 ::             <pymoo.core.individual.Individual object at 0x7fc603da3730>,\n",
      "04-27 17:05:31 :: WARNING  :: optStudy-OscillCylinder.run00 ::             <pymoo.core.individual.Individual object at 0x7fc603da3790>,\n",
      "04-27 17:05:31 :: WARNING  :: optStudy-OscillCylinder.run00 ::             <pymoo.core.individual.Individual object at 0x7fc603da37f0>,\n",
      "04-27 17:05:31 :: WARNING  :: optStudy-OscillCylinder.run00 ::             <pymoo.core.individual.Individual object at 0x7fc603da3850>,\n",
      "04-27 17:05:31 :: WARNING  :: optStudy-OscillCylinder.run00 ::             <pymoo.core.individual.Individual object at 0x7fc603da38b0>,\n",
      "04-27 17:05:31 :: WARNING  :: optStudy-OscillCylinder.run00 ::             <pymoo.core.individual.Individual object at 0x7fc603da3910>,\n",
      "04-27 17:05:31 :: WARNING  :: optStudy-OscillCylinder.run00 ::             <pymoo.core.individual.Individual object at 0x7fc603da3970>,\n",
      "04-27 17:05:31 :: WARNING  :: optStudy-OscillCylinder.run00 ::             <pymoo.core.individual.Individual object at 0x7fc603da39d0>,\n",
      "04-27 17:05:31 :: WARNING  :: optStudy-OscillCylinder.run00 ::             <pymoo.core.individual.Individual object at 0x7fc603da3a60>,\n",
      "04-27 17:05:31 :: WARNING  :: optStudy-OscillCylinder.run00 ::             <pymoo.core.individual.Individual object at 0x7fc603da3ac0>,\n",
      "04-27 17:05:31 :: WARNING  :: optStudy-OscillCylinder.run00 ::             <pymoo.core.individual.Individual object at 0x7fc603da3b20>,\n",
      "04-27 17:05:31 :: WARNING  :: optStudy-OscillCylinder.run00 ::             <pymoo.core.individual.Individual object at 0x7fc603da3b80>,\n",
      "04-27 17:05:31 :: WARNING  :: optStudy-OscillCylinder.run00 ::             <pymoo.core.individual.Individual object at 0x7fc603da3be0>,\n",
      "04-27 17:05:31 :: WARNING  :: optStudy-OscillCylinder.run00 ::             <pymoo.core.individual.Individual object at 0x7fc603da3c40>,\n",
      "04-27 17:05:31 :: WARNING  :: optStudy-OscillCylinder.run00 ::             <pymoo.core.individual.Individual object at 0x7fc603da3ca0>,\n",
      "04-27 17:05:31 :: WARNING  :: optStudy-OscillCylinder.run00 ::             <pymoo.core.individual.Individual object at 0x7fc603da3d00>,\n",
      "04-27 17:05:31 :: WARNING  :: optStudy-OscillCylinder.run00 ::             <pymoo.core.individual.Individual object at 0x7fc603da3d60>,\n",
      "04-27 17:05:31 :: WARNING  :: optStudy-OscillCylinder.run00 ::             <pymoo.core.individual.Individual object at 0x7fc603da3dc0>,\n",
      "04-27 17:05:31 :: WARNING  :: optStudy-OscillCylinder.run00 ::             <pymoo.core.individual.Individual object at 0x7fc603da3e20>,\n",
      "04-27 17:05:31 :: WARNING  :: optStudy-OscillCylinder.run00 ::             <pymoo.core.individual.Individual object at 0x7fc603da3e80>,\n",
      "04-27 17:05:31 :: WARNING  :: optStudy-OscillCylinder.run00 ::             <pymoo.core.individual.Individual object at 0x7fc603da3ee0>,\n",
      "04-27 17:05:31 :: WARNING  :: optStudy-OscillCylinder.run00 ::             <pymoo.core.individual.Individual object at 0x7fc603da3f40>,\n",
      "04-27 17:05:31 :: WARNING  :: optStudy-OscillCylinder.run00 ::             <pymoo.core.individual.Individual object at 0x7fc603da3fa0>,\n",
      "04-27 17:05:31 :: WARNING  :: optStudy-OscillCylinder.run00 ::             <pymoo.core.individual.Individual object at 0x7fc6037d1040>,\n",
      "04-27 17:05:31 :: WARNING  :: optStudy-OscillCylinder.run00 ::             <pymoo.core.individual.Individual object at 0x7fc6037d10a0>,\n",
      "04-27 17:05:31 :: WARNING  :: optStudy-OscillCylinder.run00 ::             <pymoo.core.individual.Individual object at 0x7fc6037d1100>,\n",
      "04-27 17:05:31 :: WARNING  :: optStudy-OscillCylinder.run00 ::             <pymoo.core.individual.Individual object at 0x7fc6037d1160>,\n",
      "04-27 17:05:31 :: WARNING  :: optStudy-OscillCylinder.run00 ::             <pymoo.core.individual.Individual object at 0x7fc6037992b0>,\n",
      "04-27 17:05:31 :: WARNING  :: optStudy-OscillCylinder.run00 ::             <pymoo.core.individual.Individual object at 0x7fc6037d11c0>,\n",
      "04-27 17:05:31 :: WARNING  :: optStudy-OscillCylinder.run00 ::             <pymoo.core.individual.Individual object at 0x7fc6037d1220>,\n",
      "04-27 17:05:31 :: WARNING  :: optStudy-OscillCylinder.run00 ::             <pymoo.core.individual.Individual object at 0x7fc6037d1280>,\n",
      "04-27 17:05:31 :: WARNING  :: optStudy-OscillCylinder.run00 ::             <pymoo.core.individual.Individual object at 0x7fc6037d12e0>,\n",
      "04-27 17:05:31 :: WARNING  :: optStudy-OscillCylinder.run00 ::             <pymoo.core.individual.Individual object at 0x7fc6037d1340>,\n",
      "04-27 17:05:31 :: WARNING  :: optStudy-OscillCylinder.run00 ::             <pymoo.core.individual.Individual object at 0x7fc6037d13a0>,\n",
      "04-27 17:05:31 :: WARNING  :: optStudy-OscillCylinder.run00 ::             <pymoo.core.individual.Individual object at 0x7fc6037d1400>,\n",
      "04-27 17:05:31 :: WARNING  :: optStudy-OscillCylinder.run00 ::             <pymoo.core.individual.Individual object at 0x7fc6037d1460>,\n",
      "04-27 17:05:31 :: WARNING  :: optStudy-OscillCylinder.run00 ::             <pymoo.core.individual.Individual object at 0x7fc6037d14c0>,\n",
      "04-27 17:05:31 :: WARNING  :: optStudy-OscillCylinder.run00 ::             <pymoo.core.individual.Individual object at 0x7fc6037d1520>,\n",
      "04-27 17:05:31 :: WARNING  :: optStudy-OscillCylinder.run00 ::             <pymoo.core.individual.Individual object at 0x7fc603799310>,\n",
      "04-27 17:05:31 :: WARNING  :: optStudy-OscillCylinder.run00 ::             <pymoo.core.individual.Individual object at 0x7fc6037d1580>,\n",
      "04-27 17:05:31 :: WARNING  :: optStudy-OscillCylinder.run00 ::             <pymoo.core.individual.Individual object at 0x7fc6037d15e0>,\n",
      "04-27 17:05:31 :: WARNING  :: optStudy-OscillCylinder.run00 ::             <pymoo.core.individual.Individual object at 0x7fc6037d1640>,\n",
      "04-27 17:05:31 :: WARNING  :: optStudy-OscillCylinder.run00 ::             <pymoo.core.individual.Individual object at 0x7fc6037d16a0>,\n",
      "04-27 17:05:31 :: WARNING  :: optStudy-OscillCylinder.run00 ::             <pymoo.core.individual.Individual object at 0x7fc603799370>],\n",
      "04-27 17:05:31 :: WARNING  :: optStudy-OscillCylinder.run00 ::            dtype=object),\n",
      "04-27 17:05:31 :: WARNING  :: optStudy-OscillCylinder.run00 ::                                              'old_type': <class 'NoneType'>,\n",
      "04-27 17:05:31 :: WARNING  :: optStudy-OscillCylinder.run00 ::                                              'old_value': None},\n",
      "04-27 17:05:31 :: WARNING  :: optStudy-OscillCylinder.run00 ::                         'root.test_case._f': {   'new_type': <class 'list'>,\n",
      "04-27 17:05:31 :: WARNING  :: optStudy-OscillCylinder.run00 ::                                                  'new_value': [   -9.906355982749865,\n",
      "04-27 17:05:31 :: WARNING  :: optStudy-OscillCylinder.run00 ::                                                                   0.17897685198437988],\n",
      "04-27 17:05:31 :: WARNING  :: optStudy-OscillCylinder.run00 ::                                                  'old_type': <class 'NoneType'>,\n",
      "04-27 17:05:31 :: WARNING  :: optStudy-OscillCylinder.run00 ::                                                  'old_value': None},\n",
      "04-27 17:05:31 :: WARNING  :: optStudy-OscillCylinder.run00 ::                         'root.test_case.numElem': {   'new_type': <class 'int'>,\n",
      "04-27 17:05:31 :: WARNING  :: optStudy-OscillCylinder.run00 ::                                                       'new_value': 122927,\n",
      "04-27 17:05:31 :: WARNING  :: optStudy-OscillCylinder.run00 ::                                                       'old_type': <class 'NoneType'>,\n",
      "04-27 17:05:31 :: WARNING  :: optStudy-OscillCylinder.run00 ::                                                       'old_value': None},\n",
      "04-27 17:05:31 :: WARNING  :: optStudy-OscillCylinder.run00 ::                         'root.test_case.solnTime': {   'new_type': <class 'float'>,\n",
      "04-27 17:05:31 :: WARNING  :: optStudy-OscillCylinder.run00 ::                                                        'new_value': 1890.010994195938,\n",
      "04-27 17:05:31 :: WARNING  :: optStudy-OscillCylinder.run00 ::                                                        'old_type': <class 'NoneType'>,\n",
      "04-27 17:05:31 :: WARNING  :: optStudy-OscillCylinder.run00 ::                                                        'old_value': None}},\n",
      "04-27 17:05:31 :: WARNING  :: optStudy-OscillCylinder.run00 ::     'values_changed': {   'root.algorithm.callback.gen': {   'new_value': 26,\n",
      "04-27 17:05:31 :: WARNING  :: optStudy-OscillCylinder.run00 ::                                                              'old_value': 1},\n",
      "04-27 17:05:31 :: WARNING  :: optStudy-OscillCylinder.run00 ::                           'root.algorithm.display.display_header': {   'new_value': False,\n",
      "04-27 17:05:31 :: WARNING  :: optStudy-OscillCylinder.run00 ::                                                                        'old_value': True},\n",
      "04-27 17:05:31 :: WARNING  :: optStudy-OscillCylinder.run00 ::                           'root.algorithm.evaluator.n_eval': {   'new_value': 410,\n",
      "04-27 17:05:31 :: WARNING  :: optStudy-OscillCylinder.run00 ::                                                                  'old_value': 0},\n",
      "04-27 17:05:31 :: WARNING  :: optStudy-OscillCylinder.run00 ::                           'root.algorithm.is_initialized': {   'new_value': True,\n",
      "04-27 17:05:31 :: WARNING  :: optStudy-OscillCylinder.run00 ::                                                                'old_value': False},\n",
      "04-27 17:05:31 :: WARNING  :: optStudy-OscillCylinder.run00 ::                           'root.algorithm.problem._pareto_front.has_been_executed': {   'new_value': True,\n",
      "04-27 17:05:31 :: WARNING  :: optStudy-OscillCylinder.run00 ::                                                                                         'old_value': False},\n",
      "04-27 17:05:31 :: WARNING  :: optStudy-OscillCylinder.run00 ::                           'root.bnd_cases[0].restart': {   'new_value': True,\n",
      "04-27 17:05:31 :: WARNING  :: optStudy-OscillCylinder.run00 ::                                                            'old_value': False},\n",
      "04-27 17:05:31 :: WARNING  :: optStudy-OscillCylinder.run00 ::                           'root.bnd_cases[1].restart': {   'new_value': True,\n",
      "04-27 17:05:31 :: WARNING  :: optStudy-OscillCylinder.run00 ::                                                            'old_value': False},\n",
      "04-27 17:05:31 :: WARNING  :: optStudy-OscillCylinder.run00 ::                           'root.bnd_cases[2].restart': {   'new_value': True,\n",
      "04-27 17:05:31 :: WARNING  :: optStudy-OscillCylinder.run00 ::                                                            'old_value': False},\n",
      "04-27 17:05:31 :: WARNING  :: optStudy-OscillCylinder.run00 ::                           'root.bnd_cases[3].restart': {   'new_value': True,\n",
      "04-27 17:05:31 :: WARNING  :: optStudy-OscillCylinder.run00 ::                                                            'old_value': False},\n",
      "04-27 17:05:31 :: WARNING  :: optStudy-OscillCylinder.run00 ::                           'root.problem._pareto_front.has_been_executed': {   'new_value': True,\n",
      "04-27 17:05:31 :: WARNING  :: optStudy-OscillCylinder.run00 ::                                                                               'old_value': False},\n",
      "04-27 17:05:31 :: WARNING  :: optStudy-OscillCylinder.run00 ::                           'root.test_case.cp_init': {   'new_value': True,\n",
      "04-27 17:05:31 :: WARNING  :: optStudy-OscillCylinder.run00 ::                                                         'old_value': False},\n",
      "04-27 17:05:31 :: WARNING  :: optStudy-OscillCylinder.run00 ::                           'root.test_case.restart': {   'new_value': True,\n",
      "04-27 17:05:31 :: WARNING  :: optStudy-OscillCylinder.run00 ::                                                         'old_value': False}}}\u001b[0m\u001b[0m\n"
     ]
    },
    {
     "name": "stderr",
     "output_type": "stream",
     "text": [
      "04-27 17:05:31 :: DEBUG    :: optStudy-OscillCylinder.run00 :: \tUPDATED DICTONARY\n",
      "04-27 17:05:31 :: DEBUG    :: optStudy-OscillCylinder.run00 :: \t\tn_opt: 20\n",
      "04-27 17:05:31 :: DEBUG    :: optStudy-OscillCylinder.run00 :: \t\tabs_path: /media/ydubief/M2CE-14TB-1/gitrepo/pymooCFD/optStudy-OscillCylinder/run00\n",
      "04-27 17:05:31 :: DEBUG    :: optStudy-OscillCylinder.run00 :: \t\tlog_level: 10\n",
      "04-27 17:05:31 :: DEBUG    :: optStudy-OscillCylinder.run00 :: \t\tlogger: <Logger optStudy-OscillCylinder.run00 (DEBUG)>\n",
      "04-27 17:05:31 :: DEBUG    :: optStudy-OscillCylinder.run00 :: \t\tcp_init: False\n",
      "04-27 17:05:31 :: DEBUG    :: optStudy-OscillCylinder.run00 :: \t\trun_path: /media/ydubief/M2CE-14TB-1/gitrepo/pymooCFD/optStudy-OscillCylinder/run00\n",
      "04-27 17:05:31 :: DEBUG    :: optStudy-OscillCylinder.run00 :: \t\talgorithm: <pymooCFD.core.pymooBase.CFDGeneticAlgorithm object at 0x7fc603747fa0>\n",
      "04-27 17:05:31 :: DEBUG    :: optStudy-OscillCylinder.run00 :: \t\tproblem: # name: CFDGeneticProblem\n",
      "04-27 17:05:31 :: DEBUG    :: optStudy-OscillCylinder.run00 :: # n_var: 2\n",
      "04-27 17:05:31 :: DEBUG    :: optStudy-OscillCylinder.run00 :: # n_obj: 2\n",
      "04-27 17:05:31 :: DEBUG    :: optStudy-OscillCylinder.run00 :: # n_constr: 0\n",
      "04-27 17:05:31 :: DEBUG    :: optStudy-OscillCylinder.run00 :: \n",
      "04-27 17:05:31 :: DEBUG    :: optStudy-OscillCylinder.run00 :: \t\tbnd_cases: [<pymooCFD.problems.oscill_cyl.OscillCylinder object at 0x7fc603cd8700>, <pymooCFD.problems.oscill_cyl.OscillCylinder object at 0x7fc603cd89a0>, <pymooCFD.problems.oscill_cyl.OscillCylinder object at 0x7fc603cd8c40>, <pymooCFD.problems.oscill_cyl.OscillCylinder object at 0x7fc603cd8ee0>]\n",
      "04-27 17:05:31 :: DEBUG    :: optStudy-OscillCylinder.run00 :: \t\ttest_case: Directory: optStudy-OscillCylinder/run00/test_case | Parameters: [4.1, 0.55] | Objectives: [-9.906355982749865, 0.17897685198437988]\n",
      "04-27 17:05:31 :: DEBUG    :: optStudy-OscillCylinder.run00 :: \t\tgen1_pop: [<pymoo.core.individual.Individual object at 0x7fc603da34f0>\n",
      "04-27 17:05:31 :: DEBUG    :: optStudy-OscillCylinder.run00 ::  <pymoo.core.individual.Individual object at 0x7fc603da3550>\n",
      "04-27 17:05:31 :: DEBUG    :: optStudy-OscillCylinder.run00 ::  <pymoo.core.individual.Individual object at 0x7fc603da35b0>\n",
      "04-27 17:05:31 :: DEBUG    :: optStudy-OscillCylinder.run00 ::  <pymoo.core.individual.Individual object at 0x7fc603da3610>\n",
      "04-27 17:05:31 :: DEBUG    :: optStudy-OscillCylinder.run00 ::  <pymoo.core.individual.Individual object at 0x7fc603da3670>\n",
      "04-27 17:05:31 :: DEBUG    :: optStudy-OscillCylinder.run00 ::  <pymoo.core.individual.Individual object at 0x7fc603da36d0>\n",
      "04-27 17:05:31 :: DEBUG    :: optStudy-OscillCylinder.run00 ::  <pymoo.core.individual.Individual object at 0x7fc603da3730>\n",
      "04-27 17:05:31 :: DEBUG    :: optStudy-OscillCylinder.run00 ::  <pymoo.core.individual.Individual object at 0x7fc603da3790>\n",
      "04-27 17:05:31 :: DEBUG    :: optStudy-OscillCylinder.run00 ::  <pymoo.core.individual.Individual object at 0x7fc603da37f0>\n",
      "04-27 17:05:31 :: DEBUG    :: optStudy-OscillCylinder.run00 ::  <pymoo.core.individual.Individual object at 0x7fc603da3850>\n",
      "04-27 17:05:31 :: DEBUG    :: optStudy-OscillCylinder.run00 ::  <pymoo.core.individual.Individual object at 0x7fc603da38b0>\n",
      "04-27 17:05:31 :: DEBUG    :: optStudy-OscillCylinder.run00 ::  <pymoo.core.individual.Individual object at 0x7fc603da3910>\n",
      "04-27 17:05:31 :: DEBUG    :: optStudy-OscillCylinder.run00 ::  <pymoo.core.individual.Individual object at 0x7fc603da3970>\n",
      "04-27 17:05:31 :: DEBUG    :: optStudy-OscillCylinder.run00 ::  <pymoo.core.individual.Individual object at 0x7fc603da39d0>\n",
      "04-27 17:05:31 :: DEBUG    :: optStudy-OscillCylinder.run00 ::  <pymoo.core.individual.Individual object at 0x7fc603da3a60>\n",
      "04-27 17:05:31 :: DEBUG    :: optStudy-OscillCylinder.run00 ::  <pymoo.core.individual.Individual object at 0x7fc603da3ac0>\n",
      "04-27 17:05:31 :: DEBUG    :: optStudy-OscillCylinder.run00 ::  <pymoo.core.individual.Individual object at 0x7fc603da3b20>\n",
      "04-27 17:05:31 :: DEBUG    :: optStudy-OscillCylinder.run00 ::  <pymoo.core.individual.Individual object at 0x7fc603da3b80>\n",
      "04-27 17:05:31 :: DEBUG    :: optStudy-OscillCylinder.run00 ::  <pymoo.core.individual.Individual object at 0x7fc603da3be0>\n",
      "04-27 17:05:31 :: DEBUG    :: optStudy-OscillCylinder.run00 ::  <pymoo.core.individual.Individual object at 0x7fc603da3c40>\n",
      "04-27 17:05:31 :: DEBUG    :: optStudy-OscillCylinder.run00 ::  <pymoo.core.individual.Individual object at 0x7fc603da3ca0>\n",
      "04-27 17:05:31 :: DEBUG    :: optStudy-OscillCylinder.run00 ::  <pymoo.core.individual.Individual object at 0x7fc603da3d00>\n",
      "04-27 17:05:31 :: DEBUG    :: optStudy-OscillCylinder.run00 ::  <pymoo.core.individual.Individual object at 0x7fc603da3d60>\n",
      "04-27 17:05:31 :: DEBUG    :: optStudy-OscillCylinder.run00 ::  <pymoo.core.individual.Individual object at 0x7fc603da3dc0>\n",
      "04-27 17:05:31 :: DEBUG    :: optStudy-OscillCylinder.run00 ::  <pymoo.core.individual.Individual object at 0x7fc603da3e20>\n",
      "04-27 17:05:31 :: DEBUG    :: optStudy-OscillCylinder.run00 ::  <pymoo.core.individual.Individual object at 0x7fc603da3e80>\n",
      "04-27 17:05:31 :: DEBUG    :: optStudy-OscillCylinder.run00 ::  <pymoo.core.individual.Individual object at 0x7fc603da3ee0>\n",
      "04-27 17:05:31 :: DEBUG    :: optStudy-OscillCylinder.run00 ::  <pymoo.core.individual.Individual object at 0x7fc603da3f40>\n",
      "04-27 17:05:31 :: DEBUG    :: optStudy-OscillCylinder.run00 ::  <pymoo.core.individual.Individual object at 0x7fc603da3fa0>\n",
      "04-27 17:05:31 :: DEBUG    :: optStudy-OscillCylinder.run00 ::  <pymoo.core.individual.Individual object at 0x7fc6037d1040>\n",
      "04-27 17:05:31 :: DEBUG    :: optStudy-OscillCylinder.run00 ::  <pymoo.core.individual.Individual object at 0x7fc6037d10a0>\n",
      "04-27 17:05:31 :: DEBUG    :: optStudy-OscillCylinder.run00 ::  <pymoo.core.individual.Individual object at 0x7fc6037d1100>\n",
      "04-27 17:05:31 :: DEBUG    :: optStudy-OscillCylinder.run00 ::  <pymoo.core.individual.Individual object at 0x7fc6037d1160>\n",
      "04-27 17:05:31 :: DEBUG    :: optStudy-OscillCylinder.run00 ::  <pymoo.core.individual.Individual object at 0x7fc6037992b0>\n",
      "04-27 17:05:31 :: DEBUG    :: optStudy-OscillCylinder.run00 ::  <pymoo.core.individual.Individual object at 0x7fc6037d11c0>\n",
      "04-27 17:05:31 :: DEBUG    :: optStudy-OscillCylinder.run00 ::  <pymoo.core.individual.Individual object at 0x7fc6037d1220>\n",
      "04-27 17:05:31 :: DEBUG    :: optStudy-OscillCylinder.run00 ::  <pymoo.core.individual.Individual object at 0x7fc6037d1280>\n",
      "04-27 17:05:31 :: DEBUG    :: optStudy-OscillCylinder.run00 ::  <pymoo.core.individual.Individual object at 0x7fc6037d12e0>\n",
      "04-27 17:05:31 :: DEBUG    :: optStudy-OscillCylinder.run00 ::  <pymoo.core.individual.Individual object at 0x7fc6037d1340>\n",
      "04-27 17:05:31 :: DEBUG    :: optStudy-OscillCylinder.run00 ::  <pymoo.core.individual.Individual object at 0x7fc6037d13a0>\n",
      "04-27 17:05:31 :: DEBUG    :: optStudy-OscillCylinder.run00 ::  <pymoo.core.individual.Individual object at 0x7fc6037d1400>\n",
      "04-27 17:05:31 :: DEBUG    :: optStudy-OscillCylinder.run00 ::  <pymoo.core.individual.Individual object at 0x7fc6037d1460>\n",
      "04-27 17:05:31 :: DEBUG    :: optStudy-OscillCylinder.run00 ::  <pymoo.core.individual.Individual object at 0x7fc6037d14c0>\n",
      "04-27 17:05:31 :: DEBUG    :: optStudy-OscillCylinder.run00 ::  <pymoo.core.individual.Individual object at 0x7fc6037d1520>\n",
      "04-27 17:05:31 :: DEBUG    :: optStudy-OscillCylinder.run00 ::  <pymoo.core.individual.Individual object at 0x7fc603799310>\n",
      "04-27 17:05:31 :: DEBUG    :: optStudy-OscillCylinder.run00 ::  <pymoo.core.individual.Individual object at 0x7fc6037d1580>\n",
      "04-27 17:05:31 :: DEBUG    :: optStudy-OscillCylinder.run00 ::  <pymoo.core.individual.Individual object at 0x7fc6037d15e0>\n",
      "04-27 17:05:31 :: DEBUG    :: optStudy-OscillCylinder.run00 ::  <pymoo.core.individual.Individual object at 0x7fc6037d1640>\n",
      "04-27 17:05:31 :: DEBUG    :: optStudy-OscillCylinder.run00 ::  <pymoo.core.individual.Individual object at 0x7fc6037d16a0>\n",
      "04-27 17:05:31 :: DEBUG    :: optStudy-OscillCylinder.run00 ::  <pymoo.core.individual.Individual object at 0x7fc603799370>]\n",
      "04-27 17:05:31 :: INFO     :: optStudy-OscillCylinder :: LOADING: <pymooCFD.core.optRun.OptRun object at 0x7fc60374ad00> FROM /media/ydubief/M2CE-14TB-1/gitrepo/pymooCFD/optStudy-OscillCylinder/run01/OptRun.checkpoint.npy\n"
     ]
    },
    {
     "name": "stderr",
     "output_type": "stream",
     "text": [
      "04-27 17:05:31 :: INFO     :: optStudy-OscillCylinder.run01 :: \tCHECKPOINT LOADED: optStudy-OscillCylinder/run01/OptRun.checkpoint.npy\n",
      "04-27 17:05:31 :: DEBUG    :: optStudy-OscillCylinder.run01 :: \tRESTART DICTONARY\n",
      "04-27 17:05:31 :: DEBUG    :: optStudy-OscillCylinder.run01 :: \t\tn_opt: 20\n",
      "04-27 17:05:31 :: DEBUG    :: optStudy-OscillCylinder.run01 :: \t\tabs_path: /media/ydubief/M2CE-14TB-1/gitrepo/pymooCFD/optStudy-OscillCylinder/run01\n",
      "04-27 17:05:31 :: DEBUG    :: optStudy-OscillCylinder.run01 :: \t\tlog_level: 10\n",
      "04-27 17:05:31 :: DEBUG    :: optStudy-OscillCylinder.run01 :: \t\tlogger: <Logger optStudy-OscillCylinder.run01 (DEBUG)>\n",
      "04-27 17:05:31 :: DEBUG    :: optStudy-OscillCylinder.run01 :: \t\tcp_init: False\n",
      "04-27 17:05:31 :: DEBUG    :: optStudy-OscillCylinder.run01 :: \t\trun_path: /media/ydubief/M2CE-14TB-1/gitrepo/pymooCFD/optStudy-OscillCylinder/run01\n",
      "04-27 17:05:31 :: DEBUG    :: optStudy-OscillCylinder.run01 :: \t\talgorithm: <pymooCFD.core.pymooBase.CFDGeneticAlgorithm object at 0x7fc60374d070>\n",
      "04-27 17:05:31 :: DEBUG    :: optStudy-OscillCylinder.run01 :: \t\tproblem: # name: CFDGeneticProblem\n",
      "04-27 17:05:31 :: DEBUG    :: optStudy-OscillCylinder.run01 :: # n_var: 2\n",
      "04-27 17:05:31 :: DEBUG    :: optStudy-OscillCylinder.run01 :: # n_obj: 2\n",
      "04-27 17:05:31 :: DEBUG    :: optStudy-OscillCylinder.run01 :: # n_constr: 0\n",
      "04-27 17:05:31 :: DEBUG    :: optStudy-OscillCylinder.run01 :: \n",
      "04-27 17:05:31 :: DEBUG    :: optStudy-OscillCylinder.run01 :: \t\tbnd_cases: [<pymooCFD.problems.oscill_cyl.OscillCylinder object at 0x7fc60374deb0>, <pymooCFD.problems.oscill_cyl.OscillCylinder object at 0x7fc60374f1c0>, <pymooCFD.problems.oscill_cyl.OscillCylinder object at 0x7fc60374f340>, <pymooCFD.problems.oscill_cyl.OscillCylinder object at 0x7fc60374f520>]\n",
      "04-27 17:05:31 :: DEBUG    :: optStudy-OscillCylinder.run01 :: \t\ttest_case: Directory: optStudy-OscillCylinder/run01/test_case | Parameters: [4.1, 0.55]\n",
      "04-27 17:05:31 :: DEBUG    :: optStudy-OscillCylinder.run01 :: \t\tgen1_pop: None\n",
      "04-27 17:05:31 :: DEBUG    :: optStudy-OscillCylinder.run01 :: \tCHECKPOINT DICTONARY\n",
      "04-27 17:05:31 :: DEBUG    :: optStudy-OscillCylinder.run01 :: \t\tn_opt: 20\n",
      "04-27 17:05:31 :: DEBUG    :: optStudy-OscillCylinder.run01 :: \t\tabs_path: /media/ydubief/M2CE-14TB-1/gitrepo/pymooCFD/optStudy-OscillCylinder/run01\n",
      "04-27 17:05:31 :: DEBUG    :: optStudy-OscillCylinder.run01 :: \t\tlog_level: 10\n",
      "04-27 17:05:31 :: DEBUG    :: optStudy-OscillCylinder.run01 :: \t\tlogger: <Logger optStudy-OscillCylinder.run01 (DEBUG)>\n",
      "04-27 17:05:31 :: DEBUG    :: optStudy-OscillCylinder.run01 :: \t\tcp_init: False\n",
      "04-27 17:05:31 :: DEBUG    :: optStudy-OscillCylinder.run01 :: \t\trun_path: /media/ydubief/M2CE-14TB-1/gitrepo/pymooCFD/optStudy-OscillCylinder/run01\n",
      "04-27 17:05:31 :: DEBUG    :: optStudy-OscillCylinder.run01 :: \t\talgorithm: <pymooCFD.core.pymooBase.CFDGeneticAlgorithm object at 0x7fc6047bd8e0>\n",
      "04-27 17:05:31 :: DEBUG    :: optStudy-OscillCylinder.run01 :: \t\tproblem: # name: CFDGeneticProblem\n",
      "04-27 17:05:31 :: DEBUG    :: optStudy-OscillCylinder.run01 :: # n_var: 2\n",
      "04-27 17:05:31 :: DEBUG    :: optStudy-OscillCylinder.run01 :: # n_obj: 2\n",
      "04-27 17:05:31 :: DEBUG    :: optStudy-OscillCylinder.run01 :: # n_constr: 0\n",
      "04-27 17:05:31 :: DEBUG    :: optStudy-OscillCylinder.run01 :: \n",
      "04-27 17:05:31 :: DEBUG    :: optStudy-OscillCylinder.run01 :: \t\tbnd_cases: [<pymooCFD.problems.oscill_cyl.OscillCylinder object at 0x7fc6036f2e80>, <pymooCFD.problems.oscill_cyl.OscillCylinder object at 0x7fc6036f2ee0>, <pymooCFD.problems.oscill_cyl.OscillCylinder object at 0x7fc603675040>, <pymooCFD.problems.oscill_cyl.OscillCylinder object at 0x7fc603675130>]\n",
      "04-27 17:05:31 :: DEBUG    :: optStudy-OscillCylinder.run01 :: \t\ttest_case: Directory: optStudy-OscillCylinder/run01/test_case | Parameters: [4.1, 0.55]\n",
      "04-27 17:05:31 :: DEBUG    :: optStudy-OscillCylinder.run01 :: \t\tgen1_pop: None\n",
      "04-27 17:05:31 :: WARNING  :: optStudy-OscillCylinder.run01 :: \u001b[93m\u001b[93m{}\u001b[0m\u001b[0m\n",
      "04-27 17:05:31 :: DEBUG    :: optStudy-OscillCylinder.run01 :: \tUPDATED DICTONARY\n",
      "04-27 17:05:31 :: DEBUG    :: optStudy-OscillCylinder.run01 :: \t\tn_opt: 20\n",
      "04-27 17:05:31 :: DEBUG    :: optStudy-OscillCylinder.run01 :: \t\tabs_path: /media/ydubief/M2CE-14TB-1/gitrepo/pymooCFD/optStudy-OscillCylinder/run01\n",
      "04-27 17:05:31 :: DEBUG    :: optStudy-OscillCylinder.run01 :: \t\tlog_level: 10\n",
      "04-27 17:05:31 :: DEBUG    :: optStudy-OscillCylinder.run01 :: \t\tlogger: <Logger optStudy-OscillCylinder.run01 (DEBUG)>\n",
      "04-27 17:05:31 :: DEBUG    :: optStudy-OscillCylinder.run01 :: \t\tcp_init: False\n",
      "04-27 17:05:31 :: DEBUG    :: optStudy-OscillCylinder.run01 :: \t\trun_path: /media/ydubief/M2CE-14TB-1/gitrepo/pymooCFD/optStudy-OscillCylinder/run01\n",
      "04-27 17:05:31 :: DEBUG    :: optStudy-OscillCylinder.run01 :: \t\talgorithm: <pymooCFD.core.pymooBase.CFDGeneticAlgorithm object at 0x7fc6047bd8e0>\n",
      "04-27 17:05:31 :: DEBUG    :: optStudy-OscillCylinder.run01 :: \t\tproblem: # name: CFDGeneticProblem\n",
      "04-27 17:05:31 :: DEBUG    :: optStudy-OscillCylinder.run01 :: # n_var: 2\n",
      "04-27 17:05:31 :: DEBUG    :: optStudy-OscillCylinder.run01 :: # n_obj: 2\n",
      "04-27 17:05:31 :: DEBUG    :: optStudy-OscillCylinder.run01 :: # n_constr: 0\n",
      "04-27 17:05:31 :: DEBUG    :: optStudy-OscillCylinder.run01 :: \n",
      "04-27 17:05:31 :: DEBUG    :: optStudy-OscillCylinder.run01 :: \t\tbnd_cases: [<pymooCFD.problems.oscill_cyl.OscillCylinder object at 0x7fc6036f2e80>, <pymooCFD.problems.oscill_cyl.OscillCylinder object at 0x7fc6036f2ee0>, <pymooCFD.problems.oscill_cyl.OscillCylinder object at 0x7fc603675040>, <pymooCFD.problems.oscill_cyl.OscillCylinder object at 0x7fc603675130>]\n",
      "04-27 17:05:31 :: DEBUG    :: optStudy-OscillCylinder.run01 :: \t\ttest_case: Directory: optStudy-OscillCylinder/run01/test_case | Parameters: [4.1, 0.55]\n",
      "04-27 17:05:31 :: DEBUG    :: optStudy-OscillCylinder.run01 :: \t\tgen1_pop: None\n",
      "04-27 17:05:31 :: INFO     :: optStudy-OscillCylinder :: RESTARTED FROM CHECKPOINT\n"
     ]
    }
   ],
   "source": [
    "study = MinimizeCFD(BaseCase)\n",
    "# from setupOpt import optRun\n",
    "# from pymooCFD.studies.oscillCyl_soo import optRun\n",
    "#from pymooCFD.studies.compDistOpt_x2 import optRun\n",
    "#from pymooCFD.studies.oscillCyl_x2 import optRun\n",
    "# from pymooCFD.studies.oscillCyl_x2 import optRun\n",
    "# from pymooCFD.studies.compDistOpt_x2 import optRun"
   ]
  },
  {
   "cell_type": "code",
   "execution_count": 9,
   "id": "a235b485",
   "metadata": {},
   "outputs": [],
   "source": [
    "from IPython.display import Image, display\n",
    "import glob\n",
    "\n",
    "def showImages(listOfImageNames, **kwargs):\n",
    "    if isinstance(listOfImageNames, str):\n",
    "        listOfImageNames = [listOfImageNames]\n",
    "    listOfImageNames = [os.path.abspath(os.path.join(opt_run.optDatDir, imageName)) \n",
    "                            for imageName in listOfImageNames if opt_run.optDatDir not in imageName]\n",
    "    listOfImageNames = [glob.glob(imageName) for imageName in listOfImageNames]\n",
    "    listOfImageNames = [item for sublist in listOfImageNames for item in sublist]\n",
    "    print('Showing Images')\n",
    "    print(listOfImageNames)\n",
    "    for imageName in listOfImageNames:\n",
    "        print('DISPLAYING:', imageName)\n",
    "        display(Image(filename=imageName), **kwargs)\n",
    "        "
   ]
  },
  {
   "cell_type": "code",
   "execution_count": 10,
   "id": "67a20e33",
   "metadata": {},
   "outputs": [],
   "source": [
    "opt_run = study.opt_runs[0]"
   ]
  },
  {
   "cell_type": "markdown",
   "id": "3ee0c08f",
   "metadata": {},
   "source": [
    "### Check Out Data Generated"
   ]
  },
  {
   "cell_type": "code",
   "execution_count": 11,
   "id": "4dd504ca",
   "metadata": {},
   "outputs": [
    {
     "name": "stdout",
     "output_type": "stream",
     "text": [
      "[<pymooCFD.core.pymooBase.CFDGeneticAlgorithm object at 0x7fc603759430>, <pymooCFD.core.pymooBase.CFDGeneticAlgorithm object at 0x7fc6036fd3d0>, <pymooCFD.core.pymooBase.CFDGeneticAlgorithm object at 0x7fc603711cd0>, <pymooCFD.core.pymooBase.CFDGeneticAlgorithm object at 0x7fc60372e5e0>, <pymooCFD.core.pymooBase.CFDGeneticAlgorithm object at 0x7fc6036c6f40>, <pymooCFD.core.pymooBase.CFDGeneticAlgorithm object at 0x7fc6036e38e0>, <pymooCFD.core.pymooBase.CFDGeneticAlgorithm object at 0x7fc60367f280>, <pymooCFD.core.pymooBase.CFDGeneticAlgorithm object at 0x7fc603698d30>, <pymooCFD.core.pymooBase.CFDGeneticAlgorithm object at 0x7fc6036342b0>, <pymooCFD.core.pymooBase.CFDGeneticAlgorithm object at 0x7fc60364ceb0>, <pymooCFD.core.pymooBase.CFDGeneticAlgorithm object at 0x7fc60366ba90>, <pymooCFD.core.pymooBase.CFDGeneticAlgorithm object at 0x7fc60360b6a0>, <pymooCFD.core.pymooBase.CFDGeneticAlgorithm object at 0x7fc60362a3d0>, <pymooCFD.core.pymooBase.CFDGeneticAlgorithm object at 0x7fc6035c7130>, <pymooCFD.core.pymooBase.CFDGeneticAlgorithm object at 0x7fc6035e1eb0>, <pymooCFD.core.pymooBase.CFDGeneticAlgorithm object at 0x7fc603580e50>, <pymooCFD.core.pymooBase.CFDGeneticAlgorithm object at 0x7fc60359ffd0>, <pymooCFD.core.pymooBase.CFDGeneticAlgorithm object at 0x7fc6035423d0>, <pymooCFD.core.pymooBase.CFDGeneticAlgorithm object at 0x7fc603562640>, <pymooCFD.core.pymooBase.CFDGeneticAlgorithm object at 0x7fc603500820>, <pymooCFD.core.pymooBase.CFDGeneticAlgorithm object at 0x7fc6035219d0>, <pymooCFD.core.pymooBase.CFDGeneticAlgorithm object at 0x7fc6034c2bb0>, <pymooCFD.core.pymooBase.CFDGeneticAlgorithm object at 0x7fc6034e3eb0>, <pymooCFD.core.pymooBase.CFDGeneticAlgorithm object at 0x7fc60348b1c0>, <pymooCFD.core.pymooBase.CFDGeneticAlgorithm object at 0x7fc6034ac4f0>]\n",
      "25\n"
     ]
    }
   ],
   "source": [
    "# print(opt_run.algorithm.history)\n",
    "print(len(opt_run.algorithm.history))"
   ]
  },
  {
   "cell_type": "code",
   "execution_count": 12,
   "id": "550256c7",
   "metadata": {
    "scrolled": true
   },
   "outputs": [
    {
     "name": "stdout",
     "output_type": "stream",
     "text": [
      "{'CFDCase': <class 'pymooCFD.problems.oscill_cyl.OscillCylinder'>,\n",
      " 'CFDGeneticAlgorithm': <class 'pymooCFD.core.pymooBase.CFDGeneticAlgorithm'>,\n",
      " 'CFDGeneticProblem': <class 'pymooCFD.core.pymooBase.CFDGeneticProblem'>,\n",
      " 'abs_path': '/media/ydubief/M2CE-14TB-1/gitrepo/pymooCFD/optStudy-OscillCylinder',\n",
      " 'case_runs': [],\n",
      " 'cp_init': True,\n",
      " 'log_level': 10,\n",
      " 'logger': <Logger optStudy-OscillCylinder (DEBUG)>,\n",
      " 'opt_runs': [<pymooCFD.core.optRun.OptRun object at 0x7fc6047208b0>,\n",
      "              <pymooCFD.core.optRun.OptRun object at 0x7fc60374ad00>]}\n"
     ]
    }
   ],
   "source": [
    "pprint(study.__dict__)"
   ]
  },
  {
   "cell_type": "code",
   "execution_count": 13,
   "id": "03ab80b2",
   "metadata": {},
   "outputs": [
    {
     "name": "stdout",
     "output_type": "stream",
     "text": [
      "{'advance_after_initial_infill': True,\n",
      " 'callback': <pymooCFD.core.pymooBase.PymooCFDCallback object at 0x7fc60374fa90>,\n",
      " 'data': {},\n",
      " 'default_termination': <pymoo.util.termination.default.MultiObjectiveDefaultTermination object at 0x7fc603757e80>,\n",
      " 'display': <pymooCFD.core.pymooBase.MyDisplay object at 0x7fc6043da460>,\n",
      " 'eliminate_duplicates': <pymoo.core.duplicate.DefaultDuplicateElimination object at 0x7fc603cd8100>,\n",
      " 'evaluator': <pymoo.core.evaluator.Evaluator object at 0x7fc603757fa0>,\n",
      " 'has_terminated': True,\n",
      " 'history': [<pymooCFD.core.pymooBase.CFDGeneticAlgorithm object at 0x7fc603759430>,\n",
      "             <pymooCFD.core.pymooBase.CFDGeneticAlgorithm object at 0x7fc6036fd3d0>,\n",
      "             <pymooCFD.core.pymooBase.CFDGeneticAlgorithm object at 0x7fc603711cd0>,\n",
      "             <pymooCFD.core.pymooBase.CFDGeneticAlgorithm object at 0x7fc60372e5e0>,\n",
      "             <pymooCFD.core.pymooBase.CFDGeneticAlgorithm object at 0x7fc6036c6f40>,\n",
      "             <pymooCFD.core.pymooBase.CFDGeneticAlgorithm object at 0x7fc6036e38e0>,\n",
      "             <pymooCFD.core.pymooBase.CFDGeneticAlgorithm object at 0x7fc60367f280>,\n",
      "             <pymooCFD.core.pymooBase.CFDGeneticAlgorithm object at 0x7fc603698d30>,\n",
      "             <pymooCFD.core.pymooBase.CFDGeneticAlgorithm object at 0x7fc6036342b0>,\n",
      "             <pymooCFD.core.pymooBase.CFDGeneticAlgorithm object at 0x7fc60364ceb0>,\n",
      "             <pymooCFD.core.pymooBase.CFDGeneticAlgorithm object at 0x7fc60366ba90>,\n",
      "             <pymooCFD.core.pymooBase.CFDGeneticAlgorithm object at 0x7fc60360b6a0>,\n",
      "             <pymooCFD.core.pymooBase.CFDGeneticAlgorithm object at 0x7fc60362a3d0>,\n",
      "             <pymooCFD.core.pymooBase.CFDGeneticAlgorithm object at 0x7fc6035c7130>,\n",
      "             <pymooCFD.core.pymooBase.CFDGeneticAlgorithm object at 0x7fc6035e1eb0>,\n",
      "             <pymooCFD.core.pymooBase.CFDGeneticAlgorithm object at 0x7fc603580e50>,\n",
      "             <pymooCFD.core.pymooBase.CFDGeneticAlgorithm object at 0x7fc60359ffd0>,\n",
      "             <pymooCFD.core.pymooBase.CFDGeneticAlgorithm object at 0x7fc6035423d0>,\n",
      "             <pymooCFD.core.pymooBase.CFDGeneticAlgorithm object at 0x7fc603562640>,\n",
      "             <pymooCFD.core.pymooBase.CFDGeneticAlgorithm object at 0x7fc603500820>,\n",
      "             <pymooCFD.core.pymooBase.CFDGeneticAlgorithm object at 0x7fc6035219d0>,\n",
      "             <pymooCFD.core.pymooBase.CFDGeneticAlgorithm object at 0x7fc6034c2bb0>,\n",
      "             <pymooCFD.core.pymooBase.CFDGeneticAlgorithm object at 0x7fc6034e3eb0>,\n",
      "             <pymooCFD.core.pymooBase.CFDGeneticAlgorithm object at 0x7fc60348b1c0>,\n",
      "             <pymooCFD.core.pymooBase.CFDGeneticAlgorithm object at 0x7fc6034ac4f0>],\n",
      " 'initialization': <pymoo.core.initialization.Initialization object at 0x7fc603cd8190>,\n",
      " 'is_initialized': True,\n",
      " 'mating': <pymoo.core.mating.Mating object at 0x7fc603cd8340>,\n",
      " 'n_gen': 25,\n",
      " 'n_offsprings': 15,\n",
      " 'off': None,\n",
      " 'opt': Population([<pymoo.core.individual.Individual object at 0x7fc6037992b0>,\n",
      "            <pymoo.core.individual.Individual object at 0x7fc603799310>,\n",
      "            <pymoo.core.individual.Individual object at 0x7fc603799370>,\n",
      "            <pymoo.core.individual.Individual object at 0x7fc603c3db80>,\n",
      "            <pymoo.core.individual.Individual object at 0x7fc603c3db50>,\n",
      "            <pymoo.core.individual.Individual object at 0x7fc603782880>,\n",
      "            <pymoo.core.individual.Individual object at 0x7fc603782850>,\n",
      "            <pymoo.core.individual.Individual object at 0x7fc6037828b0>,\n",
      "            <pymoo.core.individual.Individual object at 0x7fc603782610>,\n",
      "            <pymoo.core.individual.Individual object at 0x7fc603782670>,\n",
      "            <pymoo.core.individual.Individual object at 0x7fc603782700>,\n",
      "            <pymoo.core.individual.Individual object at 0x7fc603782760>,\n",
      "            <pymoo.core.individual.Individual object at 0x7fc6037827c0>,\n",
      "            <pymoo.core.individual.Individual object at 0x7fc603782820>,\n",
      "            <pymoo.core.individual.Individual object at 0x7fc603cb8790>,\n",
      "            <pymoo.core.individual.Individual object at 0x7fc603cc31f0>,\n",
      "            <pymoo.core.individual.Individual object at 0x7fc6037d9400>,\n",
      "            <pymoo.core.individual.Individual object at 0x7fc6037d9f70>,\n",
      "            <pymoo.core.individual.Individual object at 0x7fc6037d9490>,\n",
      "            <pymoo.core.individual.Individual object at 0x7fc6037d9700>,\n",
      "            <pymoo.core.individual.Individual object at 0x7fc6037d94c0>,\n",
      "            <pymoo.core.individual.Individual object at 0x7fc603daf940>,\n",
      "            <pymoo.core.individual.Individual object at 0x7fc603daf910>,\n",
      "            <pymoo.core.individual.Individual object at 0x7fc603dafa60>,\n",
      "            <pymoo.core.individual.Individual object at 0x7fc603daf850>,\n",
      "            <pymoo.core.individual.Individual object at 0x7fc603daf8b0>,\n",
      "            <pymoo.core.individual.Individual object at 0x7fc89842b040>,\n",
      "            <pymoo.core.individual.Individual object at 0x7fc898480220>,\n",
      "            <pymoo.core.individual.Individual object at 0x7fc6047051f0>,\n",
      "            <pymoo.core.individual.Individual object at 0x7fc604705520>,\n",
      "            <pymoo.core.individual.Individual object at 0x7fc60450ad90>,\n",
      "            <pymoo.core.individual.Individual object at 0x7fc61b886a00>,\n",
      "            <pymoo.core.individual.Individual object at 0x7fc61b8868b0>,\n",
      "            <pymoo.core.individual.Individual object at 0x7fc61b886730>,\n",
      "            <pymoo.core.individual.Individual object at 0x7fc7cee2bf40>,\n",
      "            <pymoo.core.individual.Individual object at 0x7fc7cee2b730>,\n",
      "            <pymoo.core.individual.Individual object at 0x7fc603446a30>,\n",
      "            <pymoo.core.individual.Individual object at 0x7fc603446a90>,\n",
      "            <pymoo.core.individual.Individual object at 0x7fc603446af0>,\n",
      "            <pymoo.core.individual.Individual object at 0x7fc603446b50>,\n",
      "            <pymoo.core.individual.Individual object at 0x7fc603446bb0>],\n",
      "           dtype=object),\n",
      " 'pf': True,\n",
      " 'pop': Population([<pymoo.core.individual.Individual object at 0x7fc6037992b0>,\n",
      "            <pymoo.core.individual.Individual object at 0x7fc603799310>,\n",
      "            <pymoo.core.individual.Individual object at 0x7fc603799370>,\n",
      "            <pymoo.core.individual.Individual object at 0x7fc603c3db80>,\n",
      "            <pymoo.core.individual.Individual object at 0x7fc603c3db50>,\n",
      "            <pymoo.core.individual.Individual object at 0x7fc603782880>,\n",
      "            <pymoo.core.individual.Individual object at 0x7fc603782850>,\n",
      "            <pymoo.core.individual.Individual object at 0x7fc6037828b0>,\n",
      "            <pymoo.core.individual.Individual object at 0x7fc603782610>,\n",
      "            <pymoo.core.individual.Individual object at 0x7fc603782670>,\n",
      "            <pymoo.core.individual.Individual object at 0x7fc603782700>,\n",
      "            <pymoo.core.individual.Individual object at 0x7fc603782760>,\n",
      "            <pymoo.core.individual.Individual object at 0x7fc6037827c0>,\n",
      "            <pymoo.core.individual.Individual object at 0x7fc603782820>,\n",
      "            <pymoo.core.individual.Individual object at 0x7fc603cb8790>,\n",
      "            <pymoo.core.individual.Individual object at 0x7fc603cc31f0>,\n",
      "            <pymoo.core.individual.Individual object at 0x7fc6037d9400>,\n",
      "            <pymoo.core.individual.Individual object at 0x7fc6037d9f70>,\n",
      "            <pymoo.core.individual.Individual object at 0x7fc6037d9490>,\n",
      "            <pymoo.core.individual.Individual object at 0x7fc6037d9700>,\n",
      "            <pymoo.core.individual.Individual object at 0x7fc6037d94c0>,\n",
      "            <pymoo.core.individual.Individual object at 0x7fc603daf940>,\n",
      "            <pymoo.core.individual.Individual object at 0x7fc603daf910>,\n",
      "            <pymoo.core.individual.Individual object at 0x7fc603dafa60>,\n",
      "            <pymoo.core.individual.Individual object at 0x7fc603daf850>,\n",
      "            <pymoo.core.individual.Individual object at 0x7fc603daf8b0>,\n",
      "            <pymoo.core.individual.Individual object at 0x7fc89842b040>,\n",
      "            <pymoo.core.individual.Individual object at 0x7fc898480220>,\n",
      "            <pymoo.core.individual.Individual object at 0x7fc6047051f0>,\n",
      "            <pymoo.core.individual.Individual object at 0x7fc604705520>,\n",
      "            <pymoo.core.individual.Individual object at 0x7fc60450ad90>,\n",
      "            <pymoo.core.individual.Individual object at 0x7fc61b886a00>,\n",
      "            <pymoo.core.individual.Individual object at 0x7fc61b8868b0>,\n",
      "            <pymoo.core.individual.Individual object at 0x7fc61b886730>,\n",
      "            <pymoo.core.individual.Individual object at 0x7fc7cee2bf40>,\n",
      "            <pymoo.core.individual.Individual object at 0x7fc7cee2b730>,\n",
      "            <pymoo.core.individual.Individual object at 0x7fc603446a30>,\n",
      "            <pymoo.core.individual.Individual object at 0x7fc603446a90>,\n",
      "            <pymoo.core.individual.Individual object at 0x7fc603446af0>,\n",
      "            <pymoo.core.individual.Individual object at 0x7fc603446b50>,\n",
      "            <pymoo.core.individual.Individual object at 0x7fc603446bb0>,\n",
      "            <pymoo.core.individual.Individual object at 0x7fc603446c10>,\n",
      "            <pymoo.core.individual.Individual object at 0x7fc603446c70>,\n",
      "            <pymoo.core.individual.Individual object at 0x7fc603446cd0>,\n",
      "            <pymoo.core.individual.Individual object at 0x7fc603446d30>,\n",
      "            <pymoo.core.individual.Individual object at 0x7fc603446d90>,\n",
      "            <pymoo.core.individual.Individual object at 0x7fc603446df0>,\n",
      "            <pymoo.core.individual.Individual object at 0x7fc603446e50>,\n",
      "            <pymoo.core.individual.Individual object at 0x7fc603446eb0>,\n",
      "            <pymoo.core.individual.Individual object at 0x7fc603446f10>],\n",
      "           dtype=object),\n",
      " 'pop_size': 50,\n",
      " 'problem': <pymooCFD.core.pymooBase.CFDGeneticProblem object at 0x7fc603757d60>,\n",
      " 'repair': <pymoo.core.repair.NoRepair object at 0x7fc603cd8160>,\n",
      " 'return_least_infeasible': True,\n",
      " 'save_history': True,\n",
      " 'seed': 1,\n",
      " 'start_time': 1650659130.4291477,\n",
      " 'survival': <pymoo.algorithms.moo.nsga2.RankAndCrowdingSurvival object at 0x7fc603cd8040>,\n",
      " 'termination': <pymoo.util.termination.max_gen.MaximumGenerationTermination object at 0x7fc6043dafd0>,\n",
      " 'tournament_type': 'comp_by_dom_and_crowding',\n",
      " 'verbose': True}\n"
     ]
    }
   ],
   "source": [
    "pprint(opt_run.algorithm.__dict__)"
   ]
  },
  {
   "cell_type": "code",
   "execution_count": 14,
   "id": "98775d52",
   "metadata": {},
   "outputs": [
    {
     "name": "stdout",
     "output_type": "stream",
     "text": [
      "{'BaseCase': <class 'pymooCFD.problems.oscill_cyl.OscillCylinder'>,\n",
      " '_ideal_point': None,\n",
      " '_nadir_point': None,\n",
      " '_pareto_front': <pymoo.util.cache.Cache object at 0x7fc603757dc0>,\n",
      " '_pareto_set': <pymoo.util.cache.Cache object at 0x7fc603757d90>,\n",
      " 'callback': None,\n",
      " 'check_inconsistencies': True,\n",
      " 'data': {},\n",
      " 'exclude_from_serialization': [],\n",
      " 'gen1Pop': None,\n",
      " 'n_constr': 0,\n",
      " 'n_obj': 2,\n",
      " 'n_var': 2,\n",
      " 'replace_nan_values_by': inf,\n",
      " 'validated': False,\n",
      " 'xl': array([0.2, 0.1]),\n",
      " 'xu': array([8., 1.])}\n"
     ]
    }
   ],
   "source": [
    "pprint(opt_run.problem.__dict__)"
   ]
  },
  {
   "cell_type": "code",
   "execution_count": 15,
   "id": "1275828b",
   "metadata": {},
   "outputs": [],
   "source": [
    "# for key in optRun.__dict__:\n",
    "#     pprint(\"{0:15} : {1}\".format(key, optRun.__dict__[key])) #str(optRun.__dict__[key]).replace('\\n', '\\n\\t\\t  ')))"
   ]
  },
  {
   "cell_type": "code",
   "execution_count": 16,
   "id": "06a251c0",
   "metadata": {},
   "outputs": [],
   "source": [
    "# for key in optRun.__dict__:\n",
    "#     val = str(optRun.__dict__[key]).replace('\\n', '\\n\\t\\t')\n",
    "#     pprint(\"{0:15} : {1}\".format(key, val))"
   ]
  },
  {
   "cell_type": "markdown",
   "id": "84128e77",
   "metadata": {},
   "source": [
    "# Pre-Process Optimization Study"
   ]
  },
  {
   "cell_type": "markdown",
   "id": "fb6c97f3",
   "metadata": {},
   "source": [
    "### Test Case"
   ]
  },
  {
   "cell_type": "code",
   "execution_count": 17,
   "id": "731f7c6c",
   "metadata": {},
   "outputs": [
    {
     "name": "stdout",
     "output_type": "stream",
     "text": [
      "Directory: optStudy-OscillCylinder/run00/test_case | Parameters: [4.1, 0.55] | Objectives: [-9.906355982749865, 0.17897685198437988]\n"
     ]
    },
    {
     "data": {
      "text/plain": [
       "<pymooCFD.problems.oscill_cyl.OscillCylinder at 0x7fc603da31f0>"
      ]
     },
     "execution_count": 17,
     "metadata": {},
     "output_type": "execute_result"
    }
   ],
   "source": [
    "print(opt_run.test_case)\n",
    "opt_run.test_case"
   ]
  },
  {
   "cell_type": "code",
   "execution_count": 18,
   "id": "2f971fc3",
   "metadata": {},
   "outputs": [
    {
     "name": "stdout",
     "output_type": "stream",
     "text": [
      "{'_f': [-9.906355982749865, 0.17897685198437988],\n",
      " '_g': None,\n",
      " '_x': [4.1, 0.55],\n",
      " 'abs_path': '/media/ydubief/M2CE-14TB-1/gitrepo/pymooCFD/optStudy-OscillCylinder/run00/test_case',\n",
      " 'base_case_path': '/media/ydubief/M2CE-14TB-1/gitrepo/pymooCFD/pymooCFD/problems/base_cases/osc-cyl_base',\n",
      " 'cp_init': True,\n",
      " 'datFile': 'FORCES_temporal.txt',\n",
      " 'inputFile': '2D_cylinder.in',\n",
      " 'jobFile': 'jobslurm.sh',\n",
      " 'log_level': 10,\n",
      " 'logger': <Logger optStudy-OscillCylinder.run00.test_case (DEBUG)>,\n",
      " 'meshFile': '2D_cylinder.msh22',\n",
      " 'meshSF': 1.0,\n",
      " 'mesh_study': <pymooCFD.core.meshStudy.MeshStudy object at 0x7fc603da3280>,\n",
      " 'msCases': None,\n",
      " 'numElem': 122927,\n",
      " 'obj_labels': ['Change in Coefficient of Drag [%]', 'Resistive Force [N]'],\n",
      " 'restart': True,\n",
      " 'solnTime': 1890.010994195938,\n",
      " 'validated': False,\n",
      " 'var_labels': ['Amplitude [radians/s]', 'Frequency [cycles/s]'],\n",
      " 'wallTime': 1890}\n"
     ]
    }
   ],
   "source": [
    "pprint(opt_run.test_case.__dict__)"
   ]
  },
  {
   "cell_type": "code",
   "execution_count": 19,
   "id": "00a5430c",
   "metadata": {},
   "outputs": [
    {
     "name": "stdout",
     "output_type": "stream",
     "text": [
      "None\n"
     ]
    }
   ],
   "source": [
    "print(opt_run.test_case.msCases)"
   ]
  },
  {
   "cell_type": "code",
   "execution_count": 20,
   "id": "7831c364",
   "metadata": {},
   "outputs": [
    {
     "name": "stdout",
     "output_type": "stream",
     "text": [
      "No Mesh Study Cases for Test Case\n"
     ]
    }
   ],
   "source": [
    "if opt_run.test_case.msCases is None:\n",
    "    print('No Mesh Study Cases for Test Case')\n",
    "else:\n",
    "    for case in opt_run.test_case.msCases:\n",
    "        pprint(case.__dict__)\n",
    "        print()"
   ]
  },
  {
   "cell_type": "code",
   "execution_count": 21,
   "id": "cfd11d4f",
   "metadata": {},
   "outputs": [
    {
     "name": "stdout",
     "output_type": "stream",
     "text": [
      "No Mesh Study Cases for Test Case\n"
     ]
    }
   ],
   "source": [
    "if opt_run.test_case.msCases is None:\n",
    "    print('No Mesh Study Cases for Test Case')\n",
    "else:\n",
    "    print('Mesh Size Factors:', opt_run.test_case.meshSFs)"
   ]
  },
  {
   "cell_type": "code",
   "execution_count": 22,
   "id": "79efdf7e",
   "metadata": {},
   "outputs": [
    {
     "name": "stdout",
     "output_type": "stream",
     "text": [
      "No Mesh Study Cases for Test Case\n"
     ]
    }
   ],
   "source": [
    "if opt_run.test_case.msCases is None:\n",
    "    print('No Mesh Study Cases for Test Case')\n",
    "else:\n",
    "    for case in opt_run.test_case.msCases:\n",
    "        print(case)\n",
    "        print('\\t Objectives:', case._f)\n",
    "#     print('\\tParameters:', case._x, '\\t Objectives:', case._f)"
   ]
  },
  {
   "cell_type": "markdown",
   "id": "004d94a2",
   "metadata": {},
   "source": [
    "##### Update Test Case"
   ]
  },
  {
   "cell_type": "code",
   "execution_count": 23,
   "id": "176f4847",
   "metadata": {},
   "outputs": [],
   "source": [
    "# opt_run.appendMeshSFs(opt_run.test_case, [1.2])"
   ]
  },
  {
   "cell_type": "code",
   "execution_count": 24,
   "id": "6e9a644d",
   "metadata": {},
   "outputs": [],
   "source": [
    "# newMeshSFs = np.round(np.arange(0.3, 1.5, 0.1))\n",
    "# opt_run.saveCP()\n",
    "# opt_run.test_case.meshSFs"
   ]
  },
  {
   "cell_type": "markdown",
   "id": "8a7b665c",
   "metadata": {},
   "source": [
    "### Boundary Cases"
   ]
  },
  {
   "cell_type": "code",
   "execution_count": 25,
   "id": "7bdfcf00",
   "metadata": {},
   "outputs": [
    {
     "name": "stdout",
     "output_type": "stream",
     "text": [
      "[<pymooCFD.problems.oscill_cyl.OscillCylinder object at 0x7fc603cd8700>, <pymooCFD.problems.oscill_cyl.OscillCylinder object at 0x7fc603cd89a0>, <pymooCFD.problems.oscill_cyl.OscillCylinder object at 0x7fc603cd8c40>, <pymooCFD.problems.oscill_cyl.OscillCylinder object at 0x7fc603cd8ee0>]\n"
     ]
    }
   ],
   "source": [
    "print(opt_run.bnd_cases)"
   ]
  },
  {
   "cell_type": "code",
   "execution_count": 26,
   "id": "eddd92e0",
   "metadata": {},
   "outputs": [
    {
     "name": "stdout",
     "output_type": "stream",
     "text": [
      "Directory: optStudy-OscillCylinder/run00/boundary-cases/0.2_0.1 | Parameters: [0.2 0.1] | Objectives: [-0.08979265549899708, 0.0035286254738335133]\n",
      "Directory: optStudy-OscillCylinder/run00/boundary-cases/0.2_1 | Parameters: [0.2 1. ] | Objectives: [0.11282897352248838, 0.011251232002220689]\n",
      "Directory: optStudy-OscillCylinder/run00/boundary-cases/8_0.1 | Parameters: [8.  0.1] | Objectives: [384.25152354807034, 0.14430938504636573]\n",
      "Directory: optStudy-OscillCylinder/run00/boundary-cases/8_1 | Parameters: [8. 1.] | Objectives: [-10.675385962969651, 0.4543994008894243]\n"
     ]
    }
   ],
   "source": [
    "if opt_run.bnd_cases is not None:\n",
    "    for case in opt_run.bnd_cases:\n",
    "        print(case)"
   ]
  },
  {
   "cell_type": "code",
   "execution_count": 27,
   "id": "078dd960",
   "metadata": {},
   "outputs": [
    {
     "name": "stdout",
     "output_type": "stream",
     "text": [
      "[[0.2 0.1]\n",
      " [0.2 1. ]\n",
      " [8.  0.1]\n",
      " [8.  1. ]]\n"
     ]
    }
   ],
   "source": [
    "if opt_run.bnd_cases is not None:\n",
    "    bnd_vars = np.array([case.x for case in opt_run.bnd_cases])\n",
    "    print(bnd_vars)"
   ]
  },
  {
   "cell_type": "code",
   "execution_count": 28,
   "id": "3d909216",
   "metadata": {},
   "outputs": [],
   "source": [
    "if opt_run.bnd_cases is not None:\n",
    "    plot = Scatter(title='Design Space: Boundary Cases', \n",
    "                   legend=True,\n",
    "                   labels=opt_run.problem.BaseCase.var_labels, \n",
    "                   figsize=(10,8)\n",
    "                  )\n",
    "    for var in bnd_vars:\n",
    "        plot.add(var, label='[%.2f, %.2f]'%(var[0],var[1]), s=80)\n",
    "#     path = os.path.join(opt_run.rel_path, 'boundary-cases', 'bndPts_plot-varSpace.png')\n",
    "#     plot.save(path, dpi=100)\n",
    "    plot.show()"
   ]
  },
  {
   "cell_type": "code",
   "execution_count": 29,
   "id": "4cace6da",
   "metadata": {},
   "outputs": [
    {
     "name": "stdout",
     "output_type": "stream",
     "text": [
      "[[-8.97926555e-02  3.52862547e-03]\n",
      " [ 1.12828974e-01  1.12512320e-02]\n",
      " [ 3.84251524e+02  1.44309385e-01]\n",
      " [-1.06753860e+01  4.54399401e-01]]\n"
     ]
    }
   ],
   "source": [
    "if opt_run.bnd_cases is not None:\n",
    "    bnd_objs = np.array([case.f for case in opt_run.bnd_cases])\n",
    "    print(bnd_objs)"
   ]
  },
  {
   "cell_type": "code",
   "execution_count": 33,
   "id": "abfa396f",
   "metadata": {},
   "outputs": [],
   "source": [
    "if None not in bnd_objs:\n",
    "    plot = Scatter(title= 'Objective Space: Boundary Cases', \n",
    "                   legend = True, \n",
    "                   labels=opt_run.problem.BaseCase.obj_labels, \n",
    "                   figsize=(10,8)\n",
    "                  )\n",
    "    for obj in bnd_objs:\n",
    "        plot.add(obj, label='[%.2f, %.2f]'%(obj[0],obj[1]), s=70, alpha=1)\n",
    "    path = os.path.join(opt_run.abs_path, 'boundary-cases', 'bndPts_plot-objSpace.png')\n",
    "    plot.save(path, dpi=100)\n",
    "    plot.show()"
   ]
  },
  {
   "cell_type": "code",
   "execution_count": 34,
   "id": "6548327e",
   "metadata": {},
   "outputs": [
    {
     "name": "stdout",
     "output_type": "stream",
     "text": [
      "Non-dominated: Boundary Cases\n",
      "Parameters- [0.2 0.1]\n",
      "Objectives- [-0.08979266  0.00352863]\n"
     ]
    }
   ],
   "source": [
    "if None not in bnd_objs:\n",
    "    # Non-dominated Sorting of Boundary Cases\n",
    "    n_survive = 1\n",
    "    F = np.array([case.f for case in opt_run.bnd_cases])\n",
    "    X = np.array([case.x for case in opt_run.bnd_cases])\n",
    "    from pymoo.util.nds.non_dominated_sorting import NonDominatedSorting\n",
    "    nds = NonDominatedSorting()\n",
    "    # do the non-dominated sorting until splitting front\n",
    "    fronts = nds.do(F, n_stop_if_ranked=n_survive)\n",
    "    front = fronts[0]\n",
    "    nonDom_CCobj = F[front, :][0]\n",
    "    nonDom_CCvar = X[front, :][0]\n",
    "    print('Non-dominated: Boundary Cases')\n",
    "    print('Parameters-', nonDom_CCvar)\n",
    "    print('Objectives-', nonDom_CCobj)"
   ]
  },
  {
   "cell_type": "markdown",
   "id": "6d87a6b8",
   "metadata": {},
   "source": [
    "### Mesh Studies"
   ]
  },
  {
   "cell_type": "code",
   "execution_count": null,
   "id": "2eaa29c5",
   "metadata": {},
   "outputs": [],
   "source": []
  },
  {
   "cell_type": "markdown",
   "id": "1d92c143",
   "metadata": {},
   "source": [
    "### Generation 1"
   ]
  },
  {
   "cell_type": "code",
   "execution_count": 35,
   "id": "2f76f29a",
   "metadata": {},
   "outputs": [
    {
     "name": "stdout",
     "output_type": "stream",
     "text": [
      "25\n",
      "[<pymooCFD.core.pymooBase.CFDGeneticAlgorithm object at 0x7fc603759430>, <pymooCFD.core.pymooBase.CFDGeneticAlgorithm object at 0x7fc6036fd3d0>, <pymooCFD.core.pymooBase.CFDGeneticAlgorithm object at 0x7fc603711cd0>, <pymooCFD.core.pymooBase.CFDGeneticAlgorithm object at 0x7fc60372e5e0>, <pymooCFD.core.pymooBase.CFDGeneticAlgorithm object at 0x7fc6036c6f40>, <pymooCFD.core.pymooBase.CFDGeneticAlgorithm object at 0x7fc6036e38e0>, <pymooCFD.core.pymooBase.CFDGeneticAlgorithm object at 0x7fc60367f280>, <pymooCFD.core.pymooBase.CFDGeneticAlgorithm object at 0x7fc603698d30>, <pymooCFD.core.pymooBase.CFDGeneticAlgorithm object at 0x7fc6036342b0>, <pymooCFD.core.pymooBase.CFDGeneticAlgorithm object at 0x7fc60364ceb0>, <pymooCFD.core.pymooBase.CFDGeneticAlgorithm object at 0x7fc60366ba90>, <pymooCFD.core.pymooBase.CFDGeneticAlgorithm object at 0x7fc60360b6a0>, <pymooCFD.core.pymooBase.CFDGeneticAlgorithm object at 0x7fc60362a3d0>, <pymooCFD.core.pymooBase.CFDGeneticAlgorithm object at 0x7fc6035c7130>, <pymooCFD.core.pymooBase.CFDGeneticAlgorithm object at 0x7fc6035e1eb0>, <pymooCFD.core.pymooBase.CFDGeneticAlgorithm object at 0x7fc603580e50>, <pymooCFD.core.pymooBase.CFDGeneticAlgorithm object at 0x7fc60359ffd0>, <pymooCFD.core.pymooBase.CFDGeneticAlgorithm object at 0x7fc6035423d0>, <pymooCFD.core.pymooBase.CFDGeneticAlgorithm object at 0x7fc603562640>, <pymooCFD.core.pymooBase.CFDGeneticAlgorithm object at 0x7fc603500820>, <pymooCFD.core.pymooBase.CFDGeneticAlgorithm object at 0x7fc6035219d0>, <pymooCFD.core.pymooBase.CFDGeneticAlgorithm object at 0x7fc6034c2bb0>, <pymooCFD.core.pymooBase.CFDGeneticAlgorithm object at 0x7fc6034e3eb0>, <pymooCFD.core.pymooBase.CFDGeneticAlgorithm object at 0x7fc60348b1c0>, <pymooCFD.core.pymooBase.CFDGeneticAlgorithm object at 0x7fc6034ac4f0>]\n"
     ]
    }
   ],
   "source": [
    "print(len(opt_run.algorithm.history))\n",
    "print(opt_run.algorithm.history)"
   ]
  },
  {
   "cell_type": "code",
   "execution_count": 36,
   "id": "63ed40b9",
   "metadata": {},
   "outputs": [
    {
     "name": "stdout",
     "output_type": "stream",
     "text": [
      "50\n"
     ]
    }
   ],
   "source": [
    "print(len(opt_run.algorithm.history[0].pop))"
   ]
  },
  {
   "cell_type": "markdown",
   "id": "625c1448",
   "metadata": {},
   "source": [
    "##### Generation 1: Parameter Space"
   ]
  },
  {
   "cell_type": "code",
   "execution_count": 37,
   "id": "15b9e638",
   "metadata": {},
   "outputs": [],
   "source": [
    "# opt_run.plotDir = os.path.join(opt_run.optDatDir, 'plots')\n",
    "# os.mkdir(opt_run.plotDir)\n",
    "# opt_run.problem.BaseCase.var_labels = ['Number of Tasks', 'Number of CPUs per Task']\n",
    "# print(opt_run.problem.BaseCase.var_labels)"
   ]
  },
  {
   "cell_type": "code",
   "execution_count": 38,
   "id": "f6f71c60",
   "metadata": {},
   "outputs": [
    {
     "data": {
      "text/plain": [
       "<pymoo.visualization.scatter.Scatter at 0x7fc603731eb0>"
      ]
     },
     "execution_count": 38,
     "metadata": {},
     "output_type": "execute_result"
    }
   ],
   "source": [
    "popX = opt_run.algorithm.history[0].pop.get('X')\n",
    "gen = opt_run.algorithm.history[0].n_gen\n",
    "if len(popX) <= 10:\n",
    "    leg = True\n",
    "else:\n",
    "    leg = False\n",
    "plot = Scatter(title=f'Generation {gen} Design Space', \n",
    "               legend=leg, \n",
    "               labels=opt_run.problem.BaseCase.var_labels,\n",
    "#                figsize=(10,8)\n",
    "              )\n",
    "for ind_i, ind in enumerate(popX):\n",
    "    plot.add(ind, label=f'IND {ind_i+1}')\n",
    "# save parameter space plot\n",
    "plot.save(os.path.join(opt_run.plotDir, 'gen1_var_space.png'), dpi=100)\n",
    "plot.show()"
   ]
  },
  {
   "cell_type": "markdown",
   "id": "9cc76471",
   "metadata": {},
   "source": [
    "##### Generation 1: Objective Space"
   ]
  },
  {
   "cell_type": "code",
   "execution_count": 40,
   "id": "46279d15",
   "metadata": {},
   "outputs": [
    {
     "name": "stdout",
     "output_type": "stream",
     "text": [
      "/media/ydubief/M2CE-14TB-1/gitrepo/pymooCFD/optStudy-OscillCylinder/run00/plots/gen1_obj_space.png\n"
     ]
    },
    {
     "data": {
      "text/plain": [
       "<pymoo.visualization.scatter.Scatter at 0x7fc604683310>"
      ]
     },
     "execution_count": 40,
     "metadata": {},
     "output_type": "execute_result"
    }
   ],
   "source": [
    "popF = opt_run.algorithm.history[0].pop.get('F')\n",
    "gen = opt_run.algorithm.history[0].n_gen\n",
    "if len(popF) <= 10:\n",
    "    leg = True\n",
    "else:\n",
    "    leg = False\n",
    "plot = Scatter(title=f'Generation {gen} Objective Space', \n",
    "               legend=leg, \n",
    "               labels=opt_run.problem.BaseCase.obj_labels\n",
    "              )\n",
    "for ind_i, ind in enumerate(popF):\n",
    "    plot.add(ind, label=f'IND {ind_i+1}')\n",
    "# save parameter space plot\n",
    "plot.save(os.path.join(opt_run.plotDir, 'gen1_obj_space.png'), dpi=100)\n",
    "print(os.path.join(opt_run.plotDir, 'gen1_obj_space.png'))\n",
    "plot.show()"
   ]
  },
  {
   "cell_type": "markdown",
   "id": "0976265c",
   "metadata": {},
   "source": [
    "####"
   ]
  },
  {
   "cell_type": "markdown",
   "id": "6368a494",
   "metadata": {},
   "source": [
    "##### Generation 1: Examine Parameter to Objective Space Mapping\n",
    "Plot every parameter and objective against each other "
   ]
  },
  {
   "cell_type": "code",
   "execution_count": 41,
   "id": "b8b8e0f6",
   "metadata": {},
   "outputs": [],
   "source": [
    "# opt_run.mapDir = os.path.join(opt_run.optDatDir, 'mapGen1')\n",
    "# print(opt_run.mapDir)\n",
    "# os.makedirs(opt_run.mapDir, exist_ok=True)\n",
    "# opt_run.mapDir = 'opt_run.OscillCylinderOpt/run/mapGen1'\n",
    "# opt_run.saveCP()\n"
   ]
  },
  {
   "cell_type": "code",
   "execution_count": 42,
   "id": "b3c68933",
   "metadata": {},
   "outputs": [
    {
     "name": "stdout",
     "output_type": "stream",
     "text": [
      "/media/ydubief/M2CE-14TB-1/gitrepo/pymooCFD/optStudy-OscillCylinder/run00/map_gen1/Amplitude_[radians|s]-vs-Change_in_Coefficient_of_Drag_[precentage].png\n",
      "/media/ydubief/M2CE-14TB-1/gitrepo/pymooCFD/optStudy-OscillCylinder/run00/map_gen1/Amplitude_[radians|s]-vs-Resistive_Force_[N].png\n",
      "/media/ydubief/M2CE-14TB-1/gitrepo/pymooCFD/optStudy-OscillCylinder/run00/map_gen1/Frequency_[cycles|s]-vs-Change_in_Coefficient_of_Drag_[precentage].png\n",
      "/media/ydubief/M2CE-14TB-1/gitrepo/pymooCFD/optStudy-OscillCylinder/run00/map_gen1/Frequency_[cycles|s]-vs-Resistive_Force_[N].png\n"
     ]
    }
   ],
   "source": [
    "#%%capture\n",
    "# ^ suppresses output\n",
    "from scipy.stats import linregress\n",
    "##### Variable vs. Objective Plots ######\n",
    "# extract objectives and variables columns and plot them against each other\n",
    "var_labels = opt_run.problem.BaseCase.var_labels\n",
    "obj_labels = opt_run.problem.BaseCase.obj_labels\n",
    "popX = opt_run.algorithm.history[0].pop.get('X').astype(float)\n",
    "popF = opt_run.algorithm.history[0].pop.get('F').astype(float)\n",
    "mapPaths = []\n",
    "# plots = []\n",
    "fig = plt.figure(figsize=(10,8))\n",
    "for x_i, x in enumerate(popX.transpose()):\n",
    "    for f_i, f in enumerate(popF.transpose()):\n",
    "        plot = Scatter(title=f'{var_labels[x_i]} vs. {obj_labels[f_i]}',\n",
    "                       labels=[var_labels[x_i], obj_labels[f_i]], \n",
    "#                        figsize=(10,8)\n",
    "#                        legend = True,\n",
    "                      )\n",
    "        xf = np.column_stack((x,f))\n",
    "        plot.add(xf)\n",
    "        \n",
    "        ### Linear best fit line \n",
    "#         m, b, r_value, p_value, std_err = linregress(x, f)\n",
    "#         r_squared = r_value**2\n",
    "#         xy = np.column_stack((x, m*x+b))\n",
    "#         plot.n_dim = 2\n",
    "#         plot._do()\n",
    "#         plot.plot(plot.ax, 'line', xy, label='Best Linear Fit', c='r')\n",
    "#         plot.ax.text(min(xf[:,0]), max(xf[:,1]), 'Best Linear Fit', \n",
    "#                      horizontalalignment='left',\n",
    "#                      c = 'r',\n",
    "#                      size = 16\n",
    "#                     )\n",
    "#         plot.ax.text(max(xf[:,0]), max(xf[:,1]), r'$r^2$={0:.4f}'.format(r_squared), \n",
    "#                      horizontalalignment='right',\n",
    "#                      c = 'r',\n",
    "#                      size = 16\n",
    "#                     )\n",
    "\n",
    "        ### Polynomial best fit lines\n",
    "        plot.do()\n",
    "        plot.legend = True\n",
    "        c = ['r', 'g', 'm']\n",
    "        for d in range(1, 3+1):\n",
    "            coefs = np.polyfit(x, f, d)\n",
    "            y = np.polyval(coefs, x)\n",
    "            xy = np.column_stack((x, y))\n",
    "            xy = xy[xy[:, 0].argsort()]\n",
    "#             correlation = np.corrcoef(x, y)[0, 1]\n",
    "#             r_squared = correlation**2\n",
    "#             if d == 1:\n",
    "#                 label = 'Order %i Best Fit, $r^2$=%.2g' %(d, r_squared)\n",
    "#             else:\n",
    "#                 label = f'Order {d} Best Fit'\n",
    "            label = f'Order {d} Best Fit'\n",
    "#             plot.add(xy, label=f'Order {d} Best Fit', marker='x')\n",
    "            plot.ax.plot(xy[:,0], xy[:,1], label=label, c=c[d-1])\n",
    "        plot.do()\n",
    "        var_str = var_labels[x_i].replace(\" \", \"_\").replace(\"/\", \"|\").replace('%', 'precentage').replace(\"\\\\\", \"|\")\n",
    "        obj_str = obj_labels[f_i].replace(\" \", \"_\").replace(\"/\", \"|\").replace('%', 'precentage').replace(\"\\\\\", \"|\")\n",
    "        fName = f'{var_str}-vs-{obj_str}.png'\n",
    "        path = os.path.join(opt_run.mapDir, fName)\n",
    "        mapPaths.append(path)\n",
    "        print(path)\n",
    "#         plots.append(plot)\n",
    "        plot.save(path, dpi=100)\n",
    "#         plot.show()\n",
    "#         ax = fig.add_subplot(111).add_axes(plot.ax)\n",
    "#         ax = plot.ax\n",
    "# fig.show()\n",
    "# fig, axes = plt.subplots(2,2)\n",
    "# print(fig)\n",
    "# for row in axes:\n",
    "#     for ax in row:\n",
    "#         print(ax)\n",
    "#         ax = plots[0].ax\n",
    "#         print(ax)\n",
    "# for row in axes:\n",
    "#     for ax in row:\n",
    "# #         ax = plots[0]\n",
    "#         print(ax)\n",
    "# print(plots[0].ax)\n",
    "# fig = plt.figure()\n",
    "# for i, plot in enumerate(plots):\n",
    "#     ax = fig.add_subplot(int(f'{i+1}11'))\n",
    "#     ax.text(1,1,i)\n",
    "    \n",
    "    \n",
    "\n",
    "# len_ax = round(len(plots)/2)\n",
    "# fig, ax = plt.subplots(len_ax,len_ax)\n",
    "# c = 0\n",
    "# for i in range(len_ax):\n",
    "#     for j in range(len_ax):\n",
    "#         if c <= len(plots):    \n",
    "#             print(plots[c])\n",
    "#             ax[i][j] = plots[c].ax\n",
    "#             c += 1"
   ]
  },
  {
   "cell_type": "code",
   "execution_count": 43,
   "id": "33c179ed",
   "metadata": {},
   "outputs": [
    {
     "ename": "AttributeError",
     "evalue": "'OptRun' object has no attribute 'plotGen1'",
     "output_type": "error",
     "traceback": [
      "\u001b[0;31m---------------------------------------------------------------------------\u001b[0m",
      "\u001b[0;31mAttributeError\u001b[0m                            Traceback (most recent call last)",
      "Input \u001b[0;32mIn [43]\u001b[0m, in \u001b[0;36m<cell line: 1>\u001b[0;34m()\u001b[0m\n\u001b[0;32m----> 1\u001b[0m map_plots, map_paths \u001b[38;5;241m=\u001b[39m \u001b[43mopt_run\u001b[49m\u001b[38;5;241;43m.\u001b[39;49m\u001b[43mplotGen1\u001b[49m()\n",
      "\u001b[0;31mAttributeError\u001b[0m: 'OptRun' object has no attribute 'plotGen1'"
     ]
    }
   ],
   "source": [
    "map_plots, map_paths = opt_run.plotGen1()"
   ]
  },
  {
   "cell_type": "markdown",
   "id": "f9bd9eb1",
   "metadata": {},
   "source": [
    "#### Generation 1: Display Mapping\n",
    "Remember that for each plot the parameters(s) not labeled are also varying. \n",
    "\n",
    "Therefore, if a strong relationship is seen in these plots then it is likely a relationship independent of the other variable.\n"
   ]
  },
  {
   "cell_type": "code",
   "execution_count": null,
   "id": "8871aa8b",
   "metadata": {
    "scrolled": false
   },
   "outputs": [],
   "source": [
    "from IPython.display import Image, display\n",
    "for path in map_paths:\n",
    "    display(Image(filename=path))"
   ]
  },
  {
   "cell_type": "markdown",
   "id": "53eca44d",
   "metadata": {},
   "source": [
    "# Post-Process Optimization Study"
   ]
  },
  {
   "cell_type": "markdown",
   "id": "e5dcbb9d",
   "metadata": {},
   "source": [
    "### Optimization Algorithm Convergence"
   ]
  },
  {
   "cell_type": "code",
   "execution_count": 44,
   "id": "b09de62c",
   "metadata": {},
   "outputs": [],
   "source": [
    "#hist = opt_run.algorithm.history\n",
    "#print(hist)\n",
    "#print(opt_run.algorithm.callback)\n",
    "#for alg in hist:\n",
    "#    print(alg)\n",
    "#    print(alg.callback)\n",
    "# n_evals = np.array([e.evaluator.n_eval for e in hist])\n",
    "# print('Number of Evaluations:', n_evals)"
   ]
  },
  {
   "cell_type": "code",
   "execution_count": 45,
   "id": "530f14d8",
   "metadata": {},
   "outputs": [],
   "source": [
    "opt_avg = []\n",
    "for h in opt_run.algorithm.history:\n",
    "    F_opt = np.array([o.F for o in h.opt])\n",
    "    F_avg = np.mean(F_opt, axis=0)\n",
    "    #print(F_avg)\n",
    "    opt_avg.append(F_avg)\n",
    "opt_avg = np.array(opt_avg)"
   ]
  },
  {
   "cell_type": "code",
   "execution_count": 46,
   "id": "2d3359af",
   "metadata": {},
   "outputs": [
    {
     "name": "stderr",
     "output_type": "stream",
     "text": [
      "/tmp/ipykernel_1199726/934090869.py:14: UserWarning: Matplotlib is currently using agg, which is a non-GUI backend, so cannot show the figure.\n",
      "  plt.show()\n",
      "/tmp/ipykernel_1199726/934090869.py:14: UserWarning: Matplotlib is currently using agg, which is a non-GUI backend, so cannot show the figure.\n",
      "  plt.show()\n"
     ]
    }
   ],
   "source": [
    "n_gen = [alg.n_gen for alg in opt_run.algorithm.history]\n",
    "for obj_i in range(opt_run.problem.BaseCase.n_obj):\n",
    "#     print(opt_sum)\n",
    "    opt_obj = opt_avg[:,obj_i]\n",
    "#     print(opt_obj)\n",
    "    plt.suptitle('Convergence of Objective Mean')\n",
    "    plt.title(f'Objective {obj_i+1}: {obj_labels[obj_i]}')\n",
    "#     plt.plot(n_evals, opt_obj, \"--\")\n",
    "    plt.plot(n_gen, opt_obj, \"--\")\n",
    "    plt.xlabel('Number of Generations')\n",
    "    plt.ylabel('Mean of Optimum Objectives')\n",
    "#     plt.yscale(\"log\")\n",
    "    plt.savefig(os.path.join(opt_run.plotDir, f'convergence-obj{obj_i}')) #_{obj_labels[obj_i]}'))\n",
    "    plt.show()"
   ]
  },
  {
   "cell_type": "code",
   "execution_count": 47,
   "id": "969b6465",
   "metadata": {},
   "outputs": [
    {
     "name": "stdout",
     "output_type": "stream",
     "text": [
      "Optimum minimum length: 9\n"
     ]
    }
   ],
   "source": [
    "opt_minL = 1000\n",
    "hist = opt_run.algorithm.history\n",
    "for h in hist:\n",
    "    l = len(h.opt)\n",
    "    if l < opt_minL:\n",
    "        opt_minL = l\n",
    "print('Optimum minimum length:', opt_minL)\n",
    "opt_sum = []\n",
    "for h in hist:\n",
    "    F_opt = np.array([o.F for o in h.opt[:opt_minL]])\n",
    "    F_sum = np.sum(F_opt, axis=0)\n",
    "#     print(F_sum)\n",
    "    opt_sum.append(F_sum)\n",
    "opt_sum = np.array(opt_sum)"
   ]
  },
  {
   "cell_type": "code",
   "execution_count": 51,
   "id": "7b62ec36",
   "metadata": {},
   "outputs": [
    {
     "name": "stderr",
     "output_type": "stream",
     "text": [
      "/tmp/ipykernel_1199726/2323593990.py:14: UserWarning: Matplotlib is currently using agg, which is a non-GUI backend, so cannot show the figure.\n",
      "  plt.show()\n",
      "/tmp/ipykernel_1199726/2323593990.py:14: UserWarning: Matplotlib is currently using agg, which is a non-GUI backend, so cannot show the figure.\n",
      "  plt.show()\n"
     ]
    }
   ],
   "source": [
    "n_gen = [alg.n_gen for alg in opt_run.algorithm.history]\n",
    "for obj_i in range(opt_run.problem.BaseCase.n_obj):\n",
    "#     print(opt_sum)\n",
    "    opt_obj = opt_sum[:,obj_i]\n",
    "#     print(opt_obj)\n",
    "    plt.suptitle('Convergence of Objective Sum')\n",
    "    plt.title(f'Objective {obj_i+1}: {obj_labels[obj_i]}')\n",
    "#     plt.plot(n_evals, opt_obj, \"--\")\n",
    "    plt.plot(n_gen, opt_obj, \"--\")\n",
    "    plt.xlabel('Number of Generations')\n",
    "    plt.ylabel('Sum of Optimum Objectives')\n",
    "#     plt.yscale(\"log\")\n",
    "    plt.savefig(os.path.join(opt_run.plotDir, f'convergence-obj{obj_i}')) #_{obj_labels[obj_i]}'))\n",
    "    plt.show()"
   ]
  },
  {
   "cell_type": "code",
   "execution_count": 52,
   "id": "a8399a51",
   "metadata": {},
   "outputs": [],
   "source": [
    "hist = opt_run.algorithm.history\n"
   ]
  },
  {
   "cell_type": "code",
   "execution_count": 53,
   "id": "fcea953b",
   "metadata": {},
   "outputs": [
    {
     "name": "stderr",
     "output_type": "stream",
     "text": [
      "/tmp/ipykernel_1199726/1500116482.py:14: UserWarning: Matplotlib is currently using agg, which is a non-GUI backend, so cannot show the figure.\n",
      "  plt.show()\n",
      "/tmp/ipykernel_1199726/1500116482.py:14: UserWarning: Matplotlib is currently using agg, which is a non-GUI backend, so cannot show the figure.\n",
      "  plt.show()\n"
     ]
    }
   ],
   "source": [
    "opt = np.array([e.opt[0].F for e in hist])\n",
    "n_gen = [alg.n_gen for alg in opt_run.algorithm.history]\n",
    "for obj_i in range(len(opt[0])):\n",
    "    opt_obj = opt[:,obj_i]\n",
    "#     print(opt_obj)\n",
    "    plt.suptitle('Convergence of Optimum')\n",
    "    plt.title(f'Objective {obj_i+1}: {obj_labels[obj_i]}')\n",
    "#     plt.plot(n_evals, opt_obj, \"--\")\n",
    "    plt.plot(n_gen, opt_obj, \"--\")\n",
    "    plt.xlabel('Number of Generations')\n",
    "    plt.ylabel('Optimum')\n",
    "#     plt.yscale(\"log\")\n",
    "    plt.savefig(os.path.join(opt_run.plotDir, f'convergence-obj{obj_i}')) #_{obj_labels[obj_i]}'))\n",
    "    plt.show()"
   ]
  },
  {
   "cell_type": "markdown",
   "id": "8caa6dc1",
   "metadata": {},
   "source": [
    "### Performance Indicator - Hypervolume\n",
    "https://pymoo.org/misc/performance_indicator.html#Hypervolume\n",
    "\n",
    "Maximize hypervolume from reference point. "
   ]
  },
  {
   "cell_type": "code",
   "execution_count": 54,
   "id": "7379c650",
   "metadata": {},
   "outputs": [],
   "source": [
    "all_obj = [alg.pop.get('F') for alg in hist]"
   ]
  },
  {
   "cell_type": "code",
   "execution_count": 55,
   "id": "428660fe",
   "metadata": {},
   "outputs": [
    {
     "name": "stdout",
     "output_type": "stream",
     "text": [
      "[-6.337683378538351, 0.1716450843621647]\n"
     ]
    }
   ],
   "source": [
    "mean_all_obj = []\n",
    "for obj_i in range(opt_run.problem.BaseCase.n_obj):\n",
    "    mean_all_obj.append(np.mean([np.mean(obj_g[:,obj_i]) for obj_g in all_obj]))\n",
    "print(mean_all_obj)"
   ]
  },
  {
   "cell_type": "code",
   "execution_count": 56,
   "id": "0771025f",
   "metadata": {},
   "outputs": [
    {
     "name": "stdout",
     "output_type": "stream",
     "text": [
      "[-8.173010439456938, 0.1734062226372978]\n"
     ]
    }
   ],
   "source": [
    "mean_g1_obj = []\n",
    "popF = hist[-1].pop.get('F')\n",
    "for obj_i in range(opt_run.problem.BaseCase.n_obj):\n",
    "    mean_g1_obj.append(np.mean(popF[:,obj_i]))\n",
    "print(mean_g1_obj)"
   ]
  },
  {
   "cell_type": "code",
   "execution_count": 57,
   "id": "62018c4f",
   "metadata": {},
   "outputs": [],
   "source": [
    "ref_pt = [4, 4]\n",
    "ref_pt = mean_g1_obj\n",
    "ref_pt = mean_all_obj\n",
    "sf = 100000\n",
    "ref_pt = [mean_obj*sf for mean_obj in mean_g1_obj]"
   ]
  },
  {
   "cell_type": "code",
   "execution_count": 58,
   "id": "ee9321d2",
   "metadata": {},
   "outputs": [],
   "source": [
    "from pymoo.factory import get_performance_indicator\n",
    "hv = get_performance_indicator(\"hv\", ref_point=np.array(ref_pt))"
   ]
  },
  {
   "cell_type": "code",
   "execution_count": 59,
   "id": "bafcfac9",
   "metadata": {},
   "outputs": [
    {
     "name": "stdout",
     "output_type": "stream",
     "text": [
      "Generation 1 hypervolume 0.0\n",
      "Generation 2 hypervolume 0.0\n",
      "Generation 3 hypervolume 0.0\n",
      "Generation 4 hypervolume 0.0\n",
      "Generation 5 hypervolume 0.0\n",
      "Generation 6 hypervolume 0.0\n",
      "Generation 7 hypervolume 0.0\n",
      "Generation 8 hypervolume 0.0\n",
      "Generation 9 hypervolume 0.0\n",
      "Generation 10 hypervolume 0.0\n",
      "Generation 11 hypervolume 0.0\n",
      "Generation 12 hypervolume 0.0\n",
      "Generation 13 hypervolume 0.0\n",
      "Generation 14 hypervolume 0.0\n",
      "Generation 15 hypervolume 0.0\n",
      "Generation 16 hypervolume 0.0\n",
      "Generation 17 hypervolume 0.0\n",
      "Generation 18 hypervolume 0.0\n",
      "Generation 19 hypervolume 0.0\n",
      "Generation 20 hypervolume 0.0\n",
      "Generation 21 hypervolume 0.0\n",
      "Generation 22 hypervolume 0.0\n",
      "Generation 23 hypervolume 0.0\n",
      "Generation 24 hypervolume 0.0\n",
      "Generation 25 hypervolume 0.0\n"
     ]
    }
   ],
   "source": [
    "for gen, alg in enumerate(opt_run.algorithm.history):\n",
    "    print('Generation', gen+1, f\"hypervolume {hv.do(alg.pop.get('X'))}\")"
   ]
  },
  {
   "cell_type": "markdown",
   "id": "d65907bf",
   "metadata": {},
   "source": [
    "### Latest Generation "
   ]
  },
  {
   "cell_type": "code",
   "execution_count": 60,
   "id": "0e86ba5d",
   "metadata": {},
   "outputs": [],
   "source": [
    "max_disp_len = 10"
   ]
  },
  {
   "cell_type": "code",
   "execution_count": 61,
   "id": "ee23f096",
   "metadata": {},
   "outputs": [],
   "source": [
    "if len(opt_run.algorithm.pop.get('X')) < max_disp_len:\n",
    "    print('FINAL POPULATION')\n",
    "    print('Parameters')\n",
    "    print(opt_run.algorithm.pop.get('X'))\n",
    "    print('Objectives')\n",
    "    print(opt_run.algorithm.pop.get('F'))"
   ]
  },
  {
   "cell_type": "code",
   "execution_count": 62,
   "id": "68deadec",
   "metadata": {},
   "outputs": [],
   "source": [
    "latest_pop = opt_run.algorithm.history[-1].pop\n",
    "latest_popX = latest_pop.get('X')\n",
    "latest_popF = latest_pop.get('F')"
   ]
  },
  {
   "cell_type": "code",
   "execution_count": 63,
   "id": "5ede8ed8",
   "metadata": {},
   "outputs": [
    {
     "data": {
      "text/plain": [
       "<pymoo.visualization.scatter.Scatter at 0x7fc5ff4e8730>"
      ]
     },
     "execution_count": 63,
     "metadata": {},
     "output_type": "execute_result"
    }
   ],
   "source": [
    "plot = Scatter(title='Latest Generations Design Space', legend=False, labels=opt_run.problem.BaseCase.var_labels)\n",
    "for ind_i, ind in enumerate(latest_popX):\n",
    "    plot.add(ind, label=f'IND {ind_i+1}')\n",
    "# save parameter space plot\n",
    "plot.save(os.path.join(opt_run.plotDir, 'latest_var_space.png'), dpi=100)\n",
    "plot.show()"
   ]
  },
  {
   "cell_type": "code",
   "execution_count": 64,
   "id": "d96557ec",
   "metadata": {},
   "outputs": [
    {
     "data": {
      "text/plain": [
       "<pymoo.visualization.scatter.Scatter at 0x7fc5ff402430>"
      ]
     },
     "execution_count": 64,
     "metadata": {},
     "output_type": "execute_result"
    }
   ],
   "source": [
    "plot = Scatter(title='Latest Generations Objective Space', \n",
    "               legend=False, \n",
    "               labels=opt_run.problem.BaseCase.obj_labels,\n",
    "               s=60,\n",
    "               alpha=0.9\n",
    "              )\n",
    "for ind_i, ind in enumerate(latest_popF):\n",
    "    plot.add(ind, label=f'IND {ind_i+1}')\n",
    "# save objective space plot\n",
    "plot.save(os.path.join(opt_run.plotDir, 'latest_obj_space.png'), dpi=100)\n",
    "plot.show()"
   ]
  },
  {
   "cell_type": "markdown",
   "id": "f0ac6fe0",
   "metadata": {},
   "source": [
    "### Optimum"
   ]
  },
  {
   "cell_type": "code",
   "execution_count": null,
   "id": "572de1d5",
   "metadata": {},
   "outputs": [],
   "source": [
    "assert opt_run.algorithm.opt is not None\n",
    "print('Number of Optimum:', len(opt_run.algorithm.opt))"
   ]
  },
  {
   "cell_type": "code",
   "execution_count": null,
   "id": "658ba63f",
   "metadata": {},
   "outputs": [],
   "source": [
    "# opt_run.problem.BaseCase.var_labels = [\"Amplitude [radians/s]\", \"Frequency [cycles/s]\", \"Reynolds Number\"]\n",
    "print(opt_run.problem.BaseCase.var_labels)\n",
    "print()\n",
    "labels = [\"Amplitude\", \"Frequency\", \"Reynolds Number\"]\n",
    "labels = [\"Amplitude [radians/s]\", \"Frequency [cycles/s]\", \"Reynolds Number\"]\n",
    "n_dim = len(opt_run.problem.BaseCase.var_labels)\n",
    "labels_proc = [f\"${labels}_{{{i}}}$\" for i in range(1, n_dim + 1)]\n",
    "if isinstance(labels, list):\n",
    "    print(labels)\n",
    "    \n",
    "print(labels_proc)"
   ]
  },
  {
   "cell_type": "code",
   "execution_count": null,
   "id": "2878ff25",
   "metadata": {},
   "outputs": [],
   "source": [
    "#opt_run.problem.BaseCase.var_labels = opt_run.problem.BaseCase.var_labels.tolist()"
   ]
  },
  {
   "cell_type": "code",
   "execution_count": null,
   "id": "2e61358e",
   "metadata": {},
   "outputs": [],
   "source": [
    "n_opt_disp = 50"
   ]
  },
  {
   "cell_type": "code",
   "execution_count": null,
   "id": "0f02d08c",
   "metadata": {},
   "outputs": [],
   "source": [
    "# opt_pop = opt_run.algorithm.opt[:n_opt_disp]\n",
    "# gen = opt_run.algorithm.n_gen\n",
    "# if len(opt_pop) < 20:\n",
    "#     leg = True\n",
    "# else:\n",
    "#     leg = False\n",
    "# varPlot = Scatter(title=f'{opt_run.optName}: Optimum - Generation {gen} - Design Space', \n",
    "#                   figsize=(10,8),\n",
    "#                   labels=opt_run.problem.BaseCase.var_labels[::2],\n",
    "#                   legend=leg\n",
    "#                  )\n",
    "# #varPlot.axis_labels = opt_run.problem.BaseCase.var_labels\n",
    "# for opt_i, opt in enumerate(opt_pop):\n",
    "#     varPlot.add(opt.get('X')[::2], label=f'opt{opt_i}', s=70)\n",
    "# varPlot.save(os.path.join(opt_run.plotDir, f'optimum-gen{gen}-varSpace-Re-Amp.png'), dpi=100)\n",
    "# varPlot.show()"
   ]
  },
  {
   "cell_type": "code",
   "execution_count": null,
   "id": "98103d43",
   "metadata": {},
   "outputs": [],
   "source": [
    "# opt_pop = opt_run.algorithm.opt[:n_opt_disp]\n",
    "# gen = opt_run.algorithm.n_gen\n",
    "# if len(opt_pop) < 20:\n",
    "#     leg = True\n",
    "# else:\n",
    "#     leg = False\n",
    "# varPlot = Scatter(title=f'{opt_run.optName}: Optimum - Generation {gen} - Design Space', \n",
    "#                   figsize=(10,8),\n",
    "#                   labels=opt_run.problem.BaseCase.var_labels[:2],\n",
    "#                   legend=leg\n",
    "#                  )\n",
    "# #varPlot.axis_labels = opt_run.problem.BaseCase.var_labels\n",
    "# for opt_i, opt in enumerate(opt_pop):\n",
    "#     varPlot.add(opt.get('X')[:2], label=f'opt{opt_i}', s=70)\n",
    "# varPlot.save(os.path.join(opt_run.plotDir, f'optimum-gen{gen}-varSpace-freq-Amp.png'), dpi=100)\n",
    "# varPlot.show()"
   ]
  },
  {
   "cell_type": "code",
   "execution_count": null,
   "id": "8d8e6c57",
   "metadata": {},
   "outputs": [],
   "source": [
    "# opt_pop = opt_run.algorithm.opt[:n_opt_disp]\n",
    "# gen = opt_run.algorithm.n_gen\n",
    "# if len(opt_pop) < 20:\n",
    "#     leg = True\n",
    "# else:\n",
    "#     leg = False\n",
    "# varPlot = Scatter(title=f'{opt_run.optName}: Optimum - Generation {gen} - Design Space', \n",
    "#                   figsize=(10,8),\n",
    "#                   labels=opt_run.problem.BaseCase.var_labels[1:],\n",
    "#                   legend=leg\n",
    "#                  )\n",
    "# #varPlot.axis_labels = opt_run.problem.BaseCase.var_labels\n",
    "# for opt_i, opt in enumerate(opt_pop):\n",
    "#     varPlot.add(opt.get('X')[1:], label=f'opt{opt_i}', s=70)\n",
    "# varPlot.save(os.path.join(opt_run.plotDir, f'optimum-gen{gen}-varSpace-Re-freq.png'), dpi=100)\n",
    "# varPlot.show()"
   ]
  },
  {
   "cell_type": "code",
   "execution_count": null,
   "id": "1b4ab1f7",
   "metadata": {},
   "outputs": [],
   "source": [
    "opt_pop = opt_run.algorithm.opt[:n_opt_disp]\n",
    "gen = opt_run.algorithm.n_gen\n",
    "if len(opt_pop) < 20:\n",
    "    leg = True\n",
    "else:\n",
    "    leg = False\n",
    "varPlot = Scatter(title=f'{opt_run.optName}: Optimum - Generation {gen} - Design Space', \n",
    "                  figsize=(10,8),\n",
    "                  labels=opt_run.problem.BaseCase.var_labels,\n",
    "                  legend=leg\n",
    "                 )\n",
    "varPlot.axis_labels = opt_run.problem.BaseCase.var_labels\n",
    "for opt_i, opt in enumerate(opt_pop):\n",
    "    varPlot.add(opt.get('X'), label=f'opt{opt_i}', s=70)\n",
    "varPlot.save(os.path.join(opt_run.plotDir, f'optimum-gen{gen}-varSpace.png'), dpi=100)\n",
    "varPlot.show()"
   ]
  },
  {
   "cell_type": "code",
   "execution_count": null,
   "id": "2eef3f77",
   "metadata": {},
   "outputs": [],
   "source": [
    "opt_pop = opt_run.algorithm.opt[:n_opt_disp]\n",
    "gen = opt_run.algorithm.n_gen\n",
    "if len(opt_pop) < 20:\n",
    "    leg = True\n",
    "else:\n",
    "    leg = False\n",
    "plot = Scatter(title=f'{opt_run.optName}: Optimum - Generation {gen} - Objective Space', \n",
    "                  figsize=(10,8),\n",
    "                  labels=opt_run.problem.BaseCase.obj_labels,\n",
    "                  legend=leg\n",
    "                 )\n",
    "for opt_i, opt in enumerate(opt_pop):\n",
    "    plot.add(opt.get('F'), label=f'opt{opt_i}', s=70)\n",
    "plot.save(os.path.join(opt_run.plotDir, f'optimum-gen{gen}-objSpace.png'), dpi=100)\n",
    "plot.show()"
   ]
  },
  {
   "cell_type": "markdown",
   "id": "718e469b",
   "metadata": {},
   "source": [
    "### Print Every Generation"
   ]
  },
  {
   "cell_type": "code",
   "execution_count": null,
   "id": "23fdab53",
   "metadata": {},
   "outputs": [],
   "source": [
    "if opt_run.algorithm.n_gen < 10 and len(opt_run.algorithm.pop.get('X')) < 10:\n",
    "    print('EVERY GENERATION')\n",
    "    for gen in range(algorithm.n_gen):\n",
    "        print(f'generation {gen}')\n",
    "        var_g = algorithm.callback.data['var'][gen]\n",
    "        obj_g = algorithm.callback.data['obj'][gen]\n",
    "        for ind in range(len(var_g)):\n",
    "            var_i = var_g[ind]\n",
    "            obj_i = obj_g[ind]\n",
    "            print(f'ind{ind}: ', end='')\n",
    "            for n in range(len(var_i)):\n",
    "                print(f'{var_labels[n]}: {var_i[n]}', end=' ')\n",
    "            print(' // ', end='')\n",
    "            for n in range(len(obj_i)):\n",
    "                print(obj_labels[n] + ':' + '%.3f' % obj_i[n], end=' ')\n",
    "            print()"
   ]
  },
  {
   "cell_type": "markdown",
   "id": "c138bc40",
   "metadata": {},
   "source": [
    "### All Design Points"
   ]
  },
  {
   "cell_type": "code",
   "execution_count": null,
   "id": "2dbe7e9c",
   "metadata": {},
   "outputs": [],
   "source": [
    "if opt_run.problem.BaseCase.n_var > 3: # plot without labels\n",
    "    print('CAN NOT REPRESENT DESIGN SPACE IN 3D. USING ')\n",
    "    plot = Scatter()\n",
    "    plot.add(algorithm.pop.get('X')[:10])\n",
    "\n",
    "# All design points\n",
    "else: \n",
    "    if opt_run.algorithm.n_gen < 15:\n",
    "        leg = True\n",
    "    else:\n",
    "        leg = False\n",
    "    plot = Scatter(title='Entire Design Space', legend=leg, labels=var_labels)\n",
    "    for g, alg in enumerate(hist):\n",
    "        plot.add(alg.pop.get('X'), label=f'GEN {g+1}')\n",
    "\n",
    "# save plot to png file\n",
    "plot.save(os.path.join(opt_run.plotDir, 'entire_design_space.png'), dpi=100)\n",
    "plot.show()"
   ]
  },
  {
   "cell_type": "markdown",
   "id": "d3c8a028",
   "metadata": {},
   "source": [
    "### All Objective Points"
   ]
  },
  {
   "cell_type": "code",
   "execution_count": null,
   "id": "8c5c7785",
   "metadata": {},
   "outputs": [],
   "source": [
    "if opt_run.algorithm.n_gen < 15:\n",
    "    leg = True\n",
    "else:\n",
    "    leg = False\n",
    "plot = Scatter(title='Entire Objective Space', legend=leg, labels=obj_labels)\n",
    "for g, alg in enumerate(hist):  # range(algorithm.n_gen)\n",
    "#     if g == 0:\n",
    "#         continue\n",
    "    plot.add(alg.pop.get('F'), label=f'GEN {g+1}')\n",
    "# if pf is not None:\n",
    "#     plot.add(pf, plot_type=\"line\", color=\"black\", alpha=0.7)\n",
    "plot.save(os.path.join(opt_run.plotDir, 'entire_obj_space.png'), dpi=100)\n",
    "plot.show()"
   ]
  },
  {
   "cell_type": "code",
   "execution_count": null,
   "id": "bc9fae8b",
   "metadata": {},
   "outputs": [],
   "source": [
    "algs = opt_run.algorithm.history\n",
    "algs = algs[1:]\n",
    "opt_run.plotOptSpaces(algs, 'no_gen1')"
   ]
  },
  {
   "cell_type": "code",
   "execution_count": null,
   "id": "0cc194ca",
   "metadata": {},
   "outputs": [],
   "source": [
    "def plotOptSpaces(self, algs, fileName, folder=None , maxLegLen=15):\n",
    "    if folder is None:\n",
    "        folder = self.plotDir\n",
    "    if len(algs) < maxLegLen:\n",
    "        leg = True\n",
    "    else:\n",
    "        leg = False\n",
    "    obj_plot = Scatter(title='Objective Space', legend=leg, labels=self.BaseCase.obj_labels)\n",
    "    var_plot = Scatter(title='Design Space', legend=leg, labels=self.BaseCase.var_labels)\n",
    "    for g, alg in enumerate(algs):  # range(algorithm.n_gen)\n",
    "        obj_plot.add(alg.pop.get('F'), label=f'GEN {g+1}')\n",
    "        var_plot.add(alg.pop.get('X'), label=f'GEN {g+1}')\n",
    "    obj_plot.save(os.path.join(folder, fileName+'-obj_space.png'), dpi=100)\n",
    "    var_plot.save(os.path.join(folder, fileName+'-var_space.png'), dpi=100)\n",
    "    #plot.show()"
   ]
  },
  {
   "cell_type": "markdown",
   "id": "f4d77fe5",
   "metadata": {},
   "source": [
    "### Last 10 Generation of Parameter Space"
   ]
  },
  {
   "cell_type": "code",
   "execution_count": null,
   "id": "859f0009",
   "metadata": {},
   "outputs": [],
   "source": [
    "# Last 10 generations\n",
    "# last 10 gens. design points\n",
    "hist = opt_run.algorithm.history\n",
    "if opt_run.algorithm.n_gen > 10:\n",
    "    #### Design Space ####\n",
    "    if opt_run.problem.BaseCase.n_var > 3: # plot without labels\n",
    "        print('CAN NOT REPRESENT OBJECTIVE SPACE IN 3D. Using Pairwise Scatter Plots')\n",
    "        plot = Scatter(figsize=(10, 8))\n",
    "        plot.add(algorithm.pop.get('X')[:10])\n",
    "    # Last 10 generations of objective points\n",
    "    else: \n",
    "        plot = Scatter(title='Last 10 Generations Design Space', legend=True, \n",
    "                       figsize=(10, 8),\n",
    "                       labels=opt_run.problem.BaseCase.var_labels\n",
    "                      )\n",
    "        gen = len(hist)\n",
    "        for g in range(gen-10, gen):\n",
    "            plot.add(hist[g].pop.get('X'), label=f'GEN {g+1}',\n",
    "                     alpha=0.8\n",
    "                    )\n",
    "    # save design space plot\n",
    "    plot.save(os.path.join(opt_run.plotDir, 'final_10_design_space.png'), dpi=100)\n",
    "    plot.show()"
   ]
  },
  {
   "cell_type": "markdown",
   "id": "4d7c70a2",
   "metadata": {},
   "source": [
    "### Last 10 Generation of Objective Space"
   ]
  },
  {
   "cell_type": "code",
   "execution_count": null,
   "id": "e31687c6",
   "metadata": {},
   "outputs": [],
   "source": [
    "### Objective Space ####\n",
    "if opt_run.algorithm.n_gen > 10:\n",
    "    if opt_run.problem.BaseCase.n_obj >3:\n",
    "        plot = Scatter()\n",
    "        plot.add(opt_run.algorithm.pop.get('F')[:10])\n",
    "    else:\n",
    "        # last 10 gens. objective points\n",
    "        plot = Scatter(title='Last 10 Generations Objective Space', \n",
    "                       legend=True, \n",
    "                       labels=opt_run.problem.BaseCase.obj_labels,\n",
    "                       figsize=(10,8)\n",
    "                      )\n",
    "        gen = len(hist)\n",
    "        for g in range(gen-10, gen):\n",
    "            plot.add(hist[g].pop.get('F'), label=f'GEN {g+1}')\n",
    "\n",
    "    # save objective space plot\n",
    "    plot.save(os.path.join(opt_run.plotDir, 'final_10_obj_space.png'), dpi=100)\n",
    "    plot.show()"
   ]
  },
  {
   "cell_type": "markdown",
   "id": "53580589",
   "metadata": {},
   "source": [
    "### Extract Data "
   ]
  },
  {
   "cell_type": "code",
   "execution_count": null,
   "id": "fa10d2d1",
   "metadata": {},
   "outputs": [],
   "source": [
    "checkpoint = opt_run.algorithm"
   ]
  },
  {
   "cell_type": "code",
   "execution_count": null,
   "id": "01822b51",
   "metadata": {},
   "outputs": [],
   "source": [
    "# is the full history of the algorithm saved? \n",
    "print('Checkpoint Objective Population:\\n', checkpoint.pop.get('F')[:5])\n",
    "if np.all(checkpoint.pop.get('F')) is not None: \n",
    "    algorithm = checkpoint\n",
    "    print('Checkpoint @ end of generation')\n",
    "    print(f'     Generation - {algorithm.n_gen}, {algorithm.callback.gen}')\n",
    "else:\n",
    "    print('Checkpoint mid-generation')\n",
    "    print('     \"algorithm\" variable represents last completed generation')\n",
    "    print('     \"algorithm.callback\" unusable with history objects')\n",
    "    algorithm = checkpoint.history[-1]\n",
    "    print(f'     Generation - {algorithm.n_gen}, {algorithm.callback.gen}')"
   ]
  },
  {
   "cell_type": "markdown",
   "id": "395e97e7",
   "metadata": {},
   "source": [
    "# Preperation for Continuation"
   ]
  },
  {
   "cell_type": "code",
   "execution_count": null,
   "id": "572d2858",
   "metadata": {},
   "outputs": [],
   "source": [
    "opt_run.algorithm.termination"
   ]
  },
  {
   "cell_type": "code",
   "execution_count": null,
   "id": "1210976a",
   "metadata": {},
   "outputs": [],
   "source": [
    "from pymoo.factory import get_termination\n",
    "term = get_termination('n_gen', 30)\n",
    "print(term)"
   ]
  },
  {
   "cell_type": "code",
   "execution_count": null,
   "id": "ea7d225b",
   "metadata": {},
   "outputs": [],
   "source": [
    "# opt_run.algorithm.termination = term\n",
    "#opt_run.saveCP()"
   ]
  },
  {
   "cell_type": "code",
   "execution_count": null,
   "id": "11e2c46a",
   "metadata": {},
   "outputs": [],
   "source": []
  },
  {
   "cell_type": "code",
   "execution_count": null,
   "id": "caa80952",
   "metadata": {},
   "outputs": [],
   "source": []
  },
  {
   "cell_type": "code",
   "execution_count": null,
   "id": "2c1bc5e7",
   "metadata": {},
   "outputs": [],
   "source": []
  },
  {
   "cell_type": "code",
   "execution_count": null,
   "id": "7d70b9bb",
   "metadata": {},
   "outputs": [],
   "source": []
  },
  {
   "cell_type": "code",
   "execution_count": null,
   "id": "87358c50",
   "metadata": {},
   "outputs": [],
   "source": []
  },
  {
   "cell_type": "code",
   "execution_count": null,
   "id": "2cd4bae7",
   "metadata": {},
   "outputs": [],
   "source": []
  },
  {
   "cell_type": "code",
   "execution_count": null,
   "id": "33b59029",
   "metadata": {},
   "outputs": [],
   "source": []
  }
 ],
 "metadata": {
  "kernelspec": {
   "display_name": "Python 3 (ipykernel)",
   "language": "python",
   "name": "python3"
  },
  "language_info": {
   "codemirror_mode": {
    "name": "ipython",
    "version": 3
   },
   "file_extension": ".py",
   "mimetype": "text/x-python",
   "name": "python",
   "nbconvert_exporter": "python",
   "pygments_lexer": "ipython3",
   "version": "3.8.10"
  }
 },
 "nbformat": 4,
 "nbformat_minor": 5
}
