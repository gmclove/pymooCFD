{
 "cells": [
  {
   "cell_type": "markdown",
   "id": "504ca757",
   "metadata": {},
   "source": [
    "### Imports"
   ]
  },
  {
   "cell_type": "code",
   "execution_count": 6,
   "id": "dd4cf939",
   "metadata": {},
   "outputs": [],
   "source": [
    "import os\n",
    "import numpy as np\n",
    "import matplotlib.pyplot as plt\n",
    "from pprint import pprint"
   ]
  },
  {
   "cell_type": "code",
   "execution_count": 7,
   "id": "09fa1559",
   "metadata": {},
   "outputs": [],
   "source": [
    "%matplotlib inline \n",
    "plt.set_loglevel(\"info\")"
   ]
  },
  {
   "cell_type": "code",
   "execution_count": 8,
   "id": "807f1e85",
   "metadata": {},
   "outputs": [],
   "source": [
    "from pymoo.visualization.scatter import Scatter"
   ]
  },
  {
   "cell_type": "code",
   "execution_count": 9,
   "id": "4d45dce8",
   "metadata": {},
   "outputs": [],
   "source": [
    "from pymooCFD.core.minimizeCFD import MinimizeCFD\n",
    "from pymooCFD.problems.rans_k_eps import RANS_k_eps"
   ]
  },
  {
   "cell_type": "code",
   "execution_count": 10,
   "id": "80cb42ab",
   "metadata": {
    "scrolled": true
   },
   "outputs": [
    {
     "name": "stderr",
     "output_type": "stream",
     "text": [
      "04-25 16:54:14 :: INFO     :: optStudy-RANS_k_eps :: ~~~~~~~~~~~~~~~~~~~~~~~~~~\n",
      "04-25 16:54:14 :: INFO     :: optStudy-RANS_k_eps :: INITIALIZING - Pickle Path\n",
      "04-25 16:54:14 :: INFO     :: optStudy-RANS_k_eps :: \tCHECKPOINT LOADED: optStudy-RANS_k_eps/MinimizeCFD.checkpoint.npy\n",
      "04-25 16:54:14 :: DEBUG    :: optStudy-RANS_k_eps :: \tRESTART DICTONARY\n",
      "04-25 16:54:14 :: DEBUG    :: optStudy-RANS_k_eps :: \t\topt_runs: []\n",
      "04-25 16:54:14 :: DEBUG    :: optStudy-RANS_k_eps :: \t\tcase_runs: []\n",
      "04-25 16:54:14 :: DEBUG    :: optStudy-RANS_k_eps :: \t\tCFDCase: <class 'pymooCFD.problems.rans_k_eps.RANS_k_eps'>\n",
      "04-25 16:54:14 :: DEBUG    :: optStudy-RANS_k_eps :: \t\tCFDGeneticAlgorithm: <class 'pymooCFD.core.pymooBase.CFDGeneticAlgorithm'>\n",
      "04-25 16:54:14 :: DEBUG    :: optStudy-RANS_k_eps :: \t\tCFDGeneticProblem: <class 'pymooCFD.core.pymooBase.CFDGeneticProblem'>\n",
      "04-25 16:54:14 :: DEBUG    :: optStudy-RANS_k_eps :: \t\tabs_path: /media/ydubief/M2CE-14TB-1/gitrepo/pymooCFD/optStudy-RANS_k_eps\n",
      "04-25 16:54:14 :: DEBUG    :: optStudy-RANS_k_eps :: \t\tlog_level: 10\n",
      "04-25 16:54:14 :: DEBUG    :: optStudy-RANS_k_eps :: \t\tlogger: <Logger optStudy-RANS_k_eps (DEBUG)>\n",
      "04-25 16:54:14 :: DEBUG    :: optStudy-RANS_k_eps :: \t\tcp_init: False\n",
      "04-25 16:54:14 :: DEBUG    :: optStudy-RANS_k_eps :: \tCHECKPOINT DICTONARY\n",
      "04-25 16:54:14 :: DEBUG    :: optStudy-RANS_k_eps :: \t\topt_runs: [<pymooCFD.core.optRun.OptRun object at 0x7fe830c87dc0>, <pymooCFD.core.optRun.OptRun object at 0x7fe830c909d0>]\n",
      "04-25 16:54:14 :: DEBUG    :: optStudy-RANS_k_eps :: \t\tcase_runs: [<pymooCFD.problems.rans_k_eps.RANS_k_eps object at 0x7fe830c91e40>, <pymooCFD.problems.rans_k_eps.RANS_k_eps object at 0x7fe830c91f00>, <pymooCFD.problems.rans_k_eps.RANS_k_eps object at 0x7fe830c91fc0>]\n",
      "04-25 16:54:14 :: DEBUG    :: optStudy-RANS_k_eps :: \t\tCFDCase: <class 'pymooCFD.problems.rans_k_eps.RANS_k_eps'>\n",
      "04-25 16:54:14 :: DEBUG    :: optStudy-RANS_k_eps :: \t\tCFDGeneticAlgorithm: <class 'pymooCFD.core.pymooBase.CFDGeneticAlgorithm'>\n",
      "04-25 16:54:14 :: DEBUG    :: optStudy-RANS_k_eps :: \t\tCFDGeneticProblem: <class 'pymooCFD.core.pymooBase.CFDGeneticProblem'>\n",
      "04-25 16:54:14 :: DEBUG    :: optStudy-RANS_k_eps :: \t\tabs_path: /gpfs1/home/g/l/glove1/gitrepo/pymooCFD/optStudy-RANS_k_eps\n",
      "04-25 16:54:14 :: DEBUG    :: optStudy-RANS_k_eps :: \t\tlog_level: 10\n",
      "04-25 16:54:14 :: DEBUG    :: optStudy-RANS_k_eps :: \t\tlogger: <Logger optStudy-RANS_k_eps (DEBUG)>\n",
      "04-25 16:54:14 :: DEBUG    :: optStudy-RANS_k_eps :: \t\tcp_init: True\n",
      "04-25 16:54:14 :: WARNING  :: optStudy-RANS_k_eps :: \u001b[93m\u001b[93m{   'iterable_item_added': {   'root.case_runs[0]': <pymooCFD.problems.rans_k_eps.RANS_k_eps object at 0x7fe830c91e40>,\n",
      "04-25 16:54:14 :: WARNING  :: optStudy-RANS_k_eps ::                                'root.case_runs[1]': <pymooCFD.problems.rans_k_eps.RANS_k_eps object at 0x7fe830c91f00>,\n",
      "04-25 16:54:14 :: WARNING  :: optStudy-RANS_k_eps ::                                'root.case_runs[2]': <pymooCFD.problems.rans_k_eps.RANS_k_eps object at 0x7fe830c91fc0>,\n",
      "04-25 16:54:14 :: WARNING  :: optStudy-RANS_k_eps ::                                'root.opt_runs[0]': <pymooCFD.core.optRun.OptRun object at 0x7fe830c87dc0>,\n",
      "04-25 16:54:14 :: WARNING  :: optStudy-RANS_k_eps ::                                'root.opt_runs[1]': <pymooCFD.core.optRun.OptRun object at 0x7fe830c909d0>},\n",
      "04-25 16:54:14 :: WARNING  :: optStudy-RANS_k_eps ::     'values_changed': {   'root.abs_path': {   'new_value': '/gpfs1/home/g/l/glove1/gitrepo/pymooCFD/optStudy-RANS_k_eps',\n",
      "04-25 16:54:14 :: WARNING  :: optStudy-RANS_k_eps ::                                                'old_value': '/media/ydubief/M2CE-14TB-1/gitrepo/pymooCFD/optStudy-RANS_k_eps'},\n",
      "04-25 16:54:14 :: WARNING  :: optStudy-RANS_k_eps ::                           'root.cp_init': {   'new_value': True,\n",
      "04-25 16:54:14 :: WARNING  :: optStudy-RANS_k_eps ::                                               'old_value': False}}}\u001b[0m\u001b[0m\n",
      "04-25 16:54:14 :: DEBUG    :: optStudy-RANS_k_eps :: \tUPDATED DICTONARY\n",
      "04-25 16:54:14 :: DEBUG    :: optStudy-RANS_k_eps :: \t\topt_runs: [<pymooCFD.core.optRun.OptRun object at 0x7fe830c87dc0>, <pymooCFD.core.optRun.OptRun object at 0x7fe830c909d0>]\n",
      "04-25 16:54:14 :: DEBUG    :: optStudy-RANS_k_eps :: \t\tcase_runs: [<pymooCFD.problems.rans_k_eps.RANS_k_eps object at 0x7fe830c91e40>, <pymooCFD.problems.rans_k_eps.RANS_k_eps object at 0x7fe830c91f00>, <pymooCFD.problems.rans_k_eps.RANS_k_eps object at 0x7fe830c91fc0>]\n",
      "04-25 16:54:14 :: DEBUG    :: optStudy-RANS_k_eps :: \t\tCFDCase: <class 'pymooCFD.problems.rans_k_eps.RANS_k_eps'>\n",
      "04-25 16:54:14 :: DEBUG    :: optStudy-RANS_k_eps :: \t\tCFDGeneticAlgorithm: <class 'pymooCFD.core.pymooBase.CFDGeneticAlgorithm'>\n",
      "04-25 16:54:14 :: DEBUG    :: optStudy-RANS_k_eps :: \t\tCFDGeneticProblem: <class 'pymooCFD.core.pymooBase.CFDGeneticProblem'>\n",
      "04-25 16:54:14 :: DEBUG    :: optStudy-RANS_k_eps :: \t\tabs_path: /gpfs1/home/g/l/glove1/gitrepo/pymooCFD/optStudy-RANS_k_eps\n",
      "04-25 16:54:14 :: DEBUG    :: optStudy-RANS_k_eps :: \t\tlog_level: 10\n",
      "04-25 16:54:14 :: DEBUG    :: optStudy-RANS_k_eps :: \t\tlogger: <Logger optStudy-RANS_k_eps (DEBUG)>\n",
      "04-25 16:54:14 :: DEBUG    :: optStudy-RANS_k_eps :: \t\tcp_init: True\n",
      "04-25 16:54:14 :: INFO     :: optStudy-RANS_k_eps :: LOADING: opt_runs[0] FROM /gpfs1/home/g/l/glove1/gitrepo/pymooCFD/optStudy-RANS_k_eps/run00/OptRun.checkpoint.npy\n"
     ]
    },
    {
     "name": "stdout",
     "output_type": "stream",
     "text": [
      "[<pymooCFD.core.optRun.OptRun object at 0x7fe830c87dc0>, <pymooCFD.core.optRun.OptRun object at 0x7fe830c909d0>]\n",
      "<class 'pymooCFD.core.picklePath.PicklePath'>\n",
      "[<class 'pymooCFD.core.optRun.OptRun'>, <class 'pymooCFD.core.picklePath.PicklePath'>, <class 'object'>]\n",
      "(<class 'pymooCFD.core.optRun.OptRun'>, <class 'pymooCFD.core.picklePath.PicklePath'>, <class 'object'>)\n",
      "opt_runs 0 <pymooCFD.core.optRun.OptRun object at 0x7fe830c87dc0>\n",
      "!!!!!!!!!!!!!\n"
     ]
    },
    {
     "ename": "KeyboardInterrupt",
     "evalue": "Interrupted by user",
     "output_type": "error",
     "traceback": [
      "\u001b[0;31m---------------------------------------------------------------------------\u001b[0m",
      "\u001b[0;31mKeyboardInterrupt\u001b[0m                         Traceback (most recent call last)",
      "Input \u001b[0;32mIn [10]\u001b[0m, in \u001b[0;36m<cell line: 1>\u001b[0;34m()\u001b[0m\n\u001b[0;32m----> 1\u001b[0m study \u001b[38;5;241m=\u001b[39m \u001b[43mMinimizeCFD\u001b[49m\u001b[43m(\u001b[49m\u001b[43mRANS_k_eps\u001b[49m\u001b[43m)\u001b[49m\n",
      "File \u001b[0;32m/media/ydubief/M2CE-14TB-1/gitrepo/pymooCFD/pymooCFD/core/minimizeCFD.py:33\u001b[0m, in \u001b[0;36mMinimizeCFD.__init__\u001b[0;34m(self, CFDCase, CFDGeneticAlgorithm, CFDGeneticProblem, dir_path)\u001b[0m\n\u001b[1;32m     29\u001b[0m \u001b[38;5;28mself\u001b[39m\u001b[38;5;241m.\u001b[39mCFDGeneticProblem \u001b[38;5;241m=\u001b[39m CFDGeneticProblem\n\u001b[1;32m     30\u001b[0m \u001b[38;5;66;03m#####################\u001b[39;00m\n\u001b[1;32m     31\u001b[0m \u001b[38;5;66;03m#    PICKLE PATH    #\u001b[39;00m\n\u001b[1;32m     32\u001b[0m \u001b[38;5;66;03m#####################\u001b[39;00m\n\u001b[0;32m---> 33\u001b[0m \u001b[38;5;28;43msuper\u001b[39;49m\u001b[43m(\u001b[49m\u001b[43m)\u001b[49m\u001b[38;5;241;43m.\u001b[39;49m\u001b[38;5;21;43m__init__\u001b[39;49m\u001b[43m(\u001b[49m\u001b[43mdir_path\u001b[49m\u001b[43m)\u001b[49m\n",
      "File \u001b[0;32m/media/ydubief/M2CE-14TB-1/gitrepo/pymooCFD/pymooCFD/core/picklePath.py:44\u001b[0m, in \u001b[0;36mPicklePath.__init__\u001b[0;34m(self, dir_path, sub_dirs, log_level)\u001b[0m\n\u001b[1;32m     42\u001b[0m \u001b[38;5;28;01mexcept\u001b[39;00m \u001b[38;5;167;01mFileNotFoundError\u001b[39;00m:\n\u001b[1;32m     43\u001b[0m     question \u001b[38;5;241m=\u001b[39m \u001b[38;5;124mf\u001b[39m\u001b[38;5;124m'\u001b[39m\u001b[38;5;130;01m\\n\u001b[39;00m\u001b[38;5;132;01m{\u001b[39;00m\u001b[38;5;28mself\u001b[39m\u001b[38;5;241m.\u001b[39mrel_path\u001b[38;5;132;01m}\u001b[39;00m\u001b[38;5;124m exists but \u001b[39m\u001b[38;5;132;01m{\u001b[39;00m\u001b[38;5;28mself\u001b[39m\u001b[38;5;241m.\u001b[39mcp_rel_path\u001b[38;5;132;01m}\u001b[39;00m\u001b[38;5;124m does not.\u001b[39m\u001b[38;5;130;01m\\n\u001b[39;00m\u001b[38;5;130;01m\\t\u001b[39;00m\u001b[38;5;124mEMPTY \u001b[39m\u001b[38;5;132;01m{\u001b[39;00m\u001b[38;5;28mself\u001b[39m\u001b[38;5;241m.\u001b[39mrel_path\u001b[38;5;132;01m}\u001b[39;00m\u001b[38;5;124m DIRECTORY?\u001b[39m\u001b[38;5;124m'\u001b[39m\n\u001b[0;32m---> 44\u001b[0m     overwrite \u001b[38;5;241m=\u001b[39m \u001b[43myes_or_no\u001b[49m\u001b[43m(\u001b[49m\u001b[43mquestion\u001b[49m\u001b[43m)\u001b[49m\n\u001b[1;32m     45\u001b[0m     \u001b[38;5;28;01mif\u001b[39;00m overwrite:\n\u001b[1;32m     46\u001b[0m         shutil\u001b[38;5;241m.\u001b[39mrmtree(\u001b[38;5;28mself\u001b[39m\u001b[38;5;241m.\u001b[39mabs_path)\n",
      "File \u001b[0;32m/media/ydubief/M2CE-14TB-1/gitrepo/pymooCFD/pymooCFD/util/sysTools.py:17\u001b[0m, in \u001b[0;36myes_or_no\u001b[0;34m(question)\u001b[0m\n\u001b[1;32m     15\u001b[0m \u001b[38;5;28;01mdef\u001b[39;00m \u001b[38;5;21myes_or_no\u001b[39m(question):\n\u001b[1;32m     16\u001b[0m     \u001b[38;5;28;01mwhile\u001b[39;00m \u001b[38;5;124m\"\u001b[39m\u001b[38;5;124mthe answer is invalid\u001b[39m\u001b[38;5;124m\"\u001b[39m:\n\u001b[0;32m---> 17\u001b[0m         reply \u001b[38;5;241m=\u001b[39m \u001b[38;5;28mstr\u001b[39m(\u001b[38;5;28;43minput\u001b[39;49m\u001b[43m(\u001b[49m\u001b[43mquestion\u001b[49m\u001b[43m \u001b[49m\u001b[38;5;241;43m+\u001b[39;49m\u001b[43m \u001b[49m\u001b[38;5;124;43m'\u001b[39;49m\u001b[38;5;124;43m (y/n): \u001b[39;49m\u001b[38;5;124;43m'\u001b[39;49m\u001b[43m)\u001b[49m)\u001b[38;5;241m.\u001b[39mlower()\u001b[38;5;241m.\u001b[39mstrip()\n\u001b[1;32m     18\u001b[0m         \u001b[38;5;28;01mif\u001b[39;00m reply[:\u001b[38;5;241m1\u001b[39m] \u001b[38;5;241m==\u001b[39m \u001b[38;5;124m'\u001b[39m\u001b[38;5;124my\u001b[39m\u001b[38;5;124m'\u001b[39m:\n\u001b[1;32m     19\u001b[0m             \u001b[38;5;28;01mreturn\u001b[39;00m \u001b[38;5;28;01mTrue\u001b[39;00m\n",
      "File \u001b[0;32m~/miniconda3/envs/pymooCFD/lib/python3.10/site-packages/ipykernel/kernelbase.py:1075\u001b[0m, in \u001b[0;36mKernel.raw_input\u001b[0;34m(self, prompt)\u001b[0m\n\u001b[1;32m   1071\u001b[0m \u001b[38;5;28;01mif\u001b[39;00m \u001b[38;5;129;01mnot\u001b[39;00m \u001b[38;5;28mself\u001b[39m\u001b[38;5;241m.\u001b[39m_allow_stdin:\n\u001b[1;32m   1072\u001b[0m     \u001b[38;5;28;01mraise\u001b[39;00m StdinNotImplementedError(\n\u001b[1;32m   1073\u001b[0m         \u001b[38;5;124m\"\u001b[39m\u001b[38;5;124mraw_input was called, but this frontend does not support input requests.\u001b[39m\u001b[38;5;124m\"\u001b[39m\n\u001b[1;32m   1074\u001b[0m     )\n\u001b[0;32m-> 1075\u001b[0m \u001b[38;5;28;01mreturn\u001b[39;00m \u001b[38;5;28;43mself\u001b[39;49m\u001b[38;5;241;43m.\u001b[39;49m\u001b[43m_input_request\u001b[49m\u001b[43m(\u001b[49m\n\u001b[1;32m   1076\u001b[0m \u001b[43m    \u001b[49m\u001b[38;5;28;43mstr\u001b[39;49m\u001b[43m(\u001b[49m\u001b[43mprompt\u001b[49m\u001b[43m)\u001b[49m\u001b[43m,\u001b[49m\n\u001b[1;32m   1077\u001b[0m \u001b[43m    \u001b[49m\u001b[38;5;28;43mself\u001b[39;49m\u001b[38;5;241;43m.\u001b[39;49m\u001b[43m_parent_ident\u001b[49m\u001b[43m[\u001b[49m\u001b[38;5;124;43m\"\u001b[39;49m\u001b[38;5;124;43mshell\u001b[39;49m\u001b[38;5;124;43m\"\u001b[39;49m\u001b[43m]\u001b[49m\u001b[43m,\u001b[49m\n\u001b[1;32m   1078\u001b[0m \u001b[43m    \u001b[49m\u001b[38;5;28;43mself\u001b[39;49m\u001b[38;5;241;43m.\u001b[39;49m\u001b[43mget_parent\u001b[49m\u001b[43m(\u001b[49m\u001b[38;5;124;43m\"\u001b[39;49m\u001b[38;5;124;43mshell\u001b[39;49m\u001b[38;5;124;43m\"\u001b[39;49m\u001b[43m)\u001b[49m\u001b[43m,\u001b[49m\n\u001b[1;32m   1079\u001b[0m \u001b[43m    \u001b[49m\u001b[43mpassword\u001b[49m\u001b[38;5;241;43m=\u001b[39;49m\u001b[38;5;28;43;01mFalse\u001b[39;49;00m\u001b[43m,\u001b[49m\n\u001b[1;32m   1080\u001b[0m \u001b[43m\u001b[49m\u001b[43m)\u001b[49m\n",
      "File \u001b[0;32m~/miniconda3/envs/pymooCFD/lib/python3.10/site-packages/ipykernel/kernelbase.py:1120\u001b[0m, in \u001b[0;36mKernel._input_request\u001b[0;34m(self, prompt, ident, parent, password)\u001b[0m\n\u001b[1;32m   1117\u001b[0m             \u001b[38;5;28;01mbreak\u001b[39;00m\n\u001b[1;32m   1118\u001b[0m \u001b[38;5;28;01mexcept\u001b[39;00m \u001b[38;5;167;01mKeyboardInterrupt\u001b[39;00m:\n\u001b[1;32m   1119\u001b[0m     \u001b[38;5;66;03m# re-raise KeyboardInterrupt, to truncate traceback\u001b[39;00m\n\u001b[0;32m-> 1120\u001b[0m     \u001b[38;5;28;01mraise\u001b[39;00m \u001b[38;5;167;01mKeyboardInterrupt\u001b[39;00m(\u001b[38;5;124m\"\u001b[39m\u001b[38;5;124mInterrupted by user\u001b[39m\u001b[38;5;124m\"\u001b[39m) \u001b[38;5;28;01mfrom\u001b[39;00m \u001b[38;5;28mNone\u001b[39m\n\u001b[1;32m   1121\u001b[0m \u001b[38;5;28;01mexcept\u001b[39;00m \u001b[38;5;167;01mException\u001b[39;00m:\n\u001b[1;32m   1122\u001b[0m     \u001b[38;5;28mself\u001b[39m\u001b[38;5;241m.\u001b[39mlog\u001b[38;5;241m.\u001b[39mwarning(\u001b[38;5;124m\"\u001b[39m\u001b[38;5;124mInvalid Message:\u001b[39m\u001b[38;5;124m\"\u001b[39m, exc_info\u001b[38;5;241m=\u001b[39m\u001b[38;5;28;01mTrue\u001b[39;00m)\n",
      "\u001b[0;31mKeyboardInterrupt\u001b[0m: Interrupted by user"
     ]
    }
   ],
   "source": [
    "study = MinimizeCFD(RANS_k_eps)\n",
    "# from setupOpt import optRun\n",
    "# from pymooCFD.studies.oscillCyl_soo import optRun\n",
    "#from pymooCFD.studies.compDistOpt_x2 import optRun\n",
    "#from pymooCFD.studies.oscillCyl_x2 import optRun\n",
    "# from pymooCFD.studies.oscillCyl_x2 import optRun\n",
    "# from pymooCFD.studies.compDistOpt_x2 import optRun"
   ]
  },
  {
   "cell_type": "code",
   "execution_count": 12,
   "id": "a235b485",
   "metadata": {},
   "outputs": [],
   "source": [
    "from IPython.display import Image, display\n",
    "import glob\n",
    "\n",
    "def showImages(listOfImageNames, **kwargs):\n",
    "    if isinstance(listOfImageNames, str):\n",
    "        listOfImageNames = [listOfImageNames]\n",
    "    listOfImageNames = [os.path.abspath(os.path.join(optRun.optDatDir, imageName)) \n",
    "                            for imageName in listOfImageNames if optRun.optDatDir not in imageName]\n",
    "    listOfImageNames = [glob.glob(imageName) for imageName in listOfImageNames]\n",
    "    listOfImageNames = [item for sublist in listOfImageNames for item in sublist]\n",
    "    print('Showing Images')\n",
    "    print(listOfImageNames)\n",
    "    for imageName in listOfImageNames:\n",
    "        print('DISPLAYING:', imageName)\n",
    "        display(Image(filename=imageName), **kwargs)\n",
    "        "
   ]
  },
  {
   "cell_type": "code",
   "execution_count": 13,
   "id": "efa6ea13",
   "metadata": {},
   "outputs": [],
   "source": [
    "opt_run = study.opt_runs[0]"
   ]
  },
  {
   "cell_type": "markdown",
   "id": "3ee0c08f",
   "metadata": {},
   "source": [
    "### Check Out Data Generated"
   ]
  },
  {
   "cell_type": "code",
   "execution_count": 14,
   "id": "db3898e4",
   "metadata": {},
   "outputs": [
    {
     "name": "stdout",
     "output_type": "stream",
     "text": [
      "None\n"
     ]
    },
    {
     "ename": "TypeError",
     "evalue": "object of type 'NoneType' has no len()",
     "output_type": "error",
     "traceback": [
      "\u001b[0;31m---------------------------------------------------------------------------\u001b[0m",
      "\u001b[0;31mTypeError\u001b[0m                                 Traceback (most recent call last)",
      "Input \u001b[0;32mIn [14]\u001b[0m, in \u001b[0;36m<cell line: 2>\u001b[0;34m()\u001b[0m\n\u001b[1;32m      1\u001b[0m \u001b[38;5;28mprint\u001b[39m(opt_run\u001b[38;5;241m.\u001b[39malgorithm\u001b[38;5;241m.\u001b[39mhistory)\n\u001b[0;32m----> 2\u001b[0m \u001b[38;5;28;43mlen\u001b[39;49m\u001b[43m(\u001b[49m\u001b[43mopt_run\u001b[49m\u001b[38;5;241;43m.\u001b[39;49m\u001b[43malgorithm\u001b[49m\u001b[38;5;241;43m.\u001b[39;49m\u001b[43mhistory\u001b[49m\u001b[43m)\u001b[49m\n",
      "\u001b[0;31mTypeError\u001b[0m: object of type 'NoneType' has no len()"
     ]
    }
   ],
   "source": [
    "print(opt_run.algorithm.history)\n",
    "len(opt_run.algorithm.history)"
   ]
  },
  {
   "cell_type": "code",
   "execution_count": 37,
   "id": "550256c7",
   "metadata": {
    "scrolled": true
   },
   "outputs": [
    {
     "name": "stdout",
     "output_type": "stream",
     "text": [
      "{'CFDCase': <class 'pymooCFD.problems.rans_k_eps.RANS_k_eps'>,\n",
      " 'CFDGeneticAlgorithm': <class 'pymooCFD.core.pymooBase.CFDGeneticAlgorithm'>,\n",
      " 'CFDGeneticProblem': <class 'pymooCFD.core.pymooBase.CFDGeneticProblem'>,\n",
      " 'abs_path': '/gpfs1/home/g/l/glove1/gitrepo/pymooCFD/optStudy-RANS_k_eps',\n",
      " 'case_runs': [<pymooCFD.problems.rans_k_eps.RANS_k_eps object at 0x7f2b7b7724a0>,\n",
      "               <pymooCFD.problems.rans_k_eps.RANS_k_eps object at 0x7f2b7b771e70>,\n",
      "               <pymooCFD.problems.rans_k_eps.RANS_k_eps object at 0x7f2b7b7723e0>],\n",
      " 'cp_init': True,\n",
      " 'log_level': 10,\n",
      " 'logger': <Logger optStudy-RANS_k_eps (DEBUG)>,\n",
      " 'opt_runs': [<pymooCFD.core.optRun.OptRun object at 0x7f2b7b7b0400>,\n",
      "              <pymooCFD.core.optRun.OptRun object at 0x7f2b7b7b2cb0>]}\n"
     ]
    }
   ],
   "source": [
    "pprint(study.__dict__)"
   ]
  },
  {
   "cell_type": "code",
   "execution_count": 42,
   "id": "03ab80b2",
   "metadata": {},
   "outputs": [
    {
     "name": "stdout",
     "output_type": "stream",
     "text": [
      "{'advance_after_initial_infill': True,\n",
      " 'callback': <pymooCFD.core.pymooBase.PymooCFDCallback object at 0x7f2b7c48d4b0>,\n",
      " 'data': {},\n",
      " 'default_termination': <pymoo.util.termination.default.MultiObjectiveDefaultTermination object at 0x7f2b7c1fdc00>,\n",
      " 'display': <pymooCFD.core.pymooBase.MyDisplay object at 0x7f2b7b7b2950>,\n",
      " 'eliminate_duplicates': <pymoo.core.duplicate.DefaultDuplicateElimination object at 0x7f2b7b7a3310>,\n",
      " 'evaluator': <pymoo.core.evaluator.Evaluator object at 0x7f2b7b7a3ac0>,\n",
      " 'has_terminated': None,\n",
      " 'history': None,\n",
      " 'initialization': <pymoo.core.initialization.Initialization object at 0x7f2b7b7a3910>,\n",
      " 'is_initialized': False,\n",
      " 'mating': <pymoo.core.mating.Mating object at 0x7f2b7b7a36a0>,\n",
      " 'n_gen': None,\n",
      " 'n_offsprings': 4,\n",
      " 'off': None,\n",
      " 'opt': None,\n",
      " 'pf': True,\n",
      " 'pop': None,\n",
      " 'pop_size': 30,\n",
      " 'problem': <pymooCFD.core.pymooBase.CFDGeneticProblem object at 0x7f2b7c48d090>,\n",
      " 'repair': <pymoo.core.repair.NoRepair object at 0x7f2b7b7a3d90>,\n",
      " 'return_least_infeasible': True,\n",
      " 'save_history': True,\n",
      " 'seed': 1,\n",
      " 'start_time': None,\n",
      " 'survival': <pymoo.algorithms.moo.nsga2.RankAndCrowdingSurvival object at 0x7f2b7b7a30d0>,\n",
      " 'termination': <pymoo.util.termination.max_gen.MaximumGenerationTermination object at 0x7f2b7b7b1540>,\n",
      " 'tournament_type': 'comp_by_dom_and_crowding',\n",
      " 'verbose': True}\n"
     ]
    }
   ],
   "source": [
    "pprint(opt_run.algorithm.__dict__)"
   ]
  },
  {
   "cell_type": "code",
   "execution_count": 43,
   "id": "98775d52",
   "metadata": {},
   "outputs": [
    {
     "name": "stdout",
     "output_type": "stream",
     "text": [
      "{'BaseCase': <class 'pymooCFD.problems.rans_k_eps.RANS_k_eps'>,\n",
      " '_ideal_point': None,\n",
      " '_nadir_point': None,\n",
      " '_pareto_front': <pymoo.util.cache.Cache object at 0x7f2b7c1ff640>,\n",
      " '_pareto_set': <pymoo.util.cache.Cache object at 0x7f2b7c48d030>,\n",
      " 'callback': None,\n",
      " 'check_inconsistencies': True,\n",
      " 'data': {},\n",
      " 'exclude_from_serialization': [],\n",
      " 'gen1Pop': None,\n",
      " 'n_constr': 1,\n",
      " 'n_obj': 2,\n",
      " 'n_var': 2,\n",
      " 'replace_nan_values_by': inf,\n",
      " 'validated': False,\n",
      " 'xl': array([7.2e-02, 1.0e+03]),\n",
      " 'xu': array([1.08e-01, 1.00e+04])}\n"
     ]
    }
   ],
   "source": [
    "pprint(opt_run.problem.__dict__)"
   ]
  },
  {
   "cell_type": "code",
   "execution_count": null,
   "id": "1275828b",
   "metadata": {},
   "outputs": [],
   "source": [
    "# for key in optRun.__dict__:\n",
    "#     pprint(\"{0:15} : {1}\".format(key, optRun.__dict__[key])) #str(optRun.__dict__[key]).replace('\\n', '\\n\\t\\t  ')))"
   ]
  },
  {
   "cell_type": "code",
   "execution_count": null,
   "id": "06a251c0",
   "metadata": {},
   "outputs": [],
   "source": [
    "# for key in optRun.__dict__:\n",
    "#     val = str(optRun.__dict__[key]).replace('\\n', '\\n\\t\\t')\n",
    "#     pprint(\"{0:15} : {1}\".format(key, val))"
   ]
  },
  {
   "cell_type": "markdown",
   "id": "84128e77",
   "metadata": {},
   "source": [
    "# Pre-Process Optimization Study"
   ]
  },
  {
   "cell_type": "markdown",
   "id": "fb6c97f3",
   "metadata": {},
   "source": [
    "### Test Case"
   ]
  },
  {
   "cell_type": "code",
   "execution_count": 44,
   "id": "731f7c6c",
   "metadata": {},
   "outputs": [
    {
     "name": "stdout",
     "output_type": "stream",
     "text": [
      "Directory: ../../../../../gpfs1/home/g/l/glove1/gitrepo/pymooCFD/optStudy-RANS_k_eps/run01/test_case | Parameters: [0.09, 5500]\n"
     ]
    },
    {
     "data": {
      "text/plain": [
       "<pymooCFD.problems.rans_k_eps.RANS_k_eps at 0x7f2b7b772530>"
      ]
     },
     "execution_count": 44,
     "metadata": {},
     "output_type": "execute_result"
    }
   ],
   "source": [
    "print(optRun.test_case)\n",
    "optRun.test_case"
   ]
  },
  {
   "cell_type": "code",
   "execution_count": 45,
   "id": "2f971fc3",
   "metadata": {},
   "outputs": [
    {
     "name": "stdout",
     "output_type": "stream",
     "text": [
      "{'_f': None,\n",
      " '_g': None,\n",
      " '_x': [0.09, 5500],\n",
      " 'abs_path': '/gpfs1/home/g/l/glove1/gitrepo/pymooCFD/optStudy-RANS_k_eps/run01/test_case',\n",
      " 'cp_init': False,\n",
      " 'datFile': 'residuals.dat',\n",
      " 'inputFile': 'exec.jou',\n",
      " 'jobFile': 'jobslurm.sh',\n",
      " 'log_level': 10,\n",
      " 'logger': <Logger optStudy-RANS_k_eps.run01.test_case (DEBUG)>,\n",
      " 'meshFile': None,\n",
      " 'meshSF': 1.0,\n",
      " 'mesh_study': <pymooCFD.core.meshStudy.MeshStudy object at 0x7f2b7b772710>,\n",
      " 'msCases': None,\n",
      " 'numElem': None,\n",
      " 'obj_labels': ['Average of Residuals', 'Wall Time'],\n",
      " 'restart': False,\n",
      " 'solnTime': None,\n",
      " 'validated': False,\n",
      " 'var_labels': ['Turbulent Viscosity Constant', 'Number of Iterations']}\n"
     ]
    }
   ],
   "source": [
    "pprint(optRun.test_case.__dict__)"
   ]
  },
  {
   "cell_type": "code",
   "execution_count": 46,
   "id": "00a5430c",
   "metadata": {},
   "outputs": [
    {
     "name": "stdout",
     "output_type": "stream",
     "text": [
      "None\n"
     ]
    }
   ],
   "source": [
    "print(optRun.test_case.msCases)"
   ]
  },
  {
   "cell_type": "code",
   "execution_count": 47,
   "id": "7831c364",
   "metadata": {},
   "outputs": [
    {
     "name": "stdout",
     "output_type": "stream",
     "text": [
      "No Mesh Study Cases for Test Case\n"
     ]
    }
   ],
   "source": [
    "if optRun.test_case.msCases is None:\n",
    "    print('No Mesh Study Cases for Test Case')\n",
    "else:\n",
    "    for case in optRun.test_case.msCases:\n",
    "        pprint(case.__dict__)\n",
    "        print()"
   ]
  },
  {
   "cell_type": "code",
   "execution_count": 48,
   "id": "cfd11d4f",
   "metadata": {},
   "outputs": [
    {
     "name": "stdout",
     "output_type": "stream",
     "text": [
      "No Mesh Study Cases for Test Case\n"
     ]
    }
   ],
   "source": [
    "if optRun.test_case.msCases is None:\n",
    "    print('No Mesh Study Cases for Test Case')\n",
    "else:\n",
    "    print('Mesh Size Factors:', optRun.test_case.meshSFs)"
   ]
  },
  {
   "cell_type": "code",
   "execution_count": 49,
   "id": "79efdf7e",
   "metadata": {},
   "outputs": [
    {
     "name": "stdout",
     "output_type": "stream",
     "text": [
      "No Mesh Study Cases for Test Case\n"
     ]
    }
   ],
   "source": [
    "if optRun.test_case.msCases is None:\n",
    "    print('No Mesh Study Cases for Test Case')\n",
    "else:\n",
    "    for case in optRun.test_case.msCases:\n",
    "        print(case)\n",
    "        print('\\t Objectives:', case._f)\n",
    "#     print('\\tParameters:', case._x, '\\t Objectives:', case._f)"
   ]
  },
  {
   "cell_type": "code",
   "execution_count": null,
   "id": "b6900143",
   "metadata": {},
   "outputs": [],
   "source": []
  },
  {
   "cell_type": "markdown",
   "id": "004d94a2",
   "metadata": {},
   "source": [
    "##### Update Test Case"
   ]
  },
  {
   "cell_type": "code",
   "execution_count": 50,
   "id": "176f4847",
   "metadata": {},
   "outputs": [],
   "source": [
    "# optRun.appendMeshSFs(optRun.test_case, [1.2])"
   ]
  },
  {
   "cell_type": "code",
   "execution_count": 51,
   "id": "6e9a644d",
   "metadata": {},
   "outputs": [],
   "source": [
    "# newMeshSFs = np.round(np.arange(0.3, 1.5, 0.1))\n",
    "# optRun.saveCP()\n",
    "# optRun.test_case.meshSFs"
   ]
  },
  {
   "cell_type": "markdown",
   "id": "a07a7540",
   "metadata": {},
   "source": [
    "### Corner Case"
   ]
  },
  {
   "cell_type": "code",
   "execution_count": 52,
   "id": "bbb10af5",
   "metadata": {},
   "outputs": [],
   "source": [
    "# print(optRun.cornerCases)"
   ]
  },
  {
   "cell_type": "code",
   "execution_count": 53,
   "id": "8da143cf",
   "metadata": {},
   "outputs": [],
   "source": [
    "# runCCDir = os.path.join(procOptDir, 'runCC')\n",
    "# ents = os.listdir(runCCDir)\n",
    "# CCobjs = []\n",
    "# CCvars = []\n",
    "# for ent in ents:\n",
    "#     CCDir = os.path.join(runCCDir, ent)\n",
    "#     varPath = os.path.join(CCDir, 'var.txt')\n",
    "#     CCvars.append(np.loadtxt(varPath))\n",
    "#     objPath = os.path.join(CCDir, 'obj.txt')\n",
    "#     CCobjs.append(np.loadtxt(objPath))\n",
    "# CCobjs = np.array(CCobjs)\n",
    "# CCvars = np.array(CCvars)\n",
    "# labels = [f'cc-{i}' for i in range(len(CCvars))]"
   ]
  },
  {
   "cell_type": "code",
   "execution_count": 54,
   "id": "8b2632bc",
   "metadata": {},
   "outputs": [],
   "source": [
    "# CCvars = [case.x for case in optRun.cornerCases]"
   ]
  },
  {
   "cell_type": "code",
   "execution_count": 55,
   "id": "80c7e55f",
   "metadata": {},
   "outputs": [],
   "source": [
    "# plot = Scatter(title= 'Design Space: Corner Cases', legend = True, labels = optRun.BaseCase.var_labels, grid=True)\n",
    "# for i, CCvar in enumerate(CCvars):\n",
    "#     plot.add(CCvar, label=f'cc-{i}')\n",
    "# plot.show()"
   ]
  },
  {
   "cell_type": "code",
   "execution_count": 56,
   "id": "b3c51597",
   "metadata": {},
   "outputs": [],
   "source": [
    "# CCobjs = [case.f for case in optRun.cornerCases]"
   ]
  },
  {
   "cell_type": "code",
   "execution_count": 57,
   "id": "55075bb4",
   "metadata": {},
   "outputs": [],
   "source": [
    "# plot = Scatter(title= 'Objective Space: Corner Cases', legend = True, labels = optRun.BaseCase.obj_labels)\n",
    "# for i, CCobj in enumerate(CCobjs):\n",
    "#     plot.add(CCobj, label=f'cc-{i}')\n",
    "# plot.show()"
   ]
  },
  {
   "cell_type": "code",
   "execution_count": 58,
   "id": "41c99faa",
   "metadata": {},
   "outputs": [],
   "source": [
    "# # Non-dominated Sorting of Corner Cases\n",
    "# n_survive = 1\n",
    "# F = CCobjs\n",
    "# X = CCvars\n",
    "# from pymoo.util.nds.non_dominated_sorting import NonDominatedSorting\n",
    "# nds = NonDominatedSorting()\n",
    "# # do the non-dominated sorting until splitting front\n",
    "# fronts = nds.do(F, n_stop_if_ranked=n_survive)\n",
    "# front = fronts[0]\n",
    "# nonDom_CCobj = F[front, :][0]\n",
    "# nonDom_CCvar = X[front, :][0]\n",
    "# print('Non-dominated: Corner Cases')\n",
    "# print('Parameters-', nonDom_CCvar)\n",
    "# print('Objectives-', nonDom_CCobj)"
   ]
  },
  {
   "cell_type": "markdown",
   "id": "8a7b665c",
   "metadata": {},
   "source": [
    "### Boundary Cases"
   ]
  },
  {
   "cell_type": "code",
   "execution_count": 65,
   "id": "7bdfcf00",
   "metadata": {},
   "outputs": [
    {
     "name": "stdout",
     "output_type": "stream",
     "text": [
      "[<pymooCFD.problems.rans_k_eps.RANS_k_eps object at 0x7f2b7b7a3100>, <pymooCFD.problems.rans_k_eps.RANS_k_eps object at 0x7f2b7b772b00>, <pymooCFD.problems.rans_k_eps.RANS_k_eps object at 0x7f2b7b772c20>, <pymooCFD.problems.rans_k_eps.RANS_k_eps object at 0x7f2b7b772650>]\n"
     ]
    }
   ],
   "source": [
    "print(opt_run.bnd_cases)"
   ]
  },
  {
   "cell_type": "code",
   "execution_count": 67,
   "id": "eddd92e0",
   "metadata": {},
   "outputs": [
    {
     "name": "stdout",
     "output_type": "stream",
     "text": [
      "Directory: ../../../../../gpfs1/home/g/l/glove1/gitrepo/pymooCFD/optStudy-RANS_k_eps/run01/boundary-cases/0.072_1e+03 | Parameters: [7.2e-02 1.0e+03]\n",
      "Directory: ../../../../../gpfs1/home/g/l/glove1/gitrepo/pymooCFD/optStudy-RANS_k_eps/run01/boundary-cases/0.072_1e+04 | Parameters: [7.2e-02 1.0e+04]\n",
      "Directory: ../../../../../gpfs1/home/g/l/glove1/gitrepo/pymooCFD/optStudy-RANS_k_eps/run01/boundary-cases/0.108_1e+03 | Parameters: [1.08e-01 1.00e+03]\n",
      "Directory: ../../../../../gpfs1/home/g/l/glove1/gitrepo/pymooCFD/optStudy-RANS_k_eps/run01/boundary-cases/0.108_1e+04 | Parameters: [1.08e-01 1.00e+04]\n"
     ]
    }
   ],
   "source": [
    "if opt_run.bnd_cases is not None:\n",
    "    for case in opt_run.bnd_cases:\n",
    "        print(case)"
   ]
  },
  {
   "cell_type": "code",
   "execution_count": 69,
   "id": "078dd960",
   "metadata": {},
   "outputs": [
    {
     "name": "stdout",
     "output_type": "stream",
     "text": [
      "[[7.20e-02 1.00e+03]\n",
      " [7.20e-02 1.00e+04]\n",
      " [1.08e-01 1.00e+03]\n",
      " [1.08e-01 1.00e+04]]\n"
     ]
    }
   ],
   "source": [
    "if opt_run.bnd_cases is not None:\n",
    "    bnd_vars = np.array([case.x for case in opt_run.bnd_cases])\n",
    "    print(bnd_vars)"
   ]
  },
  {
   "cell_type": "code",
   "execution_count": 79,
   "id": "3d909216",
   "metadata": {},
   "outputs": [
    {
     "data": {
      "image/png": "[encoded data removed]",
      "text/plain": [
       "<Figure size 720x576 with 1 Axes>"
      ]
     },
     "metadata": {
      "needs_background": "light"
     },
     "output_type": "display_data"
    }
   ],
   "source": [
    "if opt_run.bnd_cases is not None:\n",
    "    plot = Scatter(title='Design Space: Boundary Cases', \n",
    "                   legend=True,\n",
    "                   labels=opt_run.problem.BaseCase.var_labels, \n",
    "                   figsize=(10,8)\n",
    "                  )\n",
    "    for var in bnd_vars:\n",
    "        plot.add(var, label='[%.2f, %.2f]'%(var[0],var[1]), s=80)\n",
    "#     path = os.path.join(opt_run.rel_path, 'boundary-cases', 'bndPts_plot-varSpace.png')\n",
    "#     plot.save(path, dpi=100)\n",
    "    plot.show()"
   ]
  },
  {
   "cell_type": "code",
   "execution_count": 80,
   "id": "46868297",
   "metadata": {},
   "outputs": [
    {
     "ename": "AttributeError",
     "evalue": "'OptRun' object has no attribute 'bndCases'",
     "output_type": "error",
     "traceback": [
      "\u001b[0;31m---------------------------------------------------------------------------\u001b[0m",
      "\u001b[0;31mAttributeError\u001b[0m                            Traceback (most recent call last)",
      "Input \u001b[0;32mIn [80]\u001b[0m, in \u001b[0;36m<cell line: 1>\u001b[0;34m()\u001b[0m\n\u001b[0;32m----> 1\u001b[0m \u001b[38;5;28;01mif\u001b[39;00m \u001b[43moptRun\u001b[49m\u001b[38;5;241;43m.\u001b[39;49m\u001b[43mbndCases\u001b[49m \u001b[38;5;129;01mis\u001b[39;00m \u001b[38;5;129;01mnot\u001b[39;00m \u001b[38;5;28;01mNone\u001b[39;00m:\n\u001b[1;32m      2\u001b[0m     bndObjs \u001b[38;5;241m=\u001b[39m np\u001b[38;5;241m.\u001b[39marray([case\u001b[38;5;241m.\u001b[39mf \u001b[38;5;28;01mfor\u001b[39;00m case \u001b[38;5;129;01min\u001b[39;00m optRun\u001b[38;5;241m.\u001b[39mbndCases])\n\u001b[1;32m      3\u001b[0m     \u001b[38;5;28mprint\u001b[39m(bndObjs)\n",
      "\u001b[0;31mAttributeError\u001b[0m: 'OptRun' object has no attribute 'bndCases'"
     ]
    }
   ],
   "source": [
    "if optRun.bndCases is not None:\n",
    "    bndObjs = np.array([case.f for case in optRun.bndCases])\n",
    "    print(bndObjs)"
   ]
  },
  {
   "cell_type": "code",
   "execution_count": null,
   "id": "abfa396f",
   "metadata": {},
   "outputs": [],
   "source": [
    "if optRun.bndCases is not None:\n",
    "    plot = Scatter(title= 'Objective Space: Boundary Cases', \n",
    "                   legend = True, \n",
    "                   labels=optRun.BaseCase.obj_labels, \n",
    "                   figsize=(10,8)\n",
    "                  )\n",
    "    for obj in bndObjs:\n",
    "        plot.add(obj, label='[%.2f, %.2f]'%(obj[0],obj[1]), s=70, alpha=1)\n",
    "    path = os.path.join(optRun.runDir, 'boundary-cases', 'bndPts_plot-objSpace.png')\n",
    "    plot.save(path, dpi=100)\n",
    "    plot.show()"
   ]
  },
  {
   "cell_type": "code",
   "execution_count": null,
   "id": "6548327e",
   "metadata": {},
   "outputs": [],
   "source": [
    "if optRun.bndCases is not None:\n",
    "    # Non-dominated Sorting of Boundary Cases\n",
    "    n_survive = 1\n",
    "    F = np.array([case.f for case in optRun.bndCases])\n",
    "    X = np.array([case.x for case in optRun.bndCases])\n",
    "    from pymoo.util.nds.non_dominated_sorting import NonDominatedSorting\n",
    "    nds = NonDominatedSorting()\n",
    "    # do the non-dominated sorting until splitting front\n",
    "    fronts = nds.do(F, n_stop_if_ranked=n_survive)\n",
    "    front = fronts[0]\n",
    "    nonDom_CCobj = F[front, :][0]\n",
    "    nonDom_CCvar = X[front, :][0]\n",
    "    print('Non-dominated: Boundary Cases')\n",
    "    print('Parameters-', nonDom_CCvar)\n",
    "    print('Objectives-', nonDom_CCobj)"
   ]
  },
  {
   "cell_type": "markdown",
   "id": "6d87a6b8",
   "metadata": {},
   "source": [
    "### Mesh Studies"
   ]
  },
  {
   "cell_type": "code",
   "execution_count": null,
   "id": "2eaa29c5",
   "metadata": {},
   "outputs": [],
   "source": []
  },
  {
   "cell_type": "markdown",
   "id": "1d92c143",
   "metadata": {},
   "source": [
    "### Generation 1"
   ]
  },
  {
   "cell_type": "code",
   "execution_count": null,
   "id": "2f76f29a",
   "metadata": {},
   "outputs": [],
   "source": [
    "print(len(optRun.algorithm.history))\n",
    "print(optRun.algorithm.history)"
   ]
  },
  {
   "cell_type": "code",
   "execution_count": null,
   "id": "63ed40b9",
   "metadata": {},
   "outputs": [],
   "source": [
    "print(len(optRun.algorithm.history[0].pop))"
   ]
  },
  {
   "cell_type": "markdown",
   "id": "625c1448",
   "metadata": {},
   "source": [
    "##### Generation 1: Parameter Space"
   ]
  },
  {
   "cell_type": "code",
   "execution_count": null,
   "id": "15b9e638",
   "metadata": {},
   "outputs": [],
   "source": [
    "# optRun.plotDir = os.path.join(optRun.optDatDir, 'plots')\n",
    "# os.mkdir(optRun.plotDir)\n",
    "# optRun.BaseCase.var_labels = ['Number of Tasks', 'Number of CPUs per Task']\n",
    "# print(optRun.BaseCase.var_labels)"
   ]
  },
  {
   "cell_type": "code",
   "execution_count": null,
   "id": "f6f71c60",
   "metadata": {},
   "outputs": [],
   "source": [
    "popX = optRun.algorithm.history[0].pop.get('X')\n",
    "gen = optRun.algorithm.history[0].n_gen\n",
    "if len(popX) <= 10:\n",
    "    leg = True\n",
    "else:\n",
    "    leg = False\n",
    "plot = Scatter(title=f'Generation {gen} Design Space', \n",
    "               legend=leg, \n",
    "               labels=optRun.BaseCase.var_labels,\n",
    "#                figsize=(10,8)\n",
    "              )\n",
    "for ind_i, ind in enumerate(popX):\n",
    "    plot.add(ind, label=f'IND {ind_i+1}')\n",
    "# save parameter space plot\n",
    "plot.save(os.path.join(optRun.plotDir, 'gen1_var_space.png'), dpi=100)\n",
    "plot.show()"
   ]
  },
  {
   "cell_type": "markdown",
   "id": "9cc76471",
   "metadata": {},
   "source": [
    "##### Generation 1: Objective Space"
   ]
  },
  {
   "cell_type": "code",
   "execution_count": null,
   "id": "46279d15",
   "metadata": {},
   "outputs": [],
   "source": [
    "popF = optRun.algorithm.history[0].pop.get('F')\n",
    "gen = optRun.algorithm.history[0].n_gen\n",
    "if len(popF) <= 10:\n",
    "    leg = True\n",
    "else:\n",
    "    leg = False\n",
    "plot = Scatter(title=f'Generation {gen} Objective Space', \n",
    "               legend=leg, \n",
    "               labels=optRun.BaseCase.obj_labels\n",
    "              )\n",
    "for ind_i, ind in enumerate(popF):\n",
    "    plot.add(ind, label=f'IND {ind_i+1}')\n",
    "# save parameter space plot\n",
    "plot.save(os.path.join(optRun.plotDir, 'gen1_obj_space.png'), dpi=100)\n",
    "print(os.path.join(optRun.plotDir, 'gen1_obj_space.png'))\n",
    "plot.show()"
   ]
  },
  {
   "cell_type": "markdown",
   "id": "0976265c",
   "metadata": {},
   "source": [
    "####"
   ]
  },
  {
   "cell_type": "markdown",
   "id": "6368a494",
   "metadata": {},
   "source": [
    "##### Generation 1: Examine Parameter to Objective Space Mapping\n",
    "Plot every parameter and objective against each other "
   ]
  },
  {
   "cell_type": "code",
   "execution_count": null,
   "id": "b8b8e0f6",
   "metadata": {},
   "outputs": [],
   "source": [
    "# optRun.mapDir = os.path.join(optRun.optDatDir, 'mapGen1')\n",
    "# print(optRun.mapDir)\n",
    "# os.makedirs(optRun.mapDir, exist_ok=True)\n",
    "# optRun.mapDir = 'optRun-OscillCylinderOpt/run/mapGen1'\n",
    "# optRun.saveCP()\n"
   ]
  },
  {
   "cell_type": "code",
   "execution_count": null,
   "id": "b3c68933",
   "metadata": {},
   "outputs": [],
   "source": [
    "#%%capture\n",
    "# ^ suppresses output\n",
    "from scipy.stats import linregress\n",
    "##### Variable vs. Objective Plots ######\n",
    "# extract objectives and variables columns and plot them against each other\n",
    "var_labels = optRun.BaseCase.var_labels\n",
    "obj_labels = optRun.BaseCase.obj_labels\n",
    "popX = optRun.algorithm.history[0].pop.get('X').astype(float)\n",
    "popF = optRun.algorithm.history[0].pop.get('F').astype(float)\n",
    "mapPaths = []\n",
    "# plots = []\n",
    "fig = plt.figure(figsize=(10,8))\n",
    "for x_i, x in enumerate(popX.transpose()):\n",
    "    for f_i, f in enumerate(popF.transpose()):\n",
    "        plot = Scatter(title=f'{var_labels[x_i]} vs. {obj_labels[f_i]}',\n",
    "                       labels=[var_labels[x_i], obj_labels[f_i]], \n",
    "#                        figsize=(10,8)\n",
    "#                        legend = True,\n",
    "                      )\n",
    "        xf = np.column_stack((x,f))\n",
    "        plot.add(xf)\n",
    "        \n",
    "        ### Linear best fit line \n",
    "#         m, b, r_value, p_value, std_err = linregress(x, f)\n",
    "#         r_squared = r_value**2\n",
    "#         xy = np.column_stack((x, m*x+b))\n",
    "#         plot.n_dim = 2\n",
    "#         plot._do()\n",
    "#         plot.plot(plot.ax, 'line', xy, label='Best Linear Fit', c='r')\n",
    "#         plot.ax.text(min(xf[:,0]), max(xf[:,1]), 'Best Linear Fit', \n",
    "#                      horizontalalignment='left',\n",
    "#                      c = 'r',\n",
    "#                      size = 16\n",
    "#                     )\n",
    "#         plot.ax.text(max(xf[:,0]), max(xf[:,1]), r'$r^2$={0:.4f}'.format(r_squared), \n",
    "#                      horizontalalignment='right',\n",
    "#                      c = 'r',\n",
    "#                      size = 16\n",
    "#                     )\n",
    "\n",
    "        ### Polynomial best fit lines\n",
    "        plot.do()\n",
    "        plot.legend = True\n",
    "        c = ['r', 'g', 'm']\n",
    "        for d in range(1, 3+1):\n",
    "            coefs = np.polyfit(x, f, d)\n",
    "            y = np.polyval(coefs, x)\n",
    "            xy = np.column_stack((x, y))\n",
    "            xy = xy[xy[:, 0].argsort()]\n",
    "#             correlation = np.corrcoef(x, y)[0, 1]\n",
    "#             r_squared = correlation**2\n",
    "#             if d == 1:\n",
    "#                 label = 'Order %i Best Fit, $r^2$=%.2g' %(d, r_squared)\n",
    "#             else:\n",
    "#                 label = f'Order {d} Best Fit'\n",
    "            label = f'Order {d} Best Fit'\n",
    "#             plot.add(xy, label=f'Order {d} Best Fit', marker='x')\n",
    "            plot.ax.plot(xy[:,0], xy[:,1], label=label, c=c[d-1])\n",
    "        plot.do()\n",
    "        var_str = var_labels[x_i].replace(\" \", \"_\").replace(\"/\", \"|\").replace('%', 'precentage').replace(\"\\\\\", \"|\")\n",
    "        obj_str = obj_labels[f_i].replace(\" \", \"_\").replace(\"/\", \"|\").replace('%', 'precentage').replace(\"\\\\\", \"|\")\n",
    "        fName = f'{var_str}-vs-{obj_str}.png'\n",
    "        path = os.path.join(optRun.mapDir, fName)\n",
    "        mapPaths.append(path)\n",
    "        print(path)\n",
    "#         plots.append(plot)\n",
    "        plot.save(path, dpi=100)\n",
    "#         plot.show()\n",
    "#         ax = fig.add_subplot(111).add_axes(plot.ax)\n",
    "#         ax = plot.ax\n",
    "# fig.show()\n",
    "# fig, axes = plt.subplots(2,2)\n",
    "# print(fig)\n",
    "# for row in axes:\n",
    "#     for ax in row:\n",
    "#         print(ax)\n",
    "#         ax = plots[0].ax\n",
    "#         print(ax)\n",
    "# for row in axes:\n",
    "#     for ax in row:\n",
    "# #         ax = plots[0]\n",
    "#         print(ax)\n",
    "# print(plots[0].ax)\n",
    "# fig = plt.figure()\n",
    "# for i, plot in enumerate(plots):\n",
    "#     ax = fig.add_subplot(int(f'{i+1}11'))\n",
    "#     ax.text(1,1,i)\n",
    "    \n",
    "    \n",
    "\n",
    "# len_ax = round(len(plots)/2)\n",
    "# fig, ax = plt.subplots(len_ax,len_ax)\n",
    "# c = 0\n",
    "# for i in range(len_ax):\n",
    "#     for j in range(len_ax):\n",
    "#         if c <= len(plots):    \n",
    "#             print(plots[c])\n",
    "#             ax[i][j] = plots[c].ax\n",
    "#             c += 1"
   ]
  },
  {
   "cell_type": "code",
   "execution_count": null,
   "id": "33c179ed",
   "metadata": {},
   "outputs": [],
   "source": [
    "map_plots, map_paths = optRun.plotGen1()"
   ]
  },
  {
   "cell_type": "markdown",
   "id": "f9bd9eb1",
   "metadata": {},
   "source": [
    "#### Generation 1: Display Mapping\n",
    "Remember that for each plot the parameters(s) not labeled are also varying. \n",
    "\n",
    "Therefore, if a strong relationship is seen in these plots then it is likely a relationship independent of the other variable.\n"
   ]
  },
  {
   "cell_type": "code",
   "execution_count": null,
   "id": "8871aa8b",
   "metadata": {
    "scrolled": false
   },
   "outputs": [],
   "source": [
    "from IPython.display import Image, display\n",
    "for path in map_paths:\n",
    "    display(Image(filename=path))"
   ]
  },
  {
   "cell_type": "markdown",
   "id": "53eca44d",
   "metadata": {},
   "source": [
    "# Post-Process Optimization Study"
   ]
  },
  {
   "cell_type": "markdown",
   "id": "e5dcbb9d",
   "metadata": {},
   "source": [
    "### Optimization Algorithm Convergence"
   ]
  },
  {
   "cell_type": "code",
   "execution_count": 81,
   "id": "b09de62c",
   "metadata": {},
   "outputs": [],
   "source": [
    "#hist = optRun.algorithm.history\n",
    "#print(hist)\n",
    "#print(optRun.algorithm.callback)\n",
    "#for alg in hist:\n",
    "#    print(alg)\n",
    "#    print(alg.callback)\n",
    "# n_evals = np.array([e.evaluator.n_eval for e in hist])\n",
    "# print('Number of Evaluations:', n_evals)"
   ]
  },
  {
   "cell_type": "code",
   "execution_count": 83,
   "id": "530f14d8",
   "metadata": {},
   "outputs": [
    {
     "ename": "TypeError",
     "evalue": "'NoneType' object is not iterable",
     "output_type": "error",
     "traceback": [
      "\u001b[0;31m---------------------------------------------------------------------------\u001b[0m",
      "\u001b[0;31mTypeError\u001b[0m                                 Traceback (most recent call last)",
      "Input \u001b[0;32mIn [83]\u001b[0m, in \u001b[0;36m<cell line: 2>\u001b[0;34m()\u001b[0m\n\u001b[1;32m      1\u001b[0m opt_avg \u001b[38;5;241m=\u001b[39m []\n\u001b[0;32m----> 2\u001b[0m \u001b[38;5;28;01mfor\u001b[39;00m h \u001b[38;5;129;01min\u001b[39;00m opt_run\u001b[38;5;241m.\u001b[39malgorithm\u001b[38;5;241m.\u001b[39mhistory:\n\u001b[1;32m      3\u001b[0m     F_opt \u001b[38;5;241m=\u001b[39m np\u001b[38;5;241m.\u001b[39marray([o\u001b[38;5;241m.\u001b[39mF \u001b[38;5;28;01mfor\u001b[39;00m o \u001b[38;5;129;01min\u001b[39;00m h\u001b[38;5;241m.\u001b[39mopt])\n\u001b[1;32m      4\u001b[0m     F_avg \u001b[38;5;241m=\u001b[39m np\u001b[38;5;241m.\u001b[39mmean(F_opt, axis\u001b[38;5;241m=\u001b[39m\u001b[38;5;241m0\u001b[39m)\n",
      "\u001b[0;31mTypeError\u001b[0m: 'NoneType' object is not iterable"
     ]
    }
   ],
   "source": [
    "opt_avg = []\n",
    "for h in opt_run.algorithm.history:\n",
    "    F_opt = np.array([o.F for o in h.opt])\n",
    "    F_avg = np.mean(F_opt, axis=0)\n",
    "    #print(F_avg)\n",
    "    opt_avg.append(F_avg)\n",
    "opt_avg = np.array(opt_avg)"
   ]
  },
  {
   "cell_type": "code",
   "execution_count": null,
   "id": "2d3359af",
   "metadata": {},
   "outputs": [],
   "source": [
    "n_gen = [alg.n_gen for alg in optRun.algorithm.history]\n",
    "for obj_i in range(optRun.BaseCase.n_obj):\n",
    "#     print(opt_sum)\n",
    "    opt_obj = opt_avg[:,obj_i]\n",
    "#     print(opt_obj)\n",
    "    plt.suptitle('Convergence of Objective Mean')\n",
    "    plt.title(f'Objective {obj_i+1}: {obj_labels[obj_i]}')\n",
    "#     plt.plot(n_evals, opt_obj, \"--\")\n",
    "    plt.plot(n_gen, opt_obj, \"--\")\n",
    "    plt.xlabel('Number of Generations')\n",
    "    plt.ylabel('Mean of Optimum Objectives')\n",
    "#     plt.yscale(\"log\")\n",
    "    plt.savefig(os.path.join(optRun.plotDir, f'convergence-obj{obj_i}')) #_{obj_labels[obj_i]}'))\n",
    "    plt.show()"
   ]
  },
  {
   "cell_type": "code",
   "execution_count": null,
   "id": "969b6465",
   "metadata": {},
   "outputs": [],
   "source": [
    "opt_minL = 1000\n",
    "hist = optRun.algorithm.history\n",
    "for h in hist:\n",
    "    l = len(h.opt)\n",
    "    if l < opt_minL:\n",
    "        opt_minL = l\n",
    "print('Optimum minimum length:', opt_minL)\n",
    "opt_sum = []\n",
    "for h in hist:\n",
    "    F_opt = np.array([o.F for o in h.opt[:opt_minL]])\n",
    "    F_sum = np.sum(F_opt, axis=0)\n",
    "#     print(F_sum)\n",
    "    opt_sum.append(F_sum)\n",
    "opt_sum = np.array(opt_sum)"
   ]
  },
  {
   "cell_type": "code",
   "execution_count": null,
   "id": "7b62ec36",
   "metadata": {},
   "outputs": [],
   "source": [
    "n_gen = [alg.n_gen for alg in optRun.algorithm.history]\n",
    "for obj_i in range(optRun.BaseCase.n_obj):\n",
    "#     print(opt_sum)\n",
    "    opt_obj = opt_sum[:,obj_i]\n",
    "#     print(opt_obj)\n",
    "    plt.suptitle('Convergence of Objective Sum')\n",
    "    plt.title(f'Objective {obj_i+1}: {obj_labels[obj_i]}')\n",
    "#     plt.plot(n_evals, opt_obj, \"--\")\n",
    "    plt.plot(n_gen, opt_obj, \"--\")\n",
    "    plt.xlabel('Number of Generations')\n",
    "    plt.ylabel('Sum of Optimum Objectives')\n",
    "#     plt.yscale(\"log\")\n",
    "    plt.savefig(os.path.join(optRun.plotDir, f'convergence-obj{obj_i}')) #_{obj_labels[obj_i]}'))\n",
    "    plt.show()"
   ]
  },
  {
   "cell_type": "code",
   "execution_count": null,
   "id": "a8399a51",
   "metadata": {},
   "outputs": [],
   "source": [
    "hist = optRun.algorithm.history\n"
   ]
  },
  {
   "cell_type": "code",
   "execution_count": null,
   "id": "fcea953b",
   "metadata": {},
   "outputs": [],
   "source": [
    "opt = np.array([e.opt[0].F for e in hist])\n",
    "n_gen = [alg.n_gen for alg in optRun.algorithm.history]\n",
    "for obj_i in range(len(opt[0])):\n",
    "    opt_obj = opt[:,obj_i]\n",
    "#     print(opt_obj)\n",
    "    plt.suptitle('Convergence of Optimum')\n",
    "    plt.title(f'Objective {obj_i+1}: {obj_labels[obj_i]}')\n",
    "#     plt.plot(n_evals, opt_obj, \"--\")\n",
    "    plt.plot(n_gen, opt_obj, \"--\")\n",
    "    plt.xlabel('Number of Generations')\n",
    "    plt.ylabel('Optimum')\n",
    "#     plt.yscale(\"log\")\n",
    "    plt.savefig(os.path.join(optRun.plotDir, f'convergence-obj{obj_i}')) #_{obj_labels[obj_i]}'))\n",
    "    plt.show()"
   ]
  },
  {
   "cell_type": "markdown",
   "id": "8caa6dc1",
   "metadata": {},
   "source": [
    "### Performance Indicator - Hypervolume\n",
    "https://pymoo.org/misc/performance_indicator.html#Hypervolume\n",
    "\n",
    "Maximize hypervolume from reference point. "
   ]
  },
  {
   "cell_type": "code",
   "execution_count": null,
   "id": "7379c650",
   "metadata": {},
   "outputs": [],
   "source": [
    "all_obj = [alg.pop.get('F') for alg in hist]"
   ]
  },
  {
   "cell_type": "code",
   "execution_count": null,
   "id": "428660fe",
   "metadata": {},
   "outputs": [],
   "source": [
    "mean_all_obj = []\n",
    "for obj_i in range(optRun.BaseCase.n_obj):\n",
    "    mean_all_obj.append(np.mean([np.mean(obj_g[:,obj_i]) for obj_g in all_obj]))\n",
    "print(mean_all_obj)"
   ]
  },
  {
   "cell_type": "code",
   "execution_count": null,
   "id": "0771025f",
   "metadata": {},
   "outputs": [],
   "source": [
    "mean_g1_obj = []\n",
    "popF = hist[-1].pop.get('F')\n",
    "for obj_i in range(optRun.BaseCase.n_obj):\n",
    "    mean_g1_obj.append(np.mean(popF[:,obj_i]))\n",
    "print(mean_g1_obj)"
   ]
  },
  {
   "cell_type": "code",
   "execution_count": null,
   "id": "62018c4f",
   "metadata": {},
   "outputs": [],
   "source": [
    "ref_pt = [4, 4]\n",
    "ref_pt = mean_g1_obj\n",
    "ref_pt = mean_all_obj\n",
    "sf = 100000\n",
    "ref_pt = [mean_obj*sf for mean_obj in mean_g1_obj]"
   ]
  },
  {
   "cell_type": "code",
   "execution_count": null,
   "id": "ee9321d2",
   "metadata": {},
   "outputs": [],
   "source": [
    "from pymoo.factory import get_performance_indicator\n",
    "hv = get_performance_indicator(\"hv\", ref_point=np.array(ref_pt))"
   ]
  },
  {
   "cell_type": "code",
   "execution_count": null,
   "id": "bafcfac9",
   "metadata": {},
   "outputs": [],
   "source": [
    "for gen, alg in enumerate(optRun.algorithm.history):\n",
    "    print('Generation', gen+1, f\"hypervolume {hv.do(alg.pop.get('X'))}\")"
   ]
  },
  {
   "cell_type": "markdown",
   "id": "d65907bf",
   "metadata": {},
   "source": [
    "### Latest Generation "
   ]
  },
  {
   "cell_type": "code",
   "execution_count": null,
   "id": "0e86ba5d",
   "metadata": {},
   "outputs": [],
   "source": [
    "max_disp_len = 10"
   ]
  },
  {
   "cell_type": "code",
   "execution_count": null,
   "id": "ee23f096",
   "metadata": {},
   "outputs": [],
   "source": [
    "if len(optRun.algorithm.pop.get('X')) < max_disp_len:\n",
    "    print('FINAL POPULATION')\n",
    "    print('Parameters')\n",
    "    print(optRun.algorithm.pop.get('X'))\n",
    "    print('Objectives')\n",
    "    print(optRun.algorithm.pop.get('F'))"
   ]
  },
  {
   "cell_type": "code",
   "execution_count": null,
   "id": "68deadec",
   "metadata": {},
   "outputs": [],
   "source": [
    "latest_pop = optRun.algorithm.history[-1].pop\n",
    "latest_popX = latest_pop.get('X')\n",
    "latest_popF = latest_pop.get('F')"
   ]
  },
  {
   "cell_type": "code",
   "execution_count": null,
   "id": "5ede8ed8",
   "metadata": {},
   "outputs": [],
   "source": [
    "plot = Scatter(title='Latest Generations Design Space', legend=False, labels=optRun.BaseCase.var_labels)\n",
    "for ind_i, ind in enumerate(latest_popX):\n",
    "    plot.add(ind, label=f'IND {ind_i+1}')\n",
    "# save parameter space plot\n",
    "plot.save(os.path.join(optRun.plotDir, 'latest_var_space.png'), dpi=100)\n",
    "plot.show()"
   ]
  },
  {
   "cell_type": "code",
   "execution_count": null,
   "id": "d96557ec",
   "metadata": {},
   "outputs": [],
   "source": [
    "plot = Scatter(title='Latest Generations Objective Space', \n",
    "               legend=False, \n",
    "               labels=optRun.BaseCase.obj_labels,\n",
    "               s=60,\n",
    "               alpha=0.9\n",
    "              )\n",
    "for ind_i, ind in enumerate(latest_popF):\n",
    "    plot.add(ind, label=f'IND {ind_i+1}')\n",
    "# save objective space plot\n",
    "plot.save(os.path.join(optRun.plotDir, 'latest_obj_space.png'), dpi=100)\n",
    "plot.show()"
   ]
  },
  {
   "cell_type": "markdown",
   "id": "f0ac6fe0",
   "metadata": {},
   "source": [
    "### Optimum"
   ]
  },
  {
   "cell_type": "code",
   "execution_count": null,
   "id": "572de1d5",
   "metadata": {},
   "outputs": [],
   "source": [
    "assert optRun.algorithm.opt is not None\n",
    "print('Number of Optimum:', len(optRun.algorithm.opt))"
   ]
  },
  {
   "cell_type": "code",
   "execution_count": null,
   "id": "658ba63f",
   "metadata": {},
   "outputs": [],
   "source": [
    "# optRun.BaseCase.var_labels = [\"Amplitude [radians/s]\", \"Frequency [cycles/s]\", \"Reynolds Number\"]\n",
    "print(optRun.BaseCase.var_labels)\n",
    "print()\n",
    "labels = [\"Amplitude\", \"Frequency\", \"Reynolds Number\"]\n",
    "labels = [\"Amplitude [radians/s]\", \"Frequency [cycles/s]\", \"Reynolds Number\"]\n",
    "n_dim = len(optRun.BaseCase.var_labels)\n",
    "labels_proc = [f\"${labels}_{{{i}}}$\" for i in range(1, n_dim + 1)]\n",
    "if isinstance(labels, list):\n",
    "    print(labels)\n",
    "    \n",
    "print(labels_proc)"
   ]
  },
  {
   "cell_type": "code",
   "execution_count": null,
   "id": "2878ff25",
   "metadata": {},
   "outputs": [],
   "source": [
    "#optRun.BaseCase.var_labels = optRun.BaseCase.var_labels.tolist()"
   ]
  },
  {
   "cell_type": "code",
   "execution_count": null,
   "id": "2e61358e",
   "metadata": {},
   "outputs": [],
   "source": [
    "n_opt_disp = 50"
   ]
  },
  {
   "cell_type": "code",
   "execution_count": null,
   "id": "0f02d08c",
   "metadata": {},
   "outputs": [],
   "source": [
    "# opt_pop = optRun.algorithm.opt[:n_opt_disp]\n",
    "# gen = optRun.algorithm.n_gen\n",
    "# if len(opt_pop) < 20:\n",
    "#     leg = True\n",
    "# else:\n",
    "#     leg = False\n",
    "# varPlot = Scatter(title=f'{optRun.optName}: Optimum - Generation {gen} - Design Space', \n",
    "#                   figsize=(10,8),\n",
    "#                   labels=optRun.BaseCase.var_labels[::2],\n",
    "#                   legend=leg\n",
    "#                  )\n",
    "# #varPlot.axis_labels = optRun.BaseCase.var_labels\n",
    "# for opt_i, opt in enumerate(opt_pop):\n",
    "#     varPlot.add(opt.get('X')[::2], label=f'opt{opt_i}', s=70)\n",
    "# varPlot.save(os.path.join(optRun.plotDir, f'optimum-gen{gen}-varSpace-Re-Amp.png'), dpi=100)\n",
    "# varPlot.show()"
   ]
  },
  {
   "cell_type": "code",
   "execution_count": null,
   "id": "98103d43",
   "metadata": {},
   "outputs": [],
   "source": [
    "# opt_pop = optRun.algorithm.opt[:n_opt_disp]\n",
    "# gen = optRun.algorithm.n_gen\n",
    "# if len(opt_pop) < 20:\n",
    "#     leg = True\n",
    "# else:\n",
    "#     leg = False\n",
    "# varPlot = Scatter(title=f'{optRun.optName}: Optimum - Generation {gen} - Design Space', \n",
    "#                   figsize=(10,8),\n",
    "#                   labels=optRun.BaseCase.var_labels[:2],\n",
    "#                   legend=leg\n",
    "#                  )\n",
    "# #varPlot.axis_labels = optRun.BaseCase.var_labels\n",
    "# for opt_i, opt in enumerate(opt_pop):\n",
    "#     varPlot.add(opt.get('X')[:2], label=f'opt{opt_i}', s=70)\n",
    "# varPlot.save(os.path.join(optRun.plotDir, f'optimum-gen{gen}-varSpace-freq-Amp.png'), dpi=100)\n",
    "# varPlot.show()"
   ]
  },
  {
   "cell_type": "code",
   "execution_count": null,
   "id": "8d8e6c57",
   "metadata": {},
   "outputs": [],
   "source": [
    "# opt_pop = optRun.algorithm.opt[:n_opt_disp]\n",
    "# gen = optRun.algorithm.n_gen\n",
    "# if len(opt_pop) < 20:\n",
    "#     leg = True\n",
    "# else:\n",
    "#     leg = False\n",
    "# varPlot = Scatter(title=f'{optRun.optName}: Optimum - Generation {gen} - Design Space', \n",
    "#                   figsize=(10,8),\n",
    "#                   labels=optRun.BaseCase.var_labels[1:],\n",
    "#                   legend=leg\n",
    "#                  )\n",
    "# #varPlot.axis_labels = optRun.BaseCase.var_labels\n",
    "# for opt_i, opt in enumerate(opt_pop):\n",
    "#     varPlot.add(opt.get('X')[1:], label=f'opt{opt_i}', s=70)\n",
    "# varPlot.save(os.path.join(optRun.plotDir, f'optimum-gen{gen}-varSpace-Re-freq.png'), dpi=100)\n",
    "# varPlot.show()"
   ]
  },
  {
   "cell_type": "code",
   "execution_count": null,
   "id": "1b4ab1f7",
   "metadata": {},
   "outputs": [],
   "source": [
    "opt_pop = optRun.algorithm.opt[:n_opt_disp]\n",
    "gen = optRun.algorithm.n_gen\n",
    "if len(opt_pop) < 20:\n",
    "    leg = True\n",
    "else:\n",
    "    leg = False\n",
    "varPlot = Scatter(title=f'{optRun.optName}: Optimum - Generation {gen} - Design Space', \n",
    "                  figsize=(10,8),\n",
    "                  labels=optRun.BaseCase.var_labels,\n",
    "                  legend=leg\n",
    "                 )\n",
    "varPlot.axis_labels = optRun.BaseCase.var_labels\n",
    "for opt_i, opt in enumerate(opt_pop):\n",
    "    varPlot.add(opt.get('X'), label=f'opt{opt_i}', s=70)\n",
    "varPlot.save(os.path.join(optRun.plotDir, f'optimum-gen{gen}-varSpace.png'), dpi=100)\n",
    "varPlot.show()"
   ]
  },
  {
   "cell_type": "code",
   "execution_count": null,
   "id": "2eef3f77",
   "metadata": {},
   "outputs": [],
   "source": [
    "opt_pop = optRun.algorithm.opt[:n_opt_disp]\n",
    "gen = optRun.algorithm.n_gen\n",
    "if len(opt_pop) < 20:\n",
    "    leg = True\n",
    "else:\n",
    "    leg = False\n",
    "plot = Scatter(title=f'{optRun.optName}: Optimum - Generation {gen} - Objective Space', \n",
    "                  figsize=(10,8),\n",
    "                  labels=optRun.BaseCase.obj_labels,\n",
    "                  legend=leg\n",
    "                 )\n",
    "for opt_i, opt in enumerate(opt_pop):\n",
    "    plot.add(opt.get('F'), label=f'opt{opt_i}', s=70)\n",
    "plot.save(os.path.join(optRun.plotDir, f'optimum-gen{gen}-objSpace.png'), dpi=100)\n",
    "plot.show()"
   ]
  },
  {
   "cell_type": "markdown",
   "id": "718e469b",
   "metadata": {},
   "source": [
    "### Print Every Generation"
   ]
  },
  {
   "cell_type": "code",
   "execution_count": 41,
   "id": "23fdab53",
   "metadata": {},
   "outputs": [
    {
     "ename": "TypeError",
     "evalue": "'<' not supported between instances of 'NoneType' and 'int'",
     "output_type": "error",
     "traceback": [
      "\u001b[0;31m---------------------------------------------------------------------------\u001b[0m",
      "\u001b[0;31mTypeError\u001b[0m                                 Traceback (most recent call last)",
      "Input \u001b[0;32mIn [41]\u001b[0m, in \u001b[0;36m<cell line: 1>\u001b[0;34m()\u001b[0m\n\u001b[0;32m----> 1\u001b[0m \u001b[38;5;28;01mif\u001b[39;00m \u001b[43moptRun\u001b[49m\u001b[38;5;241;43m.\u001b[39;49m\u001b[43malgorithm\u001b[49m\u001b[38;5;241;43m.\u001b[39;49m\u001b[43mn_gen\u001b[49m\u001b[43m \u001b[49m\u001b[38;5;241;43m<\u001b[39;49m\u001b[43m \u001b[49m\u001b[38;5;241;43m10\u001b[39;49m \u001b[38;5;129;01mand\u001b[39;00m \u001b[38;5;28mlen\u001b[39m(optRun\u001b[38;5;241m.\u001b[39malgorithm\u001b[38;5;241m.\u001b[39mpop\u001b[38;5;241m.\u001b[39mget(\u001b[38;5;124m'\u001b[39m\u001b[38;5;124mX\u001b[39m\u001b[38;5;124m'\u001b[39m)) \u001b[38;5;241m<\u001b[39m \u001b[38;5;241m10\u001b[39m:\n\u001b[1;32m      2\u001b[0m     \u001b[38;5;28mprint\u001b[39m(\u001b[38;5;124m'\u001b[39m\u001b[38;5;124mEVERY GENERATION\u001b[39m\u001b[38;5;124m'\u001b[39m)\n\u001b[1;32m      3\u001b[0m     \u001b[38;5;28;01mfor\u001b[39;00m gen \u001b[38;5;129;01min\u001b[39;00m \u001b[38;5;28mrange\u001b[39m(algorithm\u001b[38;5;241m.\u001b[39mn_gen):\n",
      "\u001b[0;31mTypeError\u001b[0m: '<' not supported between instances of 'NoneType' and 'int'"
     ]
    }
   ],
   "source": [
    "if optRun.algorithm.n_gen < 10 and len(optRun.algorithm.pop.get('X')) < 10:\n",
    "    print('EVERY GENERATION')\n",
    "    for gen in range(algorithm.n_gen):\n",
    "        print(f'generation {gen}')\n",
    "        var_g = algorithm.callback.data['var'][gen]\n",
    "        obj_g = algorithm.callback.data['obj'][gen]\n",
    "        for ind in range(len(var_g)):\n",
    "            var_i = var_g[ind]\n",
    "            obj_i = obj_g[ind]\n",
    "            print(f'ind{ind}: ', end='')\n",
    "            for n in range(len(var_i)):\n",
    "                print(f'{var_labels[n]}: {var_i[n]}', end=' ')\n",
    "            print(' // ', end='')\n",
    "            for n in range(len(obj_i)):\n",
    "                print(obj_labels[n] + ':' + '%.3f' % obj_i[n], end=' ')\n",
    "            print()"
   ]
  },
  {
   "cell_type": "markdown",
   "id": "c138bc40",
   "metadata": {},
   "source": [
    "### All Design Points"
   ]
  },
  {
   "cell_type": "code",
   "execution_count": null,
   "id": "2dbe7e9c",
   "metadata": {},
   "outputs": [],
   "source": [
    "if opt_run.BaseCase.n_var > 3: # plot without labels\n",
    "    print('CAN NOT REPRESENT DESIGN SPACE IN 3D. USING ')\n",
    "    plot = Scatter()\n",
    "    plot.add(algorithm.pop.get('X')[:10])\n",
    "\n",
    "# All design points\n",
    "else: \n",
    "    if opt_run.algorithm.n_gen < 15:\n",
    "        leg = True\n",
    "    else:\n",
    "        leg = False\n",
    "    plot = Scatter(title='Entire Design Space', legend=leg, labels=var_labels)\n",
    "    for g, alg in enumerate(hist):\n",
    "        plot.add(alg.pop.get('X'), label=f'GEN {g+1}')\n",
    "\n",
    "# save plot to png file\n",
    "plot.save(os.path.join(opt_run.plotDir, 'entire_design_space.png'), dpi=100)\n",
    "plot.show()"
   ]
  },
  {
   "cell_type": "markdown",
   "id": "d3c8a028",
   "metadata": {},
   "source": [
    "### All Objective Points"
   ]
  },
  {
   "cell_type": "code",
   "execution_count": null,
   "id": "8c5c7785",
   "metadata": {},
   "outputs": [],
   "source": [
    "if opt_run.algorithm.n_gen < 15:\n",
    "    leg = True\n",
    "else:\n",
    "    leg = False\n",
    "plot = Scatter(title='Entire Objective Space', legend=leg, labels=obj_labels)\n",
    "for g, alg in enumerate(hist):  # range(algorithm.n_gen)\n",
    "#     if g == 0:\n",
    "#         continue\n",
    "    plot.add(alg.pop.get('F'), label=f'GEN {g+1}')\n",
    "# if pf is not None:\n",
    "#     plot.add(pf, plot_type=\"line\", color=\"black\", alpha=0.7)\n",
    "plot.save(os.path.join(opt_run.plotDir, 'entire_obj_space.png'), dpi=100)\n",
    "plot.show()"
   ]
  },
  {
   "cell_type": "code",
   "execution_count": null,
   "id": "bc9fae8b",
   "metadata": {},
   "outputs": [],
   "source": [
    "algs = optRun.algorithm.history\n",
    "algs = algs[1:]\n",
    "optRun.plotOptSpaces(algs, 'no_gen1')"
   ]
  },
  {
   "cell_type": "code",
   "execution_count": null,
   "id": "0cc194ca",
   "metadata": {},
   "outputs": [],
   "source": [
    "def plotOptSpaces(self, algs, fileName, folder=None , maxLegLen=15):\n",
    "    if folder is None:\n",
    "        folder = self.plotDir\n",
    "    if len(algs) < maxLegLen:\n",
    "        leg = True\n",
    "    else:\n",
    "        leg = False\n",
    "    obj_plot = Scatter(title='Objective Space', legend=leg, labels=self.BaseCase.obj_labels)\n",
    "    var_plot = Scatter(title='Design Space', legend=leg, labels=self.BaseCase.var_labels)\n",
    "    for g, alg in enumerate(algs):  # range(algorithm.n_gen)\n",
    "        obj_plot.add(alg.pop.get('F'), label=f'GEN {g+1}')\n",
    "        var_plot.add(alg.pop.get('X'), label=f'GEN {g+1}')\n",
    "    obj_plot.save(os.path.join(folder, fileName+'-obj_space.png'), dpi=100)\n",
    "    var_plot.save(os.path.join(folder, fileName+'-var_space.png'), dpi=100)\n",
    "    #plot.show()"
   ]
  },
  {
   "cell_type": "markdown",
   "id": "f4d77fe5",
   "metadata": {},
   "source": [
    "### Last 10 Generation of Parameter Space"
   ]
  },
  {
   "cell_type": "code",
   "execution_count": null,
   "id": "859f0009",
   "metadata": {},
   "outputs": [],
   "source": [
    "# Last 10 generations\n",
    "# last 10 gens. design points\n",
    "hist = optRun.algorithm.history\n",
    "if optRun.algorithm.n_gen > 10:\n",
    "    #### Design Space ####\n",
    "    if optRun.BaseCase.n_var > 3: # plot without labels\n",
    "        print('CAN NOT REPRESENT OBJECTIVE SPACE IN 3D. Using Pairwise Scatter Plots')\n",
    "        plot = Scatter(figsize=(10, 8))\n",
    "        plot.add(algorithm.pop.get('X')[:10])\n",
    "    # Last 10 generations of objective points\n",
    "    else: \n",
    "        plot = Scatter(title='Last 10 Generations Design Space', legend=True, \n",
    "                       figsize=(10, 8),\n",
    "                       labels=optRun.BaseCase.var_labels\n",
    "                      )\n",
    "        gen = len(hist)\n",
    "        for g in range(gen-10, gen):\n",
    "            plot.add(hist[g].pop.get('X'), label=f'GEN {g+1}',\n",
    "                     alpha=0.8\n",
    "                    )\n",
    "    # save design space plot\n",
    "    plot.save(os.path.join(optRun.plotDir, 'final_10_design_space.png'), dpi=100)\n",
    "    plot.show()"
   ]
  },
  {
   "cell_type": "markdown",
   "id": "4d7c70a2",
   "metadata": {},
   "source": [
    "### Last 10 Generation of Objective Space"
   ]
  },
  {
   "cell_type": "code",
   "execution_count": null,
   "id": "e31687c6",
   "metadata": {},
   "outputs": [],
   "source": [
    "### Objective Space ####\n",
    "if optRun.algorithm.n_gen > 10:\n",
    "    if optRun.BaseCase.n_obj >3:\n",
    "        plot = Scatter()\n",
    "        plot.add(optRun.algorithm.pop.get('F')[:10])\n",
    "    else:\n",
    "        # last 10 gens. objective points\n",
    "        plot = Scatter(title='Last 10 Generations Objective Space', \n",
    "                       legend=True, \n",
    "                       labels=optRun.BaseCase.obj_labels,\n",
    "                       figsize=(10,8)\n",
    "                      )\n",
    "        gen = len(hist)\n",
    "        for g in range(gen-10, gen):\n",
    "            plot.add(hist[g].pop.get('F'), label=f'GEN {g+1}')\n",
    "\n",
    "    # save objective space plot\n",
    "    plot.save(os.path.join(optRun.plotDir, 'final_10_obj_space.png'), dpi=100)\n",
    "    plot.show()"
   ]
  },
  {
   "cell_type": "markdown",
   "id": "53580589",
   "metadata": {},
   "source": [
    "### Extract Data "
   ]
  },
  {
   "cell_type": "code",
   "execution_count": null,
   "id": "fa10d2d1",
   "metadata": {},
   "outputs": [],
   "source": [
    "checkpoint = optRun.algorithm"
   ]
  },
  {
   "cell_type": "code",
   "execution_count": null,
   "id": "01822b51",
   "metadata": {},
   "outputs": [],
   "source": [
    "# is the full history of the algorithm saved? \n",
    "print('Checkpoint Objective Population:\\n', checkpoint.pop.get('F')[:5])\n",
    "if np.all(checkpoint.pop.get('F')) is not None: \n",
    "    algorithm = checkpoint\n",
    "    print('Checkpoint @ end of generation')\n",
    "    print(f'     Generation - {algorithm.n_gen}, {algorithm.callback.gen}')\n",
    "else:\n",
    "    print('Checkpoint mid-generation')\n",
    "    print('     \"algorithm\" variable represents last completed generation')\n",
    "    print('     \"algorithm.callback\" unusable with history objects')\n",
    "    algorithm = checkpoint.history[-1]\n",
    "    print(f'     Generation - {algorithm.n_gen}, {algorithm.callback.gen}')"
   ]
  },
  {
   "cell_type": "markdown",
   "id": "395e97e7",
   "metadata": {},
   "source": [
    "# Preperation for Continuation"
   ]
  },
  {
   "cell_type": "code",
   "execution_count": null,
   "id": "572d2858",
   "metadata": {},
   "outputs": [],
   "source": [
    "optRun.algorithm.termination"
   ]
  },
  {
   "cell_type": "code",
   "execution_count": null,
   "id": "1210976a",
   "metadata": {},
   "outputs": [],
   "source": [
    "from pymoo.factory import get_termination\n",
    "term = get_termination('n_gen', 30)\n",
    "print(term)"
   ]
  },
  {
   "cell_type": "code",
   "execution_count": null,
   "id": "ea7d225b",
   "metadata": {},
   "outputs": [],
   "source": [
    "# optRun.algorithm.termination = term\n",
    "#optRun.saveCP()"
   ]
  },
  {
   "cell_type": "code",
   "execution_count": null,
   "id": "11e2c46a",
   "metadata": {},
   "outputs": [],
   "source": []
  },
  {
   "cell_type": "code",
   "execution_count": null,
   "id": "caa80952",
   "metadata": {},
   "outputs": [],
   "source": []
  }
 ],
 "metadata": {
  "kernelspec": {
   "display_name": "Python 3 (ipykernel)",
   "language": "python",
   "name": "python3"
  },
  "language_info": {
   "codemirror_mode": {
    "name": "ipython",
    "version": 3
   },
   "file_extension": ".py",
   "mimetype": "text/x-python",
   "name": "python",
   "nbconvert_exporter": "python",
   "pygments_lexer": "ipython3",
   "version": "3.10.4"
  }
 },
 "nbformat": 4,
 "nbformat_minor": 5
}
