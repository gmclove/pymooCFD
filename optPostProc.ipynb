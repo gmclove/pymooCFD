{
 "cells": [
  {
   "cell_type": "markdown",
   "id": "974008b1",
   "metadata": {},
   "source": [
    "### Imports"
   ]
  },
  {
   "cell_type": "code",
   "execution_count": 1,
   "id": "40b6bf4c",
   "metadata": {},
   "outputs": [],
   "source": [
    "import os\n",
    "import numpy as np\n",
    "import matplotlib.pyplot as plt\n",
    "from pprint import pprint"
   ]
  },
  {
   "cell_type": "code",
   "execution_count": 2,
   "id": "91caf71a",
   "metadata": {},
   "outputs": [],
   "source": [
    "import matplotlib\n",
    "%matplotlib inline\n",
    "plt.set_loglevel(\"info\")"
   ]
  },
  {
   "cell_type": "code",
   "execution_count": 3,
   "id": "7a385221",
   "metadata": {},
   "outputs": [],
   "source": [
    "# %matplotlib qt\n",
    "# %matplotlib gtk3\n",
    "# %matplotlib gtk4\n",
    "# %matplotlib ipympl\n",
    "# %matplotlib osx\n",
    "# %matplotlib tk\n",
    "# %matplotlib notebook\n",
    "# %matplotlib wx\n",
    "# matplotlib.use('webagg')"
   ]
  },
  {
   "cell_type": "code",
   "execution_count": 4,
   "id": "9cbe6408",
   "metadata": {},
   "outputs": [],
   "source": [
    "from pymoo.visualization.scatter import Scatter"
   ]
  },
  {
   "cell_type": "markdown",
   "id": "011c9a7b",
   "metadata": {},
   "source": [
    "### Helper Function"
   ]
  },
  {
   "cell_type": "code",
   "execution_count": 5,
   "id": "52235918",
   "metadata": {},
   "outputs": [],
   "source": [
    "from IPython.display import Image, display\n",
    "import glob\n",
    "\n",
    "def showImages(listOfImageNames, **kwargs):\n",
    "    if isinstance(listOfImageNames, str):\n",
    "        listOfImageNames = [listOfImageNames]\n",
    "    listOfImageNames = [os.path.join(opt_run.abs_path, imageName) \n",
    "                            for imageName in listOfImageNames if opt_run.abs_path not in imageName]\n",
    "    listOfImageNames = [glob.glob(imageName) for imageName in listOfImageNames]\n",
    "    listOfImageNames = [item for sublist in listOfImageNames for item in sublist]\n",
    "    print('Showing Images')\n",
    "    print(listOfImageNames)\n",
    "    for imageName in listOfImageNames:\n",
    "        print('DISPLAYING:', imageName)\n",
    "        display(Image(filename=imageName), **kwargs)\n",
    "        "
   ]
  },
  {
   "cell_type": "markdown",
   "id": "79d643ec",
   "metadata": {},
   "source": [
    "# Select Study"
   ]
  },
  {
   "cell_type": "code",
   "execution_count": 6,
   "id": "3428ea3f",
   "metadata": {},
   "outputs": [],
   "source": [
    "from pymooCFD.core.minimizeCFD import MinimizeCFD\n",
    "# from pymooCFD.problems.rans_k_eps import RANS_k_eps as BaseCase\n",
    "# from pymooCFD.problems.oscill_cyl import OscillCylinder as BaseCase\n",
    "from pymooCFD.problems.oscill_cyl import OscillCylinder_SLURM as BaseCase\n",
    "# from pymooCFD.problems.oscill_cyl import OscillCylinder_Re500_SLURM as BaseCase\n",
    "# from pymooCFD.problems.rans_jet import RANSJet as BaseCase\n",
    "# from pymooCFD.problems.rans_jet import RANSJet_x3 as BaseCase\n",
    "# from pymooCFD.problems.air_purifier import Room2D_AP as BaseCase\n",
    "# from pymooCFD.problems.air_purifier import Room2D_2AP as BaseCase"
   ]
  },
  {
   "cell_type": "code",
   "execution_count": 7,
   "id": "2df2efaa",
   "metadata": {
    "scrolled": true
   },
   "outputs": [
    {
     "name": "stderr",
     "output_type": "stream",
     "text": [
      "07-28 14:16 :: INFO     :: optStudy-OscillCylinder_SLURM :: ~~~~~~~~~~~~~~~~~~~~~~~~~~\n",
      "07-28 14:16 :: INFO     :: optStudy-OscillCylinder_SLURM :: INITIALIZING - Pickle Path\n",
      "07-28 14:16 :: INFO     :: optStudy-OscillCylinder_SLURM :: \tCHECKPOINT LOADED: optStudy-OscillCylinder_SLURM/MinimizeCFD.checkpoint.npy\n",
      "07-28 14:16 :: DEBUG    :: optStudy-OscillCylinder_SLURM :: \tRESTART DICTONARY\n",
      "07-28 14:16 :: DEBUG    :: optStudy-OscillCylinder_SLURM :: \t\topt_runs: {}\n",
      "07-28 14:16 :: DEBUG    :: optStudy-OscillCylinder_SLURM :: \t\tcase_runs: {}\n",
      "07-28 14:16 :: DEBUG    :: optStudy-OscillCylinder_SLURM :: \t\tCFDCase: <class 'pymooCFD.problems.oscill_cyl.OscillCylinder_SLURM'>\n",
      "07-28 14:16 :: DEBUG    :: optStudy-OscillCylinder_SLURM :: \t\tCFDGeneticAlgorithm: <class 'pymooCFD.core.pymooBase.CFDGeneticAlgorithm'>\n",
      "07-28 14:16 :: DEBUG    :: optStudy-OscillCylinder_SLURM :: \t\tCFDGeneticProblem: <class 'pymooCFD.core.pymooBase.CFDGeneticProblem'>\n",
      "07-28 14:16 :: DEBUG    :: optStudy-OscillCylinder_SLURM :: \t\tabs_path: /media/ydubief/M2CE-14TB-1/gitrepo/pymooCFD/optStudy-OscillCylinder_SLURM\n",
      "07-28 14:16 :: DEBUG    :: optStudy-OscillCylinder_SLURM :: \t\tlog_level: 10\n",
      "07-28 14:16 :: DEBUG    :: optStudy-OscillCylinder_SLURM :: \t\tlogger: <Logger optStudy-OscillCylinder_SLURM (DEBUG)>\n",
      "07-28 14:16 :: DEBUG    :: optStudy-OscillCylinder_SLURM :: \t\tcp_init: False\n",
      "07-28 14:16 :: DEBUG    :: optStudy-OscillCylinder_SLURM :: \tCHECKPOINT DICTONARY\n",
      "07-28 14:16 :: DEBUG    :: optStudy-OscillCylinder_SLURM :: \t\topt_runs: {'default_run': <pymooCFD.core.optRun.OptRun object at 0x7f37fdaf4f40>}\n",
      "07-28 14:16 :: DEBUG    :: optStudy-OscillCylinder_SLURM :: \t\tcase_runs: {'2.0_0.4': <pymooCFD.problems.oscill_cyl.OscillCylinder_SLURM object at 0x7f36eec30d00>}\n",
      "07-28 14:16 :: DEBUG    :: optStudy-OscillCylinder_SLURM :: \t\tCFDCase: <class 'pymooCFD.problems.oscill_cyl.OscillCylinder_SLURM'>\n",
      "07-28 14:16 :: DEBUG    :: optStudy-OscillCylinder_SLURM :: \t\tCFDGeneticAlgorithm: <class 'pymooCFD.core.pymooBase.CFDGeneticAlgorithm'>\n",
      "07-28 14:16 :: DEBUG    :: optStudy-OscillCylinder_SLURM :: \t\tCFDGeneticProblem: <class 'pymooCFD.core.pymooBase.CFDGeneticProblem'>\n",
      "07-28 14:16 :: DEBUG    :: optStudy-OscillCylinder_SLURM :: \t\tabs_path: /gpfs1/home/g/l/glove1/gitrepo/pymooCFD/optStudy-OscillCylinder_SLURM\n",
      "07-28 14:16 :: DEBUG    :: optStudy-OscillCylinder_SLURM :: \t\tlog_level: 10\n",
      "07-28 14:16 :: DEBUG    :: optStudy-OscillCylinder_SLURM :: \t\tlogger: <Logger optStudy-OscillCylinder_SLURM (DEBUG)>\n",
      "07-28 14:16 :: DEBUG    :: optStudy-OscillCylinder_SLURM :: \t\tcp_init: True\n",
      "\u001b[93m07-28 14:16 :: WARNING  :: optStudy-OscillCylinder_SLURM :: {   'dictionary_item_added': [root.opt_runs['default_run'], root.case_runs['2.0_0.4']],\n",
      "07-28 14:16 :: WARNING  :: optStudy-OscillCylinder_SLURM ::     'values_changed': {   'root.abs_path': {   'new_value': '/gpfs1/home/g/l/glove1/gitrepo/pymooCFD/optStudy-OscillCylinder_SLURM',\n",
      "07-28 14:16 :: WARNING  :: optStudy-OscillCylinder_SLURM ::                                                'old_value': '/media/ydubief/M2CE-14TB-1/gitrepo/pymooCFD/optStudy-OscillCylinder_SLURM'},\n",
      "07-28 14:16 :: WARNING  :: optStudy-OscillCylinder_SLURM ::                           'root.cp_init': {   'new_value': True,\n",
      "07-28 14:16 :: WARNING  :: optStudy-OscillCylinder_SLURM ::                                               'old_value': False}}}\u001b[0m\n",
      "07-28 14:16 :: INFO     :: optStudy-OscillCylinder_SLURM :: LOADING: <pymooCFD.core.optRun.OptRun object at 0x7f37fdaf4f40> FROM /gpfs1/home/g/l/glove1/gitrepo/pymooCFD/optStudy-OscillCylinder_SLURM/default_run/OptRun.checkpoint.npy\n",
      "\u001b[91m07-28 14:16 :: ERROR    :: optStudy-OscillCylinder_SLURM.default_run :: CHECKPOINT NOT FOUND: /gpfs1/home/g/l/glove1/gitrepo/pymooCFD/optStudy-OscillCylinder_SLURM/default_run/OptRun.checkpoint.npy\u001b[0m\n",
      "\u001b[91m07-28 14:16 :: ERROR    :: optStudy-OscillCylinder_SLURM.default_run :: FAILED UPDATE SELF: LOADED CHECKPOINT is None\u001b[0m\n",
      "07-28 14:16 :: INFO     :: optStudy-OscillCylinder_SLURM :: LOADING: Directory: ../../../../../gpfs1/home/g/l/glove1/gitrepo/pymooCFD/optStudy-OscillCylinder_SLURM/2.0_0.4 | Parameters: [2.0, 0.4] | Objectives: [-1.83871884  0.07646289] FROM /gpfs1/home/g/l/glove1/gitrepo/pymooCFD/optStudy-OscillCylinder_SLURM/2.0_0.4/OscillCylinder_SLURM.checkpoint.npy\n",
      "\u001b[91m07-28 14:16 :: ERROR    :: optStudy-OscillCylinder_SLURM.2.0_0.4 :: CHECKPOINT NOT FOUND: /gpfs1/home/g/l/glove1/gitrepo/pymooCFD/optStudy-OscillCylinder_SLURM/2.0_0.4/OscillCylinder_SLURM.checkpoint.npy\u001b[0m\n",
      "\u001b[91m07-28 14:16 :: ERROR    :: optStudy-OscillCylinder_SLURM.2.0_0.4 :: FAILED UPDATE SELF: LOADED CHECKPOINT is None\u001b[0m\n",
      "07-28 14:16 :: DEBUG    :: optStudy-OscillCylinder_SLURM :: \tUPDATED DICTONARY\n",
      "07-28 14:16 :: DEBUG    :: optStudy-OscillCylinder_SLURM :: \t\topt_runs: {'default_run': <pymooCFD.core.optRun.OptRun object at 0x7f37fdaf4f40>}\n",
      "07-28 14:16 :: DEBUG    :: optStudy-OscillCylinder_SLURM :: \t\tcase_runs: {'2.0_0.4': <pymooCFD.problems.oscill_cyl.OscillCylinder_SLURM object at 0x7f36eec30d00>}\n",
      "07-28 14:16 :: DEBUG    :: optStudy-OscillCylinder_SLURM :: \t\tCFDCase: <class 'pymooCFD.problems.oscill_cyl.OscillCylinder_SLURM'>\n",
      "07-28 14:16 :: DEBUG    :: optStudy-OscillCylinder_SLURM :: \t\tCFDGeneticAlgorithm: <class 'pymooCFD.core.pymooBase.CFDGeneticAlgorithm'>\n",
      "07-28 14:16 :: DEBUG    :: optStudy-OscillCylinder_SLURM :: \t\tCFDGeneticProblem: <class 'pymooCFD.core.pymooBase.CFDGeneticProblem'>\n",
      "07-28 14:16 :: DEBUG    :: optStudy-OscillCylinder_SLURM :: \t\tabs_path: /gpfs1/home/g/l/glove1/gitrepo/pymooCFD/optStudy-OscillCylinder_SLURM\n",
      "07-28 14:16 :: DEBUG    :: optStudy-OscillCylinder_SLURM :: \t\tlog_level: 10\n",
      "07-28 14:16 :: DEBUG    :: optStudy-OscillCylinder_SLURM :: \t\tlogger: <Logger optStudy-OscillCylinder_SLURM (DEBUG)>\n",
      "07-28 14:16 :: DEBUG    :: optStudy-OscillCylinder_SLURM :: \t\tcp_init: True\n",
      "07-28 14:16 :: INFO     :: optStudy-OscillCylinder_SLURM :: RESTARTED FROM CHECKPOINT\n"
     ]
    }
   ],
   "source": [
    "study = MinimizeCFD(BaseCase)"
   ]
  },
  {
   "cell_type": "markdown",
   "id": "db4a0c28",
   "metadata": {},
   "source": [
    "## Preliminary Case Runs"
   ]
  },
  {
   "cell_type": "code",
   "execution_count": 8,
   "id": "3e1657b4",
   "metadata": {},
   "outputs": [
    {
     "data": {
      "text/plain": [
       "{'2.0_0.4': <pymooCFD.problems.oscill_cyl.OscillCylinder_SLURM at 0x7f36eec30d00>}"
      ]
     },
     "execution_count": 8,
     "metadata": {},
     "output_type": "execute_result"
    }
   ],
   "source": [
    "study.case_runs"
   ]
  },
  {
   "cell_type": "code",
   "execution_count": 9,
   "id": "df5e6dd0",
   "metadata": {},
   "outputs": [],
   "source": [
    "# case = study.case_runs['RANS_equiv_BCs']"
   ]
  },
  {
   "cell_type": "code",
   "execution_count": 10,
   "id": "dd46ff4b",
   "metadata": {},
   "outputs": [],
   "source": [
    "# case._postProc()"
   ]
  },
  {
   "cell_type": "markdown",
   "id": "44fdcdc5",
   "metadata": {},
   "source": [
    "## Select Optimization Algorithm Run"
   ]
  },
  {
   "cell_type": "code",
   "execution_count": 11,
   "id": "72ab8189",
   "metadata": {},
   "outputs": [
    {
     "name": "stdout",
     "output_type": "stream",
     "text": [
      "{'default_run': <pymooCFD.core.optRun.OptRun object at 0x7f37fdaf4f40>}\n"
     ]
    }
   ],
   "source": [
    "print(study.opt_runs)"
   ]
  },
  {
   "cell_type": "code",
   "execution_count": 12,
   "id": "eaae04fe",
   "metadata": {},
   "outputs": [],
   "source": [
    "opt_run = study.opt_runs['default_run']\n",
    "# opt_run = study.opt_runs['test_run']\n",
    "# opt_run = study.opt_runs['run05']\n",
    "# opt_run = study.opt_runs['run02']"
   ]
  },
  {
   "cell_type": "markdown",
   "id": "931f17ec",
   "metadata": {},
   "source": [
    "### Check Out Data Generated"
   ]
  },
  {
   "cell_type": "code",
   "execution_count": 13,
   "id": "81afd8c4",
   "metadata": {},
   "outputs": [
    {
     "name": "stdout",
     "output_type": "stream",
     "text": [
      "{'CFDCase': <class 'pymooCFD.problems.oscill_cyl.OscillCylinder_SLURM'>,\n",
      " 'CFDGeneticAlgorithm': <class 'pymooCFD.core.pymooBase.CFDGeneticAlgorithm'>,\n",
      " 'CFDGeneticProblem': <class 'pymooCFD.core.pymooBase.CFDGeneticProblem'>,\n",
      " 'abs_path': '/gpfs1/home/g/l/glove1/gitrepo/pymooCFD/optStudy-OscillCylinder_SLURM',\n",
      " 'case_runs': {'2.0_0.4': <pymooCFD.problems.oscill_cyl.OscillCylinder_SLURM object at 0x7f36eec30d00>},\n",
      " 'cp_init': True,\n",
      " 'log_level': 10,\n",
      " 'logger': <Logger optStudy-OscillCylinder_SLURM (DEBUG)>,\n",
      " 'opt_runs': {'default_run': <pymooCFD.core.optRun.OptRun object at 0x7f37fdaf4f40>}}\n"
     ]
    }
   ],
   "source": [
    "pprint(study.__dict__)"
   ]
  },
  {
   "cell_type": "code",
   "execution_count": 14,
   "id": "ba1baeed",
   "metadata": {},
   "outputs": [
    {
     "name": "stdout",
     "output_type": "stream",
     "text": [
      "49\n"
     ]
    }
   ],
   "source": [
    "# print(opt_run.algorithm.history)\n",
    "print(len(opt_run.algorithm.history))"
   ]
  },
  {
   "cell_type": "code",
   "execution_count": 15,
   "id": "d9aede8d",
   "metadata": {
    "scrolled": true
   },
   "outputs": [
    {
     "name": "stdout",
     "output_type": "stream",
     "text": [
      "{'CFDCase': <class 'pymooCFD.problems.oscill_cyl.OscillCylinder_SLURM'>,\n",
      " 'CFDGeneticAlgorithm': <class 'pymooCFD.core.pymooBase.CFDGeneticAlgorithm'>,\n",
      " 'CFDGeneticProblem': <class 'pymooCFD.core.pymooBase.CFDGeneticProblem'>,\n",
      " 'abs_path': '/gpfs1/home/g/l/glove1/gitrepo/pymooCFD/optStudy-OscillCylinder_SLURM',\n",
      " 'case_runs': {'2.0_0.4': <pymooCFD.problems.oscill_cyl.OscillCylinder_SLURM object at 0x7f36eec30d00>},\n",
      " 'cp_init': True,\n",
      " 'log_level': 10,\n",
      " 'logger': <Logger optStudy-OscillCylinder_SLURM (DEBUG)>,\n",
      " 'opt_runs': {'default_run': <pymooCFD.core.optRun.OptRun object at 0x7f37fdaf4f40>}}\n"
     ]
    }
   ],
   "source": [
    "pprint(study.__dict__)"
   ]
  },
  {
   "cell_type": "code",
   "execution_count": 16,
   "id": "20a9186d",
   "metadata": {
    "scrolled": true
   },
   "outputs": [
    {
     "name": "stdout",
     "output_type": "stream",
     "text": [
      "{'abs_path': '/gpfs1/home/g/l/glove1/gitrepo/pymooCFD/optStudy-OscillCylinder_SLURM/default_run',\n",
      " 'algorithm': <pymooCFD.core.pymooBase.CFDGeneticAlgorithm object at 0x7f36ef322610>,\n",
      " 'bnd_cases': [<pymooCFD.problems.oscill_cyl.OscillCylinder_SLURM object at 0x7f36eec71fd0>,\n",
      "               <pymooCFD.problems.oscill_cyl.OscillCylinder_SLURM object at 0x7f36eec7d700>,\n",
      "               <pymooCFD.problems.oscill_cyl.OscillCylinder_SLURM object at 0x7f36eec84850>,\n",
      "               <pymooCFD.problems.oscill_cyl.OscillCylinder_SLURM object at 0x7f36eec88a60>,\n",
      "               <pymooCFD.problems.oscill_cyl.OscillCylinder_SLURM object at 0x7f36eec8dd30>,\n",
      "               <pymooCFD.problems.oscill_cyl.OscillCylinder_SLURM object at 0x7f36eec92e80>,\n",
      "               <pymooCFD.problems.oscill_cyl.OscillCylinder_SLURM object at 0x7f36eec1c190>,\n",
      "               <pymooCFD.problems.oscill_cyl.OscillCylinder_SLURM object at 0x7f36eec212e0>],\n",
      " 'cp_init': False,\n",
      " 'gen1_pop': Population([<pymoo.core.individual.Individual object at 0x7f36eec2ba90>,\n",
      "            <pymoo.core.individual.Individual object at 0x7f36eec2baf0>,\n",
      "            <pymoo.core.individual.Individual object at 0x7f36eec6aa30>,\n",
      "            <pymoo.core.individual.Individual object at 0x7f36eec2bb50>,\n",
      "            <pymoo.core.individual.Individual object at 0x7f36eec2bbb0>,\n",
      "            <pymoo.core.individual.Individual object at 0x7f36eec2bc10>,\n",
      "            <pymoo.core.individual.Individual object at 0x7f36eec2bc70>,\n",
      "            <pymoo.core.individual.Individual object at 0x7f36eec2bcd0>,\n",
      "            <pymoo.core.individual.Individual object at 0x7f36eec2bd30>,\n",
      "            <pymoo.core.individual.Individual object at 0x7f36eec2bd90>,\n",
      "            <pymoo.core.individual.Individual object at 0x7f36eec2bdf0>,\n",
      "            <pymoo.core.individual.Individual object at 0x7f36eec2be50>,\n",
      "            <pymoo.core.individual.Individual object at 0x7f36eec6a5b0>,\n",
      "            <pymoo.core.individual.Individual object at 0x7f36eec2beb0>,\n",
      "            <pymoo.core.individual.Individual object at 0x7f36eec2bf10>,\n",
      "            <pymoo.core.individual.Individual object at 0x7f36eec2bf70>,\n",
      "            <pymoo.core.individual.Individual object at 0x7f36eec2bfd0>,\n",
      "            <pymoo.core.individual.Individual object at 0x7f36eec30040>,\n",
      "            <pymoo.core.individual.Individual object at 0x7f36eec300d0>,\n",
      "            <pymoo.core.individual.Individual object at 0x7f36eec30130>,\n",
      "            <pymoo.core.individual.Individual object at 0x7f36eec30190>,\n",
      "            <pymoo.core.individual.Individual object at 0x7f36eec301f0>,\n",
      "            <pymoo.core.individual.Individual object at 0x7f36eec30250>,\n",
      "            <pymoo.core.individual.Individual object at 0x7f36eec302b0>,\n",
      "            <pymoo.core.individual.Individual object at 0x7f36eec30310>,\n",
      "            <pymoo.core.individual.Individual object at 0x7f36eec30370>,\n",
      "            <pymoo.core.individual.Individual object at 0x7f36eec303d0>,\n",
      "            <pymoo.core.individual.Individual object at 0x7f36eec30430>,\n",
      "            <pymoo.core.individual.Individual object at 0x7f36eec30490>,\n",
      "            <pymoo.core.individual.Individual object at 0x7f36eec304f0>,\n",
      "            <pymoo.core.individual.Individual object at 0x7f36eec30550>,\n",
      "            <pymoo.core.individual.Individual object at 0x7f36eec305b0>,\n",
      "            <pymoo.core.individual.Individual object at 0x7f36eec30610>,\n",
      "            <pymoo.core.individual.Individual object at 0x7f36eec30670>,\n",
      "            <pymoo.core.individual.Individual object at 0x7f36eec306d0>,\n",
      "            <pymoo.core.individual.Individual object at 0x7f36eec30730>,\n",
      "            <pymoo.core.individual.Individual object at 0x7f36eec30790>,\n",
      "            <pymoo.core.individual.Individual object at 0x7f36eec307f0>,\n",
      "            <pymoo.core.individual.Individual object at 0x7f36eec30850>,\n",
      "            <pymoo.core.individual.Individual object at 0x7f36eec308b0>,\n",
      "            <pymoo.core.individual.Individual object at 0x7f36eec30910>,\n",
      "            <pymoo.core.individual.Individual object at 0x7f36eec30970>,\n",
      "            <pymoo.core.individual.Individual object at 0x7f36eec309d0>,\n",
      "            <pymoo.core.individual.Individual object at 0x7f36eec30a30>,\n",
      "            <pymoo.core.individual.Individual object at 0x7f36eec30a90>,\n",
      "            <pymoo.core.individual.Individual object at 0x7f36eec30af0>,\n",
      "            <pymoo.core.individual.Individual object at 0x7f36eec30b50>,\n",
      "            <pymoo.core.individual.Individual object at 0x7f36eec30bb0>,\n",
      "            <pymoo.core.individual.Individual object at 0x7f36eec30c10>,\n",
      "            <pymoo.core.individual.Individual object at 0x7f36eec30c70>],\n",
      "           dtype=object),\n",
      " 'log_level': 10,\n",
      " 'logger': <Logger optStudy-OscillCylinder_SLURM.default_run (DEBUG)>,\n",
      " 'n_opt': 20,\n",
      " 'problem': <pymooCFD.core.pymooBase.CFDGeneticProblem object at 0x7f36ef3332b0>,\n",
      " 'run_path': '/gpfs1/home/g/l/glove1/gitrepo/pymooCFD/optStudy-OscillCylinder_SLURM/default_run',\n",
      " 'test_case': <pymooCFD.problems.oscill_cyl.OscillCylinder_SLURM object at 0x7f36eec264f0>}\n"
     ]
    }
   ],
   "source": [
    "pprint(opt_run.__dict__)"
   ]
  },
  {
   "cell_type": "code",
   "execution_count": 17,
   "id": "19598880",
   "metadata": {
    "scrolled": true
   },
   "outputs": [
    {
     "name": "stdout",
     "output_type": "stream",
     "text": [
      "{'advance_after_initial_infill': True,\n",
      " 'callback': <pymooCFD.core.pymooBase.PymooCFDCallback object at 0x7f36ef322910>,\n",
      " 'data': {},\n",
      " 'default_termination': <pymoo.util.termination.default.MultiObjectiveDefaultTermination object at 0x7f36ef3333d0>,\n",
      " 'display': <pymooCFD.core.pymooBase.MyDisplay object at 0x7f36ef322520>,\n",
      " 'eliminate_duplicates': <pymoo.core.duplicate.DefaultDuplicateElimination object at 0x7f36eec719d0>,\n",
      " 'evaluator': <pymoo.core.evaluator.Evaluator object at 0x7f36ef3334f0>,\n",
      " 'has_terminated': True,\n",
      " 'history': [<pymooCFD.core.pymooBase.CFDGeneticAlgorithm object at 0x7f36ef333970>,\n",
      "             <pymooCFD.core.pymooBase.CFDGeneticAlgorithm object at 0x7f36ef2f6880>,\n",
      "             <pymooCFD.core.pymooBase.CFDGeneticAlgorithm object at 0x7f36ef318400>,\n",
      "             <pymooCFD.core.pymooBase.CFDGeneticAlgorithm object at 0x7f36ef2b9160>,\n",
      "             <pymooCFD.core.pymooBase.CFDGeneticAlgorithm object at 0x7f36ef2d5ee0>,\n",
      "             <pymooCFD.core.pymooBase.CFDGeneticAlgorithm object at 0x7f36ef274e50>,\n",
      "             <pymooCFD.core.pymooBase.CFDGeneticAlgorithm object at 0x7f36ef296d60>,\n",
      "             <pymooCFD.core.pymooBase.CFDGeneticAlgorithm object at 0x7f36ef238d30>,\n",
      "             <pymooCFD.core.pymooBase.CFDGeneticAlgorithm object at 0x7f36ef256d30>,\n",
      "             <pymooCFD.core.pymooBase.CFDGeneticAlgorithm object at 0x7f36ef1f6dc0>,\n",
      "             <pymooCFD.core.pymooBase.CFDGeneticAlgorithm object at 0x7f36ef216f10>,\n",
      "             <pymooCFD.core.pymooBase.CFDGeneticAlgorithm object at 0x7f36ef1bc220>,\n",
      "             <pymooCFD.core.pymooBase.CFDGeneticAlgorithm object at 0x7f36ef15e4c0>,\n",
      "             <pymooCFD.core.pymooBase.CFDGeneticAlgorithm object at 0x7f36ef180760>,\n",
      "             <pymooCFD.core.pymooBase.CFDGeneticAlgorithm object at 0x7f36ef121b20>,\n",
      "             <pymooCFD.core.pymooBase.CFDGeneticAlgorithm object at 0x7f36ef142f10>,\n",
      "             <pymooCFD.core.pymooBase.CFDGeneticAlgorithm object at 0x7f36ef0e7400>,\n",
      "             <pymooCFD.core.pymooBase.CFDGeneticAlgorithm object at 0x7f36ef106940>,\n",
      "             <pymooCFD.core.pymooBase.CFDGeneticAlgorithm object at 0x7f36ef0a7e20>,\n",
      "             <pymooCFD.core.pymooBase.CFDGeneticAlgorithm object at 0x7f36ef0cc2e0>,\n",
      "             <pymooCFD.core.pymooBase.CFDGeneticAlgorithm object at 0x7f36ef06d760>,\n",
      "             <pymooCFD.core.pymooBase.CFDGeneticAlgorithm object at 0x7f36ef08fdf0>,\n",
      "             <pymooCFD.core.pymooBase.CFDGeneticAlgorithm object at 0x7f36ef035520>,\n",
      "             <pymooCFD.core.pymooBase.CFDGeneticAlgorithm object at 0x7f36ef054b80>,\n",
      "             <pymooCFD.core.pymooBase.CFDGeneticAlgorithm object at 0x7f36eeffd250>,\n",
      "             <pymooCFD.core.pymooBase.CFDGeneticAlgorithm object at 0x7f36eefa0850>,\n",
      "             <pymooCFD.core.pymooBase.CFDGeneticAlgorithm object at 0x7f36eefbff10>,\n",
      "             <pymooCFD.core.pymooBase.CFDGeneticAlgorithm object at 0x7f36eef655b0>,\n",
      "             <pymooCFD.core.pymooBase.CFDGeneticAlgorithm object at 0x7f36eef87c40>,\n",
      "             <pymooCFD.core.pymooBase.CFDGeneticAlgorithm object at 0x7f36eef2d370>,\n",
      "             <pymooCFD.core.pymooBase.CFDGeneticAlgorithm object at 0x7f36eef4ea30>,\n",
      "             <pymooCFD.core.pymooBase.CFDGeneticAlgorithm object at 0x7f36eeef30d0>,\n",
      "             <pymooCFD.core.pymooBase.CFDGeneticAlgorithm object at 0x7f36eef13760>,\n",
      "             <pymooCFD.core.pymooBase.CFDGeneticAlgorithm object at 0x7f36eeeb5e20>,\n",
      "             <pymooCFD.core.pymooBase.CFDGeneticAlgorithm object at 0x7f36eee5b4f0>,\n",
      "             <pymooCFD.core.pymooBase.CFDGeneticAlgorithm object at 0x7f36eee7db20>,\n",
      "             <pymooCFD.core.pymooBase.CFDGeneticAlgorithm object at 0x7f36eee23130>,\n",
      "             <pymooCFD.core.pymooBase.CFDGeneticAlgorithm object at 0x7f36eee45700>,\n",
      "             <pymooCFD.core.pymooBase.CFDGeneticAlgorithm object at 0x7f36eede4dc0>,\n",
      "             <pymooCFD.core.pymooBase.CFDGeneticAlgorithm object at 0x7f36eee0b460>,\n",
      "             <pymooCFD.core.pymooBase.CFDGeneticAlgorithm object at 0x7f36eedabac0>,\n",
      "             <pymooCFD.core.pymooBase.CFDGeneticAlgorithm object at 0x7f36eedd1100>,\n",
      "             <pymooCFD.core.pymooBase.CFDGeneticAlgorithm object at 0x7f36eed75730>,\n",
      "             <pymooCFD.core.pymooBase.CFDGeneticAlgorithm object at 0x7f36eed96d90>,\n",
      "             <pymooCFD.core.pymooBase.CFDGeneticAlgorithm object at 0x7f36eed3b400>,\n",
      "             <pymooCFD.core.pymooBase.CFDGeneticAlgorithm object at 0x7f36eecdba60>,\n",
      "             <pymooCFD.core.pymooBase.CFDGeneticAlgorithm object at 0x7f36eed04130>,\n",
      "             <pymooCFD.core.pymooBase.CFDGeneticAlgorithm object at 0x7f36eeca4790>,\n",
      "             <pymooCFD.core.pymooBase.CFDGeneticAlgorithm object at 0x7f36eecc4e80>],\n",
      " 'initialization': <pymoo.core.initialization.Initialization object at 0x7f36eec71a60>,\n",
      " 'is_initialized': True,\n",
      " 'mating': <pymoo.core.mating.Mating object at 0x7f36eec71c10>,\n",
      " 'n_gen': 50,\n",
      " 'n_offsprings': 15,\n",
      " 'off': None,\n",
      " 'opt': Population([<pymoo.core.individual.Individual object at 0x7f36eec6a550>,\n",
      "            <pymoo.core.individual.Individual object at 0x7f36eec6a5b0>,\n",
      "            <pymoo.core.individual.Individual object at 0x7f36eec6a610>,\n",
      "            <pymoo.core.individual.Individual object at 0x7f36eec6a670>,\n",
      "            <pymoo.core.individual.Individual object at 0x7f36eec6a6d0>,\n",
      "            <pymoo.core.individual.Individual object at 0x7f36eec6a730>,\n",
      "            <pymoo.core.individual.Individual object at 0x7f36eec6a790>,\n",
      "            <pymoo.core.individual.Individual object at 0x7f36eec6a7f0>,\n",
      "            <pymoo.core.individual.Individual object at 0x7f36eec6a850>,\n",
      "            <pymoo.core.individual.Individual object at 0x7f36eec6a8b0>,\n",
      "            <pymoo.core.individual.Individual object at 0x7f36eec6a910>,\n",
      "            <pymoo.core.individual.Individual object at 0x7f36eec6a970>,\n",
      "            <pymoo.core.individual.Individual object at 0x7f36eec6a9d0>,\n",
      "            <pymoo.core.individual.Individual object at 0x7f36eec6aa30>,\n",
      "            <pymoo.core.individual.Individual object at 0x7f36eec6aa90>,\n",
      "            <pymoo.core.individual.Individual object at 0x7f36eec6aaf0>,\n",
      "            <pymoo.core.individual.Individual object at 0x7f36eec6ab50>,\n",
      "            <pymoo.core.individual.Individual object at 0x7f36eec6abb0>,\n",
      "            <pymoo.core.individual.Individual object at 0x7f36eec6ac10>,\n",
      "            <pymoo.core.individual.Individual object at 0x7f36eec6ac70>,\n",
      "            <pymoo.core.individual.Individual object at 0x7f36eec6acd0>,\n",
      "            <pymoo.core.individual.Individual object at 0x7f36eec6ad30>,\n",
      "            <pymoo.core.individual.Individual object at 0x7f36eec6ad90>,\n",
      "            <pymoo.core.individual.Individual object at 0x7f36eec6ae20>,\n",
      "            <pymoo.core.individual.Individual object at 0x7f36eec6ae80>,\n",
      "            <pymoo.core.individual.Individual object at 0x7f36eec6aee0>,\n",
      "            <pymoo.core.individual.Individual object at 0x7f36eec6af40>,\n",
      "            <pymoo.core.individual.Individual object at 0x7f36eec6afa0>,\n",
      "            <pymoo.core.individual.Individual object at 0x7f36eec71040>,\n",
      "            <pymoo.core.individual.Individual object at 0x7f36eec710a0>,\n",
      "            <pymoo.core.individual.Individual object at 0x7f36eec71100>,\n",
      "            <pymoo.core.individual.Individual object at 0x7f36eec71160>,\n",
      "            <pymoo.core.individual.Individual object at 0x7f36eec711c0>,\n",
      "            <pymoo.core.individual.Individual object at 0x7f36eec71220>,\n",
      "            <pymoo.core.individual.Individual object at 0x7f36eec71280>,\n",
      "            <pymoo.core.individual.Individual object at 0x7f36eec712e0>,\n",
      "            <pymoo.core.individual.Individual object at 0x7f36eec71340>,\n",
      "            <pymoo.core.individual.Individual object at 0x7f36eec713a0>,\n",
      "            <pymoo.core.individual.Individual object at 0x7f36eec71400>,\n",
      "            <pymoo.core.individual.Individual object at 0x7f36eec71460>,\n",
      "            <pymoo.core.individual.Individual object at 0x7f36eec714c0>,\n",
      "            <pymoo.core.individual.Individual object at 0x7f36eec71520>,\n",
      "            <pymoo.core.individual.Individual object at 0x7f36eec71580>,\n",
      "            <pymoo.core.individual.Individual object at 0x7f36eec715e0>,\n",
      "            <pymoo.core.individual.Individual object at 0x7f36eec71640>,\n",
      "            <pymoo.core.individual.Individual object at 0x7f36eec716a0>,\n",
      "            <pymoo.core.individual.Individual object at 0x7f36eec71700>,\n",
      "            <pymoo.core.individual.Individual object at 0x7f36eec71760>,\n",
      "            <pymoo.core.individual.Individual object at 0x7f36eec717c0>,\n",
      "            <pymoo.core.individual.Individual object at 0x7f36eec71820>],\n",
      "           dtype=object),\n",
      " 'pf': True,\n",
      " 'pop': Population([<pymoo.core.individual.Individual object at 0x7f36eec6a550>,\n",
      "            <pymoo.core.individual.Individual object at 0x7f36eec6a5b0>,\n",
      "            <pymoo.core.individual.Individual object at 0x7f36eec6a610>,\n",
      "            <pymoo.core.individual.Individual object at 0x7f36eec6a670>,\n",
      "            <pymoo.core.individual.Individual object at 0x7f36eec6a6d0>,\n",
      "            <pymoo.core.individual.Individual object at 0x7f36eec6a730>,\n",
      "            <pymoo.core.individual.Individual object at 0x7f36eec6a790>,\n",
      "            <pymoo.core.individual.Individual object at 0x7f36eec6a7f0>,\n",
      "            <pymoo.core.individual.Individual object at 0x7f36eec6a850>,\n",
      "            <pymoo.core.individual.Individual object at 0x7f36eec6a8b0>,\n",
      "            <pymoo.core.individual.Individual object at 0x7f36eec6a910>,\n",
      "            <pymoo.core.individual.Individual object at 0x7f36eec6a970>,\n",
      "            <pymoo.core.individual.Individual object at 0x7f36eec6a9d0>,\n",
      "            <pymoo.core.individual.Individual object at 0x7f36eec6aa30>,\n",
      "            <pymoo.core.individual.Individual object at 0x7f36eec6aa90>,\n",
      "            <pymoo.core.individual.Individual object at 0x7f36eec6aaf0>,\n",
      "            <pymoo.core.individual.Individual object at 0x7f36eec6ab50>,\n",
      "            <pymoo.core.individual.Individual object at 0x7f36eec6abb0>,\n",
      "            <pymoo.core.individual.Individual object at 0x7f36eec6ac10>,\n",
      "            <pymoo.core.individual.Individual object at 0x7f36eec6ac70>,\n",
      "            <pymoo.core.individual.Individual object at 0x7f36eec6acd0>,\n",
      "            <pymoo.core.individual.Individual object at 0x7f36eec6ad30>,\n",
      "            <pymoo.core.individual.Individual object at 0x7f36eec6ad90>,\n",
      "            <pymoo.core.individual.Individual object at 0x7f36eec6ae20>,\n",
      "            <pymoo.core.individual.Individual object at 0x7f36eec6ae80>,\n",
      "            <pymoo.core.individual.Individual object at 0x7f36eec6aee0>,\n",
      "            <pymoo.core.individual.Individual object at 0x7f36eec6af40>,\n",
      "            <pymoo.core.individual.Individual object at 0x7f36eec6afa0>,\n",
      "            <pymoo.core.individual.Individual object at 0x7f36eec71040>,\n",
      "            <pymoo.core.individual.Individual object at 0x7f36eec710a0>,\n",
      "            <pymoo.core.individual.Individual object at 0x7f36eec71100>,\n",
      "            <pymoo.core.individual.Individual object at 0x7f36eec71160>,\n",
      "            <pymoo.core.individual.Individual object at 0x7f36eec711c0>,\n",
      "            <pymoo.core.individual.Individual object at 0x7f36eec71220>,\n",
      "            <pymoo.core.individual.Individual object at 0x7f36eec71280>,\n",
      "            <pymoo.core.individual.Individual object at 0x7f36eec712e0>,\n",
      "            <pymoo.core.individual.Individual object at 0x7f36eec71340>,\n",
      "            <pymoo.core.individual.Individual object at 0x7f36eec713a0>,\n",
      "            <pymoo.core.individual.Individual object at 0x7f36eec71400>,\n",
      "            <pymoo.core.individual.Individual object at 0x7f36eec71460>,\n",
      "            <pymoo.core.individual.Individual object at 0x7f36eec714c0>,\n",
      "            <pymoo.core.individual.Individual object at 0x7f36eec71520>,\n",
      "            <pymoo.core.individual.Individual object at 0x7f36eec71580>,\n",
      "            <pymoo.core.individual.Individual object at 0x7f36eec715e0>,\n",
      "            <pymoo.core.individual.Individual object at 0x7f36eec71640>,\n",
      "            <pymoo.core.individual.Individual object at 0x7f36eec716a0>,\n",
      "            <pymoo.core.individual.Individual object at 0x7f36eec71700>,\n",
      "            <pymoo.core.individual.Individual object at 0x7f36eec71760>,\n",
      "            <pymoo.core.individual.Individual object at 0x7f36eec717c0>,\n",
      "            <pymoo.core.individual.Individual object at 0x7f36eec71820>],\n",
      "           dtype=object),\n",
      " 'pop_size': 50,\n",
      " 'problem': <pymooCFD.core.pymooBase.CFDGeneticProblem object at 0x7f36ef3332b0>,\n",
      " 'repair': <pymoo.core.repair.NoRepair object at 0x7f36eec71a30>,\n",
      " 'return_least_infeasible': True,\n",
      " 'save_history': True,\n",
      " 'seed': 1,\n",
      " 'start_time': 1651801652.7706287,\n",
      " 'survival': <pymoo.algorithms.moo.nsga2.RankAndCrowdingSurvival object at 0x7f36eec71910>,\n",
      " 'termination': <pymoo.util.termination.max_gen.MaximumGenerationTermination object at 0x7f36ef3225e0>,\n",
      " 'tournament_type': 'comp_by_dom_and_crowding',\n",
      " 'verbose': True}\n"
     ]
    }
   ],
   "source": [
    "pprint(opt_run.algorithm.__dict__)"
   ]
  },
  {
   "cell_type": "code",
   "execution_count": 18,
   "id": "ddd2591e",
   "metadata": {},
   "outputs": [
    {
     "name": "stdout",
     "output_type": "stream",
     "text": [
      "{'BaseCase': <class 'pymooCFD.problems.oscill_cyl.OscillCylinder_SLURM'>,\n",
      " '_ideal_point': None,\n",
      " '_nadir_point': None,\n",
      " '_pareto_front': <pymoo.util.cache.Cache object at 0x7f36ef333340>,\n",
      " '_pareto_set': <pymoo.util.cache.Cache object at 0x7f36ef3332e0>,\n",
      " 'callback': None,\n",
      " 'check_inconsistencies': True,\n",
      " 'data': {},\n",
      " 'exclude_from_serialization': [],\n",
      " 'gen1Pop': None,\n",
      " 'n_constr': 0,\n",
      " 'n_obj': 2,\n",
      " 'n_var': 2,\n",
      " 'replace_nan_values_by': inf,\n",
      " 'validated': False,\n",
      " 'xl': array([0.1, 0.2]),\n",
      " 'xu': array([10.,  1.])}\n"
     ]
    }
   ],
   "source": [
    "pprint(opt_run.problem.__dict__)"
   ]
  },
  {
   "cell_type": "code",
   "execution_count": 19,
   "id": "566139f0",
   "metadata": {},
   "outputs": [],
   "source": [
    "# for key in optRun.__dict__:\n",
    "#     pprint(\"{0:15} : {1}\".format(key, optRun.__dict__[key])) #str(optRun.__dict__[key]).replace('\\n', '\\n\\t\\t  ')))"
   ]
  },
  {
   "cell_type": "code",
   "execution_count": 20,
   "id": "f07ac59e",
   "metadata": {},
   "outputs": [],
   "source": [
    "# for key in optRun.__dict__:\n",
    "#     val = str(optRun.__dict__[key]).replace('\\n', '\\n\\t\\t')\n",
    "#     pprint(\"{0:15} : {1}\".format(key, val))"
   ]
  },
  {
   "cell_type": "markdown",
   "id": "594557b9",
   "metadata": {},
   "source": [
    "# Pre-Process Optimization Study"
   ]
  },
  {
   "cell_type": "code",
   "execution_count": 21,
   "id": "2c420983",
   "metadata": {},
   "outputs": [
    {
     "data": {
      "text/plain": [
       "50"
      ]
     },
     "execution_count": 21,
     "metadata": {},
     "output_type": "execute_result"
    }
   ],
   "source": [
    "len(opt_run.algorithm.history[-1].opt)"
   ]
  },
  {
   "cell_type": "markdown",
   "id": "6c9a37f7",
   "metadata": {},
   "source": [
    "### Test Case"
   ]
  },
  {
   "cell_type": "code",
   "execution_count": 22,
   "id": "b4e0f929",
   "metadata": {},
   "outputs": [
    {
     "name": "stdout",
     "output_type": "stream",
     "text": [
      "Directory: ../../../../../gpfs1/home/g/l/glove1/gitrepo/pymooCFD/optStudy-OscillCylinder_SLURM/default_run/test_case | Parameters: [5.05, 0.6000000000000001] | Objectives: [-11.973436881024554, 0.2295364939027778]\n"
     ]
    },
    {
     "data": {
      "text/plain": [
       "<pymooCFD.problems.oscill_cyl.OscillCylinder_SLURM at 0x7f36eec264f0>"
      ]
     },
     "execution_count": 22,
     "metadata": {},
     "output_type": "execute_result"
    }
   ],
   "source": [
    "print(opt_run.test_case)\n",
    "opt_run.test_case"
   ]
  },
  {
   "cell_type": "code",
   "execution_count": 23,
   "id": "154fc081",
   "metadata": {},
   "outputs": [
    {
     "name": "stdout",
     "output_type": "stream",
     "text": [
      "{'_f': [-11.973436881024554, 0.2295364939027778],\n",
      " '_g': None,\n",
      " '_x': [5.05, 0.6000000000000001],\n",
      " 'abs_path': '/gpfs1/home/g/l/glove1/gitrepo/pymooCFD/optStudy-OscillCylinder_SLURM/default_run/test_case',\n",
      " 'cp_init': False,\n",
      " 'datFile': 'FORCES_temporal.txt',\n",
      " 'inputFile': '2D_cylinder.in',\n",
      " 'jobFile': 'jobslurm.sh',\n",
      " 'log_level': 10,\n",
      " 'logger': <Logger optStudy-OscillCylinder_SLURM.default_run.test_case (DEBUG)>,\n",
      " 'meshFile': '2D_cylinder.msh22',\n",
      " 'meshSF': 1.0,\n",
      " 'mesh_study': <pymooCFD.core.meshStudy.MeshStudy object at 0x7f36eec26610>,\n",
      " 'msCases': None,\n",
      " 'numElem': 122927,\n",
      " 'obj_labels': ['Change in Coefficient of Drag [%]', 'Resistive Force [N]'],\n",
      " 'restart': True,\n",
      " 'solnTime': 2026.4944536685944,\n",
      " 'validated': False,\n",
      " 'var_labels': ['Amplitude [radians/s]', 'Frequency [cycles/s]'],\n",
      " 'wallTime': 1970}\n"
     ]
    }
   ],
   "source": [
    "pprint(opt_run.test_case.__dict__)"
   ]
  },
  {
   "cell_type": "markdown",
   "id": "c96afa0a",
   "metadata": {},
   "source": [
    "#### Mesh Study"
   ]
  },
  {
   "cell_type": "code",
   "execution_count": 24,
   "id": "05f4d7a6",
   "metadata": {},
   "outputs": [
    {
     "name": "stdout",
     "output_type": "stream",
     "text": [
      "{'_size_factors': array([1. , 1.3, 1.5, 2. , 3. , 4. , 5. ]),\n",
      " 'base_case': <pymooCFD.problems.oscill_cyl.OscillCylinder_SLURM object at 0x7f36eec264f0>,\n",
      " 'cases': [<pymooCFD.problems.oscill_cyl.OscillCylinder_SLURM object at 0x7f36eec266a0>,\n",
      "           <pymooCFD.problems.oscill_cyl.OscillCylinder_SLURM object at 0x7f36eec269a0>,\n",
      "           <pymooCFD.problems.oscill_cyl.OscillCylinder_SLURM object at 0x7f36eec26be0>,\n",
      "           <pymooCFD.problems.oscill_cyl.OscillCylinder_SLURM object at 0x7f36eec26e20>,\n",
      "           <pymooCFD.problems.oscill_cyl.OscillCylinder_SLURM object at 0x7f36eec2b100>,\n",
      "           <pymooCFD.problems.oscill_cyl.OscillCylinder_SLURM object at 0x7f36eec2b3a0>,\n",
      "           <pymooCFD.problems.oscill_cyl.OscillCylinder_SLURM object at 0x7f36eec2b640>],\n",
      " 'folder': '/gpfs1/home/g/l/glove1/gitrepo/pymooCFD/optStudy-OscillCylinder_SLURM/default_run/test_case/mesh_study',\n",
      " 'logger': <Logger pymooCFD.core.meshStudy./gpfs1/home/g/l/glove1/gitrepo/pymooCFD/optStudy-OscillCylinder_SLURM/default_run/test_case/mesh_study (WARNING)>}\n"
     ]
    }
   ],
   "source": [
    "pprint(opt_run.test_case.mesh_study.__dict__)"
   ]
  },
  {
   "cell_type": "code",
   "execution_count": 25,
   "id": "7e80ceb2",
   "metadata": {},
   "outputs": [
    {
     "name": "stdout",
     "output_type": "stream",
     "text": [
      "[<pymooCFD.problems.oscill_cyl.OscillCylinder_SLURM object at 0x7f36eec266a0>, <pymooCFD.problems.oscill_cyl.OscillCylinder_SLURM object at 0x7f36eec269a0>, <pymooCFD.problems.oscill_cyl.OscillCylinder_SLURM object at 0x7f36eec26be0>, <pymooCFD.problems.oscill_cyl.OscillCylinder_SLURM object at 0x7f36eec26e20>, <pymooCFD.problems.oscill_cyl.OscillCylinder_SLURM object at 0x7f36eec2b100>, <pymooCFD.problems.oscill_cyl.OscillCylinder_SLURM object at 0x7f36eec2b3a0>, <pymooCFD.problems.oscill_cyl.OscillCylinder_SLURM object at 0x7f36eec2b640>]\n"
     ]
    }
   ],
   "source": [
    "print(opt_run.test_case.mesh_study.cases)"
   ]
  },
  {
   "cell_type": "code",
   "execution_count": 26,
   "id": "160a8306",
   "metadata": {},
   "outputs": [
    {
     "name": "stdout",
     "output_type": "stream",
     "text": [
      "{'_f': [-11.973436881024554, 0.22953649390277778],\n",
      " '_g': None,\n",
      " '_x': [5.05, 0.6000000000000001],\n",
      " 'abs_path': '/gpfs1/home/g/l/glove1/gitrepo/pymooCFD/optStudy-OscillCylinder_SLURM/default_run/test_case/mesh_study/meshSF-1.0',\n",
      " 'base_case_path': '/gpfs1/home/g/l/glove1/gitrepo/pymooCFD/pymooCFD/problems/base_cases/osc-cyl_base',\n",
      " 'cp_init': True,\n",
      " 'datFile': 'FORCES_temporal.txt',\n",
      " 'inputFile': '2D_cylinder.in',\n",
      " 'jobFile': 'jobslurm.sh',\n",
      " 'log_level': 10,\n",
      " 'logger': <Logger optStudy-OscillCylinder_SLURM.default_run.test_case.mesh_study.meshSF-1.0 (DEBUG)>,\n",
      " 'meshFile': '2D_cylinder.msh22',\n",
      " 'meshSF': 1.0,\n",
      " 'mesh_study': None,\n",
      " 'msCases': None,\n",
      " 'numElem': 122927,\n",
      " 'obj_labels': ['Change in Coefficient of Drag [%]', 'Resistive Force [N]'],\n",
      " 'restart': True,\n",
      " 'solnTime': 6155.2664840221405,\n",
      " 'validated': False,\n",
      " 'var_labels': ['Amplitude [radians/s]', 'Frequency [cycles/s]'],\n",
      " 'wallTime': 6120}\n",
      "\n",
      "{'_f': [-11.731581834141704, 0.22306074011215518],\n",
      " '_g': None,\n",
      " '_x': [5.05, 0.6000000000000001],\n",
      " 'abs_path': '/gpfs1/home/g/l/glove1/gitrepo/pymooCFD/optStudy-OscillCylinder_SLURM/default_run/test_case/mesh_study/meshSF-1.3',\n",
      " 'base_case_path': '/gpfs1/home/g/l/glove1/gitrepo/pymooCFD/pymooCFD/problems/base_cases/osc-cyl_base',\n",
      " 'cp_init': True,\n",
      " 'datFile': 'FORCES_temporal.txt',\n",
      " 'inputFile': '2D_cylinder.in',\n",
      " 'jobFile': 'jobslurm.sh',\n",
      " 'log_level': 10,\n",
      " 'logger': <Logger optStudy-OscillCylinder_SLURM.default_run.test_case.mesh_study.meshSF-1.3 (DEBUG)>,\n",
      " 'meshFile': '2D_cylinder.msh22',\n",
      " 'meshSF': 1.3,\n",
      " 'mesh_study': None,\n",
      " 'msCases': None,\n",
      " 'numElem': 113742,\n",
      " 'obj_labels': ['Change in Coefficient of Drag [%]', 'Resistive Force [N]'],\n",
      " 'restart': True,\n",
      " 'solnTime': 5451.154504299164,\n",
      " 'validated': False,\n",
      " 'var_labels': ['Amplitude [radians/s]', 'Frequency [cycles/s]'],\n",
      " 'wallTime': 5390}\n",
      "\n",
      "{'_f': [-12.203872593517453, 0.22118972116997354],\n",
      " '_g': None,\n",
      " '_x': [5.05, 0.6000000000000001],\n",
      " 'abs_path': '/gpfs1/home/g/l/glove1/gitrepo/pymooCFD/optStudy-OscillCylinder_SLURM/default_run/test_case/mesh_study/meshSF-1.5',\n",
      " 'base_case_path': '/gpfs1/home/g/l/glove1/gitrepo/pymooCFD/pymooCFD/problems/base_cases/osc-cyl_base',\n",
      " 'cp_init': True,\n",
      " 'datFile': 'FORCES_temporal.txt',\n",
      " 'inputFile': '2D_cylinder.in',\n",
      " 'jobFile': 'jobslurm.sh',\n",
      " 'log_level': 10,\n",
      " 'logger': <Logger optStudy-OscillCylinder_SLURM.default_run.test_case.mesh_study.meshSF-1.5 (DEBUG)>,\n",
      " 'meshFile': '2D_cylinder.msh22',\n",
      " 'meshSF': 1.5,\n",
      " 'mesh_study': None,\n",
      " 'msCases': None,\n",
      " 'numElem': 105805,\n",
      " 'obj_labels': ['Change in Coefficient of Drag [%]', 'Resistive Force [N]'],\n",
      " 'restart': True,\n",
      " 'solnTime': 1354.2920007705688,\n",
      " 'validated': False,\n",
      " 'var_labels': ['Amplitude [radians/s]', 'Frequency [cycles/s]'],\n",
      " 'wallTime': 1310}\n",
      "\n",
      "{'_f': [-12.39928471364267, 0.21471113326674396],\n",
      " '_g': None,\n",
      " '_x': [5.05, 0.6000000000000001],\n",
      " 'abs_path': '/gpfs1/home/g/l/glove1/gitrepo/pymooCFD/optStudy-OscillCylinder_SLURM/default_run/test_case/mesh_study/meshSF-2.0',\n",
      " 'base_case_path': '/gpfs1/home/g/l/glove1/gitrepo/pymooCFD/pymooCFD/problems/base_cases/osc-cyl_base',\n",
      " 'cp_init': True,\n",
      " 'datFile': 'FORCES_temporal.txt',\n",
      " 'inputFile': '2D_cylinder.in',\n",
      " 'jobFile': 'jobslurm.sh',\n",
      " 'log_level': 10,\n",
      " 'logger': <Logger optStudy-OscillCylinder_SLURM.default_run.test_case.mesh_study.meshSF-2.0 (DEBUG)>,\n",
      " 'meshFile': '2D_cylinder.msh22',\n",
      " 'meshSF': 2.0,\n",
      " 'mesh_study': None,\n",
      " 'msCases': None,\n",
      " 'numElem': 95279,\n",
      " 'obj_labels': ['Change in Coefficient of Drag [%]', 'Resistive Force [N]'],\n",
      " 'restart': True,\n",
      " 'solnTime': 1066.2506303787231,\n",
      " 'validated': False,\n",
      " 'var_labels': ['Amplitude [radians/s]', 'Frequency [cycles/s]'],\n",
      " 'wallTime': 1030}\n",
      "\n",
      "{'_f': [-12.739553590543085, 0.20246933591013708],\n",
      " '_g': None,\n",
      " '_x': [5.05, 0.6000000000000001],\n",
      " 'abs_path': '/gpfs1/home/g/l/glove1/gitrepo/pymooCFD/optStudy-OscillCylinder_SLURM/default_run/test_case/mesh_study/meshSF-3.0',\n",
      " 'base_case_path': '/gpfs1/home/g/l/glove1/gitrepo/pymooCFD/pymooCFD/problems/base_cases/osc-cyl_base',\n",
      " 'cp_init': True,\n",
      " 'datFile': 'FORCES_temporal.txt',\n",
      " 'inputFile': '2D_cylinder.in',\n",
      " 'jobFile': 'jobslurm.sh',\n",
      " 'log_level': 10,\n",
      " 'logger': <Logger optStudy-OscillCylinder_SLURM.default_run.test_case.mesh_study.meshSF-3.0 (DEBUG)>,\n",
      " 'meshFile': '2D_cylinder.msh22',\n",
      " 'meshSF': 3.0,\n",
      " 'mesh_study': None,\n",
      " 'msCases': None,\n",
      " 'numElem': 82472,\n",
      " 'obj_labels': ['Change in Coefficient of Drag [%]', 'Resistive Force [N]'],\n",
      " 'restart': True,\n",
      " 'solnTime': 682.1876833438873,\n",
      " 'validated': False,\n",
      " 'var_labels': ['Amplitude [radians/s]', 'Frequency [cycles/s]'],\n",
      " 'wallTime': 665}\n",
      "\n",
      "{'_f': [-14.044670925492545, 0.18826340715052367],\n",
      " '_g': None,\n",
      " '_x': [5.05, 0.6000000000000001],\n",
      " 'abs_path': '/gpfs1/home/g/l/glove1/gitrepo/pymooCFD/optStudy-OscillCylinder_SLURM/default_run/test_case/mesh_study/meshSF-4.0',\n",
      " 'base_case_path': '/gpfs1/home/g/l/glove1/gitrepo/pymooCFD/pymooCFD/problems/base_cases/osc-cyl_base',\n",
      " 'cp_init': True,\n",
      " 'datFile': 'FORCES_temporal.txt',\n",
      " 'inputFile': '2D_cylinder.in',\n",
      " 'jobFile': 'jobslurm.sh',\n",
      " 'log_level': 10,\n",
      " 'logger': <Logger optStudy-OscillCylinder_SLURM.default_run.test_case.mesh_study.meshSF-4.0 (DEBUG)>,\n",
      " 'meshFile': '2D_cylinder.msh22',\n",
      " 'meshSF': 4.0,\n",
      " 'mesh_study': None,\n",
      " 'msCases': None,\n",
      " 'numElem': 74376,\n",
      " 'obj_labels': ['Change in Coefficient of Drag [%]', 'Resistive Force [N]'],\n",
      " 'restart': True,\n",
      " 'solnTime': 586.1912610530853,\n",
      " 'validated': False,\n",
      " 'var_labels': ['Amplitude [radians/s]', 'Frequency [cycles/s]'],\n",
      " 'wallTime': 539}\n",
      "\n",
      "{'_f': [-14.84008748898345, 0.17483988238733894],\n",
      " '_g': None,\n",
      " '_x': [5.05, 0.6000000000000001],\n",
      " 'abs_path': '/gpfs1/home/g/l/glove1/gitrepo/pymooCFD/optStudy-OscillCylinder_SLURM/default_run/test_case/mesh_study/meshSF-5.0',\n",
      " 'base_case_path': '/gpfs1/home/g/l/glove1/gitrepo/pymooCFD/pymooCFD/problems/base_cases/osc-cyl_base',\n",
      " 'cp_init': True,\n",
      " 'datFile': 'FORCES_temporal.txt',\n",
      " 'inputFile': '2D_cylinder.in',\n",
      " 'jobFile': 'jobslurm.sh',\n",
      " 'log_level': 10,\n",
      " 'logger': <Logger optStudy-OscillCylinder_SLURM.default_run.test_case.mesh_study.meshSF-5.0 (DEBUG)>,\n",
      " 'meshFile': '2D_cylinder.msh22',\n",
      " 'meshSF': 5.0,\n",
      " 'mesh_study': None,\n",
      " 'msCases': None,\n",
      " 'numElem': 70188,\n",
      " 'obj_labels': ['Change in Coefficient of Drag [%]', 'Resistive Force [N]'],\n",
      " 'restart': True,\n",
      " 'solnTime': 522.1639256477356,\n",
      " 'validated': False,\n",
      " 'var_labels': ['Amplitude [radians/s]', 'Frequency [cycles/s]'],\n",
      " 'wallTime': 473}\n",
      "\n"
     ]
    }
   ],
   "source": [
    "if opt_run.test_case.mesh_study.cases is None:\n",
    "    print('No Mesh Study Cases for Test Case')\n",
    "else:\n",
    "    for case in opt_run.test_case.mesh_study.cases:\n",
    "        pprint(case.__dict__)\n",
    "        print()"
   ]
  },
  {
   "cell_type": "code",
   "execution_count": 27,
   "id": "ff6c06d9",
   "metadata": {},
   "outputs": [
    {
     "name": "stdout",
     "output_type": "stream",
     "text": [
      "Mesh Size Factors: [1.  1.3 1.5 2.  3.  4.  5. ]\n"
     ]
    }
   ],
   "source": [
    "if opt_run.test_case.mesh_study.cases is None:\n",
    "    print('No Mesh Study Cases for Test Case')\n",
    "else:\n",
    "    print('Mesh Size Factors:', opt_run.test_case.mesh_study.size_factors)"
   ]
  },
  {
   "cell_type": "code",
   "execution_count": 28,
   "id": "5b747662",
   "metadata": {},
   "outputs": [
    {
     "name": "stdout",
     "output_type": "stream",
     "text": [
      "Directory: ../../../../../gpfs1/home/g/l/glove1/gitrepo/pymooCFD/optStudy-OscillCylinder_SLURM/default_run/test_case/mesh_study/meshSF-1.0 | Parameters: [5.05, 0.6000000000000001] | Objectives: [-11.973436881024554, 0.22953649390277778]\n",
      "\n",
      "Directory: ../../../../../gpfs1/home/g/l/glove1/gitrepo/pymooCFD/optStudy-OscillCylinder_SLURM/default_run/test_case/mesh_study/meshSF-1.3 | Parameters: [5.05, 0.6000000000000001] | Objectives: [-11.731581834141704, 0.22306074011215518]\n",
      "\n",
      "Directory: ../../../../../gpfs1/home/g/l/glove1/gitrepo/pymooCFD/optStudy-OscillCylinder_SLURM/default_run/test_case/mesh_study/meshSF-1.5 | Parameters: [5.05, 0.6000000000000001] | Objectives: [-12.203872593517453, 0.22118972116997354]\n",
      "\n",
      "Directory: ../../../../../gpfs1/home/g/l/glove1/gitrepo/pymooCFD/optStudy-OscillCylinder_SLURM/default_run/test_case/mesh_study/meshSF-2.0 | Parameters: [5.05, 0.6000000000000001] | Objectives: [-12.39928471364267, 0.21471113326674396]\n",
      "\n",
      "Directory: ../../../../../gpfs1/home/g/l/glove1/gitrepo/pymooCFD/optStudy-OscillCylinder_SLURM/default_run/test_case/mesh_study/meshSF-3.0 | Parameters: [5.05, 0.6000000000000001] | Objectives: [-12.739553590543085, 0.20246933591013708]\n",
      "\n",
      "Directory: ../../../../../gpfs1/home/g/l/glove1/gitrepo/pymooCFD/optStudy-OscillCylinder_SLURM/default_run/test_case/mesh_study/meshSF-4.0 | Parameters: [5.05, 0.6000000000000001] | Objectives: [-14.044670925492545, 0.18826340715052367]\n",
      "\n",
      "Directory: ../../../../../gpfs1/home/g/l/glove1/gitrepo/pymooCFD/optStudy-OscillCylinder_SLURM/default_run/test_case/mesh_study/meshSF-5.0 | Parameters: [5.05, 0.6000000000000001] | Objectives: [-14.84008748898345, 0.17483988238733894]\n",
      "\n"
     ]
    }
   ],
   "source": [
    "if opt_run.test_case.mesh_study.cases is None:\n",
    "    print('No Mesh Study Cases for Test Case')\n",
    "else:\n",
    "    for case in opt_run.test_case.mesh_study.cases:\n",
    "        print(case)\n",
    "        print()\n",
    "#     print('\\tParameters:', case._x, '\\t Objectives:', case._f)"
   ]
  },
  {
   "cell_type": "code",
   "execution_count": 40,
   "id": "c31a8d32",
   "metadata": {},
   "outputs": [],
   "source": [
    "opt_run.test_case.mesh_study.base_case.abs_path = '/media/ydubief/M2CE-14TB-1/gitrepo/pymooCFD/optStudy-OscillCylinder_SLURM/default_run/test_run/'"
   ]
  },
  {
   "cell_type": "code",
   "execution_count": 41,
   "id": "352cbc49",
   "metadata": {},
   "outputs": [
    {
     "ename": "FileNotFoundError",
     "evalue": "[Errno 2] No such file or directory: '/gpfs1/home/g/l/glove1/gitrepo/pymooCFD/optStudy-OscillCylinder_SLURM/default_run/test_case/mesh_study/ms_plot--numElem_v_time.png'",
     "output_type": "error",
     "traceback": [
      "\u001b[0;31m---------------------------------------------------------------------------\u001b[0m",
      "\u001b[0;31mFileNotFoundError\u001b[0m                         Traceback (most recent call last)",
      "Input \u001b[0;32mIn [41]\u001b[0m, in \u001b[0;36m<cell line: 1>\u001b[0;34m()\u001b[0m\n\u001b[0;32m----> 1\u001b[0m ms_plots \u001b[38;5;241m=\u001b[39m \u001b[43mopt_run\u001b[49m\u001b[38;5;241;43m.\u001b[39;49m\u001b[43mtest_case\u001b[49m\u001b[38;5;241;43m.\u001b[39;49m\u001b[43mmesh_study\u001b[49m\u001b[38;5;241;43m.\u001b[39;49m\u001b[43mplot\u001b[49m\u001b[43m(\u001b[49m\u001b[43m)\u001b[49m\n",
      "File \u001b[0;32m/media/ydubief/M2CE-14TB-1/gitrepo/pymooCFD/pymooCFD/core/meshStudy.py:161\u001b[0m, in \u001b[0;36mMeshStudy.plot\u001b[0;34m(self)\u001b[0m\n\u001b[1;32m    159\u001b[0m fName \u001b[38;5;241m=\u001b[39m \u001b[38;5;124mf\u001b[39m\u001b[38;5;124m'\u001b[39m\u001b[38;5;124mms_plot-\u001b[39m\u001b[38;5;132;01m{\u001b[39;00mtail\u001b[38;5;132;01m}\u001b[39;00m\u001b[38;5;124m-numElem_v_time.png\u001b[39m\u001b[38;5;124m'\u001b[39m\n\u001b[1;32m    160\u001b[0m fPath \u001b[38;5;241m=\u001b[39m os\u001b[38;5;241m.\u001b[39mpath\u001b[38;5;241m.\u001b[39mjoin(\u001b[38;5;28mself\u001b[39m\u001b[38;5;241m.\u001b[39mfolder, fName)\n\u001b[0;32m--> 161\u001b[0m \u001b[43mplot\u001b[49m\u001b[38;5;241;43m.\u001b[39;49m\u001b[43msave\u001b[49m\u001b[43m(\u001b[49m\u001b[43mfPath\u001b[49m\u001b[43m,\u001b[49m\u001b[43m \u001b[49m\u001b[43mdpi\u001b[49m\u001b[38;5;241;43m=\u001b[39;49m\u001b[38;5;241;43m200\u001b[39;49m\u001b[43m)\u001b[49m\n\u001b[1;32m    162\u001b[0m \u001b[38;5;66;03m# OBJECTIVES\u001b[39;00m\n\u001b[1;32m    163\u001b[0m \u001b[38;5;28;01mfor\u001b[39;00m obj_i, obj_label \u001b[38;5;129;01min\u001b[39;00m \u001b[38;5;28menumerate\u001b[39m(\u001b[38;5;28mself\u001b[39m\u001b[38;5;241m.\u001b[39mbase_case\u001b[38;5;241m.\u001b[39mobj_labels):\n\u001b[1;32m    164\u001b[0m     \u001b[38;5;66;03m# Number of elements vs Objective\u001b[39;00m\n",
      "File \u001b[0;32m~/.local/lib/python3.8/site-packages/pymoo/core/plot.py:184\u001b[0m, in \u001b[0;36mPlot.save\u001b[0;34m(self, fname, **kwargs)\u001b[0m\n\u001b[1;32m    182\u001b[0m \u001b[38;5;28mself\u001b[39m\u001b[38;5;241m.\u001b[39mplot_if_not_done_yet()\n\u001b[1;32m    183\u001b[0m set_if_none(kwargs, \u001b[38;5;124m\"\u001b[39m\u001b[38;5;124mbbox_inches\u001b[39m\u001b[38;5;124m\"\u001b[39m, \u001b[38;5;124m\"\u001b[39m\u001b[38;5;124mtight\u001b[39m\u001b[38;5;124m\"\u001b[39m)\n\u001b[0;32m--> 184\u001b[0m \u001b[38;5;28;43mself\u001b[39;49m\u001b[38;5;241;43m.\u001b[39;49m\u001b[43mfig\u001b[49m\u001b[38;5;241;43m.\u001b[39;49m\u001b[43msavefig\u001b[49m\u001b[43m(\u001b[49m\u001b[43mfname\u001b[49m\u001b[43m,\u001b[49m\u001b[43m \u001b[49m\u001b[38;5;241;43m*\u001b[39;49m\u001b[38;5;241;43m*\u001b[39;49m\u001b[43mkwargs\u001b[49m\u001b[43m)\u001b[49m\n\u001b[1;32m    185\u001b[0m \u001b[38;5;28;01mreturn\u001b[39;00m \u001b[38;5;28mself\u001b[39m\n",
      "File \u001b[0;32m~/.local/lib/python3.8/site-packages/matplotlib/figure.py:3019\u001b[0m, in \u001b[0;36mFigure.savefig\u001b[0;34m(self, fname, transparent, **kwargs)\u001b[0m\n\u001b[1;32m   3015\u001b[0m     \u001b[38;5;28;01mfor\u001b[39;00m ax \u001b[38;5;129;01min\u001b[39;00m \u001b[38;5;28mself\u001b[39m\u001b[38;5;241m.\u001b[39maxes:\n\u001b[1;32m   3016\u001b[0m         stack\u001b[38;5;241m.\u001b[39menter_context(\n\u001b[1;32m   3017\u001b[0m             ax\u001b[38;5;241m.\u001b[39mpatch\u001b[38;5;241m.\u001b[39m_cm_set(facecolor\u001b[38;5;241m=\u001b[39m\u001b[38;5;124m'\u001b[39m\u001b[38;5;124mnone\u001b[39m\u001b[38;5;124m'\u001b[39m, edgecolor\u001b[38;5;241m=\u001b[39m\u001b[38;5;124m'\u001b[39m\u001b[38;5;124mnone\u001b[39m\u001b[38;5;124m'\u001b[39m))\n\u001b[0;32m-> 3019\u001b[0m \u001b[38;5;28;43mself\u001b[39;49m\u001b[38;5;241;43m.\u001b[39;49m\u001b[43mcanvas\u001b[49m\u001b[38;5;241;43m.\u001b[39;49m\u001b[43mprint_figure\u001b[49m\u001b[43m(\u001b[49m\u001b[43mfname\u001b[49m\u001b[43m,\u001b[49m\u001b[43m \u001b[49m\u001b[38;5;241;43m*\u001b[39;49m\u001b[38;5;241;43m*\u001b[39;49m\u001b[43mkwargs\u001b[49m\u001b[43m)\u001b[49m\n",
      "File \u001b[0;32m~/.local/lib/python3.8/site-packages/matplotlib/backend_bases.py:2319\u001b[0m, in \u001b[0;36mFigureCanvasBase.print_figure\u001b[0;34m(self, filename, dpi, facecolor, edgecolor, orientation, format, bbox_inches, pad_inches, bbox_extra_artists, backend, **kwargs)\u001b[0m\n\u001b[1;32m   2315\u001b[0m \u001b[38;5;28;01mtry\u001b[39;00m:\n\u001b[1;32m   2316\u001b[0m     \u001b[38;5;66;03m# _get_renderer may change the figure dpi (as vector formats\u001b[39;00m\n\u001b[1;32m   2317\u001b[0m     \u001b[38;5;66;03m# force the figure dpi to 72), so we need to set it again here.\u001b[39;00m\n\u001b[1;32m   2318\u001b[0m     \u001b[38;5;28;01mwith\u001b[39;00m cbook\u001b[38;5;241m.\u001b[39m_setattr_cm(\u001b[38;5;28mself\u001b[39m\u001b[38;5;241m.\u001b[39mfigure, dpi\u001b[38;5;241m=\u001b[39mdpi):\n\u001b[0;32m-> 2319\u001b[0m         result \u001b[38;5;241m=\u001b[39m \u001b[43mprint_method\u001b[49m\u001b[43m(\u001b[49m\n\u001b[1;32m   2320\u001b[0m \u001b[43m            \u001b[49m\u001b[43mfilename\u001b[49m\u001b[43m,\u001b[49m\n\u001b[1;32m   2321\u001b[0m \u001b[43m            \u001b[49m\u001b[43mfacecolor\u001b[49m\u001b[38;5;241;43m=\u001b[39;49m\u001b[43mfacecolor\u001b[49m\u001b[43m,\u001b[49m\n\u001b[1;32m   2322\u001b[0m \u001b[43m            \u001b[49m\u001b[43medgecolor\u001b[49m\u001b[38;5;241;43m=\u001b[39;49m\u001b[43medgecolor\u001b[49m\u001b[43m,\u001b[49m\n\u001b[1;32m   2323\u001b[0m \u001b[43m            \u001b[49m\u001b[43morientation\u001b[49m\u001b[38;5;241;43m=\u001b[39;49m\u001b[43morientation\u001b[49m\u001b[43m,\u001b[49m\n\u001b[1;32m   2324\u001b[0m \u001b[43m            \u001b[49m\u001b[43mbbox_inches_restore\u001b[49m\u001b[38;5;241;43m=\u001b[39;49m\u001b[43m_bbox_inches_restore\u001b[49m\u001b[43m,\u001b[49m\n\u001b[1;32m   2325\u001b[0m \u001b[43m            \u001b[49m\u001b[38;5;241;43m*\u001b[39;49m\u001b[38;5;241;43m*\u001b[39;49m\u001b[43mkwargs\u001b[49m\u001b[43m)\u001b[49m\n\u001b[1;32m   2326\u001b[0m \u001b[38;5;28;01mfinally\u001b[39;00m:\n\u001b[1;32m   2327\u001b[0m     \u001b[38;5;28;01mif\u001b[39;00m bbox_inches \u001b[38;5;129;01mand\u001b[39;00m restore_bbox:\n",
      "File \u001b[0;32m~/.local/lib/python3.8/site-packages/matplotlib/backend_bases.py:1648\u001b[0m, in \u001b[0;36m_check_savefig_extra_args.<locals>.wrapper\u001b[0;34m(*args, **kwargs)\u001b[0m\n\u001b[1;32m   1640\u001b[0m     _api\u001b[38;5;241m.\u001b[39mwarn_deprecated(\n\u001b[1;32m   1641\u001b[0m         \u001b[38;5;124m'\u001b[39m\u001b[38;5;124m3.3\u001b[39m\u001b[38;5;124m'\u001b[39m, name\u001b[38;5;241m=\u001b[39mname, removal\u001b[38;5;241m=\u001b[39m\u001b[38;5;124m'\u001b[39m\u001b[38;5;124m3.6\u001b[39m\u001b[38;5;124m'\u001b[39m,\n\u001b[1;32m   1642\u001b[0m         message\u001b[38;5;241m=\u001b[39m\u001b[38;5;124m'\u001b[39m\u001b[38;5;132;01m%(name)s\u001b[39;00m\u001b[38;5;124m() got unexpected keyword argument \u001b[39m\u001b[38;5;124m\"\u001b[39m\u001b[38;5;124m'\u001b[39m\n\u001b[1;32m   1643\u001b[0m                 \u001b[38;5;241m+\u001b[39m arg \u001b[38;5;241m+\u001b[39m \u001b[38;5;124m'\u001b[39m\u001b[38;5;124m\"\u001b[39m\u001b[38;5;124m which is no longer supported as of \u001b[39m\u001b[38;5;124m'\u001b[39m\n\u001b[1;32m   1644\u001b[0m                 \u001b[38;5;124m'\u001b[39m\u001b[38;5;132;01m%(since)s\u001b[39;00m\u001b[38;5;124m and will become an error \u001b[39m\u001b[38;5;124m'\u001b[39m\n\u001b[1;32m   1645\u001b[0m                 \u001b[38;5;124m'\u001b[39m\u001b[38;5;132;01m%(removal)s\u001b[39;00m\u001b[38;5;124m'\u001b[39m)\n\u001b[1;32m   1646\u001b[0m     kwargs\u001b[38;5;241m.\u001b[39mpop(arg)\n\u001b[0;32m-> 1648\u001b[0m \u001b[38;5;28;01mreturn\u001b[39;00m \u001b[43mfunc\u001b[49m\u001b[43m(\u001b[49m\u001b[38;5;241;43m*\u001b[39;49m\u001b[43margs\u001b[49m\u001b[43m,\u001b[49m\u001b[43m \u001b[49m\u001b[38;5;241;43m*\u001b[39;49m\u001b[38;5;241;43m*\u001b[39;49m\u001b[43mkwargs\u001b[49m\u001b[43m)\u001b[49m\n",
      "File \u001b[0;32m~/.local/lib/python3.8/site-packages/matplotlib/_api/deprecation.py:412\u001b[0m, in \u001b[0;36mdelete_parameter.<locals>.wrapper\u001b[0;34m(*inner_args, **inner_kwargs)\u001b[0m\n\u001b[1;32m    402\u001b[0m     deprecation_addendum \u001b[38;5;241m=\u001b[39m (\n\u001b[1;32m    403\u001b[0m         \u001b[38;5;124mf\u001b[39m\u001b[38;5;124m\"\u001b[39m\u001b[38;5;124mIf any parameter follows \u001b[39m\u001b[38;5;132;01m{\u001b[39;00mname\u001b[38;5;132;01m!r}\u001b[39;00m\u001b[38;5;124m, they should be passed as \u001b[39m\u001b[38;5;124m\"\u001b[39m\n\u001b[1;32m    404\u001b[0m         \u001b[38;5;124mf\u001b[39m\u001b[38;5;124m\"\u001b[39m\u001b[38;5;124mkeyword, not positionally.\u001b[39m\u001b[38;5;124m\"\u001b[39m)\n\u001b[1;32m    405\u001b[0m     warn_deprecated(\n\u001b[1;32m    406\u001b[0m         since,\n\u001b[1;32m    407\u001b[0m         name\u001b[38;5;241m=\u001b[39m\u001b[38;5;28mrepr\u001b[39m(name),\n\u001b[0;32m   (...)\u001b[0m\n\u001b[1;32m    410\u001b[0m                  \u001b[38;5;28;01melse\u001b[39;00m deprecation_addendum,\n\u001b[1;32m    411\u001b[0m         \u001b[38;5;241m*\u001b[39m\u001b[38;5;241m*\u001b[39mkwargs)\n\u001b[0;32m--> 412\u001b[0m \u001b[38;5;28;01mreturn\u001b[39;00m \u001b[43mfunc\u001b[49m\u001b[43m(\u001b[49m\u001b[38;5;241;43m*\u001b[39;49m\u001b[43minner_args\u001b[49m\u001b[43m,\u001b[49m\u001b[43m \u001b[49m\u001b[38;5;241;43m*\u001b[39;49m\u001b[38;5;241;43m*\u001b[39;49m\u001b[43minner_kwargs\u001b[49m\u001b[43m)\u001b[49m\n",
      "File \u001b[0;32m~/.local/lib/python3.8/site-packages/matplotlib/backends/backend_agg.py:541\u001b[0m, in \u001b[0;36mFigureCanvasAgg.print_png\u001b[0;34m(self, filename_or_obj, metadata, pil_kwargs, *args)\u001b[0m\n\u001b[1;32m    494\u001b[0m \u001b[38;5;124;03m\"\"\"\u001b[39;00m\n\u001b[1;32m    495\u001b[0m \u001b[38;5;124;03mWrite the figure to a PNG file.\u001b[39;00m\n\u001b[1;32m    496\u001b[0m \n\u001b[0;32m   (...)\u001b[0m\n\u001b[1;32m    538\u001b[0m \u001b[38;5;124;03m    *metadata*, including the default 'Software' key.\u001b[39;00m\n\u001b[1;32m    539\u001b[0m \u001b[38;5;124;03m\"\"\"\u001b[39;00m\n\u001b[1;32m    540\u001b[0m FigureCanvasAgg\u001b[38;5;241m.\u001b[39mdraw(\u001b[38;5;28mself\u001b[39m)\n\u001b[0;32m--> 541\u001b[0m \u001b[43mmpl\u001b[49m\u001b[38;5;241;43m.\u001b[39;49m\u001b[43mimage\u001b[49m\u001b[38;5;241;43m.\u001b[39;49m\u001b[43mimsave\u001b[49m\u001b[43m(\u001b[49m\n\u001b[1;32m    542\u001b[0m \u001b[43m    \u001b[49m\u001b[43mfilename_or_obj\u001b[49m\u001b[43m,\u001b[49m\u001b[43m \u001b[49m\u001b[38;5;28;43mself\u001b[39;49m\u001b[38;5;241;43m.\u001b[39;49m\u001b[43mbuffer_rgba\u001b[49m\u001b[43m(\u001b[49m\u001b[43m)\u001b[49m\u001b[43m,\u001b[49m\u001b[43m \u001b[49m\u001b[38;5;28;43mformat\u001b[39;49m\u001b[38;5;241;43m=\u001b[39;49m\u001b[38;5;124;43m\"\u001b[39;49m\u001b[38;5;124;43mpng\u001b[39;49m\u001b[38;5;124;43m\"\u001b[39;49m\u001b[43m,\u001b[49m\u001b[43m \u001b[49m\u001b[43morigin\u001b[49m\u001b[38;5;241;43m=\u001b[39;49m\u001b[38;5;124;43m\"\u001b[39;49m\u001b[38;5;124;43mupper\u001b[39;49m\u001b[38;5;124;43m\"\u001b[39;49m\u001b[43m,\u001b[49m\n\u001b[1;32m    543\u001b[0m \u001b[43m    \u001b[49m\u001b[43mdpi\u001b[49m\u001b[38;5;241;43m=\u001b[39;49m\u001b[38;5;28;43mself\u001b[39;49m\u001b[38;5;241;43m.\u001b[39;49m\u001b[43mfigure\u001b[49m\u001b[38;5;241;43m.\u001b[39;49m\u001b[43mdpi\u001b[49m\u001b[43m,\u001b[49m\u001b[43m \u001b[49m\u001b[43mmetadata\u001b[49m\u001b[38;5;241;43m=\u001b[39;49m\u001b[43mmetadata\u001b[49m\u001b[43m,\u001b[49m\u001b[43m \u001b[49m\u001b[43mpil_kwargs\u001b[49m\u001b[38;5;241;43m=\u001b[39;49m\u001b[43mpil_kwargs\u001b[49m\u001b[43m)\u001b[49m\n",
      "File \u001b[0;32m~/.local/lib/python3.8/site-packages/matplotlib/image.py:1675\u001b[0m, in \u001b[0;36mimsave\u001b[0;34m(fname, arr, vmin, vmax, cmap, format, origin, dpi, metadata, pil_kwargs)\u001b[0m\n\u001b[1;32m   1673\u001b[0m pil_kwargs\u001b[38;5;241m.\u001b[39msetdefault(\u001b[38;5;124m\"\u001b[39m\u001b[38;5;124mformat\u001b[39m\u001b[38;5;124m\"\u001b[39m, \u001b[38;5;28mformat\u001b[39m)\n\u001b[1;32m   1674\u001b[0m pil_kwargs\u001b[38;5;241m.\u001b[39msetdefault(\u001b[38;5;124m\"\u001b[39m\u001b[38;5;124mdpi\u001b[39m\u001b[38;5;124m\"\u001b[39m, (dpi, dpi))\n\u001b[0;32m-> 1675\u001b[0m \u001b[43mimage\u001b[49m\u001b[38;5;241;43m.\u001b[39;49m\u001b[43msave\u001b[49m\u001b[43m(\u001b[49m\u001b[43mfname\u001b[49m\u001b[43m,\u001b[49m\u001b[43m \u001b[49m\u001b[38;5;241;43m*\u001b[39;49m\u001b[38;5;241;43m*\u001b[39;49m\u001b[43mpil_kwargs\u001b[49m\u001b[43m)\u001b[49m\n",
      "File \u001b[0;32m/usr/lib/python3/dist-packages/PIL/Image.py:2099\u001b[0m, in \u001b[0;36mImage.save\u001b[0;34m(self, fp, format, **params)\u001b[0m\n\u001b[1;32m   2097\u001b[0m         fp \u001b[38;5;241m=\u001b[39m builtins\u001b[38;5;241m.\u001b[39mopen(filename, \u001b[38;5;124m\"\u001b[39m\u001b[38;5;124mr+b\u001b[39m\u001b[38;5;124m\"\u001b[39m)\n\u001b[1;32m   2098\u001b[0m     \u001b[38;5;28;01melse\u001b[39;00m:\n\u001b[0;32m-> 2099\u001b[0m         fp \u001b[38;5;241m=\u001b[39m \u001b[43mbuiltins\u001b[49m\u001b[38;5;241;43m.\u001b[39;49m\u001b[43mopen\u001b[49m\u001b[43m(\u001b[49m\u001b[43mfilename\u001b[49m\u001b[43m,\u001b[49m\u001b[43m \u001b[49m\u001b[38;5;124;43m\"\u001b[39;49m\u001b[38;5;124;43mw+b\u001b[39;49m\u001b[38;5;124;43m\"\u001b[39;49m\u001b[43m)\u001b[49m\n\u001b[1;32m   2101\u001b[0m \u001b[38;5;28;01mtry\u001b[39;00m:\n\u001b[1;32m   2102\u001b[0m     save_handler(\u001b[38;5;28mself\u001b[39m, fp, filename)\n",
      "\u001b[0;31mFileNotFoundError\u001b[0m: [Errno 2] No such file or directory: '/gpfs1/home/g/l/glove1/gitrepo/pymooCFD/optStudy-OscillCylinder_SLURM/default_run/test_case/mesh_study/ms_plot--numElem_v_time.png'"
     ]
    }
   ],
   "source": [
    "ms_plots = opt_run.test_case.mesh_study.plot()"
   ]
  },
  {
   "cell_type": "code",
   "execution_count": null,
   "id": "e2dd69da",
   "metadata": {},
   "outputs": [],
   "source": [
    "font = {'family' : 'serif',\n",
    "        #'color'  : 'black',\n",
    "        'weight' : 'normal',\n",
    "        'size'   : 10,\n",
    "        }\n",
    "fontlabel = {'family' : 'serif',\n",
    "        #'color'  : 'black',\n",
    "        'weight' : 'normal',\n",
    "        'size'   : 10,\n",
    "        }\n",
    "plt.rc('font', family='serif')\n",
    "plt.rc('text', usetex=True)\n",
    "plt.rcParams['axes.linewidth']=1\n",
    "ftsize = 10"
   ]
  },
  {
   "cell_type": "code",
   "execution_count": null,
   "id": "a7e6c198",
   "metadata": {},
   "outputs": [],
   "source": [
    "# plt.rcParams['font.size'] = '30'"
   ]
  },
  {
   "cell_type": "code",
   "execution_count": null,
   "id": "a7198974",
   "metadata": {},
   "outputs": [],
   "source": [
    "ms_plots"
   ]
  },
  {
   "cell_type": "code",
   "execution_count": null,
   "id": "d0a1ba5c",
   "metadata": {},
   "outputs": [],
   "source": [
    "for plot in ms_plots:\n",
    "    pprint(plot.__dict__)\n",
    "    print()"
   ]
  },
  {
   "cell_type": "code",
   "execution_count": 34,
   "id": "1a6106be",
   "metadata": {},
   "outputs": [],
   "source": [
    "%matplotlib inline"
   ]
  },
  {
   "cell_type": "code",
   "execution_count": 35,
   "id": "30155964",
   "metadata": {
    "scrolled": true
   },
   "outputs": [
    {
     "name": "stdout",
     "output_type": "stream",
     "text": [
      "{'angle': (45, 45),\n",
      " 'ax': <AxesSubplot:title={'center':'Mesh Study: test_case'}, xlabel='Number of Elements', ylabel='Change in Coefficient of Drag [%]'>,\n",
      " 'axis_label_style': {},\n",
      " 'axis_labels': ['Number of Elements', 'Change in Coefficient of Drag [%]'],\n",
      " 'axis_style': {},\n",
      " 'bounds': None,\n",
      " 'close_on_destroy': True,\n",
      " 'cmap': <matplotlib.colors.ListedColormap object at 0x7f0b4c314a00>,\n",
      " 'colors': ((0.12156862745098039, 0.4666666666666667, 0.7058823529411765),\n",
      "            (1.0, 0.4980392156862745, 0.054901960784313725),\n",
      "            (0.17254901960784313, 0.6274509803921569, 0.17254901960784313),\n",
      "            (0.8392156862745098, 0.15294117647058825, 0.1568627450980392),\n",
      "            (0.5803921568627451, 0.403921568627451, 0.7411764705882353),\n",
      "            (0.5490196078431373, 0.33725490196078434, 0.29411764705882354),\n",
      "            (0.8901960784313725, 0.4666666666666667, 0.7607843137254902),\n",
      "            (0.4980392156862745, 0.4980392156862745, 0.4980392156862745),\n",
      "            (0.7372549019607844, 0.7411764705882353, 0.13333333333333333),\n",
      "            (0.09019607843137255, 0.7450980392156863, 0.8117647058823529)),\n",
      " 'fig': <Figure size 576x432 with 1 Axes>,\n",
      " 'figsize': (8, 6),\n",
      " 'func_number_to_text': <function default_number_to_text at 0x7f0b20b30e50>,\n",
      " 'legend': True,\n",
      " 'n_dim': 2,\n",
      " 'reverse': False,\n",
      " 'tight_layout': True,\n",
      " 'title': 'Mesh Study: test_case',\n",
      " 'to_plot': [[array([[ 1.22927000e+05, -1.19734369e+01]]),\n",
      "              {'label': 1.0, 'linestyle': '-', 'marker': 'o'}],\n",
      "             [array([[ 1.13742000e+05, -1.17315818e+01]]),\n",
      "              {'label': 1.3, 'linestyle': '-', 'marker': 'o'}],\n",
      "             [array([[ 1.05805000e+05, -1.22038726e+01]]),\n",
      "              {'label': 1.5, 'linestyle': '-', 'marker': 'o'}],\n",
      "             [array([[ 9.52790000e+04, -1.23992847e+01]]),\n",
      "              {'label': 2.0, 'linestyle': '-', 'marker': 'o'}],\n",
      "             [array([[ 8.24720000e+04, -1.27395536e+01]]),\n",
      "              {'label': 3.0, 'linestyle': '-', 'marker': 'o'}],\n",
      "             [array([[ 7.43760000e+04, -1.40446709e+01]]),\n",
      "              {'label': 4.0, 'linestyle': '-', 'marker': 'o'}],\n",
      "             [array([[ 7.01880000e+04, -1.48400875e+01]]),\n",
      "              {'label': 5.0, 'linestyle': '-', 'marker': 'o'}]]}\n"
     ]
    }
   ],
   "source": [
    "pprint(ms_plots[1].__dict__)"
   ]
  },
  {
   "cell_type": "code",
   "execution_count": 36,
   "id": "99dd9c5d",
   "metadata": {
    "scrolled": true
   },
   "outputs": [
    {
     "ename": "RuntimeError",
     "evalue": "latex was not able to process the following string:\nb'lp'\n\nHere is the full report generated by latex:\nThis is pdfTeX, Version 3.141592653-2.6-1.40.22 (TeX Live 2021) (preloaded format=latex)\n restricted \\write18 enabled.\n\nkpathsea: Running mktexfmt latex.fmt\nCan't locate mktexlsr.pl in @INC (@INC contains: /users/g/l/glove1/.conda/envs/pymooCFD/share/tlpkg /users/g/l/glove1/.conda/envs/pymooCFD/share/texmf-dist/scripts/texlive /usr/local/lib64/perl5 /usr/local/share/perl5 /usr/lib64/perl5/vendor_perl /usr/share/perl5/vendor_perl /usr/lib64/perl5 /usr/share/perl5 .) at /users/g/l/glove1/.conda/envs/pymooCFD/bin/mktexfmt line 23.\nBEGIN failed--compilation aborted at /users/g/l/glove1/.conda/envs/pymooCFD/bin/mktexfmt line 25.\nI can't find the format file `latex.fmt'!\n\n\n",
     "output_type": "error",
     "traceback": [
      "\u001b[0;31m---------------------------------------------------------------------------\u001b[0m",
      "\u001b[0;31mCalledProcessError\u001b[0m                        Traceback (most recent call last)",
      "\u001b[0;32m~/.conda/envs/pymooCFD/lib/python3.9/site-packages/matplotlib/texmanager.py\u001b[0m in \u001b[0;36m_run_checked_subprocess\u001b[0;34m(self, command, tex, cwd)\u001b[0m\n\u001b[1;32m    232\u001b[0m         \u001b[0;32mtry\u001b[0m\u001b[0;34m:\u001b[0m\u001b[0;34m\u001b[0m\u001b[0;34m\u001b[0m\u001b[0m\n\u001b[0;32m--> 233\u001b[0;31m             report = subprocess.check_output(\n\u001b[0m\u001b[1;32m    234\u001b[0m                 \u001b[0mcommand\u001b[0m\u001b[0;34m,\u001b[0m \u001b[0mcwd\u001b[0m\u001b[0;34m=\u001b[0m\u001b[0mcwd\u001b[0m \u001b[0;32mif\u001b[0m \u001b[0mcwd\u001b[0m \u001b[0;32mis\u001b[0m \u001b[0;32mnot\u001b[0m \u001b[0;32mNone\u001b[0m \u001b[0;32melse\u001b[0m \u001b[0mself\u001b[0m\u001b[0;34m.\u001b[0m\u001b[0mtexcache\u001b[0m\u001b[0;34m,\u001b[0m\u001b[0;34m\u001b[0m\u001b[0;34m\u001b[0m\u001b[0m\n",
      "\u001b[0;32m~/.conda/envs/pymooCFD/lib/python3.9/subprocess.py\u001b[0m in \u001b[0;36mcheck_output\u001b[0;34m(timeout, *popenargs, **kwargs)\u001b[0m\n\u001b[1;32m    423\u001b[0m \u001b[0;34m\u001b[0m\u001b[0m\n\u001b[0;32m--> 424\u001b[0;31m     return run(*popenargs, stdout=PIPE, timeout=timeout, check=True,\n\u001b[0m\u001b[1;32m    425\u001b[0m                **kwargs).stdout\n",
      "\u001b[0;32m~/.conda/envs/pymooCFD/lib/python3.9/subprocess.py\u001b[0m in \u001b[0;36mrun\u001b[0;34m(input, capture_output, timeout, check, *popenargs, **kwargs)\u001b[0m\n\u001b[1;32m    527\u001b[0m         \u001b[0;32mif\u001b[0m \u001b[0mcheck\u001b[0m \u001b[0;32mand\u001b[0m \u001b[0mretcode\u001b[0m\u001b[0;34m:\u001b[0m\u001b[0;34m\u001b[0m\u001b[0;34m\u001b[0m\u001b[0m\n\u001b[0;32m--> 528\u001b[0;31m             raise CalledProcessError(retcode, process.args,\n\u001b[0m\u001b[1;32m    529\u001b[0m                                      output=stdout, stderr=stderr)\n",
      "\u001b[0;31mCalledProcessError\u001b[0m: Command '['latex', '-interaction=nonstopmode', '--halt-on-error', '../3bbc0f8d536770a62891b7cc8788c317.tex']' returned non-zero exit status 1.",
      "\nThe above exception was the direct cause of the following exception:\n",
      "\u001b[0;31mRuntimeError\u001b[0m                              Traceback (most recent call last)",
      "\u001b[0;32m/tmp/ipykernel_14568/1376418236.py\u001b[0m in \u001b[0;36m<module>\u001b[0;34m\u001b[0m\n\u001b[0;32m----> 1\u001b[0;31m \u001b[0mms_plots\u001b[0m\u001b[0;34m[\u001b[0m\u001b[0;36m1\u001b[0m\u001b[0;34m]\u001b[0m\u001b[0;34m.\u001b[0m\u001b[0mdo\u001b[0m\u001b[0;34m(\u001b[0m\u001b[0;34m)\u001b[0m\u001b[0;34m\u001b[0m\u001b[0;34m\u001b[0m\u001b[0m\n\u001b[0m",
      "\u001b[0;32m~/.conda/envs/pymooCFD/lib/python3.9/site-packages/pymoo/core/plot.py\u001b[0m in \u001b[0;36mdo\u001b[0;34m(self)\u001b[0m\n\u001b[1;32m    131\u001b[0m \u001b[0;34m\u001b[0m\u001b[0m\n\u001b[1;32m    132\u001b[0m         \u001b[0;32mif\u001b[0m \u001b[0mself\u001b[0m\u001b[0;34m.\u001b[0m\u001b[0mtight_layout\u001b[0m\u001b[0;34m:\u001b[0m\u001b[0;34m\u001b[0m\u001b[0;34m\u001b[0m\u001b[0m\n\u001b[0;32m--> 133\u001b[0;31m             \u001b[0mself\u001b[0m\u001b[0;34m.\u001b[0m\u001b[0mfig\u001b[0m\u001b[0;34m.\u001b[0m\u001b[0mtight_layout\u001b[0m\u001b[0;34m(\u001b[0m\u001b[0;34m)\u001b[0m\u001b[0;34m\u001b[0m\u001b[0;34m\u001b[0m\u001b[0m\n\u001b[0m\u001b[1;32m    134\u001b[0m \u001b[0;34m\u001b[0m\u001b[0m\n\u001b[1;32m    135\u001b[0m         \u001b[0;32mreturn\u001b[0m \u001b[0mself\u001b[0m\u001b[0;34m\u001b[0m\u001b[0;34m\u001b[0m\u001b[0m\n",
      "\u001b[0;32m~/.conda/envs/pymooCFD/lib/python3.9/site-packages/matplotlib/figure.py\u001b[0m in \u001b[0;36mtight_layout\u001b[0;34m(self, pad, h_pad, w_pad, rect)\u001b[0m\n\u001b[1;32m   3195\u001b[0m         \u001b[0mrenderer\u001b[0m \u001b[0;34m=\u001b[0m \u001b[0m_get_renderer\u001b[0m\u001b[0;34m(\u001b[0m\u001b[0mself\u001b[0m\u001b[0;34m)\u001b[0m\u001b[0;34m\u001b[0m\u001b[0;34m\u001b[0m\u001b[0m\n\u001b[1;32m   3196\u001b[0m         \u001b[0;32mwith\u001b[0m \u001b[0mgetattr\u001b[0m\u001b[0;34m(\u001b[0m\u001b[0mrenderer\u001b[0m\u001b[0;34m,\u001b[0m \u001b[0;34m\"_draw_disabled\"\u001b[0m\u001b[0;34m,\u001b[0m \u001b[0mnullcontext\u001b[0m\u001b[0;34m)\u001b[0m\u001b[0;34m(\u001b[0m\u001b[0;34m)\u001b[0m\u001b[0;34m:\u001b[0m\u001b[0;34m\u001b[0m\u001b[0;34m\u001b[0m\u001b[0m\n\u001b[0;32m-> 3197\u001b[0;31m             kwargs = get_tight_layout_figure(\n\u001b[0m\u001b[1;32m   3198\u001b[0m                 \u001b[0mself\u001b[0m\u001b[0;34m,\u001b[0m \u001b[0mself\u001b[0m\u001b[0;34m.\u001b[0m\u001b[0maxes\u001b[0m\u001b[0;34m,\u001b[0m \u001b[0msubplotspec_list\u001b[0m\u001b[0;34m,\u001b[0m \u001b[0mrenderer\u001b[0m\u001b[0;34m,\u001b[0m\u001b[0;34m\u001b[0m\u001b[0;34m\u001b[0m\u001b[0m\n\u001b[1;32m   3199\u001b[0m                 pad=pad, h_pad=h_pad, w_pad=w_pad, rect=rect)\n",
      "\u001b[0;32m~/.conda/envs/pymooCFD/lib/python3.9/site-packages/matplotlib/tight_layout.py\u001b[0m in \u001b[0;36mget_tight_layout_figure\u001b[0;34m(fig, axes_list, subplotspec_list, renderer, pad, h_pad, w_pad, rect)\u001b[0m\n\u001b[1;32m    318\u001b[0m             slice(ss.colspan.start * div_col, ss.colspan.stop * div_col)))\n\u001b[1;32m    319\u001b[0m \u001b[0;34m\u001b[0m\u001b[0m\n\u001b[0;32m--> 320\u001b[0;31m     kwargs = _auto_adjust_subplotpars(fig, renderer,\n\u001b[0m\u001b[1;32m    321\u001b[0m                                       \u001b[0mshape\u001b[0m\u001b[0;34m=\u001b[0m\u001b[0;34m(\u001b[0m\u001b[0mmax_nrows\u001b[0m\u001b[0;34m,\u001b[0m \u001b[0mmax_ncols\u001b[0m\u001b[0;34m)\u001b[0m\u001b[0;34m,\u001b[0m\u001b[0;34m\u001b[0m\u001b[0;34m\u001b[0m\u001b[0m\n\u001b[1;32m    322\u001b[0m                                       \u001b[0mspan_pairs\u001b[0m\u001b[0;34m=\u001b[0m\u001b[0mspan_pairs\u001b[0m\u001b[0;34m,\u001b[0m\u001b[0;34m\u001b[0m\u001b[0;34m\u001b[0m\u001b[0m\n",
      "\u001b[0;32m~/.conda/envs/pymooCFD/lib/python3.9/site-packages/matplotlib/tight_layout.py\u001b[0m in \u001b[0;36m_auto_adjust_subplotpars\u001b[0;34m(fig, renderer, shape, span_pairs, subplot_list, ax_bbox_list, pad, h_pad, w_pad, rect)\u001b[0m\n\u001b[1;32m     80\u001b[0m             \u001b[0;32mif\u001b[0m \u001b[0max\u001b[0m\u001b[0;34m.\u001b[0m\u001b[0mget_visible\u001b[0m\u001b[0;34m(\u001b[0m\u001b[0;34m)\u001b[0m\u001b[0;34m:\u001b[0m\u001b[0;34m\u001b[0m\u001b[0;34m\u001b[0m\u001b[0m\n\u001b[1;32m     81\u001b[0m                 \u001b[0;32mtry\u001b[0m\u001b[0;34m:\u001b[0m\u001b[0;34m\u001b[0m\u001b[0;34m\u001b[0m\u001b[0m\n\u001b[0;32m---> 82\u001b[0;31m                     \u001b[0mbb\u001b[0m \u001b[0;34m+=\u001b[0m \u001b[0;34m[\u001b[0m\u001b[0max\u001b[0m\u001b[0;34m.\u001b[0m\u001b[0mget_tightbbox\u001b[0m\u001b[0;34m(\u001b[0m\u001b[0mrenderer\u001b[0m\u001b[0;34m,\u001b[0m \u001b[0mfor_layout_only\u001b[0m\u001b[0;34m=\u001b[0m\u001b[0;32mTrue\u001b[0m\u001b[0;34m)\u001b[0m\u001b[0;34m]\u001b[0m\u001b[0;34m\u001b[0m\u001b[0;34m\u001b[0m\u001b[0m\n\u001b[0m\u001b[1;32m     83\u001b[0m                 \u001b[0;32mexcept\u001b[0m \u001b[0mTypeError\u001b[0m\u001b[0;34m:\u001b[0m\u001b[0;34m\u001b[0m\u001b[0;34m\u001b[0m\u001b[0m\n\u001b[1;32m     84\u001b[0m                     \u001b[0mbb\u001b[0m \u001b[0;34m+=\u001b[0m \u001b[0;34m[\u001b[0m\u001b[0max\u001b[0m\u001b[0;34m.\u001b[0m\u001b[0mget_tightbbox\u001b[0m\u001b[0;34m(\u001b[0m\u001b[0mrenderer\u001b[0m\u001b[0;34m)\u001b[0m\u001b[0;34m]\u001b[0m\u001b[0;34m\u001b[0m\u001b[0;34m\u001b[0m\u001b[0m\n",
      "\u001b[0;32m~/.conda/envs/pymooCFD/lib/python3.9/site-packages/matplotlib/axes/_base.py\u001b[0m in \u001b[0;36mget_tightbbox\u001b[0;34m(self, renderer, call_axes_locator, bbox_extra_artists, for_layout_only)\u001b[0m\n\u001b[1;32m   4664\u001b[0m                     \u001b[0;31m# this artist\u001b[0m\u001b[0;34m\u001b[0m\u001b[0;34m\u001b[0m\u001b[0m\n\u001b[1;32m   4665\u001b[0m                     \u001b[0;32mcontinue\u001b[0m\u001b[0;34m\u001b[0m\u001b[0;34m\u001b[0m\u001b[0m\n\u001b[0;32m-> 4666\u001b[0;31m             \u001b[0mbbox\u001b[0m \u001b[0;34m=\u001b[0m \u001b[0ma\u001b[0m\u001b[0;34m.\u001b[0m\u001b[0mget_tightbbox\u001b[0m\u001b[0;34m(\u001b[0m\u001b[0mrenderer\u001b[0m\u001b[0;34m)\u001b[0m\u001b[0;34m\u001b[0m\u001b[0;34m\u001b[0m\u001b[0m\n\u001b[0m\u001b[1;32m   4667\u001b[0m             if (bbox is not None\n\u001b[1;32m   4668\u001b[0m                     \u001b[0;32mand\u001b[0m \u001b[0;36m0\u001b[0m \u001b[0;34m<\u001b[0m \u001b[0mbbox\u001b[0m\u001b[0;34m.\u001b[0m\u001b[0mwidth\u001b[0m \u001b[0;34m<\u001b[0m \u001b[0mnp\u001b[0m\u001b[0;34m.\u001b[0m\u001b[0minf\u001b[0m\u001b[0;34m\u001b[0m\u001b[0;34m\u001b[0m\u001b[0m\n",
      "\u001b[0;32m~/.conda/envs/pymooCFD/lib/python3.9/site-packages/matplotlib/legend.py\u001b[0m in \u001b[0;36mget_tightbbox\u001b[0;34m(self, renderer)\u001b[0m\n\u001b[1;32m    913\u001b[0m     \u001b[0;32mdef\u001b[0m \u001b[0mget_tightbbox\u001b[0m\u001b[0;34m(\u001b[0m\u001b[0mself\u001b[0m\u001b[0;34m,\u001b[0m \u001b[0mrenderer\u001b[0m\u001b[0;34m)\u001b[0m\u001b[0;34m:\u001b[0m\u001b[0;34m\u001b[0m\u001b[0;34m\u001b[0m\u001b[0m\n\u001b[1;32m    914\u001b[0m         \u001b[0;31m# docstring inherited\u001b[0m\u001b[0;34m\u001b[0m\u001b[0;34m\u001b[0m\u001b[0m\n\u001b[0;32m--> 915\u001b[0;31m         \u001b[0;32mreturn\u001b[0m \u001b[0mself\u001b[0m\u001b[0;34m.\u001b[0m\u001b[0m_legend_box\u001b[0m\u001b[0;34m.\u001b[0m\u001b[0mget_window_extent\u001b[0m\u001b[0;34m(\u001b[0m\u001b[0mrenderer\u001b[0m\u001b[0;34m)\u001b[0m\u001b[0;34m\u001b[0m\u001b[0;34m\u001b[0m\u001b[0m\n\u001b[0m\u001b[1;32m    916\u001b[0m \u001b[0;34m\u001b[0m\u001b[0m\n\u001b[1;32m    917\u001b[0m     \u001b[0;32mdef\u001b[0m \u001b[0mget_frame_on\u001b[0m\u001b[0;34m(\u001b[0m\u001b[0mself\u001b[0m\u001b[0;34m)\u001b[0m\u001b[0;34m:\u001b[0m\u001b[0;34m\u001b[0m\u001b[0;34m\u001b[0m\u001b[0m\n",
      "\u001b[0;32m~/.conda/envs/pymooCFD/lib/python3.9/site-packages/matplotlib/offsetbox.py\u001b[0m in \u001b[0;36mget_window_extent\u001b[0;34m(self, renderer)\u001b[0m\n\u001b[1;32m    348\u001b[0m     \u001b[0;32mdef\u001b[0m \u001b[0mget_window_extent\u001b[0m\u001b[0;34m(\u001b[0m\u001b[0mself\u001b[0m\u001b[0;34m,\u001b[0m \u001b[0mrenderer\u001b[0m\u001b[0;34m)\u001b[0m\u001b[0;34m:\u001b[0m\u001b[0;34m\u001b[0m\u001b[0;34m\u001b[0m\u001b[0m\n\u001b[1;32m    349\u001b[0m         \u001b[0;31m# docstring inherited\u001b[0m\u001b[0;34m\u001b[0m\u001b[0;34m\u001b[0m\u001b[0m\n\u001b[0;32m--> 350\u001b[0;31m         \u001b[0mw\u001b[0m\u001b[0;34m,\u001b[0m \u001b[0mh\u001b[0m\u001b[0;34m,\u001b[0m \u001b[0mxd\u001b[0m\u001b[0;34m,\u001b[0m \u001b[0myd\u001b[0m\u001b[0;34m,\u001b[0m \u001b[0moffsets\u001b[0m \u001b[0;34m=\u001b[0m \u001b[0mself\u001b[0m\u001b[0;34m.\u001b[0m\u001b[0mget_extent_offsets\u001b[0m\u001b[0;34m(\u001b[0m\u001b[0mrenderer\u001b[0m\u001b[0;34m)\u001b[0m\u001b[0;34m\u001b[0m\u001b[0;34m\u001b[0m\u001b[0m\n\u001b[0m\u001b[1;32m    351\u001b[0m         \u001b[0mpx\u001b[0m\u001b[0;34m,\u001b[0m \u001b[0mpy\u001b[0m \u001b[0;34m=\u001b[0m \u001b[0mself\u001b[0m\u001b[0;34m.\u001b[0m\u001b[0mget_offset\u001b[0m\u001b[0;34m(\u001b[0m\u001b[0mw\u001b[0m\u001b[0;34m,\u001b[0m \u001b[0mh\u001b[0m\u001b[0;34m,\u001b[0m \u001b[0mxd\u001b[0m\u001b[0;34m,\u001b[0m \u001b[0myd\u001b[0m\u001b[0;34m,\u001b[0m \u001b[0mrenderer\u001b[0m\u001b[0;34m)\u001b[0m\u001b[0;34m\u001b[0m\u001b[0;34m\u001b[0m\u001b[0m\n\u001b[1;32m    352\u001b[0m         \u001b[0;32mreturn\u001b[0m \u001b[0mmtransforms\u001b[0m\u001b[0;34m.\u001b[0m\u001b[0mBbox\u001b[0m\u001b[0;34m.\u001b[0m\u001b[0mfrom_bounds\u001b[0m\u001b[0;34m(\u001b[0m\u001b[0mpx\u001b[0m \u001b[0;34m-\u001b[0m \u001b[0mxd\u001b[0m\u001b[0;34m,\u001b[0m \u001b[0mpy\u001b[0m \u001b[0;34m-\u001b[0m \u001b[0myd\u001b[0m\u001b[0;34m,\u001b[0m \u001b[0mw\u001b[0m\u001b[0;34m,\u001b[0m \u001b[0mh\u001b[0m\u001b[0;34m)\u001b[0m\u001b[0;34m\u001b[0m\u001b[0;34m\u001b[0m\u001b[0m\n",
      "\u001b[0;32m~/.conda/envs/pymooCFD/lib/python3.9/site-packages/matplotlib/offsetbox.py\u001b[0m in \u001b[0;36mget_extent_offsets\u001b[0;34m(self, renderer)\u001b[0m\n\u001b[1;32m    434\u001b[0m                     \u001b[0mc\u001b[0m\u001b[0;34m.\u001b[0m\u001b[0mset_width\u001b[0m\u001b[0;34m(\u001b[0m\u001b[0mself\u001b[0m\u001b[0;34m.\u001b[0m\u001b[0mwidth\u001b[0m\u001b[0;34m)\u001b[0m\u001b[0;34m\u001b[0m\u001b[0;34m\u001b[0m\u001b[0m\n\u001b[1;32m    435\u001b[0m \u001b[0;34m\u001b[0m\u001b[0m\n\u001b[0;32m--> 436\u001b[0;31m         whd_list = [c.get_extent(renderer)\n\u001b[0m\u001b[1;32m    437\u001b[0m                     for c in self.get_visible_children()]\n\u001b[1;32m    438\u001b[0m         \u001b[0mwhd_list\u001b[0m \u001b[0;34m=\u001b[0m \u001b[0;34m[\u001b[0m\u001b[0;34m(\u001b[0m\u001b[0mw\u001b[0m\u001b[0;34m,\u001b[0m \u001b[0mh\u001b[0m\u001b[0;34m,\u001b[0m \u001b[0mxd\u001b[0m\u001b[0;34m,\u001b[0m \u001b[0;34m(\u001b[0m\u001b[0mh\u001b[0m \u001b[0;34m-\u001b[0m \u001b[0myd\u001b[0m\u001b[0;34m)\u001b[0m\u001b[0;34m)\u001b[0m \u001b[0;32mfor\u001b[0m \u001b[0mw\u001b[0m\u001b[0;34m,\u001b[0m \u001b[0mh\u001b[0m\u001b[0;34m,\u001b[0m \u001b[0mxd\u001b[0m\u001b[0;34m,\u001b[0m \u001b[0myd\u001b[0m \u001b[0;32min\u001b[0m \u001b[0mwhd_list\u001b[0m\u001b[0;34m]\u001b[0m\u001b[0;34m\u001b[0m\u001b[0;34m\u001b[0m\u001b[0m\n",
      "\u001b[0;32m~/.conda/envs/pymooCFD/lib/python3.9/site-packages/matplotlib/offsetbox.py\u001b[0m in \u001b[0;36m<listcomp>\u001b[0;34m(.0)\u001b[0m\n\u001b[1;32m    434\u001b[0m                     \u001b[0mc\u001b[0m\u001b[0;34m.\u001b[0m\u001b[0mset_width\u001b[0m\u001b[0;34m(\u001b[0m\u001b[0mself\u001b[0m\u001b[0;34m.\u001b[0m\u001b[0mwidth\u001b[0m\u001b[0;34m)\u001b[0m\u001b[0;34m\u001b[0m\u001b[0;34m\u001b[0m\u001b[0m\n\u001b[1;32m    435\u001b[0m \u001b[0;34m\u001b[0m\u001b[0m\n\u001b[0;32m--> 436\u001b[0;31m         whd_list = [c.get_extent(renderer)\n\u001b[0m\u001b[1;32m    437\u001b[0m                     for c in self.get_visible_children()]\n\u001b[1;32m    438\u001b[0m         \u001b[0mwhd_list\u001b[0m \u001b[0;34m=\u001b[0m \u001b[0;34m[\u001b[0m\u001b[0;34m(\u001b[0m\u001b[0mw\u001b[0m\u001b[0;34m,\u001b[0m \u001b[0mh\u001b[0m\u001b[0;34m,\u001b[0m \u001b[0mxd\u001b[0m\u001b[0;34m,\u001b[0m \u001b[0;34m(\u001b[0m\u001b[0mh\u001b[0m \u001b[0;34m-\u001b[0m \u001b[0myd\u001b[0m\u001b[0;34m)\u001b[0m\u001b[0;34m)\u001b[0m \u001b[0;32mfor\u001b[0m \u001b[0mw\u001b[0m\u001b[0;34m,\u001b[0m \u001b[0mh\u001b[0m\u001b[0;34m,\u001b[0m \u001b[0mxd\u001b[0m\u001b[0;34m,\u001b[0m \u001b[0myd\u001b[0m \u001b[0;32min\u001b[0m \u001b[0mwhd_list\u001b[0m\u001b[0;34m]\u001b[0m\u001b[0;34m\u001b[0m\u001b[0;34m\u001b[0m\u001b[0m\n",
      "\u001b[0;32m~/.conda/envs/pymooCFD/lib/python3.9/site-packages/matplotlib/offsetbox.py\u001b[0m in \u001b[0;36mget_extent\u001b[0;34m(self, renderer)\u001b[0m\n\u001b[1;32m    343\u001b[0m     \u001b[0;32mdef\u001b[0m \u001b[0mget_extent\u001b[0m\u001b[0;34m(\u001b[0m\u001b[0mself\u001b[0m\u001b[0;34m,\u001b[0m \u001b[0mrenderer\u001b[0m\u001b[0;34m)\u001b[0m\u001b[0;34m:\u001b[0m\u001b[0;34m\u001b[0m\u001b[0;34m\u001b[0m\u001b[0m\n\u001b[1;32m    344\u001b[0m         \u001b[0;34m\"\"\"Return a tuple ``width, height, xdescent, ydescent`` of the box.\"\"\"\u001b[0m\u001b[0;34m\u001b[0m\u001b[0;34m\u001b[0m\u001b[0m\n\u001b[0;32m--> 345\u001b[0;31m         \u001b[0mw\u001b[0m\u001b[0;34m,\u001b[0m \u001b[0mh\u001b[0m\u001b[0;34m,\u001b[0m \u001b[0mxd\u001b[0m\u001b[0;34m,\u001b[0m \u001b[0myd\u001b[0m\u001b[0;34m,\u001b[0m \u001b[0moffsets\u001b[0m \u001b[0;34m=\u001b[0m \u001b[0mself\u001b[0m\u001b[0;34m.\u001b[0m\u001b[0mget_extent_offsets\u001b[0m\u001b[0;34m(\u001b[0m\u001b[0mrenderer\u001b[0m\u001b[0;34m)\u001b[0m\u001b[0;34m\u001b[0m\u001b[0;34m\u001b[0m\u001b[0m\n\u001b[0m\u001b[1;32m    346\u001b[0m         \u001b[0;32mreturn\u001b[0m \u001b[0mw\u001b[0m\u001b[0;34m,\u001b[0m \u001b[0mh\u001b[0m\u001b[0;34m,\u001b[0m \u001b[0mxd\u001b[0m\u001b[0;34m,\u001b[0m \u001b[0myd\u001b[0m\u001b[0;34m\u001b[0m\u001b[0;34m\u001b[0m\u001b[0m\n\u001b[1;32m    347\u001b[0m \u001b[0;34m\u001b[0m\u001b[0m\n",
      "\u001b[0;32m~/.conda/envs/pymooCFD/lib/python3.9/site-packages/matplotlib/offsetbox.py\u001b[0m in \u001b[0;36mget_extent_offsets\u001b[0;34m(self, renderer)\u001b[0m\n\u001b[1;32m    470\u001b[0m         \u001b[0msep\u001b[0m \u001b[0;34m=\u001b[0m \u001b[0mself\u001b[0m\u001b[0;34m.\u001b[0m\u001b[0msep\u001b[0m \u001b[0;34m*\u001b[0m \u001b[0mdpicor\u001b[0m\u001b[0;34m\u001b[0m\u001b[0;34m\u001b[0m\u001b[0m\n\u001b[1;32m    471\u001b[0m \u001b[0;34m\u001b[0m\u001b[0m\n\u001b[0;32m--> 472\u001b[0;31m         whd_list = [c.get_extent(renderer)\n\u001b[0m\u001b[1;32m    473\u001b[0m                     for c in self.get_visible_children()]\n\u001b[1;32m    474\u001b[0m \u001b[0;34m\u001b[0m\u001b[0m\n",
      "\u001b[0;32m~/.conda/envs/pymooCFD/lib/python3.9/site-packages/matplotlib/offsetbox.py\u001b[0m in \u001b[0;36m<listcomp>\u001b[0;34m(.0)\u001b[0m\n\u001b[1;32m    470\u001b[0m         \u001b[0msep\u001b[0m \u001b[0;34m=\u001b[0m \u001b[0mself\u001b[0m\u001b[0;34m.\u001b[0m\u001b[0msep\u001b[0m \u001b[0;34m*\u001b[0m \u001b[0mdpicor\u001b[0m\u001b[0;34m\u001b[0m\u001b[0;34m\u001b[0m\u001b[0m\n\u001b[1;32m    471\u001b[0m \u001b[0;34m\u001b[0m\u001b[0m\n\u001b[0;32m--> 472\u001b[0;31m         whd_list = [c.get_extent(renderer)\n\u001b[0m\u001b[1;32m    473\u001b[0m                     for c in self.get_visible_children()]\n\u001b[1;32m    474\u001b[0m \u001b[0;34m\u001b[0m\u001b[0m\n",
      "\u001b[0;32m~/.conda/envs/pymooCFD/lib/python3.9/site-packages/matplotlib/offsetbox.py\u001b[0m in \u001b[0;36mget_extent\u001b[0;34m(self, renderer)\u001b[0m\n\u001b[1;32m    343\u001b[0m     \u001b[0;32mdef\u001b[0m \u001b[0mget_extent\u001b[0m\u001b[0;34m(\u001b[0m\u001b[0mself\u001b[0m\u001b[0;34m,\u001b[0m \u001b[0mrenderer\u001b[0m\u001b[0;34m)\u001b[0m\u001b[0;34m:\u001b[0m\u001b[0;34m\u001b[0m\u001b[0;34m\u001b[0m\u001b[0m\n\u001b[1;32m    344\u001b[0m         \u001b[0;34m\"\"\"Return a tuple ``width, height, xdescent, ydescent`` of the box.\"\"\"\u001b[0m\u001b[0;34m\u001b[0m\u001b[0;34m\u001b[0m\u001b[0m\n\u001b[0;32m--> 345\u001b[0;31m         \u001b[0mw\u001b[0m\u001b[0;34m,\u001b[0m \u001b[0mh\u001b[0m\u001b[0;34m,\u001b[0m \u001b[0mxd\u001b[0m\u001b[0;34m,\u001b[0m \u001b[0myd\u001b[0m\u001b[0;34m,\u001b[0m \u001b[0moffsets\u001b[0m \u001b[0;34m=\u001b[0m \u001b[0mself\u001b[0m\u001b[0;34m.\u001b[0m\u001b[0mget_extent_offsets\u001b[0m\u001b[0;34m(\u001b[0m\u001b[0mrenderer\u001b[0m\u001b[0;34m)\u001b[0m\u001b[0;34m\u001b[0m\u001b[0;34m\u001b[0m\u001b[0m\n\u001b[0m\u001b[1;32m    346\u001b[0m         \u001b[0;32mreturn\u001b[0m \u001b[0mw\u001b[0m\u001b[0;34m,\u001b[0m \u001b[0mh\u001b[0m\u001b[0;34m,\u001b[0m \u001b[0mxd\u001b[0m\u001b[0;34m,\u001b[0m \u001b[0myd\u001b[0m\u001b[0;34m\u001b[0m\u001b[0;34m\u001b[0m\u001b[0m\n\u001b[1;32m    347\u001b[0m \u001b[0;34m\u001b[0m\u001b[0m\n",
      "\u001b[0;32m~/.conda/envs/pymooCFD/lib/python3.9/site-packages/matplotlib/offsetbox.py\u001b[0m in \u001b[0;36mget_extent_offsets\u001b[0;34m(self, renderer)\u001b[0m\n\u001b[1;32m    434\u001b[0m                     \u001b[0mc\u001b[0m\u001b[0;34m.\u001b[0m\u001b[0mset_width\u001b[0m\u001b[0;34m(\u001b[0m\u001b[0mself\u001b[0m\u001b[0;34m.\u001b[0m\u001b[0mwidth\u001b[0m\u001b[0;34m)\u001b[0m\u001b[0;34m\u001b[0m\u001b[0;34m\u001b[0m\u001b[0m\n\u001b[1;32m    435\u001b[0m \u001b[0;34m\u001b[0m\u001b[0m\n\u001b[0;32m--> 436\u001b[0;31m         whd_list = [c.get_extent(renderer)\n\u001b[0m\u001b[1;32m    437\u001b[0m                     for c in self.get_visible_children()]\n\u001b[1;32m    438\u001b[0m         \u001b[0mwhd_list\u001b[0m \u001b[0;34m=\u001b[0m \u001b[0;34m[\u001b[0m\u001b[0;34m(\u001b[0m\u001b[0mw\u001b[0m\u001b[0;34m,\u001b[0m \u001b[0mh\u001b[0m\u001b[0;34m,\u001b[0m \u001b[0mxd\u001b[0m\u001b[0;34m,\u001b[0m \u001b[0;34m(\u001b[0m\u001b[0mh\u001b[0m \u001b[0;34m-\u001b[0m \u001b[0myd\u001b[0m\u001b[0;34m)\u001b[0m\u001b[0;34m)\u001b[0m \u001b[0;32mfor\u001b[0m \u001b[0mw\u001b[0m\u001b[0;34m,\u001b[0m \u001b[0mh\u001b[0m\u001b[0;34m,\u001b[0m \u001b[0mxd\u001b[0m\u001b[0;34m,\u001b[0m \u001b[0myd\u001b[0m \u001b[0;32min\u001b[0m \u001b[0mwhd_list\u001b[0m\u001b[0;34m]\u001b[0m\u001b[0;34m\u001b[0m\u001b[0;34m\u001b[0m\u001b[0m\n",
      "\u001b[0;32m~/.conda/envs/pymooCFD/lib/python3.9/site-packages/matplotlib/offsetbox.py\u001b[0m in \u001b[0;36m<listcomp>\u001b[0;34m(.0)\u001b[0m\n\u001b[1;32m    434\u001b[0m                     \u001b[0mc\u001b[0m\u001b[0;34m.\u001b[0m\u001b[0mset_width\u001b[0m\u001b[0;34m(\u001b[0m\u001b[0mself\u001b[0m\u001b[0;34m.\u001b[0m\u001b[0mwidth\u001b[0m\u001b[0;34m)\u001b[0m\u001b[0;34m\u001b[0m\u001b[0;34m\u001b[0m\u001b[0m\n\u001b[1;32m    435\u001b[0m \u001b[0;34m\u001b[0m\u001b[0m\n\u001b[0;32m--> 436\u001b[0;31m         whd_list = [c.get_extent(renderer)\n\u001b[0m\u001b[1;32m    437\u001b[0m                     for c in self.get_visible_children()]\n\u001b[1;32m    438\u001b[0m         \u001b[0mwhd_list\u001b[0m \u001b[0;34m=\u001b[0m \u001b[0;34m[\u001b[0m\u001b[0;34m(\u001b[0m\u001b[0mw\u001b[0m\u001b[0;34m,\u001b[0m \u001b[0mh\u001b[0m\u001b[0;34m,\u001b[0m \u001b[0mxd\u001b[0m\u001b[0;34m,\u001b[0m \u001b[0;34m(\u001b[0m\u001b[0mh\u001b[0m \u001b[0;34m-\u001b[0m \u001b[0myd\u001b[0m\u001b[0;34m)\u001b[0m\u001b[0;34m)\u001b[0m \u001b[0;32mfor\u001b[0m \u001b[0mw\u001b[0m\u001b[0;34m,\u001b[0m \u001b[0mh\u001b[0m\u001b[0;34m,\u001b[0m \u001b[0mxd\u001b[0m\u001b[0;34m,\u001b[0m \u001b[0myd\u001b[0m \u001b[0;32min\u001b[0m \u001b[0mwhd_list\u001b[0m\u001b[0;34m]\u001b[0m\u001b[0;34m\u001b[0m\u001b[0;34m\u001b[0m\u001b[0m\n",
      "\u001b[0;32m~/.conda/envs/pymooCFD/lib/python3.9/site-packages/matplotlib/offsetbox.py\u001b[0m in \u001b[0;36mget_extent\u001b[0;34m(self, renderer)\u001b[0m\n\u001b[1;32m    343\u001b[0m     \u001b[0;32mdef\u001b[0m \u001b[0mget_extent\u001b[0m\u001b[0;34m(\u001b[0m\u001b[0mself\u001b[0m\u001b[0;34m,\u001b[0m \u001b[0mrenderer\u001b[0m\u001b[0;34m)\u001b[0m\u001b[0;34m:\u001b[0m\u001b[0;34m\u001b[0m\u001b[0;34m\u001b[0m\u001b[0m\n\u001b[1;32m    344\u001b[0m         \u001b[0;34m\"\"\"Return a tuple ``width, height, xdescent, ydescent`` of the box.\"\"\"\u001b[0m\u001b[0;34m\u001b[0m\u001b[0;34m\u001b[0m\u001b[0m\n\u001b[0;32m--> 345\u001b[0;31m         \u001b[0mw\u001b[0m\u001b[0;34m,\u001b[0m \u001b[0mh\u001b[0m\u001b[0;34m,\u001b[0m \u001b[0mxd\u001b[0m\u001b[0;34m,\u001b[0m \u001b[0myd\u001b[0m\u001b[0;34m,\u001b[0m \u001b[0moffsets\u001b[0m \u001b[0;34m=\u001b[0m \u001b[0mself\u001b[0m\u001b[0;34m.\u001b[0m\u001b[0mget_extent_offsets\u001b[0m\u001b[0;34m(\u001b[0m\u001b[0mrenderer\u001b[0m\u001b[0;34m)\u001b[0m\u001b[0;34m\u001b[0m\u001b[0;34m\u001b[0m\u001b[0m\n\u001b[0m\u001b[1;32m    346\u001b[0m         \u001b[0;32mreturn\u001b[0m \u001b[0mw\u001b[0m\u001b[0;34m,\u001b[0m \u001b[0mh\u001b[0m\u001b[0;34m,\u001b[0m \u001b[0mxd\u001b[0m\u001b[0;34m,\u001b[0m \u001b[0myd\u001b[0m\u001b[0;34m\u001b[0m\u001b[0;34m\u001b[0m\u001b[0m\n\u001b[1;32m    347\u001b[0m \u001b[0;34m\u001b[0m\u001b[0m\n",
      "\u001b[0;32m~/.conda/envs/pymooCFD/lib/python3.9/site-packages/matplotlib/offsetbox.py\u001b[0m in \u001b[0;36mget_extent_offsets\u001b[0;34m(self, renderer)\u001b[0m\n\u001b[1;32m    470\u001b[0m         \u001b[0msep\u001b[0m \u001b[0;34m=\u001b[0m \u001b[0mself\u001b[0m\u001b[0;34m.\u001b[0m\u001b[0msep\u001b[0m \u001b[0;34m*\u001b[0m \u001b[0mdpicor\u001b[0m\u001b[0;34m\u001b[0m\u001b[0;34m\u001b[0m\u001b[0m\n\u001b[1;32m    471\u001b[0m \u001b[0;34m\u001b[0m\u001b[0m\n\u001b[0;32m--> 472\u001b[0;31m         whd_list = [c.get_extent(renderer)\n\u001b[0m\u001b[1;32m    473\u001b[0m                     for c in self.get_visible_children()]\n\u001b[1;32m    474\u001b[0m \u001b[0;34m\u001b[0m\u001b[0m\n",
      "\u001b[0;32m~/.conda/envs/pymooCFD/lib/python3.9/site-packages/matplotlib/offsetbox.py\u001b[0m in \u001b[0;36m<listcomp>\u001b[0;34m(.0)\u001b[0m\n\u001b[1;32m    470\u001b[0m         \u001b[0msep\u001b[0m \u001b[0;34m=\u001b[0m \u001b[0mself\u001b[0m\u001b[0;34m.\u001b[0m\u001b[0msep\u001b[0m \u001b[0;34m*\u001b[0m \u001b[0mdpicor\u001b[0m\u001b[0;34m\u001b[0m\u001b[0;34m\u001b[0m\u001b[0m\n\u001b[1;32m    471\u001b[0m \u001b[0;34m\u001b[0m\u001b[0m\n\u001b[0;32m--> 472\u001b[0;31m         whd_list = [c.get_extent(renderer)\n\u001b[0m\u001b[1;32m    473\u001b[0m                     for c in self.get_visible_children()]\n\u001b[1;32m    474\u001b[0m \u001b[0;34m\u001b[0m\u001b[0m\n",
      "\u001b[0;32m~/.conda/envs/pymooCFD/lib/python3.9/site-packages/matplotlib/offsetbox.py\u001b[0m in \u001b[0;36mget_extent\u001b[0;34m(self, renderer)\u001b[0m\n\u001b[1;32m    807\u001b[0m \u001b[0;34m\u001b[0m\u001b[0m\n\u001b[1;32m    808\u001b[0m     \u001b[0;32mdef\u001b[0m \u001b[0mget_extent\u001b[0m\u001b[0;34m(\u001b[0m\u001b[0mself\u001b[0m\u001b[0;34m,\u001b[0m \u001b[0mrenderer\u001b[0m\u001b[0;34m)\u001b[0m\u001b[0;34m:\u001b[0m\u001b[0;34m\u001b[0m\u001b[0;34m\u001b[0m\u001b[0m\n\u001b[0;32m--> 809\u001b[0;31m         _, h_, d_ = renderer.get_text_width_height_descent(\n\u001b[0m\u001b[1;32m    810\u001b[0m             \u001b[0;34m\"lp\"\u001b[0m\u001b[0;34m,\u001b[0m \u001b[0mself\u001b[0m\u001b[0;34m.\u001b[0m\u001b[0m_text\u001b[0m\u001b[0;34m.\u001b[0m\u001b[0m_fontproperties\u001b[0m\u001b[0;34m,\u001b[0m\u001b[0;34m\u001b[0m\u001b[0;34m\u001b[0m\u001b[0m\n\u001b[1;32m    811\u001b[0m             ismath=\"TeX\" if self._text.get_usetex() else False)\n",
      "\u001b[0;32m~/.conda/envs/pymooCFD/lib/python3.9/site-packages/matplotlib/backends/backend_agg.py\u001b[0m in \u001b[0;36mget_text_width_height_descent\u001b[0;34m(self, s, prop, ismath)\u001b[0m\n\u001b[1;32m    257\u001b[0m             \u001b[0mtexmanager\u001b[0m \u001b[0;34m=\u001b[0m \u001b[0mself\u001b[0m\u001b[0;34m.\u001b[0m\u001b[0mget_texmanager\u001b[0m\u001b[0;34m(\u001b[0m\u001b[0;34m)\u001b[0m\u001b[0;34m\u001b[0m\u001b[0;34m\u001b[0m\u001b[0m\n\u001b[1;32m    258\u001b[0m             \u001b[0mfontsize\u001b[0m \u001b[0;34m=\u001b[0m \u001b[0mprop\u001b[0m\u001b[0;34m.\u001b[0m\u001b[0mget_size_in_points\u001b[0m\u001b[0;34m(\u001b[0m\u001b[0;34m)\u001b[0m\u001b[0;34m\u001b[0m\u001b[0;34m\u001b[0m\u001b[0m\n\u001b[0;32m--> 259\u001b[0;31m             w, h, d = texmanager.get_text_width_height_descent(\n\u001b[0m\u001b[1;32m    260\u001b[0m                 s, fontsize, renderer=self)\n\u001b[1;32m    261\u001b[0m             \u001b[0;32mreturn\u001b[0m \u001b[0mw\u001b[0m\u001b[0;34m,\u001b[0m \u001b[0mh\u001b[0m\u001b[0;34m,\u001b[0m \u001b[0md\u001b[0m\u001b[0;34m\u001b[0m\u001b[0;34m\u001b[0m\u001b[0m\n",
      "\u001b[0;32m~/.conda/envs/pymooCFD/lib/python3.9/site-packages/matplotlib/texmanager.py\u001b[0m in \u001b[0;36mget_text_width_height_descent\u001b[0;34m(self, tex, fontsize, renderer)\u001b[0m\n\u001b[1;32m    333\u001b[0m         \u001b[0;32mif\u001b[0m \u001b[0mtex\u001b[0m\u001b[0;34m.\u001b[0m\u001b[0mstrip\u001b[0m\u001b[0;34m(\u001b[0m\u001b[0;34m)\u001b[0m \u001b[0;34m==\u001b[0m \u001b[0;34m''\u001b[0m\u001b[0;34m:\u001b[0m\u001b[0;34m\u001b[0m\u001b[0;34m\u001b[0m\u001b[0m\n\u001b[1;32m    334\u001b[0m             \u001b[0;32mreturn\u001b[0m \u001b[0;36m0\u001b[0m\u001b[0;34m,\u001b[0m \u001b[0;36m0\u001b[0m\u001b[0;34m,\u001b[0m \u001b[0;36m0\u001b[0m\u001b[0;34m\u001b[0m\u001b[0;34m\u001b[0m\u001b[0m\n\u001b[0;32m--> 335\u001b[0;31m         \u001b[0mdvifile\u001b[0m \u001b[0;34m=\u001b[0m \u001b[0mself\u001b[0m\u001b[0;34m.\u001b[0m\u001b[0mmake_dvi\u001b[0m\u001b[0;34m(\u001b[0m\u001b[0mtex\u001b[0m\u001b[0;34m,\u001b[0m \u001b[0mfontsize\u001b[0m\u001b[0;34m)\u001b[0m\u001b[0;34m\u001b[0m\u001b[0;34m\u001b[0m\u001b[0m\n\u001b[0m\u001b[1;32m    336\u001b[0m         \u001b[0mdpi_fraction\u001b[0m \u001b[0;34m=\u001b[0m \u001b[0mrenderer\u001b[0m\u001b[0;34m.\u001b[0m\u001b[0mpoints_to_pixels\u001b[0m\u001b[0;34m(\u001b[0m\u001b[0;36m1.\u001b[0m\u001b[0;34m)\u001b[0m \u001b[0;32mif\u001b[0m \u001b[0mrenderer\u001b[0m \u001b[0;32melse\u001b[0m \u001b[0;36m1\u001b[0m\u001b[0;34m\u001b[0m\u001b[0;34m\u001b[0m\u001b[0m\n\u001b[1;32m    337\u001b[0m         \u001b[0;32mwith\u001b[0m \u001b[0mdviread\u001b[0m\u001b[0;34m.\u001b[0m\u001b[0mDvi\u001b[0m\u001b[0;34m(\u001b[0m\u001b[0mdvifile\u001b[0m\u001b[0;34m,\u001b[0m \u001b[0;36m72\u001b[0m \u001b[0;34m*\u001b[0m \u001b[0mdpi_fraction\u001b[0m\u001b[0;34m)\u001b[0m \u001b[0;32mas\u001b[0m \u001b[0mdvi\u001b[0m\u001b[0;34m:\u001b[0m\u001b[0;34m\u001b[0m\u001b[0;34m\u001b[0m\u001b[0m\n",
      "\u001b[0;32m~/.conda/envs/pymooCFD/lib/python3.9/site-packages/matplotlib/texmanager.py\u001b[0m in \u001b[0;36mmake_dvi\u001b[0;34m(self, tex, fontsize)\u001b[0m\n\u001b[1;32m    269\u001b[0m             \u001b[0;31m# not support.)\u001b[0m\u001b[0;34m\u001b[0m\u001b[0;34m\u001b[0m\u001b[0m\n\u001b[1;32m    270\u001b[0m             \u001b[0;32mwith\u001b[0m \u001b[0mTemporaryDirectory\u001b[0m\u001b[0;34m(\u001b[0m\u001b[0mdir\u001b[0m\u001b[0;34m=\u001b[0m\u001b[0mPath\u001b[0m\u001b[0;34m(\u001b[0m\u001b[0mdvifile\u001b[0m\u001b[0;34m)\u001b[0m\u001b[0;34m.\u001b[0m\u001b[0mparent\u001b[0m\u001b[0;34m)\u001b[0m \u001b[0;32mas\u001b[0m \u001b[0mtmpdir\u001b[0m\u001b[0;34m:\u001b[0m\u001b[0;34m\u001b[0m\u001b[0;34m\u001b[0m\u001b[0m\n\u001b[0;32m--> 271\u001b[0;31m                 self._run_checked_subprocess(\n\u001b[0m\u001b[1;32m    272\u001b[0m                     [\"latex\", \"-interaction=nonstopmode\", \"--halt-on-error\",\n\u001b[1;32m    273\u001b[0m                      f\"../{texfile.name}\"], tex, cwd=tmpdir)\n",
      "\u001b[0;32m~/.conda/envs/pymooCFD/lib/python3.9/site-packages/matplotlib/texmanager.py\u001b[0m in \u001b[0;36m_run_checked_subprocess\u001b[0;34m(self, command, tex, cwd)\u001b[0m\n\u001b[1;32m    239\u001b[0m                 'found'.format(command[0])) from exc\n\u001b[1;32m    240\u001b[0m         \u001b[0;32mexcept\u001b[0m \u001b[0msubprocess\u001b[0m\u001b[0;34m.\u001b[0m\u001b[0mCalledProcessError\u001b[0m \u001b[0;32mas\u001b[0m \u001b[0mexc\u001b[0m\u001b[0;34m:\u001b[0m\u001b[0;34m\u001b[0m\u001b[0;34m\u001b[0m\u001b[0m\n\u001b[0;32m--> 241\u001b[0;31m             raise RuntimeError(\n\u001b[0m\u001b[1;32m    242\u001b[0m                 \u001b[0;34m'{prog} was not able to process the following string:\\n'\u001b[0m\u001b[0;34m\u001b[0m\u001b[0;34m\u001b[0m\u001b[0m\n\u001b[1;32m    243\u001b[0m                 \u001b[0;34m'{tex!r}\\n\\n'\u001b[0m\u001b[0;34m\u001b[0m\u001b[0;34m\u001b[0m\u001b[0m\n",
      "\u001b[0;31mRuntimeError\u001b[0m: latex was not able to process the following string:\nb'lp'\n\nHere is the full report generated by latex:\nThis is pdfTeX, Version 3.141592653-2.6-1.40.22 (TeX Live 2021) (preloaded format=latex)\n restricted \\write18 enabled.\n\nkpathsea: Running mktexfmt latex.fmt\nCan't locate mktexlsr.pl in @INC (@INC contains: /users/g/l/glove1/.conda/envs/pymooCFD/share/tlpkg /users/g/l/glove1/.conda/envs/pymooCFD/share/texmf-dist/scripts/texlive /usr/local/lib64/perl5 /usr/local/share/perl5 /usr/lib64/perl5/vendor_perl /usr/share/perl5/vendor_perl /usr/lib64/perl5 /usr/share/perl5 .) at /users/g/l/glove1/.conda/envs/pymooCFD/bin/mktexfmt line 23.\nBEGIN failed--compilation aborted at /users/g/l/glove1/.conda/envs/pymooCFD/bin/mktexfmt line 25.\nI can't find the format file `latex.fmt'!\n\n\n"
     ]
    }
   ],
   "source": [
    "ms_plots[1].do()"
   ]
  },
  {
   "cell_type": "code",
   "execution_count": null,
   "id": "9ea174b6",
   "metadata": {},
   "outputs": [],
   "source": [
    "# !pip install latex"
   ]
  },
  {
   "cell_type": "code",
   "execution_count": null,
   "id": "dec2cd97",
   "metadata": {},
   "outputs": [],
   "source": [
    "ms_plots[1].show()"
   ]
  },
  {
   "cell_type": "markdown",
   "id": "16b6e071",
   "metadata": {},
   "source": [
    "##### Update Test Case"
   ]
  },
  {
   "cell_type": "code",
   "execution_count": null,
   "id": "c24943b1",
   "metadata": {},
   "outputs": [],
   "source": [
    "# opt_run.appendMeshSFs(opt_run.test_case, [1.2])"
   ]
  },
  {
   "cell_type": "code",
   "execution_count": null,
   "id": "55ac98d9",
   "metadata": {},
   "outputs": [],
   "source": [
    "# newMeshSFs = np.round(np.arange(0.3, 1.5, 0.1))\n",
    "# opt_run.saveCP()\n",
    "# opt_run.test_case.meshSFs"
   ]
  },
  {
   "cell_type": "markdown",
   "id": "c88ab374",
   "metadata": {},
   "source": [
    "### Boundary Cases"
   ]
  },
  {
   "cell_type": "code",
   "execution_count": null,
   "id": "78fa2525",
   "metadata": {},
   "outputs": [],
   "source": [
    "print(opt_run.bnd_cases)"
   ]
  },
  {
   "cell_type": "code",
   "execution_count": null,
   "id": "5e675450",
   "metadata": {},
   "outputs": [],
   "source": [
    "if opt_run.bnd_cases is not None:\n",
    "    for case in opt_run.bnd_cases:\n",
    "        print(case)"
   ]
  },
  {
   "cell_type": "code",
   "execution_count": null,
   "id": "155064f9",
   "metadata": {},
   "outputs": [],
   "source": [
    "if opt_run.bnd_cases is not None:\n",
    "    bnd_vars = np.array([case.x for case in opt_run.bnd_cases])\n",
    "    print(bnd_vars)"
   ]
  },
  {
   "cell_type": "code",
   "execution_count": null,
   "id": "63134ef7",
   "metadata": {},
   "outputs": [],
   "source": [
    "if opt_run.bnd_cases is not None:\n",
    "    var_plot = opt_run.plotBndPts()"
   ]
  },
  {
   "cell_type": "code",
   "execution_count": null,
   "id": "ad64f917",
   "metadata": {},
   "outputs": [],
   "source": [
    "if opt_run.bnd_cases is not None:\n",
    "    bnd_objs = np.array([case.f for case in opt_run.bnd_cases])\n",
    "    print(bnd_objs)"
   ]
  },
  {
   "cell_type": "code",
   "execution_count": null,
   "id": "5c99c530",
   "metadata": {},
   "outputs": [],
   "source": [
    "if None not in bnd_objs:\n",
    "    obj_plot = opt_run.plotBndPtsObj()"
   ]
  },
  {
   "cell_type": "code",
   "execution_count": null,
   "id": "ed7c74bc",
   "metadata": {},
   "outputs": [],
   "source": [
    "if None not in bnd_objs:\n",
    "    # Non-dominated Sorting of Boundary Cases\n",
    "    n_survive = 1\n",
    "    F = np.array([case.f for case in opt_run.bnd_cases])\n",
    "    X = np.array([case.x for case in opt_run.bnd_cases])\n",
    "    from pymoo.util.nds.non_dominated_sorting import NonDominatedSorting\n",
    "    nds = NonDominatedSorting()\n",
    "    # do the non-dominated sorting until splitting front\n",
    "    fronts = nds.do(F, n_stop_if_ranked=n_survive)\n",
    "    front = fronts[0]\n",
    "    nonDom_CCobj = F[front, :][0]\n",
    "    nonDom_CCvar = X[front, :][0]\n",
    "    print('Non-dominated: Boundary Cases')\n",
    "    print('Parameters-', nonDom_CCvar)\n",
    "    print('Objectives-', nonDom_CCobj)"
   ]
  },
  {
   "cell_type": "markdown",
   "id": "fcc42e25",
   "metadata": {},
   "source": [
    "### Mesh Studies"
   ]
  },
  {
   "cell_type": "code",
   "execution_count": null,
   "id": "eac1224c",
   "metadata": {},
   "outputs": [],
   "source": [
    "pprint(opt_run.test_case.mesh_study.__dict__)"
   ]
  },
  {
   "cell_type": "code",
   "execution_count": null,
   "id": "fb399cd5",
   "metadata": {},
   "outputs": [],
   "source": [
    "print(opt_run.test_case.mesh_study.cases)"
   ]
  },
  {
   "cell_type": "code",
   "execution_count": null,
   "id": "6836969f",
   "metadata": {
    "scrolled": true
   },
   "outputs": [],
   "source": [
    "for case in opt_run.bnd_cases:\n",
    "    plots = case.mesh_study.plot()\n",
    "    plots[1].show()\n",
    "    plots[4].show()\n",
    "#     for plot in plots:\n",
    "#         plot.show()"
   ]
  },
  {
   "cell_type": "markdown",
   "id": "cf8dd2b1",
   "metadata": {},
   "source": [
    "### Generation 1"
   ]
  },
  {
   "cell_type": "code",
   "execution_count": null,
   "id": "f5817fe1",
   "metadata": {},
   "outputs": [],
   "source": [
    "print(len(opt_run.algorithm.history[0].pop))"
   ]
  },
  {
   "cell_type": "code",
   "execution_count": null,
   "id": "98b7ecb8",
   "metadata": {
    "scrolled": true
   },
   "outputs": [],
   "source": [
    "var_plot, obj_plot = opt_run.plotGen(1)"
   ]
  },
  {
   "cell_type": "markdown",
   "id": "c4ee1fe6",
   "metadata": {},
   "source": [
    "### Generation 1: Mapping Parameters to Objectives\n",
    "Remember that for each plot the parameters(s) not labeled are also varying. \n",
    "\n",
    "Therefore, if a strong relationship is seen in these plots then it is likely a relationship independent of the other variable.\n"
   ]
  },
  {
   "cell_type": "code",
   "execution_count": null,
   "id": "7d565257",
   "metadata": {
    "scrolled": true
   },
   "outputs": [],
   "source": [
    "plots, map_paths = opt_run.map_gen1()"
   ]
  },
  {
   "cell_type": "code",
   "execution_count": null,
   "id": "c5df6d53",
   "metadata": {
    "scrolled": true
   },
   "outputs": [],
   "source": [
    "# from IPython.display import Image, display\n",
    "# map_paths = [os.path.join(opt_run.mapDir, ent) for ent in os.listdir(opt_run.mapDir) if ent.endswith('.png')]\n",
    "# for path in map_paths:\n",
    "#     display(Image(filename=path))"
   ]
  },
  {
   "cell_type": "markdown",
   "id": "f63649ab",
   "metadata": {},
   "source": [
    "# Post-Process Optimization Study"
   ]
  },
  {
   "cell_type": "markdown",
   "id": "177fae7f",
   "metadata": {},
   "source": [
    "### Optimization Algorithm Convergence"
   ]
  },
  {
   "cell_type": "code",
   "execution_count": null,
   "id": "27dd7d30",
   "metadata": {
    "scrolled": true
   },
   "outputs": [],
   "source": [
    "plots = opt_run.plotConv()"
   ]
  },
  {
   "cell_type": "markdown",
   "id": "340edfd8",
   "metadata": {},
   "source": [
    "### Performance Indicator - Hypervolume\n",
    "https://pymoo.org/misc/performance_indicator.html#Hypervolume\n",
    "\n",
    "Maximize hypervolume from reference point. "
   ]
  },
  {
   "cell_type": "code",
   "execution_count": null,
   "id": "47e0abc0",
   "metadata": {},
   "outputs": [],
   "source": [
    "for plot in plots[-2:]:\n",
    "    plot.show()"
   ]
  },
  {
   "cell_type": "code",
   "execution_count": null,
   "id": "d22dcc90",
   "metadata": {},
   "outputs": [],
   "source": [
    "all_obj = [alg.pop.get('F') for alg in opt_run.algorithm.history]"
   ]
  },
  {
   "cell_type": "code",
   "execution_count": null,
   "id": "d893cc3c",
   "metadata": {},
   "outputs": [],
   "source": [
    "mean_all_obj = []\n",
    "for obj_i in range(opt_run.problem.BaseCase.n_obj):\n",
    "    mean_all_obj.append(np.mean([np.mean(obj_g[:,obj_i]) for obj_g in all_obj]))\n",
    "print(mean_all_obj)"
   ]
  },
  {
   "cell_type": "code",
   "execution_count": null,
   "id": "b40fae2d",
   "metadata": {},
   "outputs": [],
   "source": [
    "mean_g1_obj = []\n",
    "popF = opt_run.algorithm.history[-1].pop.get('F')\n",
    "for obj_i in range(opt_run.problem.BaseCase.n_obj):\n",
    "    mean_g1_obj.append(np.mean(popF[:,obj_i]))\n",
    "print(mean_g1_obj)"
   ]
  },
  {
   "cell_type": "code",
   "execution_count": null,
   "id": "96c740ae",
   "metadata": {},
   "outputs": [],
   "source": [
    "from pymoo.factory import get_performance_indicator\n",
    "ref_pt = [np.mean(F_col) for F_col in opt_run.algorithm.history[0].pop.get('F').T]\n",
    "hv = get_performance_indicator(\"hv\", ref_point=np.array(ref_pt))\n",
    "print(ref_pt)"
   ]
  },
  {
   "cell_type": "markdown",
   "id": "cd3ecac8",
   "metadata": {},
   "source": [
    "### Latest Generation "
   ]
  },
  {
   "cell_type": "code",
   "execution_count": null,
   "id": "2870981f",
   "metadata": {},
   "outputs": [],
   "source": [
    "max_disp_len = 10\n",
    "if len(opt_run.algorithm.pop.get('X')) < max_disp_len:\n",
    "    print('FINAL POPULATION')\n",
    "    print('Parameters')\n",
    "    print(opt_run.algorithm.pop.get('X'))\n",
    "    print('Objectives')\n",
    "    print(opt_run.algorithm.pop.get('F'))"
   ]
  },
  {
   "cell_type": "code",
   "execution_count": null,
   "id": "fc67ed85",
   "metadata": {},
   "outputs": [],
   "source": [
    "latest_pop = opt_run.algorithm.history[-1].pop\n",
    "latest_popX = latest_pop.get('X')\n",
    "latest_popF = latest_pop.get('F')"
   ]
  },
  {
   "cell_type": "code",
   "execution_count": null,
   "id": "77d33189",
   "metadata": {},
   "outputs": [],
   "source": [
    "plot = opt_run.plotGen()"
   ]
  },
  {
   "cell_type": "markdown",
   "id": "c653b291",
   "metadata": {},
   "source": [
    "### Optimum"
   ]
  },
  {
   "cell_type": "code",
   "execution_count": null,
   "id": "7386d8fb",
   "metadata": {},
   "outputs": [],
   "source": [
    "assert opt_run.algorithm.opt is not None\n",
    "print('Number of Optimum:', len(opt_run.algorithm.opt))"
   ]
  },
  {
   "cell_type": "code",
   "execution_count": null,
   "id": "760f8ca3",
   "metadata": {},
   "outputs": [],
   "source": [
    "opt_run.plotOpt()"
   ]
  },
  {
   "cell_type": "code",
   "execution_count": null,
   "id": "6f8c4c47",
   "metadata": {},
   "outputs": [],
   "source": [
    "%matplotlib inline"
   ]
  },
  {
   "cell_type": "code",
   "execution_count": null,
   "id": "48d98397",
   "metadata": {},
   "outputs": [],
   "source": [
    "plots = opt_run.plotAllOpt()\n",
    "plots"
   ]
  },
  {
   "cell_type": "code",
   "execution_count": null,
   "id": "57df1381",
   "metadata": {},
   "outputs": [],
   "source": [
    "# plots[0].color = None #'red'\n",
    "plots[0].add(np.array([0.02, 0.2]), s=200, label='Intuitive Solution') #, color='red')\n",
    "plots[0].do()\n",
    "# plots[0]\n",
    "plots[0].save('RANS_equiv-var_space.png', dpi=250)"
   ]
  },
  {
   "cell_type": "code",
   "execution_count": null,
   "id": "d0a5a7bd",
   "metadata": {},
   "outputs": [],
   "source": [
    "obj = np.array([7.597759353093418155e-03, 1.223083295389841953e-03])"
   ]
  },
  {
   "cell_type": "code",
   "execution_count": null,
   "id": "8e2ada04",
   "metadata": {},
   "outputs": [],
   "source": [
    "plots[1].add(obj, s=200) #, color='red')\n",
    "# %matplotlib inline\n",
    "# plots[0].show()\n",
    "plots[1].do()\n",
    "plots[1].save('RANS_equiv-obj_space.png', dpi=250)\n",
    "plots[1]"
   ]
  },
  {
   "cell_type": "code",
   "execution_count": null,
   "id": "028ca581",
   "metadata": {},
   "outputs": [],
   "source": [
    "plots"
   ]
  },
  {
   "cell_type": "code",
   "execution_count": null,
   "id": "1e43bd3a",
   "metadata": {},
   "outputs": [],
   "source": [
    "study.run_case('RANS_equiv-BCs', [0.02, 0.2])"
   ]
  },
  {
   "cell_type": "markdown",
   "id": "db6ce150",
   "metadata": {},
   "source": [
    "### Print Every Generation"
   ]
  },
  {
   "cell_type": "code",
   "execution_count": null,
   "id": "d53f6865",
   "metadata": {},
   "outputs": [],
   "source": [
    "if opt_run.algorithm.n_gen < 10 and len(opt_run.algorithm.pop.get('X')) < 10:\n",
    "    print('EVERY GENERATION')\n",
    "    for gen in range(opt_run.algorithm.n_gen):\n",
    "        print(f'generation {gen}')\n",
    "        var_g = opt_run.algorithm.history[gen].pop.get('X')\n",
    "        obj_g = opt_run.algorithm.history[gen].pop.get('F')\n",
    "        for ind in range(len(var_g)):\n",
    "            var_i = var_g[ind]\n",
    "            obj_i = obj_g[ind]\n",
    "            print(f'ind{ind}: ', end='')\n",
    "            for n in range(len(var_i)):\n",
    "                print(f'{opt_run.problem.BaseCase.var_labels[n]}: {var_i[n]}', end=' ')\n",
    "            print(' // ', end='')\n",
    "            for n in range(len(obj_i)):\n",
    "                print(opt_run.problem.BaseCase.obj_labels[n] + ':' + '%.3f' % obj_i[n], end=' ')\n",
    "            print()"
   ]
  },
  {
   "cell_type": "markdown",
   "id": "8324967c",
   "metadata": {},
   "source": [
    "## Plots Generations"
   ]
  },
  {
   "cell_type": "markdown",
   "id": "6a653f24",
   "metadata": {},
   "source": [
    "### Plot Every Generation"
   ]
  },
  {
   "cell_type": "code",
   "execution_count": null,
   "id": "e6b491b6",
   "metadata": {},
   "outputs": [],
   "source": [
    "var_plot, obj_plot = opt_run.plotGens()"
   ]
  },
  {
   "cell_type": "markdown",
   "id": "a071d393",
   "metadata": {},
   "source": [
    "### Plot Last 10 Generation"
   ]
  },
  {
   "cell_type": "code",
   "execution_count": null,
   "id": "56710864",
   "metadata": {},
   "outputs": [],
   "source": [
    "gen_i_final = len(opt_run.algorithm.history)\n",
    "if gen_i_final > 10:\n",
    "    gen_i_init = gen_i_final - 10\n",
    "else:\n",
    "    gen_i_init = 1\n",
    "final10_var_plot, final10_obj_plot = opt_run.plotGens(range(gen_i_init, gen_i_final+1))"
   ]
  },
  {
   "cell_type": "markdown",
   "id": "3cd85303",
   "metadata": {},
   "source": [
    "### Plot First 3 Generations"
   ]
  },
  {
   "cell_type": "code",
   "execution_count": null,
   "id": "e6da8c7b",
   "metadata": {},
   "outputs": [],
   "source": [
    "first3_gens_var_plot, first3_gens_obj_plot = opt_run.plotGens(range(1, 4))"
   ]
  },
  {
   "cell_type": "markdown",
   "id": "32fad2e0",
   "metadata": {},
   "source": [
    "### Plot Generations "
   ]
  },
  {
   "cell_type": "code",
   "execution_count": null,
   "id": "358322ac",
   "metadata": {
    "scrolled": false
   },
   "outputs": [],
   "source": [
    "gens_per_plot = 10\n",
    "gen_final = len(opt_run.algorithm.history)\n",
    "plots = []\n",
    "print(gen_final)\n",
    "for gen in range(1, gen_final + 1):\n",
    "    if gen % gens_per_plot == 0:\n",
    "        print(gen-1 % gens_per_plot)\n",
    "        print(gen)\n",
    "        gens = range(gen, gen+gens_per_plot)\n",
    "        plots.append(opt_run.plotGens(gens))\n",
    "plots"
   ]
  },
  {
   "cell_type": "markdown",
   "id": "5394d6e8",
   "metadata": {},
   "source": [
    "### Custom Generation Plots to Capture Convergence"
   ]
  },
  {
   "cell_type": "code",
   "execution_count": null,
   "id": "afa7c465",
   "metadata": {},
   "outputs": [],
   "source": [
    "gens = range(3, 5+1)\n",
    "gens_var_plot, gens_obj_plot = opt_run.plotGens(gens)"
   ]
  },
  {
   "cell_type": "code",
   "execution_count": null,
   "id": "39ea6336",
   "metadata": {},
   "outputs": [],
   "source": [
    "gens = range(5, 7+1)\n",
    "gens_var_plot, gens_obj_plot = opt_run.plotGens(gens)"
   ]
  },
  {
   "cell_type": "markdown",
   "id": "debb122b",
   "metadata": {},
   "source": [
    "### Extract Data "
   ]
  },
  {
   "cell_type": "code",
   "execution_count": null,
   "id": "2328b12b",
   "metadata": {},
   "outputs": [],
   "source": [
    "checkpoint = opt_run.algorithm"
   ]
  },
  {
   "cell_type": "code",
   "execution_count": null,
   "id": "e2fddb8e",
   "metadata": {},
   "outputs": [],
   "source": [
    "# is the full history of the algorithm saved? \n",
    "print('Checkpoint Objective Population:\\n', checkpoint.pop.get('F')[:5])\n",
    "if np.all(checkpoint.pop.get('F')) is not None: \n",
    "    algorithm = checkpoint\n",
    "    print('Checkpoint @ end of generation')\n",
    "    print(f'     Generation - {algorithm.n_gen}, {algorithm.callback.gen}')\n",
    "else:\n",
    "    print('Checkpoint mid-generation')\n",
    "    print('     \"algorithm\" variable represents last completed generation')\n",
    "    print('     \"algorithm.callback\" unusable with history objects')\n",
    "    algorithm = checkpoint.history[-1]\n",
    "    print(f'     Generation - {algorithm.n_gen}, {algorithm.callback.gen}')"
   ]
  },
  {
   "cell_type": "markdown",
   "id": "399e81e0",
   "metadata": {},
   "source": [
    "# Preperation for Continuation"
   ]
  },
  {
   "cell_type": "code",
   "execution_count": null,
   "id": "d5e05f67",
   "metadata": {},
   "outputs": [],
   "source": [
    "pprint(opt_run.algorithm.termination.__dict__)\n",
    "opt_run.algorithm.termination"
   ]
  },
  {
   "cell_type": "code",
   "execution_count": null,
   "id": "3bfad04f",
   "metadata": {},
   "outputs": [],
   "source": [
    "from pymoo.factory import get_termination\n",
    "term = get_termination('n_gen', 30)\n",
    "print(term)"
   ]
  },
  {
   "cell_type": "code",
   "execution_count": null,
   "id": "20d14aa3",
   "metadata": {},
   "outputs": [],
   "source": [
    "# opt_run.algorithm.termination = term\n",
    "# opt_run.save_self()"
   ]
  },
  {
   "cell_type": "code",
   "execution_count": null,
   "id": "42c61ed3",
   "metadata": {},
   "outputs": [],
   "source": [
    "opt_run.algorithm.n_offsprings"
   ]
  },
  {
   "cell_type": "code",
   "execution_count": null,
   "id": "4b405c54",
   "metadata": {},
   "outputs": [],
   "source": [
    "opt_run.algorithm.n_gen"
   ]
  },
  {
   "cell_type": "code",
   "execution_count": null,
   "id": "8a7d1438",
   "metadata": {},
   "outputs": [],
   "source": [
    "opt_run.algorithm.pop_size"
   ]
  },
  {
   "cell_type": "code",
   "execution_count": null,
   "id": "b218a864",
   "metadata": {},
   "outputs": [],
   "source": []
  }
 ],
 "metadata": {
  "kernelspec": {
   "display_name": "Python 3 (ipykernel)",
   "language": "python",
   "name": "python3"
  },
  "language_info": {
   "codemirror_mode": {
    "name": "ipython",
    "version": 3
   },
   "file_extension": ".py",
   "mimetype": "text/x-python",
   "name": "python",
   "nbconvert_exporter": "python",
   "pygments_lexer": "ipython3",
   "version": "3.8.10"
  }
 },
 "nbformat": 4,
 "nbformat_minor": 5
}
