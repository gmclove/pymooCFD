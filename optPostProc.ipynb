{
 "cells": [
  {
   "cell_type": "markdown",
   "id": "974008b1",
   "metadata": {},
   "source": [
    "### Imports"
   ]
  },
  {
   "cell_type": "code",
   "execution_count": 1,
   "id": "40b6bf4c",
   "metadata": {},
   "outputs": [],
   "source": [
    "import os\n",
    "import numpy as np\n",
    "import matplotlib.pyplot as plt\n",
    "from pprint import pprint"
   ]
  },
  {
   "cell_type": "code",
   "execution_count": 2,
   "id": "91caf71a",
   "metadata": {},
   "outputs": [],
   "source": [
    "import matplotlib\n",
    "%matplotlib inline\n",
    "plt.set_loglevel(\"info\")"
   ]
  },
  {
   "cell_type": "code",
   "execution_count": 3,
   "id": "7a385221",
   "metadata": {},
   "outputs": [],
   "source": [
    "# %matplotlib qt\n",
    "# %matplotlib gtk3\n",
    "# %matplotlib gtk4\n",
    "# %matplotlib ipympl\n",
    "# %matplotlib osx\n",
    "# %matplotlib tk\n",
    "# %matplotlib notebook\n",
    "# %matplotlib wx\n",
    "# matplotlib.use('webagg')"
   ]
  },
  {
   "cell_type": "code",
   "execution_count": 4,
   "id": "9cbe6408",
   "metadata": {},
   "outputs": [],
   "source": [
    "from pymoo.visualization.scatter import Scatter"
   ]
  },
  {
   "cell_type": "markdown",
   "id": "011c9a7b",
   "metadata": {},
   "source": [
    "### Helper Function"
   ]
  },
  {
   "cell_type": "code",
   "execution_count": 5,
   "id": "52235918",
   "metadata": {},
   "outputs": [],
   "source": [
    "from IPython.display import Image, display\n",
    "import glob\n",
    "\n",
    "def showImages(listOfImageNames, **kwargs):\n",
    "    if isinstance(listOfImageNames, str):\n",
    "        listOfImageNames = [listOfImageNames]\n",
    "    listOfImageNames = [os.path.join(opt_run.abs_path, imageName) \n",
    "                            for imageName in listOfImageNames if opt_run.abs_path not in imageName]\n",
    "    listOfImageNames = [glob.glob(imageName) for imageName in listOfImageNames]\n",
    "    listOfImageNames = [item for sublist in listOfImageNames for item in sublist]\n",
    "    print('Showing Images')\n",
    "    print(listOfImageNames)\n",
    "    for imageName in listOfImageNames:\n",
    "        print('DISPLAYING:', imageName)\n",
    "        display(Image(filename=imageName), **kwargs)\n",
    "        "
   ]
  },
  {
   "cell_type": "markdown",
   "id": "79d643ec",
   "metadata": {},
   "source": [
    "# Select Study"
   ]
  },
  {
   "cell_type": "code",
   "execution_count": 6,
   "id": "3428ea3f",
   "metadata": {},
   "outputs": [],
   "source": [
    "from pymooCFD.core.minimizeCFD import MinimizeCFD\n",
    "# from pymooCFD.problems.rans_k_eps import RANS_k_eps as BaseCase\n",
    "# from pymooCFD.problems.oscill_cyl import OscillCylinder as BaseCase\n",
    "from pymooCFD.problems.oscill_cyl import OscillCylinder_SLURM as BaseCase\n",
    "# from pymooCFD.problems.oscill_cyl import OscillCylinder_Re500_SLURM as BaseCase\n",
    "# from pymooCFD.problems.rans_jet import RANSJet as BaseCase\n",
    "# from pymooCFD.problems.rans_jet import RANSJet_x3 as BaseCase\n",
    "# from pymooCFD.problems.air_purifier import Room2D_AP as BaseCase\n",
    "# from pymooCFD.problems.air_purifier import Room2D_2AP as BaseCase"
   ]
  },
  {
   "cell_type": "code",
   "execution_count": 7,
   "id": "2df2efaa",
   "metadata": {
    "scrolled": true
   },
   "outputs": [
    {
     "name": "stderr",
     "output_type": "stream",
     "text": [
      "07-28 14:45 :: INFO     :: optStudy-OscillCylinder_SLURM :: ~~~~~~~~~~~~~~~~~~~~~~~~~~\n",
      "07-28 14:45 :: INFO     :: optStudy-OscillCylinder_SLURM :: INITIALIZING - Pickle Path\n",
      "07-28 14:45 :: INFO     :: optStudy-OscillCylinder_SLURM :: \tCHECKPOINT LOADED: optStudy-OscillCylinder_SLURM/MinimizeCFD.checkpoint.npy\n",
      "07-28 14:45 :: DEBUG    :: optStudy-OscillCylinder_SLURM :: \tRESTART DICTONARY\n",
      "07-28 14:45 :: DEBUG    :: optStudy-OscillCylinder_SLURM :: \t\topt_runs: {}\n",
      "07-28 14:45 :: DEBUG    :: optStudy-OscillCylinder_SLURM :: \t\tcase_runs: {}\n",
      "07-28 14:45 :: DEBUG    :: optStudy-OscillCylinder_SLURM :: \t\tCFDCase: <class 'pymooCFD.problems.oscill_cyl.OscillCylinder_SLURM'>\n",
      "07-28 14:45 :: DEBUG    :: optStudy-OscillCylinder_SLURM :: \t\tCFDGeneticAlgorithm: <class 'pymooCFD.core.pymooBase.CFDGeneticAlgorithm'>\n",
      "07-28 14:45 :: DEBUG    :: optStudy-OscillCylinder_SLURM :: \t\tCFDGeneticProblem: <class 'pymooCFD.core.pymooBase.CFDGeneticProblem'>\n",
      "07-28 14:45 :: DEBUG    :: optStudy-OscillCylinder_SLURM :: \t\tabs_path: /media/ydubief/M2CE-14TB-1/gitrepo/pymooCFD/optStudy-OscillCylinder_SLURM\n",
      "07-28 14:45 :: DEBUG    :: optStudy-OscillCylinder_SLURM :: \t\tlog_level: 10\n",
      "07-28 14:45 :: DEBUG    :: optStudy-OscillCylinder_SLURM :: \t\tlogger: <Logger optStudy-OscillCylinder_SLURM (DEBUG)>\n",
      "07-28 14:45 :: DEBUG    :: optStudy-OscillCylinder_SLURM :: \t\tcp_init: False\n",
      "07-28 14:45 :: DEBUG    :: optStudy-OscillCylinder_SLURM :: \tCHECKPOINT DICTONARY\n",
      "07-28 14:45 :: DEBUG    :: optStudy-OscillCylinder_SLURM :: \t\topt_runs: {'default_run': <pymooCFD.core.optRun.OptRun object at 0x7f4ad68e6a90>}\n",
      "07-28 14:45 :: DEBUG    :: optStudy-OscillCylinder_SLURM :: \t\tcase_runs: {'2.0_0.4': <pymooCFD.problems.oscill_cyl.OscillCylinder_SLURM object at 0x7f49c7a21cd0>}\n",
      "07-28 14:45 :: DEBUG    :: optStudy-OscillCylinder_SLURM :: \t\tCFDCase: <class 'pymooCFD.problems.oscill_cyl.OscillCylinder_SLURM'>\n",
      "07-28 14:45 :: DEBUG    :: optStudy-OscillCylinder_SLURM :: \t\tCFDGeneticAlgorithm: <class 'pymooCFD.core.pymooBase.CFDGeneticAlgorithm'>\n",
      "07-28 14:45 :: DEBUG    :: optStudy-OscillCylinder_SLURM :: \t\tCFDGeneticProblem: <class 'pymooCFD.core.pymooBase.CFDGeneticProblem'>\n",
      "07-28 14:45 :: DEBUG    :: optStudy-OscillCylinder_SLURM :: \t\tabs_path: /gpfs1/home/g/l/glove1/gitrepo/pymooCFD/optStudy-OscillCylinder_SLURM\n",
      "07-28 14:45 :: DEBUG    :: optStudy-OscillCylinder_SLURM :: \t\tlog_level: 10\n",
      "07-28 14:45 :: DEBUG    :: optStudy-OscillCylinder_SLURM :: \t\tlogger: <Logger optStudy-OscillCylinder_SLURM (DEBUG)>\n",
      "07-28 14:45 :: DEBUG    :: optStudy-OscillCylinder_SLURM :: \t\tcp_init: True\n",
      "\u001b[93m07-28 14:45 :: WARNING  :: optStudy-OscillCylinder_SLURM :: {   'dictionary_item_added': [root.opt_runs['default_run'], root.case_runs['2.0_0.4']],\n",
      "07-28 14:45 :: WARNING  :: optStudy-OscillCylinder_SLURM ::     'values_changed': {   'root.abs_path': {   'new_value': '/gpfs1/home/g/l/glove1/gitrepo/pymooCFD/optStudy-OscillCylinder_SLURM',\n",
      "07-28 14:45 :: WARNING  :: optStudy-OscillCylinder_SLURM ::                                                'old_value': '/media/ydubief/M2CE-14TB-1/gitrepo/pymooCFD/optStudy-OscillCylinder_SLURM'},\n",
      "07-28 14:45 :: WARNING  :: optStudy-OscillCylinder_SLURM ::                           'root.cp_init': {   'new_value': True,\n",
      "07-28 14:45 :: WARNING  :: optStudy-OscillCylinder_SLURM ::                                               'old_value': False}}}\u001b[0m\n",
      "07-28 14:45 :: INFO     :: optStudy-OscillCylinder_SLURM :: LOADING: <pymooCFD.core.optRun.OptRun object at 0x7f4ad68e6a90> FROM /gpfs1/home/g/l/glove1/gitrepo/pymooCFD/optStudy-OscillCylinder_SLURM/default_run/OptRun.checkpoint.npy\n",
      "\u001b[91m07-28 14:45 :: ERROR    :: optStudy-OscillCylinder_SLURM.default_run :: CHECKPOINT NOT FOUND: /gpfs1/home/g/l/glove1/gitrepo/pymooCFD/optStudy-OscillCylinder_SLURM/default_run/OptRun.checkpoint.npy\u001b[0m\n",
      "\u001b[91m07-28 14:45 :: ERROR    :: optStudy-OscillCylinder_SLURM.default_run :: FAILED UPDATE SELF: LOADED CHECKPOINT is None\u001b[0m\n",
      "07-28 14:45 :: INFO     :: optStudy-OscillCylinder_SLURM :: LOADING: Directory: ../../../../../gpfs1/home/g/l/glove1/gitrepo/pymooCFD/optStudy-OscillCylinder_SLURM/2.0_0.4 | Parameters: [2.0, 0.4] | Objectives: [-1.83871884  0.07646289] FROM /gpfs1/home/g/l/glove1/gitrepo/pymooCFD/optStudy-OscillCylinder_SLURM/2.0_0.4/OscillCylinder_SLURM.checkpoint.npy\n",
      "\u001b[91m07-28 14:45 :: ERROR    :: optStudy-OscillCylinder_SLURM.2.0_0.4 :: CHECKPOINT NOT FOUND: /gpfs1/home/g/l/glove1/gitrepo/pymooCFD/optStudy-OscillCylinder_SLURM/2.0_0.4/OscillCylinder_SLURM.checkpoint.npy\u001b[0m\n",
      "\u001b[91m07-28 14:45 :: ERROR    :: optStudy-OscillCylinder_SLURM.2.0_0.4 :: FAILED UPDATE SELF: LOADED CHECKPOINT is None\u001b[0m\n",
      "07-28 14:45 :: DEBUG    :: optStudy-OscillCylinder_SLURM :: \tUPDATED DICTONARY\n",
      "07-28 14:45 :: DEBUG    :: optStudy-OscillCylinder_SLURM :: \t\topt_runs: {'default_run': <pymooCFD.core.optRun.OptRun object at 0x7f4ad68e6a90>}\n",
      "07-28 14:45 :: DEBUG    :: optStudy-OscillCylinder_SLURM :: \t\tcase_runs: {'2.0_0.4': <pymooCFD.problems.oscill_cyl.OscillCylinder_SLURM object at 0x7f49c7a21cd0>}\n",
      "07-28 14:45 :: DEBUG    :: optStudy-OscillCylinder_SLURM :: \t\tCFDCase: <class 'pymooCFD.problems.oscill_cyl.OscillCylinder_SLURM'>\n",
      "07-28 14:45 :: DEBUG    :: optStudy-OscillCylinder_SLURM :: \t\tCFDGeneticAlgorithm: <class 'pymooCFD.core.pymooBase.CFDGeneticAlgorithm'>\n",
      "07-28 14:45 :: DEBUG    :: optStudy-OscillCylinder_SLURM :: \t\tCFDGeneticProblem: <class 'pymooCFD.core.pymooBase.CFDGeneticProblem'>\n",
      "07-28 14:45 :: DEBUG    :: optStudy-OscillCylinder_SLURM :: \t\tabs_path: /gpfs1/home/g/l/glove1/gitrepo/pymooCFD/optStudy-OscillCylinder_SLURM\n",
      "07-28 14:45 :: DEBUG    :: optStudy-OscillCylinder_SLURM :: \t\tlog_level: 10\n",
      "07-28 14:45 :: DEBUG    :: optStudy-OscillCylinder_SLURM :: \t\tlogger: <Logger optStudy-OscillCylinder_SLURM (DEBUG)>\n",
      "07-28 14:45 :: DEBUG    :: optStudy-OscillCylinder_SLURM :: \t\tcp_init: True\n",
      "07-28 14:45 :: INFO     :: optStudy-OscillCylinder_SLURM :: RESTARTED FROM CHECKPOINT\n"
     ]
    }
   ],
   "source": [
    "study = MinimizeCFD(BaseCase)"
   ]
  },
  {
   "cell_type": "markdown",
   "id": "db4a0c28",
   "metadata": {},
   "source": [
    "## Preliminary Case Runs"
   ]
  },
  {
   "cell_type": "code",
   "execution_count": 8,
   "id": "3e1657b4",
   "metadata": {},
   "outputs": [
    {
     "data": {
      "text/plain": [
       "{'2.0_0.4': <pymooCFD.problems.oscill_cyl.OscillCylinder_SLURM at 0x7f49c7a21cd0>}"
      ]
     },
     "execution_count": 8,
     "metadata": {},
     "output_type": "execute_result"
    }
   ],
   "source": [
    "study.case_runs"
   ]
  },
  {
   "cell_type": "code",
   "execution_count": 9,
   "id": "df5e6dd0",
   "metadata": {},
   "outputs": [],
   "source": [
    "# case = study.case_runs['RANS_equiv_BCs']"
   ]
  },
  {
   "cell_type": "code",
   "execution_count": 10,
   "id": "dd46ff4b",
   "metadata": {},
   "outputs": [],
   "source": [
    "# case._postProc()"
   ]
  },
  {
   "cell_type": "markdown",
   "id": "44fdcdc5",
   "metadata": {},
   "source": [
    "## Select Optimization Algorithm Run"
   ]
  },
  {
   "cell_type": "code",
   "execution_count": 11,
   "id": "72ab8189",
   "metadata": {},
   "outputs": [
    {
     "name": "stdout",
     "output_type": "stream",
     "text": [
      "{'default_run': <pymooCFD.core.optRun.OptRun object at 0x7f4ad68e6a90>}\n"
     ]
    }
   ],
   "source": [
    "print(study.opt_runs)"
   ]
  },
  {
   "cell_type": "code",
   "execution_count": 12,
   "id": "eaae04fe",
   "metadata": {},
   "outputs": [],
   "source": [
    "opt_run = study.opt_runs['default_run']\n",
    "# opt_run = study.opt_runs['test_run']\n",
    "# opt_run = study.opt_runs['run05']\n",
    "# opt_run = study.opt_runs['run02']"
   ]
  },
  {
   "cell_type": "markdown",
   "id": "931f17ec",
   "metadata": {},
   "source": [
    "### Check Out Data Generated"
   ]
  },
  {
   "cell_type": "code",
   "execution_count": 13,
   "id": "81afd8c4",
   "metadata": {},
   "outputs": [
    {
     "name": "stdout",
     "output_type": "stream",
     "text": [
      "{'CFDCase': <class 'pymooCFD.problems.oscill_cyl.OscillCylinder_SLURM'>,\n",
      " 'CFDGeneticAlgorithm': <class 'pymooCFD.core.pymooBase.CFDGeneticAlgorithm'>,\n",
      " 'CFDGeneticProblem': <class 'pymooCFD.core.pymooBase.CFDGeneticProblem'>,\n",
      " 'abs_path': '/gpfs1/home/g/l/glove1/gitrepo/pymooCFD/optStudy-OscillCylinder_SLURM',\n",
      " 'case_runs': {'2.0_0.4': <pymooCFD.problems.oscill_cyl.OscillCylinder_SLURM object at 0x7f49c7a21cd0>},\n",
      " 'cp_init': True,\n",
      " 'log_level': 10,\n",
      " 'logger': <Logger optStudy-OscillCylinder_SLURM (DEBUG)>,\n",
      " 'opt_runs': {'default_run': <pymooCFD.core.optRun.OptRun object at 0x7f4ad68e6a90>}}\n"
     ]
    }
   ],
   "source": [
    "pprint(study.__dict__)"
   ]
  },
  {
   "cell_type": "code",
   "execution_count": 14,
   "id": "ba1baeed",
   "metadata": {},
   "outputs": [
    {
     "name": "stdout",
     "output_type": "stream",
     "text": [
      "49\n"
     ]
    }
   ],
   "source": [
    "# print(opt_run.algorithm.history)\n",
    "print(len(opt_run.algorithm.history))"
   ]
  },
  {
   "cell_type": "code",
   "execution_count": 15,
   "id": "d9aede8d",
   "metadata": {
    "scrolled": true
   },
   "outputs": [
    {
     "name": "stdout",
     "output_type": "stream",
     "text": [
      "{'CFDCase': <class 'pymooCFD.problems.oscill_cyl.OscillCylinder_SLURM'>,\n",
      " 'CFDGeneticAlgorithm': <class 'pymooCFD.core.pymooBase.CFDGeneticAlgorithm'>,\n",
      " 'CFDGeneticProblem': <class 'pymooCFD.core.pymooBase.CFDGeneticProblem'>,\n",
      " 'abs_path': '/gpfs1/home/g/l/glove1/gitrepo/pymooCFD/optStudy-OscillCylinder_SLURM',\n",
      " 'case_runs': {'2.0_0.4': <pymooCFD.problems.oscill_cyl.OscillCylinder_SLURM object at 0x7f49c7a21cd0>},\n",
      " 'cp_init': True,\n",
      " 'log_level': 10,\n",
      " 'logger': <Logger optStudy-OscillCylinder_SLURM (DEBUG)>,\n",
      " 'opt_runs': {'default_run': <pymooCFD.core.optRun.OptRun object at 0x7f4ad68e6a90>}}\n"
     ]
    }
   ],
   "source": [
    "pprint(study.__dict__)"
   ]
  },
  {
   "cell_type": "code",
   "execution_count": 16,
   "id": "20a9186d",
   "metadata": {
    "scrolled": true
   },
   "outputs": [
    {
     "name": "stdout",
     "output_type": "stream",
     "text": [
      "{'abs_path': '/gpfs1/home/g/l/glove1/gitrepo/pymooCFD/optStudy-OscillCylinder_SLURM/default_run',\n",
      " 'algorithm': <pymooCFD.core.pymooBase.CFDGeneticAlgorithm object at 0x7f49c810e6a0>,\n",
      " 'bnd_cases': [<pymooCFD.problems.oscill_cyl.OscillCylinder_SLURM object at 0x7f49c7a61fa0>,\n",
      "               <pymooCFD.problems.oscill_cyl.OscillCylinder_SLURM object at 0x7f49c7a6f6d0>,\n",
      "               <pymooCFD.problems.oscill_cyl.OscillCylinder_SLURM object at 0x7f49c7a73820>,\n",
      "               <pymooCFD.problems.oscill_cyl.OscillCylinder_SLURM object at 0x7f49c7a78a30>,\n",
      "               <pymooCFD.problems.oscill_cyl.OscillCylinder_SLURM object at 0x7f49c7a7cd00>,\n",
      "               <pymooCFD.problems.oscill_cyl.OscillCylinder_SLURM object at 0x7f49c7a82e50>,\n",
      "               <pymooCFD.problems.oscill_cyl.OscillCylinder_SLURM object at 0x7f49c7a8b160>,\n",
      "               <pymooCFD.problems.oscill_cyl.OscillCylinder_SLURM object at 0x7f49c7a112b0>],\n",
      " 'cp_init': False,\n",
      " 'gen1_pop': Population([<pymoo.core.individual.Individual object at 0x7f49c7a1ba60>,\n",
      "            <pymoo.core.individual.Individual object at 0x7f49c7a1bac0>,\n",
      "            <pymoo.core.individual.Individual object at 0x7f49c7a5ba00>,\n",
      "            <pymoo.core.individual.Individual object at 0x7f49c7a1bb20>,\n",
      "            <pymoo.core.individual.Individual object at 0x7f49c7a1bb80>,\n",
      "            <pymoo.core.individual.Individual object at 0x7f49c7a1bbe0>,\n",
      "            <pymoo.core.individual.Individual object at 0x7f49c7a1bc40>,\n",
      "            <pymoo.core.individual.Individual object at 0x7f49c7a1bca0>,\n",
      "            <pymoo.core.individual.Individual object at 0x7f49c7a1bd00>,\n",
      "            <pymoo.core.individual.Individual object at 0x7f49c7a1bd60>,\n",
      "            <pymoo.core.individual.Individual object at 0x7f49c7a1bdc0>,\n",
      "            <pymoo.core.individual.Individual object at 0x7f49c7a1be20>,\n",
      "            <pymoo.core.individual.Individual object at 0x7f49c7a5b580>,\n",
      "            <pymoo.core.individual.Individual object at 0x7f49c7a1be80>,\n",
      "            <pymoo.core.individual.Individual object at 0x7f49c7a1bee0>,\n",
      "            <pymoo.core.individual.Individual object at 0x7f49c7a1bf40>,\n",
      "            <pymoo.core.individual.Individual object at 0x7f49c7a1bfa0>,\n",
      "            <pymoo.core.individual.Individual object at 0x7f49c7a21040>,\n",
      "            <pymoo.core.individual.Individual object at 0x7f49c7a210a0>,\n",
      "            <pymoo.core.individual.Individual object at 0x7f49c7a21100>,\n",
      "            <pymoo.core.individual.Individual object at 0x7f49c7a21160>,\n",
      "            <pymoo.core.individual.Individual object at 0x7f49c7a211c0>,\n",
      "            <pymoo.core.individual.Individual object at 0x7f49c7a21220>,\n",
      "            <pymoo.core.individual.Individual object at 0x7f49c7a21280>,\n",
      "            <pymoo.core.individual.Individual object at 0x7f49c7a212e0>,\n",
      "            <pymoo.core.individual.Individual object at 0x7f49c7a21340>,\n",
      "            <pymoo.core.individual.Individual object at 0x7f49c7a213a0>,\n",
      "            <pymoo.core.individual.Individual object at 0x7f49c7a21400>,\n",
      "            <pymoo.core.individual.Individual object at 0x7f49c7a21460>,\n",
      "            <pymoo.core.individual.Individual object at 0x7f49c7a214c0>,\n",
      "            <pymoo.core.individual.Individual object at 0x7f49c7a21520>,\n",
      "            <pymoo.core.individual.Individual object at 0x7f49c7a21580>,\n",
      "            <pymoo.core.individual.Individual object at 0x7f49c7a215e0>,\n",
      "            <pymoo.core.individual.Individual object at 0x7f49c7a21640>,\n",
      "            <pymoo.core.individual.Individual object at 0x7f49c7a216a0>,\n",
      "            <pymoo.core.individual.Individual object at 0x7f49c7a21700>,\n",
      "            <pymoo.core.individual.Individual object at 0x7f49c7a21760>,\n",
      "            <pymoo.core.individual.Individual object at 0x7f49c7a217c0>,\n",
      "            <pymoo.core.individual.Individual object at 0x7f49c7a21820>,\n",
      "            <pymoo.core.individual.Individual object at 0x7f49c7a21880>,\n",
      "            <pymoo.core.individual.Individual object at 0x7f49c7a218e0>,\n",
      "            <pymoo.core.individual.Individual object at 0x7f49c7a21940>,\n",
      "            <pymoo.core.individual.Individual object at 0x7f49c7a219a0>,\n",
      "            <pymoo.core.individual.Individual object at 0x7f49c7a21a00>,\n",
      "            <pymoo.core.individual.Individual object at 0x7f49c7a21a60>,\n",
      "            <pymoo.core.individual.Individual object at 0x7f49c7a21ac0>,\n",
      "            <pymoo.core.individual.Individual object at 0x7f49c7a21b20>,\n",
      "            <pymoo.core.individual.Individual object at 0x7f49c7a21b80>,\n",
      "            <pymoo.core.individual.Individual object at 0x7f49c7a21be0>,\n",
      "            <pymoo.core.individual.Individual object at 0x7f49c7a21c40>],\n",
      "           dtype=object),\n",
      " 'log_level': 10,\n",
      " 'logger': <Logger optStudy-OscillCylinder_SLURM.default_run (DEBUG)>,\n",
      " 'n_opt': 20,\n",
      " 'problem': <pymooCFD.core.pymooBase.CFDGeneticProblem object at 0x7f49c8122250>,\n",
      " 'run_path': '/gpfs1/home/g/l/glove1/gitrepo/pymooCFD/optStudy-OscillCylinder_SLURM/default_run',\n",
      " 'test_case': <pymooCFD.problems.oscill_cyl.OscillCylinder_SLURM object at 0x7f49c7a154c0>}\n"
     ]
    }
   ],
   "source": [
    "pprint(opt_run.__dict__)"
   ]
  },
  {
   "cell_type": "code",
   "execution_count": 17,
   "id": "19598880",
   "metadata": {
    "scrolled": true
   },
   "outputs": [
    {
     "name": "stdout",
     "output_type": "stream",
     "text": [
      "{'advance_after_initial_infill': True,\n",
      " 'callback': <pymooCFD.core.pymooBase.PymooCFDCallback object at 0x7f49c810e8b0>,\n",
      " 'data': {},\n",
      " 'default_termination': <pymoo.util.termination.default.MultiObjectiveDefaultTermination object at 0x7f49c8122370>,\n",
      " 'display': <pymooCFD.core.pymooBase.MyDisplay object at 0x7f49c810e6d0>,\n",
      " 'eliminate_duplicates': <pymoo.core.duplicate.DefaultDuplicateElimination object at 0x7f49c7a619a0>,\n",
      " 'evaluator': <pymoo.core.evaluator.Evaluator object at 0x7f49c8122490>,\n",
      " 'has_terminated': True,\n",
      " 'history': [<pymooCFD.core.pymooBase.CFDGeneticAlgorithm object at 0x7f49c8122910>,\n",
      "             <pymooCFD.core.pymooBase.CFDGeneticAlgorithm object at 0x7f49c80e4850>,\n",
      "             <pymooCFD.core.pymooBase.CFDGeneticAlgorithm object at 0x7f49c81043d0>,\n",
      "             <pymooCFD.core.pymooBase.CFDGeneticAlgorithm object at 0x7f49c80a8130>,\n",
      "             <pymooCFD.core.pymooBase.CFDGeneticAlgorithm object at 0x7f49c80c2eb0>,\n",
      "             <pymooCFD.core.pymooBase.CFDGeneticAlgorithm object at 0x7f49c8063e20>,\n",
      "             <pymooCFD.core.pymooBase.CFDGeneticAlgorithm object at 0x7f49c8084d30>,\n",
      "             <pymooCFD.core.pymooBase.CFDGeneticAlgorithm object at 0x7f49c8025d00>,\n",
      "             <pymooCFD.core.pymooBase.CFDGeneticAlgorithm object at 0x7f49c8044d00>,\n",
      "             <pymooCFD.core.pymooBase.CFDGeneticAlgorithm object at 0x7f49c7fe4d90>,\n",
      "             <pymooCFD.core.pymooBase.CFDGeneticAlgorithm object at 0x7f49c8005ee0>,\n",
      "             <pymooCFD.core.pymooBase.CFDGeneticAlgorithm object at 0x7f49c7fab1f0>,\n",
      "             <pymooCFD.core.pymooBase.CFDGeneticAlgorithm object at 0x7f49c7fcb490>,\n",
      "             <pymooCFD.core.pymooBase.CFDGeneticAlgorithm object at 0x7f49c7f6d730>,\n",
      "             <pymooCFD.core.pymooBase.CFDGeneticAlgorithm object at 0x7f49c7f0faf0>,\n",
      "             <pymooCFD.core.pymooBase.CFDGeneticAlgorithm object at 0x7f49c7f2dee0>,\n",
      "             <pymooCFD.core.pymooBase.CFDGeneticAlgorithm object at 0x7f49c7ed63d0>,\n",
      "             <pymooCFD.core.pymooBase.CFDGeneticAlgorithm object at 0x7f49c7ef6910>,\n",
      "             <pymooCFD.core.pymooBase.CFDGeneticAlgorithm object at 0x7f49c7e97df0>,\n",
      "             <pymooCFD.core.pymooBase.CFDGeneticAlgorithm object at 0x7f49c7ebc2b0>,\n",
      "             <pymooCFD.core.pymooBase.CFDGeneticAlgorithm object at 0x7f49c7e5e730>,\n",
      "             <pymooCFD.core.pymooBase.CFDGeneticAlgorithm object at 0x7f49c7e80dc0>,\n",
      "             <pymooCFD.core.pymooBase.CFDGeneticAlgorithm object at 0x7f49c7e254f0>,\n",
      "             <pymooCFD.core.pymooBase.CFDGeneticAlgorithm object at 0x7f49c7e45b50>,\n",
      "             <pymooCFD.core.pymooBase.CFDGeneticAlgorithm object at 0x7f49c7dec220>,\n",
      "             <pymooCFD.core.pymooBase.CFDGeneticAlgorithm object at 0x7f49c7d8e820>,\n",
      "             <pymooCFD.core.pymooBase.CFDGeneticAlgorithm object at 0x7f49c7dafee0>,\n",
      "             <pymooCFD.core.pymooBase.CFDGeneticAlgorithm object at 0x7f49c7d57580>,\n",
      "             <pymooCFD.core.pymooBase.CFDGeneticAlgorithm object at 0x7f49c7d77c10>,\n",
      "             <pymooCFD.core.pymooBase.CFDGeneticAlgorithm object at 0x7f49c7d1d340>,\n",
      "             <pymooCFD.core.pymooBase.CFDGeneticAlgorithm object at 0x7f49c7d3ca00>,\n",
      "             <pymooCFD.core.pymooBase.CFDGeneticAlgorithm object at 0x7f49c7ce30a0>,\n",
      "             <pymooCFD.core.pymooBase.CFDGeneticAlgorithm object at 0x7f49c7d04730>,\n",
      "             <pymooCFD.core.pymooBase.CFDGeneticAlgorithm object at 0x7f49c7ca5df0>,\n",
      "             <pymooCFD.core.pymooBase.CFDGeneticAlgorithm object at 0x7f49c7c4d4c0>,\n",
      "             <pymooCFD.core.pymooBase.CFDGeneticAlgorithm object at 0x7f49c7c6eaf0>,\n",
      "             <pymooCFD.core.pymooBase.CFDGeneticAlgorithm object at 0x7f49c7c15100>,\n",
      "             <pymooCFD.core.pymooBase.CFDGeneticAlgorithm object at 0x7f49c7c346d0>,\n",
      "             <pymooCFD.core.pymooBase.CFDGeneticAlgorithm object at 0x7f49c7bd3d90>,\n",
      "             <pymooCFD.core.pymooBase.CFDGeneticAlgorithm object at 0x7f49c7bfd430>,\n",
      "             <pymooCFD.core.pymooBase.CFDGeneticAlgorithm object at 0x7f49c7b9da90>,\n",
      "             <pymooCFD.core.pymooBase.CFDGeneticAlgorithm object at 0x7f49c7bc20d0>,\n",
      "             <pymooCFD.core.pymooBase.CFDGeneticAlgorithm object at 0x7f49c7b65700>,\n",
      "             <pymooCFD.core.pymooBase.CFDGeneticAlgorithm object at 0x7f49c7b86d60>,\n",
      "             <pymooCFD.core.pymooBase.CFDGeneticAlgorithm object at 0x7f49c7b2c3d0>,\n",
      "             <pymooCFD.core.pymooBase.CFDGeneticAlgorithm object at 0x7f49c7acca30>,\n",
      "             <pymooCFD.core.pymooBase.CFDGeneticAlgorithm object at 0x7f49c7af3100>,\n",
      "             <pymooCFD.core.pymooBase.CFDGeneticAlgorithm object at 0x7f49c7a94760>,\n",
      "             <pymooCFD.core.pymooBase.CFDGeneticAlgorithm object at 0x7f49c7ab5e50>],\n",
      " 'initialization': <pymoo.core.initialization.Initialization object at 0x7f49c7a61a30>,\n",
      " 'is_initialized': True,\n",
      " 'mating': <pymoo.core.mating.Mating object at 0x7f49c7a61be0>,\n",
      " 'n_gen': 50,\n",
      " 'n_offsprings': 15,\n",
      " 'off': None,\n",
      " 'opt': Population([<pymoo.core.individual.Individual object at 0x7f49c7a5b520>,\n",
      "            <pymoo.core.individual.Individual object at 0x7f49c7a5b580>,\n",
      "            <pymoo.core.individual.Individual object at 0x7f49c7a5b5e0>,\n",
      "            <pymoo.core.individual.Individual object at 0x7f49c7a5b640>,\n",
      "            <pymoo.core.individual.Individual object at 0x7f49c7a5b6a0>,\n",
      "            <pymoo.core.individual.Individual object at 0x7f49c7a5b700>,\n",
      "            <pymoo.core.individual.Individual object at 0x7f49c7a5b760>,\n",
      "            <pymoo.core.individual.Individual object at 0x7f49c7a5b7c0>,\n",
      "            <pymoo.core.individual.Individual object at 0x7f49c7a5b820>,\n",
      "            <pymoo.core.individual.Individual object at 0x7f49c7a5b880>,\n",
      "            <pymoo.core.individual.Individual object at 0x7f49c7a5b8e0>,\n",
      "            <pymoo.core.individual.Individual object at 0x7f49c7a5b940>,\n",
      "            <pymoo.core.individual.Individual object at 0x7f49c7a5b9a0>,\n",
      "            <pymoo.core.individual.Individual object at 0x7f49c7a5ba00>,\n",
      "            <pymoo.core.individual.Individual object at 0x7f49c7a5ba60>,\n",
      "            <pymoo.core.individual.Individual object at 0x7f49c7a5bac0>,\n",
      "            <pymoo.core.individual.Individual object at 0x7f49c7a5bb20>,\n",
      "            <pymoo.core.individual.Individual object at 0x7f49c7a5bb80>,\n",
      "            <pymoo.core.individual.Individual object at 0x7f49c7a5bbe0>,\n",
      "            <pymoo.core.individual.Individual object at 0x7f49c7a5bc40>,\n",
      "            <pymoo.core.individual.Individual object at 0x7f49c7a5bca0>,\n",
      "            <pymoo.core.individual.Individual object at 0x7f49c7a5bd00>,\n",
      "            <pymoo.core.individual.Individual object at 0x7f49c7a5bd60>,\n",
      "            <pymoo.core.individual.Individual object at 0x7f49c7a5bdf0>,\n",
      "            <pymoo.core.individual.Individual object at 0x7f49c7a5be50>,\n",
      "            <pymoo.core.individual.Individual object at 0x7f49c7a5beb0>,\n",
      "            <pymoo.core.individual.Individual object at 0x7f49c7a5bf10>,\n",
      "            <pymoo.core.individual.Individual object at 0x7f49c7a5bf70>,\n",
      "            <pymoo.core.individual.Individual object at 0x7f49c7a5bfd0>,\n",
      "            <pymoo.core.individual.Individual object at 0x7f49c7a61070>,\n",
      "            <pymoo.core.individual.Individual object at 0x7f49c7a610d0>,\n",
      "            <pymoo.core.individual.Individual object at 0x7f49c7a61130>,\n",
      "            <pymoo.core.individual.Individual object at 0x7f49c7a61190>,\n",
      "            <pymoo.core.individual.Individual object at 0x7f49c7a611f0>,\n",
      "            <pymoo.core.individual.Individual object at 0x7f49c7a61250>,\n",
      "            <pymoo.core.individual.Individual object at 0x7f49c7a612b0>,\n",
      "            <pymoo.core.individual.Individual object at 0x7f49c7a61310>,\n",
      "            <pymoo.core.individual.Individual object at 0x7f49c7a61370>,\n",
      "            <pymoo.core.individual.Individual object at 0x7f49c7a613d0>,\n",
      "            <pymoo.core.individual.Individual object at 0x7f49c7a61430>,\n",
      "            <pymoo.core.individual.Individual object at 0x7f49c7a61490>,\n",
      "            <pymoo.core.individual.Individual object at 0x7f49c7a614f0>,\n",
      "            <pymoo.core.individual.Individual object at 0x7f49c7a61550>,\n",
      "            <pymoo.core.individual.Individual object at 0x7f49c7a615b0>,\n",
      "            <pymoo.core.individual.Individual object at 0x7f49c7a61610>,\n",
      "            <pymoo.core.individual.Individual object at 0x7f49c7a61670>,\n",
      "            <pymoo.core.individual.Individual object at 0x7f49c7a616d0>,\n",
      "            <pymoo.core.individual.Individual object at 0x7f49c7a61730>,\n",
      "            <pymoo.core.individual.Individual object at 0x7f49c7a61790>,\n",
      "            <pymoo.core.individual.Individual object at 0x7f49c7a617f0>],\n",
      "           dtype=object),\n",
      " 'pf': True,\n",
      " 'pop': Population([<pymoo.core.individual.Individual object at 0x7f49c7a5b520>,\n",
      "            <pymoo.core.individual.Individual object at 0x7f49c7a5b580>,\n",
      "            <pymoo.core.individual.Individual object at 0x7f49c7a5b5e0>,\n",
      "            <pymoo.core.individual.Individual object at 0x7f49c7a5b640>,\n",
      "            <pymoo.core.individual.Individual object at 0x7f49c7a5b6a0>,\n",
      "            <pymoo.core.individual.Individual object at 0x7f49c7a5b700>,\n",
      "            <pymoo.core.individual.Individual object at 0x7f49c7a5b760>,\n",
      "            <pymoo.core.individual.Individual object at 0x7f49c7a5b7c0>,\n",
      "            <pymoo.core.individual.Individual object at 0x7f49c7a5b820>,\n",
      "            <pymoo.core.individual.Individual object at 0x7f49c7a5b880>,\n",
      "            <pymoo.core.individual.Individual object at 0x7f49c7a5b8e0>,\n",
      "            <pymoo.core.individual.Individual object at 0x7f49c7a5b940>,\n",
      "            <pymoo.core.individual.Individual object at 0x7f49c7a5b9a0>,\n",
      "            <pymoo.core.individual.Individual object at 0x7f49c7a5ba00>,\n",
      "            <pymoo.core.individual.Individual object at 0x7f49c7a5ba60>,\n",
      "            <pymoo.core.individual.Individual object at 0x7f49c7a5bac0>,\n",
      "            <pymoo.core.individual.Individual object at 0x7f49c7a5bb20>,\n",
      "            <pymoo.core.individual.Individual object at 0x7f49c7a5bb80>,\n",
      "            <pymoo.core.individual.Individual object at 0x7f49c7a5bbe0>,\n",
      "            <pymoo.core.individual.Individual object at 0x7f49c7a5bc40>,\n",
      "            <pymoo.core.individual.Individual object at 0x7f49c7a5bca0>,\n",
      "            <pymoo.core.individual.Individual object at 0x7f49c7a5bd00>,\n",
      "            <pymoo.core.individual.Individual object at 0x7f49c7a5bd60>,\n",
      "            <pymoo.core.individual.Individual object at 0x7f49c7a5bdf0>,\n",
      "            <pymoo.core.individual.Individual object at 0x7f49c7a5be50>,\n",
      "            <pymoo.core.individual.Individual object at 0x7f49c7a5beb0>,\n",
      "            <pymoo.core.individual.Individual object at 0x7f49c7a5bf10>,\n",
      "            <pymoo.core.individual.Individual object at 0x7f49c7a5bf70>,\n",
      "            <pymoo.core.individual.Individual object at 0x7f49c7a5bfd0>,\n",
      "            <pymoo.core.individual.Individual object at 0x7f49c7a61070>,\n",
      "            <pymoo.core.individual.Individual object at 0x7f49c7a610d0>,\n",
      "            <pymoo.core.individual.Individual object at 0x7f49c7a61130>,\n",
      "            <pymoo.core.individual.Individual object at 0x7f49c7a61190>,\n",
      "            <pymoo.core.individual.Individual object at 0x7f49c7a611f0>,\n",
      "            <pymoo.core.individual.Individual object at 0x7f49c7a61250>,\n",
      "            <pymoo.core.individual.Individual object at 0x7f49c7a612b0>,\n",
      "            <pymoo.core.individual.Individual object at 0x7f49c7a61310>,\n",
      "            <pymoo.core.individual.Individual object at 0x7f49c7a61370>,\n",
      "            <pymoo.core.individual.Individual object at 0x7f49c7a613d0>,\n",
      "            <pymoo.core.individual.Individual object at 0x7f49c7a61430>,\n",
      "            <pymoo.core.individual.Individual object at 0x7f49c7a61490>,\n",
      "            <pymoo.core.individual.Individual object at 0x7f49c7a614f0>,\n",
      "            <pymoo.core.individual.Individual object at 0x7f49c7a61550>,\n",
      "            <pymoo.core.individual.Individual object at 0x7f49c7a615b0>,\n",
      "            <pymoo.core.individual.Individual object at 0x7f49c7a61610>,\n",
      "            <pymoo.core.individual.Individual object at 0x7f49c7a61670>,\n",
      "            <pymoo.core.individual.Individual object at 0x7f49c7a616d0>,\n",
      "            <pymoo.core.individual.Individual object at 0x7f49c7a61730>,\n",
      "            <pymoo.core.individual.Individual object at 0x7f49c7a61790>,\n",
      "            <pymoo.core.individual.Individual object at 0x7f49c7a617f0>],\n",
      "           dtype=object),\n",
      " 'pop_size': 50,\n",
      " 'problem': <pymooCFD.core.pymooBase.CFDGeneticProblem object at 0x7f49c8122250>,\n",
      " 'repair': <pymoo.core.repair.NoRepair object at 0x7f49c7a61a00>,\n",
      " 'return_least_infeasible': True,\n",
      " 'save_history': True,\n",
      " 'seed': 1,\n",
      " 'start_time': 1651801652.7706287,\n",
      " 'survival': <pymoo.algorithms.moo.nsga2.RankAndCrowdingSurvival object at 0x7f49c7a618e0>,\n",
      " 'termination': <pymoo.util.termination.max_gen.MaximumGenerationTermination object at 0x7f49c810e730>,\n",
      " 'tournament_type': 'comp_by_dom_and_crowding',\n",
      " 'verbose': True}\n"
     ]
    }
   ],
   "source": [
    "pprint(opt_run.algorithm.__dict__)"
   ]
  },
  {
   "cell_type": "code",
   "execution_count": 18,
   "id": "ddd2591e",
   "metadata": {},
   "outputs": [
    {
     "name": "stdout",
     "output_type": "stream",
     "text": [
      "{'BaseCase': <class 'pymooCFD.problems.oscill_cyl.OscillCylinder_SLURM'>,\n",
      " '_ideal_point': None,\n",
      " '_nadir_point': None,\n",
      " '_pareto_front': <pymoo.util.cache.Cache object at 0x7f49c81222e0>,\n",
      " '_pareto_set': <pymoo.util.cache.Cache object at 0x7f49c8122280>,\n",
      " 'callback': None,\n",
      " 'check_inconsistencies': True,\n",
      " 'data': {},\n",
      " 'exclude_from_serialization': [],\n",
      " 'gen1Pop': None,\n",
      " 'n_constr': 0,\n",
      " 'n_obj': 2,\n",
      " 'n_var': 2,\n",
      " 'replace_nan_values_by': inf,\n",
      " 'validated': False,\n",
      " 'xl': array([0.1, 0.2]),\n",
      " 'xu': array([10.,  1.])}\n"
     ]
    }
   ],
   "source": [
    "pprint(opt_run.problem.__dict__)"
   ]
  },
  {
   "cell_type": "code",
   "execution_count": 19,
   "id": "566139f0",
   "metadata": {},
   "outputs": [],
   "source": [
    "# for key in optRun.__dict__:\n",
    "#     pprint(\"{0:15} : {1}\".format(key, optRun.__dict__[key])) #str(optRun.__dict__[key]).replace('\\n', '\\n\\t\\t  ')))"
   ]
  },
  {
   "cell_type": "code",
   "execution_count": 20,
   "id": "f07ac59e",
   "metadata": {},
   "outputs": [],
   "source": [
    "# for key in optRun.__dict__:\n",
    "#     val = str(optRun.__dict__[key]).replace('\\n', '\\n\\t\\t')\n",
    "#     pprint(\"{0:15} : {1}\".format(key, val))"
   ]
  },
  {
   "cell_type": "markdown",
   "id": "594557b9",
   "metadata": {},
   "source": [
    "# Pre-Process Optimization Study"
   ]
  },
  {
   "cell_type": "code",
   "execution_count": 21,
   "id": "2c420983",
   "metadata": {},
   "outputs": [
    {
     "data": {
      "text/plain": [
       "50"
      ]
     },
     "execution_count": 21,
     "metadata": {},
     "output_type": "execute_result"
    }
   ],
   "source": [
    "len(opt_run.algorithm.history[-1].opt)"
   ]
  },
  {
   "cell_type": "markdown",
   "id": "6c9a37f7",
   "metadata": {},
   "source": [
    "### Test Case"
   ]
  },
  {
   "cell_type": "code",
   "execution_count": 22,
   "id": "b4e0f929",
   "metadata": {},
   "outputs": [
    {
     "name": "stdout",
     "output_type": "stream",
     "text": [
      "Directory: ../../../../../gpfs1/home/g/l/glove1/gitrepo/pymooCFD/optStudy-OscillCylinder_SLURM/default_run/test_case | Parameters: [5.05, 0.6000000000000001] | Objectives: [-11.973436881024554, 0.2295364939027778]\n"
     ]
    },
    {
     "data": {
      "text/plain": [
       "<pymooCFD.problems.oscill_cyl.OscillCylinder_SLURM at 0x7f49c7a154c0>"
      ]
     },
     "execution_count": 22,
     "metadata": {},
     "output_type": "execute_result"
    }
   ],
   "source": [
    "print(opt_run.test_case)\n",
    "opt_run.test_case"
   ]
  },
  {
   "cell_type": "code",
   "execution_count": 23,
   "id": "154fc081",
   "metadata": {},
   "outputs": [
    {
     "name": "stdout",
     "output_type": "stream",
     "text": [
      "{'_f': [-11.973436881024554, 0.2295364939027778],\n",
      " '_g': None,\n",
      " '_x': [5.05, 0.6000000000000001],\n",
      " 'abs_path': '/gpfs1/home/g/l/glove1/gitrepo/pymooCFD/optStudy-OscillCylinder_SLURM/default_run/test_case',\n",
      " 'cp_init': False,\n",
      " 'datFile': 'FORCES_temporal.txt',\n",
      " 'inputFile': '2D_cylinder.in',\n",
      " 'jobFile': 'jobslurm.sh',\n",
      " 'log_level': 10,\n",
      " 'logger': <Logger optStudy-OscillCylinder_SLURM.default_run.test_case (DEBUG)>,\n",
      " 'meshFile': '2D_cylinder.msh22',\n",
      " 'meshSF': 1.0,\n",
      " 'mesh_study': <pymooCFD.core.meshStudy.MeshStudy object at 0x7f49c7a155e0>,\n",
      " 'msCases': None,\n",
      " 'numElem': 122927,\n",
      " 'obj_labels': ['Change in Coefficient of Drag [%]', 'Resistive Force [N]'],\n",
      " 'restart': True,\n",
      " 'solnTime': 2026.4944536685944,\n",
      " 'validated': False,\n",
      " 'var_labels': ['Amplitude [radians/s]', 'Frequency [cycles/s]'],\n",
      " 'wallTime': 1970}\n"
     ]
    }
   ],
   "source": [
    "pprint(opt_run.test_case.__dict__)"
   ]
  },
  {
   "cell_type": "markdown",
   "id": "c96afa0a",
   "metadata": {},
   "source": [
    "#### Mesh Study"
   ]
  },
  {
   "cell_type": "code",
   "execution_count": 24,
   "id": "05f4d7a6",
   "metadata": {},
   "outputs": [
    {
     "name": "stdout",
     "output_type": "stream",
     "text": [
      "{'_size_factors': array([1. , 1.3, 1.5, 2. , 3. , 4. , 5. ]),\n",
      " 'base_case': <pymooCFD.problems.oscill_cyl.OscillCylinder_SLURM object at 0x7f49c7a154c0>,\n",
      " 'cases': [<pymooCFD.problems.oscill_cyl.OscillCylinder_SLURM object at 0x7f49c7a15670>,\n",
      "           <pymooCFD.problems.oscill_cyl.OscillCylinder_SLURM object at 0x7f49c7a15970>,\n",
      "           <pymooCFD.problems.oscill_cyl.OscillCylinder_SLURM object at 0x7f49c7a15bb0>,\n",
      "           <pymooCFD.problems.oscill_cyl.OscillCylinder_SLURM object at 0x7f49c7a15df0>,\n",
      "           <pymooCFD.problems.oscill_cyl.OscillCylinder_SLURM object at 0x7f49c7a1b0d0>,\n",
      "           <pymooCFD.problems.oscill_cyl.OscillCylinder_SLURM object at 0x7f49c7a1b370>,\n",
      "           <pymooCFD.problems.oscill_cyl.OscillCylinder_SLURM object at 0x7f49c7a1b610>],\n",
      " 'folder': '/gpfs1/home/g/l/glove1/gitrepo/pymooCFD/optStudy-OscillCylinder_SLURM/default_run/test_case/mesh_study',\n",
      " 'logger': <Logger pymooCFD.core.meshStudy./gpfs1/home/g/l/glove1/gitrepo/pymooCFD/optStudy-OscillCylinder_SLURM/default_run/test_case/mesh_study (WARNING)>}\n"
     ]
    }
   ],
   "source": [
    "pprint(opt_run.test_case.mesh_study.__dict__)"
   ]
  },
  {
   "cell_type": "code",
   "execution_count": 25,
   "id": "7e80ceb2",
   "metadata": {},
   "outputs": [
    {
     "name": "stdout",
     "output_type": "stream",
     "text": [
      "[<pymooCFD.problems.oscill_cyl.OscillCylinder_SLURM object at 0x7f49c7a15670>, <pymooCFD.problems.oscill_cyl.OscillCylinder_SLURM object at 0x7f49c7a15970>, <pymooCFD.problems.oscill_cyl.OscillCylinder_SLURM object at 0x7f49c7a15bb0>, <pymooCFD.problems.oscill_cyl.OscillCylinder_SLURM object at 0x7f49c7a15df0>, <pymooCFD.problems.oscill_cyl.OscillCylinder_SLURM object at 0x7f49c7a1b0d0>, <pymooCFD.problems.oscill_cyl.OscillCylinder_SLURM object at 0x7f49c7a1b370>, <pymooCFD.problems.oscill_cyl.OscillCylinder_SLURM object at 0x7f49c7a1b610>]\n"
     ]
    }
   ],
   "source": [
    "print(opt_run.test_case.mesh_study.cases)"
   ]
  },
  {
   "cell_type": "code",
   "execution_count": 26,
   "id": "160a8306",
   "metadata": {},
   "outputs": [
    {
     "name": "stdout",
     "output_type": "stream",
     "text": [
      "{'_f': [-11.973436881024554, 0.22953649390277778],\n",
      " '_g': None,\n",
      " '_x': [5.05, 0.6000000000000001],\n",
      " 'abs_path': '/gpfs1/home/g/l/glove1/gitrepo/pymooCFD/optStudy-OscillCylinder_SLURM/default_run/test_case/mesh_study/meshSF-1.0',\n",
      " 'base_case_path': '/gpfs1/home/g/l/glove1/gitrepo/pymooCFD/pymooCFD/problems/base_cases/osc-cyl_base',\n",
      " 'cp_init': True,\n",
      " 'datFile': 'FORCES_temporal.txt',\n",
      " 'inputFile': '2D_cylinder.in',\n",
      " 'jobFile': 'jobslurm.sh',\n",
      " 'log_level': 10,\n",
      " 'logger': <Logger optStudy-OscillCylinder_SLURM.default_run.test_case.mesh_study.meshSF-1.0 (DEBUG)>,\n",
      " 'meshFile': '2D_cylinder.msh22',\n",
      " 'meshSF': 1.0,\n",
      " 'mesh_study': None,\n",
      " 'msCases': None,\n",
      " 'numElem': 122927,\n",
      " 'obj_labels': ['Change in Coefficient of Drag [%]', 'Resistive Force [N]'],\n",
      " 'restart': True,\n",
      " 'solnTime': 6155.2664840221405,\n",
      " 'validated': False,\n",
      " 'var_labels': ['Amplitude [radians/s]', 'Frequency [cycles/s]'],\n",
      " 'wallTime': 6120}\n",
      "\n",
      "{'_f': [-11.731581834141704, 0.22306074011215518],\n",
      " '_g': None,\n",
      " '_x': [5.05, 0.6000000000000001],\n",
      " 'abs_path': '/gpfs1/home/g/l/glove1/gitrepo/pymooCFD/optStudy-OscillCylinder_SLURM/default_run/test_case/mesh_study/meshSF-1.3',\n",
      " 'base_case_path': '/gpfs1/home/g/l/glove1/gitrepo/pymooCFD/pymooCFD/problems/base_cases/osc-cyl_base',\n",
      " 'cp_init': True,\n",
      " 'datFile': 'FORCES_temporal.txt',\n",
      " 'inputFile': '2D_cylinder.in',\n",
      " 'jobFile': 'jobslurm.sh',\n",
      " 'log_level': 10,\n",
      " 'logger': <Logger optStudy-OscillCylinder_SLURM.default_run.test_case.mesh_study.meshSF-1.3 (DEBUG)>,\n",
      " 'meshFile': '2D_cylinder.msh22',\n",
      " 'meshSF': 1.3,\n",
      " 'mesh_study': None,\n",
      " 'msCases': None,\n",
      " 'numElem': 113742,\n",
      " 'obj_labels': ['Change in Coefficient of Drag [%]', 'Resistive Force [N]'],\n",
      " 'restart': True,\n",
      " 'solnTime': 5451.154504299164,\n",
      " 'validated': False,\n",
      " 'var_labels': ['Amplitude [radians/s]', 'Frequency [cycles/s]'],\n",
      " 'wallTime': 5390}\n",
      "\n",
      "{'_f': [-12.203872593517453, 0.22118972116997354],\n",
      " '_g': None,\n",
      " '_x': [5.05, 0.6000000000000001],\n",
      " 'abs_path': '/gpfs1/home/g/l/glove1/gitrepo/pymooCFD/optStudy-OscillCylinder_SLURM/default_run/test_case/mesh_study/meshSF-1.5',\n",
      " 'base_case_path': '/gpfs1/home/g/l/glove1/gitrepo/pymooCFD/pymooCFD/problems/base_cases/osc-cyl_base',\n",
      " 'cp_init': True,\n",
      " 'datFile': 'FORCES_temporal.txt',\n",
      " 'inputFile': '2D_cylinder.in',\n",
      " 'jobFile': 'jobslurm.sh',\n",
      " 'log_level': 10,\n",
      " 'logger': <Logger optStudy-OscillCylinder_SLURM.default_run.test_case.mesh_study.meshSF-1.5 (DEBUG)>,\n",
      " 'meshFile': '2D_cylinder.msh22',\n",
      " 'meshSF': 1.5,\n",
      " 'mesh_study': None,\n",
      " 'msCases': None,\n",
      " 'numElem': 105805,\n",
      " 'obj_labels': ['Change in Coefficient of Drag [%]', 'Resistive Force [N]'],\n",
      " 'restart': True,\n",
      " 'solnTime': 1354.2920007705688,\n",
      " 'validated': False,\n",
      " 'var_labels': ['Amplitude [radians/s]', 'Frequency [cycles/s]'],\n",
      " 'wallTime': 1310}\n",
      "\n",
      "{'_f': [-12.39928471364267, 0.21471113326674396],\n",
      " '_g': None,\n",
      " '_x': [5.05, 0.6000000000000001],\n",
      " 'abs_path': '/gpfs1/home/g/l/glove1/gitrepo/pymooCFD/optStudy-OscillCylinder_SLURM/default_run/test_case/mesh_study/meshSF-2.0',\n",
      " 'base_case_path': '/gpfs1/home/g/l/glove1/gitrepo/pymooCFD/pymooCFD/problems/base_cases/osc-cyl_base',\n",
      " 'cp_init': True,\n",
      " 'datFile': 'FORCES_temporal.txt',\n",
      " 'inputFile': '2D_cylinder.in',\n",
      " 'jobFile': 'jobslurm.sh',\n",
      " 'log_level': 10,\n",
      " 'logger': <Logger optStudy-OscillCylinder_SLURM.default_run.test_case.mesh_study.meshSF-2.0 (DEBUG)>,\n",
      " 'meshFile': '2D_cylinder.msh22',\n",
      " 'meshSF': 2.0,\n",
      " 'mesh_study': None,\n",
      " 'msCases': None,\n",
      " 'numElem': 95279,\n",
      " 'obj_labels': ['Change in Coefficient of Drag [%]', 'Resistive Force [N]'],\n",
      " 'restart': True,\n",
      " 'solnTime': 1066.2506303787231,\n",
      " 'validated': False,\n",
      " 'var_labels': ['Amplitude [radians/s]', 'Frequency [cycles/s]'],\n",
      " 'wallTime': 1030}\n",
      "\n",
      "{'_f': [-12.739553590543085, 0.20246933591013708],\n",
      " '_g': None,\n",
      " '_x': [5.05, 0.6000000000000001],\n",
      " 'abs_path': '/gpfs1/home/g/l/glove1/gitrepo/pymooCFD/optStudy-OscillCylinder_SLURM/default_run/test_case/mesh_study/meshSF-3.0',\n",
      " 'base_case_path': '/gpfs1/home/g/l/glove1/gitrepo/pymooCFD/pymooCFD/problems/base_cases/osc-cyl_base',\n",
      " 'cp_init': True,\n",
      " 'datFile': 'FORCES_temporal.txt',\n",
      " 'inputFile': '2D_cylinder.in',\n",
      " 'jobFile': 'jobslurm.sh',\n",
      " 'log_level': 10,\n",
      " 'logger': <Logger optStudy-OscillCylinder_SLURM.default_run.test_case.mesh_study.meshSF-3.0 (DEBUG)>,\n",
      " 'meshFile': '2D_cylinder.msh22',\n",
      " 'meshSF': 3.0,\n",
      " 'mesh_study': None,\n",
      " 'msCases': None,\n",
      " 'numElem': 82472,\n",
      " 'obj_labels': ['Change in Coefficient of Drag [%]', 'Resistive Force [N]'],\n",
      " 'restart': True,\n",
      " 'solnTime': 682.1876833438873,\n",
      " 'validated': False,\n",
      " 'var_labels': ['Amplitude [radians/s]', 'Frequency [cycles/s]'],\n",
      " 'wallTime': 665}\n",
      "\n",
      "{'_f': [-14.044670925492545, 0.18826340715052367],\n",
      " '_g': None,\n",
      " '_x': [5.05, 0.6000000000000001],\n",
      " 'abs_path': '/gpfs1/home/g/l/glove1/gitrepo/pymooCFD/optStudy-OscillCylinder_SLURM/default_run/test_case/mesh_study/meshSF-4.0',\n",
      " 'base_case_path': '/gpfs1/home/g/l/glove1/gitrepo/pymooCFD/pymooCFD/problems/base_cases/osc-cyl_base',\n",
      " 'cp_init': True,\n",
      " 'datFile': 'FORCES_temporal.txt',\n",
      " 'inputFile': '2D_cylinder.in',\n",
      " 'jobFile': 'jobslurm.sh',\n",
      " 'log_level': 10,\n",
      " 'logger': <Logger optStudy-OscillCylinder_SLURM.default_run.test_case.mesh_study.meshSF-4.0 (DEBUG)>,\n",
      " 'meshFile': '2D_cylinder.msh22',\n",
      " 'meshSF': 4.0,\n",
      " 'mesh_study': None,\n",
      " 'msCases': None,\n",
      " 'numElem': 74376,\n",
      " 'obj_labels': ['Change in Coefficient of Drag [%]', 'Resistive Force [N]'],\n",
      " 'restart': True,\n",
      " 'solnTime': 586.1912610530853,\n",
      " 'validated': False,\n",
      " 'var_labels': ['Amplitude [radians/s]', 'Frequency [cycles/s]'],\n",
      " 'wallTime': 539}\n",
      "\n",
      "{'_f': [-14.84008748898345, 0.17483988238733894],\n",
      " '_g': None,\n",
      " '_x': [5.05, 0.6000000000000001],\n",
      " 'abs_path': '/gpfs1/home/g/l/glove1/gitrepo/pymooCFD/optStudy-OscillCylinder_SLURM/default_run/test_case/mesh_study/meshSF-5.0',\n",
      " 'base_case_path': '/gpfs1/home/g/l/glove1/gitrepo/pymooCFD/pymooCFD/problems/base_cases/osc-cyl_base',\n",
      " 'cp_init': True,\n",
      " 'datFile': 'FORCES_temporal.txt',\n",
      " 'inputFile': '2D_cylinder.in',\n",
      " 'jobFile': 'jobslurm.sh',\n",
      " 'log_level': 10,\n",
      " 'logger': <Logger optStudy-OscillCylinder_SLURM.default_run.test_case.mesh_study.meshSF-5.0 (DEBUG)>,\n",
      " 'meshFile': '2D_cylinder.msh22',\n",
      " 'meshSF': 5.0,\n",
      " 'mesh_study': None,\n",
      " 'msCases': None,\n",
      " 'numElem': 70188,\n",
      " 'obj_labels': ['Change in Coefficient of Drag [%]', 'Resistive Force [N]'],\n",
      " 'restart': True,\n",
      " 'solnTime': 522.1639256477356,\n",
      " 'validated': False,\n",
      " 'var_labels': ['Amplitude [radians/s]', 'Frequency [cycles/s]'],\n",
      " 'wallTime': 473}\n",
      "\n"
     ]
    }
   ],
   "source": [
    "if opt_run.test_case.mesh_study.cases is None:\n",
    "    print('No Mesh Study Cases for Test Case')\n",
    "else:\n",
    "    for case in opt_run.test_case.mesh_study.cases:\n",
    "        pprint(case.__dict__)\n",
    "        print()"
   ]
  },
  {
   "cell_type": "code",
   "execution_count": 27,
   "id": "ff6c06d9",
   "metadata": {},
   "outputs": [
    {
     "name": "stdout",
     "output_type": "stream",
     "text": [
      "Mesh Size Factors: [1.  1.3 1.5 2.  3.  4.  5. ]\n"
     ]
    }
   ],
   "source": [
    "if opt_run.test_case.mesh_study.cases is None:\n",
    "    print('No Mesh Study Cases for Test Case')\n",
    "else:\n",
    "    print('Mesh Size Factors:', opt_run.test_case.mesh_study.size_factors)"
   ]
  },
  {
   "cell_type": "code",
   "execution_count": 28,
   "id": "5b747662",
   "metadata": {},
   "outputs": [
    {
     "name": "stdout",
     "output_type": "stream",
     "text": [
      "Directory: ../../../../../gpfs1/home/g/l/glove1/gitrepo/pymooCFD/optStudy-OscillCylinder_SLURM/default_run/test_case/mesh_study/meshSF-1.0 | Parameters: [5.05, 0.6000000000000001] | Objectives: [-11.973436881024554, 0.22953649390277778]\n",
      "\n",
      "Directory: ../../../../../gpfs1/home/g/l/glove1/gitrepo/pymooCFD/optStudy-OscillCylinder_SLURM/default_run/test_case/mesh_study/meshSF-1.3 | Parameters: [5.05, 0.6000000000000001] | Objectives: [-11.731581834141704, 0.22306074011215518]\n",
      "\n",
      "Directory: ../../../../../gpfs1/home/g/l/glove1/gitrepo/pymooCFD/optStudy-OscillCylinder_SLURM/default_run/test_case/mesh_study/meshSF-1.5 | Parameters: [5.05, 0.6000000000000001] | Objectives: [-12.203872593517453, 0.22118972116997354]\n",
      "\n",
      "Directory: ../../../../../gpfs1/home/g/l/glove1/gitrepo/pymooCFD/optStudy-OscillCylinder_SLURM/default_run/test_case/mesh_study/meshSF-2.0 | Parameters: [5.05, 0.6000000000000001] | Objectives: [-12.39928471364267, 0.21471113326674396]\n",
      "\n",
      "Directory: ../../../../../gpfs1/home/g/l/glove1/gitrepo/pymooCFD/optStudy-OscillCylinder_SLURM/default_run/test_case/mesh_study/meshSF-3.0 | Parameters: [5.05, 0.6000000000000001] | Objectives: [-12.739553590543085, 0.20246933591013708]\n",
      "\n",
      "Directory: ../../../../../gpfs1/home/g/l/glove1/gitrepo/pymooCFD/optStudy-OscillCylinder_SLURM/default_run/test_case/mesh_study/meshSF-4.0 | Parameters: [5.05, 0.6000000000000001] | Objectives: [-14.044670925492545, 0.18826340715052367]\n",
      "\n",
      "Directory: ../../../../../gpfs1/home/g/l/glove1/gitrepo/pymooCFD/optStudy-OscillCylinder_SLURM/default_run/test_case/mesh_study/meshSF-5.0 | Parameters: [5.05, 0.6000000000000001] | Objectives: [-14.84008748898345, 0.17483988238733894]\n",
      "\n"
     ]
    }
   ],
   "source": [
    "if opt_run.test_case.mesh_study.cases is None:\n",
    "    print('No Mesh Study Cases for Test Case')\n",
    "else:\n",
    "    for case in opt_run.test_case.mesh_study.cases:\n",
    "        print(case)\n",
    "        print()\n",
    "#     print('\\tParameters:', case._x, '\\t Objectives:', case._f)"
   ]
  },
  {
   "cell_type": "code",
   "execution_count": 34,
   "id": "ab38417e",
   "metadata": {},
   "outputs": [],
   "source": [
    "opt_run.test_case.mesh_study.base_case.abs_path = '/media/ydubief/M2CE-14TB-1/gitrepo/pymooCFD/optStudy-OscillCylinder_SLURM/default_run/test_case/'\n",
    "opt_run.test_case.mesh_study.folder = '/media/ydubief/M2CE-14TB-1/gitrepo/pymooCFD/optStudy-OscillCylinder_SLURM/default_run/test_case/mesh_study'"
   ]
  },
  {
   "cell_type": "code",
   "execution_count": 35,
   "id": "352cbc49",
   "metadata": {},
   "outputs": [
    {
     "ename": "AttributeError",
     "evalue": "'MeshStudy' object has no attribute 'abs_path'",
     "output_type": "error",
     "traceback": [
      "\u001b[0;31m---------------------------------------------------------------------------\u001b[0m",
      "\u001b[0;31mAttributeError\u001b[0m                            Traceback (most recent call last)",
      "Input \u001b[0;32mIn [35]\u001b[0m, in \u001b[0;36m<cell line: 1>\u001b[0;34m()\u001b[0m\n\u001b[0;32m----> 1\u001b[0m ms_plots \u001b[38;5;241m=\u001b[39m \u001b[43mopt_run\u001b[49m\u001b[38;5;241;43m.\u001b[39;49m\u001b[43mtest_case\u001b[49m\u001b[38;5;241;43m.\u001b[39;49m\u001b[43mmesh_study\u001b[49m\u001b[38;5;241;43m.\u001b[39;49m\u001b[43mplot\u001b[49m\u001b[43m(\u001b[49m\u001b[43m)\u001b[49m\n",
      "File \u001b[0;32m/media/ydubief/M2CE-14TB-1/gitrepo/pymooCFD/pymooCFD/core/meshStudy.py:211\u001b[0m, in \u001b[0;36mMeshStudy.plot\u001b[0;34m(self)\u001b[0m\n\u001b[1;32m    209\u001b[0m     fPath \u001b[38;5;241m=\u001b[39m os\u001b[38;5;241m.\u001b[39mpath\u001b[38;5;241m.\u001b[39mjoin(\u001b[38;5;28mself\u001b[39m\u001b[38;5;241m.\u001b[39mfolder, fName)\n\u001b[1;32m    210\u001b[0m     plot\u001b[38;5;241m.\u001b[39msave(fPath, dpi\u001b[38;5;241m=\u001b[39m\u001b[38;5;241m200\u001b[39m)\n\u001b[0;32m--> 211\u001b[0m \u001b[38;5;28;43mself\u001b[39;49m\u001b[38;5;241;43m.\u001b[39;49m\u001b[43mbase_case\u001b[49m\u001b[38;5;241;43m.\u001b[39;49m\u001b[43msave_self\u001b[49m\u001b[43m(\u001b[49m\u001b[43m)\u001b[49m\n",
      "File \u001b[0;32m/media/ydubief/M2CE-14TB-1/gitrepo/pymooCFD/pymooCFD/core/picklePath.py:196\u001b[0m, in \u001b[0;36mPicklePath.save_self\u001b[0;34m(self)\u001b[0m\n\u001b[1;32m    194\u001b[0m filtered_self \u001b[38;5;241m=\u001b[39m \u001b[38;5;28mself\u001b[39m\u001b[38;5;241m.\u001b[39m_save_filter()\n\u001b[1;32m    195\u001b[0m \u001b[38;5;28mself\u001b[39m\u001b[38;5;241m.\u001b[39msaveNumpyFile(\u001b[38;5;28mself\u001b[39m\u001b[38;5;241m.\u001b[39mcp_path, filtered_self)\n\u001b[0;32m--> 196\u001b[0m \u001b[38;5;28;43mself\u001b[39;49m\u001b[38;5;241;43m.\u001b[39;49m\u001b[43msave_sub_pickle_paths\u001b[49m\u001b[43m(\u001b[49m\u001b[43mfiltered_self\u001b[49m\u001b[43m)\u001b[49m\n\u001b[1;32m    197\u001b[0m \u001b[38;5;28mself\u001b[39m\u001b[38;5;241m.\u001b[39mlogger\u001b[38;5;241m.\u001b[39minfo(\u001b[38;5;124m'\u001b[39m\u001b[38;5;124mCHECKPOINT SAVED\u001b[39m\u001b[38;5;124m'\u001b[39m)\n",
      "File \u001b[0;32m/media/ydubief/M2CE-14TB-1/gitrepo/pymooCFD/pymooCFD/core/picklePath.py:128\u001b[0m, in \u001b[0;36mPicklePath.save_sub_pickle_paths\u001b[0;34m(self, obj)\u001b[0m\n\u001b[1;32m    120\u001b[0m             \u001b[38;5;28mself\u001b[39m\u001b[38;5;241m.\u001b[39msaveIfPP(item)\n\u001b[1;32m    121\u001b[0m         \u001b[38;5;66;03m# self.logger.warning('Unknown Iterable Object')\u001b[39;00m\n\u001b[1;32m    122\u001b[0m         \u001b[38;5;66;03m# self.logger.warning(f'ITEMS INSIDE ITERABLE ATTRIBUTE NOT SAVED - {attr_key} : {attr_val}')\u001b[39;00m\n\u001b[1;32m    123\u001b[0m         \u001b[38;5;66;03m# if __class__ in item.__class__.mro():  # type(attr_val).mro(): #\u001b[39;00m\n\u001b[0;32m   (...)\u001b[0m\n\u001b[1;32m    126\u001b[0m         \u001b[38;5;66;03m#     item.update_self()\u001b[39;00m\n\u001b[1;32m    127\u001b[0m \u001b[38;5;66;03m# type(attr_val).mro(): #\u001b[39;00m\n\u001b[0;32m--> 128\u001b[0m \u001b[38;5;28;43mself\u001b[39;49m\u001b[38;5;241;43m.\u001b[39;49m\u001b[43msaveIfPP\u001b[49m\u001b[43m(\u001b[49m\u001b[43mattr_val\u001b[49m\u001b[43m)\u001b[49m\n",
      "File \u001b[0;32m/media/ydubief/M2CE-14TB-1/gitrepo/pymooCFD/pymooCFD/core/picklePath.py:150\u001b[0m, in \u001b[0;36mPicklePath.saveIfPP\u001b[0;34m(self, inst)\u001b[0m\n\u001b[1;32m    142\u001b[0m \u001b[38;5;28;01mdef\u001b[39;00m \u001b[38;5;21msaveIfPP\u001b[39m(\u001b[38;5;28mself\u001b[39m, inst):\n\u001b[1;32m    143\u001b[0m     \u001b[38;5;66;03m# try:\u001b[39;00m\n\u001b[1;32m    144\u001b[0m     \u001b[38;5;66;03m#     inst.__class__.mro()\u001b[39;00m\n\u001b[1;32m    145\u001b[0m     \u001b[38;5;66;03m# except TypeError as err:\u001b[39;00m\n\u001b[1;32m    146\u001b[0m     \u001b[38;5;66;03m#     self.logger.error(err)\u001b[39;00m\n\u001b[1;32m    147\u001b[0m     \u001b[38;5;66;03m#     return\u001b[39;00m\n\u001b[1;32m    148\u001b[0m     \u001b[38;5;28;01mif\u001b[39;00m \u001b[38;5;28mself\u001b[39m\u001b[38;5;241m.\u001b[39mis_pickle_path(inst):\n\u001b[1;32m    149\u001b[0m         \u001b[38;5;28mself\u001b[39m\u001b[38;5;241m.\u001b[39mlogger\u001b[38;5;241m.\u001b[39minfo(\n\u001b[0;32m--> 150\u001b[0m             \u001b[38;5;124mf\u001b[39m\u001b[38;5;124m'\u001b[39m\u001b[38;5;124mSAVING: \u001b[39m\u001b[38;5;132;01m{\u001b[39;00minst\u001b[38;5;132;01m}\u001b[39;00m\u001b[38;5;124m TO \u001b[39m\u001b[38;5;132;01m{\u001b[39;00mos\u001b[38;5;241m.\u001b[39mpath\u001b[38;5;241m.\u001b[39mrelpath(inst\u001b[38;5;241m.\u001b[39mcp_path)\u001b[38;5;132;01m}\u001b[39;00m\u001b[38;5;124m'\u001b[39m)\n\u001b[1;32m    151\u001b[0m         inst\u001b[38;5;241m.\u001b[39msave_self()\n",
      "File \u001b[0;32m/media/ydubief/M2CE-14TB-1/gitrepo/pymooCFD/pymooCFD/core/picklePath.py:321\u001b[0m, in \u001b[0;36mPicklePath.cp_path\u001b[0;34m(self)\u001b[0m\n\u001b[1;32m    319\u001b[0m \u001b[38;5;129m@property\u001b[39m\n\u001b[1;32m    320\u001b[0m \u001b[38;5;28;01mdef\u001b[39;00m \u001b[38;5;21mcp_path\u001b[39m(\u001b[38;5;28mself\u001b[39m):\n\u001b[0;32m--> 321\u001b[0m     \u001b[38;5;28;01mreturn\u001b[39;00m os\u001b[38;5;241m.\u001b[39mpath\u001b[38;5;241m.\u001b[39mjoin(\u001b[38;5;28;43mself\u001b[39;49m\u001b[38;5;241;43m.\u001b[39;49m\u001b[43mabs_path\u001b[49m, \u001b[38;5;28mself\u001b[39m\u001b[38;5;241m.\u001b[39m\u001b[38;5;18m__class__\u001b[39m\u001b[38;5;241m.\u001b[39m\u001b[38;5;18m__name__\u001b[39m \u001b[38;5;241m+\u001b[39m\n\u001b[1;32m    322\u001b[0m                         \u001b[38;5;124m'\u001b[39m\u001b[38;5;124m.checkpoint.npy\u001b[39m\u001b[38;5;124m'\u001b[39m)\n",
      "\u001b[0;31mAttributeError\u001b[0m: 'MeshStudy' object has no attribute 'abs_path'"
     ]
    },
    {
     "data": {
      "image/png": "[encoded data removed]",
      "text/plain": [
       "<Figure size 576x432 with 1 Axes>"
      ]
     },
     "metadata": {
      "needs_background": "light"
     },
     "output_type": "display_data"
    }
   ],
   "source": [
    "ms_plots = opt_run.test_case.mesh_study.plot()"
   ]
  },
  {
   "cell_type": "code",
   "execution_count": null,
   "id": "e2dd69da",
   "metadata": {},
   "outputs": [],
   "source": [
    "font = {'family' : 'serif',\n",
    "        #'color'  : 'black',\n",
    "        'weight' : 'normal',\n",
    "        'size'   : 10,\n",
    "        }\n",
    "fontlabel = {'family' : 'serif',\n",
    "        #'color'  : 'black',\n",
    "        'weight' : 'normal',\n",
    "        'size'   : 10,\n",
    "        }\n",
    "plt.rc('font', family='serif')\n",
    "plt.rc('text', usetex=True)\n",
    "plt.rcParams['axes.linewidth']=1\n",
    "ftsize = 10"
   ]
  },
  {
   "cell_type": "code",
   "execution_count": null,
   "id": "a7e6c198",
   "metadata": {},
   "outputs": [],
   "source": [
    "# plt.rcParams['font.size'] = '30'"
   ]
  },
  {
   "cell_type": "code",
   "execution_count": null,
   "id": "a7198974",
   "metadata": {},
   "outputs": [],
   "source": [
    "ms_plots"
   ]
  },
  {
   "cell_type": "code",
   "execution_count": null,
   "id": "d0a1ba5c",
   "metadata": {},
   "outputs": [],
   "source": [
    "for plot in ms_plots:\n",
    "    pprint(plot.__dict__)\n",
    "    print()"
   ]
  },
  {
   "cell_type": "code",
   "execution_count": null,
   "id": "1a6106be",
   "metadata": {},
   "outputs": [],
   "source": [
    "%matplotlib inline"
   ]
  },
  {
   "cell_type": "code",
   "execution_count": null,
   "id": "30155964",
   "metadata": {
    "scrolled": true
   },
   "outputs": [],
   "source": [
    "pprint(ms_plots[1].__dict__)"
   ]
  },
  {
   "cell_type": "code",
   "execution_count": 31,
   "id": "99dd9c5d",
   "metadata": {
    "scrolled": true
   },
   "outputs": [
    {
     "ename": "NameError",
     "evalue": "name 'ms_plots' is not defined",
     "output_type": "error",
     "traceback": [
      "\u001b[0;31m---------------------------------------------------------------------------\u001b[0m",
      "\u001b[0;31mNameError\u001b[0m                                 Traceback (most recent call last)",
      "Input \u001b[0;32mIn [31]\u001b[0m, in \u001b[0;36m<cell line: 1>\u001b[0;34m()\u001b[0m\n\u001b[0;32m----> 1\u001b[0m \u001b[43mms_plots\u001b[49m[\u001b[38;5;241m1\u001b[39m]\u001b[38;5;241m.\u001b[39mdo()\n",
      "\u001b[0;31mNameError\u001b[0m: name 'ms_plots' is not defined"
     ]
    }
   ],
   "source": [
    "ms_plots[1].do()"
   ]
  },
  {
   "cell_type": "code",
   "execution_count": null,
   "id": "9ea174b6",
   "metadata": {},
   "outputs": [],
   "source": [
    "# !pip install latex"
   ]
  },
  {
   "cell_type": "code",
   "execution_count": null,
   "id": "dec2cd97",
   "metadata": {},
   "outputs": [],
   "source": [
    "ms_plots[1].show()"
   ]
  },
  {
   "cell_type": "markdown",
   "id": "16b6e071",
   "metadata": {},
   "source": [
    "##### Update Test Case"
   ]
  },
  {
   "cell_type": "code",
   "execution_count": null,
   "id": "c24943b1",
   "metadata": {},
   "outputs": [],
   "source": [
    "# opt_run.appendMeshSFs(opt_run.test_case, [1.2])"
   ]
  },
  {
   "cell_type": "code",
   "execution_count": null,
   "id": "55ac98d9",
   "metadata": {},
   "outputs": [],
   "source": [
    "# newMeshSFs = np.round(np.arange(0.3, 1.5, 0.1))\n",
    "# opt_run.saveCP()\n",
    "# opt_run.test_case.meshSFs"
   ]
  },
  {
   "cell_type": "markdown",
   "id": "c88ab374",
   "metadata": {},
   "source": [
    "### Boundary Cases"
   ]
  },
  {
   "cell_type": "code",
   "execution_count": null,
   "id": "78fa2525",
   "metadata": {},
   "outputs": [],
   "source": [
    "print(opt_run.bnd_cases)"
   ]
  },
  {
   "cell_type": "code",
   "execution_count": null,
   "id": "5e675450",
   "metadata": {},
   "outputs": [],
   "source": [
    "if opt_run.bnd_cases is not None:\n",
    "    for case in opt_run.bnd_cases:\n",
    "        print(case)"
   ]
  },
  {
   "cell_type": "code",
   "execution_count": null,
   "id": "155064f9",
   "metadata": {},
   "outputs": [],
   "source": [
    "if opt_run.bnd_cases is not None:\n",
    "    bnd_vars = np.array([case.x for case in opt_run.bnd_cases])\n",
    "    print(bnd_vars)"
   ]
  },
  {
   "cell_type": "code",
   "execution_count": null,
   "id": "63134ef7",
   "metadata": {},
   "outputs": [],
   "source": [
    "if opt_run.bnd_cases is not None:\n",
    "    var_plot = opt_run.plotBndPts()"
   ]
  },
  {
   "cell_type": "code",
   "execution_count": null,
   "id": "ad64f917",
   "metadata": {},
   "outputs": [],
   "source": [
    "if opt_run.bnd_cases is not None:\n",
    "    bnd_objs = np.array([case.f for case in opt_run.bnd_cases])\n",
    "    print(bnd_objs)"
   ]
  },
  {
   "cell_type": "code",
   "execution_count": null,
   "id": "5c99c530",
   "metadata": {},
   "outputs": [],
   "source": [
    "if None not in bnd_objs:\n",
    "    obj_plot = opt_run.plotBndPtsObj()"
   ]
  },
  {
   "cell_type": "code",
   "execution_count": null,
   "id": "ed7c74bc",
   "metadata": {},
   "outputs": [],
   "source": [
    "if None not in bnd_objs:\n",
    "    # Non-dominated Sorting of Boundary Cases\n",
    "    n_survive = 1\n",
    "    F = np.array([case.f for case in opt_run.bnd_cases])\n",
    "    X = np.array([case.x for case in opt_run.bnd_cases])\n",
    "    from pymoo.util.nds.non_dominated_sorting import NonDominatedSorting\n",
    "    nds = NonDominatedSorting()\n",
    "    # do the non-dominated sorting until splitting front\n",
    "    fronts = nds.do(F, n_stop_if_ranked=n_survive)\n",
    "    front = fronts[0]\n",
    "    nonDom_CCobj = F[front, :][0]\n",
    "    nonDom_CCvar = X[front, :][0]\n",
    "    print('Non-dominated: Boundary Cases')\n",
    "    print('Parameters-', nonDom_CCvar)\n",
    "    print('Objectives-', nonDom_CCobj)"
   ]
  },
  {
   "cell_type": "markdown",
   "id": "fcc42e25",
   "metadata": {},
   "source": [
    "### Mesh Studies"
   ]
  },
  {
   "cell_type": "code",
   "execution_count": null,
   "id": "eac1224c",
   "metadata": {},
   "outputs": [],
   "source": [
    "pprint(opt_run.test_case.mesh_study.__dict__)"
   ]
  },
  {
   "cell_type": "code",
   "execution_count": null,
   "id": "fb399cd5",
   "metadata": {},
   "outputs": [],
   "source": [
    "print(opt_run.test_case.mesh_study.cases)"
   ]
  },
  {
   "cell_type": "code",
   "execution_count": null,
   "id": "6836969f",
   "metadata": {
    "scrolled": true
   },
   "outputs": [],
   "source": [
    "for case in opt_run.bnd_cases:\n",
    "    plots = case.mesh_study.plot()\n",
    "    plots[1].show()\n",
    "    plots[4].show()\n",
    "#     for plot in plots:\n",
    "#         plot.show()"
   ]
  },
  {
   "cell_type": "markdown",
   "id": "cf8dd2b1",
   "metadata": {},
   "source": [
    "### Generation 1"
   ]
  },
  {
   "cell_type": "code",
   "execution_count": null,
   "id": "f5817fe1",
   "metadata": {},
   "outputs": [],
   "source": [
    "print(len(opt_run.algorithm.history[0].pop))"
   ]
  },
  {
   "cell_type": "code",
   "execution_count": null,
   "id": "98b7ecb8",
   "metadata": {
    "scrolled": true
   },
   "outputs": [],
   "source": [
    "var_plot, obj_plot = opt_run.plotGen(1)"
   ]
  },
  {
   "cell_type": "markdown",
   "id": "c4ee1fe6",
   "metadata": {},
   "source": [
    "### Generation 1: Mapping Parameters to Objectives\n",
    "Remember that for each plot the parameters(s) not labeled are also varying. \n",
    "\n",
    "Therefore, if a strong relationship is seen in these plots then it is likely a relationship independent of the other variable.\n"
   ]
  },
  {
   "cell_type": "code",
   "execution_count": null,
   "id": "7d565257",
   "metadata": {
    "scrolled": true
   },
   "outputs": [],
   "source": [
    "plots, map_paths = opt_run.map_gen1()"
   ]
  },
  {
   "cell_type": "code",
   "execution_count": null,
   "id": "c5df6d53",
   "metadata": {
    "scrolled": true
   },
   "outputs": [],
   "source": [
    "# from IPython.display import Image, display\n",
    "# map_paths = [os.path.join(opt_run.mapDir, ent) for ent in os.listdir(opt_run.mapDir) if ent.endswith('.png')]\n",
    "# for path in map_paths:\n",
    "#     display(Image(filename=path))"
   ]
  },
  {
   "cell_type": "markdown",
   "id": "f63649ab",
   "metadata": {},
   "source": [
    "# Post-Process Optimization Study"
   ]
  },
  {
   "cell_type": "markdown",
   "id": "177fae7f",
   "metadata": {},
   "source": [
    "### Optimization Algorithm Convergence"
   ]
  },
  {
   "cell_type": "code",
   "execution_count": null,
   "id": "27dd7d30",
   "metadata": {
    "scrolled": true
   },
   "outputs": [],
   "source": [
    "plots = opt_run.plotConv()"
   ]
  },
  {
   "cell_type": "markdown",
   "id": "340edfd8",
   "metadata": {},
   "source": [
    "### Performance Indicator - Hypervolume\n",
    "https://pymoo.org/misc/performance_indicator.html#Hypervolume\n",
    "\n",
    "Maximize hypervolume from reference point. "
   ]
  },
  {
   "cell_type": "code",
   "execution_count": null,
   "id": "47e0abc0",
   "metadata": {},
   "outputs": [],
   "source": [
    "for plot in plots[-2:]:\n",
    "    plot.show()"
   ]
  },
  {
   "cell_type": "code",
   "execution_count": null,
   "id": "d22dcc90",
   "metadata": {},
   "outputs": [],
   "source": [
    "all_obj = [alg.pop.get('F') for alg in opt_run.algorithm.history]"
   ]
  },
  {
   "cell_type": "code",
   "execution_count": null,
   "id": "d893cc3c",
   "metadata": {},
   "outputs": [],
   "source": [
    "mean_all_obj = []\n",
    "for obj_i in range(opt_run.problem.BaseCase.n_obj):\n",
    "    mean_all_obj.append(np.mean([np.mean(obj_g[:,obj_i]) for obj_g in all_obj]))\n",
    "print(mean_all_obj)"
   ]
  },
  {
   "cell_type": "code",
   "execution_count": null,
   "id": "b40fae2d",
   "metadata": {},
   "outputs": [],
   "source": [
    "mean_g1_obj = []\n",
    "popF = opt_run.algorithm.history[-1].pop.get('F')\n",
    "for obj_i in range(opt_run.problem.BaseCase.n_obj):\n",
    "    mean_g1_obj.append(np.mean(popF[:,obj_i]))\n",
    "print(mean_g1_obj)"
   ]
  },
  {
   "cell_type": "code",
   "execution_count": null,
   "id": "96c740ae",
   "metadata": {},
   "outputs": [],
   "source": [
    "from pymoo.factory import get_performance_indicator\n",
    "ref_pt = [np.mean(F_col) for F_col in opt_run.algorithm.history[0].pop.get('F').T]\n",
    "hv = get_performance_indicator(\"hv\", ref_point=np.array(ref_pt))\n",
    "print(ref_pt)"
   ]
  },
  {
   "cell_type": "markdown",
   "id": "cd3ecac8",
   "metadata": {},
   "source": [
    "### Latest Generation "
   ]
  },
  {
   "cell_type": "code",
   "execution_count": null,
   "id": "2870981f",
   "metadata": {},
   "outputs": [],
   "source": [
    "max_disp_len = 10\n",
    "if len(opt_run.algorithm.pop.get('X')) < max_disp_len:\n",
    "    print('FINAL POPULATION')\n",
    "    print('Parameters')\n",
    "    print(opt_run.algorithm.pop.get('X'))\n",
    "    print('Objectives')\n",
    "    print(opt_run.algorithm.pop.get('F'))"
   ]
  },
  {
   "cell_type": "code",
   "execution_count": null,
   "id": "fc67ed85",
   "metadata": {},
   "outputs": [],
   "source": [
    "latest_pop = opt_run.algorithm.history[-1].pop\n",
    "latest_popX = latest_pop.get('X')\n",
    "latest_popF = latest_pop.get('F')"
   ]
  },
  {
   "cell_type": "code",
   "execution_count": null,
   "id": "77d33189",
   "metadata": {},
   "outputs": [],
   "source": [
    "plot = opt_run.plotGen()"
   ]
  },
  {
   "cell_type": "markdown",
   "id": "c653b291",
   "metadata": {},
   "source": [
    "### Optimum"
   ]
  },
  {
   "cell_type": "code",
   "execution_count": null,
   "id": "7386d8fb",
   "metadata": {},
   "outputs": [],
   "source": [
    "assert opt_run.algorithm.opt is not None\n",
    "print('Number of Optimum:', len(opt_run.algorithm.opt))"
   ]
  },
  {
   "cell_type": "code",
   "execution_count": null,
   "id": "760f8ca3",
   "metadata": {},
   "outputs": [],
   "source": [
    "opt_run.plotOpt()"
   ]
  },
  {
   "cell_type": "code",
   "execution_count": null,
   "id": "6f8c4c47",
   "metadata": {},
   "outputs": [],
   "source": [
    "%matplotlib inline"
   ]
  },
  {
   "cell_type": "code",
   "execution_count": null,
   "id": "48d98397",
   "metadata": {},
   "outputs": [],
   "source": [
    "plots = opt_run.plotAllOpt()\n",
    "plots"
   ]
  },
  {
   "cell_type": "code",
   "execution_count": null,
   "id": "57df1381",
   "metadata": {},
   "outputs": [],
   "source": [
    "# plots[0].color = None #'red'\n",
    "plots[0].add(np.array([0.02, 0.2]), s=200, label='Intuitive Solution') #, color='red')\n",
    "plots[0].do()\n",
    "# plots[0]\n",
    "plots[0].save('RANS_equiv-var_space.png', dpi=250)"
   ]
  },
  {
   "cell_type": "code",
   "execution_count": null,
   "id": "d0a5a7bd",
   "metadata": {},
   "outputs": [],
   "source": [
    "obj = np.array([7.597759353093418155e-03, 1.223083295389841953e-03])"
   ]
  },
  {
   "cell_type": "code",
   "execution_count": null,
   "id": "8e2ada04",
   "metadata": {},
   "outputs": [],
   "source": [
    "plots[1].add(obj, s=200) #, color='red')\n",
    "# %matplotlib inline\n",
    "# plots[0].show()\n",
    "plots[1].do()\n",
    "plots[1].save('RANS_equiv-obj_space.png', dpi=250)\n",
    "plots[1]"
   ]
  },
  {
   "cell_type": "code",
   "execution_count": null,
   "id": "028ca581",
   "metadata": {},
   "outputs": [],
   "source": [
    "plots"
   ]
  },
  {
   "cell_type": "code",
   "execution_count": null,
   "id": "1e43bd3a",
   "metadata": {},
   "outputs": [],
   "source": [
    "study.run_case('RANS_equiv-BCs', [0.02, 0.2])"
   ]
  },
  {
   "cell_type": "markdown",
   "id": "db6ce150",
   "metadata": {},
   "source": [
    "### Print Every Generation"
   ]
  },
  {
   "cell_type": "code",
   "execution_count": null,
   "id": "d53f6865",
   "metadata": {},
   "outputs": [],
   "source": [
    "if opt_run.algorithm.n_gen < 10 and len(opt_run.algorithm.pop.get('X')) < 10:\n",
    "    print('EVERY GENERATION')\n",
    "    for gen in range(opt_run.algorithm.n_gen):\n",
    "        print(f'generation {gen}')\n",
    "        var_g = opt_run.algorithm.history[gen].pop.get('X')\n",
    "        obj_g = opt_run.algorithm.history[gen].pop.get('F')\n",
    "        for ind in range(len(var_g)):\n",
    "            var_i = var_g[ind]\n",
    "            obj_i = obj_g[ind]\n",
    "            print(f'ind{ind}: ', end='')\n",
    "            for n in range(len(var_i)):\n",
    "                print(f'{opt_run.problem.BaseCase.var_labels[n]}: {var_i[n]}', end=' ')\n",
    "            print(' // ', end='')\n",
    "            for n in range(len(obj_i)):\n",
    "                print(opt_run.problem.BaseCase.obj_labels[n] + ':' + '%.3f' % obj_i[n], end=' ')\n",
    "            print()"
   ]
  },
  {
   "cell_type": "markdown",
   "id": "8324967c",
   "metadata": {},
   "source": [
    "## Plots Generations"
   ]
  },
  {
   "cell_type": "markdown",
   "id": "6a653f24",
   "metadata": {},
   "source": [
    "### Plot Every Generation"
   ]
  },
  {
   "cell_type": "code",
   "execution_count": null,
   "id": "e6b491b6",
   "metadata": {},
   "outputs": [],
   "source": [
    "var_plot, obj_plot = opt_run.plotGens()"
   ]
  },
  {
   "cell_type": "markdown",
   "id": "a071d393",
   "metadata": {},
   "source": [
    "### Plot Last 10 Generation"
   ]
  },
  {
   "cell_type": "code",
   "execution_count": null,
   "id": "56710864",
   "metadata": {},
   "outputs": [],
   "source": [
    "gen_i_final = len(opt_run.algorithm.history)\n",
    "if gen_i_final > 10:\n",
    "    gen_i_init = gen_i_final - 10\n",
    "else:\n",
    "    gen_i_init = 1\n",
    "final10_var_plot, final10_obj_plot = opt_run.plotGens(range(gen_i_init, gen_i_final+1))"
   ]
  },
  {
   "cell_type": "markdown",
   "id": "3cd85303",
   "metadata": {},
   "source": [
    "### Plot First 3 Generations"
   ]
  },
  {
   "cell_type": "code",
   "execution_count": null,
   "id": "e6da8c7b",
   "metadata": {},
   "outputs": [],
   "source": [
    "first3_gens_var_plot, first3_gens_obj_plot = opt_run.plotGens(range(1, 4))"
   ]
  },
  {
   "cell_type": "markdown",
   "id": "32fad2e0",
   "metadata": {},
   "source": [
    "### Plot Generations "
   ]
  },
  {
   "cell_type": "code",
   "execution_count": null,
   "id": "358322ac",
   "metadata": {
    "scrolled": false
   },
   "outputs": [],
   "source": [
    "gens_per_plot = 10\n",
    "gen_final = len(opt_run.algorithm.history)\n",
    "plots = []\n",
    "print(gen_final)\n",
    "for gen in range(1, gen_final + 1):\n",
    "    if gen % gens_per_plot == 0:\n",
    "        print(gen-1 % gens_per_plot)\n",
    "        print(gen)\n",
    "        gens = range(gen, gen+gens_per_plot)\n",
    "        plots.append(opt_run.plotGens(gens))\n",
    "plots"
   ]
  },
  {
   "cell_type": "markdown",
   "id": "5394d6e8",
   "metadata": {},
   "source": [
    "### Custom Generation Plots to Capture Convergence"
   ]
  },
  {
   "cell_type": "code",
   "execution_count": null,
   "id": "afa7c465",
   "metadata": {},
   "outputs": [],
   "source": [
    "gens = range(3, 5+1)\n",
    "gens_var_plot, gens_obj_plot = opt_run.plotGens(gens)"
   ]
  },
  {
   "cell_type": "code",
   "execution_count": null,
   "id": "39ea6336",
   "metadata": {},
   "outputs": [],
   "source": [
    "gens = range(5, 7+1)\n",
    "gens_var_plot, gens_obj_plot = opt_run.plotGens(gens)"
   ]
  },
  {
   "cell_type": "markdown",
   "id": "debb122b",
   "metadata": {},
   "source": [
    "### Extract Data "
   ]
  },
  {
   "cell_type": "code",
   "execution_count": null,
   "id": "2328b12b",
   "metadata": {},
   "outputs": [],
   "source": [
    "checkpoint = opt_run.algorithm"
   ]
  },
  {
   "cell_type": "code",
   "execution_count": null,
   "id": "e2fddb8e",
   "metadata": {},
   "outputs": [],
   "source": [
    "# is the full history of the algorithm saved? \n",
    "print('Checkpoint Objective Population:\\n', checkpoint.pop.get('F')[:5])\n",
    "if np.all(checkpoint.pop.get('F')) is not None: \n",
    "    algorithm = checkpoint\n",
    "    print('Checkpoint @ end of generation')\n",
    "    print(f'     Generation - {algorithm.n_gen}, {algorithm.callback.gen}')\n",
    "else:\n",
    "    print('Checkpoint mid-generation')\n",
    "    print('     \"algorithm\" variable represents last completed generation')\n",
    "    print('     \"algorithm.callback\" unusable with history objects')\n",
    "    algorithm = checkpoint.history[-1]\n",
    "    print(f'     Generation - {algorithm.n_gen}, {algorithm.callback.gen}')"
   ]
  },
  {
   "cell_type": "markdown",
   "id": "399e81e0",
   "metadata": {},
   "source": [
    "# Preperation for Continuation"
   ]
  },
  {
   "cell_type": "code",
   "execution_count": null,
   "id": "d5e05f67",
   "metadata": {},
   "outputs": [],
   "source": [
    "pprint(opt_run.algorithm.termination.__dict__)\n",
    "opt_run.algorithm.termination"
   ]
  },
  {
   "cell_type": "code",
   "execution_count": null,
   "id": "3bfad04f",
   "metadata": {},
   "outputs": [],
   "source": [
    "from pymoo.factory import get_termination\n",
    "term = get_termination('n_gen', 30)\n",
    "print(term)"
   ]
  },
  {
   "cell_type": "code",
   "execution_count": null,
   "id": "20d14aa3",
   "metadata": {},
   "outputs": [],
   "source": [
    "# opt_run.algorithm.termination = term\n",
    "# opt_run.save_self()"
   ]
  },
  {
   "cell_type": "code",
   "execution_count": null,
   "id": "42c61ed3",
   "metadata": {},
   "outputs": [],
   "source": [
    "opt_run.algorithm.n_offsprings"
   ]
  },
  {
   "cell_type": "code",
   "execution_count": null,
   "id": "4b405c54",
   "metadata": {},
   "outputs": [],
   "source": [
    "opt_run.algorithm.n_gen"
   ]
  },
  {
   "cell_type": "code",
   "execution_count": null,
   "id": "8a7d1438",
   "metadata": {},
   "outputs": [],
   "source": [
    "opt_run.algorithm.pop_size"
   ]
  },
  {
   "cell_type": "code",
   "execution_count": null,
   "id": "b218a864",
   "metadata": {},
   "outputs": [],
   "source": []
  }
 ],
 "metadata": {
  "kernelspec": {
   "display_name": "Python 3 (ipykernel)",
   "language": "python",
   "name": "python3"
  },
  "language_info": {
   "codemirror_mode": {
    "name": "ipython",
    "version": 3
   },
   "file_extension": ".py",
   "mimetype": "text/x-python",
   "name": "python",
   "nbconvert_exporter": "python",
   "pygments_lexer": "ipython3",
   "version": "3.8.10"
  }
 },
 "nbformat": 4,
 "nbformat_minor": 5
}
