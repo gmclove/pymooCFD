{
 "cells": [
  {
   "cell_type": "markdown",
   "id": "974008b1",
   "metadata": {},
   "source": [
    "### Imports"
   ]
  },
  {
   "cell_type": "code",
   "execution_count": 1,
   "id": "40b6bf4c",
   "metadata": {},
   "outputs": [],
   "source": [
    "import os\n",
    "import numpy as np\n",
    "import matplotlib.pyplot as plt\n",
    "from pprint import pprint"
   ]
  },
  {
   "cell_type": "code",
   "execution_count": 2,
   "id": "91caf71a",
   "metadata": {},
   "outputs": [],
   "source": [
    "import matplotlib\n",
    "%matplotlib inline\n",
    "plt.set_loglevel(\"info\")"
   ]
  },
  {
   "cell_type": "code",
   "execution_count": 3,
   "id": "7a385221",
   "metadata": {},
   "outputs": [],
   "source": [
    "# %matplotlib qt\n",
    "# %matplotlib gtk3\n",
    "# %matplotlib gtk4\n",
    "# %matplotlib ipympl\n",
    "# %matplotlib osx\n",
    "# %matplotlib tk\n",
    "# %matplotlib notebook\n",
    "# %matplotlib wx\n",
    "# matplotlib.use('webagg')"
   ]
  },
  {
   "cell_type": "code",
   "execution_count": 4,
   "id": "9cbe6408",
   "metadata": {},
   "outputs": [],
   "source": [
    "from pymoo.visualization.scatter import Scatter"
   ]
  },
  {
   "cell_type": "markdown",
   "id": "011c9a7b",
   "metadata": {},
   "source": [
    "### Helper Function"
   ]
  },
  {
   "cell_type": "code",
   "execution_count": 5,
   "id": "52235918",
   "metadata": {},
   "outputs": [],
   "source": [
    "from IPython.display import Image, display\n",
    "import glob\n",
    "\n",
    "def showImages(listOfImageNames, **kwargs):\n",
    "    if isinstance(listOfImageNames, str):\n",
    "        listOfImageNames = [listOfImageNames]\n",
    "    listOfImageNames = [os.path.join(opt_run.abs_path, imageName) \n",
    "                            for imageName in listOfImageNames if opt_run.abs_path not in imageName]\n",
    "    listOfImageNames = [glob.glob(imageName) for imageName in listOfImageNames]\n",
    "    listOfImageNames = [item for sublist in listOfImageNames for item in sublist]\n",
    "    print('Showing Images')\n",
    "    print(listOfImageNames)\n",
    "    for imageName in listOfImageNames:\n",
    "        print('DISPLAYING:', imageName)\n",
    "        display(Image(filename=imageName), **kwargs)\n",
    "        "
   ]
  },
  {
   "cell_type": "markdown",
   "id": "79d643ec",
   "metadata": {},
   "source": [
    "# Select Study"
   ]
  },
  {
   "cell_type": "code",
   "execution_count": 6,
   "id": "3428ea3f",
   "metadata": {},
   "outputs": [],
   "source": [
    "from pymooCFD.core.minimizeCFD import MinimizeCFD\n",
    "# from pymooCFD.problems.rans_k_eps import RANS_k_eps as BaseCase\n",
    "# from pymooCFD.problems.oscill_cyl import OscillCylinder as BaseCase\n",
    "from pymooCFD.problems.oscill_cyl import OscillCylinder_SLURM as BaseCase\n",
    "# from pymooCFD.problems.oscill_cyl import OscillCylinder_Re500_SLURM as BaseCase\n",
    "# from pymooCFD.problems.rans_jet import RANSJet as BaseCase\n",
    "# from pymooCFD.problems.rans_jet import RANSJet_x3 as BaseCase\n",
    "# from pymooCFD.problems.air_purifier import Room2D_AP as BaseCase\n",
    "# from pymooCFD.problems.air_purifier import Room2D_2AP as BaseCase"
   ]
  },
  {
   "cell_type": "code",
   "execution_count": 7,
   "id": "2df2efaa",
   "metadata": {
    "scrolled": true
   },
   "outputs": [
    {
     "name": "stderr",
     "output_type": "stream",
     "text": [
      "07-28 17:27 :: INFO     :: optStudy-OscillCylinder_SLURM :: ~~~~~~~~~~~~~~~~~~~~~~~~~~\n",
      "07-28 17:27 :: INFO     :: optStudy-OscillCylinder_SLURM :: INITIALIZING - Pickle Path\n",
      "07-28 17:27 :: INFO     :: optStudy-OscillCylinder_SLURM :: \tCHECKPOINT LOADED: optStudy-OscillCylinder_SLURM/MinimizeCFD.checkpoint.npy\n",
      "07-28 17:27 :: DEBUG    :: optStudy-OscillCylinder_SLURM :: \tRESTART DICTONARY\n",
      "07-28 17:27 :: DEBUG    :: optStudy-OscillCylinder_SLURM :: \t\topt_runs: {}\n",
      "07-28 17:27 :: DEBUG    :: optStudy-OscillCylinder_SLURM :: \t\tcase_runs: {}\n",
      "07-28 17:27 :: DEBUG    :: optStudy-OscillCylinder_SLURM :: \t\tCFDCase: <class 'pymooCFD.problems.oscill_cyl.OscillCylinder_SLURM'>\n",
      "07-28 17:27 :: DEBUG    :: optStudy-OscillCylinder_SLURM :: \t\tCFDGeneticAlgorithm: <class 'pymooCFD.core.pymooBase.CFDGeneticAlgorithm'>\n",
      "07-28 17:27 :: DEBUG    :: optStudy-OscillCylinder_SLURM :: \t\tCFDGeneticProblem: <class 'pymooCFD.core.pymooBase.CFDGeneticProblem'>\n",
      "07-28 17:27 :: DEBUG    :: optStudy-OscillCylinder_SLURM :: \t\tabs_path: /media/ydubief/M2CE-14TB-1/gitrepo/pymooCFD/optStudy-OscillCylinder_SLURM\n",
      "07-28 17:27 :: DEBUG    :: optStudy-OscillCylinder_SLURM :: \t\tlog_level: 10\n",
      "07-28 17:27 :: DEBUG    :: optStudy-OscillCylinder_SLURM :: \t\tlogger: <Logger optStudy-OscillCylinder_SLURM (DEBUG)>\n",
      "07-28 17:27 :: DEBUG    :: optStudy-OscillCylinder_SLURM :: \t\tcp_init: False\n",
      "07-28 17:27 :: DEBUG    :: optStudy-OscillCylinder_SLURM :: \tCHECKPOINT DICTONARY\n",
      "07-28 17:27 :: DEBUG    :: optStudy-OscillCylinder_SLURM :: \t\topt_runs: {'default_run': <pymooCFD.core.optRun.OptRun object at 0x7f61f7730eb0>}\n",
      "07-28 17:27 :: DEBUG    :: optStudy-OscillCylinder_SLURM :: \t\tcase_runs: {'2.0_0.4': <pymooCFD.problems.oscill_cyl.OscillCylinder_SLURM object at 0x7f60e886fd00>}\n",
      "07-28 17:27 :: DEBUG    :: optStudy-OscillCylinder_SLURM :: \t\tCFDCase: <class 'pymooCFD.problems.oscill_cyl.OscillCylinder_SLURM'>\n",
      "07-28 17:27 :: DEBUG    :: optStudy-OscillCylinder_SLURM :: \t\tCFDGeneticAlgorithm: <class 'pymooCFD.core.pymooBase.CFDGeneticAlgorithm'>\n",
      "07-28 17:27 :: DEBUG    :: optStudy-OscillCylinder_SLURM :: \t\tCFDGeneticProblem: <class 'pymooCFD.core.pymooBase.CFDGeneticProblem'>\n",
      "07-28 17:27 :: DEBUG    :: optStudy-OscillCylinder_SLURM :: \t\tabs_path: /gpfs1/home/g/l/glove1/gitrepo/pymooCFD/optStudy-OscillCylinder_SLURM\n",
      "07-28 17:27 :: DEBUG    :: optStudy-OscillCylinder_SLURM :: \t\tlog_level: 10\n",
      "07-28 17:27 :: DEBUG    :: optStudy-OscillCylinder_SLURM :: \t\tlogger: <Logger optStudy-OscillCylinder_SLURM (DEBUG)>\n",
      "07-28 17:27 :: DEBUG    :: optStudy-OscillCylinder_SLURM :: \t\tcp_init: True\n",
      "\u001b[93m07-28 17:27 :: WARNING  :: optStudy-OscillCylinder_SLURM :: {   'dictionary_item_added': [root.opt_runs['default_run'], root.case_runs['2.0_0.4']],\n",
      "07-28 17:27 :: WARNING  :: optStudy-OscillCylinder_SLURM ::     'values_changed': {   'root.abs_path': {   'new_value': '/gpfs1/home/g/l/glove1/gitrepo/pymooCFD/optStudy-OscillCylinder_SLURM',\n",
      "07-28 17:27 :: WARNING  :: optStudy-OscillCylinder_SLURM ::                                                'old_value': '/media/ydubief/M2CE-14TB-1/gitrepo/pymooCFD/optStudy-OscillCylinder_SLURM'},\n",
      "07-28 17:27 :: WARNING  :: optStudy-OscillCylinder_SLURM ::                           'root.cp_init': {   'new_value': True,\n",
      "07-28 17:27 :: WARNING  :: optStudy-OscillCylinder_SLURM ::                                               'old_value': False}}}\u001b[0m\n",
      "07-28 17:27 :: INFO     :: optStudy-OscillCylinder_SLURM :: LOADING: <pymooCFD.core.optRun.OptRun object at 0x7f61f7730eb0> FROM /gpfs1/home/g/l/glove1/gitrepo/pymooCFD/optStudy-OscillCylinder_SLURM/default_run/OptRun.checkpoint.npy\n",
      "\u001b[91m07-28 17:27 :: ERROR    :: optStudy-OscillCylinder_SLURM.default_run :: CHECKPOINT NOT FOUND: /gpfs1/home/g/l/glove1/gitrepo/pymooCFD/optStudy-OscillCylinder_SLURM/default_run/OptRun.checkpoint.npy\u001b[0m\n",
      "\u001b[91m07-28 17:27 :: ERROR    :: optStudy-OscillCylinder_SLURM.default_run :: FAILED UPDATE SELF: LOADED CHECKPOINT is None\u001b[0m\n",
      "07-28 17:27 :: INFO     :: optStudy-OscillCylinder_SLURM :: LOADING: Directory: ../../../../../gpfs1/home/g/l/glove1/gitrepo/pymooCFD/optStudy-OscillCylinder_SLURM/2.0_0.4 | Parameters: [2.0, 0.4] | Objectives: [-1.83871884  0.07646289] FROM /gpfs1/home/g/l/glove1/gitrepo/pymooCFD/optStudy-OscillCylinder_SLURM/2.0_0.4/OscillCylinder_SLURM.checkpoint.npy\n",
      "\u001b[91m07-28 17:27 :: ERROR    :: optStudy-OscillCylinder_SLURM.2.0_0.4 :: CHECKPOINT NOT FOUND: /gpfs1/home/g/l/glove1/gitrepo/pymooCFD/optStudy-OscillCylinder_SLURM/2.0_0.4/OscillCylinder_SLURM.checkpoint.npy\u001b[0m\n",
      "\u001b[91m07-28 17:27 :: ERROR    :: optStudy-OscillCylinder_SLURM.2.0_0.4 :: FAILED UPDATE SELF: LOADED CHECKPOINT is None\u001b[0m\n",
      "07-28 17:27 :: DEBUG    :: optStudy-OscillCylinder_SLURM :: \tUPDATED DICTONARY\n",
      "07-28 17:27 :: DEBUG    :: optStudy-OscillCylinder_SLURM :: \t\topt_runs: {'default_run': <pymooCFD.core.optRun.OptRun object at 0x7f61f7730eb0>}\n",
      "07-28 17:27 :: DEBUG    :: optStudy-OscillCylinder_SLURM :: \t\tcase_runs: {'2.0_0.4': <pymooCFD.problems.oscill_cyl.OscillCylinder_SLURM object at 0x7f60e886fd00>}\n",
      "07-28 17:27 :: DEBUG    :: optStudy-OscillCylinder_SLURM :: \t\tCFDCase: <class 'pymooCFD.problems.oscill_cyl.OscillCylinder_SLURM'>\n",
      "07-28 17:27 :: DEBUG    :: optStudy-OscillCylinder_SLURM :: \t\tCFDGeneticAlgorithm: <class 'pymooCFD.core.pymooBase.CFDGeneticAlgorithm'>\n",
      "07-28 17:27 :: DEBUG    :: optStudy-OscillCylinder_SLURM :: \t\tCFDGeneticProblem: <class 'pymooCFD.core.pymooBase.CFDGeneticProblem'>\n",
      "07-28 17:27 :: DEBUG    :: optStudy-OscillCylinder_SLURM :: \t\tabs_path: /gpfs1/home/g/l/glove1/gitrepo/pymooCFD/optStudy-OscillCylinder_SLURM\n",
      "07-28 17:27 :: DEBUG    :: optStudy-OscillCylinder_SLURM :: \t\tlog_level: 10\n",
      "07-28 17:27 :: DEBUG    :: optStudy-OscillCylinder_SLURM :: \t\tlogger: <Logger optStudy-OscillCylinder_SLURM (DEBUG)>\n",
      "07-28 17:27 :: DEBUG    :: optStudy-OscillCylinder_SLURM :: \t\tcp_init: True\n",
      "07-28 17:27 :: INFO     :: optStudy-OscillCylinder_SLURM :: RESTARTED FROM CHECKPOINT\n"
     ]
    }
   ],
   "source": [
    "study = MinimizeCFD(BaseCase)"
   ]
  },
  {
   "cell_type": "markdown",
   "id": "db4a0c28",
   "metadata": {},
   "source": [
    "## Preliminary Case Runs"
   ]
  },
  {
   "cell_type": "code",
   "execution_count": 8,
   "id": "3e1657b4",
   "metadata": {},
   "outputs": [
    {
     "data": {
      "text/plain": [
       "{'2.0_0.4': <pymooCFD.problems.oscill_cyl.OscillCylinder_SLURM at 0x7f60e886fd00>}"
      ]
     },
     "execution_count": 8,
     "metadata": {},
     "output_type": "execute_result"
    }
   ],
   "source": [
    "study.case_runs"
   ]
  },
  {
   "cell_type": "code",
   "execution_count": 9,
   "id": "df5e6dd0",
   "metadata": {},
   "outputs": [],
   "source": [
    "# case = study.case_runs['RANS_equiv_BCs']"
   ]
  },
  {
   "cell_type": "code",
   "execution_count": 10,
   "id": "dd46ff4b",
   "metadata": {},
   "outputs": [],
   "source": [
    "# case._postProc()"
   ]
  },
  {
   "cell_type": "markdown",
   "id": "44fdcdc5",
   "metadata": {},
   "source": [
    "## Select Optimization Algorithm Run"
   ]
  },
  {
   "cell_type": "code",
   "execution_count": 11,
   "id": "72ab8189",
   "metadata": {},
   "outputs": [
    {
     "name": "stdout",
     "output_type": "stream",
     "text": [
      "{'default_run': <pymooCFD.core.optRun.OptRun object at 0x7f61f7730eb0>}\n"
     ]
    }
   ],
   "source": [
    "print(study.opt_runs)"
   ]
  },
  {
   "cell_type": "code",
   "execution_count": 12,
   "id": "eaae04fe",
   "metadata": {},
   "outputs": [],
   "source": [
    "opt_run = study.opt_runs['default_run']\n",
    "# opt_run = study.opt_runs['test_run']\n",
    "# opt_run = study.opt_runs['run05']\n",
    "# opt_run = study.opt_runs['run02']"
   ]
  },
  {
   "cell_type": "markdown",
   "id": "931f17ec",
   "metadata": {},
   "source": [
    "### Check Out Data Generated"
   ]
  },
  {
   "cell_type": "code",
   "execution_count": 13,
   "id": "81afd8c4",
   "metadata": {},
   "outputs": [
    {
     "name": "stdout",
     "output_type": "stream",
     "text": [
      "{'CFDCase': <class 'pymooCFD.problems.oscill_cyl.OscillCylinder_SLURM'>,\n",
      " 'CFDGeneticAlgorithm': <class 'pymooCFD.core.pymooBase.CFDGeneticAlgorithm'>,\n",
      " 'CFDGeneticProblem': <class 'pymooCFD.core.pymooBase.CFDGeneticProblem'>,\n",
      " 'abs_path': '/gpfs1/home/g/l/glove1/gitrepo/pymooCFD/optStudy-OscillCylinder_SLURM',\n",
      " 'case_runs': {'2.0_0.4': <pymooCFD.problems.oscill_cyl.OscillCylinder_SLURM object at 0x7f60e886fd00>},\n",
      " 'cp_init': True,\n",
      " 'log_level': 10,\n",
      " 'logger': <Logger optStudy-OscillCylinder_SLURM (DEBUG)>,\n",
      " 'opt_runs': {'default_run': <pymooCFD.core.optRun.OptRun object at 0x7f61f7730eb0>}}\n"
     ]
    }
   ],
   "source": [
    "pprint(study.__dict__)"
   ]
  },
  {
   "cell_type": "code",
   "execution_count": 14,
   "id": "ba1baeed",
   "metadata": {},
   "outputs": [
    {
     "name": "stdout",
     "output_type": "stream",
     "text": [
      "49\n"
     ]
    }
   ],
   "source": [
    "# print(opt_run.algorithm.history)\n",
    "print(len(opt_run.algorithm.history))"
   ]
  },
  {
   "cell_type": "code",
   "execution_count": 15,
   "id": "d9aede8d",
   "metadata": {
    "scrolled": true
   },
   "outputs": [
    {
     "name": "stdout",
     "output_type": "stream",
     "text": [
      "{'CFDCase': <class 'pymooCFD.problems.oscill_cyl.OscillCylinder_SLURM'>,\n",
      " 'CFDGeneticAlgorithm': <class 'pymooCFD.core.pymooBase.CFDGeneticAlgorithm'>,\n",
      " 'CFDGeneticProblem': <class 'pymooCFD.core.pymooBase.CFDGeneticProblem'>,\n",
      " 'abs_path': '/gpfs1/home/g/l/glove1/gitrepo/pymooCFD/optStudy-OscillCylinder_SLURM',\n",
      " 'case_runs': {'2.0_0.4': <pymooCFD.problems.oscill_cyl.OscillCylinder_SLURM object at 0x7f60e886fd00>},\n",
      " 'cp_init': True,\n",
      " 'log_level': 10,\n",
      " 'logger': <Logger optStudy-OscillCylinder_SLURM (DEBUG)>,\n",
      " 'opt_runs': {'default_run': <pymooCFD.core.optRun.OptRun object at 0x7f61f7730eb0>}}\n"
     ]
    }
   ],
   "source": [
    "pprint(study.__dict__)"
   ]
  },
  {
   "cell_type": "code",
   "execution_count": 16,
   "id": "20a9186d",
   "metadata": {
    "scrolled": true
   },
   "outputs": [
    {
     "name": "stdout",
     "output_type": "stream",
     "text": [
      "{'abs_path': '/gpfs1/home/g/l/glove1/gitrepo/pymooCFD/optStudy-OscillCylinder_SLURM/default_run',\n",
      " 'algorithm': <pymooCFD.core.pymooBase.CFDGeneticAlgorithm object at 0x7f60e8f61550>,\n",
      " 'bnd_cases': [<pymooCFD.problems.oscill_cyl.OscillCylinder_SLURM object at 0x7f60e88b1fd0>,\n",
      "               <pymooCFD.problems.oscill_cyl.OscillCylinder_SLURM object at 0x7f60e88bd700>,\n",
      "               <pymooCFD.problems.oscill_cyl.OscillCylinder_SLURM object at 0x7f60e88c3850>,\n",
      "               <pymooCFD.problems.oscill_cyl.OscillCylinder_SLURM object at 0x7f60e88c7a60>,\n",
      "               <pymooCFD.problems.oscill_cyl.OscillCylinder_SLURM object at 0x7f60e88cbd30>,\n",
      "               <pymooCFD.problems.oscill_cyl.OscillCylinder_SLURM object at 0x7f60e88d2e80>,\n",
      "               <pymooCFD.problems.oscill_cyl.OscillCylinder_SLURM object at 0x7f60e885c190>,\n",
      "               <pymooCFD.problems.oscill_cyl.OscillCylinder_SLURM object at 0x7f60e88602e0>],\n",
      " 'cp_init': False,\n",
      " 'gen1_pop': Population([<pymoo.core.individual.Individual object at 0x7f60e886aa90>,\n",
      "            <pymoo.core.individual.Individual object at 0x7f60e886aaf0>,\n",
      "            <pymoo.core.individual.Individual object at 0x7f60e88aca30>,\n",
      "            <pymoo.core.individual.Individual object at 0x7f60e886ab50>,\n",
      "            <pymoo.core.individual.Individual object at 0x7f60e886abb0>,\n",
      "            <pymoo.core.individual.Individual object at 0x7f60e886ac10>,\n",
      "            <pymoo.core.individual.Individual object at 0x7f60e886ac70>,\n",
      "            <pymoo.core.individual.Individual object at 0x7f60e886acd0>,\n",
      "            <pymoo.core.individual.Individual object at 0x7f60e886ad30>,\n",
      "            <pymoo.core.individual.Individual object at 0x7f60e886ad90>,\n",
      "            <pymoo.core.individual.Individual object at 0x7f60e886adf0>,\n",
      "            <pymoo.core.individual.Individual object at 0x7f60e886ae50>,\n",
      "            <pymoo.core.individual.Individual object at 0x7f60e88ac5b0>,\n",
      "            <pymoo.core.individual.Individual object at 0x7f60e886aeb0>,\n",
      "            <pymoo.core.individual.Individual object at 0x7f60e886af10>,\n",
      "            <pymoo.core.individual.Individual object at 0x7f60e886af70>,\n",
      "            <pymoo.core.individual.Individual object at 0x7f60e886afd0>,\n",
      "            <pymoo.core.individual.Individual object at 0x7f60e886f040>,\n",
      "            <pymoo.core.individual.Individual object at 0x7f60e886f0d0>,\n",
      "            <pymoo.core.individual.Individual object at 0x7f60e886f130>,\n",
      "            <pymoo.core.individual.Individual object at 0x7f60e886f190>,\n",
      "            <pymoo.core.individual.Individual object at 0x7f60e886f1f0>,\n",
      "            <pymoo.core.individual.Individual object at 0x7f60e886f250>,\n",
      "            <pymoo.core.individual.Individual object at 0x7f60e886f2b0>,\n",
      "            <pymoo.core.individual.Individual object at 0x7f60e886f310>,\n",
      "            <pymoo.core.individual.Individual object at 0x7f60e886f370>,\n",
      "            <pymoo.core.individual.Individual object at 0x7f60e886f3d0>,\n",
      "            <pymoo.core.individual.Individual object at 0x7f60e886f430>,\n",
      "            <pymoo.core.individual.Individual object at 0x7f60e886f490>,\n",
      "            <pymoo.core.individual.Individual object at 0x7f60e886f4f0>,\n",
      "            <pymoo.core.individual.Individual object at 0x7f60e886f550>,\n",
      "            <pymoo.core.individual.Individual object at 0x7f60e886f5b0>,\n",
      "            <pymoo.core.individual.Individual object at 0x7f60e886f610>,\n",
      "            <pymoo.core.individual.Individual object at 0x7f60e886f670>,\n",
      "            <pymoo.core.individual.Individual object at 0x7f60e886f6d0>,\n",
      "            <pymoo.core.individual.Individual object at 0x7f60e886f730>,\n",
      "            <pymoo.core.individual.Individual object at 0x7f60e886f790>,\n",
      "            <pymoo.core.individual.Individual object at 0x7f60e886f7f0>,\n",
      "            <pymoo.core.individual.Individual object at 0x7f60e886f850>,\n",
      "            <pymoo.core.individual.Individual object at 0x7f60e886f8b0>,\n",
      "            <pymoo.core.individual.Individual object at 0x7f60e886f910>,\n",
      "            <pymoo.core.individual.Individual object at 0x7f60e886f970>,\n",
      "            <pymoo.core.individual.Individual object at 0x7f60e886f9d0>,\n",
      "            <pymoo.core.individual.Individual object at 0x7f60e886fa30>,\n",
      "            <pymoo.core.individual.Individual object at 0x7f60e886fa90>,\n",
      "            <pymoo.core.individual.Individual object at 0x7f60e886faf0>,\n",
      "            <pymoo.core.individual.Individual object at 0x7f60e886fb50>,\n",
      "            <pymoo.core.individual.Individual object at 0x7f60e886fbb0>,\n",
      "            <pymoo.core.individual.Individual object at 0x7f60e886fc10>,\n",
      "            <pymoo.core.individual.Individual object at 0x7f60e886fc70>],\n",
      "           dtype=object),\n",
      " 'log_level': 10,\n",
      " 'logger': <Logger optStudy-OscillCylinder_SLURM.default_run (DEBUG)>,\n",
      " 'n_opt': 20,\n",
      " 'problem': <pymooCFD.core.pymooBase.CFDGeneticProblem object at 0x7f60e8f742b0>,\n",
      " 'run_path': '/gpfs1/home/g/l/glove1/gitrepo/pymooCFD/optStudy-OscillCylinder_SLURM/default_run',\n",
      " 'test_case': <pymooCFD.problems.oscill_cyl.OscillCylinder_SLURM object at 0x7f60e88654f0>}\n"
     ]
    }
   ],
   "source": [
    "pprint(opt_run.__dict__)"
   ]
  },
  {
   "cell_type": "code",
   "execution_count": 17,
   "id": "19598880",
   "metadata": {
    "scrolled": true
   },
   "outputs": [
    {
     "name": "stdout",
     "output_type": "stream",
     "text": [
      "{'advance_after_initial_infill': True,\n",
      " 'callback': <pymooCFD.core.pymooBase.PymooCFDCallback object at 0x7f60e8f61910>,\n",
      " 'data': {},\n",
      " 'default_termination': <pymoo.util.termination.default.MultiObjectiveDefaultTermination object at 0x7f60e8f743d0>,\n",
      " 'display': <pymooCFD.core.pymooBase.MyDisplay object at 0x7f60e8f61610>,\n",
      " 'eliminate_duplicates': <pymoo.core.duplicate.DefaultDuplicateElimination object at 0x7f60e88b19d0>,\n",
      " 'evaluator': <pymoo.core.evaluator.Evaluator object at 0x7f60e8f744f0>,\n",
      " 'has_terminated': True,\n",
      " 'history': [<pymooCFD.core.pymooBase.CFDGeneticAlgorithm object at 0x7f60e8f74970>,\n",
      "             <pymooCFD.core.pymooBase.CFDGeneticAlgorithm object at 0x7f60e8f36880>,\n",
      "             <pymooCFD.core.pymooBase.CFDGeneticAlgorithm object at 0x7f60e8f56400>,\n",
      "             <pymooCFD.core.pymooBase.CFDGeneticAlgorithm object at 0x7f60e8efc160>,\n",
      "             <pymooCFD.core.pymooBase.CFDGeneticAlgorithm object at 0x7f60e8f15ee0>,\n",
      "             <pymooCFD.core.pymooBase.CFDGeneticAlgorithm object at 0x7f60e8eb6e50>,\n",
      "             <pymooCFD.core.pymooBase.CFDGeneticAlgorithm object at 0x7f60e8ed7d60>,\n",
      "             <pymooCFD.core.pymooBase.CFDGeneticAlgorithm object at 0x7f60e8e77d30>,\n",
      "             <pymooCFD.core.pymooBase.CFDGeneticAlgorithm object at 0x7f60e8e95d30>,\n",
      "             <pymooCFD.core.pymooBase.CFDGeneticAlgorithm object at 0x7f60e8e35dc0>,\n",
      "             <pymooCFD.core.pymooBase.CFDGeneticAlgorithm object at 0x7f60e8e58f10>,\n",
      "             <pymooCFD.core.pymooBase.CFDGeneticAlgorithm object at 0x7f60e8dfd220>,\n",
      "             <pymooCFD.core.pymooBase.CFDGeneticAlgorithm object at 0x7f60e8d9e4c0>,\n",
      "             <pymooCFD.core.pymooBase.CFDGeneticAlgorithm object at 0x7f60e8dbf760>,\n",
      "             <pymooCFD.core.pymooBase.CFDGeneticAlgorithm object at 0x7f60e8d5fb20>,\n",
      "             <pymooCFD.core.pymooBase.CFDGeneticAlgorithm object at 0x7f60e8d80f10>,\n",
      "             <pymooCFD.core.pymooBase.CFDGeneticAlgorithm object at 0x7f60e8d26400>,\n",
      "             <pymooCFD.core.pymooBase.CFDGeneticAlgorithm object at 0x7f60e8d47940>,\n",
      "             <pymooCFD.core.pymooBase.CFDGeneticAlgorithm object at 0x7f60e8ce8e20>,\n",
      "             <pymooCFD.core.pymooBase.CFDGeneticAlgorithm object at 0x7f60e8d0d2e0>,\n",
      "             <pymooCFD.core.pymooBase.CFDGeneticAlgorithm object at 0x7f60e8cae760>,\n",
      "             <pymooCFD.core.pymooBase.CFDGeneticAlgorithm object at 0x7f60e8ccfdf0>,\n",
      "             <pymooCFD.core.pymooBase.CFDGeneticAlgorithm object at 0x7f60e8c75520>,\n",
      "             <pymooCFD.core.pymooBase.CFDGeneticAlgorithm object at 0x7f60e8c94b80>,\n",
      "             <pymooCFD.core.pymooBase.CFDGeneticAlgorithm object at 0x7f60e8c3d250>,\n",
      "             <pymooCFD.core.pymooBase.CFDGeneticAlgorithm object at 0x7f60e8bdf850>,\n",
      "             <pymooCFD.core.pymooBase.CFDGeneticAlgorithm object at 0x7f60e8bfff10>,\n",
      "             <pymooCFD.core.pymooBase.CFDGeneticAlgorithm object at 0x7f60e8ba65b0>,\n",
      "             <pymooCFD.core.pymooBase.CFDGeneticAlgorithm object at 0x7f60e8bc7c40>,\n",
      "             <pymooCFD.core.pymooBase.CFDGeneticAlgorithm object at 0x7f60e8b6c370>,\n",
      "             <pymooCFD.core.pymooBase.CFDGeneticAlgorithm object at 0x7f60e8b8ca30>,\n",
      "             <pymooCFD.core.pymooBase.CFDGeneticAlgorithm object at 0x7f60e8b330d0>,\n",
      "             <pymooCFD.core.pymooBase.CFDGeneticAlgorithm object at 0x7f60e8b54760>,\n",
      "             <pymooCFD.core.pymooBase.CFDGeneticAlgorithm object at 0x7f60e8af5e20>,\n",
      "             <pymooCFD.core.pymooBase.CFDGeneticAlgorithm object at 0x7f60e8a9d4f0>,\n",
      "             <pymooCFD.core.pymooBase.CFDGeneticAlgorithm object at 0x7f60e8abdb20>,\n",
      "             <pymooCFD.core.pymooBase.CFDGeneticAlgorithm object at 0x7f60e8a64130>,\n",
      "             <pymooCFD.core.pymooBase.CFDGeneticAlgorithm object at 0x7f60e8a84700>,\n",
      "             <pymooCFD.core.pymooBase.CFDGeneticAlgorithm object at 0x7f60e8a24dc0>,\n",
      "             <pymooCFD.core.pymooBase.CFDGeneticAlgorithm object at 0x7f60e8a4a460>,\n",
      "             <pymooCFD.core.pymooBase.CFDGeneticAlgorithm object at 0x7f60e89ecac0>,\n",
      "             <pymooCFD.core.pymooBase.CFDGeneticAlgorithm object at 0x7f60e8a13100>,\n",
      "             <pymooCFD.core.pymooBase.CFDGeneticAlgorithm object at 0x7f60e89b5730>,\n",
      "             <pymooCFD.core.pymooBase.CFDGeneticAlgorithm object at 0x7f60e89d5d90>,\n",
      "             <pymooCFD.core.pymooBase.CFDGeneticAlgorithm object at 0x7f60e8979400>,\n",
      "             <pymooCFD.core.pymooBase.CFDGeneticAlgorithm object at 0x7f60e891ca60>,\n",
      "             <pymooCFD.core.pymooBase.CFDGeneticAlgorithm object at 0x7f60e8943130>,\n",
      "             <pymooCFD.core.pymooBase.CFDGeneticAlgorithm object at 0x7f60e88e3790>,\n",
      "             <pymooCFD.core.pymooBase.CFDGeneticAlgorithm object at 0x7f60e8905e80>],\n",
      " 'initialization': <pymoo.core.initialization.Initialization object at 0x7f60e88b1a60>,\n",
      " 'is_initialized': True,\n",
      " 'mating': <pymoo.core.mating.Mating object at 0x7f60e88b1c10>,\n",
      " 'n_gen': 50,\n",
      " 'n_offsprings': 15,\n",
      " 'off': None,\n",
      " 'opt': Population([<pymoo.core.individual.Individual object at 0x7f60e88ac550>,\n",
      "            <pymoo.core.individual.Individual object at 0x7f60e88ac5b0>,\n",
      "            <pymoo.core.individual.Individual object at 0x7f60e88ac610>,\n",
      "            <pymoo.core.individual.Individual object at 0x7f60e88ac670>,\n",
      "            <pymoo.core.individual.Individual object at 0x7f60e88ac6d0>,\n",
      "            <pymoo.core.individual.Individual object at 0x7f60e88ac730>,\n",
      "            <pymoo.core.individual.Individual object at 0x7f60e88ac790>,\n",
      "            <pymoo.core.individual.Individual object at 0x7f60e88ac7f0>,\n",
      "            <pymoo.core.individual.Individual object at 0x7f60e88ac850>,\n",
      "            <pymoo.core.individual.Individual object at 0x7f60e88ac8b0>,\n",
      "            <pymoo.core.individual.Individual object at 0x7f60e88ac910>,\n",
      "            <pymoo.core.individual.Individual object at 0x7f60e88ac970>,\n",
      "            <pymoo.core.individual.Individual object at 0x7f60e88ac9d0>,\n",
      "            <pymoo.core.individual.Individual object at 0x7f60e88aca30>,\n",
      "            <pymoo.core.individual.Individual object at 0x7f60e88aca90>,\n",
      "            <pymoo.core.individual.Individual object at 0x7f60e88acaf0>,\n",
      "            <pymoo.core.individual.Individual object at 0x7f60e88acb50>,\n",
      "            <pymoo.core.individual.Individual object at 0x7f60e88acbb0>,\n",
      "            <pymoo.core.individual.Individual object at 0x7f60e88acc10>,\n",
      "            <pymoo.core.individual.Individual object at 0x7f60e88acc70>,\n",
      "            <pymoo.core.individual.Individual object at 0x7f60e88accd0>,\n",
      "            <pymoo.core.individual.Individual object at 0x7f60e88acd30>,\n",
      "            <pymoo.core.individual.Individual object at 0x7f60e88acd90>,\n",
      "            <pymoo.core.individual.Individual object at 0x7f60e88ace20>,\n",
      "            <pymoo.core.individual.Individual object at 0x7f60e88ace80>,\n",
      "            <pymoo.core.individual.Individual object at 0x7f60e88acee0>,\n",
      "            <pymoo.core.individual.Individual object at 0x7f60e88acf40>,\n",
      "            <pymoo.core.individual.Individual object at 0x7f60e88acfa0>,\n",
      "            <pymoo.core.individual.Individual object at 0x7f60e88b1040>,\n",
      "            <pymoo.core.individual.Individual object at 0x7f60e88b10a0>,\n",
      "            <pymoo.core.individual.Individual object at 0x7f60e88b1100>,\n",
      "            <pymoo.core.individual.Individual object at 0x7f60e88b1160>,\n",
      "            <pymoo.core.individual.Individual object at 0x7f60e88b11c0>,\n",
      "            <pymoo.core.individual.Individual object at 0x7f60e88b1220>,\n",
      "            <pymoo.core.individual.Individual object at 0x7f60e88b1280>,\n",
      "            <pymoo.core.individual.Individual object at 0x7f60e88b12e0>,\n",
      "            <pymoo.core.individual.Individual object at 0x7f60e88b1340>,\n",
      "            <pymoo.core.individual.Individual object at 0x7f60e88b13a0>,\n",
      "            <pymoo.core.individual.Individual object at 0x7f60e88b1400>,\n",
      "            <pymoo.core.individual.Individual object at 0x7f60e88b1460>,\n",
      "            <pymoo.core.individual.Individual object at 0x7f60e88b14c0>,\n",
      "            <pymoo.core.individual.Individual object at 0x7f60e88b1520>,\n",
      "            <pymoo.core.individual.Individual object at 0x7f60e88b1580>,\n",
      "            <pymoo.core.individual.Individual object at 0x7f60e88b15e0>,\n",
      "            <pymoo.core.individual.Individual object at 0x7f60e88b1640>,\n",
      "            <pymoo.core.individual.Individual object at 0x7f60e88b16a0>,\n",
      "            <pymoo.core.individual.Individual object at 0x7f60e88b1700>,\n",
      "            <pymoo.core.individual.Individual object at 0x7f60e88b1760>,\n",
      "            <pymoo.core.individual.Individual object at 0x7f60e88b17c0>,\n",
      "            <pymoo.core.individual.Individual object at 0x7f60e88b1820>],\n",
      "           dtype=object),\n",
      " 'pf': True,\n",
      " 'pop': Population([<pymoo.core.individual.Individual object at 0x7f60e88ac550>,\n",
      "            <pymoo.core.individual.Individual object at 0x7f60e88ac5b0>,\n",
      "            <pymoo.core.individual.Individual object at 0x7f60e88ac610>,\n",
      "            <pymoo.core.individual.Individual object at 0x7f60e88ac670>,\n",
      "            <pymoo.core.individual.Individual object at 0x7f60e88ac6d0>,\n",
      "            <pymoo.core.individual.Individual object at 0x7f60e88ac730>,\n",
      "            <pymoo.core.individual.Individual object at 0x7f60e88ac790>,\n",
      "            <pymoo.core.individual.Individual object at 0x7f60e88ac7f0>,\n",
      "            <pymoo.core.individual.Individual object at 0x7f60e88ac850>,\n",
      "            <pymoo.core.individual.Individual object at 0x7f60e88ac8b0>,\n",
      "            <pymoo.core.individual.Individual object at 0x7f60e88ac910>,\n",
      "            <pymoo.core.individual.Individual object at 0x7f60e88ac970>,\n",
      "            <pymoo.core.individual.Individual object at 0x7f60e88ac9d0>,\n",
      "            <pymoo.core.individual.Individual object at 0x7f60e88aca30>,\n",
      "            <pymoo.core.individual.Individual object at 0x7f60e88aca90>,\n",
      "            <pymoo.core.individual.Individual object at 0x7f60e88acaf0>,\n",
      "            <pymoo.core.individual.Individual object at 0x7f60e88acb50>,\n",
      "            <pymoo.core.individual.Individual object at 0x7f60e88acbb0>,\n",
      "            <pymoo.core.individual.Individual object at 0x7f60e88acc10>,\n",
      "            <pymoo.core.individual.Individual object at 0x7f60e88acc70>,\n",
      "            <pymoo.core.individual.Individual object at 0x7f60e88accd0>,\n",
      "            <pymoo.core.individual.Individual object at 0x7f60e88acd30>,\n",
      "            <pymoo.core.individual.Individual object at 0x7f60e88acd90>,\n",
      "            <pymoo.core.individual.Individual object at 0x7f60e88ace20>,\n",
      "            <pymoo.core.individual.Individual object at 0x7f60e88ace80>,\n",
      "            <pymoo.core.individual.Individual object at 0x7f60e88acee0>,\n",
      "            <pymoo.core.individual.Individual object at 0x7f60e88acf40>,\n",
      "            <pymoo.core.individual.Individual object at 0x7f60e88acfa0>,\n",
      "            <pymoo.core.individual.Individual object at 0x7f60e88b1040>,\n",
      "            <pymoo.core.individual.Individual object at 0x7f60e88b10a0>,\n",
      "            <pymoo.core.individual.Individual object at 0x7f60e88b1100>,\n",
      "            <pymoo.core.individual.Individual object at 0x7f60e88b1160>,\n",
      "            <pymoo.core.individual.Individual object at 0x7f60e88b11c0>,\n",
      "            <pymoo.core.individual.Individual object at 0x7f60e88b1220>,\n",
      "            <pymoo.core.individual.Individual object at 0x7f60e88b1280>,\n",
      "            <pymoo.core.individual.Individual object at 0x7f60e88b12e0>,\n",
      "            <pymoo.core.individual.Individual object at 0x7f60e88b1340>,\n",
      "            <pymoo.core.individual.Individual object at 0x7f60e88b13a0>,\n",
      "            <pymoo.core.individual.Individual object at 0x7f60e88b1400>,\n",
      "            <pymoo.core.individual.Individual object at 0x7f60e88b1460>,\n",
      "            <pymoo.core.individual.Individual object at 0x7f60e88b14c0>,\n",
      "            <pymoo.core.individual.Individual object at 0x7f60e88b1520>,\n",
      "            <pymoo.core.individual.Individual object at 0x7f60e88b1580>,\n",
      "            <pymoo.core.individual.Individual object at 0x7f60e88b15e0>,\n",
      "            <pymoo.core.individual.Individual object at 0x7f60e88b1640>,\n",
      "            <pymoo.core.individual.Individual object at 0x7f60e88b16a0>,\n",
      "            <pymoo.core.individual.Individual object at 0x7f60e88b1700>,\n",
      "            <pymoo.core.individual.Individual object at 0x7f60e88b1760>,\n",
      "            <pymoo.core.individual.Individual object at 0x7f60e88b17c0>,\n",
      "            <pymoo.core.individual.Individual object at 0x7f60e88b1820>],\n",
      "           dtype=object),\n",
      " 'pop_size': 50,\n",
      " 'problem': <pymooCFD.core.pymooBase.CFDGeneticProblem object at 0x7f60e8f742b0>,\n",
      " 'repair': <pymoo.core.repair.NoRepair object at 0x7f60e88b1a30>,\n",
      " 'return_least_infeasible': True,\n",
      " 'save_history': True,\n",
      " 'seed': 1,\n",
      " 'start_time': 1651801652.7706287,\n",
      " 'survival': <pymoo.algorithms.moo.nsga2.RankAndCrowdingSurvival object at 0x7f60e88b1910>,\n",
      " 'termination': <pymoo.util.termination.max_gen.MaximumGenerationTermination object at 0x7f60e8f61730>,\n",
      " 'tournament_type': 'comp_by_dom_and_crowding',\n",
      " 'verbose': True}\n"
     ]
    }
   ],
   "source": [
    "pprint(opt_run.algorithm.__dict__)"
   ]
  },
  {
   "cell_type": "code",
   "execution_count": 18,
   "id": "ddd2591e",
   "metadata": {},
   "outputs": [
    {
     "name": "stdout",
     "output_type": "stream",
     "text": [
      "{'BaseCase': <class 'pymooCFD.problems.oscill_cyl.OscillCylinder_SLURM'>,\n",
      " '_ideal_point': None,\n",
      " '_nadir_point': None,\n",
      " '_pareto_front': <pymoo.util.cache.Cache object at 0x7f60e8f74340>,\n",
      " '_pareto_set': <pymoo.util.cache.Cache object at 0x7f60e8f742e0>,\n",
      " 'callback': None,\n",
      " 'check_inconsistencies': True,\n",
      " 'data': {},\n",
      " 'exclude_from_serialization': [],\n",
      " 'gen1Pop': None,\n",
      " 'n_constr': 0,\n",
      " 'n_obj': 2,\n",
      " 'n_var': 2,\n",
      " 'replace_nan_values_by': inf,\n",
      " 'validated': False,\n",
      " 'xl': array([0.1, 0.2]),\n",
      " 'xu': array([10.,  1.])}\n"
     ]
    }
   ],
   "source": [
    "pprint(opt_run.problem.__dict__)"
   ]
  },
  {
   "cell_type": "code",
   "execution_count": null,
   "id": "566139f0",
   "metadata": {},
   "outputs": [],
   "source": [
    "# for key in optRun.__dict__:\n",
    "#     pprint(\"{0:15} : {1}\".format(key, optRun.__dict__[key])) #str(optRun.__dict__[key]).replace('\\n', '\\n\\t\\t  ')))"
   ]
  },
  {
   "cell_type": "code",
   "execution_count": null,
   "id": "f07ac59e",
   "metadata": {},
   "outputs": [],
   "source": [
    "# for key in optRun.__dict__:\n",
    "#     val = str(optRun.__dict__[key]).replace('\\n', '\\n\\t\\t')\n",
    "#     pprint(\"{0:15} : {1}\".format(key, val))"
   ]
  },
  {
   "cell_type": "markdown",
   "id": "594557b9",
   "metadata": {},
   "source": [
    "# Pre-Process Optimization Study"
   ]
  },
  {
   "cell_type": "code",
   "execution_count": null,
   "id": "2c420983",
   "metadata": {},
   "outputs": [],
   "source": [
    "len(opt_run.algorithm.history[-1].opt)"
   ]
  },
  {
   "cell_type": "markdown",
   "id": "6c9a37f7",
   "metadata": {},
   "source": [
    "### Test Case"
   ]
  },
  {
   "cell_type": "code",
   "execution_count": null,
   "id": "b4e0f929",
   "metadata": {},
   "outputs": [],
   "source": [
    "print(opt_run.test_case)\n",
    "opt_run.test_case"
   ]
  },
  {
   "cell_type": "code",
   "execution_count": null,
   "id": "154fc081",
   "metadata": {},
   "outputs": [],
   "source": [
    "pprint(opt_run.test_case.__dict__)"
   ]
  },
  {
   "cell_type": "markdown",
   "id": "c96afa0a",
   "metadata": {},
   "source": [
    "#### Mesh Study"
   ]
  },
  {
   "cell_type": "code",
   "execution_count": null,
   "id": "05f4d7a6",
   "metadata": {},
   "outputs": [],
   "source": [
    "pprint(opt_run.test_case.mesh_study.__dict__)"
   ]
  },
  {
   "cell_type": "code",
   "execution_count": null,
   "id": "7e80ceb2",
   "metadata": {},
   "outputs": [],
   "source": [
    "print(opt_run.test_case.mesh_study.cases)"
   ]
  },
  {
   "cell_type": "code",
   "execution_count": null,
   "id": "160a8306",
   "metadata": {},
   "outputs": [],
   "source": [
    "if opt_run.test_case.mesh_study.cases is None:\n",
    "    print('No Mesh Study Cases for Test Case')\n",
    "else:\n",
    "    for case in opt_run.test_case.mesh_study.cases:\n",
    "        pprint(case.__dict__)\n",
    "        print()"
   ]
  },
  {
   "cell_type": "code",
   "execution_count": null,
   "id": "ff6c06d9",
   "metadata": {},
   "outputs": [],
   "source": [
    "if opt_run.test_case.mesh_study.cases is None:\n",
    "    print('No Mesh Study Cases for Test Case')\n",
    "else:\n",
    "    print('Mesh Size Factors:', opt_run.test_case.mesh_study.size_factors)"
   ]
  },
  {
   "cell_type": "code",
   "execution_count": null,
   "id": "5b747662",
   "metadata": {},
   "outputs": [],
   "source": [
    "if opt_run.test_case.mesh_study.cases is None:\n",
    "    print('No Mesh Study Cases for Test Case')\n",
    "else:\n",
    "    for case in opt_run.test_case.mesh_study.cases:\n",
    "        print(case)\n",
    "        print()\n",
    "#     print('\\tParameters:', case._x, '\\t Objectives:', case._f)"
   ]
  },
  {
   "cell_type": "code",
   "execution_count": null,
   "id": "352cbc49",
   "metadata": {},
   "outputs": [],
   "source": [
    "ms_plots = opt_run.test_case.mesh_study.plot()"
   ]
  },
  {
   "cell_type": "markdown",
   "id": "16b6e071",
   "metadata": {},
   "source": [
    "##### Update Test Case"
   ]
  },
  {
   "cell_type": "code",
   "execution_count": null,
   "id": "c24943b1",
   "metadata": {},
   "outputs": [],
   "source": [
    "# opt_run.appendMeshSFs(opt_run.test_case, [1.2])"
   ]
  },
  {
   "cell_type": "code",
   "execution_count": null,
   "id": "55ac98d9",
   "metadata": {},
   "outputs": [],
   "source": [
    "# newMeshSFs = np.round(np.arange(0.3, 1.5, 0.1))\n",
    "# opt_run.saveCP()\n",
    "# opt_run.test_case.meshSFs"
   ]
  },
  {
   "cell_type": "markdown",
   "id": "c88ab374",
   "metadata": {},
   "source": [
    "### Boundary Cases"
   ]
  },
  {
   "cell_type": "code",
   "execution_count": null,
   "id": "78fa2525",
   "metadata": {},
   "outputs": [],
   "source": [
    "print(opt_run.bnd_cases)"
   ]
  },
  {
   "cell_type": "code",
   "execution_count": null,
   "id": "5e675450",
   "metadata": {},
   "outputs": [],
   "source": [
    "if opt_run.bnd_cases is not None:\n",
    "    for case in opt_run.bnd_cases:\n",
    "        print(case)\n"
   ]
  },
  {
   "cell_type": "code",
   "execution_count": null,
   "id": "155064f9",
   "metadata": {},
   "outputs": [],
   "source": [
    "if opt_run.bnd_cases is not None:\n",
    "    bnd_vars = np.array([case.x for case in opt_run.bnd_cases])\n",
    "    print(bnd_vars)"
   ]
  },
  {
   "cell_type": "code",
   "execution_count": null,
   "id": "63134ef7",
   "metadata": {},
   "outputs": [],
   "source": [
    "if opt_run.bnd_cases is not None:\n",
    "    var_plot = opt_run.plotBndPts()"
   ]
  },
  {
   "cell_type": "code",
   "execution_count": null,
   "id": "ad64f917",
   "metadata": {},
   "outputs": [],
   "source": [
    "if opt_run.bnd_cases is not None:\n",
    "    bnd_objs = np.array([case.f for case in opt_run.bnd_cases])\n",
    "    print(bnd_objs)"
   ]
  },
  {
   "cell_type": "code",
   "execution_count": null,
   "id": "5c99c530",
   "metadata": {},
   "outputs": [],
   "source": [
    "if None not in bnd_objs:\n",
    "    obj_plot = opt_run.plotBndPtsObj()"
   ]
  },
  {
   "cell_type": "code",
   "execution_count": null,
   "id": "ed7c74bc",
   "metadata": {},
   "outputs": [],
   "source": [
    "if None not in bnd_objs:\n",
    "    # Non-dominated Sorting of Boundary Cases\n",
    "    n_survive = 1\n",
    "    F = np.array([case.f for case in opt_run.bnd_cases])\n",
    "    X = np.array([case.x for case in opt_run.bnd_cases])\n",
    "    from pymoo.util.nds.non_dominated_sorting import NonDominatedSorting\n",
    "    nds = NonDominatedSorting()\n",
    "    # do the non-dominated sorting until splitting front\n",
    "    fronts = nds.do(F, n_stop_if_ranked=n_survive)\n",
    "    front = fronts[0]\n",
    "    nonDom_CCobj = F[front, :][0]\n",
    "    nonDom_CCvar = X[front, :][0]\n",
    "    print('Non-dominated: Boundary Cases')\n",
    "    print('Parameters-', nonDom_CCvar)\n",
    "    print('Objectives-', nonDom_CCobj)"
   ]
  },
  {
   "cell_type": "markdown",
   "id": "fcc42e25",
   "metadata": {},
   "source": [
    "### Mesh Studies"
   ]
  },
  {
   "cell_type": "code",
   "execution_count": null,
   "id": "eac1224c",
   "metadata": {},
   "outputs": [],
   "source": [
    "pprint(opt_run.test_case.mesh_study.__dict__)"
   ]
  },
  {
   "cell_type": "code",
   "execution_count": null,
   "id": "fb399cd5",
   "metadata": {},
   "outputs": [],
   "source": [
    "print(opt_run.test_case.mesh_study.cases)"
   ]
  },
  {
   "cell_type": "markdown",
   "id": "cf8dd2b1",
   "metadata": {},
   "source": [
    "### Generation 1"
   ]
  },
  {
   "cell_type": "code",
   "execution_count": null,
   "id": "f5817fe1",
   "metadata": {},
   "outputs": [],
   "source": [
    "print(len(opt_run.algorithm.history[0].pop))"
   ]
  },
  {
   "cell_type": "code",
   "execution_count": null,
   "id": "98b7ecb8",
   "metadata": {
    "scrolled": true
   },
   "outputs": [],
   "source": [
    "var_plot, obj_plot = opt_run.plotGen(1)"
   ]
  },
  {
   "cell_type": "markdown",
   "id": "c4ee1fe6",
   "metadata": {},
   "source": [
    "### Generation 1: Mapping Parameters to Objectives\n",
    "Remember that for each plot the parameters(s) not labeled are also varying. \n",
    "\n",
    "Therefore, if a strong relationship is seen in these plots then it is likely a relationship independent of the other variable.\n"
   ]
  },
  {
   "cell_type": "code",
   "execution_count": null,
   "id": "7d565257",
   "metadata": {
    "scrolled": true
   },
   "outputs": [],
   "source": [
    "plots, map_paths = opt_run.map_gen1()"
   ]
  },
  {
   "cell_type": "code",
   "execution_count": null,
   "id": "c5df6d53",
   "metadata": {
    "scrolled": true
   },
   "outputs": [],
   "source": [
    "# from IPython.display import Image, display\n",
    "# map_paths = [os.path.join(opt_run.mapDir, ent) for ent in os.listdir(opt_run.mapDir) if ent.endswith('.png')]\n",
    "# for path in map_paths:\n",
    "#     display(Image(filename=path))"
   ]
  },
  {
   "cell_type": "markdown",
   "id": "f63649ab",
   "metadata": {},
   "source": [
    "# Post-Process Optimization Study"
   ]
  },
  {
   "cell_type": "markdown",
   "id": "177fae7f",
   "metadata": {},
   "source": [
    "### Optimization Algorithm Convergence"
   ]
  },
  {
   "cell_type": "code",
   "execution_count": null,
   "id": "27dd7d30",
   "metadata": {
    "scrolled": true
   },
   "outputs": [],
   "source": [
    "plots = opt_run.plotConv()"
   ]
  },
  {
   "cell_type": "markdown",
   "id": "340edfd8",
   "metadata": {},
   "source": [
    "### Performance Indicator - Hypervolume\n",
    "https://pymoo.org/misc/performance_indicator.html#Hypervolume\n",
    "\n",
    "Maximize hypervolume from reference point. "
   ]
  },
  {
   "cell_type": "code",
   "execution_count": null,
   "id": "47e0abc0",
   "metadata": {},
   "outputs": [],
   "source": [
    "for plot in plots[-2:]:\n",
    "    plot.show()"
   ]
  },
  {
   "cell_type": "code",
   "execution_count": null,
   "id": "d22dcc90",
   "metadata": {},
   "outputs": [],
   "source": [
    "all_obj = [alg.pop.get('F') for alg in opt_run.algorithm.history]"
   ]
  },
  {
   "cell_type": "code",
   "execution_count": null,
   "id": "d893cc3c",
   "metadata": {},
   "outputs": [],
   "source": [
    "mean_all_obj = []\n",
    "for obj_i in range(opt_run.problem.BaseCase.n_obj):\n",
    "    mean_all_obj.append(np.mean([np.mean(obj_g[:,obj_i]) for obj_g in all_obj]))\n",
    "print(mean_all_obj)"
   ]
  },
  {
   "cell_type": "code",
   "execution_count": null,
   "id": "b40fae2d",
   "metadata": {},
   "outputs": [],
   "source": [
    "mean_g1_obj = []\n",
    "popF = opt_run.algorithm.history[-1].pop.get('F')\n",
    "for obj_i in range(opt_run.problem.BaseCase.n_obj):\n",
    "    mean_g1_obj.append(np.mean(popF[:,obj_i]))\n",
    "print(mean_g1_obj)"
   ]
  },
  {
   "cell_type": "code",
   "execution_count": null,
   "id": "96c740ae",
   "metadata": {},
   "outputs": [],
   "source": [
    "from pymoo.factory import get_performance_indicator\n",
    "ref_pt = [np.mean(F_col) for F_col in opt_run.algorithm.history[0].pop.get('F').T]\n",
    "hv = get_performance_indicator(\"hv\", ref_point=np.array(ref_pt))\n",
    "print(ref_pt)"
   ]
  },
  {
   "cell_type": "markdown",
   "id": "cd3ecac8",
   "metadata": {},
   "source": [
    "### Latest Generation "
   ]
  },
  {
   "cell_type": "code",
   "execution_count": null,
   "id": "2870981f",
   "metadata": {},
   "outputs": [],
   "source": [
    "max_disp_len = 10\n",
    "if len(opt_run.algorithm.pop.get('X')) < max_disp_len:\n",
    "    print('FINAL POPULATION')\n",
    "    print('Parameters')\n",
    "    print(opt_run.algorithm.pop.get('X'))\n",
    "    print('Objectives')\n",
    "    print(opt_run.algorithm.pop.get('F'))"
   ]
  },
  {
   "cell_type": "code",
   "execution_count": null,
   "id": "fc67ed85",
   "metadata": {},
   "outputs": [],
   "source": [
    "latest_pop = opt_run.algorithm.history[-1].pop\n",
    "latest_popX = latest_pop.get('X')\n",
    "latest_popF = latest_pop.get('F')"
   ]
  },
  {
   "cell_type": "code",
   "execution_count": null,
   "id": "77d33189",
   "metadata": {},
   "outputs": [],
   "source": [
    "plot = opt_run.plotGen()"
   ]
  },
  {
   "cell_type": "markdown",
   "id": "c653b291",
   "metadata": {},
   "source": [
    "### Optimum"
   ]
  },
  {
   "cell_type": "code",
   "execution_count": null,
   "id": "7386d8fb",
   "metadata": {},
   "outputs": [],
   "source": [
    "assert opt_run.algorithm.opt is not None\n",
    "print('Number of Optimum:', len(opt_run.algorithm.opt))"
   ]
  },
  {
   "cell_type": "code",
   "execution_count": 20,
   "id": "760f8ca3",
   "metadata": {
    "scrolled": false
   },
   "outputs": [
    {
     "name": "stdout",
     "output_type": "stream",
     "text": [
      "LEGEND\n",
      "/media/ydubief/M2CE-14TB-1/gitrepo/pymooCFD/optStudy-OscillCylinder_SLURM/default_run/plots/20_opt_gen49_var_space.png\n",
      "LEGEND\n",
      "/media/ydubief/M2CE-14TB-1/gitrepo/pymooCFD/optStudy-OscillCylinder_SLURM/default_run/plots/20_opt_gen49_obj_space.png\n"
     ]
    },
    {
     "name": "stderr",
     "output_type": "stream",
     "text": [
      "07-28 17:27 :: INFO     :: optStudy-OscillCylinder_SLURM.default_run :: PLOTTED: Optimum after 49 Generations - Design and Objective Spaces\n"
     ]
    },
    {
     "data": {
      "text/plain": [
       "(<pymoo.visualization.scatter.Scatter at 0x7f60e8f74130>,\n",
       " <pymoo.visualization.scatter.Scatter at 0x7f60e8f82970>)"
      ]
     },
     "execution_count": 20,
     "metadata": {},
     "output_type": "execute_result"
    }
   ],
   "source": [
    "opt_run.plotOpt()"
   ]
  },
  {
   "cell_type": "code",
   "execution_count": 21,
   "id": "48d98397",
   "metadata": {},
   "outputs": [
    {
     "name": "stderr",
     "output_type": "stream",
     "text": [
      "07-28 17:28 :: INFO     :: optStudy-OscillCylinder_SLURM.default_run :: PLOTTED: Optimum after 49 Generations - Design and Objective Spaces\n"
     ]
    },
    {
     "data": {
      "text/plain": [
       "(<pymoo.visualization.scatter.Scatter at 0x7f60e8db30a0>,\n",
       " <pymoo.visualization.scatter.Scatter at 0x7f60e8f15280>)"
      ]
     },
     "execution_count": 21,
     "metadata": {},
     "output_type": "execute_result"
    }
   ],
   "source": [
    "plots = opt_run.plotAllOpt()\n",
    "plots"
   ]
  },
  {
   "cell_type": "markdown",
   "id": "db6ce150",
   "metadata": {},
   "source": [
    "### Print Every Generation"
   ]
  },
  {
   "cell_type": "code",
   "execution_count": 22,
   "id": "d53f6865",
   "metadata": {},
   "outputs": [],
   "source": [
    "if opt_run.algorithm.n_gen < 10 and len(opt_run.algorithm.pop.get('X')) < 10:\n",
    "    print('EVERY GENERATION')\n",
    "    for gen in range(opt_run.algorithm.n_gen):\n",
    "        print(f'generation {gen}')\n",
    "        var_g = opt_run.algorithm.history[gen].pop.get('X')\n",
    "        obj_g = opt_run.algorithm.history[gen].pop.get('F')\n",
    "        for ind in range(len(var_g)):\n",
    "            var_i = var_g[ind]\n",
    "            obj_i = obj_g[ind]\n",
    "            print(f'ind{ind}: ', end='')\n",
    "            for n in range(len(var_i)):\n",
    "                print(f'{opt_run.problem.BaseCase.var_labels[n]}: {var_i[n]}', end=' ')\n",
    "            print(' // ', end='')\n",
    "            for n in range(len(obj_i)):\n",
    "                print(opt_run.problem.BaseCase.obj_labels[n] + ':' + '%.3f' % obj_i[n], end=' ')\n",
    "            print()"
   ]
  },
  {
   "cell_type": "markdown",
   "id": "8324967c",
   "metadata": {},
   "source": [
    "## Plots Generations"
   ]
  },
  {
   "cell_type": "markdown",
   "id": "6a653f24",
   "metadata": {},
   "source": [
    "### Plot Every Generation"
   ]
  },
  {
   "cell_type": "code",
   "execution_count": 23,
   "id": "e6b491b6",
   "metadata": {},
   "outputs": [],
   "source": [
    "var_plot, obj_plot = opt_run.plotGens()"
   ]
  },
  {
   "cell_type": "markdown",
   "id": "a071d393",
   "metadata": {},
   "source": [
    "### Plot Last 10 Generation"
   ]
  },
  {
   "cell_type": "code",
   "execution_count": 24,
   "id": "56710864",
   "metadata": {},
   "outputs": [],
   "source": [
    "gen_i_final = len(opt_run.algorithm.history)\n",
    "if gen_i_final > 10:\n",
    "    gen_i_init = gen_i_final - 10\n",
    "else:\n",
    "    gen_i_init = 1\n",
    "final10_var_plot, final10_obj_plot = opt_run.plotGens(range(gen_i_init, gen_i_final+1))"
   ]
  },
  {
   "cell_type": "markdown",
   "id": "3cd85303",
   "metadata": {},
   "source": [
    "### Plot First 3 Generations"
   ]
  },
  {
   "cell_type": "code",
   "execution_count": 25,
   "id": "e6da8c7b",
   "metadata": {},
   "outputs": [],
   "source": [
    "first3_gens_var_plot, first3_gens_obj_plot = opt_run.plotGens(range(1, 4))"
   ]
  },
  {
   "cell_type": "markdown",
   "id": "32fad2e0",
   "metadata": {},
   "source": [
    "### Plot Generations "
   ]
  },
  {
   "cell_type": "code",
   "execution_count": 26,
   "id": "358322ac",
   "metadata": {
    "scrolled": false
   },
   "outputs": [
    {
     "name": "stdout",
     "output_type": "stream",
     "text": [
      "49\n",
      "9\n",
      "10\n",
      "19\n",
      "20\n",
      "29\n",
      "30\n",
      "39\n",
      "40\n"
     ]
    },
    {
     "data": {
      "text/plain": [
       "[(<pymoo.visualization.scatter.Scatter at 0x7f60e8b6c070>,\n",
       "  <pymoo.visualization.scatter.Scatter at 0x7f60e61afeb0>),\n",
       " (<pymoo.visualization.scatter.Scatter at 0x7f60e61e2400>,\n",
       "  <pymoo.visualization.scatter.Scatter at 0x7f60e61e22e0>),\n",
       " (<pymoo.visualization.scatter.Scatter at 0x7f60e60211f0>,\n",
       "  <pymoo.visualization.scatter.Scatter at 0x7f60e60801f0>),\n",
       " (<pymoo.visualization.scatter.Scatter at 0x7f60e5f54e80>,\n",
       "  <pymoo.visualization.scatter.Scatter at 0x7f60e5faf5e0>)]"
      ]
     },
     "execution_count": 26,
     "metadata": {},
     "output_type": "execute_result"
    }
   ],
   "source": [
    "gens_per_plot = 10\n",
    "gen_final = len(opt_run.algorithm.history)\n",
    "plots = []\n",
    "print(gen_final)\n",
    "for gen in range(1, gen_final + 1):\n",
    "    if gen % gens_per_plot == 0:\n",
    "        print(gen-1 % gens_per_plot)\n",
    "        print(gen)\n",
    "        gens = range(gen, gen+gens_per_plot)\n",
    "        plots.append(opt_run.plotGens(gens))\n",
    "plots"
   ]
  },
  {
   "cell_type": "markdown",
   "id": "5394d6e8",
   "metadata": {},
   "source": [
    "### Custom Generation Plots to Capture Convergence"
   ]
  },
  {
   "cell_type": "code",
   "execution_count": 27,
   "id": "afa7c465",
   "metadata": {},
   "outputs": [],
   "source": [
    "gens = range(3, 5+1)\n",
    "gens_var_plot, gens_obj_plot = opt_run.plotGens(gens)"
   ]
  },
  {
   "cell_type": "code",
   "execution_count": 28,
   "id": "39ea6336",
   "metadata": {},
   "outputs": [
    {
     "name": "stderr",
     "output_type": "stream",
     "text": [
      "/home/ydubief/.local/lib/python3.8/site-packages/pymoo/core/plot.py:94: RuntimeWarning: More than 20 figures have been opened. Figures created through the pyplot interface (`matplotlib.pyplot.figure`) are retained until explicitly closed and may consume too much memory. (To control this warning, see the rcParam `figure.max_open_warning`).\n",
      "  self.fig, self.ax = plt.subplots(nrows=n_rows, ncols=n_cols, figsize=self.figsize)\n"
     ]
    }
   ],
   "source": [
    "gens = range(5, 7+1)\n",
    "gens_var_plot, gens_obj_plot = opt_run.plotGens(gens)"
   ]
  },
  {
   "cell_type": "markdown",
   "id": "debb122b",
   "metadata": {},
   "source": [
    "### Extract Data "
   ]
  },
  {
   "cell_type": "code",
   "execution_count": null,
   "id": "2328b12b",
   "metadata": {},
   "outputs": [],
   "source": [
    "checkpoint = opt_run.algorithm"
   ]
  },
  {
   "cell_type": "code",
   "execution_count": null,
   "id": "e2fddb8e",
   "metadata": {},
   "outputs": [],
   "source": [
    "# is the full history of the algorithm saved? \n",
    "print('Checkpoint Objective Population:\\n', checkpoint.pop.get('F')[:5])\n",
    "if np.all(checkpoint.pop.get('F')) is not None: \n",
    "    algorithm = checkpoint\n",
    "    print('Checkpoint @ end of generation')\n",
    "    print(f'     Generation - {algorithm.n_gen}, {algorithm.callback.gen}')\n",
    "else:\n",
    "    print('Checkpoint mid-generation')\n",
    "    print('     \"algorithm\" variable represents last completed generation')\n",
    "    print('     \"algorithm.callback\" unusable with history objects')\n",
    "    algorithm = checkpoint.history[-1]\n",
    "    print(f'     Generation - {algorithm.n_gen}, {algorithm.callback.gen}')"
   ]
  },
  {
   "cell_type": "markdown",
   "id": "399e81e0",
   "metadata": {},
   "source": [
    "# Preperation for Continuation"
   ]
  },
  {
   "cell_type": "code",
   "execution_count": null,
   "id": "d5e05f67",
   "metadata": {},
   "outputs": [],
   "source": [
    "pprint(opt_run.algorithm.termination.__dict__)\n",
    "opt_run.algorithm.termination"
   ]
  },
  {
   "cell_type": "code",
   "execution_count": null,
   "id": "3bfad04f",
   "metadata": {},
   "outputs": [],
   "source": [
    "from pymoo.factory import get_termination\n",
    "term = get_termination('n_gen', 30)\n",
    "print(term)"
   ]
  },
  {
   "cell_type": "code",
   "execution_count": 32,
   "id": "20d14aa3",
   "metadata": {},
   "outputs": [],
   "source": [
    "# opt_run.algorithm.termination = term\n",
    "# opt_run.save_self()"
   ]
  },
  {
   "cell_type": "code",
   "execution_count": null,
   "id": "42c61ed3",
   "metadata": {},
   "outputs": [],
   "source": [
    "opt_run.algorithm.n_offsprings"
   ]
  },
  {
   "cell_type": "code",
   "execution_count": null,
   "id": "4b405c54",
   "metadata": {},
   "outputs": [],
   "source": [
    "opt_run.algorithm.n_gen"
   ]
  },
  {
   "cell_type": "code",
   "execution_count": null,
   "id": "8a7d1438",
   "metadata": {},
   "outputs": [],
   "source": [
    "opt_run.algorithm.pop_size"
   ]
  },
  {
   "cell_type": "code",
   "execution_count": null,
   "id": "b218a864",
   "metadata": {},
   "outputs": [],
   "source": []
  }
 ],
 "metadata": {
  "kernelspec": {
   "display_name": "Python 3 (ipykernel)",
   "language": "python",
   "name": "python3"
  },
  "language_info": {
   "codemirror_mode": {
    "name": "ipython",
    "version": 3
   },
   "file_extension": ".py",
   "mimetype": "text/x-python",
   "name": "python",
   "nbconvert_exporter": "python",
   "pygments_lexer": "ipython3",
   "version": "3.8.10"
  }
 },
 "nbformat": 4,
 "nbformat_minor": 5
}
