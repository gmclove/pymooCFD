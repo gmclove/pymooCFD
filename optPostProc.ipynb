{
 "cells": [
  {
   "cell_type": "markdown",
   "id": "504ca757",
   "metadata": {},
   "source": [
    "### Imports"
   ]
  },
  {
   "cell_type": "code",
   "execution_count": 1,
   "id": "dd4cf939",
   "metadata": {},
   "outputs": [],
   "source": [
    "import os\n",
    "import numpy as np\n",
    "import matplotlib.pyplot as plt\n",
    "from pprint import pprint"
   ]
  },
  {
   "cell_type": "code",
   "execution_count": 2,
   "id": "09fa1559",
   "metadata": {},
   "outputs": [],
   "source": [
    "%matplotlib inline \n",
    "plt.set_loglevel(\"info\")"
   ]
  },
  {
   "cell_type": "code",
   "execution_count": 3,
   "id": "807f1e85",
   "metadata": {},
   "outputs": [],
   "source": [
    "from pymoo.visualization.scatter import Scatter"
   ]
  },
  {
   "cell_type": "code",
   "execution_count": 4,
   "id": "80cb42ab",
   "metadata": {
    "scrolled": true
   },
   "outputs": [
    {
     "name": "stderr",
     "output_type": "stream",
     "text": [
      "2022-03-29 19:51:24,342 :: INFO     :: root :: ~~~~~~~~~~~~~~~~~~~~~~~~~~~~~~\n",
      "2022-03-29 19:51:24,344 :: INFO     :: root :: NEW RUN\n",
      "2022-03-29 19:51:24,344 :: INFO     :: root :: OPTIMIZATION STUDY - oscCylX2-v2\n",
      "2022-03-29 19:51:24,345 :: INFO     :: root :: \tData Directory: optStudy-oscCylX2-v2\n",
      "2022-03-29 19:51:24,346 :: INFO     :: root :: \tCheckpoint Path: optStudy-oscCylX2-v2/oscCylX2-v2-CP\n",
      "2022-03-29 19:51:24,349 :: INFO     :: root :: \tCHECKPOINT LOADED: optStudy-oscCylX2-v2/oscCylX2-v2-CP.npy\n",
      "2022-03-29 19:51:24,349 :: DEBUG    :: root :: \tRESTART DICTONARY\n",
      "2022-03-29 19:51:24,350 :: DEBUG    :: root :: \t\toptName: oscCylX2-v2\n",
      "2022-03-29 19:51:24,351 :: DEBUG    :: root :: \t\tlogger: <RootLogger root (DEBUG)>\n",
      "2022-03-29 19:51:24,352 :: DEBUG    :: root :: \t\toptDatDir: optStudy-oscCylX2-v2\n",
      "2022-03-29 19:51:24,352 :: DEBUG    :: root :: \t\tCP_path: optStudy-oscCylX2-v2/oscCylX2-v2-CP\n",
      "2022-03-29 19:51:24,353 :: DEBUG    :: root :: \tCHECKPOINT DICTONARY\n",
      "2022-03-29 19:51:24,353 :: DEBUG    :: root :: \t\toptName: oscCylX2-v2\n",
      "2022-03-29 19:51:24,354 :: DEBUG    :: root :: \t\tlogger: <RootLogger root (DEBUG)>\n",
      "2022-03-29 19:51:24,355 :: DEBUG    :: root :: \t\toptDatDir: optStudy-oscCylX2-v2\n",
      "2022-03-29 19:51:24,356 :: DEBUG    :: root :: \t\tCP_path: optStudy-oscCylX2-v2/oscCylX2-v2-CP\n",
      "2022-03-29 19:51:24,356 :: DEBUG    :: root :: \t\tproblem: # name: GA_CFD\n",
      "2022-03-29 19:51:24,356 :: DEBUG    :: root :: # n_var: 2\n",
      "2022-03-29 19:51:24,356 :: DEBUG    :: root :: # n_obj: 2\n",
      "2022-03-29 19:51:24,356 :: DEBUG    :: root :: # n_constr: 0\n",
      "2022-03-29 19:51:24,356 :: DEBUG    :: root :: \n",
      "2022-03-29 19:51:24,357 :: DEBUG    :: root :: \t\talgorithm: <pymoo.algorithms.moo.nsga2.NSGA2 object at 0x7f97af0bc760>\n",
      "2022-03-29 19:51:24,358 :: DEBUG    :: root :: \t\tBaseCase: <class 'pymooCFD.studies.oscillCyl_x2.OscillCylinder'>\n",
      "2022-03-29 19:51:24,358 :: DEBUG    :: root :: \t\t_runDir: optStudy-oscCylX2-v2/run\n",
      "2022-03-29 19:51:24,359 :: DEBUG    :: root :: \t\tn_opt: 20\n",
      "2022-03-29 19:51:24,360 :: DEBUG    :: root :: \t\tgen1Pop: [<pymooCFD.studies.oscillCyl_x2.OscillCylinder object at 0x7f97af0c9400>, <pymooCFD.studies.oscillCyl_x2.OscillCylinder object at 0x7f97af0c9910>, <pymooCFD.studies.oscillCyl_x2.OscillCylinder object at 0x7f97af0c9af0>, <pymooCFD.studies.oscillCyl_x2.OscillCylinder object at 0x7f97af0c9d00>, <pymooCFD.studies.oscillCyl_x2.OscillCylinder object at 0x7f97af0c9fa0>, <pymooCFD.studies.oscillCyl_x2.OscillCylinder object at 0x7f97af0cf160>, <pymooCFD.studies.oscillCyl_x2.OscillCylinder object at 0x7f97af0cf370>, <pymooCFD.studies.oscillCyl_x2.OscillCylinder object at 0x7f97af0cf580>, <pymooCFD.studies.oscillCyl_x2.OscillCylinder object at 0x7f97af0cf790>, <pymooCFD.studies.oscillCyl_x2.OscillCylinder object at 0x7f97af0cf9a0>, <pymooCFD.studies.oscillCyl_x2.OscillCylinder object at 0x7f97af0cfbb0>, <pymooCFD.studies.oscillCyl_x2.OscillCylinder object at 0x7f97af0cfdc0>, <pymooCFD.studies.oscillCyl_x2.OscillCylinder object at 0x7f97af0d1040>, <pymooCFD.studies.oscillCyl_x2.OscillCylinder object at 0x7f97af0d1250>, <pymooCFD.studies.oscillCyl_x2.OscillCylinder object at 0x7f97af0d1460>, <pymooCFD.studies.oscillCyl_x2.OscillCylinder object at 0x7f97af0d16a0>, <pymooCFD.studies.oscillCyl_x2.OscillCylinder object at 0x7f97af0d18e0>, <pymooCFD.studies.oscillCyl_x2.OscillCylinder object at 0x7f97af0d1af0>, <pymooCFD.studies.oscillCyl_x2.OscillCylinder object at 0x7f97af0d1640>, <pymooCFD.studies.oscillCyl_x2.OscillCylinder object at 0x7f97af0d1f40>, <pymooCFD.studies.oscillCyl_x2.OscillCylinder object at 0x7f97af0d8190>, <pymooCFD.studies.oscillCyl_x2.OscillCylinder object at 0x7f97af0d83d0>, <pymooCFD.studies.oscillCyl_x2.OscillCylinder object at 0x7f97af0d85b0>, <pymooCFD.studies.oscillCyl_x2.OscillCylinder object at 0x7f97af0d87c0>, <pymooCFD.studies.oscillCyl_x2.OscillCylinder object at 0x7f97af0d89a0>, <pymooCFD.studies.oscillCyl_x2.OscillCylinder object at 0x7f97af0d8bb0>, <pymooCFD.studies.oscillCyl_x2.OscillCylinder object at 0x7f97af0d8e20>, <pymooCFD.studies.oscillCyl_x2.OscillCylinder object at 0x7f97af0d8d30>, <pymooCFD.studies.oscillCyl_x2.OscillCylinder object at 0x7f97af0de1f0>, <pymooCFD.studies.oscillCyl_x2.OscillCylinder object at 0x7f97af0de400>, <pymooCFD.studies.oscillCyl_x2.OscillCylinder object at 0x7f97af0de610>, <pymooCFD.studies.oscillCyl_x2.OscillCylinder object at 0x7f97af0de820>, <pymooCFD.studies.oscillCyl_x2.OscillCylinder object at 0x7f97af0dea60>, <pymooCFD.studies.oscillCyl_x2.OscillCylinder object at 0x7f97af0dec40>, <pymooCFD.studies.oscillCyl_x2.OscillCylinder object at 0x7f97af0deeb0>, <pymooCFD.studies.oscillCyl_x2.OscillCylinder object at 0x7f97af0e10a0>, <pymooCFD.studies.oscillCyl_x2.OscillCylinder object at 0x7f97af0e12e0>, <pymooCFD.studies.oscillCyl_x2.OscillCylinder object at 0x7f97af0e1520>, <pymooCFD.studies.oscillCyl_x2.OscillCylinder object at 0x7f97af0e1760>, <pymooCFD.studies.oscillCyl_x2.OscillCylinder object at 0x7f97af0e1970>, <pymooCFD.studies.oscillCyl_x2.OscillCylinder object at 0x7f97af0e1b80>, <pymooCFD.studies.oscillCyl_x2.OscillCylinder object at 0x7f97af0e1d60>, <pymooCFD.studies.oscillCyl_x2.OscillCylinder object at 0x7f97af0e1f70>, <pymooCFD.studies.oscillCyl_x2.OscillCylinder object at 0x7f97af0e7160>, <pymooCFD.studies.oscillCyl_x2.OscillCylinder object at 0x7f97af0e7370>, <pymooCFD.studies.oscillCyl_x2.OscillCylinder object at 0x7f97af0e75b0>, <pymooCFD.studies.oscillCyl_x2.OscillCylinder object at 0x7f97af0e7790>, <pymooCFD.studies.oscillCyl_x2.OscillCylinder object at 0x7f97af0e79d0>, <pymooCFD.studies.oscillCyl_x2.OscillCylinder object at 0x7f97af0e7bb0>, <pymooCFD.studies.oscillCyl_x2.OscillCylinder object at 0x7f97af0e7dc0>]\n",
      "2022-03-29 19:51:24,360 :: DEBUG    :: root :: \t\tcornerCases: None\n",
      "2022-03-29 19:51:24,361 :: DEBUG    :: root :: \t\tbndCases: [<pymooCFD.studies.oscillCyl_x2.OscillCylinder object at 0x7f97af0e7fd0>, <pymooCFD.studies.oscillCyl_x2.OscillCylinder object at 0x7f97af0e8220>, <pymooCFD.studies.oscillCyl_x2.OscillCylinder object at 0x7f97af0e8370>, <pymooCFD.studies.oscillCyl_x2.OscillCylinder object at 0x7f97af0e8520>]\n",
      "2022-03-29 19:51:24,362 :: DEBUG    :: root :: \t\ttestCase: Directory: optStudy-oscCylX2-v2/run/test_case | Parameters: [2.05 0.55]\n",
      "2022-03-29 19:51:24,363 :: DEBUG    :: root :: \tOPTIMIZATION ALGORITHM DICTONARY:\n",
      "2022-03-29 19:51:24,364 :: DEBUG    :: root :: \t\ttermination: <pymoo.util.termination.max_gen.MaximumGenerationTermination object at 0x7f97af0bc880>\n",
      "2022-03-29 19:51:24,364 :: DEBUG    :: root :: \t\tdisplay: <pymooCFD.studies.oscillCyl_x2.MyDisplay object at 0x7f97af0bc940>\n",
      "2022-03-29 19:51:24,365 :: DEBUG    :: root :: \t\tcallback: <pymooCFD.studies.oscillCyl_x2.MyCallback object at 0x7f97af0bca00>\n",
      "2022-03-29 19:51:24,365 :: DEBUG    :: root :: \t\tproblem: # name: GA_CFD\n",
      "2022-03-29 19:51:24,365 :: DEBUG    :: root :: # n_var: 2\n",
      "2022-03-29 19:51:24,365 :: DEBUG    :: root :: # n_obj: 2\n",
      "2022-03-29 19:51:24,365 :: DEBUG    :: root :: # n_constr: 0\n",
      "2022-03-29 19:51:24,365 :: DEBUG    :: root :: \n",
      "2022-03-29 19:51:24,367 :: DEBUG    :: root :: \t\treturn_least_infeasible: True\n",
      "2022-03-29 19:51:24,367 :: DEBUG    :: root :: \t\tsave_history: True\n",
      "2022-03-29 19:51:24,368 :: DEBUG    :: root :: \t\tverbose: True\n",
      "2022-03-29 19:51:24,368 :: DEBUG    :: root :: \t\tseed: 1\n",
      "2022-03-29 19:51:24,369 :: DEBUG    :: root :: \t\tdefault_termination: <pymoo.util.termination.default.MultiObjectiveDefaultTermination object at 0x7f97af0bcac0>\n",
      "2022-03-29 19:51:24,370 :: DEBUG    :: root :: \t\thas_terminated: False\n",
      "2022-03-29 19:51:24,370 :: DEBUG    :: root :: \t\tpf: True\n",
      "2022-03-29 19:51:24,371 :: DEBUG    :: root :: \t\tevaluator: <pymoo.core.evaluator.Evaluator object at 0x7f97af0bcbe0>\n",
      "2022-03-29 19:51:24,371 :: DEBUG    :: root :: \t\tn_gen: None\n",
      "2022-03-29 19:51:24,372 :: DEBUG    :: root :: \t\thistory: None\n",
      "2022-03-29 19:51:24,372 :: DEBUG    :: root :: \t\tpop: None\n",
      "2022-03-29 19:51:24,375 :: DEBUG    :: root :: \t\toff: None\n",
      "2022-03-29 19:51:24,375 :: DEBUG    :: root :: \t\topt: None\n",
      "2022-03-29 19:51:24,376 :: DEBUG    :: root :: \t\tdata: {}\n",
      "2022-03-29 19:51:24,376 :: DEBUG    :: root :: \t\tis_initialized: False\n",
      "2022-03-29 19:51:24,377 :: DEBUG    :: root :: \t\tstart_time: None\n",
      "2022-03-29 19:51:24,378 :: DEBUG    :: root :: \t\tpop_size: 50\n"
     ]
    },
    {
     "name": "stderr",
     "output_type": "stream",
     "text": [
      "2022-03-29 19:51:24,378 :: DEBUG    :: root :: \t\tadvance_after_initial_infill: True\n",
      "2022-03-29 19:51:24,379 :: DEBUG    :: root :: \t\tsurvival: <pymoo.algorithms.moo.nsga2.RankAndCrowdingSurvival object at 0x7f97af0bcf70>\n",
      "2022-03-29 19:51:24,379 :: DEBUG    :: root :: \t\tn_offsprings: 16\n",
      "2022-03-29 19:51:24,381 :: DEBUG    :: root :: \t\teliminate_duplicates: <pymoo.core.duplicate.NoDuplicateElimination object at 0x7f97af0c9070>\n",
      "2022-03-29 19:51:24,381 :: DEBUG    :: root :: \t\trepair: <pymoo.core.repair.NoRepair object at 0x7f97af0c90d0>\n",
      "2022-03-29 19:51:24,382 :: DEBUG    :: root :: \t\tinitialization: <pymoo.core.initialization.Initialization object at 0x7f97af0c9100>\n",
      "2022-03-29 19:51:24,383 :: DEBUG    :: root :: \t\tmating: <pymoo.core.mating.Mating object at 0x7f97af0c9250>\n",
      "2022-03-29 19:51:24,383 :: DEBUG    :: root :: \t\ttournament_type: comp_by_dom_and_crowding\n",
      "2022-03-29 19:51:24,384 :: INFO     :: root :: RESTARTED FROM CHECKPOINT\n"
     ]
    }
   ],
   "source": [
    "# from setupOpt import optStudy\n",
    "# from pymooCFD.studies.oscillCyl_soo import optStudy\n",
    "#from pymooCFD.studies.compDistOpt_x2 import optStudy\n",
    "#from pymooCFD.studies.oscillCyl_x2 import optStudy\n",
    "from pymooCFD.studies.oscillCyl_x2 import optStudy\n",
    "# from pymooCFD.studies.compDistOpt_x2 import optStudy"
   ]
  },
  {
   "cell_type": "code",
   "execution_count": 5,
   "id": "470a520f",
   "metadata": {},
   "outputs": [],
   "source": [
    "from pymooCFD.studies.oscillCyl_x2 import optStudy, BaseCase\n",
    "optStudy.BaseCase = BaseCase"
   ]
  },
  {
   "cell_type": "code",
   "execution_count": 6,
   "id": "ce85a4b5",
   "metadata": {},
   "outputs": [
    {
     "name": "stderr",
     "output_type": "stream",
     "text": [
      "2022-03-29 19:51:24,395 :: INFO     :: root :: INITIALIZING NEW OPTIMIZATION AlGORITHM\n",
      "2022-03-29 19:51:24,396 :: INFO     :: root :: SAVING CHECKPOINT - GENERATION 1\n",
      "2022-03-29 19:51:24,398 :: ERROR    :: pymooCFD.core.cfdCase.optStudy-oscCylX2-v2/run/test_case :: [Errno 2] No such file or directory: 'optStudy-oscCylX2-v2/run/test_case/case.npy'\n",
      "2022-03-29 19:51:24,400 :: DEBUG    :: root :: No Corner Cases to Save Checkpoints for\n",
      "2022-03-29 19:51:24,401 :: INFO     :: root :: SAVING CHECKPOINT - GENERATION 1\n",
      "2022-03-29 19:51:24,403 :: ERROR    :: pymooCFD.core.cfdCase.optStudy-oscCylX2-v2/run/test_case :: [Errno 2] No such file or directory: 'optStudy-oscCylX2-v2/run/test_case/case.npy'\n",
      "2022-03-29 19:51:24,405 :: DEBUG    :: root :: No Corner Cases to Save Checkpoints for\n"
     ]
    }
   ],
   "source": [
    "\n",
    "optStudy.problem.xu = np.array([6, 1])\n",
    "# optStudy.newProb()\n",
    "optStudy.newAlg()\n",
    "from pymooCFD.util.handleData import saveObj\n",
    "\n",
    "optStudy.saveCP()\n"
   ]
  },
  {
   "cell_type": "code",
   "execution_count": 7,
   "id": "32d3433c",
   "metadata": {},
   "outputs": [],
   "source": [
    "optStudy.algorithm.problem.xu = np.array([6, 1])"
   ]
  },
  {
   "cell_type": "code",
   "execution_count": 8,
   "id": "1922a48d",
   "metadata": {},
   "outputs": [],
   "source": [
    "# optStudy.algorithm.evaluator.__dict__"
   ]
  },
  {
   "cell_type": "code",
   "execution_count": 9,
   "id": "1d63dc9d",
   "metadata": {},
   "outputs": [],
   "source": [
    "optStudy.algorithm.history"
   ]
  },
  {
   "cell_type": "code",
   "execution_count": 10,
   "id": "ad4fe77a",
   "metadata": {},
   "outputs": [
    {
     "name": "stdout",
     "output_type": "stream",
     "text": [
      "['BaseCase' 'CP_path' '__class__' '__delattr__' '__dict__' '__dir__'\n",
      " '__doc__' '__eq__' '__format__' '__ge__' '__getattribute__' '__gt__'\n",
      " '__hash__' '__init__' '__init_subclass__' '__le__' '__lt__' '__module__'\n",
      " '__ne__' '__new__' '__reduce__' '__reduce_ex__' '__repr__' '__setattr__'\n",
      " '__sizeof__' '__slotnames__' '__str__' '__subclasshook__' '__weakref__'\n",
      " '_execPop' '_meshStudy' '_postProc' '_preProc' '_runDir' 'algorithm'\n",
      " 'appendMeshSFs' 'archiveDir' 'bndCases' 'checkCPs' 'cornerCases'\n",
      " 'execGen1' 'gen1Pop' 'genBndCases' 'genCases' 'genCornerCases'\n",
      " 'genTestCase' 'getBndPts' 'getLimPerms' 'getLogger' 'getPointLabel'\n",
      " 'initAlg' 'loadCP' 'loadCases' 'logger' 'mapDir' 'meshStudy' 'n_opt'\n",
      " 'newAlg' 'newProb' 'normalize' 'optDatDir' 'optName' 'pfDir' 'plotBndPts'\n",
      " 'plotBndPtsObj' 'plotDir' 'plotOptSpaces' 'problem' 'run' 'runBndCases'\n",
      " 'runCornerCases' 'runDir' 'runGen' 'runGen1' 'runTestCase' 'saveCP'\n",
      " 'testCase']\n"
     ]
    }
   ],
   "source": [
    "print(np.array(dir(optStudy)))"
   ]
  },
  {
   "cell_type": "code",
   "execution_count": 11,
   "id": "8c1f2a1a",
   "metadata": {},
   "outputs": [],
   "source": [
    "# optStudy, = np.load('optStudy-oscCylX2-v2/oscCylX2-v2-CP.npy', allow_pickle=True).flatten()"
   ]
  },
  {
   "cell_type": "code",
   "execution_count": 12,
   "id": "213c1e01",
   "metadata": {},
   "outputs": [],
   "source": [
    "# noOscillCase.plotMeshStudy()"
   ]
  },
  {
   "cell_type": "code",
   "execution_count": 13,
   "id": "b38b2b6f",
   "metadata": {},
   "outputs": [],
   "source": [
    "# optStudy.plotDir = os.path.join(optStudy.optDatDir, 'run', 'plots')\n",
    "# optStudy.saveCP()"
   ]
  },
  {
   "cell_type": "code",
   "execution_count": 14,
   "id": "7b12eb96",
   "metadata": {},
   "outputs": [],
   "source": [
    "# optStudy.testCase.cpPath = os.path.join(optStudy.testCase.caseDir, 'case.npy')\n",
    "# optStudy.saveCP()"
   ]
  },
  {
   "cell_type": "code",
   "execution_count": 15,
   "id": "55be6d23",
   "metadata": {},
   "outputs": [],
   "source": [
    "# for case in optStudy.bndCases:\n",
    "# #     _, tail = os.path.split(case.caseDir)\n",
    "# #     print(tail)\n",
    "# #     case.caseDir = os.path.join('optStudy-OscillCylinderOpt/run/boundary-cases', tail)\n",
    "#     print(case.caseDir)\n",
    "#     case.msCases = None\n",
    "# #     case.cpPath = os.path.join(case.caseDir, 'case.npy')\n",
    "# #     print(case.cpPath)\n",
    "# optStudy.saveCP()"
   ]
  },
  {
   "cell_type": "code",
   "execution_count": 16,
   "id": "9b995958",
   "metadata": {},
   "outputs": [],
   "source": [
    "# meshSFs = np.append(np.around(np.arange(0.3, 1.6, 0.1), decimals=2), [0.25, 0.35, 0.45])\n",
    "# print(meshSFs)\n",
    "# for case in optStudy.bndCases:\n",
    "#     case._meshSFs = meshSFs\n",
    "# for case in optStudy.gen1Pop:\n",
    "#     case._meshSFs = meshSFs\n",
    "# optStudy.testCase._meshSFs = meshSFs\n",
    "# optStudy.saveCP()"
   ]
  },
  {
   "cell_type": "markdown",
   "id": "3ee0c08f",
   "metadata": {},
   "source": [
    "### Check Out Data Generated"
   ]
  },
  {
   "cell_type": "code",
   "execution_count": 17,
   "id": "94cc6fa0",
   "metadata": {},
   "outputs": [],
   "source": [
    "# datPath = 'optStudy-oscCylX2-v2/run/test_case/meshStudy/meshSF-1.0/FORCES_temporal.txt'\n",
    "\n",
    "# # Re = 100\n",
    "# rho = 1\n",
    "# D = 1  # [m] cylinder diameter\n",
    "# U = 1\n",
    "# # kin_visc = U * D / Re\n",
    "# data = np.genfromtxt(datPath, skip_header=1)\n",
    "# # collect data after 100 seconds of simulation time\n",
    "# mask = np.where(data[:, 3] > 100)\n",
    "# # Surface integrals of Cp and Cf\n",
    "# # DRAG: x-direction integrals\n",
    "# F_P1, = data[mask, 4]\n",
    "# F_S1, = data[mask, 6]\n",
    "# F_drag = np.mean(F_P1 - F_S1)\n",
    "# C_drag = F_drag / ((1 / 2) * rho * U**2 * D**2)\n",
    "# # C_Lift\n",
    "# F_P2, = data[mask, 5]\n",
    "# F_S2, = data[mask, 7]\n",
    "# F_lift = np.mean(F_P2 - F_S2)\n",
    "# C_lift = F_lift / ((1 / 2) * rho * U**2 * D**2)\n",
    "\n",
    "# F_L_array = F_P2 - F_S2\n",
    "# C_L_array = F_L_array / ((1 / 2) * rho * U**2 * D**2)\n",
    "\n",
    "# t, = data[mask, 3]"
   ]
  },
  {
   "cell_type": "code",
   "execution_count": 18,
   "id": "6e7b98d4",
   "metadata": {},
   "outputs": [],
   "source": [
    "# print(t.shape)\n",
    "# print(C_L_array)\n",
    "# # print(F_P2.shape)\n",
    "# # print(F_S2.shape)\n",
    "# # print(F_lift.shape)\n",
    "# # print(C_lift.shape)\n",
    "# clip = 2000\n",
    "# plt.plot(C_L_array[:clip], t[:clip])\n",
    "# plt.show()"
   ]
  },
  {
   "cell_type": "code",
   "execution_count": 19,
   "id": "b60b0c7c",
   "metadata": {},
   "outputs": [],
   "source": [
    "# datPath = 'optStudy-oscCylX2-v2/run/test_case/meshStudy/meshSF-1.0/dump/pt1_U.dat'\n",
    "# # Re = 100\n",
    "# rho = 1\n",
    "# D = 1  # [m] cylinder diameter\n",
    "# U = 1\n",
    "# # kin_visc = U * D / Re\n",
    "# data = np.genfromtxt(datPath, skip_header=1)\n",
    "# # collect data after 100 seconds of simulation time\n",
    "# # print(data[:2, 1])\n",
    "# mask = np.where(data[:, 1] > 100)\n",
    "# t, = data[mask, 1]\n",
    "# u_y, = data[mask, 7]\n",
    "# print(u_y[:10])"
   ]
  },
  {
   "cell_type": "code",
   "execution_count": 20,
   "id": "aeffc400",
   "metadata": {},
   "outputs": [],
   "source": [
    "# dt_array = []\n",
    "# for i in range(len(t)-1):\n",
    "#     dt_array.append(t[i+1]-t[i])\n",
    "# dt = np.mean(dt_array)\n",
    "# print(dt)"
   ]
  },
  {
   "cell_type": "code",
   "execution_count": 21,
   "id": "0a5b2ed8",
   "metadata": {},
   "outputs": [],
   "source": [
    "# # from __future__ import division\n",
    "# import numpy as np\n",
    "# import matplotlib.pyplot as plt\n",
    "\n",
    "# # data = np.random.rand(301) - 0.5\n",
    "# ps = np.abs(np.fft.fft(u_y))**2\n",
    "\n",
    "# time_step = dt\n",
    "# freqs = np.fft.fftfreq(u_y.size, time_step)\n",
    "# idx = np.argsort(freqs)\n",
    "# freqs = freqs[idx]\n",
    "# ps = ps[idx]\n",
    "# start_i = 700\n",
    "# end_i = 730\n",
    "# plt.plot(freqs[start_i:end_i], ps[start_i:end_i])\n",
    "# plt.show()\n",
    "# print(max(ps))\n",
    "# print(freqs[np.argmax(ps)])"
   ]
  },
  {
   "cell_type": "code",
   "execution_count": null,
   "id": "6e17ef66",
   "metadata": {},
   "outputs": [],
   "source": []
  },
  {
   "cell_type": "code",
   "execution_count": 22,
   "id": "3475ac1a",
   "metadata": {},
   "outputs": [],
   "source": [
    "# clip = 100\n",
    "# plt.plot(u_y[:clip], t[:clip])\n",
    "# plt.show()"
   ]
  },
  {
   "cell_type": "code",
   "execution_count": 23,
   "id": "e6465a98",
   "metadata": {},
   "outputs": [],
   "source": [
    "# datPath = 'no_osc_case/dump/pt1_U.dat'\n",
    "# # Re = 100\n",
    "# rho = 1\n",
    "# D = 1  # [m] cylinder diameter\n",
    "# U = 1\n",
    "# # kin_visc = U * D / Re\n",
    "# data = np.genfromtxt(datPath, skip_header=1)\n",
    "# # collect data after 100 seconds of simulation time\n",
    "# # print(data[:2, 1])\n",
    "# mask = np.where(data[:, 1] > 100)\n",
    "# t, = data[mask, 1]\n",
    "# u_y, = data[mask, 7]\n",
    "# print(u_y[:10])"
   ]
  },
  {
   "cell_type": "code",
   "execution_count": 24,
   "id": "87e29713",
   "metadata": {},
   "outputs": [],
   "source": [
    "# # from __future__ import division\n",
    "# import numpy as np\n",
    "# import matplotlib.pyplot as plt\n",
    "\n",
    "# # data = np.random.rand(301) - 0.5\n",
    "# ps = np.abs(np.fft.fft(u_y))**2\n",
    "\n",
    "# time_step = dt\n",
    "# freqs = np.fft.fftfreq(u_y.size, time_step)\n",
    "# idx = np.argsort(freqs)\n",
    "# freqs = freqs[idx]\n",
    "# ps = ps[idx]\n",
    "# start_i = 700\n",
    "# end_i = 750\n",
    "# plt.plot(freqs[start_i:end_i], ps[start_i:end_i])\n",
    "# plt.show()\n",
    "# print(max(ps))\n",
    "# print(freqs[np.argmax(ps)])"
   ]
  },
  {
   "cell_type": "code",
   "execution_count": null,
   "id": "c4f6fa07",
   "metadata": {},
   "outputs": [],
   "source": []
  },
  {
   "cell_type": "code",
   "execution_count": 25,
   "id": "8fff7d69",
   "metadata": {},
   "outputs": [],
   "source": [
    "# ind14, = np.load('optStudy-OscCylX3/run/gen1/ind14/case.npy', allow_pickle=True).flatten()"
   ]
  },
  {
   "cell_type": "code",
   "execution_count": 26,
   "id": "4136e3b5",
   "metadata": {},
   "outputs": [],
   "source": [
    "# print(ind14)"
   ]
  },
  {
   "cell_type": "code",
   "execution_count": 27,
   "id": "af96edf4",
   "metadata": {},
   "outputs": [],
   "source": [
    "# ind14.f"
   ]
  },
  {
   "cell_type": "code",
   "execution_count": 28,
   "id": "36dcdf33",
   "metadata": {},
   "outputs": [],
   "source": [
    "# ind14.postProc()"
   ]
  },
  {
   "cell_type": "code",
   "execution_count": null,
   "id": "b9400bfc",
   "metadata": {},
   "outputs": [],
   "source": []
  },
  {
   "cell_type": "code",
   "execution_count": 29,
   "id": "550256c7",
   "metadata": {
    "scrolled": true
   },
   "outputs": [],
   "source": [
    "# pprint(optStudy.__dict__)"
   ]
  },
  {
   "cell_type": "code",
   "execution_count": 30,
   "id": "03ab80b2",
   "metadata": {},
   "outputs": [],
   "source": [
    "# pprint(optStudy.algorithm.__dict__)"
   ]
  },
  {
   "cell_type": "code",
   "execution_count": 31,
   "id": "98775d52",
   "metadata": {},
   "outputs": [],
   "source": [
    "# pprint(optStudy.problem.__dict__)"
   ]
  },
  {
   "cell_type": "code",
   "execution_count": 32,
   "id": "1275828b",
   "metadata": {},
   "outputs": [],
   "source": [
    "# for key in optStudy.__dict__:\n",
    "#     pprint(\"{0:15} : {1}\".format(key, optStudy.__dict__[key])) #str(optStudy.__dict__[key]).replace('\\n', '\\n\\t\\t  ')))"
   ]
  },
  {
   "cell_type": "code",
   "execution_count": 33,
   "id": "06a251c0",
   "metadata": {},
   "outputs": [],
   "source": [
    "# for key in optStudy.__dict__:\n",
    "#     val = str(optStudy.__dict__[key]).replace('\\n', '\\n\\t\\t')\n",
    "#     pprint(\"{0:15} : {1}\".format(key, val))"
   ]
  },
  {
   "cell_type": "markdown",
   "id": "84128e77",
   "metadata": {},
   "source": [
    "# Pre-Process Optimization Study"
   ]
  },
  {
   "cell_type": "markdown",
   "id": "fb6c97f3",
   "metadata": {},
   "source": [
    "### Test Case"
   ]
  },
  {
   "cell_type": "code",
   "execution_count": 34,
   "id": "731f7c6c",
   "metadata": {},
   "outputs": [
    {
     "name": "stdout",
     "output_type": "stream",
     "text": [
      "Directory: optStudy-oscCylX2-v2/run/test_case | Parameters: [2.05 0.55]\n"
     ]
    },
    {
     "data": {
      "text/plain": [
       "<pymooCFD.studies.oscillCyl_x2.OscillCylinder at 0x7f97af0e8670>"
      ]
     },
     "execution_count": 34,
     "metadata": {},
     "output_type": "execute_result"
    }
   ],
   "source": [
    "print(optStudy.testCase)\n",
    "optStudy.testCase"
   ]
  },
  {
   "cell_type": "code",
   "execution_count": 35,
   "id": "2f971fc3",
   "metadata": {},
   "outputs": [],
   "source": [
    "# pprint(optStudy.testCase.__dict__)"
   ]
  },
  {
   "cell_type": "code",
   "execution_count": 36,
   "id": "00a5430c",
   "metadata": {},
   "outputs": [
    {
     "name": "stdout",
     "output_type": "stream",
     "text": [
      "[<pymooCFD.studies.oscillCyl_x2.OscillCylinder object at 0x7f97af0e8760>, <pymooCFD.studies.oscillCyl_x2.OscillCylinder object at 0x7f97af0e8970>, <pymooCFD.studies.oscillCyl_x2.OscillCylinder object at 0x7f97af0e8b20>, <pymooCFD.studies.oscillCyl_x2.OscillCylinder object at 0x7f97af0e8cd0>, <pymooCFD.studies.oscillCyl_x2.OscillCylinder object at 0x7f97af0e8ee0>, <pymooCFD.studies.oscillCyl_x2.OscillCylinder object at 0x7f97aeff0130>, <pymooCFD.studies.oscillCyl_x2.OscillCylinder object at 0x7f97aeff0340>]\n"
     ]
    }
   ],
   "source": [
    "print(optStudy.testCase.msCases)"
   ]
  },
  {
   "cell_type": "code",
   "execution_count": 37,
   "id": "7831c364",
   "metadata": {},
   "outputs": [
    {
     "name": "stdout",
     "output_type": "stream",
     "text": [
      "{'_f': [-2.838674822305784, 0.0897516157000249],\n",
      " '_meshSF': None,\n",
      " '_meshSFs': None,\n",
      " '_x': array([2.05, 0.55]),\n",
      " 'caseDir': 'optStudy-oscCylX2-v2/run/test_case/meshStudy/meshSF-1.0',\n",
      " 'datFile': 'FORCES_temporal.txt',\n",
      " 'inputFile': '2D_cylinder.in',\n",
      " 'jobFile': 'jobslurm.sh',\n",
      " 'logger': <Logger pymooCFD.core.cfdCase.optStudy-oscCylX2-v2/run/test_case/meshStudy/meshSF-1.0 (DEBUG)>,\n",
      " 'meshFile': '2D_cylinder.msh22',\n",
      " 'meshSF': 1.0,\n",
      " 'msCases': None,\n",
      " 'numElem': 122927,\n",
      " 'restart': True,\n",
      " 'solnTime': 2955.143393754959,\n",
      " 'wallTime': 2950}\n",
      "\n",
      "{'_f': [-2.944877730649398, 0.08825017591799135],\n",
      " '_meshSF': None,\n",
      " '_meshSFs': None,\n",
      " '_x': array([2.05, 0.55]),\n",
      " 'caseDir': 'optStudy-oscCylX2-v2/run/test_case/meshStudy/meshSF-1.3',\n",
      " 'datFile': 'FORCES_temporal.txt',\n",
      " 'inputFile': '2D_cylinder.in',\n",
      " 'jobFile': 'jobslurm.sh',\n",
      " 'logger': <Logger pymooCFD.core.cfdCase.optStudy-oscCylX2-v2/run/test_case/meshStudy/meshSF-1.3 (DEBUG)>,\n",
      " 'meshFile': '2D_cylinder.msh22',\n",
      " 'meshSF': 1.3,\n",
      " 'msCases': None,\n",
      " 'numElem': 113742,\n",
      " 'restart': True,\n",
      " 'solnTime': 2385.285280227661,\n",
      " 'wallTime': 2380}\n",
      "\n",
      "{'_f': [-3.2475927036772574, 0.08809875875700958],\n",
      " '_meshSF': None,\n",
      " '_meshSFs': None,\n",
      " '_x': array([2.05, 0.55]),\n",
      " 'caseDir': 'optStudy-oscCylX2-v2/run/test_case/meshStudy/meshSF-1.5',\n",
      " 'datFile': 'FORCES_temporal.txt',\n",
      " 'inputFile': '2D_cylinder.in',\n",
      " 'jobFile': 'jobslurm.sh',\n",
      " 'logger': <Logger pymooCFD.core.cfdCase.optStudy-oscCylX2-v2/run/test_case/meshStudy/meshSF-1.5 (DEBUG)>,\n",
      " 'meshFile': '2D_cylinder.msh22',\n",
      " 'meshSF': 1.5,\n",
      " 'msCases': None,\n",
      " 'numElem': 105805,\n",
      " 'restart': True,\n",
      " 'solnTime': 1892.1032989025116,\n",
      " 'wallTime': 1890}\n",
      "\n",
      "{'_f': [-3.6570267475450704, 0.08537445818262203],\n",
      " '_meshSF': None,\n",
      " '_meshSFs': None,\n",
      " '_x': array([2.05, 0.55]),\n",
      " 'caseDir': 'optStudy-oscCylX2-v2/run/test_case/meshStudy/meshSF-2.0',\n",
      " 'datFile': 'FORCES_temporal.txt',\n",
      " 'inputFile': '2D_cylinder.in',\n",
      " 'jobFile': 'jobslurm.sh',\n",
      " 'logger': <Logger pymooCFD.core.cfdCase.optStudy-oscCylX2-v2/run/test_case/meshStudy/meshSF-2.0 (DEBUG)>,\n",
      " 'meshFile': '2D_cylinder.msh22',\n",
      " 'meshSF': 2.0,\n",
      " 'msCases': None,\n",
      " 'numElem': 95279,\n",
      " 'restart': True,\n",
      " 'solnTime': 1279.4075911045074,\n",
      " 'wallTime': 1280}\n",
      "\n",
      "{'_f': [-4.60436571202417, 0.07966543560068289],\n",
      " '_meshSF': None,\n",
      " '_meshSFs': None,\n",
      " '_x': array([2.05, 0.55]),\n",
      " 'caseDir': 'optStudy-oscCylX2-v2/run/test_case/meshStudy/meshSF-3.0',\n",
      " 'datFile': 'FORCES_temporal.txt',\n",
      " 'inputFile': '2D_cylinder.in',\n",
      " 'jobFile': 'jobslurm.sh',\n",
      " 'logger': <Logger pymooCFD.core.cfdCase.optStudy-oscCylX2-v2/run/test_case/meshStudy/meshSF-3.0 (DEBUG)>,\n",
      " 'meshFile': '2D_cylinder.msh22',\n",
      " 'meshSF': 3.0,\n",
      " 'msCases': None,\n",
      " 'numElem': 82472,\n",
      " 'restart': True,\n",
      " 'solnTime': 758.848626613617,\n",
      " 'wallTime': 758}\n",
      "\n",
      "{'_f': [-5.523598577160395, 0.07407546342442878],\n",
      " '_meshSF': None,\n",
      " '_meshSFs': None,\n",
      " '_x': array([2.05, 0.55]),\n",
      " 'caseDir': 'optStudy-oscCylX2-v2/run/test_case/meshStudy/meshSF-4.0',\n",
      " 'datFile': 'FORCES_temporal.txt',\n",
      " 'inputFile': '2D_cylinder.in',\n",
      " 'jobFile': 'jobslurm.sh',\n",
      " 'logger': <Logger pymooCFD.core.cfdCase.optStudy-oscCylX2-v2/run/test_case/meshStudy/meshSF-4.0 (DEBUG)>,\n",
      " 'meshFile': '2D_cylinder.msh22',\n",
      " 'meshSF': 4.0,\n",
      " 'msCases': None,\n",
      " 'numElem': 74376,\n",
      " 'restart': True,\n",
      " 'solnTime': 528.0061511993408,\n",
      " 'wallTime': 528}\n",
      "\n",
      "{'_f': [-6.406634374286389, 0.06862425463246857],\n",
      " '_meshSF': None,\n",
      " '_meshSFs': None,\n",
      " '_x': array([2.05, 0.55]),\n",
      " 'caseDir': 'optStudy-oscCylX2-v2/run/test_case/meshStudy/meshSF-5.0',\n",
      " 'datFile': 'FORCES_temporal.txt',\n",
      " 'inputFile': '2D_cylinder.in',\n",
      " 'jobFile': 'jobslurm.sh',\n",
      " 'logger': <Logger pymooCFD.core.cfdCase.optStudy-oscCylX2-v2/run/test_case/meshStudy/meshSF-5.0 (DEBUG)>,\n",
      " 'meshFile': '2D_cylinder.msh22',\n",
      " 'meshSF': 5.0,\n",
      " 'msCases': None,\n",
      " 'numElem': 70188,\n",
      " 'restart': True,\n",
      " 'solnTime': 416.30503487586975,\n",
      " 'wallTime': 416}\n",
      "\n"
     ]
    }
   ],
   "source": [
    "if optStudy.testCase.msCases is None:\n",
    "    print('No Mesh Study Cases for Test Case')\n",
    "else:\n",
    "    for case in optStudy.testCase.msCases:\n",
    "        pprint(case.__dict__)\n",
    "        print()"
   ]
  },
  {
   "cell_type": "code",
   "execution_count": 38,
   "id": "cfd11d4f",
   "metadata": {},
   "outputs": [
    {
     "name": "stdout",
     "output_type": "stream",
     "text": [
      "Mesh Size Factors: [1.  1.3 1.5 2.  3.  4.  5. ]\n"
     ]
    }
   ],
   "source": [
    "print('Mesh Size Factors:', optStudy.testCase.meshSFs)"
   ]
  },
  {
   "cell_type": "code",
   "execution_count": 39,
   "id": "79efdf7e",
   "metadata": {},
   "outputs": [
    {
     "name": "stdout",
     "output_type": "stream",
     "text": [
      "Directory: optStudy-oscCylX2-v2/run/test_case/meshStudy/meshSF-1.0 | Parameters: [2.05 0.55] | Objectives: [-2.838674822305784, 0.0897516157000249]\n",
      "\t Objectives: [-2.838674822305784, 0.0897516157000249]\n",
      "Directory: optStudy-oscCylX2-v2/run/test_case/meshStudy/meshSF-1.3 | Parameters: [2.05 0.55] | Objectives: [-2.944877730649398, 0.08825017591799135]\n",
      "\t Objectives: [-2.944877730649398, 0.08825017591799135]\n",
      "Directory: optStudy-oscCylX2-v2/run/test_case/meshStudy/meshSF-1.5 | Parameters: [2.05 0.55] | Objectives: [-3.2475927036772574, 0.08809875875700958]\n",
      "\t Objectives: [-3.2475927036772574, 0.08809875875700958]\n",
      "Directory: optStudy-oscCylX2-v2/run/test_case/meshStudy/meshSF-2.0 | Parameters: [2.05 0.55] | Objectives: [-3.6570267475450704, 0.08537445818262203]\n",
      "\t Objectives: [-3.6570267475450704, 0.08537445818262203]\n",
      "Directory: optStudy-oscCylX2-v2/run/test_case/meshStudy/meshSF-3.0 | Parameters: [2.05 0.55] | Objectives: [-4.60436571202417, 0.07966543560068289]\n",
      "\t Objectives: [-4.60436571202417, 0.07966543560068289]\n",
      "Directory: optStudy-oscCylX2-v2/run/test_case/meshStudy/meshSF-4.0 | Parameters: [2.05 0.55] | Objectives: [-5.523598577160395, 0.07407546342442878]\n",
      "\t Objectives: [-5.523598577160395, 0.07407546342442878]\n",
      "Directory: optStudy-oscCylX2-v2/run/test_case/meshStudy/meshSF-5.0 | Parameters: [2.05 0.55] | Objectives: [-6.406634374286389, 0.06862425463246857]\n",
      "\t Objectives: [-6.406634374286389, 0.06862425463246857]\n"
     ]
    }
   ],
   "source": [
    "if optStudy.testCase.msCases is None:\n",
    "    print('No Mesh Study Cases for Test Case')\n",
    "else:\n",
    "    for case in optStudy.testCase.msCases:\n",
    "        print(case)\n",
    "        print('\\t Objectives:', case._f)\n",
    "#     print('\\tParameters:', case._x, '\\t Objectives:', case._f)"
   ]
  },
  {
   "cell_type": "markdown",
   "id": "004d94a2",
   "metadata": {},
   "source": [
    "##### Update Test Case"
   ]
  },
  {
   "cell_type": "code",
   "execution_count": 40,
   "id": "176f4847",
   "metadata": {},
   "outputs": [],
   "source": [
    "# optStudy.appendMeshSFs(optStudy.testCase, [1.2])"
   ]
  },
  {
   "cell_type": "code",
   "execution_count": 41,
   "id": "6e9a644d",
   "metadata": {},
   "outputs": [],
   "source": [
    "# newMeshSFs = np.round(np.arange(0.3, 1.5, 0.1))\n",
    "# optStudy.saveCP()\n",
    "# optStudy.testCase.meshSFs"
   ]
  },
  {
   "cell_type": "code",
   "execution_count": 42,
   "id": "ae72504a",
   "metadata": {},
   "outputs": [
    {
     "data": {
      "text/plain": [
       "array([1. , 1.3, 1.5, 2. , 3. , 4. , 5. ])"
      ]
     },
     "execution_count": 42,
     "metadata": {},
     "output_type": "execute_result"
    }
   ],
   "source": [
    "optStudy.testCase.meshSFs"
   ]
  },
  {
   "cell_type": "markdown",
   "id": "a07a7540",
   "metadata": {},
   "source": [
    "### Corner Case"
   ]
  },
  {
   "cell_type": "code",
   "execution_count": 43,
   "id": "bbb10af5",
   "metadata": {},
   "outputs": [
    {
     "name": "stdout",
     "output_type": "stream",
     "text": [
      "None\n"
     ]
    }
   ],
   "source": [
    "print(optStudy.cornerCases)"
   ]
  },
  {
   "cell_type": "code",
   "execution_count": 44,
   "id": "8da143cf",
   "metadata": {},
   "outputs": [],
   "source": [
    "# runCCDir = os.path.join(procOptDir, 'runCC')\n",
    "# ents = os.listdir(runCCDir)\n",
    "# CCobjs = []\n",
    "# CCvars = []\n",
    "# for ent in ents:\n",
    "#     CCDir = os.path.join(runCCDir, ent)\n",
    "#     varPath = os.path.join(CCDir, 'var.txt')\n",
    "#     CCvars.append(np.loadtxt(varPath))\n",
    "#     objPath = os.path.join(CCDir, 'obj.txt')\n",
    "#     CCobjs.append(np.loadtxt(objPath))\n",
    "# CCobjs = np.array(CCobjs)\n",
    "# CCvars = np.array(CCvars)\n",
    "# labels = [f'cc-{i}' for i in range(len(CCvars))]"
   ]
  },
  {
   "cell_type": "code",
   "execution_count": 45,
   "id": "8b2632bc",
   "metadata": {},
   "outputs": [],
   "source": [
    "# CCvars = [case.x for case in optStudy.cornerCases]"
   ]
  },
  {
   "cell_type": "code",
   "execution_count": 46,
   "id": "80c7e55f",
   "metadata": {},
   "outputs": [],
   "source": [
    "# plot = Scatter(title= 'Design Space: Corner Cases', legend = True, labels = optStudy.BaseCase.var_labels, grid=True)\n",
    "# for i, CCvar in enumerate(CCvars):\n",
    "#     plot.add(CCvar, label=f'cc-{i}')\n",
    "# plot.show()"
   ]
  },
  {
   "cell_type": "code",
   "execution_count": 47,
   "id": "b3c51597",
   "metadata": {},
   "outputs": [],
   "source": [
    "# CCobjs = [case.f for case in optStudy.cornerCases]"
   ]
  },
  {
   "cell_type": "code",
   "execution_count": 48,
   "id": "55075bb4",
   "metadata": {},
   "outputs": [],
   "source": [
    "# plot = Scatter(title= 'Objective Space: Corner Cases', legend = True, labels = optStudy.BaseCase.obj_labels)\n",
    "# for i, CCobj in enumerate(CCobjs):\n",
    "#     plot.add(CCobj, label=f'cc-{i}')\n",
    "# plot.show()"
   ]
  },
  {
   "cell_type": "code",
   "execution_count": 49,
   "id": "41c99faa",
   "metadata": {},
   "outputs": [],
   "source": [
    "# # Non-dominated Sorting of Corner Cases\n",
    "# n_survive = 1\n",
    "# F = CCobjs\n",
    "# X = CCvars\n",
    "# from pymoo.util.nds.non_dominated_sorting import NonDominatedSorting\n",
    "# nds = NonDominatedSorting()\n",
    "# # do the non-dominated sorting until splitting front\n",
    "# fronts = nds.do(F, n_stop_if_ranked=n_survive)\n",
    "# front = fronts[0]\n",
    "# nonDom_CCobj = F[front, :][0]\n",
    "# nonDom_CCvar = X[front, :][0]\n",
    "# print('Non-dominated: Corner Cases')\n",
    "# print('Parameters-', nonDom_CCvar)\n",
    "# print('Objectives-', nonDom_CCobj)"
   ]
  },
  {
   "cell_type": "markdown",
   "id": "8a7b665c",
   "metadata": {},
   "source": [
    "### Boundary Cases"
   ]
  },
  {
   "cell_type": "code",
   "execution_count": 50,
   "id": "7bdfcf00",
   "metadata": {},
   "outputs": [
    {
     "name": "stdout",
     "output_type": "stream",
     "text": [
      "[<pymooCFD.studies.oscillCyl_x2.OscillCylinder object at 0x7f97af0e7fd0>, <pymooCFD.studies.oscillCyl_x2.OscillCylinder object at 0x7f97af0e8220>, <pymooCFD.studies.oscillCyl_x2.OscillCylinder object at 0x7f97af0e8370>, <pymooCFD.studies.oscillCyl_x2.OscillCylinder object at 0x7f97af0e8520>]\n"
     ]
    }
   ],
   "source": [
    "print(optStudy.bndCases)"
   ]
  },
  {
   "cell_type": "code",
   "execution_count": 51,
   "id": "eddd92e0",
   "metadata": {},
   "outputs": [
    {
     "name": "stdout",
     "output_type": "stream",
     "text": [
      "Directory: optStudy-oscCylX2-v2/run/boundary-cases/0.1_0.1 | Parameters: [0.1 0.1]\n",
      "Directory: optStudy-oscCylX2-v2/run/boundary-cases/0.1_1 | Parameters: [0.1 1. ]\n",
      "Directory: optStudy-oscCylX2-v2/run/boundary-cases/4_0.1 | Parameters: [4.  0.1]\n",
      "Directory: optStudy-oscCylX2-v2/run/boundary-cases/4_1 | Parameters: [4. 1.]\n"
     ]
    }
   ],
   "source": [
    "if optStudy.bndCases is not None:\n",
    "    for case in optStudy.bndCases:\n",
    "        print(case)"
   ]
  },
  {
   "cell_type": "code",
   "execution_count": 52,
   "id": "078dd960",
   "metadata": {},
   "outputs": [
    {
     "name": "stdout",
     "output_type": "stream",
     "text": [
      "[[0.1 0.1]\n",
      " [0.1 1. ]\n",
      " [4.  0.1]\n",
      " [4.  1. ]]\n"
     ]
    }
   ],
   "source": [
    "if optStudy.bndCases is not None:\n",
    "    bndVars = np.array([case.x for case in optStudy.bndCases])\n",
    "    print(bndVars)"
   ]
  },
  {
   "cell_type": "code",
   "execution_count": 53,
   "id": "3d909216",
   "metadata": {},
   "outputs": [
    {
     "data": {
      "image/png": "[encoded data removed]",
      "text/plain": [
       "<Figure size 720x576 with 1 Axes>"
      ]
     },
     "metadata": {
      "needs_background": "light"
     },
     "output_type": "display_data"
    }
   ],
   "source": [
    "if optStudy.bndCases is not None:\n",
    "    plot = Scatter(title='Design Space: Boundary Cases', \n",
    "                   legend=True,\n",
    "                   labels=optStudy.BaseCase.var_labels, \n",
    "                   figsize=(10,8)\n",
    "                  )\n",
    "    for var in bndVars:\n",
    "        plot.add(var, label='[%.2f, %.2f]'%(var[0],var[1]), s=80)\n",
    "    path = os.path.join(optStudy.runDir, 'boundary-cases', 'bndPts_plot-varSpace.png')\n",
    "    plot.save(path, dpi=100)\n",
    "    plot.show()"
   ]
  },
  {
   "cell_type": "code",
   "execution_count": 54,
   "id": "46868297",
   "metadata": {},
   "outputs": [
    {
     "name": "stdout",
     "output_type": "stream",
     "text": [
      "[None None None None]\n"
     ]
    }
   ],
   "source": [
    "if optStudy.bndCases is not None:\n",
    "    bndObjs = np.array([case.f for case in optStudy.bndCases])\n",
    "    print(bndObjs)"
   ]
  },
  {
   "cell_type": "code",
   "execution_count": 55,
   "id": "abfa396f",
   "metadata": {},
   "outputs": [
    {
     "ename": "TypeError",
     "evalue": "'NoneType' object is not subscriptable",
     "output_type": "error",
     "traceback": [
      "\u001b[0;31m---------------------------------------------------------------------------\u001b[0m",
      "\u001b[0;31mTypeError\u001b[0m                                 Traceback (most recent call last)",
      "Input \u001b[0;32mIn [55]\u001b[0m, in \u001b[0;36m<cell line: 1>\u001b[0;34m()\u001b[0m\n\u001b[1;32m      2\u001b[0m plot \u001b[38;5;241m=\u001b[39m Scatter(title\u001b[38;5;241m=\u001b[39m \u001b[38;5;124m'\u001b[39m\u001b[38;5;124mObjective Space: Boundary Cases\u001b[39m\u001b[38;5;124m'\u001b[39m, \n\u001b[1;32m      3\u001b[0m                legend \u001b[38;5;241m=\u001b[39m \u001b[38;5;28;01mTrue\u001b[39;00m, \n\u001b[1;32m      4\u001b[0m                labels\u001b[38;5;241m=\u001b[39moptStudy\u001b[38;5;241m.\u001b[39mBaseCase\u001b[38;5;241m.\u001b[39mobj_labels, \n\u001b[1;32m      5\u001b[0m                figsize\u001b[38;5;241m=\u001b[39m(\u001b[38;5;241m10\u001b[39m,\u001b[38;5;241m8\u001b[39m)\n\u001b[1;32m      6\u001b[0m               )\n\u001b[1;32m      7\u001b[0m \u001b[38;5;28;01mfor\u001b[39;00m obj \u001b[38;5;129;01min\u001b[39;00m bndObjs:\n\u001b[0;32m----> 8\u001b[0m     plot\u001b[38;5;241m.\u001b[39madd(obj, label\u001b[38;5;241m=\u001b[39m\u001b[38;5;124m'\u001b[39m\u001b[38;5;124m[\u001b[39m\u001b[38;5;132;01m%.2f\u001b[39;00m\u001b[38;5;124m, \u001b[39m\u001b[38;5;132;01m%.2f\u001b[39;00m\u001b[38;5;124m]\u001b[39m\u001b[38;5;124m'\u001b[39m\u001b[38;5;241m%\u001b[39m(\u001b[43mobj\u001b[49m\u001b[43m[\u001b[49m\u001b[38;5;241;43m0\u001b[39;49m\u001b[43m]\u001b[49m,obj[\u001b[38;5;241m1\u001b[39m]), s\u001b[38;5;241m=\u001b[39m\u001b[38;5;241m70\u001b[39m, alpha\u001b[38;5;241m=\u001b[39m\u001b[38;5;241m1\u001b[39m)\n\u001b[1;32m      9\u001b[0m path \u001b[38;5;241m=\u001b[39m os\u001b[38;5;241m.\u001b[39mpath\u001b[38;5;241m.\u001b[39mjoin(optStudy\u001b[38;5;241m.\u001b[39mrunDir, \u001b[38;5;124m'\u001b[39m\u001b[38;5;124mboundary-cases\u001b[39m\u001b[38;5;124m'\u001b[39m, \u001b[38;5;124m'\u001b[39m\u001b[38;5;124mbndPts_plot-objSpace.png\u001b[39m\u001b[38;5;124m'\u001b[39m)\n\u001b[1;32m     10\u001b[0m plot\u001b[38;5;241m.\u001b[39msave(path, dpi\u001b[38;5;241m=\u001b[39m\u001b[38;5;241m100\u001b[39m)\n",
      "\u001b[0;31mTypeError\u001b[0m: 'NoneType' object is not subscriptable"
     ]
    }
   ],
   "source": [
    "if optStudy.bndCases is not None:\n",
    "    plot = Scatter(title= 'Objective Space: Boundary Cases', \n",
    "                   legend = True, \n",
    "                   labels=optStudy.BaseCase.obj_labels, \n",
    "                   figsize=(10,8)\n",
    "                  )\n",
    "    for obj in bndObjs:\n",
    "        plot.add(obj, label='[%.2f, %.2f]'%(obj[0],obj[1]), s=70, alpha=1)\n",
    "    path = os.path.join(optStudy.runDir, 'boundary-cases', 'bndPts_plot-objSpace.png')\n",
    "    plot.save(path, dpi=100)\n",
    "    plot.show()"
   ]
  },
  {
   "cell_type": "code",
   "execution_count": null,
   "id": "6548327e",
   "metadata": {},
   "outputs": [],
   "source": [
    "if optStudy.bndCases is not None:\n",
    "    # Non-dominated Sorting of Boundary Cases\n",
    "    n_survive = 1\n",
    "    F = np.array([case.f for case in optStudy.bndCases])\n",
    "    X = np.array([case.x for case in optStudy.bndCases])\n",
    "    from pymoo.util.nds.non_dominated_sorting import NonDominatedSorting\n",
    "    nds = NonDominatedSorting()\n",
    "    # do the non-dominated sorting until splitting front\n",
    "    fronts = nds.do(F, n_stop_if_ranked=n_survive)\n",
    "    front = fronts[0]\n",
    "    nonDom_CCobj = F[front, :][0]\n",
    "    nonDom_CCvar = X[front, :][0]\n",
    "    print('Non-dominated: Boundary Cases')\n",
    "    print('Parameters-', nonDom_CCvar)\n",
    "    print('Objectives-', nonDom_CCobj)"
   ]
  },
  {
   "cell_type": "markdown",
   "id": "6d87a6b8",
   "metadata": {},
   "source": [
    "### Mesh Studies"
   ]
  },
  {
   "cell_type": "code",
   "execution_count": null,
   "id": "2eaa29c5",
   "metadata": {},
   "outputs": [],
   "source": []
  },
  {
   "cell_type": "markdown",
   "id": "1d92c143",
   "metadata": {},
   "source": [
    "### Generation 1"
   ]
  },
  {
   "cell_type": "code",
   "execution_count": null,
   "id": "2f76f29a",
   "metadata": {},
   "outputs": [],
   "source": [
    "print(optStudy.algorithm.history)"
   ]
  },
  {
   "cell_type": "code",
   "execution_count": null,
   "id": "63ed40b9",
   "metadata": {},
   "outputs": [],
   "source": [
    "print(optStudy.algorithm.history[0].pop)"
   ]
  },
  {
   "cell_type": "markdown",
   "id": "625c1448",
   "metadata": {},
   "source": [
    "##### Generation 1: Parameter Space"
   ]
  },
  {
   "cell_type": "code",
   "execution_count": null,
   "id": "15b9e638",
   "metadata": {},
   "outputs": [],
   "source": [
    "# optStudy.plotDir = os.path.join(optStudy.optDatDir, 'plots')\n",
    "# os.mkdir(optStudy.plotDir)\n",
    "# optStudy.BaseCase.var_labels = ['Number of Tasks', 'Number of CPUs per Task']\n",
    "# print(optStudy.BaseCase.var_labels)"
   ]
  },
  {
   "cell_type": "code",
   "execution_count": null,
   "id": "f6f71c60",
   "metadata": {},
   "outputs": [],
   "source": [
    "popX = optStudy.algorithm.history[0].pop.get('X')\n",
    "gen = optStudy.algorithm.history[0].n_gen\n",
    "if len(popX) <= 10:\n",
    "    leg = True\n",
    "else:\n",
    "    leg = False\n",
    "plot = Scatter(title=f'Generation {gen} Design Space', \n",
    "               legend=leg, \n",
    "               labels=optStudy.BaseCase.var_labels,\n",
    "#                figsize=(10,8)\n",
    "              )\n",
    "for ind_i, ind in enumerate(popX):\n",
    "    plot.add(ind, label=f'IND {ind_i+1}')\n",
    "# save parameter space plot\n",
    "plot.save(os.path.join(optStudy.plotDir, 'gen1_var_space.png'), dpi=100)\n",
    "plot.show()"
   ]
  },
  {
   "cell_type": "markdown",
   "id": "9cc76471",
   "metadata": {},
   "source": [
    "##### Generation 1: Objective Space"
   ]
  },
  {
   "cell_type": "code",
   "execution_count": null,
   "id": "46279d15",
   "metadata": {},
   "outputs": [],
   "source": [
    "popF = optStudy.algorithm.history[0].pop.get('F')\n",
    "gen = optStudy.algorithm.history[0].n_gen\n",
    "if len(popF) <= 10:\n",
    "    leg = True\n",
    "else:\n",
    "    leg = False\n",
    "plot = Scatter(title=f'Generation {gen} Objective Space', \n",
    "               legend=leg, \n",
    "               labels=optStudy.BaseCase.obj_labels\n",
    "              )\n",
    "for ind_i, ind in enumerate(popF):\n",
    "    plot.add(ind, label=f'IND {ind_i+1}')\n",
    "# save parameter space plot\n",
    "plot.save(os.path.join(optStudy.plotDir, 'gen1_obj_space.png'), dpi=100)\n",
    "print(os.path.join(optStudy.plotDir, 'gen1_obj_space.png'))\n",
    "plot.show()"
   ]
  },
  {
   "cell_type": "markdown",
   "id": "0976265c",
   "metadata": {},
   "source": [
    "####"
   ]
  },
  {
   "cell_type": "code",
   "execution_count": null,
   "id": "45b53189",
   "metadata": {},
   "outputs": [],
   "source": []
  },
  {
   "cell_type": "markdown",
   "id": "6368a494",
   "metadata": {},
   "source": [
    "##### Generation 1: Examine Parameter to Objective Space Mapping\n",
    "Plot every parameter and objective against each other "
   ]
  },
  {
   "cell_type": "code",
   "execution_count": null,
   "id": "b21591e0",
   "metadata": {},
   "outputs": [],
   "source": [
    "print(optStudy.algorithm.history)"
   ]
  },
  {
   "cell_type": "code",
   "execution_count": null,
   "id": "b8b8e0f6",
   "metadata": {},
   "outputs": [],
   "source": [
    "# optStudy.mapDir = os.path.join(optStudy.optDatDir, 'mapGen1')\n",
    "# print(optStudy.mapDir)\n",
    "# os.makedirs(optStudy.mapDir, exist_ok=True)\n",
    "# optStudy.mapDir = 'optStudy-OscillCylinderOpt/run/mapGen1'\n",
    "# optStudy.saveCP()\n"
   ]
  },
  {
   "cell_type": "code",
   "execution_count": null,
   "id": "b3c68933",
   "metadata": {},
   "outputs": [],
   "source": [
    "#%%capture\n",
    "# ^ suppresses output\n",
    "from scipy.stats import linregress\n",
    "##### Variable vs. Objective Plots ######\n",
    "# extract objectives and variables columns and plot them against each other\n",
    "var_labels = optStudy.BaseCase.var_labels\n",
    "obj_labels = optStudy.BaseCase.obj_labels\n",
    "popX = optStudy.algorithm.history[0].pop.get('X').astype(float)\n",
    "popF = optStudy.algorithm.history[0].pop.get('F').astype(float)\n",
    "mapPaths = []\n",
    "# plots = []\n",
    "fig = plt.figure(figsize=(10,8))\n",
    "for x_i, x in enumerate(popX.transpose()):\n",
    "    for f_i, f in enumerate(popF.transpose()):\n",
    "        plot = Scatter(title=f'{var_labels[x_i]} vs. {obj_labels[f_i]}',\n",
    "                       labels=[var_labels[x_i], obj_labels[f_i]], \n",
    "#                        figsize=(10,8)\n",
    "#                        legend = True,\n",
    "                      )\n",
    "        xf = np.column_stack((x,f))\n",
    "        plot.add(xf)\n",
    "        \n",
    "        ### Linear best fit line \n",
    "#         m, b, r_value, p_value, std_err = linregress(x, f)\n",
    "#         r_squared = r_value**2\n",
    "#         xy = np.column_stack((x, m*x+b))\n",
    "#         plot.n_dim = 2\n",
    "#         plot._do()\n",
    "#         plot.plot(plot.ax, 'line', xy, label='Best Linear Fit', c='r')\n",
    "#         plot.ax.text(min(xf[:,0]), max(xf[:,1]), 'Best Linear Fit', \n",
    "#                      horizontalalignment='left',\n",
    "#                      c = 'r',\n",
    "#                      size = 16\n",
    "#                     )\n",
    "#         plot.ax.text(max(xf[:,0]), max(xf[:,1]), r'$r^2$={0:.4f}'.format(r_squared), \n",
    "#                      horizontalalignment='right',\n",
    "#                      c = 'r',\n",
    "#                      size = 16\n",
    "#                     )\n",
    "\n",
    "        ### Polynomial best fit lines\n",
    "        plot.do()\n",
    "        plot.legend = True\n",
    "        c = ['r', 'g', 'm']\n",
    "        for d in range(1, 3+1):\n",
    "            coefs = np.polyfit(x, f, d)\n",
    "            y = np.polyval(coefs, x)\n",
    "            xy = np.column_stack((x, y))\n",
    "            xy = xy[xy[:, 0].argsort()]\n",
    "#             correlation = np.corrcoef(x, y)[0, 1]\n",
    "#             r_squared = correlation**2\n",
    "#             if d == 1:\n",
    "#                 label = 'Order %i Best Fit, $r^2$=%.2g' %(d, r_squared)\n",
    "#             else:\n",
    "#                 label = f'Order {d} Best Fit'\n",
    "            label = f'Order {d} Best Fit'\n",
    "#             plot.add(xy, label=f'Order {d} Best Fit', marker='x')\n",
    "            plot.ax.plot(xy[:,0], xy[:,1], label=label, c=c[d-1])\n",
    "        plot.do()\n",
    "        var_str = var_labels[x_i].replace(\" \", \"_\").replace(\"/\", \"|\").replace('%', 'precentage').replace(\"\\\\\", \"|\")\n",
    "        obj_str = obj_labels[f_i].replace(\" \", \"_\").replace(\"/\", \"|\").replace('%', 'precentage').replace(\"\\\\\", \"|\")\n",
    "        fName = f'{var_str}-vs-{obj_str}.png'\n",
    "        path = os.path.join(optStudy.mapDir, fName)\n",
    "        mapPaths.append(path)\n",
    "        print(path)\n",
    "#         plots.append(plot)\n",
    "        plot.save(path, dpi=100)\n",
    "#         plot.show()\n",
    "#         ax = fig.add_subplot(111).add_axes(plot.ax)\n",
    "#         ax = plot.ax\n",
    "# fig.show()\n",
    "# fig, axes = plt.subplots(2,2)\n",
    "# print(fig)\n",
    "# for row in axes:\n",
    "#     for ax in row:\n",
    "#         print(ax)\n",
    "#         ax = plots[0].ax\n",
    "#         print(ax)\n",
    "# for row in axes:\n",
    "#     for ax in row:\n",
    "# #         ax = plots[0]\n",
    "#         print(ax)\n",
    "# print(plots[0].ax)\n",
    "# fig = plt.figure()\n",
    "# for i, plot in enumerate(plots):\n",
    "#     ax = fig.add_subplot(int(f'{i+1}11'))\n",
    "#     ax.text(1,1,i)\n",
    "    \n",
    "    \n",
    "\n",
    "# len_ax = round(len(plots)/2)\n",
    "# fig, ax = plt.subplots(len_ax,len_ax)\n",
    "# c = 0\n",
    "# for i in range(len_ax):\n",
    "#     for j in range(len_ax):\n",
    "#         if c <= len(plots):    \n",
    "#             print(plots[c])\n",
    "#             ax[i][j] = plots[c].ax\n",
    "#             c += 1"
   ]
  },
  {
   "cell_type": "markdown",
   "id": "f9bd9eb1",
   "metadata": {},
   "source": [
    "#### Generation 1: Display Mapping\n",
    "Remember that for each plot the parameters(s) not labeled are also varying. \n",
    "\n",
    "Therefore, if a strong relationship is seen in these plots then it is likely a relationship independent of the other variable.\n"
   ]
  },
  {
   "cell_type": "code",
   "execution_count": null,
   "id": "8871aa8b",
   "metadata": {
    "scrolled": false
   },
   "outputs": [],
   "source": [
    "from IPython.display import Image, display\n",
    "for mapPath in mapPaths:\n",
    "    display(Image(filename=mapPath))"
   ]
  },
  {
   "cell_type": "markdown",
   "id": "53eca44d",
   "metadata": {},
   "source": [
    "# Post-Process Optimization Study"
   ]
  },
  {
   "cell_type": "markdown",
   "id": "e5dcbb9d",
   "metadata": {},
   "source": [
    "### Optimization Algorithm Convergence"
   ]
  },
  {
   "cell_type": "code",
   "execution_count": null,
   "id": "b09de62c",
   "metadata": {},
   "outputs": [],
   "source": [
    "#hist = optStudy.algorithm.history\n",
    "#print(hist)\n",
    "#print(optStudy.algorithm.callback)\n",
    "#for alg in hist:\n",
    "#    print(alg)\n",
    "#    print(alg.callback)\n",
    "# n_evals = np.array([e.evaluator.n_eval for e in hist])\n",
    "# print('Number of Evaluations:', n_evals)"
   ]
  },
  {
   "cell_type": "code",
   "execution_count": null,
   "id": "530f14d8",
   "metadata": {},
   "outputs": [],
   "source": [
    "opt_avg = []\n",
    "for h in optStudy.algorithm.history:\n",
    "    F_opt = np.array([o.F for o in h.opt])\n",
    "    F_avg = np.mean(F_opt, axis=0)\n",
    "    #print(F_avg)\n",
    "    opt_avg.append(F_avg)\n",
    "opt_avg = np.array(opt_avg)"
   ]
  },
  {
   "cell_type": "code",
   "execution_count": null,
   "id": "2d3359af",
   "metadata": {},
   "outputs": [],
   "source": [
    "n_gen = [alg.n_gen for alg in optStudy.algorithm.history]\n",
    "for obj_i in range(optStudy.BaseCase.n_obj):\n",
    "#     print(opt_sum)\n",
    "    opt_obj = opt_avg[:,obj_i]\n",
    "#     print(opt_obj)\n",
    "    plt.suptitle('Convergence of Objective Mean')\n",
    "    plt.title(f'Objective {obj_i+1}: {obj_labels[obj_i]}')\n",
    "#     plt.plot(n_evals, opt_obj, \"--\")\n",
    "    plt.plot(n_gen, opt_obj, \"--\")\n",
    "    plt.xlabel('Number of Generations')\n",
    "    plt.ylabel('Mean of Optimum Objectives')\n",
    "#     plt.yscale(\"log\")\n",
    "    plt.savefig(os.path.join(optStudy.plotDir, f'convergence-obj{obj_i}')) #_{obj_labels[obj_i]}'))\n",
    "    plt.show()"
   ]
  },
  {
   "cell_type": "code",
   "execution_count": null,
   "id": "969b6465",
   "metadata": {},
   "outputs": [],
   "source": [
    "opt_minL = 1000\n",
    "hist = optStudy.algorithm.history\n",
    "for h in hist:\n",
    "    l = len(h.opt)\n",
    "    if l < opt_minL:\n",
    "        opt_minL = l\n",
    "print('Optimum minimum length:', opt_minL)\n",
    "opt_sum = []\n",
    "for h in hist:\n",
    "    F_opt = np.array([o.F for o in h.opt[:opt_minL]])\n",
    "    F_sum = np.sum(F_opt, axis=0)\n",
    "#     print(F_sum)\n",
    "    opt_sum.append(F_sum)\n",
    "opt_sum = np.array(opt_sum)"
   ]
  },
  {
   "cell_type": "code",
   "execution_count": null,
   "id": "7b62ec36",
   "metadata": {},
   "outputs": [],
   "source": [
    "n_gen = [alg.n_gen for alg in optStudy.algorithm.history]\n",
    "for obj_i in range(optStudy.BaseCase.n_obj):\n",
    "#     print(opt_sum)\n",
    "    opt_obj = opt_sum[:,obj_i]\n",
    "#     print(opt_obj)\n",
    "    plt.suptitle('Convergence of Objective Sum')\n",
    "    plt.title(f'Objective {obj_i+1}: {obj_labels[obj_i]}')\n",
    "#     plt.plot(n_evals, opt_obj, \"--\")\n",
    "    plt.plot(n_gen, opt_obj, \"--\")\n",
    "    plt.xlabel('Number of Generations')\n",
    "    plt.ylabel('Sum of Optimum Objectives')\n",
    "#     plt.yscale(\"log\")\n",
    "    plt.savefig(os.path.join(optStudy.plotDir, f'convergence-obj{obj_i}')) #_{obj_labels[obj_i]}'))\n",
    "    plt.show()"
   ]
  },
  {
   "cell_type": "code",
   "execution_count": null,
   "id": "a8399a51",
   "metadata": {},
   "outputs": [],
   "source": [
    "hist = optStudy.algorithm.history\n"
   ]
  },
  {
   "cell_type": "code",
   "execution_count": null,
   "id": "fcea953b",
   "metadata": {},
   "outputs": [],
   "source": [
    "opt = np.array([e.opt[0].F for e in hist])\n",
    "n_gen = [alg.n_gen for alg in optStudy.algorithm.history]\n",
    "for obj_i in range(len(opt[0])):\n",
    "    opt_obj = opt[:,obj_i]\n",
    "#     print(opt_obj)\n",
    "    plt.suptitle('Convergence of Optimum')\n",
    "    plt.title(f'Objective {obj_i+1}: {obj_labels[obj_i]}')\n",
    "#     plt.plot(n_evals, opt_obj, \"--\")\n",
    "    plt.plot(n_gen, opt_obj, \"--\")\n",
    "    plt.xlabel('Number of Generations')\n",
    "    plt.ylabel('Optimum')\n",
    "#     plt.yscale(\"log\")\n",
    "    plt.savefig(os.path.join(optStudy.plotDir, f'convergence-obj{obj_i}')) #_{obj_labels[obj_i]}'))\n",
    "    plt.show()"
   ]
  },
  {
   "cell_type": "markdown",
   "id": "8caa6dc1",
   "metadata": {},
   "source": [
    "### Performance Indicator - Hypervolume\n",
    "https://pymoo.org/misc/performance_indicator.html#Hypervolume\n",
    "\n",
    "Maximize hypervolume from reference point. "
   ]
  },
  {
   "cell_type": "code",
   "execution_count": null,
   "id": "7379c650",
   "metadata": {},
   "outputs": [],
   "source": [
    "all_obj = [alg.pop.get('F') for alg in hist]"
   ]
  },
  {
   "cell_type": "code",
   "execution_count": null,
   "id": "428660fe",
   "metadata": {},
   "outputs": [],
   "source": [
    "mean_all_obj = []\n",
    "for obj_i in range(optStudy.BaseCase.n_obj):\n",
    "    mean_all_obj.append(np.mean([np.mean(obj_g[:,obj_i]) for obj_g in all_obj]))\n",
    "print(mean_all_obj)"
   ]
  },
  {
   "cell_type": "code",
   "execution_count": null,
   "id": "0771025f",
   "metadata": {},
   "outputs": [],
   "source": [
    "mean_g1_obj = []\n",
    "popF = hist[-1].pop.get('F')\n",
    "for obj_i in range(optStudy.BaseCase.n_obj):\n",
    "    mean_g1_obj.append(np.mean(popF[:,obj_i]))\n",
    "print(mean_g1_obj)"
   ]
  },
  {
   "cell_type": "code",
   "execution_count": null,
   "id": "62018c4f",
   "metadata": {},
   "outputs": [],
   "source": [
    "ref_pt = [4, 4]\n",
    "ref_pt = mean_g1_obj\n",
    "ref_pt = mean_all_obj\n",
    "sf = 100000\n",
    "ref_pt = [mean_obj*sf for mean_obj in mean_g1_obj]"
   ]
  },
  {
   "cell_type": "code",
   "execution_count": null,
   "id": "ee9321d2",
   "metadata": {},
   "outputs": [],
   "source": [
    "from pymoo.factory import get_performance_indicator\n",
    "hv = get_performance_indicator(\"hv\", ref_point=np.array(ref_pt))"
   ]
  },
  {
   "cell_type": "code",
   "execution_count": null,
   "id": "bafcfac9",
   "metadata": {},
   "outputs": [],
   "source": [
    "for gen, alg in enumerate(optStudy.algorithm.history):\n",
    "    print('Generation', gen+1, f\"hypervolume {hv.do(alg.pop.get('X'))}\")"
   ]
  },
  {
   "cell_type": "markdown",
   "id": "d65907bf",
   "metadata": {},
   "source": [
    "### Latest Generation "
   ]
  },
  {
   "cell_type": "code",
   "execution_count": null,
   "id": "0e86ba5d",
   "metadata": {},
   "outputs": [],
   "source": [
    "max_disp_len = 10"
   ]
  },
  {
   "cell_type": "code",
   "execution_count": null,
   "id": "ee23f096",
   "metadata": {},
   "outputs": [],
   "source": [
    "if len(optStudy.algorithm.pop.get('X')) < max_disp_len:\n",
    "    print('FINAL POPULATION')\n",
    "    print('Parameters')\n",
    "    print(optStudy.algorithm.pop.get('X'))\n",
    "    print('Objectives')\n",
    "    print(optStudy.algorithm.pop.get('F'))"
   ]
  },
  {
   "cell_type": "code",
   "execution_count": null,
   "id": "68deadec",
   "metadata": {},
   "outputs": [],
   "source": [
    "latest_pop = optStudy.algorithm.history[-1].pop\n",
    "latest_popX = latest_pop.get('X')\n",
    "latest_popF = latest_pop.get('F')"
   ]
  },
  {
   "cell_type": "code",
   "execution_count": null,
   "id": "5ede8ed8",
   "metadata": {},
   "outputs": [],
   "source": [
    "plot = Scatter(title='Latest Generations Design Space', legend=False, labels=optStudy.BaseCase.var_labels)\n",
    "for ind_i, ind in enumerate(latest_popX):\n",
    "    plot.add(ind, label=f'IND {ind_i+1}')\n",
    "# save parameter space plot\n",
    "plot.save(os.path.join(optStudy.plotDir, 'latest_var_space.png'), dpi=100)\n",
    "plot.show()"
   ]
  },
  {
   "cell_type": "code",
   "execution_count": null,
   "id": "d96557ec",
   "metadata": {},
   "outputs": [],
   "source": [
    "plot = Scatter(title='Latest Generations Objective Space', \n",
    "               legend=False, \n",
    "               labels=optStudy.BaseCase.obj_labels,\n",
    "               s=60,\n",
    "               alpha=0.9\n",
    "              )\n",
    "for ind_i, ind in enumerate(latest_popF):\n",
    "    plot.add(ind, label=f'IND {ind_i+1}')\n",
    "# save objective space plot\n",
    "plot.save(os.path.join(optStudy.plotDir, 'latest_obj_space.png'), dpi=100)\n",
    "plot.show()"
   ]
  },
  {
   "cell_type": "markdown",
   "id": "f0ac6fe0",
   "metadata": {},
   "source": [
    "### Optimum"
   ]
  },
  {
   "cell_type": "code",
   "execution_count": null,
   "id": "572de1d5",
   "metadata": {},
   "outputs": [],
   "source": [
    "assert optStudy.algorithm.opt is not None\n",
    "print('Number of Optimum:', len(optStudy.algorithm.opt))"
   ]
  },
  {
   "cell_type": "code",
   "execution_count": null,
   "id": "658ba63f",
   "metadata": {},
   "outputs": [],
   "source": [
    "# optStudy.BaseCase.var_labels = [\"Amplitude [radians/s]\", \"Frequency [cycles/s]\", \"Reynolds Number\"]\n",
    "print(optStudy.BaseCase.var_labels)\n",
    "print()\n",
    "labels = [\"Amplitude\", \"Frequency\", \"Reynolds Number\"]\n",
    "labels = [\"Amplitude [radians/s]\", \"Frequency [cycles/s]\", \"Reynolds Number\"]\n",
    "n_dim = len(optStudy.BaseCase.var_labels)\n",
    "labels_proc = [f\"${labels}_{{{i}}}$\" for i in range(1, n_dim + 1)]\n",
    "if isinstance(labels, list):\n",
    "    print(labels)\n",
    "    \n",
    "print(labels_proc)"
   ]
  },
  {
   "cell_type": "code",
   "execution_count": null,
   "id": "2878ff25",
   "metadata": {},
   "outputs": [],
   "source": [
    "#optStudy.BaseCase.var_labels = optStudy.BaseCase.var_labels.tolist()"
   ]
  },
  {
   "cell_type": "code",
   "execution_count": null,
   "id": "2e61358e",
   "metadata": {},
   "outputs": [],
   "source": [
    "n_opt_disp = 50"
   ]
  },
  {
   "cell_type": "code",
   "execution_count": null,
   "id": "0f02d08c",
   "metadata": {},
   "outputs": [],
   "source": [
    "opt_pop = optStudy.algorithm.opt[:n_opt_disp]\n",
    "gen = optStudy.algorithm.n_gen\n",
    "if len(opt_pop) < 20:\n",
    "    leg = True\n",
    "else:\n",
    "    leg = False\n",
    "varPlot = Scatter(title=f'{optStudy.optName}: Optimum - Generation {gen} - Design Space', \n",
    "                  figsize=(10,8),\n",
    "                  labels=optStudy.BaseCase.var_labels[::2],\n",
    "                  legend=leg\n",
    "                 )\n",
    "#varPlot.axis_labels = optStudy.BaseCase.var_labels\n",
    "for opt_i, opt in enumerate(opt_pop):\n",
    "    varPlot.add(opt.get('X')[::2], label=f'opt{opt_i}', s=70)\n",
    "varPlot.save(os.path.join(optStudy.plotDir, f'optimum-gen{gen}-varSpace-Re-Amp.png'), dpi=100)\n",
    "varPlot.show()"
   ]
  },
  {
   "cell_type": "code",
   "execution_count": null,
   "id": "98103d43",
   "metadata": {},
   "outputs": [],
   "source": [
    "opt_pop = optStudy.algorithm.opt[:n_opt_disp]\n",
    "gen = optStudy.algorithm.n_gen\n",
    "if len(opt_pop) < 20:\n",
    "    leg = True\n",
    "else:\n",
    "    leg = False\n",
    "varPlot = Scatter(title=f'{optStudy.optName}: Optimum - Generation {gen} - Design Space', \n",
    "                  figsize=(10,8),\n",
    "                  labels=optStudy.BaseCase.var_labels[:2],\n",
    "                  legend=leg\n",
    "                 )\n",
    "#varPlot.axis_labels = optStudy.BaseCase.var_labels\n",
    "for opt_i, opt in enumerate(opt_pop):\n",
    "    varPlot.add(opt.get('X')[:2], label=f'opt{opt_i}', s=70)\n",
    "varPlot.save(os.path.join(optStudy.plotDir, f'optimum-gen{gen}-varSpace-freq-Amp.png'), dpi=100)\n",
    "varPlot.show()"
   ]
  },
  {
   "cell_type": "code",
   "execution_count": null,
   "id": "8d8e6c57",
   "metadata": {},
   "outputs": [],
   "source": [
    "opt_pop = optStudy.algorithm.opt[:n_opt_disp]\n",
    "gen = optStudy.algorithm.n_gen\n",
    "if len(opt_pop) < 20:\n",
    "    leg = True\n",
    "else:\n",
    "    leg = False\n",
    "varPlot = Scatter(title=f'{optStudy.optName}: Optimum - Generation {gen} - Design Space', \n",
    "                  figsize=(10,8),\n",
    "                  labels=optStudy.BaseCase.var_labels[1:],\n",
    "                  legend=leg\n",
    "                 )\n",
    "#varPlot.axis_labels = optStudy.BaseCase.var_labels\n",
    "for opt_i, opt in enumerate(opt_pop):\n",
    "    varPlot.add(opt.get('X')[1:], label=f'opt{opt_i}', s=70)\n",
    "varPlot.save(os.path.join(optStudy.plotDir, f'optimum-gen{gen}-varSpace-Re-freq.png'), dpi=100)\n",
    "varPlot.show()"
   ]
  },
  {
   "cell_type": "code",
   "execution_count": null,
   "id": "1b4ab1f7",
   "metadata": {},
   "outputs": [],
   "source": [
    "opt_pop = optStudy.algorithm.opt[:n_opt_disp]\n",
    "gen = optStudy.algorithm.n_gen\n",
    "if len(opt_pop) < 20:\n",
    "    leg = True\n",
    "else:\n",
    "    leg = False\n",
    "varPlot = Scatter(title=f'{optStudy.optName}: Optimum - Generation {gen} - Design Space', \n",
    "                  figsize=(10,8),\n",
    "                  labels=optStudy.BaseCase.var_labels,\n",
    "                  legend=leg\n",
    "                 )\n",
    "varPlot.axis_labels = optStudy.BaseCase.var_labels\n",
    "for opt_i, opt in enumerate(opt_pop):\n",
    "    varPlot.add(opt.get('X'), label=f'opt{opt_i}', s=70)\n",
    "varPlot.save(os.path.join(optStudy.plotDir, f'optimum-gen{gen}-varSpace.png'), dpi=100)\n",
    "varPlot.show()"
   ]
  },
  {
   "cell_type": "code",
   "execution_count": null,
   "id": "2eef3f77",
   "metadata": {},
   "outputs": [],
   "source": [
    "opt_pop = optStudy.algorithm.opt[:n_opt_disp]\n",
    "gen = optStudy.algorithm.n_gen\n",
    "if len(opt_pop) < 20:\n",
    "    leg = True\n",
    "else:\n",
    "    leg = False\n",
    "plot = Scatter(title=f'{optStudy.optName}: Optimum - Generation {gen} - Objective Space', \n",
    "                  figsize=(10,8),\n",
    "                  labels=optStudy.BaseCase.obj_labels,\n",
    "                  legend=leg\n",
    "                 )\n",
    "for opt_i, opt in enumerate(opt_pop):\n",
    "    plot.add(opt.get('F'), label=f'opt{opt_i}', s=70)\n",
    "plot.save(os.path.join(optStudy.plotDir, f'optimum-gen{gen}-objSpace.png'), dpi=100)\n",
    "plot.show()"
   ]
  },
  {
   "cell_type": "markdown",
   "id": "718e469b",
   "metadata": {},
   "source": [
    "### Print Every Generation"
   ]
  },
  {
   "cell_type": "code",
   "execution_count": null,
   "id": "23fdab53",
   "metadata": {},
   "outputs": [],
   "source": [
    "if optStudy.algorithm.n_gen < 10 and len(optStudy.algorithm.pop.get('X')) < 10:\n",
    "    print('EVERY GENERATION')\n",
    "    for gen in range(algorithm.n_gen):\n",
    "        print(f'generation {gen}')\n",
    "        var_g = algorithm.callback.data['var'][gen]\n",
    "        obj_g = algorithm.callback.data['obj'][gen]\n",
    "        for ind in range(len(var_g)):\n",
    "            var_i = var_g[ind]\n",
    "            obj_i = obj_g[ind]\n",
    "            print(f'ind{ind}: ', end='')\n",
    "            for n in range(len(var_i)):\n",
    "                print(f'{var_labels[n]}: {var_i[n]}', end=' ')\n",
    "            print(' // ', end='')\n",
    "            for n in range(len(obj_i)):\n",
    "                print(obj_labels[n] + ':' + '%.3f' % obj_i[n], end=' ')\n",
    "            print()"
   ]
  },
  {
   "cell_type": "markdown",
   "id": "c138bc40",
   "metadata": {},
   "source": [
    "### All Design Points"
   ]
  },
  {
   "cell_type": "code",
   "execution_count": null,
   "id": "2dbe7e9c",
   "metadata": {},
   "outputs": [],
   "source": [
    "if optStudy.BaseCase.n_var > 3: # plot without labels\n",
    "    print('CAN NOT REPRESENT DESIGN SPACE IN 3D. USING ')\n",
    "    plot = Scatter()\n",
    "    plot.add(algorithm.pop.get('X')[:10])\n",
    "\n",
    "# All design points\n",
    "else: \n",
    "    if optStudy.algorithm.n_gen < 15:\n",
    "        leg = True\n",
    "    else:\n",
    "        leg = False\n",
    "    plot = Scatter(title='Entire Design Space', legend=leg, labels=var_labels)\n",
    "    for g, alg in enumerate(hist):\n",
    "        plot.add(alg.pop.get('X'), label=f'GEN {g+1}')\n",
    "\n",
    "# save plot to png file\n",
    "plot.save(os.path.join(optStudy.plotDir, 'entire_design_space.png'), dpi=100)\n",
    "plot.show()"
   ]
  },
  {
   "cell_type": "markdown",
   "id": "d3c8a028",
   "metadata": {},
   "source": [
    "### All Objective Points"
   ]
  },
  {
   "cell_type": "code",
   "execution_count": null,
   "id": "8c5c7785",
   "metadata": {},
   "outputs": [],
   "source": [
    "if optStudy.algorithm.n_gen < 15:\n",
    "    leg = True\n",
    "else:\n",
    "    leg = False\n",
    "plot = Scatter(title='Entire Objective Space', legend=leg, labels=obj_labels)\n",
    "for g, alg in enumerate(hist):  # range(algorithm.n_gen)\n",
    "#     if g == 0:\n",
    "#         continue\n",
    "    plot.add(alg.pop.get('F'), label=f'GEN {g+1}')\n",
    "# if pf is not None:\n",
    "#     plot.add(pf, plot_type=\"line\", color=\"black\", alpha=0.7)\n",
    "plot.save(os.path.join(optStudy.plotDir, 'entire_obj_space.png'), dpi=100)\n",
    "plot.show()"
   ]
  },
  {
   "cell_type": "code",
   "execution_count": null,
   "id": "bc9fae8b",
   "metadata": {},
   "outputs": [],
   "source": [
    "algs = optStudy.algorithm.history\n",
    "algs = algs[1:]\n",
    "optStudy.plotOptSpaces(algs, 'no_gen1')"
   ]
  },
  {
   "cell_type": "code",
   "execution_count": null,
   "id": "0cc194ca",
   "metadata": {},
   "outputs": [],
   "source": [
    "def plotOptSpaces(self, algs, fileName, folder=None , maxLegLen=15):\n",
    "    if folder is None:\n",
    "        folder = self.plotDir\n",
    "    if len(algs) < maxLegLen:\n",
    "        leg = True\n",
    "    else:\n",
    "        leg = False\n",
    "    obj_plot = Scatter(title='Objective Space', legend=leg, labels=self.BaseCase.obj_labels)\n",
    "    var_plot = Scatter(title='Design Space', legend=leg, labels=self.BaseCase.var_labels)\n",
    "    for g, alg in enumerate(algs):  # range(algorithm.n_gen)\n",
    "        obj_plot.add(alg.pop.get('F'), label=f'GEN {g+1}')\n",
    "        var_plot.add(alg.pop.get('X'), label=f'GEN {g+1}')\n",
    "    obj_plot.save(os.path.join(folder, fileName+'-obj_space.png'), dpi=100)\n",
    "    var_plot.save(os.path.join(folder, fileName+'-var_space.png'), dpi=100)\n",
    "    #plot.show()"
   ]
  },
  {
   "cell_type": "markdown",
   "id": "f4d77fe5",
   "metadata": {},
   "source": [
    "### Last 10 Generation of Parameter Space"
   ]
  },
  {
   "cell_type": "code",
   "execution_count": null,
   "id": "859f0009",
   "metadata": {},
   "outputs": [],
   "source": [
    "# Last 10 generations\n",
    "# last 10 gens. design points\n",
    "hist = optStudy.algorithm.history\n",
    "if optStudy.algorithm.n_gen > 10:\n",
    "    #### Design Space ####\n",
    "    if optStudy.BaseCase.n_var > 3: # plot without labels\n",
    "        print('CAN NOT REPRESENT OBJECTIVE SPACE IN 3D. Using Pairwise Scatter Plots')\n",
    "        plot = Scatter(figsize=(10, 8))\n",
    "        plot.add(algorithm.pop.get('X')[:10])\n",
    "    # Last 10 generations of objective points\n",
    "    else: \n",
    "        plot = Scatter(title='Last 10 Generations Design Space', legend=True, \n",
    "                       figsize=(10, 8),\n",
    "                       labels=optStudy.BaseCase.var_labels\n",
    "                      )\n",
    "        gen = len(hist)\n",
    "        for g in range(gen-10, gen):\n",
    "            plot.add(hist[g].pop.get('X'), label=f'GEN {g+1}',\n",
    "                     alpha=0.8\n",
    "                    )\n",
    "    # save design space plot\n",
    "    plot.save(os.path.join(optStudy.plotDir, 'final_10_design_space.png'), dpi=100)\n",
    "    plot.show()"
   ]
  },
  {
   "cell_type": "markdown",
   "id": "4d7c70a2",
   "metadata": {},
   "source": [
    "### Last 10 Generation of Objective Space"
   ]
  },
  {
   "cell_type": "code",
   "execution_count": null,
   "id": "e31687c6",
   "metadata": {},
   "outputs": [],
   "source": [
    "### Objective Space ####\n",
    "if optStudy.algorithm.n_gen > 10:\n",
    "    if optStudy.BaseCase.n_obj >3:\n",
    "        plot = Scatter()\n",
    "        plot.add(optStudy.algorithm.pop.get('F')[:10])\n",
    "    else:\n",
    "        # last 10 gens. objective points\n",
    "        plot = Scatter(title='Last 10 Generations Objective Space', \n",
    "                       legend=True, \n",
    "                       labels=optStudy.BaseCase.obj_labels,\n",
    "                       figsize=(10,8)\n",
    "                      )\n",
    "        gen = len(hist)\n",
    "        for g in range(gen-10, gen):\n",
    "            plot.add(hist[g].pop.get('F'), label=f'GEN {g+1}')\n",
    "\n",
    "    # save objective space plot\n",
    "    plot.save(os.path.join(optStudy.plotDir, 'final_10_obj_space.png'), dpi=100)\n",
    "    plot.show()"
   ]
  },
  {
   "cell_type": "markdown",
   "id": "53580589",
   "metadata": {},
   "source": [
    "### Extract Data "
   ]
  },
  {
   "cell_type": "code",
   "execution_count": null,
   "id": "fa10d2d1",
   "metadata": {},
   "outputs": [],
   "source": [
    "checkpoint = optStudy.algorithm"
   ]
  },
  {
   "cell_type": "code",
   "execution_count": null,
   "id": "01822b51",
   "metadata": {},
   "outputs": [],
   "source": [
    "# is the full history of the algorithm saved? \n",
    "print('Checkpoint Objective Population:\\n', checkpoint.pop.get('F')[:5])\n",
    "if np.all(checkpoint.pop.get('F')) is not None: \n",
    "    algorithm = checkpoint\n",
    "    print('Checkpoint @ end of generation')\n",
    "    print(f'     Generation - {algorithm.n_gen}, {algorithm.callback.gen}')\n",
    "else:\n",
    "    print('Checkpoint mid-generation')\n",
    "    print('     \"algorithm\" variable represents last completed generation')\n",
    "    print('     \"algorithm.callback\" unusable with history objects')\n",
    "    algorithm = checkpoint.history[-1]\n",
    "    print(f'     Generation - {algorithm.n_gen}, {algorithm.callback.gen}')"
   ]
  },
  {
   "cell_type": "markdown",
   "id": "395e97e7",
   "metadata": {},
   "source": [
    "# Preperation for Continuation"
   ]
  },
  {
   "cell_type": "code",
   "execution_count": null,
   "id": "572d2858",
   "metadata": {},
   "outputs": [],
   "source": [
    "optStudy.algorithm.termination"
   ]
  },
  {
   "cell_type": "code",
   "execution_count": null,
   "id": "1210976a",
   "metadata": {},
   "outputs": [],
   "source": [
    "from pymoo.factory import get_termination\n",
    "term = get_termination('n_gen', 30)\n",
    "print(term)"
   ]
  },
  {
   "cell_type": "code",
   "execution_count": null,
   "id": "ea7d225b",
   "metadata": {},
   "outputs": [],
   "source": [
    "optStudy.algorithm.termination = term\n",
    "#optStudy.saveCP()"
   ]
  },
  {
   "cell_type": "code",
   "execution_count": null,
   "id": "11e2c46a",
   "metadata": {},
   "outputs": [],
   "source": []
  },
  {
   "cell_type": "code",
   "execution_count": null,
   "id": "caa80952",
   "metadata": {},
   "outputs": [],
   "source": []
  }
 ],
 "metadata": {
  "kernelspec": {
   "display_name": "Python 3 (ipykernel)",
   "language": "python",
   "name": "python3"
  },
  "language_info": {
   "codemirror_mode": {
    "name": "ipython",
    "version": 3
   },
   "file_extension": ".py",
   "mimetype": "text/x-python",
   "name": "python",
   "nbconvert_exporter": "python",
   "pygments_lexer": "ipython3",
   "version": "3.8.10"
  }
 },
 "nbformat": 4,
 "nbformat_minor": 5
}
